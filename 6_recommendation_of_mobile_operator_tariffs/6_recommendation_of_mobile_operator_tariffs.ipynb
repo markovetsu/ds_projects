{
 "cells": [
  {
   "cell_type": "markdown",
   "metadata": {},
   "source": [
    "# Исследовательский проект: рекомендация тарифов оператора мобильной  связи \"Мегалайн\""
   ]
  },
  {
   "cell_type": "markdown",
   "metadata": {},
   "source": [
    "# Описание проекта:\n",
    "\n",
    "Оператор мобильной связи «Мегалайн» выяснил: многие клиенты пользуются архивными тарифами. Они хотят построить систему, способную проанализировать поведение клиентов и предложить пользователям новый тариф: «Смарт» или «Ультра».\n",
    "\n",
    "В вашем распоряжении данные о поведении клиентов, которые уже перешли на эти тарифы. Нужно построить модель для задачи классификации, которая выберет подходящий тариф. Предобработка данных не понадобится — она уже была сделана.\n",
    "\n",
    "Следует построить модель с максимально большим значением *accuracy*. Чтобы проект считался успешно сданным, нужно довести долю правильных ответов по крайней мере до 0.75. Проверка *accuracy* на тестовой выборке проходит самостоятельно."
   ]
  },
  {
   "cell_type": "markdown",
   "metadata": {},
   "source": [
    "# Описание данных:\n",
    "\n",
    "Каждый объект в наборе данных — это информация о поведении одного пользователя за месяц. Известно:\n",
    "\n",
    "   `сalls` — количество звонков;\n",
    "\n",
    "   `minutes` — суммарная длительность звонков в минутах;\n",
    "\n",
    "   `messages` — количество sms-сообщений;\n",
    "\n",
    "   `mb_used` — израсходованный интернет-трафик в Мб;\n",
    "\n",
    "   `is_ultra` — каким тарифом пользовался в течение месяца («Ультра» — 1, «Смарт» — 0);"
   ]
  },
  {
   "cell_type": "markdown",
   "metadata": {},
   "source": [
    "## Откроем и изучим файл"
   ]
  },
  {
   "cell_type": "code",
   "execution_count": 1,
   "metadata": {},
   "outputs": [],
   "source": [
    "from tqdm import tqdm\n",
    "from sklearn import tree\n",
    "from sklearn.metrics import accuracy_score\n",
    "from sklearn.tree import DecisionTreeClassifier\n",
    "from sklearn.ensemble import RandomForestClassifier\n",
    "from sklearn.model_selection import train_test_split\n",
    "from sklearn.dummy import DummyClassifier\n",
    "from sklearn.model_selection import GridSearchCV\n",
    "from sklearn.metrics import confusion_matrix\n",
    "from sklearn.neighbors import KNeighborsClassifier\n",
    "\n",
    "import pandas as pd\n",
    "import numpy as np\n",
    "import matplotlib.pyplot as plt\n",
    "import warnings\n",
    "\n",
    "warnings.filterwarnings(\"ignore\")"
   ]
  },
  {
   "cell_type": "code",
   "execution_count": 2,
   "metadata": {},
   "outputs": [],
   "source": [
    "try:\n",
    "    df = pd.read_csv('/datasets/users_behavior.csv')\n",
    "except:\n",
    "    print('Проверьте корретность к пути файлу или наличие самого файла в каталоге!')"
   ]
  },
  {
   "cell_type": "code",
   "execution_count": 3,
   "metadata": {},
   "outputs": [
    {
     "data": {
      "text/html": [
       "<div>\n",
       "<style scoped>\n",
       "    .dataframe tbody tr th:only-of-type {\n",
       "        vertical-align: middle;\n",
       "    }\n",
       "\n",
       "    .dataframe tbody tr th {\n",
       "        vertical-align: top;\n",
       "    }\n",
       "\n",
       "    .dataframe thead th {\n",
       "        text-align: right;\n",
       "    }\n",
       "</style>\n",
       "<table border=\"1\" class=\"dataframe\">\n",
       "  <thead>\n",
       "    <tr style=\"text-align: right;\">\n",
       "      <th></th>\n",
       "      <th>calls</th>\n",
       "      <th>minutes</th>\n",
       "      <th>messages</th>\n",
       "      <th>mb_used</th>\n",
       "      <th>is_ultra</th>\n",
       "    </tr>\n",
       "  </thead>\n",
       "  <tbody>\n",
       "    <tr>\n",
       "      <th>0</th>\n",
       "      <td>40.0</td>\n",
       "      <td>311.90</td>\n",
       "      <td>83.0</td>\n",
       "      <td>19915.42</td>\n",
       "      <td>0</td>\n",
       "    </tr>\n",
       "    <tr>\n",
       "      <th>1</th>\n",
       "      <td>85.0</td>\n",
       "      <td>516.75</td>\n",
       "      <td>56.0</td>\n",
       "      <td>22696.96</td>\n",
       "      <td>0</td>\n",
       "    </tr>\n",
       "    <tr>\n",
       "      <th>2</th>\n",
       "      <td>77.0</td>\n",
       "      <td>467.66</td>\n",
       "      <td>86.0</td>\n",
       "      <td>21060.45</td>\n",
       "      <td>0</td>\n",
       "    </tr>\n",
       "    <tr>\n",
       "      <th>3</th>\n",
       "      <td>106.0</td>\n",
       "      <td>745.53</td>\n",
       "      <td>81.0</td>\n",
       "      <td>8437.39</td>\n",
       "      <td>1</td>\n",
       "    </tr>\n",
       "    <tr>\n",
       "      <th>4</th>\n",
       "      <td>66.0</td>\n",
       "      <td>418.74</td>\n",
       "      <td>1.0</td>\n",
       "      <td>14502.75</td>\n",
       "      <td>0</td>\n",
       "    </tr>\n",
       "  </tbody>\n",
       "</table>\n",
       "</div>"
      ],
      "text/plain": [
       "   calls  minutes  messages   mb_used  is_ultra\n",
       "0   40.0   311.90      83.0  19915.42         0\n",
       "1   85.0   516.75      56.0  22696.96         0\n",
       "2   77.0   467.66      86.0  21060.45         0\n",
       "3  106.0   745.53      81.0   8437.39         1\n",
       "4   66.0   418.74       1.0  14502.75         0"
      ]
     },
     "execution_count": 3,
     "metadata": {},
     "output_type": "execute_result"
    }
   ],
   "source": [
    "df.head()"
   ]
  },
  {
   "cell_type": "code",
   "execution_count": 4,
   "metadata": {},
   "outputs": [
    {
     "name": "stdout",
     "output_type": "stream",
     "text": [
      "<class 'pandas.core.frame.DataFrame'>\n",
      "RangeIndex: 3214 entries, 0 to 3213\n",
      "Data columns (total 5 columns):\n",
      " #   Column    Non-Null Count  Dtype  \n",
      "---  ------    --------------  -----  \n",
      " 0   calls     3214 non-null   float64\n",
      " 1   minutes   3214 non-null   float64\n",
      " 2   messages  3214 non-null   float64\n",
      " 3   mb_used   3214 non-null   float64\n",
      " 4   is_ultra  3214 non-null   int64  \n",
      "dtypes: float64(4), int64(1)\n",
      "memory usage: 125.7 KB\n"
     ]
    }
   ],
   "source": [
    "df.info()"
   ]
  },
  {
   "cell_type": "code",
   "execution_count": 5,
   "metadata": {},
   "outputs": [
    {
     "data": {
      "text/plain": [
       "calls       0\n",
       "minutes     0\n",
       "messages    0\n",
       "mb_used     0\n",
       "is_ultra    0\n",
       "dtype: int64"
      ]
     },
     "execution_count": 5,
     "metadata": {},
     "output_type": "execute_result"
    }
   ],
   "source": [
    "df.isna().sum()"
   ]
  },
  {
   "cell_type": "code",
   "execution_count": 6,
   "metadata": {},
   "outputs": [
    {
     "name": "stdout",
     "output_type": "stream",
     "text": [
      "Кол-во дубликтов для столбца calls равняется 3030\n",
      "Кол-во дубликтов для столбца minutes равняется 70\n",
      "Кол-во дубликтов для столбца messages равняется 3034\n",
      "Кол-во дубликтов для столбца mb_used равняется 11\n",
      "Кол-во дубликтов для столбца is_ultra равняется 3212\n"
     ]
    }
   ],
   "source": [
    "for x in df.columns:\n",
    "    print(\"Кол-во дубликтов для столбца\", x, \"равняется\", df[x].duplicated().sum())"
   ]
  },
  {
   "cell_type": "code",
   "execution_count": 7,
   "metadata": {
    "scrolled": false
   },
   "outputs": [
    {
     "data": {
      "image/png": "[encoded data removed]",
      "text/plain": [
       "<Figure size 1080x1440 with 6 Axes>"
      ]
     },
     "metadata": {
      "needs_background": "light"
     },
     "output_type": "display_data"
    }
   ],
   "source": [
    "df.hist(figsize=(15,20))\n",
    "plt.show()"
   ]
  },
  {
   "cell_type": "code",
   "execution_count": 8,
   "metadata": {},
   "outputs": [
    {
     "data": {
      "text/html": [
       "<div>\n",
       "<style scoped>\n",
       "    .dataframe tbody tr th:only-of-type {\n",
       "        vertical-align: middle;\n",
       "    }\n",
       "\n",
       "    .dataframe tbody tr th {\n",
       "        vertical-align: top;\n",
       "    }\n",
       "\n",
       "    .dataframe thead th {\n",
       "        text-align: right;\n",
       "    }\n",
       "</style>\n",
       "<table border=\"1\" class=\"dataframe\">\n",
       "  <thead>\n",
       "    <tr style=\"text-align: right;\">\n",
       "      <th></th>\n",
       "      <th>calls</th>\n",
       "      <th>minutes</th>\n",
       "      <th>messages</th>\n",
       "      <th>mb_used</th>\n",
       "      <th>is_ultra</th>\n",
       "    </tr>\n",
       "  </thead>\n",
       "  <tbody>\n",
       "    <tr>\n",
       "      <th>count</th>\n",
       "      <td>3214.000000</td>\n",
       "      <td>3214.000000</td>\n",
       "      <td>3214.000000</td>\n",
       "      <td>3214.000000</td>\n",
       "      <td>3214.000000</td>\n",
       "    </tr>\n",
       "    <tr>\n",
       "      <th>mean</th>\n",
       "      <td>63.038892</td>\n",
       "      <td>438.208787</td>\n",
       "      <td>38.281269</td>\n",
       "      <td>17207.673836</td>\n",
       "      <td>0.306472</td>\n",
       "    </tr>\n",
       "    <tr>\n",
       "      <th>std</th>\n",
       "      <td>33.236368</td>\n",
       "      <td>234.569872</td>\n",
       "      <td>36.148326</td>\n",
       "      <td>7570.968246</td>\n",
       "      <td>0.461100</td>\n",
       "    </tr>\n",
       "    <tr>\n",
       "      <th>min</th>\n",
       "      <td>0.000000</td>\n",
       "      <td>0.000000</td>\n",
       "      <td>0.000000</td>\n",
       "      <td>0.000000</td>\n",
       "      <td>0.000000</td>\n",
       "    </tr>\n",
       "    <tr>\n",
       "      <th>25%</th>\n",
       "      <td>40.000000</td>\n",
       "      <td>274.575000</td>\n",
       "      <td>9.000000</td>\n",
       "      <td>12491.902500</td>\n",
       "      <td>0.000000</td>\n",
       "    </tr>\n",
       "    <tr>\n",
       "      <th>50%</th>\n",
       "      <td>62.000000</td>\n",
       "      <td>430.600000</td>\n",
       "      <td>30.000000</td>\n",
       "      <td>16943.235000</td>\n",
       "      <td>0.000000</td>\n",
       "    </tr>\n",
       "    <tr>\n",
       "      <th>75%</th>\n",
       "      <td>82.000000</td>\n",
       "      <td>571.927500</td>\n",
       "      <td>57.000000</td>\n",
       "      <td>21424.700000</td>\n",
       "      <td>1.000000</td>\n",
       "    </tr>\n",
       "    <tr>\n",
       "      <th>max</th>\n",
       "      <td>244.000000</td>\n",
       "      <td>1632.060000</td>\n",
       "      <td>224.000000</td>\n",
       "      <td>49745.730000</td>\n",
       "      <td>1.000000</td>\n",
       "    </tr>\n",
       "  </tbody>\n",
       "</table>\n",
       "</div>"
      ],
      "text/plain": [
       "             calls      minutes     messages       mb_used     is_ultra\n",
       "count  3214.000000  3214.000000  3214.000000   3214.000000  3214.000000\n",
       "mean     63.038892   438.208787    38.281269  17207.673836     0.306472\n",
       "std      33.236368   234.569872    36.148326   7570.968246     0.461100\n",
       "min       0.000000     0.000000     0.000000      0.000000     0.000000\n",
       "25%      40.000000   274.575000     9.000000  12491.902500     0.000000\n",
       "50%      62.000000   430.600000    30.000000  16943.235000     0.000000\n",
       "75%      82.000000   571.927500    57.000000  21424.700000     1.000000\n",
       "max     244.000000  1632.060000   224.000000  49745.730000     1.000000"
      ]
     },
     "execution_count": 8,
     "metadata": {},
     "output_type": "execute_result"
    }
   ],
   "source": [
    "df.describe()"
   ]
  },
  {
   "cell_type": "markdown",
   "metadata": {},
   "source": [
    "**Промежуточные выводы:**\n",
    "\n",
    "1. Увидели, что тех кто пользуется тарифом \"Смарт\" чуть больше в два раза, чем тех клиентов, которые пользуются тарифом \"Ультра\"\n",
    "2. Понимаем, что единственная категориальная переменная для нас в датасете - это 'is_ultra'\n",
    "3. Отсутсвуют пропуски и присутствуют во всех столбцах явные дубликаты\n",
    "4. Типы переменных в столбцах у нас - числовые\n",
    "5. Значения столбцов 'calls', 'minutes', 'mb_used' - более близки к нормальному распределению, в отличии от 'is_ultra' и 'messages'"
   ]
  },
  {
   "cell_type": "markdown",
   "metadata": {},
   "source": [
    "## Разобьем данные на выборки"
   ]
  },
  {
   "cell_type": "markdown",
   "metadata": {},
   "source": [
    "    Необходимо разбить датасет на тренировочную, валидационную и тестовую выборку, для того чтобы проверить есть ли у модели  \n",
    "    переобучение или недообучение. \n",
    "\n",
    "    Алгоритм и включенные в него методы на которых, благодаря чему возможны предсказания значений - и будет для нас   \n",
    "    представляться как пригодная модель."
   ]
  },
  {
   "cell_type": "code",
   "execution_count": 9,
   "metadata": {},
   "outputs": [],
   "source": [
    "features = df.drop(['is_ultra'], axis=1)\n",
    "target = df['is_ultra'] "
   ]
  },
  {
   "cell_type": "markdown",
   "metadata": {},
   "source": [
    "Следует использовать соотношение 3:1:1, которая выражается как:\n",
    "\n",
    "     1. Обучающая (train 60% выборки);\n",
    "     2. Валидационная (valid 20% выборки);\n",
    "     3. Тестовая (test 20% выборки );"
   ]
  },
  {
   "cell_type": "code",
   "execution_count": 22,
   "metadata": {},
   "outputs": [],
   "source": [
    "features_train, features_test, target_train, target_test = train_test_split(features, target, \n",
    "                                                                                      train_size=0.6, \n",
    "                                                                                      random_state=42,\n",
    "                                                                                      stratify=target)"
   ]
  },
  {
   "cell_type": "code",
   "execution_count": 23,
   "metadata": {},
   "outputs": [],
   "source": [
    "features_test, features_validate, target_test, target_validate = train_test_split(features_test, target_test, \n",
    "                                                                                      train_size=0.5, \n",
    "                                                                                      random_state=42,\n",
    "                                                                                      stratify=target_test)"
   ]
  },
  {
   "cell_type": "code",
   "execution_count": 24,
   "metadata": {},
   "outputs": [
    {
     "data": {
      "text/plain": [
       "985"
      ]
     },
     "execution_count": 24,
     "metadata": {},
     "output_type": "execute_result"
    }
   ],
   "source": [
    "df['is_ultra'].sum()"
   ]
  },
  {
   "cell_type": "code",
   "execution_count": 25,
   "metadata": {},
   "outputs": [
    {
     "data": {
      "text/plain": [
       "591"
      ]
     },
     "execution_count": 25,
     "metadata": {},
     "output_type": "execute_result"
    }
   ],
   "source": [
    "target_train.sum() "
   ]
  },
  {
   "cell_type": "code",
   "execution_count": 26,
   "metadata": {},
   "outputs": [
    {
     "data": {
      "text/plain": [
       "197"
      ]
     },
     "execution_count": 26,
     "metadata": {},
     "output_type": "execute_result"
    }
   ],
   "source": [
    "target_test.sum() "
   ]
  },
  {
   "cell_type": "code",
   "execution_count": 27,
   "metadata": {},
   "outputs": [
    {
     "data": {
      "text/plain": [
       "197"
      ]
     },
     "execution_count": 27,
     "metadata": {},
     "output_type": "execute_result"
    }
   ],
   "source": [
    "target_validate.sum() "
   ]
  },
  {
   "cell_type": "markdown",
   "metadata": {},
   "source": [
    "## Построим модели"
   ]
  },
  {
   "cell_type": "markdown",
   "metadata": {},
   "source": [
    "    Понимаем, что для Категориальных данных применимы лишь определенные методы предсказания, и в нашем случае у нас бинарная  \n",
    "    классификация для целевого признака (таргета) - 0 или 1\n",
    "\n",
    "    Рассмотрим две различные модели: Решающее дерево и Случайный леc\n",
    "\n",
    "    Для каждого из них изменим в циклах два количественных гиперпараметра, и один выбранный критерий отдельно, - после можем \n",
    "    выбрать для себя лучшие гиперпараметры на основании accuracy_score, более приближеннной к 1"
   ]
  },
  {
   "cell_type": "markdown",
   "metadata": {},
   "source": [
    "**Решающее дерево на валидационной выборке:**"
   ]
  },
  {
   "cell_type": "code",
   "execution_count": 28,
   "metadata": {},
   "outputs": [
    {
     "name": "stderr",
     "output_type": "stream",
     "text": [
      "100%|██████████| 5/5 [00:00<00:00, 213.47it/s]\n"
     ]
    },
    {
     "name": "stdout",
     "output_type": "stream",
     "text": [
      "min_samples_split= 2      max_depth = 1     accuracy_score: 0.749611197511664\n",
      "min_samples_split= 3      max_depth = 1     accuracy_score: 0.749611197511664\n",
      "min_samples_split= 4      max_depth = 1     accuracy_score: 0.749611197511664\n",
      "min_samples_split= 5      max_depth = 1     accuracy_score: 0.749611197511664\n",
      "min_samples_split= 6      max_depth = 1     accuracy_score: 0.749611197511664\n"
     ]
    },
    {
     "name": "stderr",
     "output_type": "stream",
     "text": [
      "100%|██████████| 5/5 [00:00<00:00, 192.28it/s]\n"
     ]
    },
    {
     "name": "stdout",
     "output_type": "stream",
     "text": [
      "min_samples_split= 2      max_depth = 2     accuracy_score: 0.7744945567651633\n",
      "min_samples_split= 3      max_depth = 2     accuracy_score: 0.7744945567651633\n",
      "min_samples_split= 4      max_depth = 2     accuracy_score: 0.7744945567651633\n",
      "min_samples_split= 5      max_depth = 2     accuracy_score: 0.7744945567651633\n",
      "min_samples_split= 6      max_depth = 2     accuracy_score: 0.7744945567651633\n"
     ]
    },
    {
     "name": "stderr",
     "output_type": "stream",
     "text": [
      "100%|██████████| 5/5 [00:00<00:00, 85.78it/s]\n"
     ]
    },
    {
     "name": "stdout",
     "output_type": "stream",
     "text": [
      "min_samples_split= 2      max_depth = 3     accuracy_score: 0.7838258164852255\n",
      "min_samples_split= 3      max_depth = 3     accuracy_score: 0.7838258164852255\n",
      "min_samples_split= 4      max_depth = 3     accuracy_score: 0.7838258164852255\n",
      "min_samples_split= 5      max_depth = 3     accuracy_score: 0.7838258164852255\n",
      "min_samples_split= 6      max_depth = 3     accuracy_score: 0.7838258164852255\n"
     ]
    },
    {
     "name": "stderr",
     "output_type": "stream",
     "text": [
      "100%|██████████| 5/5 [00:00<00:00, 149.86it/s]\n"
     ]
    },
    {
     "name": "stdout",
     "output_type": "stream",
     "text": [
      "min_samples_split= 2      max_depth = 4     accuracy_score: 0.7900466562986003\n",
      "min_samples_split= 3      max_depth = 4     accuracy_score: 0.7900466562986003\n",
      "min_samples_split= 4      max_depth = 4     accuracy_score: 0.7900466562986003\n",
      "min_samples_split= 5      max_depth = 4     accuracy_score: 0.7900466562986003\n",
      "min_samples_split= 6      max_depth = 4     accuracy_score: 0.7900466562986003\n"
     ]
    },
    {
     "name": "stderr",
     "output_type": "stream",
     "text": [
      "100%|██████████| 5/5 [00:00<00:00, 96.57it/s]"
     ]
    },
    {
     "name": "stdout",
     "output_type": "stream",
     "text": [
      "min_samples_split= 2      max_depth = 5     accuracy_score: 0.7931570762052877\n",
      "min_samples_split= 3      max_depth = 5     accuracy_score: 0.7931570762052877\n",
      "min_samples_split= 4      max_depth = 5     accuracy_score: 0.7931570762052877\n",
      "min_samples_split= 5      max_depth = 5     accuracy_score: 0.7931570762052877\n",
      "min_samples_split= 6      max_depth = 5     accuracy_score: 0.7931570762052877\n",
      "\n",
      "Наилучшая модель на валидационной выборке: 0.7931570762052877 Глубина дерева: 5 Минимальное число разделений: 2\n",
      "Использовался критерий 'gini'\n",
      "CPU times: user 161 ms, sys: 16.6 ms, total: 178 ms\n",
      "Wall time: 203 ms\n"
     ]
    },
    {
     "name": "stderr",
     "output_type": "stream",
     "text": [
      "\n"
     ]
    }
   ],
   "source": [
    "%%time \n",
    "max_depth = None\n",
    "min_samples_split = None\n",
    "best_result = 0\n",
    "best_depth = 0\n",
    "best_msp = 0\n",
    "for depth in range(1, 6):\n",
    "    for msp in tqdm(range(2, 7)): # tqdm будет показывать время выполнения когда проходимся по циклу\n",
    "        model = DecisionTreeClassifier(random_state=12345, max_depth=depth, criterion='gini', min_samples_split=msp) # инициализируем модель DecisionTreeClassifier с параметрами проходящими по циклу\n",
    "        model = model.fit(features_train, target_train) # обучим модель на тренировочной выборке\n",
    "        predictions_valid = model.predict(features_validate) # получим предсказания модели на валидационной выборке\n",
    "        print(\"min_samples_split=\", msp, \"     max_depth =\", depth, \"    accuracy_score: \", end='')\n",
    "        result = accuracy_score(target_validate, predictions_valid) # посчитаем значение метрики  accuracy_score на валидационной выборке\n",
    "        print(accuracy_score(target_validate, predictions_valid))\n",
    "        if result > best_result:\n",
    "            best_model = model\n",
    "            best_result = result\n",
    "            best_depth = depth\n",
    "            best_msp = msp\n",
    "            \n",
    "print()\n",
    "print(\"Наилучшая модель на валидационной выборке:\", best_result, \"Глубина дерева:\", best_depth, \"Минимальное число разделений:\", best_msp)\n",
    "print(\"Использовался критерий 'gini'\")\n",
    "# %%time измерит в конце время ожидания и выполнения "
   ]
  },
  {
   "cell_type": "code",
   "execution_count": 29,
   "metadata": {},
   "outputs": [
    {
     "data": {
      "text/plain": [
       "[Text(1698.2608695652173, 1793.88, 'X[3] <= 26262.681\\ngini = 0.425\\nsamples = 1928\\nvalue = [1337, 591]'),\n",
       " Text(970.4347826086956, 1467.72, 'X[1] <= 728.425\\ngini = 0.379\\nsamples = 1739\\nvalue = [1298, 441]'),\n",
       " Text(485.2173913043478, 1141.56, 'X[2] <= 117.5\\ngini = 0.329\\nsamples = 1579\\nvalue = [1251, 328]'),\n",
       " Text(242.6086956521739, 815.3999999999999, 'X[3] <= 11179.0\\ngini = 0.313\\nsamples = 1549\\nvalue = [1248, 301]'),\n",
       " Text(121.30434782608695, 489.24, 'X[3] <= 632.39\\ngini = 0.452\\nsamples = 359\\nvalue = [235, 124]'),\n",
       " Text(60.65217391304348, 163.07999999999993, 'gini = 0.133\\nsamples = 14\\nvalue = [1, 13]'),\n",
       " Text(181.95652173913044, 163.07999999999993, 'gini = 0.436\\nsamples = 345\\nvalue = [234, 111]'),\n",
       " Text(363.9130434782609, 489.24, 'X[0] <= 0.5\\ngini = 0.253\\nsamples = 1190\\nvalue = [1013, 177]'),\n",
       " Text(303.2608695652174, 163.07999999999993, 'gini = 0.278\\nsamples = 18\\nvalue = [3, 15]'),\n",
       " Text(424.5652173913043, 163.07999999999993, 'gini = 0.238\\nsamples = 1172\\nvalue = [1010, 162]'),\n",
       " Text(727.8260869565217, 815.3999999999999, 'X[0] <= 69.5\\ngini = 0.18\\nsamples = 30\\nvalue = [3, 27]'),\n",
       " Text(606.5217391304348, 489.24, 'X[2] <= 123.5\\ngini = 0.087\\nsamples = 22\\nvalue = [1, 21]'),\n",
       " Text(545.8695652173913, 163.07999999999993, 'gini = 0.375\\nsamples = 4\\nvalue = [1, 3]'),\n",
       " Text(667.1739130434783, 163.07999999999993, 'gini = 0.0\\nsamples = 18\\nvalue = [0, 18]'),\n",
       " Text(849.1304347826086, 489.24, 'X[0] <= 76.0\\ngini = 0.375\\nsamples = 8\\nvalue = [2, 6]'),\n",
       " Text(788.4782608695652, 163.07999999999993, 'gini = 0.0\\nsamples = 2\\nvalue = [2, 0]'),\n",
       " Text(909.7826086956521, 163.07999999999993, 'gini = 0.0\\nsamples = 6\\nvalue = [0, 6]'),\n",
       " Text(1455.6521739130435, 1141.56, 'X[0] <= 127.5\\ngini = 0.415\\nsamples = 160\\nvalue = [47, 113]'),\n",
       " Text(1213.0434782608695, 815.3999999999999, 'X[3] <= 12885.375\\ngini = 0.478\\nsamples = 114\\nvalue = [45, 69]'),\n",
       " Text(1091.7391304347825, 489.24, 'X[0] <= 117.5\\ngini = 0.198\\nsamples = 27\\nvalue = [3, 24]'),\n",
       " Text(1031.086956521739, 163.07999999999993, 'gini = 0.0\\nsamples = 19\\nvalue = [0, 19]'),\n",
       " Text(1152.391304347826, 163.07999999999993, 'gini = 0.469\\nsamples = 8\\nvalue = [3, 5]'),\n",
       " Text(1334.3478260869565, 489.24, 'X[0] <= 125.5\\ngini = 0.499\\nsamples = 87\\nvalue = [42, 45]'),\n",
       " Text(1273.695652173913, 163.07999999999993, 'gini = 0.495\\nsamples = 82\\nvalue = [37, 45]'),\n",
       " Text(1395.0, 163.07999999999993, 'gini = 0.0\\nsamples = 5\\nvalue = [5, 0]'),\n",
       " Text(1698.2608695652173, 815.3999999999999, 'X[1] <= 1372.485\\ngini = 0.083\\nsamples = 46\\nvalue = [2, 44]'),\n",
       " Text(1576.9565217391305, 489.24, 'X[1] <= 864.685\\ngini = 0.044\\nsamples = 44\\nvalue = [1, 43]'),\n",
       " Text(1516.304347826087, 163.07999999999993, 'gini = 0.375\\nsamples = 4\\nvalue = [1, 3]'),\n",
       " Text(1637.6086956521738, 163.07999999999993, 'gini = 0.0\\nsamples = 40\\nvalue = [0, 40]'),\n",
       " Text(1819.5652173913043, 489.24, 'X[2] <= 42.0\\ngini = 0.5\\nsamples = 2\\nvalue = [1, 1]'),\n",
       " Text(1758.9130434782608, 163.07999999999993, 'gini = 0.0\\nsamples = 1\\nvalue = [0, 1]'),\n",
       " Text(1880.2173913043478, 163.07999999999993, 'gini = 0.0\\nsamples = 1\\nvalue = [1, 0]'),\n",
       " Text(2426.086956521739, 1467.72, 'X[3] <= 28865.81\\ngini = 0.328\\nsamples = 189\\nvalue = [39, 150]'),\n",
       " Text(2183.478260869565, 1141.56, 'X[1] <= 566.805\\ngini = 0.432\\nsamples = 76\\nvalue = [24, 52]'),\n",
       " Text(2001.5217391304348, 815.3999999999999, 'X[0] <= 16.5\\ngini = 0.494\\nsamples = 47\\nvalue = [21, 26]'),\n",
       " Text(1940.8695652173913, 489.24, 'gini = 0.0\\nsamples = 5\\nvalue = [0, 5]'),\n",
       " Text(2062.173913043478, 489.24, 'X[2] <= 101.0\\ngini = 0.5\\nsamples = 42\\nvalue = [21, 21]'),\n",
       " Text(2001.5217391304348, 163.07999999999993, 'gini = 0.497\\nsamples = 39\\nvalue = [21, 18]'),\n",
       " Text(2122.8260869565215, 163.07999999999993, 'gini = 0.0\\nsamples = 3\\nvalue = [0, 3]'),\n",
       " Text(2365.4347826086955, 815.3999999999999, 'X[3] <= 28752.465\\ngini = 0.185\\nsamples = 29\\nvalue = [3, 26]'),\n",
       " Text(2304.782608695652, 489.24, 'X[2] <= 37.5\\ngini = 0.133\\nsamples = 28\\nvalue = [2, 26]'),\n",
       " Text(2244.1304347826085, 163.07999999999993, 'gini = 0.32\\nsamples = 10\\nvalue = [2, 8]'),\n",
       " Text(2365.4347826086955, 163.07999999999993, 'gini = 0.0\\nsamples = 18\\nvalue = [0, 18]'),\n",
       " Text(2426.086956521739, 489.24, 'gini = 0.0\\nsamples = 1\\nvalue = [1, 0]'),\n",
       " Text(2668.695652173913, 1141.56, 'X[3] <= 38731.316\\ngini = 0.23\\nsamples = 113\\nvalue = [15, 98]'),\n",
       " Text(2608.0434782608695, 815.3999999999999, 'X[3] <= 38460.6\\ngini = 0.278\\nsamples = 90\\nvalue = [15, 75]'),\n",
       " Text(2547.391304347826, 489.24, 'X[2] <= 25.5\\ngini = 0.265\\nsamples = 89\\nvalue = [14, 75]'),\n",
       " Text(2486.7391304347825, 163.07999999999993, 'gini = 0.383\\nsamples = 31\\nvalue = [8, 23]'),\n",
       " Text(2608.0434782608695, 163.07999999999993, 'gini = 0.185\\nsamples = 58\\nvalue = [6, 52]'),\n",
       " Text(2668.695652173913, 489.24, 'gini = 0.0\\nsamples = 1\\nvalue = [1, 0]'),\n",
       " Text(2729.3478260869565, 815.3999999999999, 'gini = 0.0\\nsamples = 23\\nvalue = [0, 23]')]"
      ]
     },
     "execution_count": 29,
     "metadata": {},
     "output_type": "execute_result"
    },
    {
     "data": {
      "image/png": "[encoded data removed]",
      "text/plain": [
       "<Figure size 3600x2592 with 1 Axes>"
      ]
     },
     "metadata": {
      "needs_background": "light"
     },
     "output_type": "display_data"
    }
   ],
   "source": [
    "plt.figure(figsize=(50,36))\n",
    "tree.plot_tree(best_model, filled=True) "
   ]
  },
  {
   "cell_type": "code",
   "execution_count": 30,
   "metadata": {},
   "outputs": [
    {
     "name": "stderr",
     "output_type": "stream",
     "text": [
      "100%|██████████| 5/5 [00:00<00:00, 175.23it/s]\n"
     ]
    },
    {
     "name": "stdout",
     "output_type": "stream",
     "text": [
      "min_samples_split= 2      max_depth = 1     accuracy_score: 0.749611197511664\n",
      "min_samples_split= 3      max_depth = 1     accuracy_score: 0.749611197511664\n",
      "min_samples_split= 4      max_depth = 1     accuracy_score: 0.749611197511664\n",
      "min_samples_split= 5      max_depth = 1     accuracy_score: 0.749611197511664\n",
      "min_samples_split= 6      max_depth = 1     accuracy_score: 0.749611197511664\n"
     ]
    },
    {
     "name": "stderr",
     "output_type": "stream",
     "text": [
      "100%|██████████| 5/5 [00:00<00:00, 153.22it/s]\n"
     ]
    },
    {
     "name": "stdout",
     "output_type": "stream",
     "text": [
      "min_samples_split= 2      max_depth = 2     accuracy_score: 0.7744945567651633\n",
      "min_samples_split= 3      max_depth = 2     accuracy_score: 0.7744945567651633\n",
      "min_samples_split= 4      max_depth = 2     accuracy_score: 0.7744945567651633\n",
      "min_samples_split= 5      max_depth = 2     accuracy_score: 0.7744945567651633\n",
      "min_samples_split= 6      max_depth = 2     accuracy_score: 0.7744945567651633\n"
     ]
    },
    {
     "name": "stderr",
     "output_type": "stream",
     "text": [
      "100%|██████████| 5/5 [00:00<00:00, 94.99it/s]\n"
     ]
    },
    {
     "name": "stdout",
     "output_type": "stream",
     "text": [
      "min_samples_split= 2      max_depth = 3     accuracy_score: 0.7838258164852255\n",
      "min_samples_split= 3      max_depth = 3     accuracy_score: 0.7838258164852255\n",
      "min_samples_split= 4      max_depth = 3     accuracy_score: 0.7838258164852255\n",
      "min_samples_split= 5      max_depth = 3     accuracy_score: 0.7838258164852255\n",
      "min_samples_split= 6      max_depth = 3     accuracy_score: 0.7838258164852255\n"
     ]
    },
    {
     "name": "stderr",
     "output_type": "stream",
     "text": [
      "100%|██████████| 5/5 [00:00<00:00, 127.08it/s]\n"
     ]
    },
    {
     "name": "stdout",
     "output_type": "stream",
     "text": [
      "min_samples_split= 2      max_depth = 4     accuracy_score: 0.7838258164852255\n",
      "min_samples_split= 3      max_depth = 4     accuracy_score: 0.7838258164852255\n",
      "min_samples_split= 4      max_depth = 4     accuracy_score: 0.7838258164852255\n",
      "min_samples_split= 5      max_depth = 4     accuracy_score: 0.7838258164852255\n",
      "min_samples_split= 6      max_depth = 4     accuracy_score: 0.7838258164852255\n"
     ]
    },
    {
     "name": "stderr",
     "output_type": "stream",
     "text": [
      "  0%|          | 0/5 [00:00<?, ?it/s]"
     ]
    },
    {
     "name": "stdout",
     "output_type": "stream",
     "text": [
      "min_samples_split= 2      max_depth = 5     accuracy_score: 0.7869362363919129\n",
      "min_samples_split= 3      max_depth = 5     accuracy_score: 0.7869362363919129\n",
      "min_samples_split= 4      max_depth = 5     accuracy_score: 0.7869362363919129\n",
      "min_samples_split= 5      max_depth = 5     accuracy_score: "
     ]
    },
    {
     "name": "stderr",
     "output_type": "stream",
     "text": [
      "100%|██████████| 5/5 [00:00<00:00, 87.32it/s]"
     ]
    },
    {
     "name": "stdout",
     "output_type": "stream",
     "text": [
      "0.7869362363919129\n",
      "min_samples_split= 6      max_depth = 5     accuracy_score: 0.7869362363919129\n",
      "\n",
      "Наилучшая модель на валидационной выборке: 0.7869362363919129 Глубина дерева: 5 Минимальное число разделений: 2\n",
      "Использовался критерий 'entropy'\n",
      "CPU times: user 197 ms, sys: 12.8 ms, total: 210 ms\n",
      "Wall time: 222 ms\n"
     ]
    },
    {
     "name": "stderr",
     "output_type": "stream",
     "text": [
      "\n"
     ]
    }
   ],
   "source": [
    "%%time \n",
    "max_depth = None\n",
    "min_samples_split = None\n",
    "best_result = 0\n",
    "best_depth = 0\n",
    "best_msp = 0\n",
    "for depth in range(1, 6):\n",
    "    for msp in tqdm(range(2, 7)): # tqdm будет показывать время выполнения когда проходимся по циклу\n",
    "        model = DecisionTreeClassifier(random_state=12345, max_depth=depth,  criterion=\"entropy\", min_samples_split=msp) # инициализируем модель DecisionTreeClassifier с параметрами проходящими по цикл\n",
    "        model = model.fit(features_train, target_train)  # обучим модель на тренировочной выборке\n",
    "        predictions_valid = model.predict(features_validate) # получим предсказания модели на валидационной выборке\n",
    "        print(\"min_samples_split=\", msp, \"     max_depth =\", depth, \"    accuracy_score: \", end='')\n",
    "        result = accuracy_score(target_validate, predictions_valid) # посчитаем значение метрики  accuracy_score на валидационной выборке\n",
    "        print(accuracy_score(target_validate, predictions_valid))\n",
    "        if result > best_result:\n",
    "            best_model = model\n",
    "            best_result = result\n",
    "            best_depth = depth\n",
    "            best_msp = msp\n",
    "            \n",
    "    \n",
    "print()\n",
    "print(\"Наилучшая модель на валидационной выборке:\", best_result, \"Глубина дерева:\", best_depth, \"Минимальное число разделений:\", best_msp)\n",
    "print(\"Использовался критерий 'entropy'\")\n",
    "# %%time измерит в конце время ожидания и выполнения "
   ]
  },
  {
   "cell_type": "markdown",
   "metadata": {},
   "source": [
    "**Случайный лес на валидационной выборке:**"
   ]
  },
  {
   "cell_type": "code",
   "execution_count": 31,
   "metadata": {},
   "outputs": [
    {
     "name": "stderr",
     "output_type": "stream",
     "text": [
      "  0%|          | 0/6 [00:00<?, ?it/s]"
     ]
    },
    {
     "name": "stdout",
     "output_type": "stream",
     "text": [
      "min_samples_leaf= 1     n_estimators = 100     accuracy_score: 0.7962674961119751\n",
      "min_samples_leaf= 2     n_estimators = 100     accuracy_score: 0.7962674961119751\n",
      "min_samples_leaf= 3     n_estimators = 100     accuracy_score: 0.807153965785381\n",
      "min_samples_leaf= 4     n_estimators = 100     accuracy_score: 0.8009331259720062\n"
     ]
    },
    {
     "name": "stderr",
     "output_type": "stream",
     "text": [
      " 17%|█▋        | 1/6 [00:02<00:10,  2.07s/it]"
     ]
    },
    {
     "name": "stdout",
     "output_type": "stream",
     "text": [
      "min_samples_leaf= 5     n_estimators = 100     accuracy_score: 0.8102643856920684\n",
      "min_samples_leaf= 1     n_estimators = 101     accuracy_score: 0.7978227060653188\n",
      "min_samples_leaf= 2     n_estimators = 101     accuracy_score: 0.7978227060653188\n",
      "min_samples_leaf= 3     n_estimators = 101     accuracy_score: 0.807153965785381\n",
      "min_samples_leaf= 4     n_estimators = 101     accuracy_score: 0.8009331259720062\n"
     ]
    },
    {
     "name": "stderr",
     "output_type": "stream",
     "text": [
      " 33%|███▎      | 2/6 [00:05<00:10,  2.60s/it]"
     ]
    },
    {
     "name": "stdout",
     "output_type": "stream",
     "text": [
      "min_samples_leaf= 5     n_estimators = 101     accuracy_score: 0.8055987558320373\n",
      "min_samples_leaf= 1     n_estimators = 102     accuracy_score: 0.7962674961119751\n",
      "min_samples_leaf= 2     n_estimators = 102     accuracy_score: 0.7962674961119751\n",
      "min_samples_leaf= 3     n_estimators = 102     accuracy_score: 0.807153965785381\n",
      "min_samples_leaf= 4     n_estimators = 102     accuracy_score: 0.80248833592535\n"
     ]
    },
    {
     "name": "stderr",
     "output_type": "stream",
     "text": [
      " 50%|█████     | 3/6 [00:07<00:07,  2.36s/it]"
     ]
    },
    {
     "name": "stdout",
     "output_type": "stream",
     "text": [
      "min_samples_leaf= 5     n_estimators = 102     accuracy_score: 0.807153965785381\n",
      "min_samples_leaf= 1     n_estimators = 103     accuracy_score: 0.7962674961119751\n",
      "min_samples_leaf= 2     n_estimators = 103     accuracy_score: 0.7978227060653188\n",
      "min_samples_leaf= 3     n_estimators = 103     accuracy_score: 0.807153965785381\n",
      "min_samples_leaf= 4     n_estimators = 103     accuracy_score: 0.80248833592535\n"
     ]
    },
    {
     "name": "stderr",
     "output_type": "stream",
     "text": [
      " 67%|██████▋   | 4/6 [00:09<00:04,  2.24s/it]"
     ]
    },
    {
     "name": "stdout",
     "output_type": "stream",
     "text": [
      "min_samples_leaf= 5     n_estimators = 103     accuracy_score: 0.8055987558320373\n",
      "min_samples_leaf= 1     n_estimators = 104     accuracy_score: 0.7962674961119751\n",
      "min_samples_leaf= 2     n_estimators = 104     accuracy_score: 0.7978227060653188\n",
      "min_samples_leaf= 3     n_estimators = 104     accuracy_score: 0.8055987558320373\n",
      "min_samples_leaf= 4     n_estimators = 104     accuracy_score: 0.80248833592535\n"
     ]
    },
    {
     "name": "stderr",
     "output_type": "stream",
     "text": [
      " 83%|████████▎ | 5/6 [00:11<00:02,  2.21s/it]"
     ]
    },
    {
     "name": "stdout",
     "output_type": "stream",
     "text": [
      "min_samples_leaf= 5     n_estimators = 104     accuracy_score: 0.8055987558320373\n",
      "min_samples_leaf= 1     n_estimators = 105     accuracy_score: 0.7978227060653188\n",
      "min_samples_leaf= 2     n_estimators = 105     accuracy_score: 0.7962674961119751\n",
      "min_samples_leaf= 3     n_estimators = 105     accuracy_score: 0.807153965785381\n",
      "min_samples_leaf= 4     n_estimators = 105     accuracy_score: 0.8009331259720062\n"
     ]
    },
    {
     "name": "stderr",
     "output_type": "stream",
     "text": [
      "100%|██████████| 6/6 [00:13<00:00,  2.25s/it]"
     ]
    },
    {
     "name": "stdout",
     "output_type": "stream",
     "text": [
      "min_samples_leaf= 5     n_estimators = 105     accuracy_score: 0.8055987558320373\n",
      "\n",
      "Наилучшая модель на валидационной выборке: 0.8102643856920684 Оценки: 105 Минимальное число листов: 5\n",
      "Использовался критерий 'gini'\n",
      "CPU times: user 12.4 s, sys: 135 ms, total: 12.5 s\n",
      "Wall time: 13.5 s\n"
     ]
    },
    {
     "name": "stderr",
     "output_type": "stream",
     "text": [
      "\n"
     ]
    }
   ],
   "source": [
    "%%time \n",
    "n_estimators = None\n",
    "min_samples_leaf = None\n",
    "best_result = 0\n",
    "best_estimators = 0\n",
    "best_msl = 0\n",
    "for estimators in tqdm(range(100, 106)): # tqdm будет показывать время выполнения когда проходимся по циклу\n",
    "    for msl in range(1, 6):\n",
    "        model = RandomForestClassifier(random_state=12345, n_estimators=estimators, criterion=\"gini\", min_samples_leaf=msl) # инициализируем модель RandomForestClassifier с параметрами проходящими по циклу\n",
    "        model = model.fit(features_train, target_train) # обучим модель на тренировочной выборке\n",
    "        predictions_valid = model.predict(features_validate) # получим предсказания модели на валидационной выборке\n",
    "        print(\"min_samples_leaf=\", msl, \"    n_estimators =\", estimators, \"    accuracy_score: \", end='')\n",
    "        result = accuracy_score(target_validate, predictions_valid) # посчитаем значение метрики  accuracy_score на валидационной выборке\n",
    "        print(accuracy_score(target_validate, predictions_valid))\n",
    "        if result > best_result:\n",
    "            best_model = model\n",
    "            best_result = result\n",
    "            best_estimators = estimators\n",
    "            best_msl = msl\n",
    "            \n",
    "        \n",
    "print()\n",
    "print(\"Наилучшая модель на валидационной выборке:\", best_result, \"Оценки:\", estimators, \"Минимальное число листов:\", best_msl)\n",
    "print(\"Использовался критерий 'gini'\")\n",
    "# %%time измерит в конце время ожидания и выполнения "
   ]
  },
  {
   "cell_type": "code",
   "execution_count": 32,
   "metadata": {},
   "outputs": [
    {
     "name": "stderr",
     "output_type": "stream",
     "text": [
      "  0%|          | 0/6 [00:00<?, ?it/s]"
     ]
    },
    {
     "name": "stdout",
     "output_type": "stream",
     "text": [
      "min_samples_leaf= 1     n_estimators = 100     accuracy_score: 0.7962674961119751\n",
      "min_samples_leaf= 2     n_estimators = 100     accuracy_score: 0.8087091757387247\n",
      "min_samples_leaf= 3     n_estimators = 100     accuracy_score: 0.8040435458786936\n",
      "min_samples_leaf= 4     n_estimators = 100     accuracy_score: 0.8118195956454122\n"
     ]
    },
    {
     "name": "stderr",
     "output_type": "stream",
     "text": [
      " 17%|█▋        | 1/6 [00:02<00:12,  2.43s/it]"
     ]
    },
    {
     "name": "stdout",
     "output_type": "stream",
     "text": [
      "min_samples_leaf= 5     n_estimators = 100     accuracy_score: 0.8055987558320373\n",
      "min_samples_leaf= 1     n_estimators = 101     accuracy_score: 0.7947122861586314\n",
      "min_samples_leaf= 2     n_estimators = 101     accuracy_score: 0.807153965785381\n",
      "min_samples_leaf= 3     n_estimators = 101     accuracy_score: 0.7993779160186625\n",
      "min_samples_leaf= 4     n_estimators = 101     accuracy_score: 0.8133748055987559\n"
     ]
    },
    {
     "name": "stderr",
     "output_type": "stream",
     "text": [
      " 33%|███▎      | 2/6 [00:04<00:09,  2.36s/it]"
     ]
    },
    {
     "name": "stdout",
     "output_type": "stream",
     "text": [
      "min_samples_leaf= 5     n_estimators = 101     accuracy_score: 0.8055987558320373\n",
      "min_samples_leaf= 1     n_estimators = 102     accuracy_score: 0.7931570762052877\n",
      "min_samples_leaf= 2     n_estimators = 102     accuracy_score: 0.807153965785381\n",
      "min_samples_leaf= 3     n_estimators = 102     accuracy_score: 0.8040435458786936\n",
      "min_samples_leaf= 4     n_estimators = 102     accuracy_score: 0.8133748055987559\n"
     ]
    },
    {
     "name": "stderr",
     "output_type": "stream",
     "text": [
      " 50%|█████     | 3/6 [00:07<00:07,  2.38s/it]"
     ]
    },
    {
     "name": "stdout",
     "output_type": "stream",
     "text": [
      "min_samples_leaf= 5     n_estimators = 102     accuracy_score: 0.8040435458786936\n",
      "min_samples_leaf= 1     n_estimators = 103     accuracy_score: 0.7947122861586314\n",
      "min_samples_leaf= 2     n_estimators = 103     accuracy_score: 0.807153965785381\n",
      "min_samples_leaf= 3     n_estimators = 103     accuracy_score: 0.8040435458786936\n",
      "min_samples_leaf= 4     n_estimators = 103     accuracy_score: 0.8118195956454122\n"
     ]
    },
    {
     "name": "stderr",
     "output_type": "stream",
     "text": [
      " 67%|██████▋   | 4/6 [00:09<00:04,  2.37s/it]"
     ]
    },
    {
     "name": "stdout",
     "output_type": "stream",
     "text": [
      "min_samples_leaf= 5     n_estimators = 103     accuracy_score: 0.8040435458786936\n",
      "min_samples_leaf= 1     n_estimators = 104     accuracy_score: 0.7947122861586314\n",
      "min_samples_leaf= 2     n_estimators = 104     accuracy_score: 0.807153965785381\n",
      "min_samples_leaf= 3     n_estimators = 104     accuracy_score: 0.80248833592535\n",
      "min_samples_leaf= 4     n_estimators = 104     accuracy_score: 0.8149300155520995\n"
     ]
    },
    {
     "name": "stderr",
     "output_type": "stream",
     "text": [
      " 83%|████████▎ | 5/6 [00:11<00:02,  2.40s/it]"
     ]
    },
    {
     "name": "stdout",
     "output_type": "stream",
     "text": [
      "min_samples_leaf= 5     n_estimators = 104     accuracy_score: 0.8040435458786936\n",
      "min_samples_leaf= 1     n_estimators = 105     accuracy_score: 0.7947122861586314\n",
      "min_samples_leaf= 2     n_estimators = 105     accuracy_score: 0.8055987558320373\n",
      "min_samples_leaf= 3     n_estimators = 105     accuracy_score: 0.80248833592535\n",
      "min_samples_leaf= 4     n_estimators = 105     accuracy_score: 0.8118195956454122\n"
     ]
    },
    {
     "name": "stderr",
     "output_type": "stream",
     "text": [
      "100%|██████████| 6/6 [00:15<00:00,  2.57s/it]"
     ]
    },
    {
     "name": "stdout",
     "output_type": "stream",
     "text": [
      "min_samples_leaf= 5     n_estimators = 105     accuracy_score: 0.8055987558320373\n",
      "\n",
      "Наилучшая модель на валидационной выборке: 0.8149300155520995 Оценки: 104 Минимальное число листов: 4\n",
      "Использовался критерий 'entropy'\n",
      "CPU times: user 14.1 s, sys: 154 ms, total: 14.3 s\n",
      "Wall time: 15.4 s\n"
     ]
    },
    {
     "name": "stderr",
     "output_type": "stream",
     "text": [
      "\n"
     ]
    }
   ],
   "source": [
    "%%time \n",
    "n_estimators = None\n",
    "min_samples_leaf = None\n",
    "best_result = 0\n",
    "best_estimators = 0\n",
    "best_msl = 0\n",
    "for estimators in tqdm(range(100, 106)): # tqdm будет показывать время выполнения когда проходимся по циклу\n",
    "    for msl in range(1, 6):\n",
    "        model = RandomForestClassifier(random_state=12345, n_estimators=estimators, criterion=\"entropy\", min_samples_leaf=msl) # инициализируем модель RandomForestClassifier с параметрами проходящими по циклу\n",
    "        model = model.fit(features_train, target_train) # обучим модель на тренировочной выборке\n",
    "        predictions_valid = model.predict(features_validate)  # получим предсказания модели на валидационной выборке\n",
    "        print(\"min_samples_leaf=\", msl,\"    n_estimators =\", estimators, \"    accuracy_score: \", end='')\n",
    "        result = accuracy_score(target_validate, predictions_valid)  # посчитаем значение метрики  accuracy_score на валидационной выборке\n",
    "        print(accuracy_score(target_validate, predictions_valid))\n",
    "        if result > best_result:\n",
    "            best_model = model\n",
    "            best_result = result\n",
    "            best_estimators = estimators\n",
    "            best_msl = msl\n",
    "        \n",
    "print()\n",
    "print(\"Наилучшая модель на валидационной выборке:\", best_result, \"Оценки:\", best_estimators, \"Минимальное число листов:\", best_msl)\n",
    "print(\"Использовался критерий 'entropy'\")\n",
    "# %%time измерит в конце время ожидания и выполнения "
   ]
  },
  {
   "cell_type": "markdown",
   "metadata": {},
   "source": [
    "**Промежуточные выводы по исследованию:**"
   ]
  },
  {
   "cell_type": "markdown",
   "metadata": {},
   "source": [
    "**В ходе исследования удалось достичь accuracy не меньше 0.75 в обоих моделях предсказания на валидационной выборке**\n",
    "    \n",
    "**Лучшие гиперпараметры для модели Случайный лес (accuracy_score: 0.8149300155520995):**\n",
    "\n",
    "     Оценки: 104            Минимальное число листов: 4    критерий 'entropy'\n",
    "    \n",
    "**Лучшие гиперпараметры для модели  Решающее дерево (accuracy_score: 0.7931570762052877):**\n",
    "\n",
    "     Глубина дерева: 5     Минимальное число разделений: 2   критерий 'gini'"
   ]
  },
  {
   "cell_type": "code",
   "execution_count": 33,
   "metadata": {},
   "outputs": [
    {
     "name": "stdout",
     "output_type": "stream",
     "text": [
      "CPU times: user 1min 32s, sys: 720 ms, total: 1min 33s\n",
      "Wall time: 1min 45s\n"
     ]
    },
    {
     "data": {
      "text/plain": [
       "GridSearchCV(cv=5,\n",
       "             estimator=RandomForestClassifier(criterion='entropy',\n",
       "                                              random_state=12345),\n",
       "             param_grid={'min_samples_leaf': [1, 2, 3, 4, 5, 6, 7],\n",
       "                         'n_estimators': [100, 101, 102, 103, 104, 105, 106]})"
      ]
     },
     "execution_count": 33,
     "metadata": {},
     "output_type": "execute_result"
    }
   ],
   "source": [
    "%%time  \n",
    "\n",
    "model_gs = RandomForestClassifier(random_state=12345, criterion=\"entropy\")\n",
    "\n",
    "parametrs_gs  = {\n",
    "    \"n_estimators\": [100, 101, 102, 103, 104, 105, 106],\n",
    "    'min_samples_leaf': [1, 2, 3, 4, 5, 6, 7],\n",
    "}\n",
    "\n",
    "\n",
    "gs = GridSearchCV(estimator = model_gs,\n",
    "                  param_grid = parametrs_gs,\n",
    "                  cv=5)\n",
    "\n",
    "gs.fit(features_train, target_train)\n",
    "\n",
    "# Wall time: 1min 36s : 2min 01s"
   ]
  },
  {
   "cell_type": "code",
   "execution_count": 34,
   "metadata": {},
   "outputs": [
    {
     "name": "stdout",
     "output_type": "stream",
     "text": [
      "RandomForestClassifier(criterion='entropy', min_samples_leaf=5,\n",
      "                       n_estimators=104, random_state=12345)\n",
      "0.8023739990579368\n"
     ]
    }
   ],
   "source": [
    "print(gs.best_estimator_)\n",
    "print(gs.best_score_)"
   ]
  },
  {
   "cell_type": "markdown",
   "metadata": {},
   "source": [
    "## Проверим модель на тестовой выборке"
   ]
  },
  {
   "cell_type": "markdown",
   "metadata": {},
   "source": [
    "**Из моделей выбирем Случанный лес для тестовой выборке как наилучшую модель со следующими гиперпараметрами:**\n",
    "\n",
    "       1. random_state=12345\n",
    "       2. n_estimators=100 \n",
    "       3. criterion=\"entropy\"\n",
    "       4. min_samples_leaf=4"
   ]
  },
  {
   "cell_type": "code",
   "execution_count": 35,
   "metadata": {},
   "outputs": [],
   "source": [
    "model_test = RandomForestClassifier(random_state=12345, n_estimators=100, criterion=\"entropy\", min_samples_leaf=4)"
   ]
  },
  {
   "cell_type": "code",
   "execution_count": 36,
   "metadata": {},
   "outputs": [],
   "source": [
    "model_test = model_test.fit(pd.concat([features_train, features_validate]), pd.concat([target_train, target_validate]))"
   ]
  },
  {
   "cell_type": "code",
   "execution_count": 37,
   "metadata": {},
   "outputs": [
    {
     "name": "stdout",
     "output_type": "stream",
     "text": [
      "0.7999377722464219\n"
     ]
    }
   ],
   "source": [
    "print(len(pd.concat([features_train, features_validate])) / len(df)) # 0.59... + 0.20..."
   ]
  },
  {
   "cell_type": "code",
   "execution_count": 38,
   "metadata": {},
   "outputs": [],
   "source": [
    "predictions_test = model_test.predict(features_test)"
   ]
  },
  {
   "cell_type": "code",
   "execution_count": 39,
   "metadata": {},
   "outputs": [
    {
     "name": "stdout",
     "output_type": "stream",
     "text": [
      "Наилучшая модель на Тестовой выборке получилась c accuracy_score равной 0.8055987558320373\n",
      "Наилучшая модель на Валидационной выборке была  c accuracy_score равной 0.8133748055987559\n"
     ]
    }
   ],
   "source": [
    "result_test = accuracy_score(target_test, predictions_test)\n",
    "print(\"Наилучшая модель на Тестовой выборке получилась c accuracy_score равной\",    result_test)\n",
    "print(\"Наилучшая модель на Валидационной выборке была  c accuracy_score равной 0.8133748055987559\")"
   ]
  },
  {
   "cell_type": "markdown",
   "metadata": {},
   "source": [
    "**Вывод:**\n",
    "\n",
    "**Наша модель (алгоритм) вполне пригодна, поскольку она дала результат не ниже допустимого нами порога 0.75**"
   ]
  },
  {
   "cell_type": "markdown",
   "metadata": {},
   "source": [
    "## (дополнительно) Проверим модели на адекватность"
   ]
  },
  {
   "cell_type": "markdown",
   "metadata": {},
   "source": [
    "**Создадим объект класса метода К-ближайщих соседних**"
   ]
  },
  {
   "cell_type": "code",
   "execution_count": 40,
   "metadata": {},
   "outputs": [],
   "source": [
    "clf = KNeighborsClassifier(n_neighbors=3)"
   ]
  },
  {
   "cell_type": "code",
   "execution_count": 41,
   "metadata": {},
   "outputs": [
    {
     "data": {
      "text/plain": [
       "KNeighborsClassifier(n_neighbors=3)"
      ]
     },
     "execution_count": 41,
     "metadata": {},
     "output_type": "execute_result"
    }
   ],
   "source": [
    "clf.fit(features_train, target_train)"
   ]
  },
  {
   "cell_type": "code",
   "execution_count": 42,
   "metadata": {},
   "outputs": [],
   "source": [
    "target_pred = clf.predict(features_test)"
   ]
  },
  {
   "cell_type": "code",
   "execution_count": 43,
   "metadata": {},
   "outputs": [
    {
     "data": {
      "text/plain": [
       "0.7433903576982893"
      ]
     },
     "execution_count": 43,
     "metadata": {},
     "output_type": "execute_result"
    }
   ],
   "source": [
    "clf.score(features_test, target_test)"
   ]
  },
  {
   "cell_type": "markdown",
   "metadata": {},
   "source": [
    "**Создадим объекты классов метода DummyClassifier для двух методов стратегий 'most_frequent' и 'uniform'**"
   ]
  },
  {
   "cell_type": "code",
   "execution_count": 44,
   "metadata": {},
   "outputs": [],
   "source": [
    "frequent_clf = DummyClassifier(strategy='most_frequent', random_state=12345).fit(features_train, target_train)"
   ]
  },
  {
   "cell_type": "code",
   "execution_count": 45,
   "metadata": {},
   "outputs": [],
   "source": [
    "uniform_clf = DummyClassifier(strategy='uniform', random_state=12345).fit(features_train, target_train)"
   ]
  },
  {
   "cell_type": "code",
   "execution_count": 46,
   "metadata": {},
   "outputs": [],
   "source": [
    "target_freq_pred = frequent_clf.predict(features_test)"
   ]
  },
  {
   "cell_type": "code",
   "execution_count": 47,
   "metadata": {},
   "outputs": [],
   "source": [
    "target_uniform_pred = uniform_clf.predict(features_test)"
   ]
  },
  {
   "cell_type": "code",
   "execution_count": 48,
   "metadata": {},
   "outputs": [
    {
     "data": {
      "text/plain": [
       "0.6936236391912908"
      ]
     },
     "execution_count": 48,
     "metadata": {},
     "output_type": "execute_result"
    }
   ],
   "source": [
    "frequent_clf.score(features_test, target_test)  "
   ]
  },
  {
   "cell_type": "markdown",
   "metadata": {},
   "source": [
    "**Получили более близкий к нашему clf.score**"
   ]
  },
  {
   "cell_type": "code",
   "execution_count": 49,
   "metadata": {},
   "outputs": [
    {
     "data": {
      "text/plain": [
       "0.4976671850699845"
      ]
     },
     "execution_count": 49,
     "metadata": {},
     "output_type": "execute_result"
    }
   ],
   "source": [
    "uniform_clf.score(features_test, target_test)   "
   ]
  },
  {
   "cell_type": "markdown",
   "metadata": {},
   "source": [
    "**Тем самым, при равных шансах типов тарифов - шансы их выпадения практически равны, но это мало о чем нам говорить. Воспользуемся матрицей предсказания ответов**"
   ]
  },
  {
   "cell_type": "code",
   "execution_count": 50,
   "metadata": {},
   "outputs": [
    {
     "data": {
      "text/plain": [
       "array([[398,  48],\n",
       "       [117,  80]])"
      ]
     },
     "execution_count": 50,
     "metadata": {},
     "output_type": "execute_result"
    }
   ],
   "source": [
    "confusion_matrix(target_test, target_pred) \n",
    "                                           # 398 истинные позитивы (TP)\n",
    "                                           # 48 ложных позитивы (FP)\n",
    "                                           # 117 ложные негативы (FN)\n",
    "                                           # 80 истинные негативы TN)"
   ]
  },
  {
   "cell_type": "code",
   "execution_count": 51,
   "metadata": {},
   "outputs": [
    {
     "data": {
      "text/plain": [
       "array([[219, 227],\n",
       "       [ 96, 101]])"
      ]
     },
     "execution_count": 51,
     "metadata": {},
     "output_type": "execute_result"
    }
   ],
   "source": [
    "confusion_matrix(target_test, target_uniform_pred)\n",
    "                                           # 219 истинные позитивы (TP)\n",
    "                                           # 227 ложных позитивы (FP)\n",
    "                                           # 96 ложные негативы (FN)\n",
    "                                           # 101 истинные негативы TN)"
   ]
  },
  {
   "cell_type": "code",
   "execution_count": 52,
   "metadata": {},
   "outputs": [
    {
     "data": {
      "text/plain": [
       "array([[446,   0],\n",
       "       [197,   0]])"
      ]
     },
     "execution_count": 52,
     "metadata": {},
     "output_type": "execute_result"
    }
   ],
   "source": [
    "confusion_matrix(target_test, target_freq_pred)\n",
    "                                           # 446 истинные позитивы (TP)\n",
    "                                           # 0 ложных позитивы (FP)\n",
    "                                           # 197 ложные негативы (FN)\n",
    "                                           # 0 истинные негативы TN)"
   ]
  },
  {
   "cell_type": "markdown",
   "metadata": {},
   "source": [
    "**В заключении можем прийти к выводу о том, что наша `модель адекватна`, поскольку при равных шансах наш показатель предсказаний не меньше 0.5**"
   ]
  },
  {
   "cell_type": "markdown",
   "metadata": {},
   "source": [
    "# Выводы по полученным результатам"
   ]
  },
  {
   "cell_type": "markdown",
   "metadata": {},
   "source": [
    "**В начале исследования проверили информацию об нашем датасете и сделали промежуточные выводы:**\n",
    "1. Увидели, что тех кто пользуется тарифом \"Смарт\" чуть больше в два раза, чем тех клиентов, которые пользуются тарифом \"Ультра\" - это сведетельствует явно о несбалансировки классов\n",
    "2. Понимаем, что единственная категориальная переменная для нас в датасете - это 'is_ultra'\n",
    "3. Отсутсвуют пропуски и присутствуют во всех столбцах явные дубликаты\n",
    "4. Типы переменных в столбцах у нас - числовые\n",
    "5. Значения столбцов 'calls', 'minutes', 'mb_used' - более близки к нормальному распределению, в отличии от 'is_ultra' и 'messages'\n",
    "\n",
    "**Далее необходимо было разбить датасет на тренировочную, валидационную и тестовую выборку, для того чтобы проверить есть ли у модели переобучение (недообучение) в соотношении 3:1:1**\n",
    "\n",
    "    Алгоритм и включенные в него методы на которых, благодаря чему возможны предсказания значений - и будет для нас   \n",
    "    представляться как пригодная модель.\n",
    "    \n",
    "    \n",
    "**После понимаем, что для Категориальных данных применимы лишь определенные методы предсказания, и в нашем случае у нас бинарная классификация для целевого признака (таргета) - 0 или 1**\n",
    "\n",
    "    1. Рассмотрим две различные модели: `Решающее дерево` и `Случайный лес`\n",
    "    2. Для каждого из них изменим в циклах два количественных гиперпараметра, и один выбранный критерий отдельно,после можем \n",
    "    выбрать для себя лучшие гиперпараметры на основании accuracy_score, более приближеннной к 1\n",
    "    3.В ходе исследования удалось достичь accuracy не меньше 0.75 в обоих моделях предсказания на валидационной выборке\n",
    "    \n",
    "**Выбираем Случайный лес - как наилучшую модель (алгоритм) предсказания со следующими гиперпараметрами (accuracy_score = 0.8149300155520995:**\n",
    "\n",
    "    1) random_state=12345\n",
    "    2) n_estimators=100 \n",
    "    3) criterion=\"entropy\"\n",
    "    4) min_samples_leaf=4\n",
    "    \n",
    "**На тестовой выборке выполнили финальную проверку, с определеной лучшей моделью и ее конкретными гиперпараметра. И получили  результат, который равен соотвественно: 0.8055987558320373**\n",
    "\n",
    "**Пришли к выводу о том, что наша модель - адекватна**"
   ]
  }
 ],
 "metadata": {
  "ExecuteTimeLog": [
   {
    "duration": 386,
    "start_time": "2022-09-05T17:34:08.887Z"
   },
   {
    "duration": 69,
    "start_time": "2022-09-05T17:36:45.916Z"
   },
   {
    "duration": 16,
    "start_time": "2022-09-05T17:36:53.239Z"
   },
   {
    "duration": 12,
    "start_time": "2022-09-05T17:37:12.775Z"
   },
   {
    "duration": 12,
    "start_time": "2022-09-05T17:37:27.547Z"
   },
   {
    "duration": 78,
    "start_time": "2022-09-05T17:37:35.460Z"
   },
   {
    "duration": 6,
    "start_time": "2022-09-05T17:37:44.364Z"
   },
   {
    "duration": 5,
    "start_time": "2022-09-05T17:37:58.307Z"
   },
   {
    "duration": 7,
    "start_time": "2022-09-05T17:42:26.967Z"
   },
   {
    "duration": 22,
    "start_time": "2022-09-05T17:42:54.486Z"
   },
   {
    "duration": 2,
    "start_time": "2022-09-05T18:04:14.792Z"
   },
   {
    "duration": 9,
    "start_time": "2022-09-05T18:05:46.623Z"
   },
   {
    "duration": 6,
    "start_time": "2022-09-05T18:06:30.401Z"
   },
   {
    "duration": 1181,
    "start_time": "2022-09-05T18:06:56.139Z"
   },
   {
    "duration": 789,
    "start_time": "2022-09-05T18:48:24.849Z"
   },
   {
    "duration": 45,
    "start_time": "2022-09-05T18:54:09.661Z"
   },
   {
    "duration": 4,
    "start_time": "2022-09-05T18:54:50.381Z"
   },
   {
    "duration": 3,
    "start_time": "2022-09-05T18:55:50.190Z"
   },
   {
    "duration": 51,
    "start_time": "2022-09-05T19:00:53.480Z"
   },
   {
    "duration": 8,
    "start_time": "2022-09-05T19:04:08.534Z"
   },
   {
    "duration": 6,
    "start_time": "2022-09-05T19:05:04.379Z"
   },
   {
    "duration": 6,
    "start_time": "2022-09-05T19:05:34.738Z"
   },
   {
    "duration": 2,
    "start_time": "2022-09-05T19:06:43.055Z"
   },
   {
    "duration": 802,
    "start_time": "2022-09-05T19:06:43.493Z"
   },
   {
    "duration": 10,
    "start_time": "2022-09-05T19:06:46.928Z"
   },
   {
    "duration": 13,
    "start_time": "2022-09-05T19:07:08.476Z"
   },
   {
    "duration": 9,
    "start_time": "2022-09-05T19:07:10.816Z"
   },
   {
    "duration": 3,
    "start_time": "2022-09-05T19:07:19.427Z"
   },
   {
    "duration": 3,
    "start_time": "2022-09-05T19:07:21.478Z"
   },
   {
    "duration": 3,
    "start_time": "2022-09-05T19:09:06.458Z"
   },
   {
    "duration": 10,
    "start_time": "2022-09-05T19:09:08.420Z"
   },
   {
    "duration": 10,
    "start_time": "2022-09-05T19:09:08.695Z"
   },
   {
    "duration": 3,
    "start_time": "2022-09-05T19:09:34.203Z"
   },
   {
    "duration": 7,
    "start_time": "2022-09-05T19:09:37.561Z"
   },
   {
    "duration": 4,
    "start_time": "2022-09-05T19:09:38.111Z"
   },
   {
    "duration": 4,
    "start_time": "2022-09-05T19:09:38.660Z"
   },
   {
    "duration": 3,
    "start_time": "2022-09-05T19:09:39.693Z"
   },
   {
    "duration": 2,
    "start_time": "2022-09-05T19:09:42.919Z"
   },
   {
    "duration": 17,
    "start_time": "2022-09-05T19:09:44.622Z"
   },
   {
    "duration": 4,
    "start_time": "2022-09-05T19:09:44.972Z"
   },
   {
    "duration": 3,
    "start_time": "2022-09-05T19:09:45.338Z"
   },
   {
    "duration": 5,
    "start_time": "2022-09-05T19:09:45.909Z"
   },
   {
    "duration": 3,
    "start_time": "2022-09-05T19:10:39.196Z"
   },
   {
    "duration": 20,
    "start_time": "2022-09-05T19:38:14.656Z"
   },
   {
    "duration": 3,
    "start_time": "2022-09-05T19:39:00.894Z"
   },
   {
    "duration": 6,
    "start_time": "2022-09-05T19:41:26.743Z"
   },
   {
    "duration": 6,
    "start_time": "2022-09-05T19:41:28.487Z"
   },
   {
    "duration": 6,
    "start_time": "2022-09-05T19:41:28.836Z"
   },
   {
    "duration": 3,
    "start_time": "2022-09-05T19:41:30.966Z"
   },
   {
    "duration": 808,
    "start_time": "2022-09-05T19:41:34.042Z"
   },
   {
    "duration": 23,
    "start_time": "2022-09-05T19:41:34.852Z"
   },
   {
    "duration": 6,
    "start_time": "2022-09-05T19:41:34.885Z"
   },
   {
    "duration": 3,
    "start_time": "2022-09-05T19:41:36.143Z"
   },
   {
    "duration": 3,
    "start_time": "2022-09-05T19:41:40.642Z"
   },
   {
    "duration": 8,
    "start_time": "2022-09-05T19:41:43.266Z"
   },
   {
    "duration": 4,
    "start_time": "2022-09-05T19:41:43.660Z"
   },
   {
    "duration": 3,
    "start_time": "2022-09-05T19:41:43.983Z"
   },
   {
    "duration": 7,
    "start_time": "2022-09-05T19:41:44.668Z"
   },
   {
    "duration": 5,
    "start_time": "2022-09-05T19:41:47.367Z"
   },
   {
    "duration": 22,
    "start_time": "2022-09-05T19:41:48.955Z"
   },
   {
    "duration": 6,
    "start_time": "2022-09-05T19:41:49.267Z"
   },
   {
    "duration": 3,
    "start_time": "2022-09-05T19:41:49.697Z"
   },
   {
    "duration": 3,
    "start_time": "2022-09-05T19:41:50.152Z"
   },
   {
    "duration": 4,
    "start_time": "2022-09-05T19:45:56.543Z"
   },
   {
    "duration": 14,
    "start_time": "2022-09-05T19:45:58.268Z"
   },
   {
    "duration": 10,
    "start_time": "2022-09-05T19:47:10.957Z"
   },
   {
    "duration": 4,
    "start_time": "2022-09-05T19:47:24.590Z"
   },
   {
    "duration": 11,
    "start_time": "2022-09-05T19:47:26.085Z"
   },
   {
    "duration": 3,
    "start_time": "2022-09-05T19:52:43.422Z"
   },
   {
    "duration": 1308,
    "start_time": "2022-09-06T07:07:08.436Z"
   },
   {
    "duration": 190,
    "start_time": "2022-09-06T07:07:09.746Z"
   },
   {
    "duration": 24,
    "start_time": "2022-09-06T07:07:09.938Z"
   },
   {
    "duration": 32,
    "start_time": "2022-09-06T07:07:09.965Z"
   },
   {
    "duration": 16,
    "start_time": "2022-09-06T07:07:09.999Z"
   },
   {
    "duration": 10,
    "start_time": "2022-09-06T07:07:10.145Z"
   },
   {
    "duration": 1299,
    "start_time": "2022-09-06T07:07:10.809Z"
   },
   {
    "duration": 56,
    "start_time": "2022-09-06T07:07:12.111Z"
   },
   {
    "duration": 138,
    "start_time": "2022-09-06T07:07:17.150Z"
   },
   {
    "duration": 5,
    "start_time": "2022-09-06T07:07:29.621Z"
   },
   {
    "duration": 6,
    "start_time": "2022-09-06T07:07:33.724Z"
   },
   {
    "duration": 4,
    "start_time": "2022-09-06T07:07:43.376Z"
   },
   {
    "duration": 4,
    "start_time": "2022-09-06T07:07:52.233Z"
   },
   {
    "duration": 4,
    "start_time": "2022-09-06T07:08:01.901Z"
   },
   {
    "duration": 5,
    "start_time": "2022-09-06T07:08:27.435Z"
   },
   {
    "duration": 4,
    "start_time": "2022-09-06T07:08:28.520Z"
   },
   {
    "duration": 5,
    "start_time": "2022-09-06T07:08:29.180Z"
   },
   {
    "duration": 3,
    "start_time": "2022-09-06T07:08:29.620Z"
   },
   {
    "duration": 5,
    "start_time": "2022-09-06T07:08:31.719Z"
   },
   {
    "duration": 4,
    "start_time": "2022-09-06T07:08:32.032Z"
   },
   {
    "duration": 4,
    "start_time": "2022-09-06T07:08:32.338Z"
   },
   {
    "duration": 5,
    "start_time": "2022-09-06T07:08:38.197Z"
   },
   {
    "duration": 4,
    "start_time": "2022-09-06T07:08:38.711Z"
   },
   {
    "duration": 10,
    "start_time": "2022-09-06T07:08:39.157Z"
   },
   {
    "duration": 4,
    "start_time": "2022-09-06T07:08:39.625Z"
   },
   {
    "duration": 8,
    "start_time": "2022-09-06T07:08:45.241Z"
   },
   {
    "duration": 8,
    "start_time": "2022-09-06T07:08:45.485Z"
   },
   {
    "duration": 10,
    "start_time": "2022-09-06T07:08:45.669Z"
   },
   {
    "duration": 4,
    "start_time": "2022-09-06T07:08:45.836Z"
   },
   {
    "duration": 5,
    "start_time": "2022-09-06T07:08:59.337Z"
   },
   {
    "duration": 5,
    "start_time": "2022-09-06T07:08:59.593Z"
   },
   {
    "duration": 4,
    "start_time": "2022-09-06T07:08:59.798Z"
   },
   {
    "duration": 5,
    "start_time": "2022-09-06T07:08:59.955Z"
   },
   {
    "duration": 3,
    "start_time": "2022-09-06T07:09:00.127Z"
   },
   {
    "duration": 7,
    "start_time": "2022-09-06T07:09:04.854Z"
   },
   {
    "duration": 4,
    "start_time": "2022-09-06T07:09:05.071Z"
   },
   {
    "duration": 9,
    "start_time": "2022-09-06T07:09:05.253Z"
   },
   {
    "duration": 5,
    "start_time": "2022-09-06T07:09:05.486Z"
   },
   {
    "duration": 5,
    "start_time": "2022-09-06T07:09:09.140Z"
   },
   {
    "duration": 4,
    "start_time": "2022-09-06T07:09:09.346Z"
   },
   {
    "duration": 3,
    "start_time": "2022-09-06T07:09:09.499Z"
   },
   {
    "duration": 4,
    "start_time": "2022-09-06T07:09:09.645Z"
   },
   {
    "duration": 5,
    "start_time": "2022-09-06T07:09:19.486Z"
   },
   {
    "duration": 4,
    "start_time": "2022-09-06T07:09:30.838Z"
   },
   {
    "duration": 5,
    "start_time": "2022-09-06T07:09:31.080Z"
   },
   {
    "duration": 4,
    "start_time": "2022-09-06T07:09:31.282Z"
   },
   {
    "duration": 4,
    "start_time": "2022-09-06T07:10:57.971Z"
   },
   {
    "duration": 14,
    "start_time": "2022-09-06T07:12:02.256Z"
   },
   {
    "duration": 5,
    "start_time": "2022-09-06T07:13:49.719Z"
   },
   {
    "duration": 4,
    "start_time": "2022-09-06T07:13:51.373Z"
   },
   {
    "duration": 4,
    "start_time": "2022-09-06T07:13:51.551Z"
   },
   {
    "duration": 4,
    "start_time": "2022-09-06T07:13:51.720Z"
   },
   {
    "duration": 4,
    "start_time": "2022-09-06T07:17:59.933Z"
   },
   {
    "duration": 5,
    "start_time": "2022-09-06T07:18:12.897Z"
   },
   {
    "duration": 4,
    "start_time": "2022-09-06T07:18:24.589Z"
   },
   {
    "duration": 4,
    "start_time": "2022-09-06T07:18:36.128Z"
   },
   {
    "duration": 5,
    "start_time": "2022-09-06T07:18:41.041Z"
   },
   {
    "duration": 15,
    "start_time": "2022-09-06T07:20:12.038Z"
   },
   {
    "duration": 5,
    "start_time": "2022-09-06T07:20:35.978Z"
   },
   {
    "duration": 40,
    "start_time": "2022-09-06T07:20:41.422Z"
   },
   {
    "duration": 42,
    "start_time": "2022-09-06T07:21:00.244Z"
   },
   {
    "duration": 10,
    "start_time": "2022-09-06T07:23:54.745Z"
   },
   {
    "duration": 3,
    "start_time": "2022-09-06T07:28:57.203Z"
   },
   {
    "duration": 2,
    "start_time": "2022-09-06T07:28:58.586Z"
   },
   {
    "duration": 4,
    "start_time": "2022-09-06T07:28:58.738Z"
   },
   {
    "duration": 7,
    "start_time": "2022-09-06T07:29:10.201Z"
   },
   {
    "duration": 7,
    "start_time": "2022-09-06T07:29:10.365Z"
   },
   {
    "duration": 4,
    "start_time": "2022-09-06T07:35:16.545Z"
   },
   {
    "duration": 4,
    "start_time": "2022-09-06T07:35:26.097Z"
   },
   {
    "duration": 7,
    "start_time": "2022-09-06T07:35:26.277Z"
   },
   {
    "duration": 6,
    "start_time": "2022-09-06T07:35:26.478Z"
   },
   {
    "duration": 4,
    "start_time": "2022-09-06T07:35:34.878Z"
   },
   {
    "duration": 4,
    "start_time": "2022-09-06T07:35:52.748Z"
   },
   {
    "duration": 5,
    "start_time": "2022-09-06T07:38:54.262Z"
   },
   {
    "duration": 10,
    "start_time": "2022-09-06T07:39:00.432Z"
   },
   {
    "duration": 6,
    "start_time": "2022-09-06T07:39:00.997Z"
   },
   {
    "duration": 4,
    "start_time": "2022-09-06T07:39:01.582Z"
   },
   {
    "duration": 3,
    "start_time": "2022-09-06T07:39:01.903Z"
   },
   {
    "duration": 9,
    "start_time": "2022-09-06T08:13:01.158Z"
   },
   {
    "duration": 10,
    "start_time": "2022-09-06T08:14:16.953Z"
   },
   {
    "duration": 4,
    "start_time": "2022-09-06T08:14:17.140Z"
   },
   {
    "duration": 3,
    "start_time": "2022-09-06T08:14:17.334Z"
   },
   {
    "duration": 4,
    "start_time": "2022-09-06T08:14:17.578Z"
   },
   {
    "duration": 3,
    "start_time": "2022-09-06T08:15:44.496Z"
   },
   {
    "duration": 4,
    "start_time": "2022-09-06T08:16:28.193Z"
   },
   {
    "duration": 7,
    "start_time": "2022-09-06T08:19:16.201Z"
   },
   {
    "duration": 489,
    "start_time": "2022-09-06T08:19:56.432Z"
   },
   {
    "duration": 16,
    "start_time": "2022-09-06T08:19:58.357Z"
   },
   {
    "duration": 9,
    "start_time": "2022-09-06T08:20:01.770Z"
   },
   {
    "duration": 21,
    "start_time": "2022-09-06T08:22:22.354Z"
   },
   {
    "duration": 21,
    "start_time": "2022-09-06T08:29:03.946Z"
   },
   {
    "duration": 4,
    "start_time": "2022-09-06T08:30:53.340Z"
   },
   {
    "duration": 20,
    "start_time": "2022-09-06T08:31:09.465Z"
   },
   {
    "duration": 21,
    "start_time": "2022-09-06T08:37:38.451Z"
   },
   {
    "duration": 10,
    "start_time": "2022-09-06T08:37:49.935Z"
   },
   {
    "duration": 513,
    "start_time": "2022-09-06T08:38:08.038Z"
   },
   {
    "duration": 14,
    "start_time": "2022-09-06T08:38:29.336Z"
   },
   {
    "duration": 3,
    "start_time": "2022-09-06T09:23:38.283Z"
   },
   {
    "duration": 4,
    "start_time": "2022-09-06T09:23:40.939Z"
   },
   {
    "duration": 4,
    "start_time": "2022-09-06T09:23:41.195Z"
   },
   {
    "duration": 3,
    "start_time": "2022-09-06T09:23:44.229Z"
   },
   {
    "duration": 4,
    "start_time": "2022-09-06T09:23:44.434Z"
   },
   {
    "duration": 4,
    "start_time": "2022-09-06T09:23:44.634Z"
   },
   {
    "duration": 9,
    "start_time": "2022-09-06T09:23:47.150Z"
   },
   {
    "duration": 5,
    "start_time": "2022-09-06T09:25:15.242Z"
   },
   {
    "duration": 6,
    "start_time": "2022-09-06T09:26:22.965Z"
   },
   {
    "duration": 2,
    "start_time": "2022-09-06T09:27:01.452Z"
   },
   {
    "duration": 17,
    "start_time": "2022-09-06T09:27:05.090Z"
   },
   {
    "duration": 7,
    "start_time": "2022-09-06T09:27:38.590Z"
   },
   {
    "duration": 16,
    "start_time": "2022-09-06T09:27:43.389Z"
   },
   {
    "duration": 18,
    "start_time": "2022-09-06T09:27:53.365Z"
   },
   {
    "duration": 3,
    "start_time": "2022-09-06T09:27:58.156Z"
   },
   {
    "duration": 18,
    "start_time": "2022-09-06T09:28:00.455Z"
   },
   {
    "duration": 3,
    "start_time": "2022-09-06T09:28:38.805Z"
   },
   {
    "duration": 474,
    "start_time": "2022-09-06T09:28:41.813Z"
   },
   {
    "duration": 72,
    "start_time": "2022-09-06T09:28:45.200Z"
   },
   {
    "duration": 3,
    "start_time": "2022-09-06T09:28:53.052Z"
   },
   {
    "duration": 12,
    "start_time": "2022-09-06T09:28:57.659Z"
   },
   {
    "duration": 9,
    "start_time": "2022-09-06T09:29:00.850Z"
   },
   {
    "duration": 2895,
    "start_time": "2022-09-11T16:25:35.818Z"
   },
   {
    "duration": 119,
    "start_time": "2022-09-11T16:25:38.715Z"
   },
   {
    "duration": 16,
    "start_time": "2022-09-11T16:25:38.836Z"
   },
   {
    "duration": 11,
    "start_time": "2022-09-11T16:25:38.854Z"
   },
   {
    "duration": 7,
    "start_time": "2022-09-11T16:25:38.866Z"
   },
   {
    "duration": 6,
    "start_time": "2022-09-11T16:25:38.875Z"
   },
   {
    "duration": 1310,
    "start_time": "2022-09-11T16:25:38.883Z"
   },
   {
    "duration": 24,
    "start_time": "2022-09-11T16:25:40.199Z"
   },
   {
    "duration": 107,
    "start_time": "2022-09-11T16:25:40.226Z"
   },
   {
    "duration": 4,
    "start_time": "2022-09-11T16:26:00.810Z"
   },
   {
    "duration": 5,
    "start_time": "2022-09-11T16:26:01.125Z"
   },
   {
    "duration": 5,
    "start_time": "2022-09-11T16:27:39.746Z"
   },
   {
    "duration": 5,
    "start_time": "2022-09-11T16:27:42.410Z"
   },
   {
    "duration": 6,
    "start_time": "2022-09-11T16:27:42.582Z"
   },
   {
    "duration": 3,
    "start_time": "2022-09-11T16:27:44.000Z"
   },
   {
    "duration": 5,
    "start_time": "2022-09-11T16:27:44.170Z"
   },
   {
    "duration": 5,
    "start_time": "2022-09-11T16:27:44.357Z"
   },
   {
    "duration": 9,
    "start_time": "2022-09-11T16:30:42.425Z"
   },
   {
    "duration": 8,
    "start_time": "2022-09-11T16:30:46.252Z"
   },
   {
    "duration": 2,
    "start_time": "2022-09-11T16:31:09.505Z"
   },
   {
    "duration": 16,
    "start_time": "2022-09-11T16:31:16.234Z"
   },
   {
    "duration": 12,
    "start_time": "2022-09-11T16:31:19.894Z"
   },
   {
    "duration": 423,
    "start_time": "2022-09-11T16:31:20.078Z"
   },
   {
    "duration": 16,
    "start_time": "2022-09-11T16:33:11.999Z"
   },
   {
    "duration": 17,
    "start_time": "2022-09-11T16:33:58.227Z"
   },
   {
    "duration": 22,
    "start_time": "2022-09-11T16:34:08.284Z"
   },
   {
    "duration": 17,
    "start_time": "2022-09-11T16:35:58.922Z"
   },
   {
    "duration": 454,
    "start_time": "2022-09-11T16:36:03.110Z"
   },
   {
    "duration": 20,
    "start_time": "2022-09-11T16:36:10.412Z"
   },
   {
    "duration": 2,
    "start_time": "2022-09-11T16:47:22.930Z"
   },
   {
    "duration": 20,
    "start_time": "2022-09-11T16:47:24.636Z"
   },
   {
    "duration": 4,
    "start_time": "2022-09-11T16:47:45.602Z"
   },
   {
    "duration": 10,
    "start_time": "2022-09-11T16:47:49.126Z"
   },
   {
    "duration": 3,
    "start_time": "2022-09-11T16:47:59.626Z"
   },
   {
    "duration": 18,
    "start_time": "2022-09-11T16:48:03.023Z"
   },
   {
    "duration": 3,
    "start_time": "2022-09-11T16:48:09.737Z"
   },
   {
    "duration": 445,
    "start_time": "2022-09-11T16:48:10.859Z"
   },
   {
    "duration": 2,
    "start_time": "2022-09-11T16:48:17.744Z"
   },
   {
    "duration": 21,
    "start_time": "2022-09-11T16:48:18.066Z"
   },
   {
    "duration": 3,
    "start_time": "2022-09-11T16:49:35.412Z"
   },
   {
    "duration": 4,
    "start_time": "2022-09-11T16:49:35.657Z"
   },
   {
    "duration": 5,
    "start_time": "2022-09-11T16:49:36.042Z"
   },
   {
    "duration": 5,
    "start_time": "2022-09-11T16:49:36.415Z"
   },
   {
    "duration": 2,
    "start_time": "2022-09-11T16:49:36.980Z"
   },
   {
    "duration": 23,
    "start_time": "2022-09-11T16:49:37.717Z"
   },
   {
    "duration": 19,
    "start_time": "2022-09-11T16:50:03.747Z"
   },
   {
    "duration": 3,
    "start_time": "2022-09-11T16:51:26.619Z"
   },
   {
    "duration": 2,
    "start_time": "2022-09-11T16:54:24.093Z"
   },
   {
    "duration": 2,
    "start_time": "2022-09-11T16:54:24.265Z"
   },
   {
    "duration": 3,
    "start_time": "2022-09-11T16:54:24.409Z"
   },
   {
    "duration": 2,
    "start_time": "2022-09-11T16:54:24.729Z"
   },
   {
    "duration": 2,
    "start_time": "2022-09-11T16:54:24.957Z"
   },
   {
    "duration": 2,
    "start_time": "2022-09-11T16:54:25.560Z"
   },
   {
    "duration": 3,
    "start_time": "2022-09-11T16:56:41.709Z"
   },
   {
    "duration": 20,
    "start_time": "2022-09-11T16:56:42.389Z"
   },
   {
    "duration": 9,
    "start_time": "2022-09-11T16:56:59.163Z"
   },
   {
    "duration": 11,
    "start_time": "2022-09-11T16:57:11.087Z"
   },
   {
    "duration": 14,
    "start_time": "2022-09-11T16:57:39.448Z"
   },
   {
    "duration": 10,
    "start_time": "2022-09-11T16:58:07.043Z"
   },
   {
    "duration": 8,
    "start_time": "2022-09-11T17:00:11.574Z"
   },
   {
    "duration": 4,
    "start_time": "2022-09-11T17:31:00.730Z"
   },
   {
    "duration": 5,
    "start_time": "2022-09-11T17:31:01.474Z"
   },
   {
    "duration": 3,
    "start_time": "2022-09-11T17:31:15.312Z"
   },
   {
    "duration": 4,
    "start_time": "2022-09-11T17:31:15.570Z"
   },
   {
    "duration": 4,
    "start_time": "2022-09-11T17:31:15.816Z"
   },
   {
    "duration": 3,
    "start_time": "2022-09-11T17:31:54.340Z"
   },
   {
    "duration": 3,
    "start_time": "2022-09-11T17:32:11.270Z"
   },
   {
    "duration": 21,
    "start_time": "2022-09-11T17:32:12.434Z"
   },
   {
    "duration": 15,
    "start_time": "2022-09-11T17:32:21.432Z"
   },
   {
    "duration": 9,
    "start_time": "2022-09-11T17:32:42.072Z"
   },
   {
    "duration": 4,
    "start_time": "2022-09-11T17:35:35.345Z"
   },
   {
    "duration": 4,
    "start_time": "2022-09-11T17:36:10.706Z"
   },
   {
    "duration": 5,
    "start_time": "2022-09-11T17:36:21.576Z"
   },
   {
    "duration": 5,
    "start_time": "2022-09-11T17:36:29.048Z"
   },
   {
    "duration": 3,
    "start_time": "2022-09-11T17:38:14.770Z"
   },
   {
    "duration": 5,
    "start_time": "2022-09-11T17:38:15.090Z"
   },
   {
    "duration": 5,
    "start_time": "2022-09-11T17:38:15.454Z"
   },
   {
    "duration": 9,
    "start_time": "2022-09-11T17:39:09.872Z"
   },
   {
    "duration": 8,
    "start_time": "2022-09-11T17:39:10.121Z"
   },
   {
    "duration": 8,
    "start_time": "2022-09-11T17:39:10.494Z"
   },
   {
    "duration": 5,
    "start_time": "2022-09-11T17:39:18.572Z"
   },
   {
    "duration": 4,
    "start_time": "2022-09-11T17:39:36.197Z"
   },
   {
    "duration": 5,
    "start_time": "2022-09-11T17:41:07.186Z"
   },
   {
    "duration": 6,
    "start_time": "2022-09-11T17:41:19.313Z"
   },
   {
    "duration": 6,
    "start_time": "2022-09-11T17:41:58.736Z"
   },
   {
    "duration": 5,
    "start_time": "2022-09-11T17:45:44.728Z"
   },
   {
    "duration": 5,
    "start_time": "2022-09-11T17:45:57.254Z"
   },
   {
    "duration": 4,
    "start_time": "2022-09-11T17:52:54.049Z"
   },
   {
    "duration": 3,
    "start_time": "2022-09-11T17:52:55.298Z"
   },
   {
    "duration": 4,
    "start_time": "2022-09-11T17:52:59.577Z"
   },
   {
    "duration": 4,
    "start_time": "2022-09-11T17:53:24.943Z"
   },
   {
    "duration": 4,
    "start_time": "2022-09-11T17:53:34.271Z"
   },
   {
    "duration": 4,
    "start_time": "2022-09-11T17:53:50.375Z"
   },
   {
    "duration": 4,
    "start_time": "2022-09-11T17:54:20.262Z"
   },
   {
    "duration": 4,
    "start_time": "2022-09-11T17:54:28.947Z"
   },
   {
    "duration": 5,
    "start_time": "2022-09-11T17:54:40.621Z"
   },
   {
    "duration": 4,
    "start_time": "2022-09-11T17:54:40.890Z"
   },
   {
    "duration": 7,
    "start_time": "2022-09-11T18:02:11.712Z"
   },
   {
    "duration": 5,
    "start_time": "2022-09-11T18:02:28.082Z"
   },
   {
    "duration": 4,
    "start_time": "2022-09-11T18:03:05.283Z"
   },
   {
    "duration": 4,
    "start_time": "2022-09-11T18:03:29.790Z"
   },
   {
    "duration": 7,
    "start_time": "2022-09-11T18:05:47.651Z"
   },
   {
    "duration": 4,
    "start_time": "2022-09-11T18:06:33.303Z"
   },
   {
    "duration": 4,
    "start_time": "2022-09-11T18:06:33.814Z"
   },
   {
    "duration": 4,
    "start_time": "2022-09-11T18:06:34.205Z"
   },
   {
    "duration": 6,
    "start_time": "2022-09-11T18:08:47.558Z"
   },
   {
    "duration": 11,
    "start_time": "2022-09-11T18:08:51.005Z"
   },
   {
    "duration": 6,
    "start_time": "2022-09-11T18:08:55.436Z"
   },
   {
    "duration": 5,
    "start_time": "2022-09-11T18:09:00.379Z"
   },
   {
    "duration": 6,
    "start_time": "2022-09-11T18:09:01.583Z"
   },
   {
    "duration": 13,
    "start_time": "2022-09-11T18:10:14.181Z"
   },
   {
    "duration": 12,
    "start_time": "2022-09-11T18:10:23.170Z"
   },
   {
    "duration": 7,
    "start_time": "2022-09-11T18:10:53.367Z"
   },
   {
    "duration": 6,
    "start_time": "2022-09-11T18:10:57.533Z"
   },
   {
    "duration": 7,
    "start_time": "2022-09-11T18:11:00.535Z"
   },
   {
    "duration": 2,
    "start_time": "2022-09-11T18:13:26.898Z"
   },
   {
    "duration": 19,
    "start_time": "2022-09-11T18:17:53.488Z"
   },
   {
    "duration": 4,
    "start_time": "2022-09-11T18:18:14.855Z"
   },
   {
    "duration": 3,
    "start_time": "2022-09-11T18:18:15.076Z"
   },
   {
    "duration": 3,
    "start_time": "2022-09-11T18:18:15.268Z"
   },
   {
    "duration": 4,
    "start_time": "2022-09-11T18:18:15.591Z"
   },
   {
    "duration": 16,
    "start_time": "2022-09-11T18:18:20.457Z"
   },
   {
    "duration": 3,
    "start_time": "2022-09-11T18:18:43.240Z"
   },
   {
    "duration": 4,
    "start_time": "2022-09-11T18:18:48.011Z"
   },
   {
    "duration": 4,
    "start_time": "2022-09-11T18:18:53.162Z"
   },
   {
    "duration": 3,
    "start_time": "2022-09-11T18:18:55.571Z"
   },
   {
    "duration": 4,
    "start_time": "2022-09-11T18:18:55.838Z"
   },
   {
    "duration": 3,
    "start_time": "2022-09-11T18:18:56.158Z"
   },
   {
    "duration": 3,
    "start_time": "2022-09-11T18:18:57.071Z"
   },
   {
    "duration": 16,
    "start_time": "2022-09-11T18:18:58.998Z"
   },
   {
    "duration": 6,
    "start_time": "2022-09-11T18:30:36.586Z"
   },
   {
    "duration": 5,
    "start_time": "2022-09-11T18:30:42.669Z"
   },
   {
    "duration": 5,
    "start_time": "2022-09-11T18:30:46.906Z"
   },
   {
    "duration": 5,
    "start_time": "2022-09-11T18:31:27.153Z"
   },
   {
    "duration": 9,
    "start_time": "2022-09-11T18:34:38.915Z"
   },
   {
    "duration": 5,
    "start_time": "2022-09-11T18:34:53.468Z"
   },
   {
    "duration": 8,
    "start_time": "2022-09-11T18:35:34.895Z"
   },
   {
    "duration": 5,
    "start_time": "2022-09-11T18:39:06.424Z"
   },
   {
    "duration": 10,
    "start_time": "2022-09-11T18:40:23.597Z"
   },
   {
    "duration": 4,
    "start_time": "2022-09-11T18:41:14.476Z"
   },
   {
    "duration": 20,
    "start_time": "2022-09-11T18:41:20.044Z"
   },
   {
    "duration": 16,
    "start_time": "2022-09-11T18:43:08.505Z"
   },
   {
    "duration": 5,
    "start_time": "2022-09-11T18:43:25.159Z"
   },
   {
    "duration": 3,
    "start_time": "2022-09-11T18:43:38.544Z"
   },
   {
    "duration": 5,
    "start_time": "2022-09-11T18:43:39.276Z"
   },
   {
    "duration": 5,
    "start_time": "2022-09-11T18:43:45.934Z"
   },
   {
    "duration": 4,
    "start_time": "2022-09-11T18:43:49.546Z"
   },
   {
    "duration": 4,
    "start_time": "2022-09-11T18:43:49.742Z"
   },
   {
    "duration": 4,
    "start_time": "2022-09-11T18:43:49.941Z"
   },
   {
    "duration": 3,
    "start_time": "2022-09-11T18:43:50.257Z"
   },
   {
    "duration": 17,
    "start_time": "2022-09-11T18:43:54.459Z"
   },
   {
    "duration": 26,
    "start_time": "2022-09-11T18:44:11.210Z"
   },
   {
    "duration": 17,
    "start_time": "2022-09-11T18:44:26.542Z"
   },
   {
    "duration": 2,
    "start_time": "2022-09-11T18:49:00.050Z"
   },
   {
    "duration": 2,
    "start_time": "2022-09-11T18:49:38.100Z"
   },
   {
    "duration": 7,
    "start_time": "2022-09-11T18:50:02.302Z"
   },
   {
    "duration": 4,
    "start_time": "2022-09-11T18:50:02.878Z"
   },
   {
    "duration": 8,
    "start_time": "2022-09-11T18:50:22.009Z"
   },
   {
    "duration": 3,
    "start_time": "2022-09-11T18:50:30.411Z"
   },
   {
    "duration": 5,
    "start_time": "2022-09-11T18:50:45.330Z"
   },
   {
    "duration": 4,
    "start_time": "2022-09-11T18:51:19.306Z"
   },
   {
    "duration": 3,
    "start_time": "2022-09-11T18:51:19.777Z"
   },
   {
    "duration": 4,
    "start_time": "2022-09-11T18:51:32.473Z"
   },
   {
    "duration": 3,
    "start_time": "2022-09-11T18:51:39.488Z"
   },
   {
    "duration": 625,
    "start_time": "2022-09-11T18:52:21.182Z"
   },
   {
    "duration": 4,
    "start_time": "2022-09-11T18:52:27.183Z"
   },
   {
    "duration": 49,
    "start_time": "2022-09-11T18:52:27.607Z"
   },
   {
    "duration": 3,
    "start_time": "2022-09-11T18:52:40.563Z"
   },
   {
    "duration": 437,
    "start_time": "2022-09-11T18:52:41.250Z"
   },
   {
    "duration": 19,
    "start_time": "2022-09-11T18:52:42.539Z"
   },
   {
    "duration": 52,
    "start_time": "2022-09-11T18:52:44.207Z"
   },
   {
    "duration": 10,
    "start_time": "2022-09-11T18:52:48.537Z"
   },
   {
    "duration": 3,
    "start_time": "2022-09-11T18:53:20.703Z"
   },
   {
    "duration": 6,
    "start_time": "2022-09-11T18:53:21.095Z"
   },
   {
    "duration": 4,
    "start_time": "2022-09-11T18:53:21.491Z"
   },
   {
    "duration": 11,
    "start_time": "2022-09-11T18:53:22.310Z"
   },
   {
    "duration": 93,
    "start_time": "2022-09-11T18:54:59.210Z"
   },
   {
    "duration": 3,
    "start_time": "2022-09-11T18:55:04.750Z"
   },
   {
    "duration": 7,
    "start_time": "2022-09-11T18:55:05.661Z"
   },
   {
    "duration": 9,
    "start_time": "2022-09-11T18:55:15.454Z"
   },
   {
    "duration": 3,
    "start_time": "2022-09-11T18:55:19.105Z"
   },
   {
    "duration": 6,
    "start_time": "2022-09-11T18:55:20.518Z"
   },
   {
    "duration": 4,
    "start_time": "2022-09-11T18:55:20.877Z"
   },
   {
    "duration": 12,
    "start_time": "2022-09-11T18:55:24.372Z"
   },
   {
    "duration": 14,
    "start_time": "2022-09-11T19:03:06.438Z"
   },
   {
    "duration": 2,
    "start_time": "2022-09-11T19:07:10.844Z"
   },
   {
    "duration": 7,
    "start_time": "2022-09-11T19:07:10.848Z"
   },
   {
    "duration": 7,
    "start_time": "2022-09-11T19:07:10.856Z"
   },
   {
    "duration": 8,
    "start_time": "2022-09-11T19:07:10.864Z"
   },
   {
    "duration": 2,
    "start_time": "2022-09-11T19:07:15.844Z"
   },
   {
    "duration": 3,
    "start_time": "2022-09-11T19:07:43.121Z"
   },
   {
    "duration": 3,
    "start_time": "2022-09-11T19:07:47.110Z"
   },
   {
    "duration": 5,
    "start_time": "2022-09-11T19:07:49.283Z"
   },
   {
    "duration": 4,
    "start_time": "2022-09-11T19:07:49.952Z"
   },
   {
    "duration": 99,
    "start_time": "2022-09-11T19:07:53.239Z"
   },
   {
    "duration": 4,
    "start_time": "2022-09-11T19:08:26.442Z"
   },
   {
    "duration": 4,
    "start_time": "2022-09-11T19:08:26.780Z"
   },
   {
    "duration": 30,
    "start_time": "2022-09-11T19:08:30.312Z"
   },
   {
    "duration": 5,
    "start_time": "2022-09-11T19:08:43.559Z"
   },
   {
    "duration": 4,
    "start_time": "2022-09-11T19:08:43.752Z"
   },
   {
    "duration": 28,
    "start_time": "2022-09-11T19:08:46.626Z"
   },
   {
    "duration": 1016,
    "start_time": "2022-09-11T19:11:09.422Z"
   },
   {
    "duration": 29,
    "start_time": "2022-09-11T19:11:10.440Z"
   },
   {
    "duration": 14,
    "start_time": "2022-09-11T19:11:10.471Z"
   },
   {
    "duration": 9,
    "start_time": "2022-09-11T19:11:10.487Z"
   },
   {
    "duration": 7,
    "start_time": "2022-09-11T19:11:10.497Z"
   },
   {
    "duration": 8,
    "start_time": "2022-09-11T19:11:10.505Z"
   },
   {
    "duration": 751,
    "start_time": "2022-09-11T19:11:10.514Z"
   },
   {
    "duration": 21,
    "start_time": "2022-09-11T19:11:11.267Z"
   },
   {
    "duration": 3,
    "start_time": "2022-09-11T19:11:11.300Z"
   },
   {
    "duration": 5,
    "start_time": "2022-09-11T19:11:11.305Z"
   },
   {
    "duration": 4,
    "start_time": "2022-09-11T19:11:11.311Z"
   },
   {
    "duration": 5,
    "start_time": "2022-09-11T19:11:11.316Z"
   },
   {
    "duration": 4,
    "start_time": "2022-09-11T19:11:11.322Z"
   },
   {
    "duration": 4,
    "start_time": "2022-09-11T19:11:11.327Z"
   },
   {
    "duration": 4,
    "start_time": "2022-09-11T19:11:11.332Z"
   },
   {
    "duration": 6,
    "start_time": "2022-09-11T19:11:11.337Z"
   },
   {
    "duration": 4,
    "start_time": "2022-09-11T19:11:11.345Z"
   },
   {
    "duration": 116,
    "start_time": "2022-09-11T19:11:11.350Z"
   },
   {
    "duration": 0,
    "start_time": "2022-09-11T19:11:11.467Z"
   },
   {
    "duration": 0,
    "start_time": "2022-09-11T19:11:11.468Z"
   },
   {
    "duration": 0,
    "start_time": "2022-09-11T19:11:11.470Z"
   },
   {
    "duration": 0,
    "start_time": "2022-09-11T19:11:11.471Z"
   },
   {
    "duration": 0,
    "start_time": "2022-09-11T19:11:11.472Z"
   },
   {
    "duration": 0,
    "start_time": "2022-09-11T19:11:11.473Z"
   },
   {
    "duration": 0,
    "start_time": "2022-09-11T19:11:11.474Z"
   },
   {
    "duration": 0,
    "start_time": "2022-09-11T19:11:11.474Z"
   },
   {
    "duration": 0,
    "start_time": "2022-09-11T19:11:11.476Z"
   },
   {
    "duration": 0,
    "start_time": "2022-09-11T19:11:11.476Z"
   },
   {
    "duration": 0,
    "start_time": "2022-09-11T19:11:11.477Z"
   },
   {
    "duration": 0,
    "start_time": "2022-09-11T19:11:11.478Z"
   },
   {
    "duration": 0,
    "start_time": "2022-09-11T19:11:11.479Z"
   },
   {
    "duration": 3,
    "start_time": "2022-09-11T19:12:02.668Z"
   },
   {
    "duration": 4,
    "start_time": "2022-09-11T19:12:02.824Z"
   },
   {
    "duration": 4,
    "start_time": "2022-09-11T19:12:02.972Z"
   },
   {
    "duration": 4,
    "start_time": "2022-09-11T19:12:03.120Z"
   },
   {
    "duration": 5,
    "start_time": "2022-09-11T19:12:03.261Z"
   },
   {
    "duration": 5,
    "start_time": "2022-09-11T19:12:03.565Z"
   },
   {
    "duration": 5,
    "start_time": "2022-09-11T19:12:03.970Z"
   },
   {
    "duration": 26,
    "start_time": "2022-09-11T19:12:07.201Z"
   },
   {
    "duration": 29,
    "start_time": "2022-09-11T19:12:27.335Z"
   },
   {
    "duration": 3637,
    "start_time": "2022-09-11T19:12:31.856Z"
   },
   {
    "duration": 13,
    "start_time": "2022-09-11T19:13:15.335Z"
   },
   {
    "duration": 30,
    "start_time": "2022-09-11T19:13:27.780Z"
   },
   {
    "duration": 26,
    "start_time": "2022-09-11T19:22:26.974Z"
   },
   {
    "duration": 29,
    "start_time": "2022-09-11T19:24:10.019Z"
   },
   {
    "duration": 3926,
    "start_time": "2022-09-11T19:24:20.784Z"
   },
   {
    "duration": 3623,
    "start_time": "2022-09-11T19:25:59.400Z"
   },
   {
    "duration": 26,
    "start_time": "2022-09-11T19:29:09.407Z"
   },
   {
    "duration": 73,
    "start_time": "2022-09-11T19:29:31.964Z"
   },
   {
    "duration": 2,
    "start_time": "2022-09-11T19:31:09.963Z"
   },
   {
    "duration": 77,
    "start_time": "2022-09-11T19:32:22.330Z"
   },
   {
    "duration": 60,
    "start_time": "2022-09-11T19:32:28.508Z"
   },
   {
    "duration": 26,
    "start_time": "2022-09-11T19:32:34.362Z"
   },
   {
    "duration": 27,
    "start_time": "2022-09-11T19:34:32.723Z"
   },
   {
    "duration": 89,
    "start_time": "2022-09-11T19:34:34.346Z"
   },
   {
    "duration": 51,
    "start_time": "2022-09-11T19:34:54.812Z"
   },
   {
    "duration": 55,
    "start_time": "2022-09-11T19:35:54.775Z"
   },
   {
    "duration": 48,
    "start_time": "2022-09-11T19:35:59.296Z"
   },
   {
    "duration": 23,
    "start_time": "2022-09-11T19:36:20.788Z"
   },
   {
    "duration": 29,
    "start_time": "2022-09-11T19:42:59.851Z"
   },
   {
    "duration": 29,
    "start_time": "2022-09-11T19:46:20.492Z"
   },
   {
    "duration": 13,
    "start_time": "2022-09-11T19:47:16.573Z"
   },
   {
    "duration": 13,
    "start_time": "2022-09-11T19:47:31.176Z"
   },
   {
    "duration": 29,
    "start_time": "2022-09-11T19:47:34.257Z"
   },
   {
    "duration": 34,
    "start_time": "2022-09-11T19:47:38.804Z"
   },
   {
    "duration": 37,
    "start_time": "2022-09-11T19:47:44.179Z"
   },
   {
    "duration": 32,
    "start_time": "2022-09-11T19:47:48.665Z"
   },
   {
    "duration": 30,
    "start_time": "2022-09-11T19:47:52.880Z"
   },
   {
    "duration": 30,
    "start_time": "2022-09-11T19:47:56.563Z"
   },
   {
    "duration": 30,
    "start_time": "2022-09-11T19:47:59.801Z"
   },
   {
    "duration": 31,
    "start_time": "2022-09-11T19:48:42.250Z"
   },
   {
    "duration": 31,
    "start_time": "2022-09-11T19:48:46.902Z"
   },
   {
    "duration": 29,
    "start_time": "2022-09-11T19:51:15.614Z"
   },
   {
    "duration": 80,
    "start_time": "2022-09-11T19:51:23.170Z"
   },
   {
    "duration": 30,
    "start_time": "2022-09-11T19:52:20.791Z"
   },
   {
    "duration": 31,
    "start_time": "2022-09-11T19:53:03.346Z"
   },
   {
    "duration": 29,
    "start_time": "2022-09-11T19:58:00.168Z"
   },
   {
    "duration": 30,
    "start_time": "2022-09-11T19:58:08.524Z"
   },
   {
    "duration": 30,
    "start_time": "2022-09-11T19:58:30.907Z"
   },
   {
    "duration": 30,
    "start_time": "2022-09-11T19:59:51.856Z"
   },
   {
    "duration": 32,
    "start_time": "2022-09-11T19:59:57.838Z"
   },
   {
    "duration": 12,
    "start_time": "2022-09-11T20:03:17.986Z"
   },
   {
    "duration": 127,
    "start_time": "2022-09-11T20:06:45.651Z"
   },
   {
    "duration": 133,
    "start_time": "2022-09-11T20:07:21.569Z"
   },
   {
    "duration": 152,
    "start_time": "2022-09-11T20:22:26.859Z"
   },
   {
    "duration": 138,
    "start_time": "2022-09-11T20:22:32.892Z"
   },
   {
    "duration": 145,
    "start_time": "2022-09-11T20:22:52.909Z"
   },
   {
    "duration": 139,
    "start_time": "2022-09-11T20:24:31.282Z"
   },
   {
    "duration": 120,
    "start_time": "2022-09-11T20:24:48.618Z"
   },
   {
    "duration": 147,
    "start_time": "2022-09-11T20:26:01.978Z"
   },
   {
    "duration": 134,
    "start_time": "2022-09-11T20:26:08.575Z"
   },
   {
    "duration": 126,
    "start_time": "2022-09-11T20:26:23.342Z"
   },
   {
    "duration": 82,
    "start_time": "2022-09-11T20:26:38.341Z"
   },
   {
    "duration": 4,
    "start_time": "2022-09-11T20:28:24.309Z"
   },
   {
    "duration": 4,
    "start_time": "2022-09-11T20:29:16.659Z"
   },
   {
    "duration": 4,
    "start_time": "2022-09-11T20:29:16.895Z"
   },
   {
    "duration": 4,
    "start_time": "2022-09-11T20:29:17.174Z"
   },
   {
    "duration": 4,
    "start_time": "2022-09-11T20:31:19.101Z"
   },
   {
    "duration": 4,
    "start_time": "2022-09-11T20:35:20.214Z"
   },
   {
    "duration": 147,
    "start_time": "2022-09-11T20:44:57.676Z"
   },
   {
    "duration": 160,
    "start_time": "2022-09-11T20:45:34.053Z"
   },
   {
    "duration": 143,
    "start_time": "2022-09-11T20:45:34.899Z"
   },
   {
    "duration": 158,
    "start_time": "2022-09-11T20:45:39.080Z"
   },
   {
    "duration": 160,
    "start_time": "2022-09-11T20:45:42.419Z"
   },
   {
    "duration": 145,
    "start_time": "2022-09-11T20:46:19.127Z"
   },
   {
    "duration": 360,
    "start_time": "2022-09-11T20:46:29.672Z"
   },
   {
    "duration": 359,
    "start_time": "2022-09-11T20:47:09.867Z"
   },
   {
    "duration": 354,
    "start_time": "2022-09-11T20:48:00.840Z"
   },
   {
    "duration": 402,
    "start_time": "2022-09-11T20:48:55.356Z"
   },
   {
    "duration": 29,
    "start_time": "2022-09-11T20:50:28.447Z"
   },
   {
    "duration": 396,
    "start_time": "2022-09-11T20:51:37.491Z"
   },
   {
    "duration": 444,
    "start_time": "2022-09-11T20:51:53.790Z"
   },
   {
    "duration": 407,
    "start_time": "2022-09-11T20:53:42.398Z"
   },
   {
    "duration": 408,
    "start_time": "2022-09-11T20:54:28.763Z"
   },
   {
    "duration": 393,
    "start_time": "2022-09-11T20:55:12.891Z"
   },
   {
    "duration": 12297,
    "start_time": "2022-09-11T20:55:53.867Z"
   },
   {
    "duration": 2,
    "start_time": "2022-09-11T21:06:10.066Z"
   },
   {
    "duration": 2,
    "start_time": "2022-09-11T21:06:10.265Z"
   },
   {
    "duration": 79,
    "start_time": "2022-09-11T21:08:22.420Z"
   },
   {
    "duration": 9965,
    "start_time": "2022-09-11T21:09:54.940Z"
   },
   {
    "duration": 12104,
    "start_time": "2022-09-11T21:10:14.260Z"
   },
   {
    "duration": 12289,
    "start_time": "2022-09-11T21:12:09.759Z"
   },
   {
    "duration": 12764,
    "start_time": "2022-09-11T21:12:22.050Z"
   },
   {
    "duration": 11900,
    "start_time": "2022-09-11T21:13:04.037Z"
   },
   {
    "duration": 9922,
    "start_time": "2022-09-11T21:23:50.602Z"
   },
   {
    "duration": 120,
    "start_time": "2022-09-11T21:30:06.017Z"
   },
   {
    "duration": 145,
    "start_time": "2022-09-11T21:30:10.247Z"
   },
   {
    "duration": 1267,
    "start_time": "2022-09-11T22:02:44.308Z"
   },
   {
    "duration": 31,
    "start_time": "2022-09-11T22:02:45.577Z"
   },
   {
    "duration": 13,
    "start_time": "2022-09-11T22:02:45.609Z"
   },
   {
    "duration": 10,
    "start_time": "2022-09-11T22:02:45.625Z"
   },
   {
    "duration": 6,
    "start_time": "2022-09-11T22:02:45.637Z"
   },
   {
    "duration": 8,
    "start_time": "2022-09-11T22:02:45.644Z"
   },
   {
    "duration": 605,
    "start_time": "2022-09-11T22:02:45.654Z"
   },
   {
    "duration": 23,
    "start_time": "2022-09-11T22:02:46.261Z"
   },
   {
    "duration": 15,
    "start_time": "2022-09-11T22:02:46.286Z"
   },
   {
    "duration": 5,
    "start_time": "2022-09-11T22:02:46.305Z"
   },
   {
    "duration": 7,
    "start_time": "2022-09-11T22:02:46.311Z"
   },
   {
    "duration": 8,
    "start_time": "2022-09-11T22:02:46.319Z"
   },
   {
    "duration": 6,
    "start_time": "2022-09-11T22:02:46.329Z"
   },
   {
    "duration": 6,
    "start_time": "2022-09-11T22:02:46.337Z"
   },
   {
    "duration": 7,
    "start_time": "2022-09-11T22:02:46.344Z"
   },
   {
    "duration": 7,
    "start_time": "2022-09-11T22:02:46.353Z"
   },
   {
    "duration": 7,
    "start_time": "2022-09-11T22:02:46.362Z"
   },
   {
    "duration": 31,
    "start_time": "2022-09-11T22:02:46.370Z"
   },
   {
    "duration": 4,
    "start_time": "2022-09-11T22:02:46.403Z"
   },
   {
    "duration": 159,
    "start_time": "2022-09-11T22:02:46.409Z"
   },
   {
    "duration": 167,
    "start_time": "2022-09-11T22:02:46.570Z"
   },
   {
    "duration": 10106,
    "start_time": "2022-09-11T22:02:46.738Z"
   },
   {
    "duration": 11840,
    "start_time": "2022-09-11T22:02:56.846Z"
   },
   {
    "duration": 139,
    "start_time": "2022-09-11T22:03:08.687Z"
   },
   {
    "duration": 151,
    "start_time": "2022-09-11T22:03:08.827Z"
   },
   {
    "duration": 9971,
    "start_time": "2022-09-11T22:03:08.980Z"
   },
   {
    "duration": 11882,
    "start_time": "2022-09-11T22:03:18.952Z"
   },
   {
    "duration": 143,
    "start_time": "2022-09-11T22:03:37.915Z"
   },
   {
    "duration": 144,
    "start_time": "2022-09-11T22:03:43.795Z"
   },
   {
    "duration": 2,
    "start_time": "2022-09-11T22:04:22.492Z"
   },
   {
    "duration": 2,
    "start_time": "2022-09-11T22:04:25.741Z"
   },
   {
    "duration": 1264,
    "start_time": "2022-09-11T22:07:07.283Z"
   },
   {
    "duration": 30,
    "start_time": "2022-09-11T22:07:08.549Z"
   },
   {
    "duration": 12,
    "start_time": "2022-09-11T22:07:08.580Z"
   },
   {
    "duration": 9,
    "start_time": "2022-09-11T22:07:08.594Z"
   },
   {
    "duration": 7,
    "start_time": "2022-09-11T22:07:08.604Z"
   },
   {
    "duration": 7,
    "start_time": "2022-09-11T22:07:08.612Z"
   },
   {
    "duration": 542,
    "start_time": "2022-09-11T22:07:08.620Z"
   },
   {
    "duration": 21,
    "start_time": "2022-09-11T22:07:09.163Z"
   },
   {
    "duration": 15,
    "start_time": "2022-09-11T22:07:09.185Z"
   },
   {
    "duration": 5,
    "start_time": "2022-09-11T22:07:09.202Z"
   },
   {
    "duration": 6,
    "start_time": "2022-09-11T22:07:09.208Z"
   },
   {
    "duration": 11,
    "start_time": "2022-09-11T22:07:09.215Z"
   },
   {
    "duration": 6,
    "start_time": "2022-09-11T22:07:09.227Z"
   },
   {
    "duration": 5,
    "start_time": "2022-09-11T22:07:09.234Z"
   },
   {
    "duration": 5,
    "start_time": "2022-09-11T22:07:09.240Z"
   },
   {
    "duration": 5,
    "start_time": "2022-09-11T22:07:09.246Z"
   },
   {
    "duration": 4,
    "start_time": "2022-09-11T22:07:09.253Z"
   },
   {
    "duration": 5,
    "start_time": "2022-09-11T22:07:09.259Z"
   },
   {
    "duration": 6,
    "start_time": "2022-09-11T22:07:09.265Z"
   },
   {
    "duration": 155,
    "start_time": "2022-09-11T22:07:09.272Z"
   },
   {
    "duration": 151,
    "start_time": "2022-09-11T22:07:09.429Z"
   },
   {
    "duration": 10022,
    "start_time": "2022-09-11T22:07:09.581Z"
   },
   {
    "duration": 11698,
    "start_time": "2022-09-11T22:07:19.605Z"
   },
   {
    "duration": 140,
    "start_time": "2022-09-11T22:07:31.305Z"
   },
   {
    "duration": 144,
    "start_time": "2022-09-11T22:07:31.447Z"
   },
   {
    "duration": 10431,
    "start_time": "2022-09-11T22:07:31.600Z"
   },
   {
    "duration": 12178,
    "start_time": "2022-09-11T22:07:42.032Z"
   },
   {
    "duration": 2,
    "start_time": "2022-09-11T22:07:54.213Z"
   },
   {
    "duration": 1940,
    "start_time": "2022-09-12T06:28:04.566Z"
   },
   {
    "duration": 31,
    "start_time": "2022-09-12T06:28:06.509Z"
   },
   {
    "duration": 16,
    "start_time": "2022-09-12T06:28:06.542Z"
   },
   {
    "duration": 13,
    "start_time": "2022-09-12T06:28:06.561Z"
   },
   {
    "duration": 8,
    "start_time": "2022-09-12T06:28:06.576Z"
   },
   {
    "duration": 41,
    "start_time": "2022-09-12T06:28:06.595Z"
   },
   {
    "duration": 692,
    "start_time": "2022-09-12T06:28:06.638Z"
   },
   {
    "duration": 25,
    "start_time": "2022-09-12T06:28:07.331Z"
   },
   {
    "duration": 12,
    "start_time": "2022-09-12T06:28:07.358Z"
   },
   {
    "duration": 6,
    "start_time": "2022-09-12T06:28:07.381Z"
   },
   {
    "duration": 19,
    "start_time": "2022-09-12T06:28:07.389Z"
   },
   {
    "duration": 21,
    "start_time": "2022-09-12T06:28:07.411Z"
   },
   {
    "duration": 6,
    "start_time": "2022-09-12T06:28:07.434Z"
   },
   {
    "duration": 15,
    "start_time": "2022-09-12T06:28:07.442Z"
   },
   {
    "duration": 12,
    "start_time": "2022-09-12T06:28:07.458Z"
   },
   {
    "duration": 15,
    "start_time": "2022-09-12T06:28:07.472Z"
   },
   {
    "duration": 17,
    "start_time": "2022-09-12T06:28:07.489Z"
   },
   {
    "duration": 8,
    "start_time": "2022-09-12T06:28:07.507Z"
   },
   {
    "duration": 8,
    "start_time": "2022-09-12T06:28:07.516Z"
   },
   {
    "duration": 178,
    "start_time": "2022-09-12T06:28:07.526Z"
   },
   {
    "duration": 190,
    "start_time": "2022-09-12T06:28:07.706Z"
   },
   {
    "duration": 12088,
    "start_time": "2022-09-12T06:28:07.898Z"
   },
   {
    "duration": 13980,
    "start_time": "2022-09-12T06:28:19.988Z"
   },
   {
    "duration": 170,
    "start_time": "2022-09-12T06:28:33.970Z"
   },
   {
    "duration": 181,
    "start_time": "2022-09-12T06:28:34.142Z"
   },
   {
    "duration": 12184,
    "start_time": "2022-09-12T06:28:34.325Z"
   },
   {
    "duration": 14563,
    "start_time": "2022-09-12T06:28:46.511Z"
   },
   {
    "duration": 2,
    "start_time": "2022-09-12T06:29:01.079Z"
   },
   {
    "duration": 1747,
    "start_time": "2022-09-12T12:59:10.640Z"
   },
   {
    "duration": 69,
    "start_time": "2022-09-12T12:59:12.625Z"
   },
   {
    "duration": 15,
    "start_time": "2022-09-12T12:59:15.546Z"
   },
   {
    "duration": 12,
    "start_time": "2022-09-12T12:59:16.041Z"
   },
   {
    "duration": 7,
    "start_time": "2022-09-12T12:59:18.553Z"
   },
   {
    "duration": 7,
    "start_time": "2022-09-12T12:59:18.881Z"
   },
   {
    "duration": 107,
    "start_time": "2022-09-12T12:59:20.825Z"
   },
   {
    "duration": 65,
    "start_time": "2022-09-12T12:59:37.765Z"
   },
   {
    "duration": 10052,
    "start_time": "2022-09-12T12:59:44.495Z"
   },
   {
    "duration": 971,
    "start_time": "2022-09-12T13:03:02.567Z"
   },
   {
    "duration": 25,
    "start_time": "2022-09-12T13:04:19.799Z"
   },
   {
    "duration": 1546,
    "start_time": "2022-09-12T19:38:12.412Z"
   },
   {
    "duration": 1377,
    "start_time": "2022-09-12T19:38:19.735Z"
   },
   {
    "duration": 66,
    "start_time": "2022-09-12T19:38:21.114Z"
   },
   {
    "duration": 13,
    "start_time": "2022-09-12T19:38:21.182Z"
   },
   {
    "duration": 13,
    "start_time": "2022-09-12T19:38:21.197Z"
   },
   {
    "duration": 6,
    "start_time": "2022-09-12T19:38:21.212Z"
   },
   {
    "duration": 8,
    "start_time": "2022-09-12T19:38:21.220Z"
   },
   {
    "duration": 723,
    "start_time": "2022-09-12T19:38:21.230Z"
   },
   {
    "duration": 46,
    "start_time": "2022-09-12T19:38:21.955Z"
   },
   {
    "duration": 4,
    "start_time": "2022-09-12T19:38:22.003Z"
   },
   {
    "duration": 10,
    "start_time": "2022-09-12T19:38:22.011Z"
   },
   {
    "duration": 9,
    "start_time": "2022-09-12T19:38:22.023Z"
   },
   {
    "duration": 10,
    "start_time": "2022-09-12T19:38:22.035Z"
   },
   {
    "duration": 14,
    "start_time": "2022-09-12T19:38:22.047Z"
   },
   {
    "duration": 10,
    "start_time": "2022-09-12T19:38:22.063Z"
   },
   {
    "duration": 19,
    "start_time": "2022-09-12T19:38:22.074Z"
   },
   {
    "duration": 6,
    "start_time": "2022-09-12T19:38:22.095Z"
   },
   {
    "duration": 5,
    "start_time": "2022-09-12T19:38:22.103Z"
   },
   {
    "duration": 6,
    "start_time": "2022-09-12T19:38:22.110Z"
   },
   {
    "duration": 6,
    "start_time": "2022-09-12T19:38:22.118Z"
   },
   {
    "duration": 187,
    "start_time": "2022-09-12T19:38:22.126Z"
   },
   {
    "duration": 185,
    "start_time": "2022-09-12T19:38:22.315Z"
   },
   {
    "duration": 11969,
    "start_time": "2022-09-12T19:38:22.503Z"
   },
   {
    "duration": 14442,
    "start_time": "2022-09-12T19:38:34.474Z"
   },
   {
    "duration": 161,
    "start_time": "2022-09-12T19:38:48.918Z"
   },
   {
    "duration": 171,
    "start_time": "2022-09-12T19:38:49.089Z"
   },
   {
    "duration": 12251,
    "start_time": "2022-09-12T19:38:49.262Z"
   },
   {
    "duration": 14545,
    "start_time": "2022-09-12T19:39:01.515Z"
   },
   {
    "duration": 3,
    "start_time": "2022-09-12T19:39:16.063Z"
   },
   {
    "duration": 12049,
    "start_time": "2022-09-12T19:39:16.067Z"
   },
   {
    "duration": 2634,
    "start_time": "2022-09-12T19:40:32.731Z"
   },
   {
    "duration": 16977,
    "start_time": "2022-09-12T19:47:45.704Z"
   },
   {
    "duration": 15719,
    "start_time": "2022-09-12T19:48:06.042Z"
   },
   {
    "duration": 16923,
    "start_time": "2022-09-12T19:48:50.297Z"
   },
   {
    "duration": 1549,
    "start_time": "2022-09-12T19:49:30.042Z"
   },
   {
    "duration": 1741,
    "start_time": "2022-09-12T19:49:47.923Z"
   },
   {
    "duration": 2303,
    "start_time": "2022-09-12T19:50:03.555Z"
   },
   {
    "duration": 2143,
    "start_time": "2022-09-12T19:50:55.199Z"
   },
   {
    "duration": 158,
    "start_time": "2022-09-12T19:52:46.290Z"
   },
   {
    "duration": 2047,
    "start_time": "2022-09-12T19:52:50.359Z"
   },
   {
    "duration": 3896,
    "start_time": "2022-09-12T19:58:56.487Z"
   },
   {
    "duration": 2207,
    "start_time": "2022-09-12T19:59:19.993Z"
   },
   {
    "duration": 197,
    "start_time": "2022-09-12T20:20:41.528Z"
   },
   {
    "duration": 7,
    "start_time": "2022-09-12T20:20:53.721Z"
   },
   {
    "duration": 163,
    "start_time": "2022-09-12T20:21:03.902Z"
   },
   {
    "duration": 208,
    "start_time": "2022-09-12T20:21:21.057Z"
   },
   {
    "duration": 59,
    "start_time": "2022-09-12T20:31:00.456Z"
   },
   {
    "duration": 42,
    "start_time": "2022-09-12T20:31:15.788Z"
   },
   {
    "duration": 47,
    "start_time": "2022-09-12T20:31:35.911Z"
   },
   {
    "duration": 54,
    "start_time": "2022-09-12T20:32:55.026Z"
   },
   {
    "duration": 47,
    "start_time": "2022-09-12T20:33:39.069Z"
   },
   {
    "duration": 37,
    "start_time": "2022-09-12T20:34:04.955Z"
   },
   {
    "duration": 12198,
    "start_time": "2022-09-12T20:34:31.264Z"
   },
   {
    "duration": 12011,
    "start_time": "2022-09-12T20:35:11.085Z"
   },
   {
    "duration": 44,
    "start_time": "2022-09-13T06:59:37.487Z"
   },
   {
    "duration": 106,
    "start_time": "2022-09-13T06:59:43.200Z"
   },
   {
    "duration": 1532,
    "start_time": "2022-09-13T06:59:55.704Z"
   },
   {
    "duration": 122,
    "start_time": "2022-09-13T06:59:57.238Z"
   },
   {
    "duration": 12,
    "start_time": "2022-09-13T06:59:57.361Z"
   },
   {
    "duration": 14,
    "start_time": "2022-09-13T06:59:57.375Z"
   },
   {
    "duration": 8,
    "start_time": "2022-09-13T06:59:57.390Z"
   },
   {
    "duration": 9,
    "start_time": "2022-09-13T06:59:57.399Z"
   },
   {
    "duration": 596,
    "start_time": "2022-09-13T06:59:57.409Z"
   },
   {
    "duration": 30,
    "start_time": "2022-09-13T06:59:58.007Z"
   },
   {
    "duration": 3,
    "start_time": "2022-09-13T06:59:58.038Z"
   },
   {
    "duration": 9,
    "start_time": "2022-09-13T06:59:58.044Z"
   },
   {
    "duration": 9,
    "start_time": "2022-09-13T06:59:58.054Z"
   },
   {
    "duration": 6,
    "start_time": "2022-09-13T06:59:58.065Z"
   },
   {
    "duration": 9,
    "start_time": "2022-09-13T06:59:58.072Z"
   },
   {
    "duration": 9,
    "start_time": "2022-09-13T06:59:58.082Z"
   },
   {
    "duration": 8,
    "start_time": "2022-09-13T06:59:58.092Z"
   },
   {
    "duration": 28,
    "start_time": "2022-09-13T06:59:58.101Z"
   },
   {
    "duration": 6,
    "start_time": "2022-09-13T06:59:58.132Z"
   },
   {
    "duration": 8,
    "start_time": "2022-09-13T06:59:58.140Z"
   },
   {
    "duration": 10,
    "start_time": "2022-09-13T06:59:58.150Z"
   },
   {
    "duration": 170,
    "start_time": "2022-09-13T06:59:58.162Z"
   },
   {
    "duration": 2028,
    "start_time": "2022-09-13T06:59:58.340Z"
   },
   {
    "duration": 281,
    "start_time": "2022-09-13T07:00:00.370Z"
   },
   {
    "duration": 11266,
    "start_time": "2022-09-13T07:00:00.653Z"
   },
   {
    "duration": 13083,
    "start_time": "2022-09-13T07:00:11.932Z"
   },
   {
    "duration": 158,
    "start_time": "2022-09-13T07:00:25.017Z"
   },
   {
    "duration": 166,
    "start_time": "2022-09-13T07:00:25.176Z"
   },
   {
    "duration": 11112,
    "start_time": "2022-09-13T07:00:25.344Z"
   },
   {
    "duration": 13228,
    "start_time": "2022-09-13T07:00:36.459Z"
   },
   {
    "duration": 3,
    "start_time": "2022-09-13T07:00:49.689Z"
   },
   {
    "duration": 161,
    "start_time": "2022-09-13T07:01:41.409Z"
   },
   {
    "duration": 139,
    "start_time": "2022-09-13T07:02:50.337Z"
   },
   {
    "duration": 139,
    "start_time": "2022-09-13T07:07:45.186Z"
   },
   {
    "duration": 167,
    "start_time": "2022-09-13T07:08:03.797Z"
   },
   {
    "duration": 171,
    "start_time": "2022-09-13T07:10:16.000Z"
   },
   {
    "duration": 179,
    "start_time": "2022-09-13T07:11:11.562Z"
   },
   {
    "duration": 178,
    "start_time": "2022-09-13T07:12:14.084Z"
   },
   {
    "duration": 165,
    "start_time": "2022-09-13T07:12:43.068Z"
   },
   {
    "duration": 3,
    "start_time": "2022-09-13T07:16:43.312Z"
   },
   {
    "duration": 3,
    "start_time": "2022-09-13T07:17:00.202Z"
   },
   {
    "duration": 3,
    "start_time": "2022-09-13T07:17:13.304Z"
   },
   {
    "duration": 3,
    "start_time": "2022-09-13T07:17:26.090Z"
   },
   {
    "duration": 97,
    "start_time": "2022-09-13T07:21:52.268Z"
   },
   {
    "duration": 2,
    "start_time": "2022-09-13T07:22:08.468Z"
   },
   {
    "duration": 1804,
    "start_time": "2022-09-13T07:28:39.094Z"
   },
   {
    "duration": 10764,
    "start_time": "2022-09-13T07:31:10.353Z"
   },
   {
    "duration": 10708,
    "start_time": "2022-09-13T07:31:32.928Z"
   },
   {
    "duration": 10674,
    "start_time": "2022-09-13T07:33:21.334Z"
   },
   {
    "duration": 10715,
    "start_time": "2022-09-13T07:34:11.478Z"
   },
   {
    "duration": 10749,
    "start_time": "2022-09-13T07:36:42.627Z"
   },
   {
    "duration": 12606,
    "start_time": "2022-09-13T07:39:00.280Z"
   },
   {
    "duration": 12572,
    "start_time": "2022-09-13T07:39:13.806Z"
   },
   {
    "duration": 12554,
    "start_time": "2022-09-13T07:52:02.372Z"
   },
   {
    "duration": 3,
    "start_time": "2022-09-13T07:52:35.212Z"
   },
   {
    "duration": 3,
    "start_time": "2022-09-13T07:58:51.740Z"
   },
   {
    "duration": 9,
    "start_time": "2022-09-13T07:59:52.314Z"
   },
   {
    "duration": 10,
    "start_time": "2022-09-13T08:00:09.695Z"
   },
   {
    "duration": 485,
    "start_time": "2022-09-13T08:00:23.265Z"
   },
   {
    "duration": 24,
    "start_time": "2022-09-13T08:02:40.284Z"
   },
   {
    "duration": 4,
    "start_time": "2022-09-13T08:02:43.771Z"
   },
   {
    "duration": 4,
    "start_time": "2022-09-13T08:03:01.738Z"
   },
   {
    "duration": 5,
    "start_time": "2022-09-13T08:03:16.442Z"
   },
   {
    "duration": 103,
    "start_time": "2022-09-13T08:07:38.368Z"
   },
   {
    "duration": 4,
    "start_time": "2022-09-13T08:07:42.901Z"
   },
   {
    "duration": 4,
    "start_time": "2022-09-13T08:15:40.025Z"
   },
   {
    "duration": 11,
    "start_time": "2022-09-13T08:15:53.472Z"
   },
   {
    "duration": 9,
    "start_time": "2022-09-13T08:16:21.659Z"
   },
   {
    "duration": 9,
    "start_time": "2022-09-13T08:16:23.935Z"
   },
   {
    "duration": 152,
    "start_time": "2022-09-13T08:16:39.833Z"
   },
   {
    "duration": 10,
    "start_time": "2022-09-13T08:16:44.710Z"
   },
   {
    "duration": 3,
    "start_time": "2022-09-13T08:20:11.174Z"
   },
   {
    "duration": 513,
    "start_time": "2022-09-13T08:20:11.557Z"
   },
   {
    "duration": 4,
    "start_time": "2022-09-13T08:20:12.155Z"
   },
   {
    "duration": 23,
    "start_time": "2022-09-13T08:20:13.560Z"
   },
   {
    "duration": 5,
    "start_time": "2022-09-13T08:20:14.953Z"
   },
   {
    "duration": 4,
    "start_time": "2022-09-13T08:21:04.194Z"
   },
   {
    "duration": 4,
    "start_time": "2022-09-13T08:21:07.701Z"
   },
   {
    "duration": 5,
    "start_time": "2022-09-13T08:21:09.514Z"
   },
   {
    "duration": 4,
    "start_time": "2022-09-13T08:21:31.216Z"
   },
   {
    "duration": 4,
    "start_time": "2022-09-13T08:21:34.076Z"
   },
   {
    "duration": 5,
    "start_time": "2022-09-13T08:21:37.372Z"
   },
   {
    "duration": 4,
    "start_time": "2022-09-13T08:24:37.026Z"
   },
   {
    "duration": 3,
    "start_time": "2022-09-13T08:33:19.178Z"
   },
   {
    "duration": 2,
    "start_time": "2022-09-13T08:33:19.393Z"
   },
   {
    "duration": 3,
    "start_time": "2022-09-13T08:33:19.631Z"
   },
   {
    "duration": 2,
    "start_time": "2022-09-13T08:33:19.930Z"
   },
   {
    "duration": 9,
    "start_time": "2022-09-13T08:33:20.437Z"
   },
   {
    "duration": 6,
    "start_time": "2022-09-13T08:33:26.552Z"
   },
   {
    "duration": 5,
    "start_time": "2022-09-13T08:34:03.058Z"
   },
   {
    "duration": 10,
    "start_time": "2022-09-13T08:48:51.018Z"
   },
   {
    "duration": 10,
    "start_time": "2022-09-13T08:49:36.388Z"
   },
   {
    "duration": 9,
    "start_time": "2022-09-13T08:50:15.108Z"
   },
   {
    "duration": 11,
    "start_time": "2022-09-13T08:50:42.707Z"
   },
   {
    "duration": 12,
    "start_time": "2022-09-13T08:50:59.199Z"
   },
   {
    "duration": 7,
    "start_time": "2022-09-13T08:51:05.274Z"
   },
   {
    "duration": 7,
    "start_time": "2022-09-13T08:51:23.546Z"
   },
   {
    "duration": 9,
    "start_time": "2022-09-13T08:51:54.407Z"
   },
   {
    "duration": 11,
    "start_time": "2022-09-13T08:51:59.528Z"
   },
   {
    "duration": 8,
    "start_time": "2022-09-13T08:52:03.091Z"
   },
   {
    "duration": 7,
    "start_time": "2022-09-13T08:52:05.613Z"
   },
   {
    "duration": 12,
    "start_time": "2022-09-13T08:52:16.401Z"
   },
   {
    "duration": 6,
    "start_time": "2022-09-13T08:56:33.037Z"
   },
   {
    "duration": 5,
    "start_time": "2022-09-13T08:56:35.005Z"
   },
   {
    "duration": 9,
    "start_time": "2022-09-13T08:56:47.674Z"
   },
   {
    "duration": 3,
    "start_time": "2022-09-13T08:56:59.304Z"
   },
   {
    "duration": 4,
    "start_time": "2022-09-13T08:57:07.603Z"
   },
   {
    "duration": 1316,
    "start_time": "2022-09-13T08:58:22.509Z"
   },
   {
    "duration": 29,
    "start_time": "2022-09-13T08:58:23.827Z"
   },
   {
    "duration": 14,
    "start_time": "2022-09-13T08:58:23.857Z"
   },
   {
    "duration": 21,
    "start_time": "2022-09-13T08:58:23.873Z"
   },
   {
    "duration": 6,
    "start_time": "2022-09-13T08:58:23.896Z"
   },
   {
    "duration": 7,
    "start_time": "2022-09-13T08:58:23.904Z"
   },
   {
    "duration": 591,
    "start_time": "2022-09-13T08:58:23.912Z"
   },
   {
    "duration": 32,
    "start_time": "2022-09-13T08:58:24.505Z"
   },
   {
    "duration": 4,
    "start_time": "2022-09-13T08:58:24.539Z"
   },
   {
    "duration": 3,
    "start_time": "2022-09-13T08:58:24.546Z"
   },
   {
    "duration": 6,
    "start_time": "2022-09-13T08:58:24.550Z"
   },
   {
    "duration": 5,
    "start_time": "2022-09-13T08:58:24.557Z"
   },
   {
    "duration": 8,
    "start_time": "2022-09-13T08:58:24.563Z"
   },
   {
    "duration": 11,
    "start_time": "2022-09-13T08:58:24.572Z"
   },
   {
    "duration": 10,
    "start_time": "2022-09-13T08:58:24.585Z"
   },
   {
    "duration": 6,
    "start_time": "2022-09-13T08:58:24.596Z"
   },
   {
    "duration": 8,
    "start_time": "2022-09-13T08:58:24.604Z"
   },
   {
    "duration": 4,
    "start_time": "2022-09-13T08:58:24.614Z"
   },
   {
    "duration": 2,
    "start_time": "2022-09-13T08:58:24.622Z"
   },
   {
    "duration": 9,
    "start_time": "2022-09-13T08:58:24.626Z"
   },
   {
    "duration": 5,
    "start_time": "2022-09-13T08:58:24.636Z"
   },
   {
    "duration": 112,
    "start_time": "2022-09-13T08:58:24.642Z"
   },
   {
    "duration": 0,
    "start_time": "2022-09-13T08:58:24.756Z"
   },
   {
    "duration": 0,
    "start_time": "2022-09-13T08:58:24.757Z"
   },
   {
    "duration": 0,
    "start_time": "2022-09-13T08:58:24.758Z"
   },
   {
    "duration": 0,
    "start_time": "2022-09-13T08:58:24.759Z"
   },
   {
    "duration": 0,
    "start_time": "2022-09-13T08:58:24.760Z"
   },
   {
    "duration": 0,
    "start_time": "2022-09-13T08:58:24.761Z"
   },
   {
    "duration": 0,
    "start_time": "2022-09-13T08:58:24.762Z"
   },
   {
    "duration": 0,
    "start_time": "2022-09-13T08:58:24.763Z"
   },
   {
    "duration": 0,
    "start_time": "2022-09-13T08:58:24.764Z"
   },
   {
    "duration": 0,
    "start_time": "2022-09-13T08:58:24.765Z"
   },
   {
    "duration": 0,
    "start_time": "2022-09-13T08:58:24.766Z"
   },
   {
    "duration": 0,
    "start_time": "2022-09-13T08:58:24.767Z"
   },
   {
    "duration": 0,
    "start_time": "2022-09-13T08:58:24.769Z"
   },
   {
    "duration": 0,
    "start_time": "2022-09-13T08:58:24.770Z"
   },
   {
    "duration": 0,
    "start_time": "2022-09-13T08:58:24.771Z"
   },
   {
    "duration": 0,
    "start_time": "2022-09-13T08:58:24.772Z"
   },
   {
    "duration": 0,
    "start_time": "2022-09-13T08:58:24.774Z"
   },
   {
    "duration": 0,
    "start_time": "2022-09-13T08:58:24.775Z"
   },
   {
    "duration": 0,
    "start_time": "2022-09-13T08:58:24.777Z"
   },
   {
    "duration": 0,
    "start_time": "2022-09-13T08:58:24.778Z"
   },
   {
    "duration": 4,
    "start_time": "2022-09-13T08:58:43.851Z"
   },
   {
    "duration": 10,
    "start_time": "2022-09-13T08:58:45.651Z"
   },
   {
    "duration": 52,
    "start_time": "2022-09-13T08:58:48.323Z"
   },
   {
    "duration": 4,
    "start_time": "2022-09-13T08:58:50.217Z"
   },
   {
    "duration": 5,
    "start_time": "2022-09-13T08:58:53.735Z"
   },
   {
    "duration": 5,
    "start_time": "2022-09-13T08:59:07.603Z"
   },
   {
    "duration": 4,
    "start_time": "2022-09-13T08:59:24.150Z"
   },
   {
    "duration": 204,
    "start_time": "2022-09-13T09:01:09.827Z"
   },
   {
    "duration": 165,
    "start_time": "2022-09-13T09:01:22.433Z"
   },
   {
    "duration": 3,
    "start_time": "2022-09-13T09:16:02.766Z"
   },
   {
    "duration": 3,
    "start_time": "2022-09-13T09:16:02.919Z"
   },
   {
    "duration": 3,
    "start_time": "2022-09-13T09:16:03.066Z"
   },
   {
    "duration": 3,
    "start_time": "2022-09-13T09:16:03.210Z"
   },
   {
    "duration": 5,
    "start_time": "2022-09-13T09:16:03.354Z"
   },
   {
    "duration": 6,
    "start_time": "2022-09-13T09:16:03.762Z"
   },
   {
    "duration": 4,
    "start_time": "2022-09-13T09:18:03.960Z"
   },
   {
    "duration": 3,
    "start_time": "2022-09-13T09:18:04.302Z"
   },
   {
    "duration": 4,
    "start_time": "2022-09-13T09:18:04.502Z"
   },
   {
    "duration": 2,
    "start_time": "2022-09-13T09:18:04.695Z"
   },
   {
    "duration": 6,
    "start_time": "2022-09-13T09:18:05.060Z"
   },
   {
    "duration": 5,
    "start_time": "2022-09-13T09:18:05.443Z"
   },
   {
    "duration": 3,
    "start_time": "2022-09-13T09:23:59.933Z"
   },
   {
    "duration": 3,
    "start_time": "2022-09-13T09:24:00.121Z"
   },
   {
    "duration": 3,
    "start_time": "2022-09-13T09:24:00.517Z"
   },
   {
    "duration": 3,
    "start_time": "2022-09-13T09:24:00.808Z"
   },
   {
    "duration": 5,
    "start_time": "2022-09-13T09:24:01.941Z"
   },
   {
    "duration": 6,
    "start_time": "2022-09-13T09:24:04.905Z"
   },
   {
    "duration": 5,
    "start_time": "2022-09-13T09:29:20.233Z"
   },
   {
    "duration": 5,
    "start_time": "2022-09-13T09:29:39.250Z"
   },
   {
    "duration": 5,
    "start_time": "2022-09-13T09:30:01.454Z"
   },
   {
    "duration": 5,
    "start_time": "2022-09-13T09:30:01.590Z"
   },
   {
    "duration": 4,
    "start_time": "2022-09-13T09:38:30.681Z"
   },
   {
    "duration": 4,
    "start_time": "2022-09-13T09:38:39.239Z"
   },
   {
    "duration": 10688,
    "start_time": "2022-09-13T09:38:43.971Z"
   },
   {
    "duration": 10745,
    "start_time": "2022-09-13T09:39:28.466Z"
   },
   {
    "duration": 12511,
    "start_time": "2022-09-13T09:54:46.288Z"
   },
   {
    "duration": 2,
    "start_time": "2022-09-13T09:58:29.114Z"
   },
   {
    "duration": 2,
    "start_time": "2022-09-13T09:58:29.427Z"
   },
   {
    "duration": 2,
    "start_time": "2022-09-13T09:58:35.319Z"
   },
   {
    "duration": 2,
    "start_time": "2022-09-13T09:58:35.470Z"
   },
   {
    "duration": 3,
    "start_time": "2022-09-13T09:58:35.622Z"
   },
   {
    "duration": 2,
    "start_time": "2022-09-13T09:58:35.958Z"
   },
   {
    "duration": 10,
    "start_time": "2022-09-13T10:01:47.857Z"
   },
   {
    "duration": 4,
    "start_time": "2022-09-13T10:01:51.069Z"
   },
   {
    "duration": 474,
    "start_time": "2022-09-13T10:01:51.223Z"
   },
   {
    "duration": 4,
    "start_time": "2022-09-13T10:01:51.699Z"
   },
   {
    "duration": 64,
    "start_time": "2022-09-13T10:01:51.704Z"
   },
   {
    "duration": 14,
    "start_time": "2022-09-13T10:01:51.769Z"
   },
   {
    "duration": 1639,
    "start_time": "2022-09-14T05:32:01.681Z"
   },
   {
    "duration": 67,
    "start_time": "2022-09-14T05:32:03.322Z"
   },
   {
    "duration": 16,
    "start_time": "2022-09-14T05:32:03.390Z"
   },
   {
    "duration": 12,
    "start_time": "2022-09-14T05:32:03.408Z"
   },
   {
    "duration": 11,
    "start_time": "2022-09-14T05:32:03.423Z"
   },
   {
    "duration": 12,
    "start_time": "2022-09-14T05:32:03.436Z"
   },
   {
    "duration": 674,
    "start_time": "2022-09-14T05:32:03.450Z"
   },
   {
    "duration": 23,
    "start_time": "2022-09-14T05:32:04.126Z"
   },
   {
    "duration": 3,
    "start_time": "2022-09-14T05:32:04.151Z"
   },
   {
    "duration": 6,
    "start_time": "2022-09-14T05:32:04.156Z"
   },
   {
    "duration": 5,
    "start_time": "2022-09-14T05:32:04.163Z"
   },
   {
    "duration": 19,
    "start_time": "2022-09-14T05:32:04.170Z"
   },
   {
    "duration": 3,
    "start_time": "2022-09-14T05:32:04.191Z"
   },
   {
    "duration": 2,
    "start_time": "2022-09-14T05:32:04.197Z"
   },
   {
    "duration": 6,
    "start_time": "2022-09-14T05:32:04.201Z"
   },
   {
    "duration": 6,
    "start_time": "2022-09-14T05:32:04.208Z"
   },
   {
    "duration": 5,
    "start_time": "2022-09-14T05:32:04.216Z"
   },
   {
    "duration": 15,
    "start_time": "2022-09-14T05:32:04.223Z"
   },
   {
    "duration": 6,
    "start_time": "2022-09-14T05:32:04.239Z"
   },
   {
    "duration": 4,
    "start_time": "2022-09-14T05:32:04.247Z"
   },
   {
    "duration": 7,
    "start_time": "2022-09-14T05:32:04.253Z"
   },
   {
    "duration": 4,
    "start_time": "2022-09-14T05:32:04.262Z"
   },
   {
    "duration": 7,
    "start_time": "2022-09-14T05:32:04.268Z"
   },
   {
    "duration": 8,
    "start_time": "2022-09-14T05:32:04.290Z"
   },
   {
    "duration": 16,
    "start_time": "2022-09-14T05:32:04.300Z"
   },
   {
    "duration": 17,
    "start_time": "2022-09-14T05:32:04.317Z"
   },
   {
    "duration": 0,
    "start_time": "2022-09-14T05:32:04.335Z"
   },
   {
    "duration": 0,
    "start_time": "2022-09-14T05:32:04.337Z"
   },
   {
    "duration": 0,
    "start_time": "2022-09-14T05:32:04.338Z"
   },
   {
    "duration": 0,
    "start_time": "2022-09-14T05:32:04.339Z"
   },
   {
    "duration": 0,
    "start_time": "2022-09-14T05:32:04.341Z"
   },
   {
    "duration": 0,
    "start_time": "2022-09-14T05:32:04.342Z"
   },
   {
    "duration": 0,
    "start_time": "2022-09-14T05:32:04.343Z"
   },
   {
    "duration": 0,
    "start_time": "2022-09-14T05:32:04.344Z"
   },
   {
    "duration": 0,
    "start_time": "2022-09-14T05:32:04.346Z"
   },
   {
    "duration": 0,
    "start_time": "2022-09-14T05:32:04.347Z"
   },
   {
    "duration": 0,
    "start_time": "2022-09-14T05:32:04.348Z"
   },
   {
    "duration": 0,
    "start_time": "2022-09-14T05:32:04.349Z"
   },
   {
    "duration": 0,
    "start_time": "2022-09-14T05:32:04.350Z"
   },
   {
    "duration": 0,
    "start_time": "2022-09-14T05:32:04.351Z"
   },
   {
    "duration": 0,
    "start_time": "2022-09-14T05:32:04.352Z"
   },
   {
    "duration": 0,
    "start_time": "2022-09-14T05:32:04.353Z"
   },
   {
    "duration": 1453,
    "start_time": "2022-09-14T05:33:27.637Z"
   },
   {
    "duration": 32,
    "start_time": "2022-09-14T05:33:29.094Z"
   },
   {
    "duration": 13,
    "start_time": "2022-09-14T05:33:29.128Z"
   },
   {
    "duration": 11,
    "start_time": "2022-09-14T05:33:29.142Z"
   },
   {
    "duration": 7,
    "start_time": "2022-09-14T05:33:29.155Z"
   },
   {
    "duration": 6,
    "start_time": "2022-09-14T05:33:29.163Z"
   },
   {
    "duration": 696,
    "start_time": "2022-09-14T05:33:29.171Z"
   },
   {
    "duration": 36,
    "start_time": "2022-09-14T05:33:29.869Z"
   },
   {
    "duration": 6,
    "start_time": "2022-09-14T05:33:29.907Z"
   },
   {
    "duration": 6,
    "start_time": "2022-09-14T05:33:29.915Z"
   },
   {
    "duration": 5,
    "start_time": "2022-09-14T05:33:29.922Z"
   },
   {
    "duration": 4,
    "start_time": "2022-09-14T05:33:29.928Z"
   },
   {
    "duration": 5,
    "start_time": "2022-09-14T05:33:29.933Z"
   },
   {
    "duration": 4,
    "start_time": "2022-09-14T05:33:29.941Z"
   },
   {
    "duration": 7,
    "start_time": "2022-09-14T05:33:29.946Z"
   },
   {
    "duration": 4,
    "start_time": "2022-09-14T05:33:29.955Z"
   },
   {
    "duration": 5,
    "start_time": "2022-09-14T05:33:29.960Z"
   },
   {
    "duration": 22,
    "start_time": "2022-09-14T05:33:29.967Z"
   },
   {
    "duration": 13,
    "start_time": "2022-09-14T05:33:29.992Z"
   },
   {
    "duration": 14,
    "start_time": "2022-09-14T05:33:30.008Z"
   },
   {
    "duration": 14,
    "start_time": "2022-09-14T05:33:30.024Z"
   },
   {
    "duration": 23,
    "start_time": "2022-09-14T05:33:30.040Z"
   },
   {
    "duration": 8,
    "start_time": "2022-09-14T05:33:30.065Z"
   },
   {
    "duration": 11,
    "start_time": "2022-09-14T05:33:30.075Z"
   },
   {
    "duration": 14,
    "start_time": "2022-09-14T05:33:30.087Z"
   },
   {
    "duration": 255,
    "start_time": "2022-09-14T05:33:30.104Z"
   },
   {
    "duration": 2650,
    "start_time": "2022-09-14T05:33:30.360Z"
   },
   {
    "duration": 217,
    "start_time": "2022-09-14T05:33:33.012Z"
   },
   {
    "duration": 12630,
    "start_time": "2022-09-14T05:33:33.231Z"
   },
   {
    "duration": 14778,
    "start_time": "2022-09-14T05:33:45.862Z"
   },
   {
    "duration": 135,
    "start_time": "2022-09-14T05:34:00.642Z"
   },
   {
    "duration": 0,
    "start_time": "2022-09-14T05:34:00.779Z"
   },
   {
    "duration": 0,
    "start_time": "2022-09-14T05:34:00.790Z"
   },
   {
    "duration": 0,
    "start_time": "2022-09-14T05:34:00.792Z"
   },
   {
    "duration": 0,
    "start_time": "2022-09-14T05:34:00.796Z"
   },
   {
    "duration": 0,
    "start_time": "2022-09-14T05:34:00.797Z"
   },
   {
    "duration": 0,
    "start_time": "2022-09-14T05:34:00.800Z"
   },
   {
    "duration": 0,
    "start_time": "2022-09-14T05:34:00.802Z"
   },
   {
    "duration": 0,
    "start_time": "2022-09-14T05:34:00.803Z"
   },
   {
    "duration": 1,
    "start_time": "2022-09-14T05:34:00.804Z"
   },
   {
    "duration": 0,
    "start_time": "2022-09-14T05:34:00.806Z"
   },
   {
    "duration": 0,
    "start_time": "2022-09-14T05:34:00.807Z"
   },
   {
    "duration": 22,
    "start_time": "2022-09-14T05:42:36.408Z"
   },
   {
    "duration": 14721,
    "start_time": "2022-09-14T05:43:38.399Z"
   },
   {
    "duration": 9,
    "start_time": "2022-09-14T05:44:40.456Z"
   },
   {
    "duration": 4,
    "start_time": "2022-09-14T05:46:30.263Z"
   },
   {
    "duration": 12,
    "start_time": "2022-09-14T05:47:02.049Z"
   },
   {
    "duration": 4,
    "start_time": "2022-09-14T05:47:15.706Z"
   },
   {
    "duration": 15,
    "start_time": "2022-09-14T05:47:58.536Z"
   },
   {
    "duration": 4,
    "start_time": "2022-09-14T05:48:08.916Z"
   },
   {
    "duration": 73,
    "start_time": "2022-09-14T05:48:33.722Z"
   },
   {
    "duration": 70,
    "start_time": "2022-09-14T05:48:38.358Z"
   },
   {
    "duration": 66,
    "start_time": "2022-09-14T05:48:45.486Z"
   },
   {
    "duration": 24731,
    "start_time": "2022-09-14T05:49:16.778Z"
   },
   {
    "duration": 3,
    "start_time": "2022-09-14T05:50:54.999Z"
   },
   {
    "duration": 518,
    "start_time": "2022-09-14T05:50:55.175Z"
   },
   {
    "duration": 4,
    "start_time": "2022-09-14T05:50:55.694Z"
   },
   {
    "duration": 28,
    "start_time": "2022-09-14T05:50:55.699Z"
   },
   {
    "duration": 5,
    "start_time": "2022-09-14T05:50:55.843Z"
   },
   {
    "duration": 5,
    "start_time": "2022-09-14T05:54:03.077Z"
   },
   {
    "duration": 5,
    "start_time": "2022-09-14T05:54:06.724Z"
   },
   {
    "duration": 4,
    "start_time": "2022-09-14T05:54:15.040Z"
   },
   {
    "duration": 22,
    "start_time": "2022-09-14T05:57:25.522Z"
   },
   {
    "duration": 4,
    "start_time": "2022-09-14T05:58:04.606Z"
   },
   {
    "duration": 111980,
    "start_time": "2022-09-14T05:58:39.551Z"
   },
   {
    "duration": 4,
    "start_time": "2022-09-14T06:01:07.903Z"
   },
   {
    "duration": 5,
    "start_time": "2022-09-14T06:01:35.061Z"
   },
   {
    "duration": 4,
    "start_time": "2022-09-14T06:01:39.673Z"
   },
   {
    "duration": 3,
    "start_time": "2022-09-14T06:01:44.958Z"
   },
   {
    "duration": 121957,
    "start_time": "2022-09-14T06:02:15.590Z"
   },
   {
    "duration": 4,
    "start_time": "2022-09-14T06:24:54.569Z"
   },
   {
    "duration": 131649,
    "start_time": "2022-09-14T06:34:22.891Z"
   },
   {
    "duration": 4,
    "start_time": "2022-09-14T06:36:53.906Z"
   },
   {
    "duration": 4,
    "start_time": "2022-09-14T06:36:56.404Z"
   },
   {
    "duration": 4,
    "start_time": "2022-09-14T06:36:57.843Z"
   },
   {
    "duration": 66727,
    "start_time": "2022-09-14T06:38:46.850Z"
   },
   {
    "duration": 4,
    "start_time": "2022-09-14T06:39:57.705Z"
   },
   {
    "duration": 13699,
    "start_time": "2022-09-14T06:40:18.479Z"
   },
   {
    "duration": 92774,
    "start_time": "2022-09-14T06:40:52.830Z"
   },
   {
    "duration": 4,
    "start_time": "2022-09-14T06:42:50.076Z"
   },
   {
    "duration": 50871,
    "start_time": "2022-09-14T06:49:34.597Z"
   },
   {
    "duration": 3,
    "start_time": "2022-09-14T06:50:39.875Z"
   },
   {
    "duration": 96890,
    "start_time": "2022-09-14T06:52:28.907Z"
   },
   {
    "duration": 4,
    "start_time": "2022-09-14T06:57:55.835Z"
   },
   {
    "duration": 3,
    "start_time": "2022-09-14T06:58:15.956Z"
   },
   {
    "duration": 4,
    "start_time": "2022-09-14T06:58:16.117Z"
   },
   {
    "duration": 3,
    "start_time": "2022-09-14T06:58:16.281Z"
   },
   {
    "duration": 3,
    "start_time": "2022-09-14T06:58:16.430Z"
   },
   {
    "duration": 10,
    "start_time": "2022-09-14T06:58:16.602Z"
   },
   {
    "duration": 5,
    "start_time": "2022-09-14T06:58:16.937Z"
   },
   {
    "duration": 3,
    "start_time": "2022-09-14T07:06:50.543Z"
   },
   {
    "duration": 9,
    "start_time": "2022-09-14T07:10:53.731Z"
   },
   {
    "duration": 15,
    "start_time": "2022-09-14T07:13:04.569Z"
   },
   {
    "duration": 11,
    "start_time": "2022-09-14T07:13:24.177Z"
   },
   {
    "duration": 12,
    "start_time": "2022-09-14T07:13:55.662Z"
   },
   {
    "duration": 10,
    "start_time": "2022-09-14T07:14:08.841Z"
   },
   {
    "duration": 3,
    "start_time": "2022-09-14T07:18:26.942Z"
   },
   {
    "duration": 4,
    "start_time": "2022-09-14T07:18:43.310Z"
   },
   {
    "duration": 17,
    "start_time": "2022-09-14T07:18:52.138Z"
   },
   {
    "duration": 12,
    "start_time": "2022-09-14T07:18:58.817Z"
   },
   {
    "duration": 3,
    "start_time": "2022-09-14T07:19:03.135Z"
   },
   {
    "duration": 8,
    "start_time": "2022-09-14T07:19:05.347Z"
   },
   {
    "duration": 27,
    "start_time": "2022-09-14T07:19:09.402Z"
   },
   {
    "duration": 30,
    "start_time": "2022-09-14T07:22:45.992Z"
   },
   {
    "duration": 31,
    "start_time": "2022-09-14T07:22:59.883Z"
   },
   {
    "duration": 16,
    "start_time": "2022-09-14T07:23:23.586Z"
   },
   {
    "duration": 9,
    "start_time": "2022-09-14T07:26:57.070Z"
   },
   {
    "duration": 9,
    "start_time": "2022-09-14T07:27:01.585Z"
   },
   {
    "duration": 5,
    "start_time": "2022-09-14T07:28:21.425Z"
   },
   {
    "duration": 4,
    "start_time": "2022-09-14T07:49:16.624Z"
   },
   {
    "duration": 3,
    "start_time": "2022-09-14T07:49:34.670Z"
   },
   {
    "duration": 9,
    "start_time": "2022-09-14T07:49:34.905Z"
   },
   {
    "duration": 20,
    "start_time": "2022-09-14T07:49:35.432Z"
   },
   {
    "duration": 19,
    "start_time": "2022-09-14T07:49:36.227Z"
   },
   {
    "duration": 3,
    "start_time": "2022-09-14T08:05:57.962Z"
   },
   {
    "duration": 2,
    "start_time": "2022-09-14T08:06:09.175Z"
   },
   {
    "duration": 1837,
    "start_time": "2022-09-14T08:06:22.373Z"
   },
   {
    "duration": 32,
    "start_time": "2022-09-14T08:06:24.212Z"
   },
   {
    "duration": 16,
    "start_time": "2022-09-14T08:06:24.246Z"
   },
   {
    "duration": 15,
    "start_time": "2022-09-14T08:06:24.264Z"
   },
   {
    "duration": 16,
    "start_time": "2022-09-14T08:06:24.281Z"
   },
   {
    "duration": 20,
    "start_time": "2022-09-14T08:06:24.308Z"
   },
   {
    "duration": 896,
    "start_time": "2022-09-14T08:06:24.331Z"
   },
   {
    "duration": 37,
    "start_time": "2022-09-14T08:06:25.230Z"
   },
   {
    "duration": 12,
    "start_time": "2022-09-14T08:06:25.269Z"
   },
   {
    "duration": 26,
    "start_time": "2022-09-14T08:06:25.291Z"
   },
   {
    "duration": 11,
    "start_time": "2022-09-14T08:06:25.319Z"
   },
   {
    "duration": 5,
    "start_time": "2022-09-14T08:06:25.332Z"
   },
   {
    "duration": 6,
    "start_time": "2022-09-14T08:06:25.340Z"
   },
   {
    "duration": 5,
    "start_time": "2022-09-14T08:06:25.349Z"
   },
   {
    "duration": 7,
    "start_time": "2022-09-14T08:06:25.356Z"
   },
   {
    "duration": 6,
    "start_time": "2022-09-14T08:06:25.365Z"
   },
   {
    "duration": 11,
    "start_time": "2022-09-14T08:06:25.373Z"
   },
   {
    "duration": 33,
    "start_time": "2022-09-14T08:06:25.387Z"
   },
   {
    "duration": 8,
    "start_time": "2022-09-14T08:06:25.424Z"
   },
   {
    "duration": 6,
    "start_time": "2022-09-14T08:06:25.434Z"
   },
   {
    "duration": 5,
    "start_time": "2022-09-14T08:06:25.442Z"
   },
   {
    "duration": 14,
    "start_time": "2022-09-14T08:06:25.449Z"
   },
   {
    "duration": 9,
    "start_time": "2022-09-14T08:06:25.466Z"
   },
   {
    "duration": 7,
    "start_time": "2022-09-14T08:06:25.478Z"
   },
   {
    "duration": 22,
    "start_time": "2022-09-14T08:06:25.486Z"
   },
   {
    "duration": 20,
    "start_time": "2022-09-14T08:06:25.511Z"
   },
   {
    "duration": 8,
    "start_time": "2022-09-14T08:06:25.533Z"
   },
   {
    "duration": 281,
    "start_time": "2022-09-14T08:06:25.546Z"
   },
   {
    "duration": 2856,
    "start_time": "2022-09-14T08:06:25.829Z"
   },
   {
    "duration": 352,
    "start_time": "2022-09-14T08:06:28.687Z"
   },
   {
    "duration": 13771,
    "start_time": "2022-09-14T08:06:29.041Z"
   },
   {
    "duration": 15831,
    "start_time": "2022-09-14T08:06:42.814Z"
   },
   {
    "duration": 133,
    "start_time": "2022-09-14T08:06:58.647Z"
   },
   {
    "duration": 0,
    "start_time": "2022-09-14T08:06:58.783Z"
   },
   {
    "duration": 0,
    "start_time": "2022-09-14T08:06:58.789Z"
   },
   {
    "duration": 0,
    "start_time": "2022-09-14T08:06:58.792Z"
   },
   {
    "duration": 0,
    "start_time": "2022-09-14T08:06:58.793Z"
   },
   {
    "duration": 0,
    "start_time": "2022-09-14T08:06:58.795Z"
   },
   {
    "duration": 0,
    "start_time": "2022-09-14T08:06:58.796Z"
   },
   {
    "duration": 0,
    "start_time": "2022-09-14T08:06:58.798Z"
   },
   {
    "duration": 0,
    "start_time": "2022-09-14T08:06:58.799Z"
   },
   {
    "duration": 0,
    "start_time": "2022-09-14T08:06:58.800Z"
   },
   {
    "duration": 0,
    "start_time": "2022-09-14T08:06:58.801Z"
   },
   {
    "duration": 0,
    "start_time": "2022-09-14T08:06:58.803Z"
   },
   {
    "duration": 0,
    "start_time": "2022-09-14T08:06:58.804Z"
   },
   {
    "duration": 0,
    "start_time": "2022-09-14T08:06:58.805Z"
   },
   {
    "duration": 0,
    "start_time": "2022-09-14T08:06:58.807Z"
   },
   {
    "duration": 0,
    "start_time": "2022-09-14T08:06:58.808Z"
   },
   {
    "duration": 0,
    "start_time": "2022-09-14T08:06:58.810Z"
   },
   {
    "duration": 0,
    "start_time": "2022-09-14T08:06:58.812Z"
   },
   {
    "duration": 0,
    "start_time": "2022-09-14T08:06:58.813Z"
   },
   {
    "duration": 0,
    "start_time": "2022-09-14T08:06:58.815Z"
   },
   {
    "duration": 0,
    "start_time": "2022-09-14T08:06:58.816Z"
   },
   {
    "duration": 107804,
    "start_time": "2022-09-14T08:07:34.169Z"
   },
   {
    "duration": 4,
    "start_time": "2022-09-14T08:09:24.859Z"
   },
   {
    "duration": 3,
    "start_time": "2022-09-14T08:09:47.809Z"
   },
   {
    "duration": 777,
    "start_time": "2022-09-14T08:09:47.970Z"
   },
   {
    "duration": 6,
    "start_time": "2022-09-14T08:09:48.749Z"
   },
   {
    "duration": 59,
    "start_time": "2022-09-14T08:09:48.757Z"
   },
   {
    "duration": 6,
    "start_time": "2022-09-14T08:09:48.819Z"
   },
   {
    "duration": 3,
    "start_time": "2022-09-14T08:09:54.136Z"
   },
   {
    "duration": 20,
    "start_time": "2022-09-14T08:09:54.297Z"
   },
   {
    "duration": 21,
    "start_time": "2022-09-14T08:09:54.436Z"
   },
   {
    "duration": 23,
    "start_time": "2022-09-14T08:09:54.568Z"
   },
   {
    "duration": 7,
    "start_time": "2022-09-14T08:09:55.211Z"
   },
   {
    "duration": 5,
    "start_time": "2022-09-14T08:09:55.369Z"
   },
   {
    "duration": 4,
    "start_time": "2022-09-14T08:09:55.541Z"
   },
   {
    "duration": 16,
    "start_time": "2022-09-14T08:09:55.687Z"
   },
   {
    "duration": 6,
    "start_time": "2022-09-14T08:09:56.513Z"
   },
   {
    "duration": 14,
    "start_time": "2022-09-14T08:09:58.505Z"
   },
   {
    "duration": 8,
    "start_time": "2022-09-14T08:10:00.557Z"
   },
   {
    "duration": 24,
    "start_time": "2022-09-14T08:10:00.688Z"
   },
   {
    "duration": 8,
    "start_time": "2022-09-14T08:10:00.825Z"
   },
   {
    "duration": 1374,
    "start_time": "2023-02-14T20:06:02.191Z"
   },
   {
    "duration": 127,
    "start_time": "2023-02-14T20:06:03.566Z"
   },
   {
    "duration": 13,
    "start_time": "2023-02-14T20:06:03.694Z"
   },
   {
    "duration": 10,
    "start_time": "2023-02-14T20:06:03.710Z"
   },
   {
    "duration": 13,
    "start_time": "2023-02-14T20:06:03.722Z"
   },
   {
    "duration": 10,
    "start_time": "2023-02-14T20:06:03.736Z"
   },
   {
    "duration": 600,
    "start_time": "2023-02-14T20:06:03.747Z"
   },
   {
    "duration": 23,
    "start_time": "2023-02-14T20:06:04.349Z"
   },
   {
    "duration": 3,
    "start_time": "2023-02-14T20:06:04.374Z"
   },
   {
    "duration": 6,
    "start_time": "2023-02-14T20:06:04.379Z"
   },
   {
    "duration": 5,
    "start_time": "2023-02-14T20:06:04.386Z"
   },
   {
    "duration": 5,
    "start_time": "2023-02-14T20:06:04.392Z"
   },
   {
    "duration": 4,
    "start_time": "2023-02-14T20:06:04.398Z"
   },
   {
    "duration": 4,
    "start_time": "2023-02-14T20:06:04.404Z"
   },
   {
    "duration": 31,
    "start_time": "2023-02-14T20:06:04.409Z"
   },
   {
    "duration": 5,
    "start_time": "2023-02-14T20:06:04.441Z"
   },
   {
    "duration": 6,
    "start_time": "2023-02-14T20:06:04.448Z"
   },
   {
    "duration": 4,
    "start_time": "2023-02-14T20:06:04.456Z"
   },
   {
    "duration": 4,
    "start_time": "2023-02-14T20:06:04.462Z"
   },
   {
    "duration": 13,
    "start_time": "2023-02-14T20:06:04.467Z"
   },
   {
    "duration": 6,
    "start_time": "2023-02-14T20:06:04.481Z"
   },
   {
    "duration": 10,
    "start_time": "2023-02-14T20:06:04.488Z"
   },
   {
    "duration": 5,
    "start_time": "2023-02-14T20:06:04.500Z"
   },
   {
    "duration": 4,
    "start_time": "2023-02-14T20:06:04.507Z"
   },
   {
    "duration": 6,
    "start_time": "2023-02-14T20:06:04.513Z"
   },
   {
    "duration": 7,
    "start_time": "2023-02-14T20:06:04.520Z"
   },
   {
    "duration": 4,
    "start_time": "2023-02-14T20:06:04.537Z"
   },
   {
    "duration": 209,
    "start_time": "2023-02-14T20:06:04.544Z"
   },
   {
    "duration": 2566,
    "start_time": "2023-02-14T20:06:04.754Z"
   },
   {
    "duration": 227,
    "start_time": "2023-02-14T20:06:07.322Z"
   },
   {
    "duration": 13487,
    "start_time": "2023-02-14T20:06:07.551Z"
   },
   {
    "duration": 15409,
    "start_time": "2023-02-14T20:06:21.040Z"
   },
   {
    "duration": 105235,
    "start_time": "2023-02-14T20:06:36.450Z"
   },
   {
    "duration": 4,
    "start_time": "2023-02-14T20:08:21.687Z"
   },
   {
    "duration": 20,
    "start_time": "2023-02-14T20:08:21.693Z"
   },
   {
    "duration": 589,
    "start_time": "2023-02-14T20:08:21.715Z"
   },
   {
    "duration": 5,
    "start_time": "2023-02-14T20:08:22.306Z"
   },
   {
    "duration": 48,
    "start_time": "2023-02-14T20:08:22.312Z"
   },
   {
    "duration": 5,
    "start_time": "2023-02-14T20:08:22.361Z"
   },
   {
    "duration": 29,
    "start_time": "2023-02-14T20:08:22.368Z"
   },
   {
    "duration": 27,
    "start_time": "2023-02-14T20:08:22.399Z"
   },
   {
    "duration": 36,
    "start_time": "2023-02-14T20:08:22.428Z"
   },
   {
    "duration": 32,
    "start_time": "2023-02-14T20:08:22.466Z"
   },
   {
    "duration": 5,
    "start_time": "2023-02-14T20:08:22.500Z"
   },
   {
    "duration": 25,
    "start_time": "2023-02-14T20:08:22.506Z"
   },
   {
    "duration": 32,
    "start_time": "2023-02-14T20:08:22.533Z"
   },
   {
    "duration": 44,
    "start_time": "2023-02-14T20:08:22.567Z"
   },
   {
    "duration": 31,
    "start_time": "2023-02-14T20:08:22.613Z"
   },
   {
    "duration": 11,
    "start_time": "2023-02-14T20:08:22.646Z"
   },
   {
    "duration": 18,
    "start_time": "2023-02-14T20:08:22.658Z"
   },
   {
    "duration": 26,
    "start_time": "2023-02-14T20:08:22.677Z"
   },
   {
    "duration": 11,
    "start_time": "2023-02-14T20:08:22.705Z"
   }
  ],
  "kernelspec": {
   "display_name": "Python 3 (ipykernel)",
   "language": "python",
   "name": "python3"
  },
  "language_info": {
   "codemirror_mode": {
    "name": "ipython",
    "version": 3
   },
   "file_extension": ".py",
   "mimetype": "text/x-python",
   "name": "python",
   "nbconvert_exporter": "python",
   "pygments_lexer": "ipython3",
   "version": "3.9.15"
  },
  "toc": {
   "base_numbering": 1,
   "nav_menu": {},
   "number_sections": true,
   "sideBar": true,
   "skip_h1_title": true,
   "title_cell": "Table of Contents",
   "title_sidebar": "Contents",
   "toc_cell": false,
   "toc_position": {},
   "toc_section_display": true,
   "toc_window_display": false
  }
 },
 "nbformat": 4,
 "nbformat_minor": 2
}
