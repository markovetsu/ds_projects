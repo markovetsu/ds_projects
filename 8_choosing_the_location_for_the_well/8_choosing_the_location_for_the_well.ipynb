{
 "cells": [
  {
   "cell_type": "markdown",
   "metadata": {},
   "source": [
    "# Выбор локации для скважины"
   ]
  },
  {
   "cell_type": "markdown",
   "metadata": {},
   "source": [
    "Мы работаем в добывающей компании «ГлавРосГосНефть». Нам предоставлены пробы нефти в трёх регионах: в каждом 10 000 месторождений, где измерили качество нефти и объём её запасов. \n",
    "\n",
    "**Цель:** Нужно решить, где бурить новую скважину.\n",
    "\n",
    "**Задачи:** \n",
    "1. Построить модель машинного обучения, которая поможет определить регион, где добыча принесёт наибольшую прибыль. \n",
    "2. Проанализировать возможную прибыль и риски техникой *Bootstrap.*\n",
    "\n",
    "**Шаги для выбора локации:**\n",
    "\n",
    "- В избранном регионе ищут месторождения, для каждого определяют значения признаков;\n",
    "- Строят модель и оценивают объём запасов;\n",
    "- Выбирают месторождения с самым высокими оценками значений. Количество месторождений зависит от бюджета компании и стоимости разработки одной скважины;\n",
    "- Прибыль равна суммарной прибыли отобранных месторождений."
   ]
  },
  {
   "cell_type": "markdown",
   "metadata": {},
   "source": [
    "# Описание данных\n",
    "\n",
    "    id — уникальный идентификатор скважины;\n",
    "    f0, f1, f2 — три признака точек (неважно, что они означают, но сами признаки значимы);\n",
    "    product — объём запасов в скважине (тыс. баррелей).\n",
    "    \n",
    "**Условия задачи:**\n",
    "\n",
    "    1. Для обучения модели подходит только линейная регрессия (остальные — недостаточно предсказуемые).\n",
    "    2. При разведке региона исследуют 500 точек, из которых с помощью машинного обучения выбирают 200 лучших для разработки.\n",
    "    3. Бюджет на разработку скважин в регионе — 10 млрд рублей.\n",
    "    4. При нынешних ценах один баррель сырья приносит 450 рублей дохода. Доход с каждой единицы продукта составляет 450 тыс. рублей, поскольку объём указан в тысячах баррелей.\n",
    "    5. После оценки рисков нужно оставить лишь те регионы, в которых вероятность убытков меньше 2.5%. Среди них выбирают регион с наибольшей средней прибылью.\n",
    "    6. Данные синтетические: детали контрактов и характеристики месторождений не разглашаются."
   ]
  },
  {
   "cell_type": "markdown",
   "metadata": {},
   "source": [
    "## Загрузка и подготовка данных"
   ]
  },
  {
   "cell_type": "markdown",
   "metadata": {},
   "source": [
    "### Импортируем нужные библиотеки"
   ]
  },
  {
   "cell_type": "code",
   "execution_count": 1,
   "metadata": {},
   "outputs": [],
   "source": [
    "# Импортируем нужные библиотеки\n",
    "\n",
    "from scipy import stats as st\n",
    "from sklearn.linear_model import LinearRegression\n",
    "from sklearn.model_selection import train_test_split\n",
    "from sklearn.utils import shuffle\n",
    "from sklearn.metrics import f1_score\n",
    "from sklearn.metrics import roc_auc_score\n",
    "from sklearn.metrics import recall_score\n",
    "from sklearn.metrics import precision_score\n",
    "from sklearn.metrics import mean_squared_error\n",
    "from sklearn.metrics import mean_absolute_error\n",
    "from sklearn.metrics import r2_score\n",
    "from sklearn.metrics import mean_squared_error\n",
    "from sklearn.ensemble import RandomForestRegressor\n",
    "\n",
    "import pandas as pd\n",
    "import numpy as np\n",
    "import matplotlib \n",
    "import matplotlib.pyplot as plt"
   ]
  },
  {
   "cell_type": "markdown",
   "metadata": {},
   "source": [
    "### Через конструкцию try-except прочтем файлы и сохраним их в переменные"
   ]
  },
  {
   "cell_type": "code",
   "execution_count": 2,
   "metadata": {},
   "outputs": [],
   "source": [
    "# Через конструкцию try-except прочтем файлы и сохраним их в переменные\n",
    "try:\n",
    "    df_1 = pd.read_csv('/datasets/geo_data_0.csv')\n",
    "    df_2 = pd.read_csv('/datasets/geo_data_1.csv')\n",
    "    df_3 = pd.read_csv('/datasets/geo_data_2.csv')\n",
    "except FileNotFoundError:\n",
    "    print(\"FileNotFoundError: Проверьте корректность пути к файлу или наличие самого файла в каталоге!\")"
   ]
  },
  {
   "cell_type": "markdown",
   "metadata": {},
   "source": [
    "### Выведем размерность датасетов (строка-столбец) "
   ]
  },
  {
   "cell_type": "code",
   "execution_count": 3,
   "metadata": {},
   "outputs": [
    {
     "name": "stdout",
     "output_type": "stream",
     "text": [
      "(100000, 5) (100000, 5) (100000, 5)\n"
     ]
    }
   ],
   "source": [
    "# Выведем размерность датасетов (строка-столбец)\n",
    "print(df_1.shape, df_2.shape, df_3.shape)"
   ]
  },
  {
   "cell_type": "markdown",
   "metadata": {},
   "source": [
    "### Просмотрим первые 5 строк для первого датасета  в первом датасете"
   ]
  },
  {
   "cell_type": "code",
   "execution_count": 4,
   "metadata": {},
   "outputs": [
    {
     "data": {
      "text/html": [
       "<div>\n",
       "<style scoped>\n",
       "    .dataframe tbody tr th:only-of-type {\n",
       "        vertical-align: middle;\n",
       "    }\n",
       "\n",
       "    .dataframe tbody tr th {\n",
       "        vertical-align: top;\n",
       "    }\n",
       "\n",
       "    .dataframe thead th {\n",
       "        text-align: right;\n",
       "    }\n",
       "</style>\n",
       "<table border=\"1\" class=\"dataframe\">\n",
       "  <thead>\n",
       "    <tr style=\"text-align: right;\">\n",
       "      <th></th>\n",
       "      <th>id</th>\n",
       "      <th>f0</th>\n",
       "      <th>f1</th>\n",
       "      <th>f2</th>\n",
       "      <th>product</th>\n",
       "    </tr>\n",
       "  </thead>\n",
       "  <tbody>\n",
       "    <tr>\n",
       "      <th>0</th>\n",
       "      <td>txEyH</td>\n",
       "      <td>0.705745</td>\n",
       "      <td>-0.497823</td>\n",
       "      <td>1.221170</td>\n",
       "      <td>105.280062</td>\n",
       "    </tr>\n",
       "    <tr>\n",
       "      <th>1</th>\n",
       "      <td>2acmU</td>\n",
       "      <td>1.334711</td>\n",
       "      <td>-0.340164</td>\n",
       "      <td>4.365080</td>\n",
       "      <td>73.037750</td>\n",
       "    </tr>\n",
       "    <tr>\n",
       "      <th>2</th>\n",
       "      <td>409Wp</td>\n",
       "      <td>1.022732</td>\n",
       "      <td>0.151990</td>\n",
       "      <td>1.419926</td>\n",
       "      <td>85.265647</td>\n",
       "    </tr>\n",
       "    <tr>\n",
       "      <th>3</th>\n",
       "      <td>iJLyR</td>\n",
       "      <td>-0.032172</td>\n",
       "      <td>0.139033</td>\n",
       "      <td>2.978566</td>\n",
       "      <td>168.620776</td>\n",
       "    </tr>\n",
       "    <tr>\n",
       "      <th>4</th>\n",
       "      <td>Xdl7t</td>\n",
       "      <td>1.988431</td>\n",
       "      <td>0.155413</td>\n",
       "      <td>4.751769</td>\n",
       "      <td>154.036647</td>\n",
       "    </tr>\n",
       "  </tbody>\n",
       "</table>\n",
       "</div>"
      ],
      "text/plain": [
       "      id        f0        f1        f2     product\n",
       "0  txEyH  0.705745 -0.497823  1.221170  105.280062\n",
       "1  2acmU  1.334711 -0.340164  4.365080   73.037750\n",
       "2  409Wp  1.022732  0.151990  1.419926   85.265647\n",
       "3  iJLyR -0.032172  0.139033  2.978566  168.620776\n",
       "4  Xdl7t  1.988431  0.155413  4.751769  154.036647"
      ]
     },
     "execution_count": 4,
     "metadata": {},
     "output_type": "execute_result"
    }
   ],
   "source": [
    "# Просмотрим первые 5 строк для первого датасета в первом датасете\n",
    "df_1.head()"
   ]
  },
  {
   "cell_type": "markdown",
   "metadata": {},
   "source": [
    "### Просмотрим информацию об датасете в первом датасете"
   ]
  },
  {
   "cell_type": "code",
   "execution_count": 5,
   "metadata": {},
   "outputs": [
    {
     "data": {
      "text/plain": [
       "<bound method DataFrame.info of           id        f0        f1        f2     product\n",
       "0      txEyH  0.705745 -0.497823  1.221170  105.280062\n",
       "1      2acmU  1.334711 -0.340164  4.365080   73.037750\n",
       "2      409Wp  1.022732  0.151990  1.419926   85.265647\n",
       "3      iJLyR -0.032172  0.139033  2.978566  168.620776\n",
       "4      Xdl7t  1.988431  0.155413  4.751769  154.036647\n",
       "...      ...       ...       ...       ...         ...\n",
       "99995  DLsed  0.971957  0.370953  6.075346  110.744026\n",
       "99996  QKivN  1.392429 -0.382606  1.273912  122.346843\n",
       "99997  3rnvd  1.029585  0.018787 -1.348308   64.375443\n",
       "99998  7kl59  0.998163 -0.528582  1.583869   74.040764\n",
       "99999  1CWhH  1.764754 -0.266417  5.722849  149.633246\n",
       "\n",
       "[100000 rows x 5 columns]>"
      ]
     },
     "execution_count": 5,
     "metadata": {},
     "output_type": "execute_result"
    }
   ],
   "source": [
    "# Просмотрим информацию об датасете в первом датасете\n",
    "df_1.info"
   ]
  },
  {
   "cell_type": "markdown",
   "metadata": {},
   "source": [
    "### Проверим количество пропусков в первом датасете"
   ]
  },
  {
   "cell_type": "code",
   "execution_count": 6,
   "metadata": {},
   "outputs": [
    {
     "data": {
      "text/plain": [
       "id         0\n",
       "f0         0\n",
       "f1         0\n",
       "f2         0\n",
       "product    0\n",
       "dtype: int64"
      ]
     },
     "execution_count": 6,
     "metadata": {},
     "output_type": "execute_result"
    }
   ],
   "source": [
    "# Проверим количество пропусков в первом датасете\n",
    "df_1.isna().sum()"
   ]
  },
  {
   "cell_type": "markdown",
   "metadata": {},
   "source": [
    "### Через цикл проверим на наличие дубликатов в первом датасете"
   ]
  },
  {
   "cell_type": "code",
   "execution_count": 7,
   "metadata": {},
   "outputs": [
    {
     "name": "stdout",
     "output_type": "stream",
     "text": [
      "Кол-во явных дубликтов для столбца id равняется 10\n",
      "Кол-во явных дубликтов для столбца f0 равняется 0\n",
      "Кол-во явных дубликтов для столбца f1 равняется 0\n",
      "Кол-во явных дубликтов для столбца f2 равняется 0\n",
      "Кол-во явных дубликтов для столбца product равняется 0\n"
     ]
    }
   ],
   "source": [
    "# Через цикл проверим на наличие дубликатов в первом датасете\n",
    "for x in df_1.columns:\n",
    "    print(\"Кол-во явных дубликтов для столбца\", x, \"равняется\", df_1[x].duplicated().sum())"
   ]
  },
  {
   "cell_type": "markdown",
   "metadata": {},
   "source": [
    "### Визуализируем наши признаки в первом датасете"
   ]
  },
  {
   "cell_type": "code",
   "execution_count": 8,
   "metadata": {},
   "outputs": [
    {
     "data": {
      "image/png": "[encoded data removed]",
      "text/plain": [
       "<Figure size 1080x720 with 4 Axes>"
      ]
     },
     "metadata": {
      "needs_background": "light"
     },
     "output_type": "display_data"
    }
   ],
   "source": [
    "# Визуализируем наши признаки в первом датасете\n",
    "df_1.hist(figsize=(15, 10))\n",
    "plt.show()"
   ]
  },
  {
   "cell_type": "markdown",
   "metadata": {},
   "source": [
    "# Проделаем аналогичные шаги для второго и третьего датасетов и в конце сделаем выводы"
   ]
  },
  {
   "cell_type": "markdown",
   "metadata": {},
   "source": [
    "****"
   ]
  },
  {
   "cell_type": "code",
   "execution_count": 9,
   "metadata": {},
   "outputs": [
    {
     "data": {
      "text/html": [
       "<div>\n",
       "<style scoped>\n",
       "    .dataframe tbody tr th:only-of-type {\n",
       "        vertical-align: middle;\n",
       "    }\n",
       "\n",
       "    .dataframe tbody tr th {\n",
       "        vertical-align: top;\n",
       "    }\n",
       "\n",
       "    .dataframe thead th {\n",
       "        text-align: right;\n",
       "    }\n",
       "</style>\n",
       "<table border=\"1\" class=\"dataframe\">\n",
       "  <thead>\n",
       "    <tr style=\"text-align: right;\">\n",
       "      <th></th>\n",
       "      <th>id</th>\n",
       "      <th>f0</th>\n",
       "      <th>f1</th>\n",
       "      <th>f2</th>\n",
       "      <th>product</th>\n",
       "    </tr>\n",
       "  </thead>\n",
       "  <tbody>\n",
       "    <tr>\n",
       "      <th>0</th>\n",
       "      <td>kBEdx</td>\n",
       "      <td>-15.001348</td>\n",
       "      <td>-8.276000</td>\n",
       "      <td>-0.005876</td>\n",
       "      <td>3.179103</td>\n",
       "    </tr>\n",
       "    <tr>\n",
       "      <th>1</th>\n",
       "      <td>62mP7</td>\n",
       "      <td>14.272088</td>\n",
       "      <td>-3.475083</td>\n",
       "      <td>0.999183</td>\n",
       "      <td>26.953261</td>\n",
       "    </tr>\n",
       "    <tr>\n",
       "      <th>2</th>\n",
       "      <td>vyE1P</td>\n",
       "      <td>6.263187</td>\n",
       "      <td>-5.948386</td>\n",
       "      <td>5.001160</td>\n",
       "      <td>134.766305</td>\n",
       "    </tr>\n",
       "    <tr>\n",
       "      <th>3</th>\n",
       "      <td>KcrkZ</td>\n",
       "      <td>-13.081196</td>\n",
       "      <td>-11.506057</td>\n",
       "      <td>4.999415</td>\n",
       "      <td>137.945408</td>\n",
       "    </tr>\n",
       "    <tr>\n",
       "      <th>4</th>\n",
       "      <td>AHL4O</td>\n",
       "      <td>12.702195</td>\n",
       "      <td>-8.147433</td>\n",
       "      <td>5.004363</td>\n",
       "      <td>134.766305</td>\n",
       "    </tr>\n",
       "  </tbody>\n",
       "</table>\n",
       "</div>"
      ],
      "text/plain": [
       "      id         f0         f1        f2     product\n",
       "0  kBEdx -15.001348  -8.276000 -0.005876    3.179103\n",
       "1  62mP7  14.272088  -3.475083  0.999183   26.953261\n",
       "2  vyE1P   6.263187  -5.948386  5.001160  134.766305\n",
       "3  KcrkZ -13.081196 -11.506057  4.999415  137.945408\n",
       "4  AHL4O  12.702195  -8.147433  5.004363  134.766305"
      ]
     },
     "execution_count": 9,
     "metadata": {},
     "output_type": "execute_result"
    }
   ],
   "source": [
    "df_2.head()"
   ]
  },
  {
   "cell_type": "code",
   "execution_count": 10,
   "metadata": {},
   "outputs": [
    {
     "data": {
      "text/plain": [
       "<bound method DataFrame.info of           id         f0         f1        f2     product\n",
       "0      kBEdx -15.001348  -8.276000 -0.005876    3.179103\n",
       "1      62mP7  14.272088  -3.475083  0.999183   26.953261\n",
       "2      vyE1P   6.263187  -5.948386  5.001160  134.766305\n",
       "3      KcrkZ -13.081196 -11.506057  4.999415  137.945408\n",
       "4      AHL4O  12.702195  -8.147433  5.004363  134.766305\n",
       "...      ...        ...        ...       ...         ...\n",
       "99995  QywKC   9.535637  -6.878139  1.998296   53.906522\n",
       "99996  ptvty -10.160631 -12.558096  5.005581  137.945408\n",
       "99997  09gWa  -7.378891  -3.084104  4.998651  137.945408\n",
       "99998  rqwUm   0.665714  -6.152593  1.000146   30.132364\n",
       "99999  relB0  -3.426139  -7.794274 -0.003299    3.179103\n",
       "\n",
       "[100000 rows x 5 columns]>"
      ]
     },
     "execution_count": 10,
     "metadata": {},
     "output_type": "execute_result"
    }
   ],
   "source": [
    "df_2.info"
   ]
  },
  {
   "cell_type": "code",
   "execution_count": 11,
   "metadata": {},
   "outputs": [
    {
     "data": {
      "text/plain": [
       "id         0\n",
       "f0         0\n",
       "f1         0\n",
       "f2         0\n",
       "product    0\n",
       "dtype: int64"
      ]
     },
     "execution_count": 11,
     "metadata": {},
     "output_type": "execute_result"
    }
   ],
   "source": [
    "df_2.isna().sum()"
   ]
  },
  {
   "cell_type": "code",
   "execution_count": 12,
   "metadata": {},
   "outputs": [
    {
     "name": "stdout",
     "output_type": "stream",
     "text": [
      "Кол-во явных дубликтов для столбца id равняется 4\n",
      "Кол-во явных дубликтов для столбца f0 равняется 0\n",
      "Кол-во явных дубликтов для столбца f1 равняется 0\n",
      "Кол-во явных дубликтов для столбца f2 равняется 0\n",
      "Кол-во явных дубликтов для столбца product равняется 99988\n"
     ]
    }
   ],
   "source": [
    "for x in df_2.columns:\n",
    "    print(\"Кол-во явных дубликтов для столбца\", x, \"равняется\", df_2[x].duplicated().sum())"
   ]
  },
  {
   "cell_type": "code",
   "execution_count": 13,
   "metadata": {},
   "outputs": [
    {
     "data": {
      "image/png": "[encoded data removed]",
      "text/plain": [
       "<Figure size 1080x720 with 4 Axes>"
      ]
     },
     "metadata": {
      "needs_background": "light"
     },
     "output_type": "display_data"
    }
   ],
   "source": [
    "df_2.hist(figsize=(15, 10))\n",
    "plt.show()"
   ]
  },
  {
   "cell_type": "markdown",
   "metadata": {},
   "source": [
    "****"
   ]
  },
  {
   "cell_type": "code",
   "execution_count": 14,
   "metadata": {},
   "outputs": [
    {
     "data": {
      "text/html": [
       "<div>\n",
       "<style scoped>\n",
       "    .dataframe tbody tr th:only-of-type {\n",
       "        vertical-align: middle;\n",
       "    }\n",
       "\n",
       "    .dataframe tbody tr th {\n",
       "        vertical-align: top;\n",
       "    }\n",
       "\n",
       "    .dataframe thead th {\n",
       "        text-align: right;\n",
       "    }\n",
       "</style>\n",
       "<table border=\"1\" class=\"dataframe\">\n",
       "  <thead>\n",
       "    <tr style=\"text-align: right;\">\n",
       "      <th></th>\n",
       "      <th>id</th>\n",
       "      <th>f0</th>\n",
       "      <th>f1</th>\n",
       "      <th>f2</th>\n",
       "      <th>product</th>\n",
       "    </tr>\n",
       "  </thead>\n",
       "  <tbody>\n",
       "    <tr>\n",
       "      <th>0</th>\n",
       "      <td>fwXo0</td>\n",
       "      <td>-1.146987</td>\n",
       "      <td>0.963328</td>\n",
       "      <td>-0.828965</td>\n",
       "      <td>27.758673</td>\n",
       "    </tr>\n",
       "    <tr>\n",
       "      <th>1</th>\n",
       "      <td>WJtFt</td>\n",
       "      <td>0.262778</td>\n",
       "      <td>0.269839</td>\n",
       "      <td>-2.530187</td>\n",
       "      <td>56.069697</td>\n",
       "    </tr>\n",
       "    <tr>\n",
       "      <th>2</th>\n",
       "      <td>ovLUW</td>\n",
       "      <td>0.194587</td>\n",
       "      <td>0.289035</td>\n",
       "      <td>-5.586433</td>\n",
       "      <td>62.871910</td>\n",
       "    </tr>\n",
       "    <tr>\n",
       "      <th>3</th>\n",
       "      <td>q6cA6</td>\n",
       "      <td>2.236060</td>\n",
       "      <td>-0.553760</td>\n",
       "      <td>0.930038</td>\n",
       "      <td>114.572842</td>\n",
       "    </tr>\n",
       "    <tr>\n",
       "      <th>4</th>\n",
       "      <td>WPMUX</td>\n",
       "      <td>-0.515993</td>\n",
       "      <td>1.716266</td>\n",
       "      <td>5.899011</td>\n",
       "      <td>149.600746</td>\n",
       "    </tr>\n",
       "  </tbody>\n",
       "</table>\n",
       "</div>"
      ],
      "text/plain": [
       "      id        f0        f1        f2     product\n",
       "0  fwXo0 -1.146987  0.963328 -0.828965   27.758673\n",
       "1  WJtFt  0.262778  0.269839 -2.530187   56.069697\n",
       "2  ovLUW  0.194587  0.289035 -5.586433   62.871910\n",
       "3  q6cA6  2.236060 -0.553760  0.930038  114.572842\n",
       "4  WPMUX -0.515993  1.716266  5.899011  149.600746"
      ]
     },
     "execution_count": 14,
     "metadata": {},
     "output_type": "execute_result"
    }
   ],
   "source": [
    "df_3.head()"
   ]
  },
  {
   "cell_type": "code",
   "execution_count": 15,
   "metadata": {},
   "outputs": [
    {
     "data": {
      "text/plain": [
       "<bound method DataFrame.info of           id        f0        f1        f2     product\n",
       "0      fwXo0 -1.146987  0.963328 -0.828965   27.758673\n",
       "1      WJtFt  0.262778  0.269839 -2.530187   56.069697\n",
       "2      ovLUW  0.194587  0.289035 -5.586433   62.871910\n",
       "3      q6cA6  2.236060 -0.553760  0.930038  114.572842\n",
       "4      WPMUX -0.515993  1.716266  5.899011  149.600746\n",
       "...      ...       ...       ...       ...         ...\n",
       "99995  4GxBu -1.777037  1.125220  6.263374  172.327046\n",
       "99996  YKFjq -1.261523 -0.894828  2.524545  138.748846\n",
       "99997  tKPY3 -1.199934 -2.957637  5.219411  157.080080\n",
       "99998  nmxp2 -2.419896  2.417221 -5.548444   51.795253\n",
       "99999  V9kWn -2.551421 -2.025625  6.090891  102.775767\n",
       "\n",
       "[100000 rows x 5 columns]>"
      ]
     },
     "execution_count": 15,
     "metadata": {},
     "output_type": "execute_result"
    }
   ],
   "source": [
    "df_3.info"
   ]
  },
  {
   "cell_type": "code",
   "execution_count": 16,
   "metadata": {},
   "outputs": [
    {
     "data": {
      "text/plain": [
       "id         0\n",
       "f0         0\n",
       "f1         0\n",
       "f2         0\n",
       "product    0\n",
       "dtype: int64"
      ]
     },
     "execution_count": 16,
     "metadata": {},
     "output_type": "execute_result"
    }
   ],
   "source": [
    "df_3.isna().sum()"
   ]
  },
  {
   "cell_type": "code",
   "execution_count": 17,
   "metadata": {},
   "outputs": [
    {
     "name": "stdout",
     "output_type": "stream",
     "text": [
      "Кол-во явных дубликтов для столбца id равняется 4\n",
      "Кол-во явных дубликтов для столбца f0 равняется 0\n",
      "Кол-во явных дубликтов для столбца f1 равняется 0\n",
      "Кол-во явных дубликтов для столбца f2 равняется 0\n",
      "Кол-во явных дубликтов для столбца product равняется 0\n"
     ]
    }
   ],
   "source": [
    "for x in df_3.columns:\n",
    "    print(\"Кол-во явных дубликтов для столбца\", x, \"равняется\", df_3[x].duplicated().sum())"
   ]
  },
  {
   "cell_type": "code",
   "execution_count": 18,
   "metadata": {},
   "outputs": [
    {
     "data": {
      "image/png": "[encoded data removed]",
      "text/plain": [
       "<Figure size 1080x720 with 4 Axes>"
      ]
     },
     "metadata": {
      "needs_background": "light"
     },
     "output_type": "display_data"
    }
   ],
   "source": [
    "df_3.hist(figsize=(15, 10))\n",
    "plt.show()"
   ]
  },
  {
   "cell_type": "markdown",
   "metadata": {},
   "source": [
    "### Выводы по загрузке и подготовке данных"
   ]
  },
  {
   "cell_type": "markdown",
   "metadata": {},
   "source": [
    "1. Признаки в трех датасетах не содеражат пропусков, потому не требуется предобработки пропущенных значений\n",
    "2. Во всех трех датасетах для столбца(признака) id имеется несколько дубликатов, что не мешает дальнейшему исследованию и анализу данных, однако следует понимать, что id в идеале не должны быть одинаковы\n",
    "3. Видно, что для 3-го датасета признаки f1, f2 и f3 очень близки к нормальному распределению, в отличии от 1 датасета, а для 2-го датасета прослеживается сильное отличие в признаках f3 и product по сравнению с первым и третьим датасетами\n",
    "4. Для 2-го датасета видно кол-во явных дубликтов для столбца product равное 99988 - что сильно отличает и выделяет данный датасет"
   ]
  },
  {
   "cell_type": "markdown",
   "metadata": {},
   "source": [
    "****"
   ]
  },
  {
   "cell_type": "markdown",
   "metadata": {},
   "source": [
    "## Обучение и проверка модели"
   ]
  },
  {
   "cell_type": "markdown",
   "metadata": {},
   "source": [
    "### Разобьем для каждого датасета признаки и целевой признак"
   ]
  },
  {
   "cell_type": "code",
   "execution_count": 19,
   "metadata": {},
   "outputs": [],
   "source": [
    "# для 1-го датасета:\n",
    "features_1 = df_1.drop(['product', 'id'], axis=1)\n",
    "target_1 = df_1['product']\n",
    "\n",
    "# для 2-го датасета:\n",
    "features_2 = df_2.drop(['product', 'id'], axis=1)\n",
    "target_2 = df_2['product']\n",
    "\n",
    "# для 3-го датасета:\n",
    "features_3 = df_3.drop(['product', 'id'], axis=1)\n",
    "target_3 = df_3['product']"
   ]
  },
  {
   "cell_type": "markdown",
   "metadata": {},
   "source": [
    "### Для каждого датасета разделим на тренировочную и валидационную выборки в соотношении 75:25 (3:1)"
   ]
  },
  {
   "cell_type": "code",
   "execution_count": 20,
   "metadata": {},
   "outputs": [],
   "source": [
    "# для 1-го датасета:\n",
    "features_train_1, features_validate_1, target_train_1, target_validate_1 = train_test_split(features_1, \n",
    "                                                                                            target_1, \n",
    "                                                                                            train_size=0.75,\n",
    "                                                                                            random_state=42)\n",
    "\n",
    "# для 2-го датасета:\n",
    "features_train_2, features_validate_2, target_train_2, target_validate_2 = train_test_split(features_2, \n",
    "                                                                                            target_2, \n",
    "                                                                                            train_size=0.75,\n",
    "                                                                                            random_state=42)\n",
    "# для 3-го датасета:\n",
    "features_train_3, features_validate_3, target_train_3, target_validate_3 = train_test_split(features_3, \n",
    "                                                                                            target_3, \n",
    "                                                                                            train_size=0.75,\n",
    "                                                                                            random_state=42)"
   ]
  },
  {
   "cell_type": "markdown",
   "metadata": {},
   "source": [
    "# Линейная регрессия"
   ]
  },
  {
   "cell_type": "markdown",
   "metadata": {},
   "source": [
    "### Обучим модели для каждого региона и сделаем предсказания на валидационной выборке\n",
    "\n",
    "    Создадим функцию для обучения и предсказаний \n",
    "    Оценим: средний предсказанный запас, MSE, RMSE и r2_score"
   ]
  },
  {
   "cell_type": "code",
   "execution_count": 21,
   "metadata": {},
   "outputs": [],
   "source": [
    "def func_model(model, target_v, predictions_valid,):\n",
    "    mse = mean_squared_error(target_v, predictions_valid) # посчитаем значение метрики MSE на валидационной выборк\n",
    "    result = mean_squared_error(target_v, predictions_valid) ** 0.5  # посчитаем значение метрики RMSE на валидационной выборке\n",
    "    r2 = r2_score(target_v, predictions_valid) # посчитаем значение метрики r2_score на валидационной выборке\n",
    "    print(f\"Для модели соотвествуюшие показатели равняются:\")\n",
    "    print(\"Средний запас предсказанного сырья:\", predictions_valid.mean())\n",
    "    print(\"MSE модели линейной регрессии на валидационной выборке:\", mse)\n",
    "    print(\"RMSE модели линейной регрессии на валидационной выборке:\", result)\n",
    "    print(\"R2:\", r2)\n",
    "    print()"
   ]
  },
  {
   "cell_type": "markdown",
   "metadata": {},
   "source": [
    "### Модели для датасетов"
   ]
  },
  {
   "cell_type": "code",
   "execution_count": 22,
   "metadata": {},
   "outputs": [
    {
     "name": "stdout",
     "output_type": "stream",
     "text": [
      "Модель 1\n",
      "Для модели соотвествуюшие показатели равняются:\n",
      "Средний запас предсказанного сырья: 92.39879990657768\n",
      "MSE модели линейной регрессии на валидационной выборке: 1425.5608700093812\n",
      "RMSE модели линейной регрессии на валидационной выборке: 37.75660035026169\n",
      "R2: 0.2728287328173471\n",
      "\n",
      "Модель 2\n",
      "Для модели соотвествуюшие показатели равняются:\n",
      "Средний запас предсказанного сырья: 68.71287803913762\n",
      "MSE модели линейной регрессии на валидационной выборке: 0.7925986566392013\n",
      "RMSE модели линейной регрессии на валидационной выборке: 0.890280100102884\n",
      "R2: 0.9996245232002449\n",
      "\n",
      "Модель 3\n",
      "Для модели соотвествуюшие показатели равняются:\n",
      "Средний запас предсказанного сырья: 94.77102387765939\n",
      "MSE модели линейной регрессии на валидационной выборке: 1611.6910636385903\n",
      "RMSE модели линейной регрессии на валидационной выборке: 40.145872311342174\n",
      "R2: 0.19634705977280487\n",
      "\n"
     ]
    }
   ],
   "source": [
    "model_1 = LinearRegression() \n",
    "model_1.fit(features_train_1, target_train_1) # обучим модель на тренировочной выборке\n",
    "predictions_valid_1 = model_1.predict(features_validate_1) # получим предсказания модели на валидационной выборке\n",
    "\n",
    "model_2 = LinearRegression()\n",
    "model_2.fit(features_train_2, target_train_2) # обучим модель на тренировочной выборке\n",
    "predictions_valid_2 = model_2.predict(features_validate_2) # получим предсказания модели на валидационной выборке\n",
    "\n",
    "model_3 = LinearRegression() \n",
    "model_3.fit(features_train_3, target_train_3) # обучим модель на тренировочной выборке\n",
    "predictions_valid_3 = model_3.predict(features_validate_3) # получим предсказания модели на валидационной выборке\n",
    "\n",
    "print(\"Модель 1\")\n",
    "model_final_1 = func_model(model_1, target_validate_1, predictions_valid_1)\n",
    "print(\"Модель 2\")\n",
    "model_final_2 = func_model(model_2, target_validate_2, predictions_valid_2)\n",
    "print(\"Модель 3\")\n",
    "model_final_3 = func_model(model_3, target_validate_3, predictions_valid_3)\n"
   ]
  },
  {
   "cell_type": "markdown",
   "metadata": {},
   "source": [
    "### Выводы по обучению и подготовке модели"
   ]
  },
  {
   "cell_type": "markdown",
   "metadata": {},
   "source": [
    "1. Наибольшие средние запасы предсказанного сырья в датасетах 1 и 3\n",
    "2. Видно, что для 2-го датасета расчет MSE и RMSE был не таким как для 1-го и 3-го датасетов\n",
    "3. Наилучшая оценка R2 имеется у второго датасета и равна 0.9996245232002449: это говорит о том, если r2_score равен 1, зависимая переменная может быть безошибочно предсказана по независимой переменной, - что мы и имеем у второго датасета"
   ]
  },
  {
   "cell_type": "markdown",
   "metadata": {},
   "source": [
    "## Подготовка к расчёту прибыли"
   ]
  },
  {
   "cell_type": "code",
   "execution_count": 23,
   "metadata": {},
   "outputs": [
    {
     "name": "stdout",
     "output_type": "stream",
     "text": [
      "50.0\n",
      "111.11111111111111\n"
     ]
    }
   ],
   "source": [
    "# расчеты с сокращением численных показателей\n",
    "\n",
    "BUDGET = 10000 # бюджет в млн рублей (* 1 000 000)\n",
    "POINTS_PER_BUDGET = 200 # количество разрабатываемых точек \n",
    "PRODUCT_PRICE = 0.45 # доходность одной единицы барреля в млн рублей (* 1 000 000)\n",
    "\n",
    "BUDGET_PER_POINT =  BUDGET/POINTS_PER_BUDGET  # сколько бюджета в (млн) приходится на 1-скважину\n",
    "PRODUCT_VALUE_POINT = BUDGET_PER_POINT / PRODUCT_PRICE # сколько бюджет на 1-скважину в (млн) приходится на доходность одной единицы барреля\n",
    "\n",
    "print(BUDGET_PER_POINT)\n",
    "print(PRODUCT_VALUE_POINT)\n"
   ]
  },
  {
   "cell_type": "code",
   "execution_count": 24,
   "metadata": {},
   "outputs": [
    {
     "name": "stdout",
     "output_type": "stream",
     "text": [
      "50000000.0\n",
      "111.11111111111111\n"
     ]
    }
   ],
   "source": [
    "# расчеты без сокращения численных показателей\n",
    "\n",
    "BUDGET_2 = 10000000000 # бюджет в млн рублей \n",
    "POINTS_PER_BUDGET_2 = 200 # количество разрабатываемых точек \n",
    "PRODUCT_PRICE_2 = 450000 # доходность одной единицы барреля в млн рублей \n",
    "\n",
    "BUDGET_PER_POINT_2 =  BUDGET_2/POINTS_PER_BUDGET_2  # сколько бюджета вприходится на 1-скважину\n",
    "PRODUCT_VALUE_POINT_2 = BUDGET_PER_POINT_2 / PRODUCT_PRICE_2 # сколько бюджет на 1-скважину приходится на доходность одной единицы барреля\n",
    "\n",
    "print(BUDGET_PER_POINT_2)\n",
    "print(PRODUCT_VALUE_POINT_2)"
   ]
  },
  {
   "cell_type": "markdown",
   "metadata": {},
   "source": [
    "****"
   ]
  },
  {
   "cell_type": "markdown",
   "metadata": {},
   "source": [
    "# Расчёт прибыли и рисков "
   ]
  },
  {
   "cell_type": "markdown",
   "metadata": {},
   "source": [
    "# Создание функции для расчёта прибыли по выбранным скважинам и предсказаниям модели"
   ]
  },
  {
   "cell_type": "code",
   "execution_count": 25,
   "metadata": {},
   "outputs": [],
   "source": [
    "def profit(target, predictions_valid, count):\n",
    "    probs_sorted = predictions_valid.sort_values(ascending=False)\n",
    "    selected = target[probs_sorted.index][:count]\n",
    "    losses = target[probs_sorted.index][count:]\n",
    "    return PRODUCT_PRICE * selected.sum() - BUDGET"
   ]
  },
  {
   "cell_type": "markdown",
   "metadata": {},
   "source": [
    "### Расчет для первого датасета"
   ]
  },
  {
   "cell_type": "code",
   "execution_count": 26,
   "metadata": {},
   "outputs": [
    {
     "name": "stdout",
     "output_type": "stream",
     "text": [
      "Средняя прибыль: 435.9337721386624\n",
      "0.975% квантиль = 966.5041807073762\n",
      "0.025% квантиль = -116.23161277720891\n",
      "Доля случаев, в которых прибыль отрицательна = 6.1 %\n"
     ]
    }
   ],
   "source": [
    "state = np.random.RandomState(12345) # создание переменной, чтобы случайный элемент не был всегда одинаковый.\n",
    "values = [] # создание переменной-списка для хранения отобранных функцией\n",
    "for i in range(1000):\n",
    "    target_subsample = target_validate_1.sample(frac=None, replace=True, random_state=state, n=500, axis=0)\n",
    "    probs_subsample = pd.Series(data=predictions_valid_1, index=target_validate_1.index)[target_subsample.index]\n",
    "    values.append(profit(target_subsample, probs_subsample, 200))\n",
    "    \n",
    "values = pd.Series(values)\n",
    "mean = values.mean()\n",
    "risk = values.quantile(0.975)\n",
    "risk_2 = values.quantile(0.025)\n",
    "print(\"Средняя прибыль:\", mean)\n",
    "print(\"0.975% квантиль =\", risk)\n",
    "print(\"0.025% квантиль =\", risk_2)\n",
    "\n",
    "negative = []\n",
    "for x in values:\n",
    "    if x < 0:\n",
    "        negative.append(x)\n",
    "\n",
    "print('Доля случаев, в которых прибыль отрицательна =', len(negative) / len(values) * 100, '%')\n",
    "# print(len(negative))\n",
    "# print(len(values))"
   ]
  },
  {
   "cell_type": "markdown",
   "metadata": {},
   "source": [
    "### Расчет для второго датасета"
   ]
  },
  {
   "cell_type": "code",
   "execution_count": 27,
   "metadata": {},
   "outputs": [
    {
     "name": "stdout",
     "output_type": "stream",
     "text": [
      "Средняя прибыль: 489.6612544117528\n",
      "0.975% квантиль = 905.7626504248394\n",
      "0.025% квантиль = 55.11617727361514\n",
      "Доля случаев, в которых прибыль отрицательна = 1.0999999999999999 %\n"
     ]
    }
   ],
   "source": [
    "state = np.random.RandomState(12345) # создание переменной, чтобы случайный элемент не был всегда одинаковый.\n",
    "values = [] # создание переменной-списка для хранения отобранных функцией\n",
    "for i in range(1000):\n",
    "    target_subsample = target_validate_2.sample(frac=None, replace=True, random_state=state, n=500, axis=0)\n",
    "    probs_subsample = pd.Series(data=predictions_valid_2, index=target_validate_2.index)[target_subsample.index]\n",
    "    values.append(profit(target_subsample, probs_subsample, 200))\n",
    "\n",
    "values = pd.Series(values)\n",
    "mean = values.mean()\n",
    "risk = values.quantile(0.975)\n",
    "risk_2 = values.quantile(0.025)\n",
    "print(\"Средняя прибыль:\", mean)\n",
    "print(\"0.975% квантиль =\", risk)\n",
    "print(\"0.025% квантиль =\", risk_2)\n",
    "\n",
    "\n",
    "negative = []\n",
    "for x in values:\n",
    "    if x < 0:\n",
    "        negative.append(x)\n",
    "\n",
    "print('Доля случаев, в которых прибыль отрицательна =', len(negative) / len(values) * 100, '%')"
   ]
  },
  {
   "cell_type": "markdown",
   "metadata": {},
   "source": [
    "### Расчет для третьего датасета"
   ]
  },
  {
   "cell_type": "code",
   "execution_count": 28,
   "metadata": {},
   "outputs": [
    {
     "name": "stdout",
     "output_type": "stream",
     "text": [
      "Средняя прибыль: 403.68792786213874\n",
      "0.975% квантиль = 952.8874167078604\n",
      "0.025% квантиль = -153.11698476190503\n",
      "Доля случаев, в которых прибыль отрицательна = 7.1 %\n"
     ]
    }
   ],
   "source": [
    "state = np.random.RandomState(12345) # создание переменной, чтобы случайный элемент не был всегда одинаковый.\n",
    "values = [] # создание переменной-списка для хранения отобранных функцией\n",
    "for i in range(1000):\n",
    "    target_subsample = target_validate_3.sample(frac=None, replace=True, random_state=state, n=500, axis=0)\n",
    "    probs_subsample = pd.Series(data=predictions_valid_3, index=target_validate_3.index)[target_subsample.index]\n",
    "    values.append(profit(target_subsample, probs_subsample, 200))\n",
    "\n",
    "values = pd.Series(values)\n",
    "mean = values.mean()\n",
    "risk = values.quantile(0.975)\n",
    "risk_2 = values.quantile(0.025)\n",
    "print(\"Средняя прибыль:\", mean)\n",
    "print(\"0.975% квантиль =\", risk)\n",
    "print(\"0.025% квантиль =\", risk_2)\n",
    "\n",
    "\n",
    "negative = []\n",
    "for x in values:\n",
    "    if x < 0:\n",
    "        negative.append(x)\n",
    "\n",
    "print('Доля случаев, в которых прибыль отрицательна =', len(negative) / len(values) * 100, '%')"
   ]
  },
  {
   "cell_type": "markdown",
   "metadata": {},
   "source": [
    "**4) Выводы по расчету прибыли и рисков:**\n",
    "\n",
    "    На основании полученных данных можно предложить 2 регион для разработки скважин и выбор обосновывается следующим ходом мыслей:\n",
    "    1) В данном регионе наибольшая средняя прибыль\n",
    "    2) 0.025% квантиль показывает, что все что за этим параметром, очень маловероятно,  и так как здесь у нас положительный результат, в отличии от других регионов - то риск убытка существенно меньше \n",
    "    3) Доля убытков для второго региона наименьшая "
   ]
  },
  {
   "cell_type": "markdown",
   "metadata": {},
   "source": [
    "## Общий вывод по проекту"
   ]
  },
  {
   "cell_type": "markdown",
   "metadata": {},
   "source": [
    "**1) Сделали выводы по загрузке и подготовке данных:**\n",
    "1. Признаки в трех датасетах не содеражат пропусков, потому не требуется предобработки пропущенных значений\n",
    "2. Во всех трех датасетах для столбца(признака) id имеется несколько дубликатов, что не мешает дальнейшему исследованию и анализу данных, однако следует понимать, что id в идеале не должны быть одинаковы\n",
    "3. Видно, что для 3-го датасета признаки f1, f2 и f3 очень близки к нормальному распределению, в отличии от 1 датасета, а для 2-го датасета прослеживается сильное отличие в признаках f3 и product по сравнению с первым и третьим датасетами\n",
    "4. Для 2-го датасета видно кол-во явных дубликтов для столбца product равное 99988 - что сильно отличает и выделяет данный датасет\n",
    "\n",
    "**2.1) Разбили для каждого датасета признаки и целевой признак**\n",
    "\n",
    "**2.2) Для каждого датасета разделили на тренировочную и валидационную выборки в соотношении 75:25 (3:1)**\n",
    "\n",
    "**2.3) Обучили модель для каждого региона и сделали предсказания на валидационной выборке**\n",
    "\n",
    "    Создадим функцию для обучения и предсказаний \n",
    "    Оценим: средний предсказанный запас, MSE, RMSE и r2_score\n",
    "    \n",
    "**2) Привели выводы по обучению и подготовке модели:**\n",
    "\n",
    "1. Наибольшие средние запасы предсказанного сырья в датасетах 1 и 3\n",
    "2. Видно, что для 2-го датасета расчет MSE и RMSE был не таким как для 1-го и 3-го датасетов\n",
    "3. Наилучшая оценка R2 имеется у второго датасета и равна 0.9996245232002449: это говорит о том, если r2_score равен 1, зависимая переменная может быть безошибочно предсказана по независимой переменной, - что мы и имеем у второго датасета\n",
    "\n",
    "**3) Была выполнена подготовка к расчёту прибыли:**\n",
    "       \n",
    "       budget = 10000 # бюджет в млн рублей\n",
    "       points_per_budget = 200 # количество разрабатываемых точек\n",
    "       product_price = 0.45 # доходность одной единицы барреля в млн рублей\n",
    "       budget_per_point = 50.0 # сколько бюджета в (млн) приходится на 1-скважину\n",
    "       product_value_point = 111.11111111111111 #сколько бюджет на 1-скважину приходится на доходность одной единицы барреля\n",
    "\n",
    "**4.1) Была написана функция для расчёта прибыли по выбранным скважинам и предсказаниям модели:** \n",
    "\n",
    "**4) Выводы по расчету прибыли и рисков:**\n",
    "\n",
    "    На основании полученных данных можно предложить 2 регион для разработки скважин и выбор обосновывается следующим ходом мыслей:\n",
    "    1) В данном регионе наибольшая средняя прибыль\n",
    "    2) 0.025% квантиль показывает, что все что за этим параметром, очень маловероятно,  и так как здесь у нас положительный результат, в отличии от других регионов - то риск убытка существенно меньше \n",
    "    3) Доля убытков для второго региона наименьшая \n",
    "    \n",
    "**Цель проекта была достигнута:**\n",
    "        \n",
    "        Предложен 2-регион и обоснован выбор"
   ]
  }
 ],
 "metadata": {
  "ExecuteTimeLog": [
   {
    "duration": 433,
    "start_time": "2022-10-04T20:17:48.937Z"
   },
   {
    "duration": 742,
    "start_time": "2022-10-04T20:19:30.626Z"
   },
   {
    "duration": 17,
    "start_time": "2022-10-04T20:19:42.718Z"
   },
   {
    "duration": 9,
    "start_time": "2022-10-04T20:19:49.499Z"
   },
   {
    "duration": 9,
    "start_time": "2022-10-04T20:19:58.118Z"
   },
   {
    "duration": 46,
    "start_time": "2022-10-08T15:11:05.771Z"
   },
   {
    "duration": 357,
    "start_time": "2022-10-08T15:11:08.170Z"
   },
   {
    "duration": 778,
    "start_time": "2022-10-08T15:11:09.045Z"
   },
   {
    "duration": 15,
    "start_time": "2022-10-08T15:11:10.342Z"
   },
   {
    "duration": 8,
    "start_time": "2022-10-08T15:11:12.226Z"
   },
   {
    "duration": 42,
    "start_time": "2022-10-08T15:12:00.734Z"
   },
   {
    "duration": 9,
    "start_time": "2022-10-08T15:12:05.183Z"
   },
   {
    "duration": 686,
    "start_time": "2022-10-08T15:12:27.091Z"
   },
   {
    "duration": 563,
    "start_time": "2022-10-08T15:12:38.981Z"
   },
   {
    "duration": 3,
    "start_time": "2022-10-08T15:12:58.784Z"
   },
   {
    "duration": 512,
    "start_time": "2022-10-08T15:13:01.631Z"
   },
   {
    "duration": 3,
    "start_time": "2022-10-08T15:13:08.456Z"
   },
   {
    "duration": 508,
    "start_time": "2022-10-08T15:13:11.121Z"
   },
   {
    "duration": 504,
    "start_time": "2022-10-08T15:13:16.622Z"
   },
   {
    "duration": 11,
    "start_time": "2022-10-08T15:13:44.197Z"
   },
   {
    "duration": 11,
    "start_time": "2022-10-08T15:13:57.082Z"
   },
   {
    "duration": 8,
    "start_time": "2022-10-08T15:13:58.946Z"
   },
   {
    "duration": 31,
    "start_time": "2022-10-08T15:21:57.734Z"
   },
   {
    "duration": 3,
    "start_time": "2022-10-08T15:22:55.900Z"
   },
   {
    "duration": 564,
    "start_time": "2022-10-08T15:23:04.858Z"
   },
   {
    "duration": 32,
    "start_time": "2022-10-08T15:23:45.368Z"
   },
   {
    "duration": 444,
    "start_time": "2022-10-08T15:24:06.812Z"
   },
   {
    "duration": 9,
    "start_time": "2022-10-08T15:27:19.512Z"
   },
   {
    "duration": 12,
    "start_time": "2022-10-08T15:27:19.840Z"
   },
   {
    "duration": 28,
    "start_time": "2022-10-08T15:27:20.193Z"
   },
   {
    "duration": 459,
    "start_time": "2022-10-08T15:27:20.535Z"
   },
   {
    "duration": 61,
    "start_time": "2022-10-08T15:30:42.848Z"
   },
   {
    "duration": 49,
    "start_time": "2022-10-08T15:30:49.725Z"
   },
   {
    "duration": 2,
    "start_time": "2022-10-08T15:30:58.080Z"
   },
   {
    "duration": 780,
    "start_time": "2022-10-08T15:42:00.106Z"
   },
   {
    "duration": 55,
    "start_time": "2022-10-08T15:46:33.144Z"
   },
   {
    "duration": 5,
    "start_time": "2022-10-08T15:46:42.097Z"
   },
   {
    "duration": 3,
    "start_time": "2022-10-08T15:58:02.419Z"
   },
   {
    "duration": 20,
    "start_time": "2022-10-08T16:04:15.109Z"
   },
   {
    "duration": 21,
    "start_time": "2022-10-08T16:04:25.637Z"
   },
   {
    "duration": 4309,
    "start_time": "2022-10-08T16:04:40.807Z"
   },
   {
    "duration": 5,
    "start_time": "2022-10-08T16:11:53.363Z"
   },
   {
    "duration": 11,
    "start_time": "2022-10-08T16:11:53.896Z"
   },
   {
    "duration": 8046,
    "start_time": "2022-10-08T16:11:54.893Z"
   },
   {
    "duration": 1224,
    "start_time": "2022-10-08T16:15:57.494Z"
   },
   {
    "duration": 374,
    "start_time": "2022-10-08T16:15:58.720Z"
   },
   {
    "duration": 13,
    "start_time": "2022-10-08T16:15:59.095Z"
   },
   {
    "duration": 8,
    "start_time": "2022-10-08T16:15:59.109Z"
   },
   {
    "duration": 21,
    "start_time": "2022-10-08T16:15:59.119Z"
   },
   {
    "duration": 27,
    "start_time": "2022-10-08T16:15:59.142Z"
   },
   {
    "duration": 488,
    "start_time": "2022-10-08T16:15:59.171Z"
   },
   {
    "duration": 9,
    "start_time": "2022-10-08T16:15:59.661Z"
   },
   {
    "duration": 10,
    "start_time": "2022-10-08T16:15:59.672Z"
   },
   {
    "duration": 13,
    "start_time": "2022-10-08T16:15:59.684Z"
   },
   {
    "duration": 42,
    "start_time": "2022-10-08T16:15:59.699Z"
   },
   {
    "duration": 579,
    "start_time": "2022-10-08T16:15:59.742Z"
   },
   {
    "duration": 15,
    "start_time": "2022-10-08T16:16:00.322Z"
   },
   {
    "duration": 14,
    "start_time": "2022-10-08T16:16:00.340Z"
   },
   {
    "duration": 21,
    "start_time": "2022-10-08T16:16:00.356Z"
   },
   {
    "duration": 42,
    "start_time": "2022-10-08T16:16:00.379Z"
   },
   {
    "duration": 484,
    "start_time": "2022-10-08T16:16:00.423Z"
   },
   {
    "duration": 5,
    "start_time": "2022-10-08T16:16:00.909Z"
   },
   {
    "duration": 47,
    "start_time": "2022-10-08T16:16:00.915Z"
   },
   {
    "duration": 0,
    "start_time": "2022-10-08T16:16:00.964Z"
   },
   {
    "duration": 11,
    "start_time": "2022-10-08T16:19:04.280Z"
   },
   {
    "duration": 1217,
    "start_time": "2022-10-08T16:37:32.283Z"
   },
   {
    "duration": 357,
    "start_time": "2022-10-08T16:37:33.502Z"
   },
   {
    "duration": 13,
    "start_time": "2022-10-08T16:37:33.861Z"
   },
   {
    "duration": 8,
    "start_time": "2022-10-08T16:37:33.876Z"
   },
   {
    "duration": 24,
    "start_time": "2022-10-08T16:37:33.887Z"
   },
   {
    "duration": 55,
    "start_time": "2022-10-08T16:37:33.913Z"
   },
   {
    "duration": 525,
    "start_time": "2022-10-08T16:37:33.970Z"
   },
   {
    "duration": 9,
    "start_time": "2022-10-08T16:37:34.497Z"
   },
   {
    "duration": 10,
    "start_time": "2022-10-08T16:37:34.508Z"
   },
   {
    "duration": 11,
    "start_time": "2022-10-08T16:37:34.534Z"
   },
   {
    "duration": 31,
    "start_time": "2022-10-08T16:37:34.546Z"
   },
   {
    "duration": 560,
    "start_time": "2022-10-08T16:37:34.579Z"
   },
   {
    "duration": 10,
    "start_time": "2022-10-08T16:37:35.141Z"
   },
   {
    "duration": 18,
    "start_time": "2022-10-08T16:37:35.154Z"
   },
   {
    "duration": 15,
    "start_time": "2022-10-08T16:37:35.173Z"
   },
   {
    "duration": 44,
    "start_time": "2022-10-08T16:37:35.190Z"
   },
   {
    "duration": 491,
    "start_time": "2022-10-08T16:37:35.236Z"
   },
   {
    "duration": 5,
    "start_time": "2022-10-08T16:37:35.733Z"
   },
   {
    "duration": 20,
    "start_time": "2022-10-08T16:37:35.740Z"
   },
   {
    "duration": 118,
    "start_time": "2022-10-08T16:37:35.762Z"
   },
   {
    "duration": 0,
    "start_time": "2022-10-08T16:37:35.881Z"
   },
   {
    "duration": 3331,
    "start_time": "2022-10-08T16:38:14.471Z"
   },
   {
    "duration": 6,
    "start_time": "2022-10-08T16:38:37.647Z"
   },
   {
    "duration": 3295,
    "start_time": "2022-10-08T16:38:41.123Z"
   },
   {
    "duration": 3306,
    "start_time": "2022-10-08T16:39:00.655Z"
   },
   {
    "duration": 3367,
    "start_time": "2022-10-08T16:39:15.056Z"
   },
   {
    "duration": 3333,
    "start_time": "2022-10-08T16:39:39.376Z"
   },
   {
    "duration": 3333,
    "start_time": "2022-10-08T16:44:04.005Z"
   },
   {
    "duration": 3273,
    "start_time": "2022-10-08T16:44:19.179Z"
   },
   {
    "duration": 1473,
    "start_time": "2022-10-09T18:02:54.332Z"
   },
   {
    "duration": 730,
    "start_time": "2022-10-09T18:02:55.807Z"
   },
   {
    "duration": 13,
    "start_time": "2022-10-09T18:02:56.541Z"
   },
   {
    "duration": 9,
    "start_time": "2022-10-09T18:02:56.556Z"
   },
   {
    "duration": 15,
    "start_time": "2022-10-09T18:02:56.568Z"
   },
   {
    "duration": 30,
    "start_time": "2022-10-09T18:02:56.585Z"
   },
   {
    "duration": 471,
    "start_time": "2022-10-09T18:02:56.616Z"
   },
   {
    "duration": 9,
    "start_time": "2022-10-09T18:02:57.088Z"
   },
   {
    "duration": 13,
    "start_time": "2022-10-09T18:02:57.098Z"
   },
   {
    "duration": 12,
    "start_time": "2022-10-09T18:02:57.113Z"
   },
   {
    "duration": 34,
    "start_time": "2022-10-09T18:02:57.126Z"
   },
   {
    "duration": 525,
    "start_time": "2022-10-09T18:02:57.162Z"
   },
   {
    "duration": 10,
    "start_time": "2022-10-09T18:02:57.689Z"
   },
   {
    "duration": 8,
    "start_time": "2022-10-09T18:02:57.711Z"
   },
   {
    "duration": 11,
    "start_time": "2022-10-09T18:02:57.721Z"
   },
   {
    "duration": 27,
    "start_time": "2022-10-09T18:02:57.734Z"
   },
   {
    "duration": 478,
    "start_time": "2022-10-09T18:02:57.763Z"
   },
   {
    "duration": 14,
    "start_time": "2022-10-09T18:02:58.242Z"
   },
   {
    "duration": 43,
    "start_time": "2022-10-09T18:02:58.258Z"
   },
   {
    "duration": 3900,
    "start_time": "2022-10-09T18:02:58.303Z"
   },
   {
    "duration": 0,
    "start_time": "2022-10-09T18:03:02.209Z"
   },
   {
    "duration": 3794,
    "start_time": "2022-10-09T18:03:50.844Z"
   },
   {
    "duration": 3792,
    "start_time": "2022-10-09T18:04:25.210Z"
   },
   {
    "duration": 10,
    "start_time": "2022-10-09T18:06:17.732Z"
   },
   {
    "duration": 4,
    "start_time": "2022-10-09T18:06:31.766Z"
   },
   {
    "duration": 10,
    "start_time": "2022-10-09T18:06:37.421Z"
   },
   {
    "duration": 14,
    "start_time": "2022-10-09T18:06:47.271Z"
   },
   {
    "duration": 20,
    "start_time": "2022-10-09T18:07:05.228Z"
   },
   {
    "duration": 4003,
    "start_time": "2022-10-09T18:10:25.345Z"
   },
   {
    "duration": 10,
    "start_time": "2022-10-09T21:56:50.284Z"
   },
   {
    "duration": 3976,
    "start_time": "2022-10-09T21:56:53.972Z"
   },
   {
    "duration": 3890,
    "start_time": "2022-10-09T21:57:31.685Z"
   },
   {
    "duration": 3844,
    "start_time": "2022-10-09T21:58:22.861Z"
   },
   {
    "duration": 1399,
    "start_time": "2022-10-11T06:19:59.502Z"
   },
   {
    "duration": 859,
    "start_time": "2022-10-11T06:20:00.903Z"
   },
   {
    "duration": 12,
    "start_time": "2022-10-11T06:20:01.763Z"
   },
   {
    "duration": 13,
    "start_time": "2022-10-11T06:20:01.776Z"
   },
   {
    "duration": 36,
    "start_time": "2022-10-11T06:20:01.790Z"
   },
   {
    "duration": 53,
    "start_time": "2022-10-11T06:20:01.827Z"
   },
   {
    "duration": 464,
    "start_time": "2022-10-11T06:20:01.881Z"
   },
   {
    "duration": 8,
    "start_time": "2022-10-11T06:20:02.347Z"
   },
   {
    "duration": 21,
    "start_time": "2022-10-11T06:20:02.356Z"
   },
   {
    "duration": 21,
    "start_time": "2022-10-11T06:20:02.379Z"
   },
   {
    "duration": 29,
    "start_time": "2022-10-11T06:20:02.480Z"
   },
   {
    "duration": 481,
    "start_time": "2022-10-11T06:20:02.695Z"
   },
   {
    "duration": 9,
    "start_time": "2022-10-11T06:20:03.177Z"
   },
   {
    "duration": 7,
    "start_time": "2022-10-11T06:20:03.200Z"
   },
   {
    "duration": 8,
    "start_time": "2022-10-11T06:20:03.239Z"
   },
   {
    "duration": 33,
    "start_time": "2022-10-11T06:20:03.446Z"
   },
   {
    "duration": 472,
    "start_time": "2022-10-11T06:20:03.835Z"
   },
   {
    "duration": 9,
    "start_time": "2022-10-11T06:20:04.939Z"
   },
   {
    "duration": 29,
    "start_time": "2022-10-11T06:20:05.652Z"
   },
   {
    "duration": 3349,
    "start_time": "2022-10-11T06:20:06.942Z"
   },
   {
    "duration": 3194,
    "start_time": "2022-10-11T06:20:19.538Z"
   },
   {
    "duration": 3165,
    "start_time": "2022-10-11T06:20:24.982Z"
   },
   {
    "duration": 3212,
    "start_time": "2022-10-11T06:20:30.084Z"
   },
   {
    "duration": 3255,
    "start_time": "2022-10-11T06:20:34.164Z"
   },
   {
    "duration": 3198,
    "start_time": "2022-10-11T06:20:37.424Z"
   },
   {
    "duration": 13,
    "start_time": "2022-10-11T06:24:54.962Z"
   },
   {
    "duration": 11,
    "start_time": "2022-10-11T06:24:56.366Z"
   },
   {
    "duration": 10,
    "start_time": "2022-10-11T06:24:59.841Z"
   },
   {
    "duration": 11,
    "start_time": "2022-10-11T06:25:04.230Z"
   },
   {
    "duration": 10,
    "start_time": "2022-10-11T06:29:30.101Z"
   },
   {
    "duration": 3253,
    "start_time": "2022-10-11T06:53:31.515Z"
   },
   {
    "duration": 3222,
    "start_time": "2022-10-11T06:54:49.244Z"
   },
   {
    "duration": 3209,
    "start_time": "2022-10-11T06:54:55.495Z"
   },
   {
    "duration": 3170,
    "start_time": "2022-10-11T06:55:06.716Z"
   },
   {
    "duration": 16,
    "start_time": "2022-10-11T06:55:14.011Z"
   },
   {
    "duration": 11,
    "start_time": "2022-10-11T06:55:18.638Z"
   },
   {
    "duration": 11,
    "start_time": "2022-10-11T06:55:23.612Z"
   },
   {
    "duration": 3,
    "start_time": "2022-10-11T07:06:54.313Z"
   },
   {
    "duration": 3314,
    "start_time": "2022-10-11T07:07:06.353Z"
   },
   {
    "duration": 3249,
    "start_time": "2022-10-11T07:07:46.497Z"
   },
   {
    "duration": 3237,
    "start_time": "2022-10-11T07:08:18.412Z"
   },
   {
    "duration": 3186,
    "start_time": "2022-10-11T07:09:24.839Z"
   },
   {
    "duration": 18,
    "start_time": "2022-10-11T07:17:03.737Z"
   },
   {
    "duration": 12,
    "start_time": "2022-10-11T07:19:56.222Z"
   },
   {
    "duration": 12,
    "start_time": "2022-10-11T07:20:22.699Z"
   },
   {
    "duration": 15,
    "start_time": "2022-10-11T07:20:29.470Z"
   },
   {
    "duration": 13,
    "start_time": "2022-10-11T07:23:30.978Z"
   },
   {
    "duration": 15,
    "start_time": "2022-10-11T07:23:39.213Z"
   },
   {
    "duration": 13,
    "start_time": "2022-10-11T07:23:41.342Z"
   },
   {
    "duration": 14,
    "start_time": "2022-10-11T07:24:44.989Z"
   },
   {
    "duration": 13,
    "start_time": "2022-10-11T07:24:45.397Z"
   },
   {
    "duration": 16,
    "start_time": "2022-10-11T07:47:30.761Z"
   },
   {
    "duration": 16,
    "start_time": "2022-10-11T07:47:38.032Z"
   },
   {
    "duration": 10,
    "start_time": "2022-10-11T08:24:29.167Z"
   },
   {
    "duration": 9,
    "start_time": "2022-10-11T08:34:56.695Z"
   },
   {
    "duration": 4,
    "start_time": "2022-10-11T08:35:00.891Z"
   },
   {
    "duration": 5,
    "start_time": "2022-10-11T08:35:43.543Z"
   },
   {
    "duration": 21,
    "start_time": "2022-10-11T08:43:21.021Z"
   },
   {
    "duration": 11,
    "start_time": "2022-10-11T08:43:31.709Z"
   },
   {
    "duration": 12,
    "start_time": "2022-10-11T08:44:09.089Z"
   },
   {
    "duration": 11,
    "start_time": "2022-10-11T08:45:00.414Z"
   },
   {
    "duration": 10,
    "start_time": "2022-10-11T08:45:15.830Z"
   },
   {
    "duration": 11,
    "start_time": "2022-10-11T08:45:57.525Z"
   },
   {
    "duration": 42,
    "start_time": "2022-10-11T10:49:55.775Z"
   },
   {
    "duration": 1337,
    "start_time": "2022-10-11T10:50:08.852Z"
   },
   {
    "duration": 1526,
    "start_time": "2022-10-11T10:50:10.191Z"
   },
   {
    "duration": 15,
    "start_time": "2022-10-11T10:50:11.718Z"
   },
   {
    "duration": 35,
    "start_time": "2022-10-11T10:50:11.735Z"
   },
   {
    "duration": 27,
    "start_time": "2022-10-11T10:50:11.772Z"
   },
   {
    "duration": 44,
    "start_time": "2022-10-11T10:50:11.801Z"
   },
   {
    "duration": 471,
    "start_time": "2022-10-11T10:50:11.846Z"
   },
   {
    "duration": 9,
    "start_time": "2022-10-11T10:50:12.321Z"
   },
   {
    "duration": 22,
    "start_time": "2022-10-11T10:50:12.331Z"
   },
   {
    "duration": 11,
    "start_time": "2022-10-11T10:50:12.355Z"
   },
   {
    "duration": 25,
    "start_time": "2022-10-11T10:50:12.367Z"
   },
   {
    "duration": 508,
    "start_time": "2022-10-11T10:50:12.394Z"
   },
   {
    "duration": 8,
    "start_time": "2022-10-11T10:50:12.903Z"
   },
   {
    "duration": 28,
    "start_time": "2022-10-11T10:50:12.913Z"
   },
   {
    "duration": 25,
    "start_time": "2022-10-11T10:50:12.942Z"
   },
   {
    "duration": 34,
    "start_time": "2022-10-11T10:50:12.969Z"
   },
   {
    "duration": 468,
    "start_time": "2022-10-11T10:50:13.004Z"
   },
   {
    "duration": 9,
    "start_time": "2022-10-11T10:50:13.473Z"
   },
   {
    "duration": 46,
    "start_time": "2022-10-11T10:50:13.483Z"
   },
   {
    "duration": 100,
    "start_time": "2022-10-11T10:50:13.531Z"
   },
   {
    "duration": 12,
    "start_time": "2022-10-11T10:50:13.785Z"
   },
   {
    "duration": 14,
    "start_time": "2022-10-11T10:50:14.110Z"
   },
   {
    "duration": 67,
    "start_time": "2022-10-11T10:50:17.477Z"
   },
   {
    "duration": 12,
    "start_time": "2022-10-11T10:56:19.109Z"
   },
   {
    "duration": 3,
    "start_time": "2022-10-11T11:13:36.349Z"
   },
   {
    "duration": 12,
    "start_time": "2022-10-11T11:24:26.411Z"
   },
   {
    "duration": 13,
    "start_time": "2022-10-11T11:24:37.545Z"
   },
   {
    "duration": 21,
    "start_time": "2022-10-11T11:24:52.375Z"
   },
   {
    "duration": 3,
    "start_time": "2022-10-11T11:47:18.417Z"
   },
   {
    "duration": 18,
    "start_time": "2022-10-11T11:50:59.717Z"
   },
   {
    "duration": 4,
    "start_time": "2022-10-11T11:53:23.615Z"
   },
   {
    "duration": 10,
    "start_time": "2022-10-11T11:53:40.786Z"
   },
   {
    "duration": 13,
    "start_time": "2022-10-11T11:53:58.554Z"
   },
   {
    "duration": 16,
    "start_time": "2022-10-11T11:54:04.402Z"
   },
   {
    "duration": 14,
    "start_time": "2022-10-11T11:57:10.073Z"
   },
   {
    "duration": 11,
    "start_time": "2022-10-11T11:57:31.595Z"
   },
   {
    "duration": 13,
    "start_time": "2022-10-11T11:57:49.355Z"
   },
   {
    "duration": 12,
    "start_time": "2022-10-11T12:04:22.712Z"
   },
   {
    "duration": 3,
    "start_time": "2022-10-11T15:36:48.648Z"
   },
   {
    "duration": 4,
    "start_time": "2022-10-11T15:36:58.980Z"
   },
   {
    "duration": 19,
    "start_time": "2022-10-11T16:02:17.657Z"
   },
   {
    "duration": 14,
    "start_time": "2022-10-11T16:02:29.195Z"
   },
   {
    "duration": 11,
    "start_time": "2022-10-11T16:03:08.986Z"
   },
   {
    "duration": 11,
    "start_time": "2022-10-11T16:25:33.382Z"
   },
   {
    "duration": 12,
    "start_time": "2022-10-11T16:26:15.495Z"
   },
   {
    "duration": 11,
    "start_time": "2022-10-11T16:26:22.649Z"
   },
   {
    "duration": 4,
    "start_time": "2022-10-11T16:35:07.398Z"
   },
   {
    "duration": 11,
    "start_time": "2022-10-11T16:46:02.082Z"
   },
   {
    "duration": 12,
    "start_time": "2022-10-11T16:48:22.137Z"
   },
   {
    "duration": 15,
    "start_time": "2022-10-11T16:48:37.638Z"
   },
   {
    "duration": 15,
    "start_time": "2022-10-11T16:49:01.041Z"
   },
   {
    "duration": 306,
    "start_time": "2022-10-11T16:49:11.900Z"
   },
   {
    "duration": 338,
    "start_time": "2022-10-11T16:49:21.050Z"
   },
   {
    "duration": 301,
    "start_time": "2022-10-11T16:49:41.117Z"
   },
   {
    "duration": 11,
    "start_time": "2022-10-11T16:53:53.596Z"
   },
   {
    "duration": 10,
    "start_time": "2022-10-11T17:05:40.030Z"
   },
   {
    "duration": 12,
    "start_time": "2022-10-11T17:07:19.383Z"
   },
   {
    "duration": 11,
    "start_time": "2022-10-11T17:09:42.650Z"
   },
   {
    "duration": 12,
    "start_time": "2022-10-11T17:10:52.702Z"
   },
   {
    "duration": 17,
    "start_time": "2022-10-11T17:15:14.495Z"
   },
   {
    "duration": 10,
    "start_time": "2022-10-11T17:16:47.213Z"
   },
   {
    "duration": 11,
    "start_time": "2022-10-11T17:17:00.063Z"
   },
   {
    "duration": 11,
    "start_time": "2022-10-11T17:17:06.417Z"
   },
   {
    "duration": 11,
    "start_time": "2022-10-11T17:21:43.814Z"
   },
   {
    "duration": 11,
    "start_time": "2022-10-11T17:22:06.727Z"
   },
   {
    "duration": 12,
    "start_time": "2022-10-11T17:22:27.765Z"
   },
   {
    "duration": 11,
    "start_time": "2022-10-11T17:22:38.666Z"
   },
   {
    "duration": 70,
    "start_time": "2022-10-11T17:25:42.604Z"
   },
   {
    "duration": 12,
    "start_time": "2022-10-11T17:25:54.131Z"
   },
   {
    "duration": 79,
    "start_time": "2022-10-11T17:27:53.455Z"
   },
   {
    "duration": 15,
    "start_time": "2022-10-11T17:28:09.807Z"
   },
   {
    "duration": 13,
    "start_time": "2022-10-11T17:30:34.331Z"
   },
   {
    "duration": 1622,
    "start_time": "2022-10-12T07:45:10.116Z"
   },
   {
    "duration": 733,
    "start_time": "2022-10-12T07:45:11.741Z"
   },
   {
    "duration": 15,
    "start_time": "2022-10-12T07:45:12.476Z"
   },
   {
    "duration": 17,
    "start_time": "2022-10-12T07:45:12.492Z"
   },
   {
    "duration": 19,
    "start_time": "2022-10-12T07:45:12.511Z"
   },
   {
    "duration": 40,
    "start_time": "2022-10-12T07:45:12.532Z"
   },
   {
    "duration": 574,
    "start_time": "2022-10-12T07:45:12.574Z"
   },
   {
    "duration": 9,
    "start_time": "2022-10-12T07:45:13.150Z"
   },
   {
    "duration": 11,
    "start_time": "2022-10-12T07:45:13.161Z"
   },
   {
    "duration": 14,
    "start_time": "2022-10-12T07:45:13.174Z"
   },
   {
    "duration": 53,
    "start_time": "2022-10-12T07:45:13.190Z"
   },
   {
    "duration": 472,
    "start_time": "2022-10-12T07:45:13.246Z"
   },
   {
    "duration": 10,
    "start_time": "2022-10-12T07:45:13.720Z"
   },
   {
    "duration": 11,
    "start_time": "2022-10-12T07:45:13.732Z"
   },
   {
    "duration": 14,
    "start_time": "2022-10-12T07:45:13.744Z"
   },
   {
    "duration": 65,
    "start_time": "2022-10-12T07:45:13.760Z"
   },
   {
    "duration": 605,
    "start_time": "2022-10-12T07:45:13.827Z"
   },
   {
    "duration": 8,
    "start_time": "2022-10-12T07:45:14.434Z"
   },
   {
    "duration": 63,
    "start_time": "2022-10-12T07:45:14.445Z"
   },
   {
    "duration": 30,
    "start_time": "2022-10-12T07:45:14.510Z"
   },
   {
    "duration": 181,
    "start_time": "2022-10-12T07:45:14.543Z"
   },
   {
    "duration": 197,
    "start_time": "2022-10-12T07:45:14.731Z"
   },
   {
    "duration": 133,
    "start_time": "2022-10-12T07:45:15.008Z"
   },
   {
    "duration": 186,
    "start_time": "2022-10-12T07:45:15.143Z"
   },
   {
    "duration": 134,
    "start_time": "2022-10-12T07:45:15.330Z"
   },
   {
    "duration": 19,
    "start_time": "2022-10-12T07:47:30.876Z"
   },
   {
    "duration": 13,
    "start_time": "2022-10-12T07:47:46.649Z"
   },
   {
    "duration": 14,
    "start_time": "2022-10-12T07:48:08.460Z"
   },
   {
    "duration": 14,
    "start_time": "2022-10-12T07:48:15.165Z"
   },
   {
    "duration": 11,
    "start_time": "2022-10-12T07:55:18.980Z"
   },
   {
    "duration": 15,
    "start_time": "2022-10-12T07:55:28.293Z"
   },
   {
    "duration": 11,
    "start_time": "2022-10-12T07:55:33.496Z"
   },
   {
    "duration": 11,
    "start_time": "2022-10-12T07:56:16.783Z"
   },
   {
    "duration": 12,
    "start_time": "2022-10-12T07:56:21.074Z"
   },
   {
    "duration": 12,
    "start_time": "2022-10-12T07:56:27.559Z"
   },
   {
    "duration": 72,
    "start_time": "2022-10-12T07:59:22.522Z"
   },
   {
    "duration": 12,
    "start_time": "2022-10-12T07:59:26.340Z"
   },
   {
    "duration": 12,
    "start_time": "2022-10-12T07:59:32.907Z"
   },
   {
    "duration": 13,
    "start_time": "2022-10-12T08:00:15.050Z"
   },
   {
    "duration": 12,
    "start_time": "2022-10-12T08:00:31.413Z"
   },
   {
    "duration": 14,
    "start_time": "2022-10-12T08:00:40.537Z"
   },
   {
    "duration": 14,
    "start_time": "2022-10-12T08:04:58.483Z"
   },
   {
    "duration": 56,
    "start_time": "2022-10-12T08:05:03.992Z"
   },
   {
    "duration": 13,
    "start_time": "2022-10-12T08:05:07.598Z"
   },
   {
    "duration": 57,
    "start_time": "2022-10-12T08:05:19.366Z"
   },
   {
    "duration": 35,
    "start_time": "2022-10-12T08:10:55.057Z"
   },
   {
    "duration": 11,
    "start_time": "2022-10-12T08:13:57.748Z"
   },
   {
    "duration": 11,
    "start_time": "2022-10-12T08:17:19.500Z"
   },
   {
    "duration": 12,
    "start_time": "2022-10-12T08:17:27.079Z"
   },
   {
    "duration": 12,
    "start_time": "2022-10-12T08:17:35.963Z"
   },
   {
    "duration": 57,
    "start_time": "2022-10-12T08:17:59.265Z"
   },
   {
    "duration": 18,
    "start_time": "2022-10-12T08:18:02.796Z"
   },
   {
    "duration": 17,
    "start_time": "2022-10-12T08:18:23.618Z"
   },
   {
    "duration": 12,
    "start_time": "2022-10-12T08:18:45.703Z"
   },
   {
    "duration": 13,
    "start_time": "2022-10-12T08:18:51.243Z"
   },
   {
    "duration": 12,
    "start_time": "2022-10-12T08:18:57.776Z"
   },
   {
    "duration": 14,
    "start_time": "2022-10-12T08:19:04.725Z"
   },
   {
    "duration": 25,
    "start_time": "2022-10-12T08:19:12.827Z"
   },
   {
    "duration": 20,
    "start_time": "2022-10-12T08:21:09.757Z"
   },
   {
    "duration": 16,
    "start_time": "2022-10-12T08:21:16.241Z"
   },
   {
    "duration": 20,
    "start_time": "2022-10-12T08:21:47.387Z"
   },
   {
    "duration": 12,
    "start_time": "2022-10-12T08:22:05.624Z"
   },
   {
    "duration": 18,
    "start_time": "2022-10-12T08:22:11.683Z"
   },
   {
    "duration": 18,
    "start_time": "2022-10-12T08:22:33.833Z"
   },
   {
    "duration": 17,
    "start_time": "2022-10-12T08:22:40.498Z"
   },
   {
    "duration": 12,
    "start_time": "2022-10-12T08:26:07.690Z"
   },
   {
    "duration": 12,
    "start_time": "2022-10-12T08:26:11.005Z"
   },
   {
    "duration": 12,
    "start_time": "2022-10-12T08:26:19.900Z"
   },
   {
    "duration": 18,
    "start_time": "2022-10-12T08:28:43.626Z"
   },
   {
    "duration": 20,
    "start_time": "2022-10-12T08:29:05.650Z"
   },
   {
    "duration": 12,
    "start_time": "2022-10-12T08:29:45.223Z"
   },
   {
    "duration": 12,
    "start_time": "2022-10-12T08:29:56.133Z"
   },
   {
    "duration": 11,
    "start_time": "2022-10-12T08:30:08.504Z"
   },
   {
    "duration": 18,
    "start_time": "2022-10-12T08:30:16.218Z"
   },
   {
    "duration": 15,
    "start_time": "2022-10-12T08:40:40.773Z"
   },
   {
    "duration": 17,
    "start_time": "2022-10-12T08:40:52.315Z"
   },
   {
    "duration": 33,
    "start_time": "2022-10-12T10:16:30.262Z"
   },
   {
    "duration": 13,
    "start_time": "2022-10-12T10:17:19.976Z"
   },
   {
    "duration": 13,
    "start_time": "2022-10-12T10:23:26.908Z"
   },
   {
    "duration": 35,
    "start_time": "2022-10-12T10:23:34.574Z"
   },
   {
    "duration": 33,
    "start_time": "2022-10-12T10:23:56.139Z"
   },
   {
    "duration": 1499,
    "start_time": "2022-10-12T16:42:33.541Z"
   },
   {
    "duration": 1923,
    "start_time": "2022-10-12T16:42:35.042Z"
   },
   {
    "duration": 14,
    "start_time": "2022-10-12T16:42:36.966Z"
   },
   {
    "duration": 9,
    "start_time": "2022-10-12T16:42:36.982Z"
   },
   {
    "duration": 15,
    "start_time": "2022-10-12T16:42:36.993Z"
   },
   {
    "duration": 31,
    "start_time": "2022-10-12T16:42:37.010Z"
   },
   {
    "duration": 551,
    "start_time": "2022-10-12T16:42:37.042Z"
   },
   {
    "duration": 11,
    "start_time": "2022-10-12T16:42:37.594Z"
   },
   {
    "duration": 15,
    "start_time": "2022-10-12T16:42:37.606Z"
   },
   {
    "duration": 20,
    "start_time": "2022-10-12T16:42:37.624Z"
   },
   {
    "duration": 28,
    "start_time": "2022-10-12T16:42:37.646Z"
   },
   {
    "duration": 515,
    "start_time": "2022-10-12T16:42:37.697Z"
   },
   {
    "duration": 13,
    "start_time": "2022-10-12T16:42:38.213Z"
   },
   {
    "duration": 17,
    "start_time": "2022-10-12T16:42:38.228Z"
   },
   {
    "duration": 15,
    "start_time": "2022-10-12T16:42:38.247Z"
   },
   {
    "duration": 57,
    "start_time": "2022-10-12T16:42:38.267Z"
   },
   {
    "duration": 639,
    "start_time": "2022-10-12T16:42:38.327Z"
   },
   {
    "duration": 8,
    "start_time": "2022-10-12T16:42:38.968Z"
   },
   {
    "duration": 40,
    "start_time": "2022-10-12T16:42:38.978Z"
   },
   {
    "duration": 80,
    "start_time": "2022-10-12T16:42:39.019Z"
   },
   {
    "duration": 110,
    "start_time": "2022-10-12T16:42:39.101Z"
   },
   {
    "duration": 199,
    "start_time": "2022-10-12T16:42:39.213Z"
   },
   {
    "duration": 84,
    "start_time": "2022-10-12T16:42:39.414Z"
   },
   {
    "duration": 231,
    "start_time": "2022-10-12T16:42:39.502Z"
   },
   {
    "duration": 0,
    "start_time": "2022-10-12T16:42:39.735Z"
   },
   {
    "duration": 19,
    "start_time": "2022-10-12T16:43:39.411Z"
   },
   {
    "duration": 4,
    "start_time": "2022-10-12T16:50:24.735Z"
   },
   {
    "duration": 126,
    "start_time": "2022-10-12T16:50:36.968Z"
   },
   {
    "duration": 4,
    "start_time": "2022-10-12T16:50:41.262Z"
   },
   {
    "duration": 1469,
    "start_time": "2022-10-12T16:52:37.193Z"
   },
   {
    "duration": 1407,
    "start_time": "2022-10-12T16:52:48.404Z"
   },
   {
    "duration": 1406,
    "start_time": "2022-10-12T16:53:13.889Z"
   },
   {
    "duration": 1623,
    "start_time": "2022-10-12T17:07:58.492Z"
   },
   {
    "duration": 1573,
    "start_time": "2022-10-12T17:10:21.016Z"
   },
   {
    "duration": 21,
    "start_time": "2022-10-12T17:25:03.669Z"
   },
   {
    "duration": 21,
    "start_time": "2022-10-12T17:26:49.150Z"
   },
   {
    "duration": 18,
    "start_time": "2022-10-12T17:27:36.046Z"
   },
   {
    "duration": 5,
    "start_time": "2022-10-12T17:30:03.655Z"
   },
   {
    "duration": 45,
    "start_time": "2022-10-12T17:31:02.384Z"
   },
   {
    "duration": 54,
    "start_time": "2022-10-12T17:31:42.646Z"
   },
   {
    "duration": 1554,
    "start_time": "2022-10-12T17:34:05.632Z"
   },
   {
    "duration": 1515,
    "start_time": "2022-10-12T17:34:10.445Z"
   },
   {
    "duration": 1149,
    "start_time": "2022-10-12T17:34:13.732Z"
   },
   {
    "duration": 1458,
    "start_time": "2022-10-12T17:34:22.864Z"
   },
   {
    "duration": 1416,
    "start_time": "2022-10-12T17:41:56.558Z"
   },
   {
    "duration": 1420,
    "start_time": "2022-10-12T17:42:09.940Z"
   },
   {
    "duration": 1478,
    "start_time": "2022-10-12T17:45:28.528Z"
   },
   {
    "duration": 1553,
    "start_time": "2022-10-12T17:46:19.045Z"
   },
   {
    "duration": 1518,
    "start_time": "2022-10-12T17:46:26.851Z"
   },
   {
    "duration": 1445,
    "start_time": "2022-10-12T17:48:20.456Z"
   },
   {
    "duration": 1426,
    "start_time": "2022-10-12T17:48:31.373Z"
   },
   {
    "duration": 1488,
    "start_time": "2022-10-12T18:29:19.636Z"
   },
   {
    "duration": 1526,
    "start_time": "2022-10-12T18:29:21.865Z"
   },
   {
    "duration": 1493,
    "start_time": "2022-10-12T18:32:48.268Z"
   },
   {
    "duration": 1487,
    "start_time": "2022-10-12T18:33:20.309Z"
   },
   {
    "duration": 1466,
    "start_time": "2022-10-12T18:33:38.770Z"
   },
   {
    "duration": 1429,
    "start_time": "2022-10-12T18:41:29.985Z"
   },
   {
    "duration": 1446,
    "start_time": "2022-10-12T18:41:49.569Z"
   },
   {
    "duration": 1490,
    "start_time": "2022-10-12T18:41:51.770Z"
   },
   {
    "duration": 4,
    "start_time": "2022-10-12T18:53:42.585Z"
   },
   {
    "duration": 3,
    "start_time": "2022-10-12T19:02:42.653Z"
   },
   {
    "duration": 46,
    "start_time": "2022-10-13T09:45:18.441Z"
   },
   {
    "duration": 1495,
    "start_time": "2022-10-13T09:45:25.510Z"
   },
   {
    "duration": 1610,
    "start_time": "2022-10-13T09:45:27.008Z"
   },
   {
    "duration": 3,
    "start_time": "2022-10-13T09:45:28.620Z"
   },
   {
    "duration": 17,
    "start_time": "2022-10-13T09:45:28.625Z"
   },
   {
    "duration": 13,
    "start_time": "2022-10-13T09:45:28.644Z"
   },
   {
    "duration": 11,
    "start_time": "2022-10-13T09:45:28.658Z"
   },
   {
    "duration": 28,
    "start_time": "2022-10-13T09:45:28.671Z"
   },
   {
    "duration": 523,
    "start_time": "2022-10-13T09:45:28.701Z"
   },
   {
    "duration": 9,
    "start_time": "2022-10-13T09:45:29.226Z"
   },
   {
    "duration": 16,
    "start_time": "2022-10-13T09:45:29.237Z"
   },
   {
    "duration": 11,
    "start_time": "2022-10-13T09:45:29.255Z"
   },
   {
    "duration": 39,
    "start_time": "2022-10-13T09:45:29.268Z"
   },
   {
    "duration": 459,
    "start_time": "2022-10-13T09:45:29.308Z"
   },
   {
    "duration": 8,
    "start_time": "2022-10-13T09:45:29.769Z"
   },
   {
    "duration": 7,
    "start_time": "2022-10-13T09:45:29.785Z"
   },
   {
    "duration": 18,
    "start_time": "2022-10-13T09:45:29.794Z"
   },
   {
    "duration": 29,
    "start_time": "2022-10-13T09:45:29.814Z"
   },
   {
    "duration": 555,
    "start_time": "2022-10-13T09:45:29.845Z"
   },
   {
    "duration": 8,
    "start_time": "2022-10-13T09:45:30.401Z"
   },
   {
    "duration": 43,
    "start_time": "2022-10-13T09:45:30.411Z"
   },
   {
    "duration": 56,
    "start_time": "2022-10-13T09:45:30.456Z"
   },
   {
    "duration": 182,
    "start_time": "2022-10-13T09:45:30.513Z"
   },
   {
    "duration": 201,
    "start_time": "2022-10-13T09:45:30.697Z"
   },
   {
    "duration": 187,
    "start_time": "2022-10-13T09:45:30.900Z"
   },
   {
    "duration": 1324,
    "start_time": "2022-10-13T09:45:31.088Z"
   },
   {
    "duration": 1287,
    "start_time": "2022-10-13T09:45:32.413Z"
   },
   {
    "duration": 1283,
    "start_time": "2022-10-13T09:45:33.702Z"
   },
   {
    "duration": 1369,
    "start_time": "2022-10-13T09:51:47.542Z"
   },
   {
    "duration": 1341,
    "start_time": "2022-10-13T09:52:17.670Z"
   },
   {
    "duration": 1367,
    "start_time": "2022-10-13T09:52:20.067Z"
   },
   {
    "duration": 4,
    "start_time": "2022-10-13T09:54:05.750Z"
   },
   {
    "duration": 4,
    "start_time": "2022-10-13T09:55:20.558Z"
   },
   {
    "duration": 3,
    "start_time": "2022-10-13T09:55:22.647Z"
   },
   {
    "duration": 1294,
    "start_time": "2022-10-13T09:55:30.792Z"
   },
   {
    "duration": 1313,
    "start_time": "2022-10-13T09:55:48.172Z"
   },
   {
    "duration": 1298,
    "start_time": "2022-10-13T09:55:49.487Z"
   },
   {
    "duration": 4,
    "start_time": "2022-10-13T10:53:07.538Z"
   },
   {
    "duration": 3,
    "start_time": "2022-10-13T10:53:09.084Z"
   },
   {
    "duration": 1198,
    "start_time": "2022-10-13T10:53:33.438Z"
   },
   {
    "duration": 343,
    "start_time": "2022-10-13T10:53:34.638Z"
   },
   {
    "duration": 4,
    "start_time": "2022-10-13T10:53:34.983Z"
   },
   {
    "duration": 23,
    "start_time": "2022-10-13T10:53:34.988Z"
   },
   {
    "duration": 10,
    "start_time": "2022-10-13T10:53:35.012Z"
   },
   {
    "duration": 11,
    "start_time": "2022-10-13T10:53:35.024Z"
   },
   {
    "duration": 29,
    "start_time": "2022-10-13T10:53:35.036Z"
   },
   {
    "duration": 505,
    "start_time": "2022-10-13T10:53:35.066Z"
   },
   {
    "duration": 18,
    "start_time": "2022-10-13T10:53:35.573Z"
   },
   {
    "duration": 17,
    "start_time": "2022-10-13T10:53:35.595Z"
   },
   {
    "duration": 12,
    "start_time": "2022-10-13T10:53:35.614Z"
   },
   {
    "duration": 25,
    "start_time": "2022-10-13T10:53:35.628Z"
   },
   {
    "duration": 471,
    "start_time": "2022-10-13T10:53:35.654Z"
   },
   {
    "duration": 8,
    "start_time": "2022-10-13T10:53:36.127Z"
   },
   {
    "duration": 28,
    "start_time": "2022-10-13T10:53:36.136Z"
   },
   {
    "duration": 18,
    "start_time": "2022-10-13T10:53:36.166Z"
   },
   {
    "duration": 29,
    "start_time": "2022-10-13T10:53:36.186Z"
   },
   {
    "duration": 583,
    "start_time": "2022-10-13T10:53:36.216Z"
   },
   {
    "duration": 8,
    "start_time": "2022-10-13T10:53:36.801Z"
   },
   {
    "duration": 40,
    "start_time": "2022-10-13T10:53:36.811Z"
   },
   {
    "duration": 38,
    "start_time": "2022-10-13T10:53:36.852Z"
   },
   {
    "duration": 193,
    "start_time": "2022-10-13T10:53:36.893Z"
   },
   {
    "duration": 118,
    "start_time": "2022-10-13T10:53:37.089Z"
   },
   {
    "duration": 79,
    "start_time": "2022-10-13T10:53:37.209Z"
   },
   {
    "duration": 98,
    "start_time": "2022-10-13T10:53:37.290Z"
   },
   {
    "duration": 1426,
    "start_time": "2022-10-13T10:53:37.390Z"
   },
   {
    "duration": 1386,
    "start_time": "2022-10-13T10:53:38.818Z"
   },
   {
    "duration": 1359,
    "start_time": "2022-10-13T10:53:40.207Z"
   },
   {
    "duration": 1253,
    "start_time": "2022-10-13T10:59:28.379Z"
   },
   {
    "duration": 330,
    "start_time": "2022-10-13T10:59:29.634Z"
   },
   {
    "duration": 4,
    "start_time": "2022-10-13T10:59:29.965Z"
   },
   {
    "duration": 18,
    "start_time": "2022-10-13T10:59:29.970Z"
   },
   {
    "duration": 8,
    "start_time": "2022-10-13T10:59:29.990Z"
   },
   {
    "duration": 33,
    "start_time": "2022-10-13T10:59:30.000Z"
   },
   {
    "duration": 26,
    "start_time": "2022-10-13T10:59:30.035Z"
   },
   {
    "duration": 485,
    "start_time": "2022-10-13T10:59:30.062Z"
   },
   {
    "duration": 10,
    "start_time": "2022-10-13T10:59:30.548Z"
   },
   {
    "duration": 25,
    "start_time": "2022-10-13T10:59:30.560Z"
   },
   {
    "duration": 30,
    "start_time": "2022-10-13T10:59:30.587Z"
   },
   {
    "duration": 36,
    "start_time": "2022-10-13T10:59:30.618Z"
   },
   {
    "duration": 461,
    "start_time": "2022-10-13T10:59:30.656Z"
   },
   {
    "duration": 8,
    "start_time": "2022-10-13T10:59:31.120Z"
   },
   {
    "duration": 14,
    "start_time": "2022-10-13T10:59:31.130Z"
   },
   {
    "duration": 23,
    "start_time": "2022-10-13T10:59:31.146Z"
   },
   {
    "duration": 32,
    "start_time": "2022-10-13T10:59:31.171Z"
   },
   {
    "duration": 565,
    "start_time": "2022-10-13T10:59:31.204Z"
   },
   {
    "duration": 14,
    "start_time": "2022-10-13T10:59:31.771Z"
   },
   {
    "duration": 35,
    "start_time": "2022-10-13T10:59:31.786Z"
   },
   {
    "duration": 65,
    "start_time": "2022-10-13T10:59:31.823Z"
   },
   {
    "duration": 108,
    "start_time": "2022-10-13T10:59:31.890Z"
   },
   {
    "duration": 192,
    "start_time": "2022-10-13T10:59:31.999Z"
   },
   {
    "duration": 190,
    "start_time": "2022-10-13T10:59:32.197Z"
   },
   {
    "duration": 13,
    "start_time": "2022-10-13T10:59:32.388Z"
   },
   {
    "duration": 1308,
    "start_time": "2022-10-13T10:59:32.403Z"
   },
   {
    "duration": 1275,
    "start_time": "2022-10-13T10:59:33.712Z"
   },
   {
    "duration": 1262,
    "start_time": "2022-10-13T10:59:34.989Z"
   },
   {
    "duration": 51,
    "start_time": "2022-10-14T07:21:03.529Z"
   },
   {
    "duration": 1745,
    "start_time": "2022-10-14T07:21:09.568Z"
   },
   {
    "duration": 1678,
    "start_time": "2022-10-14T07:21:11.316Z"
   },
   {
    "duration": 4,
    "start_time": "2022-10-14T07:21:12.996Z"
   },
   {
    "duration": 25,
    "start_time": "2022-10-14T07:21:13.002Z"
   },
   {
    "duration": 35,
    "start_time": "2022-10-14T07:21:13.029Z"
   },
   {
    "duration": 22,
    "start_time": "2022-10-14T07:21:13.066Z"
   },
   {
    "duration": 30,
    "start_time": "2022-10-14T07:21:13.090Z"
   },
   {
    "duration": 521,
    "start_time": "2022-10-14T07:21:13.122Z"
   },
   {
    "duration": 9,
    "start_time": "2022-10-14T07:21:13.645Z"
   },
   {
    "duration": 9,
    "start_time": "2022-10-14T07:21:13.657Z"
   },
   {
    "duration": 29,
    "start_time": "2022-10-14T07:21:13.668Z"
   },
   {
    "duration": 31,
    "start_time": "2022-10-14T07:21:13.699Z"
   },
   {
    "duration": 495,
    "start_time": "2022-10-14T07:21:13.732Z"
   },
   {
    "duration": 10,
    "start_time": "2022-10-14T07:21:14.229Z"
   },
   {
    "duration": 10,
    "start_time": "2022-10-14T07:21:14.240Z"
   },
   {
    "duration": 14,
    "start_time": "2022-10-14T07:21:14.252Z"
   },
   {
    "duration": 45,
    "start_time": "2022-10-14T07:21:14.267Z"
   },
   {
    "duration": 626,
    "start_time": "2022-10-14T07:21:14.314Z"
   },
   {
    "duration": 9,
    "start_time": "2022-10-14T07:21:14.941Z"
   },
   {
    "duration": 39,
    "start_time": "2022-10-14T07:21:14.952Z"
   },
   {
    "duration": 20,
    "start_time": "2022-10-14T07:21:14.996Z"
   },
   {
    "duration": 18,
    "start_time": "2022-10-14T07:21:15.501Z"
   },
   {
    "duration": 19,
    "start_time": "2022-10-14T07:21:16.380Z"
   },
   {
    "duration": 70,
    "start_time": "2022-10-14T07:21:17.301Z"
   },
   {
    "duration": 15,
    "start_time": "2022-10-14T07:21:34.741Z"
   },
   {
    "duration": 72,
    "start_time": "2022-10-14T07:23:47.277Z"
   },
   {
    "duration": 20,
    "start_time": "2022-10-14T07:23:50.654Z"
   },
   {
    "duration": 20,
    "start_time": "2022-10-14T07:24:26.202Z"
   },
   {
    "duration": 4,
    "start_time": "2022-10-14T07:24:33.236Z"
   },
   {
    "duration": 4,
    "start_time": "2022-10-14T07:24:33.794Z"
   },
   {
    "duration": 1414,
    "start_time": "2022-10-14T07:24:35.322Z"
   },
   {
    "duration": 1449,
    "start_time": "2022-10-14T07:24:44.373Z"
   },
   {
    "duration": 1418,
    "start_time": "2022-10-14T07:25:00.833Z"
   },
   {
    "duration": 1452,
    "start_time": "2022-10-14T07:25:08.026Z"
   },
   {
    "duration": 1486,
    "start_time": "2022-10-14T07:25:59.042Z"
   },
   {
    "duration": 78,
    "start_time": "2022-10-14T07:26:42.060Z"
   },
   {
    "duration": 1402,
    "start_time": "2022-10-14T07:26:46.256Z"
   },
   {
    "duration": 3,
    "start_time": "2022-10-14T07:50:42.528Z"
   },
   {
    "duration": 1418,
    "start_time": "2022-10-14T07:50:47.142Z"
   },
   {
    "duration": 1355,
    "start_time": "2022-10-14T07:52:30.177Z"
   },
   {
    "duration": 1440,
    "start_time": "2022-10-14T07:52:37.103Z"
   },
   {
    "duration": 1375,
    "start_time": "2022-10-14T07:54:42.823Z"
   },
   {
    "duration": 1404,
    "start_time": "2022-10-14T07:54:44.200Z"
   },
   {
    "duration": 93,
    "start_time": "2022-10-14T08:02:26.793Z"
   },
   {
    "duration": 3,
    "start_time": "2022-10-14T09:16:40.721Z"
   },
   {
    "duration": 4,
    "start_time": "2022-10-14T09:16:55.663Z"
   },
   {
    "duration": 1365,
    "start_time": "2022-10-14T09:16:56.280Z"
   },
   {
    "duration": 1437,
    "start_time": "2022-10-14T09:17:01.267Z"
   },
   {
    "duration": 1374,
    "start_time": "2022-10-14T09:17:04.856Z"
   },
   {
    "duration": 1407,
    "start_time": "2022-10-14T09:23:13.201Z"
   },
   {
    "duration": 1402,
    "start_time": "2022-10-14T09:25:14.418Z"
   },
   {
    "duration": 1363,
    "start_time": "2022-10-14T09:25:16.515Z"
   },
   {
    "duration": 69,
    "start_time": "2022-10-14T09:33:09.229Z"
   },
   {
    "duration": 110,
    "start_time": "2022-10-14T09:33:19.986Z"
   },
   {
    "duration": 11,
    "start_time": "2022-10-14T09:35:33.252Z"
   },
   {
    "duration": 13,
    "start_time": "2022-10-14T09:38:01.882Z"
   },
   {
    "duration": 13,
    "start_time": "2022-10-14T09:38:15.797Z"
   },
   {
    "duration": 12,
    "start_time": "2022-10-14T09:38:23.688Z"
   },
   {
    "duration": 14,
    "start_time": "2022-10-14T09:38:45.321Z"
   },
   {
    "duration": 30,
    "start_time": "2022-10-14T09:39:27.473Z"
   },
   {
    "duration": 206,
    "start_time": "2022-10-14T09:40:12.798Z"
   },
   {
    "duration": 256,
    "start_time": "2022-10-14T09:40:17.740Z"
   },
   {
    "duration": 269,
    "start_time": "2022-10-14T09:41:19.329Z"
   },
   {
    "duration": 106,
    "start_time": "2022-10-14T09:41:28.199Z"
   },
   {
    "duration": 309,
    "start_time": "2022-10-14T09:43:32.089Z"
   },
   {
    "duration": 279,
    "start_time": "2022-10-14T09:43:39.625Z"
   },
   {
    "duration": 226,
    "start_time": "2022-10-14T09:44:42.072Z"
   },
   {
    "duration": 6,
    "start_time": "2022-10-14T09:48:38.132Z"
   },
   {
    "duration": 200,
    "start_time": "2022-10-14T09:48:48.598Z"
   },
   {
    "duration": 4,
    "start_time": "2022-10-14T09:49:01.169Z"
   },
   {
    "duration": 210,
    "start_time": "2022-10-14T09:49:02.791Z"
   },
   {
    "duration": 235,
    "start_time": "2022-10-14T09:49:51.863Z"
   },
   {
    "duration": 4,
    "start_time": "2022-10-14T09:50:07.115Z"
   },
   {
    "duration": 4,
    "start_time": "2022-10-14T09:50:07.600Z"
   },
   {
    "duration": 5,
    "start_time": "2022-10-14T09:50:28.266Z"
   },
   {
    "duration": 4,
    "start_time": "2022-10-14T09:51:28.423Z"
   },
   {
    "duration": 4,
    "start_time": "2022-10-14T09:51:28.609Z"
   },
   {
    "duration": 104,
    "start_time": "2022-10-14T09:56:08.321Z"
   },
   {
    "duration": 1384,
    "start_time": "2022-10-14T10:21:33.944Z"
   },
   {
    "duration": 1364,
    "start_time": "2022-10-14T10:21:35.330Z"
   },
   {
    "duration": 1339,
    "start_time": "2022-10-14T10:21:36.697Z"
   },
   {
    "duration": 1332,
    "start_time": "2022-10-14T10:51:11.357Z"
   },
   {
    "duration": 377,
    "start_time": "2022-10-14T10:51:12.691Z"
   },
   {
    "duration": 3,
    "start_time": "2022-10-14T10:51:13.070Z"
   },
   {
    "duration": 51,
    "start_time": "2022-10-14T10:51:13.075Z"
   },
   {
    "duration": 22,
    "start_time": "2022-10-14T10:51:13.128Z"
   },
   {
    "duration": 39,
    "start_time": "2022-10-14T10:51:13.152Z"
   },
   {
    "duration": 47,
    "start_time": "2022-10-14T10:51:13.193Z"
   },
   {
    "duration": 519,
    "start_time": "2022-10-14T10:51:13.242Z"
   },
   {
    "duration": 10,
    "start_time": "2022-10-14T10:51:13.762Z"
   },
   {
    "duration": 26,
    "start_time": "2022-10-14T10:51:13.774Z"
   },
   {
    "duration": 36,
    "start_time": "2022-10-14T10:51:13.802Z"
   },
   {
    "duration": 44,
    "start_time": "2022-10-14T10:51:13.840Z"
   },
   {
    "duration": 497,
    "start_time": "2022-10-14T10:51:13.885Z"
   },
   {
    "duration": 16,
    "start_time": "2022-10-14T10:51:14.385Z"
   },
   {
    "duration": 45,
    "start_time": "2022-10-14T10:51:14.402Z"
   },
   {
    "duration": 57,
    "start_time": "2022-10-14T10:51:14.449Z"
   },
   {
    "duration": 65,
    "start_time": "2022-10-14T10:51:14.508Z"
   },
   {
    "duration": 596,
    "start_time": "2022-10-14T10:51:14.575Z"
   },
   {
    "duration": 9,
    "start_time": "2022-10-14T10:51:15.172Z"
   },
   {
    "duration": 43,
    "start_time": "2022-10-14T10:51:15.182Z"
   },
   {
    "duration": 3,
    "start_time": "2022-10-14T10:51:15.227Z"
   },
   {
    "duration": 276,
    "start_time": "2022-10-14T10:51:15.232Z"
   },
   {
    "duration": 101,
    "start_time": "2022-10-14T10:51:15.596Z"
   },
   {
    "duration": 12,
    "start_time": "2022-10-14T10:51:15.698Z"
   },
   {
    "duration": 8,
    "start_time": "2022-10-14T10:51:15.711Z"
   },
   {
    "duration": 114,
    "start_time": "2022-10-14T10:51:15.720Z"
   },
   {
    "duration": 0,
    "start_time": "2022-10-14T10:51:15.835Z"
   },
   {
    "duration": 0,
    "start_time": "2022-10-14T10:51:15.837Z"
   },
   {
    "duration": 5,
    "start_time": "2022-10-14T10:54:47.161Z"
   },
   {
    "duration": 73,
    "start_time": "2022-10-14T10:54:48.237Z"
   },
   {
    "duration": 250,
    "start_time": "2022-10-14T10:58:28.549Z"
   },
   {
    "duration": 4,
    "start_time": "2022-10-14T10:59:35.432Z"
   },
   {
    "duration": 319,
    "start_time": "2022-10-14T10:59:37.580Z"
   },
   {
    "duration": 162,
    "start_time": "2022-10-14T10:59:44.950Z"
   },
   {
    "duration": 9,
    "start_time": "2022-10-14T10:59:58.356Z"
   },
   {
    "duration": 6,
    "start_time": "2022-10-14T11:00:21.316Z"
   },
   {
    "duration": 268,
    "start_time": "2022-10-14T11:00:23.031Z"
   },
   {
    "duration": 9,
    "start_time": "2022-10-14T11:00:25.582Z"
   },
   {
    "duration": 10,
    "start_time": "2022-10-14T11:00:46.803Z"
   },
   {
    "duration": 322,
    "start_time": "2022-10-14T11:00:47.785Z"
   },
   {
    "duration": 10,
    "start_time": "2022-10-14T11:00:50.389Z"
   },
   {
    "duration": 710,
    "start_time": "2022-10-14T11:07:03.701Z"
   },
   {
    "duration": 1634,
    "start_time": "2022-10-14T11:07:13.102Z"
   },
   {
    "duration": 1590,
    "start_time": "2022-10-14T11:07:16.309Z"
   },
   {
    "duration": 1641,
    "start_time": "2022-10-14T11:07:17.901Z"
   },
   {
    "duration": 12,
    "start_time": "2022-10-14T11:11:54.675Z"
   },
   {
    "duration": 29,
    "start_time": "2022-10-14T11:12:11.340Z"
   },
   {
    "duration": 269,
    "start_time": "2022-10-14T11:12:17.367Z"
   },
   {
    "duration": 153368,
    "start_time": "2022-10-14T11:13:00.398Z"
   },
   {
    "duration": 107,
    "start_time": "2022-10-14T11:16:04.709Z"
   },
   {
    "duration": 6787,
    "start_time": "2022-10-14T11:16:13.641Z"
   },
   {
    "duration": 449,
    "start_time": "2022-10-14T11:17:42.866Z"
   },
   {
    "duration": 6290,
    "start_time": "2022-10-14T11:19:44.413Z"
   },
   {
    "duration": 6879,
    "start_time": "2022-10-14T11:19:50.705Z"
   },
   {
    "duration": 20366,
    "start_time": "2022-10-14T11:22:04.679Z"
   },
   {
    "duration": 3,
    "start_time": "2022-10-14T11:22:43.050Z"
   },
   {
    "duration": 6184,
    "start_time": "2022-10-14T11:26:04.084Z"
   },
   {
    "duration": 19160,
    "start_time": "2022-10-14T11:30:01.952Z"
   },
   {
    "duration": 221,
    "start_time": "2022-10-14T11:33:04.476Z"
   },
   {
    "duration": 4,
    "start_time": "2022-10-14T11:33:18.517Z"
   },
   {
    "duration": 145,
    "start_time": "2022-10-14T11:33:19.060Z"
   },
   {
    "duration": 18222,
    "start_time": "2022-10-14T11:37:32.730Z"
   },
   {
    "duration": 18342,
    "start_time": "2022-10-14T11:38:55.837Z"
   },
   {
    "duration": 18352,
    "start_time": "2022-10-14T11:39:41.530Z"
   },
   {
    "duration": 18549,
    "start_time": "2022-10-14T11:41:12.084Z"
   },
   {
    "duration": 1387,
    "start_time": "2022-10-14T11:58:27.846Z"
   },
   {
    "duration": 358,
    "start_time": "2022-10-14T11:58:29.235Z"
   },
   {
    "duration": 4,
    "start_time": "2022-10-14T11:58:29.594Z"
   },
   {
    "duration": 14,
    "start_time": "2022-10-14T11:58:29.600Z"
   },
   {
    "duration": 17,
    "start_time": "2022-10-14T11:58:29.615Z"
   },
   {
    "duration": 11,
    "start_time": "2022-10-14T11:58:29.634Z"
   },
   {
    "duration": 50,
    "start_time": "2022-10-14T11:58:29.647Z"
   },
   {
    "duration": 522,
    "start_time": "2022-10-14T11:58:29.698Z"
   },
   {
    "duration": 9,
    "start_time": "2022-10-14T11:58:30.222Z"
   },
   {
    "duration": 34,
    "start_time": "2022-10-14T11:58:30.233Z"
   },
   {
    "duration": 28,
    "start_time": "2022-10-14T11:58:30.269Z"
   },
   {
    "duration": 49,
    "start_time": "2022-10-14T11:58:30.298Z"
   },
   {
    "duration": 579,
    "start_time": "2022-10-14T11:58:30.349Z"
   },
   {
    "duration": 11,
    "start_time": "2022-10-14T11:58:30.930Z"
   },
   {
    "duration": 39,
    "start_time": "2022-10-14T11:58:30.942Z"
   },
   {
    "duration": 26,
    "start_time": "2022-10-14T11:58:30.983Z"
   },
   {
    "duration": 56,
    "start_time": "2022-10-14T11:58:31.011Z"
   },
   {
    "duration": 509,
    "start_time": "2022-10-14T11:58:31.069Z"
   },
   {
    "duration": 9,
    "start_time": "2022-10-14T11:58:31.580Z"
   },
   {
    "duration": 58,
    "start_time": "2022-10-14T11:58:31.591Z"
   },
   {
    "duration": 16,
    "start_time": "2022-10-14T11:58:31.651Z"
   },
   {
    "duration": 334,
    "start_time": "2022-10-14T11:58:31.668Z"
   },
   {
    "duration": 18255,
    "start_time": "2022-10-14T11:58:32.004Z"
   },
   {
    "duration": 5,
    "start_time": "2022-10-14T11:58:50.261Z"
   },
   {
    "duration": 6,
    "start_time": "2022-10-14T11:58:50.268Z"
   },
   {
    "duration": 6,
    "start_time": "2022-10-14T11:58:50.276Z"
   },
   {
    "duration": 1467,
    "start_time": "2022-10-14T11:58:50.297Z"
   },
   {
    "duration": 1420,
    "start_time": "2022-10-14T11:58:51.767Z"
   },
   {
    "duration": 1462,
    "start_time": "2022-10-14T11:58:53.188Z"
   },
   {
    "duration": 5954,
    "start_time": "2022-10-14T11:58:54.652Z"
   },
   {
    "duration": 6080,
    "start_time": "2022-10-14T11:59:00.608Z"
   },
   {
    "duration": 6187,
    "start_time": "2022-10-14T11:59:06.690Z"
   },
   {
    "duration": 1338,
    "start_time": "2022-10-14T12:01:50.523Z"
   },
   {
    "duration": 371,
    "start_time": "2022-10-14T12:01:51.863Z"
   },
   {
    "duration": 4,
    "start_time": "2022-10-14T12:01:52.236Z"
   },
   {
    "duration": 17,
    "start_time": "2022-10-14T12:01:52.241Z"
   },
   {
    "duration": 8,
    "start_time": "2022-10-14T12:01:52.261Z"
   },
   {
    "duration": 13,
    "start_time": "2022-10-14T12:01:52.270Z"
   },
   {
    "duration": 41,
    "start_time": "2022-10-14T12:01:52.284Z"
   },
   {
    "duration": 537,
    "start_time": "2022-10-14T12:01:52.327Z"
   },
   {
    "duration": 10,
    "start_time": "2022-10-14T12:01:52.865Z"
   },
   {
    "duration": 21,
    "start_time": "2022-10-14T12:01:52.877Z"
   },
   {
    "duration": 9,
    "start_time": "2022-10-14T12:01:52.900Z"
   },
   {
    "duration": 32,
    "start_time": "2022-10-14T12:01:52.911Z"
   },
   {
    "duration": 583,
    "start_time": "2022-10-14T12:01:52.945Z"
   },
   {
    "duration": 10,
    "start_time": "2022-10-14T12:01:53.530Z"
   },
   {
    "duration": 9,
    "start_time": "2022-10-14T12:01:53.541Z"
   },
   {
    "duration": 12,
    "start_time": "2022-10-14T12:01:53.552Z"
   },
   {
    "duration": 47,
    "start_time": "2022-10-14T12:01:53.565Z"
   },
   {
    "duration": 540,
    "start_time": "2022-10-14T12:01:53.613Z"
   },
   {
    "duration": 8,
    "start_time": "2022-10-14T12:01:54.155Z"
   },
   {
    "duration": 43,
    "start_time": "2022-10-14T12:01:54.165Z"
   },
   {
    "duration": 18,
    "start_time": "2022-10-14T12:01:54.209Z"
   },
   {
    "duration": 368,
    "start_time": "2022-10-14T12:01:54.229Z"
   },
   {
    "duration": 18526,
    "start_time": "2022-10-14T12:01:54.599Z"
   },
   {
    "duration": 4,
    "start_time": "2022-10-14T12:02:13.127Z"
   },
   {
    "duration": 11,
    "start_time": "2022-10-14T12:02:13.133Z"
   },
   {
    "duration": 3,
    "start_time": "2022-10-14T12:02:13.146Z"
   },
   {
    "duration": 1460,
    "start_time": "2022-10-14T12:02:13.151Z"
   },
   {
    "duration": 1403,
    "start_time": "2022-10-14T12:02:14.613Z"
   },
   {
    "duration": 1407,
    "start_time": "2022-10-14T12:02:16.017Z"
   },
   {
    "duration": 1685,
    "start_time": "2022-10-15T07:17:07.443Z"
   },
   {
    "duration": 829,
    "start_time": "2022-10-15T07:17:09.131Z"
   },
   {
    "duration": 4,
    "start_time": "2022-10-15T07:17:09.961Z"
   },
   {
    "duration": 33,
    "start_time": "2022-10-15T07:17:09.966Z"
   },
   {
    "duration": 10,
    "start_time": "2022-10-15T07:17:10.001Z"
   },
   {
    "duration": 51,
    "start_time": "2022-10-15T07:17:10.012Z"
   },
   {
    "duration": 59,
    "start_time": "2022-10-15T07:17:10.064Z"
   },
   {
    "duration": 541,
    "start_time": "2022-10-15T07:17:10.126Z"
   },
   {
    "duration": 9,
    "start_time": "2022-10-15T07:17:10.670Z"
   },
   {
    "duration": 14,
    "start_time": "2022-10-15T07:17:10.681Z"
   },
   {
    "duration": 28,
    "start_time": "2022-10-15T07:17:10.696Z"
   },
   {
    "duration": 30,
    "start_time": "2022-10-15T07:17:10.726Z"
   },
   {
    "duration": 666,
    "start_time": "2022-10-15T07:17:10.758Z"
   },
   {
    "duration": 11,
    "start_time": "2022-10-15T07:17:11.426Z"
   },
   {
    "duration": 16,
    "start_time": "2022-10-15T07:17:11.439Z"
   },
   {
    "duration": 14,
    "start_time": "2022-10-15T07:17:11.456Z"
   },
   {
    "duration": 56,
    "start_time": "2022-10-15T07:17:11.472Z"
   },
   {
    "duration": 555,
    "start_time": "2022-10-15T07:17:11.530Z"
   },
   {
    "duration": 8,
    "start_time": "2022-10-15T07:17:12.086Z"
   },
   {
    "duration": 55,
    "start_time": "2022-10-15T07:17:12.096Z"
   },
   {
    "duration": 4,
    "start_time": "2022-10-15T07:17:12.153Z"
   },
   {
    "duration": 265,
    "start_time": "2022-10-15T07:17:12.159Z"
   },
   {
    "duration": 12,
    "start_time": "2022-10-15T07:17:12.425Z"
   },
   {
    "duration": 12,
    "start_time": "2022-10-15T07:17:12.521Z"
   },
   {
    "duration": 9,
    "start_time": "2022-10-15T07:17:12.535Z"
   },
   {
    "duration": 2051,
    "start_time": "2022-10-15T07:17:12.546Z"
   },
   {
    "duration": 1929,
    "start_time": "2022-10-15T07:17:14.599Z"
   },
   {
    "duration": 1907,
    "start_time": "2022-10-15T07:17:16.530Z"
   },
   {
    "duration": 4,
    "start_time": "2022-10-15T07:19:40.404Z"
   },
   {
    "duration": 1871,
    "start_time": "2022-10-15T07:19:40.720Z"
   },
   {
    "duration": 1911,
    "start_time": "2022-10-15T07:19:42.593Z"
   },
   {
    "duration": 1887,
    "start_time": "2022-10-15T07:19:44.506Z"
   },
   {
    "duration": 3,
    "start_time": "2022-10-15T07:20:41.118Z"
   },
   {
    "duration": 5,
    "start_time": "2022-10-15T07:32:21.940Z"
   },
   {
    "duration": 1879,
    "start_time": "2022-10-15T07:32:22.240Z"
   },
   {
    "duration": 2059,
    "start_time": "2022-10-15T07:32:24.121Z"
   },
   {
    "duration": 2011,
    "start_time": "2022-10-15T07:32:26.182Z"
   },
   {
    "duration": 1834,
    "start_time": "2022-10-15T08:06:03.737Z"
   },
   {
    "duration": 1887,
    "start_time": "2022-10-15T08:06:17.936Z"
   },
   {
    "duration": 1917,
    "start_time": "2022-10-15T08:07:33.800Z"
   },
   {
    "duration": 1833,
    "start_time": "2022-10-15T08:07:59.332Z"
   },
   {
    "duration": 1825,
    "start_time": "2022-10-15T08:08:16.726Z"
   },
   {
    "duration": 1776,
    "start_time": "2022-10-15T08:08:26.615Z"
   },
   {
    "duration": 1819,
    "start_time": "2022-10-15T08:08:43.307Z"
   },
   {
    "duration": 1779,
    "start_time": "2022-10-15T08:09:32.513Z"
   },
   {
    "duration": 1974,
    "start_time": "2022-10-15T08:09:48.003Z"
   },
   {
    "duration": 1853,
    "start_time": "2022-10-15T08:10:08.830Z"
   },
   {
    "duration": 1866,
    "start_time": "2022-10-15T08:10:10.686Z"
   },
   {
    "duration": 42,
    "start_time": "2022-10-15T08:12:43.775Z"
   },
   {
    "duration": 1238,
    "start_time": "2022-10-15T08:16:32.376Z"
   },
   {
    "duration": 339,
    "start_time": "2022-10-15T08:16:33.616Z"
   },
   {
    "duration": 4,
    "start_time": "2022-10-15T08:16:33.957Z"
   },
   {
    "duration": 14,
    "start_time": "2022-10-15T08:16:33.963Z"
   },
   {
    "duration": 7,
    "start_time": "2022-10-15T08:16:33.979Z"
   },
   {
    "duration": 16,
    "start_time": "2022-10-15T08:16:33.988Z"
   },
   {
    "duration": 30,
    "start_time": "2022-10-15T08:16:34.021Z"
   },
   {
    "duration": 489,
    "start_time": "2022-10-15T08:16:34.052Z"
   },
   {
    "duration": 9,
    "start_time": "2022-10-15T08:16:34.542Z"
   },
   {
    "duration": 10,
    "start_time": "2022-10-15T08:16:34.553Z"
   },
   {
    "duration": 11,
    "start_time": "2022-10-15T08:16:34.565Z"
   },
   {
    "duration": 50,
    "start_time": "2022-10-15T08:16:34.578Z"
   },
   {
    "duration": 532,
    "start_time": "2022-10-15T08:16:34.629Z"
   },
   {
    "duration": 10,
    "start_time": "2022-10-15T08:16:35.163Z"
   },
   {
    "duration": 11,
    "start_time": "2022-10-15T08:16:35.175Z"
   },
   {
    "duration": 12,
    "start_time": "2022-10-15T08:16:35.187Z"
   },
   {
    "duration": 26,
    "start_time": "2022-10-15T08:16:35.222Z"
   },
   {
    "duration": 482,
    "start_time": "2022-10-15T08:16:35.250Z"
   },
   {
    "duration": 10,
    "start_time": "2022-10-15T08:16:35.734Z"
   },
   {
    "duration": 38,
    "start_time": "2022-10-15T08:16:35.746Z"
   },
   {
    "duration": 4,
    "start_time": "2022-10-15T08:16:35.786Z"
   },
   {
    "duration": 237,
    "start_time": "2022-10-15T08:16:35.791Z"
   },
   {
    "duration": 92,
    "start_time": "2022-10-15T08:16:36.030Z"
   },
   {
    "duration": 6,
    "start_time": "2022-10-15T08:16:36.124Z"
   },
   {
    "duration": 6,
    "start_time": "2022-10-15T08:16:36.131Z"
   },
   {
    "duration": 1873,
    "start_time": "2022-10-15T08:16:36.139Z"
   },
   {
    "duration": 1920,
    "start_time": "2022-10-15T08:16:38.014Z"
   },
   {
    "duration": 1927,
    "start_time": "2022-10-15T08:16:39.936Z"
   },
   {
    "duration": 1537,
    "start_time": "2023-01-29T17:05:04.444Z"
   },
   {
    "duration": 1483,
    "start_time": "2023-01-29T17:05:05.983Z"
   },
   {
    "duration": 5,
    "start_time": "2023-01-29T17:05:07.467Z"
   },
   {
    "duration": 18,
    "start_time": "2023-01-29T17:05:07.474Z"
   },
   {
    "duration": 9,
    "start_time": "2023-01-29T17:05:07.494Z"
   },
   {
    "duration": 11,
    "start_time": "2023-01-29T17:05:07.505Z"
   },
   {
    "duration": 38,
    "start_time": "2023-01-29T17:05:07.517Z"
   },
   {
    "duration": 536,
    "start_time": "2023-01-29T17:05:07.557Z"
   },
   {
    "duration": 11,
    "start_time": "2023-01-29T17:05:08.094Z"
   },
   {
    "duration": 17,
    "start_time": "2023-01-29T17:05:08.107Z"
   },
   {
    "duration": 22,
    "start_time": "2023-01-29T17:05:08.138Z"
   },
   {
    "duration": 33,
    "start_time": "2023-01-29T17:05:08.162Z"
   },
   {
    "duration": 622,
    "start_time": "2023-01-29T17:05:08.197Z"
   },
   {
    "duration": 17,
    "start_time": "2023-01-29T17:05:08.822Z"
   },
   {
    "duration": 27,
    "start_time": "2023-01-29T17:05:08.840Z"
   },
   {
    "duration": 47,
    "start_time": "2023-01-29T17:05:08.869Z"
   },
   {
    "duration": 34,
    "start_time": "2023-01-29T17:05:08.918Z"
   },
   {
    "duration": 525,
    "start_time": "2023-01-29T17:05:08.954Z"
   },
   {
    "duration": 9,
    "start_time": "2023-01-29T17:05:09.481Z"
   },
   {
    "duration": 47,
    "start_time": "2023-01-29T17:05:09.491Z"
   },
   {
    "duration": 4,
    "start_time": "2023-01-29T17:05:09.540Z"
   },
   {
    "duration": 294,
    "start_time": "2023-01-29T17:05:09.545Z"
   },
   {
    "duration": 96,
    "start_time": "2023-01-29T17:05:09.842Z"
   },
   {
    "duration": 4,
    "start_time": "2023-01-29T17:05:09.940Z"
   },
   {
    "duration": 18,
    "start_time": "2023-01-29T17:05:09.945Z"
   },
   {
    "duration": 1886,
    "start_time": "2023-01-29T17:05:09.964Z"
   },
   {
    "duration": 1992,
    "start_time": "2023-01-29T17:05:11.852Z"
   },
   {
    "duration": 1941,
    "start_time": "2023-01-29T17:05:13.846Z"
   }
  ],
  "kernelspec": {
   "display_name": "Python 3 (ipykernel)",
   "language": "python",
   "name": "python3"
  },
  "language_info": {
   "codemirror_mode": {
    "name": "ipython",
    "version": 3
   },
   "file_extension": ".py",
   "mimetype": "text/x-python",
   "name": "python",
   "nbconvert_exporter": "python",
   "pygments_lexer": "ipython3",
   "version": "3.9.15"
  },
  "toc": {
   "base_numbering": 1,
   "nav_menu": {},
   "number_sections": true,
   "sideBar": true,
   "skip_h1_title": true,
   "title_cell": "Table of Contents",
   "title_sidebar": "Contents",
   "toc_cell": false,
   "toc_position": {},
   "toc_section_display": true,
   "toc_window_display": false
  }
 },
 "nbformat": 4,
 "nbformat_minor": 2
}
