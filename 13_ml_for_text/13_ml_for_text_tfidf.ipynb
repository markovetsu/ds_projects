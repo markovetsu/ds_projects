{
 "cells": [
  {
   "cell_type": "markdown",
   "metadata": {
    "id": "ZN2Qzn75K-8x"
   },
   "source": [
    "# Проект для «Викишоп» "
   ]
  },
  {
   "cell_type": "markdown",
   "metadata": {
    "id": "uovXfzofK-8x"
   },
   "source": [
    "**Описание компании:** Интернет-магазин «Викишоп» запускает новый сервис. Теперь пользователи могут редактировать и дополнять описания товаров, как в вики-сообществах. То есть клиенты предлагают свои правки и комментируют изменения других. Магазину нужен инструмент, который будет искать токсичные комментарии и отправлять их на модерацию. \n",
    "\n",
    "**Задача:** Обучить модель классифицировать комментарии на позитивные и негативные. В нашем распоряжении набор данных с разметкой о токсичности правок.\n",
    "\n",
    "**Цель:** Построить модель со значением метрики качества *F1* не меньше 0.75. \n",
    "\n",
    "**Шаги по выполнению проекта**\n",
    "\n",
    "1. Загрузить и подготовить данные.\n",
    "2. Обучить разные модели. \n",
    "3. Сделать выводы.\n",
    "\n",
    "**Примечание:** Для выполнения проекта применять *BERT* необязательно, но его можно попробовать.."
   ]
  },
  {
   "cell_type": "markdown",
   "metadata": {
    "id": "Hlb8f98iK-8x"
   },
   "source": [
    "# Описание данных\n",
    "\n",
    "Данные находятся в файле `toxic_comments.csv`. \n",
    "\n",
    "    Столбец \"text\" в нём содержит текст комментария, \n",
    "    а \"toxic\" — целевой признак."
   ]
  },
  {
   "cell_type": "markdown",
   "metadata": {
    "id": "pzYwJWUNK-8y"
   },
   "source": [
    "## Подготовка"
   ]
  },
  {
   "cell_type": "markdown",
   "metadata": {
    "id": "5OoZk4C4K-8y"
   },
   "source": [
    "### Импортируем нужные библиотеки"
   ]
  },
  {
   "cell_type": "code",
   "execution_count": 1,
   "metadata": {
    "id": "LMdbV9fUK-8y"
   },
   "outputs": [
    {
     "name": "stdout",
     "output_type": "stream",
     "text": [
      "Collecting tokenization\n",
      "  Downloading tokenization-1.0.7-py3-none-any.whl (10 kB)\n",
      "Requirement already satisfied: regex in /opt/conda/lib/python3.9/site-packages (from tokenization) (2022.8.17)\n",
      "Installing collected packages: tokenization\n",
      "Successfully installed tokenization-1.0.7\n"
     ]
    },
    {
     "name": "stderr",
     "output_type": "stream",
     "text": [
      "[nltk_data] Downloading package averaged_perceptron_tagger to\n",
      "[nltk_data]     /home/jovyan/nltk_data...\n",
      "[nltk_data]   Unzipping taggers/averaged_perceptron_tagger.zip.\n"
     ]
    }
   ],
   "source": [
    "# Импортируем нужные библиотеки\n",
    "\n",
    "!pip3 install tokenization\n",
    "\n",
    "from nltk.corpus import wordnet\n",
    "from pymystem3 import Mystem\n",
    "from nltk.stem import WordNetLemmatizer \n",
    "from nltk.corpus import stopwords\n",
    "from sklearn.feature_extraction.text import CountVectorizer, TfidfVectorizer\n",
    "from tensorflow import keras\n",
    "from tqdm import notebook\n",
    "from sklearn.linear_model import LogisticRegression\n",
    "from sklearn.model_selection import cross_val_score, train_test_split, GridSearchCV, ShuffleSplit\n",
    "from sklearn.metrics import f1_score, accuracy_score\n",
    "from sklearn.feature_selection import SelectFromModel\n",
    "from sklearn.naive_bayes import GaussianNB\n",
    "# from transformers import BertTokenizer, BertForMaskedLM, BertModel, BertConfig\n",
    "from sklearn.neural_network import MLPClassifier\n",
    "from sklearn.tree import DecisionTreeClassifier\n",
    "\n",
    "import transformers\n",
    "import pandas as pd \n",
    "import numpy as np\n",
    "import torch\n",
    "import tqdm\n",
    "import warnings\n",
    "import tensorflow as tf\n",
    "import re\n",
    "import pymorphy2\n",
    "import itertools  \n",
    "import nltk\n",
    "import sys\n",
    "import codecs\n",
    "import tokenization\n",
    "\n",
    "nltk.download('averaged_perceptron_tagger')\n",
    "warnings.filterwarnings('ignore')"
   ]
  },
  {
   "cell_type": "markdown",
   "metadata": {
    "id": "g42tOJAZK-81"
   },
   "source": [
    "### Прочтем через блок try-except наш датасет"
   ]
  },
  {
   "cell_type": "code",
   "execution_count": 2,
   "metadata": {
    "id": "M_XIAHwCK-81"
   },
   "outputs": [],
   "source": [
    "# Прочтем через блок try-except наш датасет\n",
    "try:\n",
    "    df = pd.read_csv(\"/datasets/toxic_comments.csv\") \n",
    "except FileNotFoundError :\n",
    "    print(\"FileNotFoundError: Проверьте корректность пути к файлу или наличие самого файла в каталоге!\")"
   ]
  },
  {
   "cell_type": "markdown",
   "metadata": {
    "id": "I05IEfJZK-81"
   },
   "source": [
    "### Выведем 5 первых и последних строк через методы head и tail"
   ]
  },
  {
   "cell_type": "code",
   "execution_count": 3,
   "metadata": {
    "colab": {
     "base_uri": "https://localhost:8080/",
     "height": 206
    },
    "id": "7aF_iZ1VK-82",
    "outputId": "60199a59-8fef-4dc4-b939-c43553700f4f",
    "scrolled": true
   },
   "outputs": [
    {
     "data": {
      "text/html": [
       "<div>\n",
       "<style scoped>\n",
       "    .dataframe tbody tr th:only-of-type {\n",
       "        vertical-align: middle;\n",
       "    }\n",
       "\n",
       "    .dataframe tbody tr th {\n",
       "        vertical-align: top;\n",
       "    }\n",
       "\n",
       "    .dataframe thead th {\n",
       "        text-align: right;\n",
       "    }\n",
       "</style>\n",
       "<table border=\"1\" class=\"dataframe\">\n",
       "  <thead>\n",
       "    <tr style=\"text-align: right;\">\n",
       "      <th></th>\n",
       "      <th>Unnamed: 0</th>\n",
       "      <th>text</th>\n",
       "      <th>toxic</th>\n",
       "    </tr>\n",
       "  </thead>\n",
       "  <tbody>\n",
       "    <tr>\n",
       "      <th>0</th>\n",
       "      <td>0</td>\n",
       "      <td>Explanation\\nWhy the edits made under my usern...</td>\n",
       "      <td>0</td>\n",
       "    </tr>\n",
       "    <tr>\n",
       "      <th>1</th>\n",
       "      <td>1</td>\n",
       "      <td>D'aww! He matches this background colour I'm s...</td>\n",
       "      <td>0</td>\n",
       "    </tr>\n",
       "    <tr>\n",
       "      <th>2</th>\n",
       "      <td>2</td>\n",
       "      <td>Hey man, I'm really not trying to edit war. It...</td>\n",
       "      <td>0</td>\n",
       "    </tr>\n",
       "    <tr>\n",
       "      <th>3</th>\n",
       "      <td>3</td>\n",
       "      <td>\"\\nMore\\nI can't make any real suggestions on ...</td>\n",
       "      <td>0</td>\n",
       "    </tr>\n",
       "    <tr>\n",
       "      <th>4</th>\n",
       "      <td>4</td>\n",
       "      <td>You, sir, are my hero. Any chance you remember...</td>\n",
       "      <td>0</td>\n",
       "    </tr>\n",
       "  </tbody>\n",
       "</table>\n",
       "</div>"
      ],
      "text/plain": [
       "   Unnamed: 0                                               text  toxic\n",
       "0           0  Explanation\\nWhy the edits made under my usern...      0\n",
       "1           1  D'aww! He matches this background colour I'm s...      0\n",
       "2           2  Hey man, I'm really not trying to edit war. It...      0\n",
       "3           3  \"\\nMore\\nI can't make any real suggestions on ...      0\n",
       "4           4  You, sir, are my hero. Any chance you remember...      0"
      ]
     },
     "execution_count": 3,
     "metadata": {},
     "output_type": "execute_result"
    }
   ],
   "source": [
    "# Выведем 5 первых \n",
    "df.head()"
   ]
  },
  {
   "cell_type": "markdown",
   "metadata": {},
   "source": [
    "### Выведем 5 последних"
   ]
  },
  {
   "cell_type": "code",
   "execution_count": 4,
   "metadata": {
    "colab": {
     "base_uri": "https://localhost:8080/",
     "height": 206
    },
    "id": "wEWFIcobK-82",
    "outputId": "570d713c-57a8-4af9-8d6c-02f003865bf5"
   },
   "outputs": [
    {
     "data": {
      "text/html": [
       "<div>\n",
       "<style scoped>\n",
       "    .dataframe tbody tr th:only-of-type {\n",
       "        vertical-align: middle;\n",
       "    }\n",
       "\n",
       "    .dataframe tbody tr th {\n",
       "        vertical-align: top;\n",
       "    }\n",
       "\n",
       "    .dataframe thead th {\n",
       "        text-align: right;\n",
       "    }\n",
       "</style>\n",
       "<table border=\"1\" class=\"dataframe\">\n",
       "  <thead>\n",
       "    <tr style=\"text-align: right;\">\n",
       "      <th></th>\n",
       "      <th>Unnamed: 0</th>\n",
       "      <th>text</th>\n",
       "      <th>toxic</th>\n",
       "    </tr>\n",
       "  </thead>\n",
       "  <tbody>\n",
       "    <tr>\n",
       "      <th>159287</th>\n",
       "      <td>159446</td>\n",
       "      <td>\":::::And for the second time of asking, when ...</td>\n",
       "      <td>0</td>\n",
       "    </tr>\n",
       "    <tr>\n",
       "      <th>159288</th>\n",
       "      <td>159447</td>\n",
       "      <td>You should be ashamed of yourself \\n\\nThat is ...</td>\n",
       "      <td>0</td>\n",
       "    </tr>\n",
       "    <tr>\n",
       "      <th>159289</th>\n",
       "      <td>159448</td>\n",
       "      <td>Spitzer \\n\\nUmm, theres no actual article for ...</td>\n",
       "      <td>0</td>\n",
       "    </tr>\n",
       "    <tr>\n",
       "      <th>159290</th>\n",
       "      <td>159449</td>\n",
       "      <td>And it looks like it was actually you who put ...</td>\n",
       "      <td>0</td>\n",
       "    </tr>\n",
       "    <tr>\n",
       "      <th>159291</th>\n",
       "      <td>159450</td>\n",
       "      <td>\"\\nAnd ... I really don't think you understand...</td>\n",
       "      <td>0</td>\n",
       "    </tr>\n",
       "  </tbody>\n",
       "</table>\n",
       "</div>"
      ],
      "text/plain": [
       "        Unnamed: 0                                               text  toxic\n",
       "159287      159446  \":::::And for the second time of asking, when ...      0\n",
       "159288      159447  You should be ashamed of yourself \\n\\nThat is ...      0\n",
       "159289      159448  Spitzer \\n\\nUmm, theres no actual article for ...      0\n",
       "159290      159449  And it looks like it was actually you who put ...      0\n",
       "159291      159450  \"\\nAnd ... I really don't think you understand...      0"
      ]
     },
     "execution_count": 4,
     "metadata": {},
     "output_type": "execute_result"
    }
   ],
   "source": [
    "# Выведем 5 последних\n",
    "df.tail()"
   ]
  },
  {
   "cell_type": "markdown",
   "metadata": {},
   "source": [
    "### Просмотрим информацию об датасете"
   ]
  },
  {
   "cell_type": "code",
   "execution_count": 5,
   "metadata": {
    "colab": {
     "base_uri": "https://localhost:8080/"
    },
    "id": "8n1ygwZUK-82",
    "outputId": "973b58ca-cd87-4051-86b9-6c708da5a066"
   },
   "outputs": [
    {
     "name": "stdout",
     "output_type": "stream",
     "text": [
      "<class 'pandas.core.frame.DataFrame'>\n",
      "RangeIndex: 159292 entries, 0 to 159291\n",
      "Data columns (total 3 columns):\n",
      " #   Column      Non-Null Count   Dtype \n",
      "---  ------      --------------   ----- \n",
      " 0   Unnamed: 0  159292 non-null  int64 \n",
      " 1   text        159292 non-null  object\n",
      " 2   toxic       159292 non-null  int64 \n",
      "dtypes: int64(2), object(1)\n",
      "memory usage: 3.6+ MB\n"
     ]
    }
   ],
   "source": [
    "df.info()"
   ]
  },
  {
   "cell_type": "markdown",
   "metadata": {
    "id": "RijlHsk9K-83"
   },
   "source": [
    "### Проверим количество пропусков в датасете"
   ]
  },
  {
   "cell_type": "code",
   "execution_count": 6,
   "metadata": {
    "colab": {
     "base_uri": "https://localhost:8080/"
    },
    "id": "yLjC7EZGK-83",
    "outputId": "e3362945-4d44-4cdc-9a91-509055130d0e"
   },
   "outputs": [
    {
     "data": {
      "text/plain": [
       "Unnamed: 0    0\n",
       "text          0\n",
       "toxic         0\n",
       "dtype: int64"
      ]
     },
     "execution_count": 6,
     "metadata": {},
     "output_type": "execute_result"
    }
   ],
   "source": [
    "# Проверим кол-во пропусков в датасете\n",
    "df.isna().sum()"
   ]
  },
  {
   "cell_type": "markdown",
   "metadata": {},
   "source": [
    "### Просмотрим статистики наших признаков"
   ]
  },
  {
   "cell_type": "code",
   "execution_count": 7,
   "metadata": {
    "colab": {
     "base_uri": "https://localhost:8080/",
     "height": 300
    },
    "id": "pt_evpFAK-83",
    "outputId": "3495f3c5-4f18-4892-ca70-9224724f6032"
   },
   "outputs": [
    {
     "data": {
      "text/html": [
       "<div>\n",
       "<style scoped>\n",
       "    .dataframe tbody tr th:only-of-type {\n",
       "        vertical-align: middle;\n",
       "    }\n",
       "\n",
       "    .dataframe tbody tr th {\n",
       "        vertical-align: top;\n",
       "    }\n",
       "\n",
       "    .dataframe thead th {\n",
       "        text-align: right;\n",
       "    }\n",
       "</style>\n",
       "<table border=\"1\" class=\"dataframe\">\n",
       "  <thead>\n",
       "    <tr style=\"text-align: right;\">\n",
       "      <th></th>\n",
       "      <th>Unnamed: 0</th>\n",
       "      <th>toxic</th>\n",
       "    </tr>\n",
       "  </thead>\n",
       "  <tbody>\n",
       "    <tr>\n",
       "      <th>count</th>\n",
       "      <td>159292.000000</td>\n",
       "      <td>159292.000000</td>\n",
       "    </tr>\n",
       "    <tr>\n",
       "      <th>mean</th>\n",
       "      <td>79725.697242</td>\n",
       "      <td>0.101612</td>\n",
       "    </tr>\n",
       "    <tr>\n",
       "      <th>std</th>\n",
       "      <td>46028.837471</td>\n",
       "      <td>0.302139</td>\n",
       "    </tr>\n",
       "    <tr>\n",
       "      <th>min</th>\n",
       "      <td>0.000000</td>\n",
       "      <td>0.000000</td>\n",
       "    </tr>\n",
       "    <tr>\n",
       "      <th>25%</th>\n",
       "      <td>39872.750000</td>\n",
       "      <td>0.000000</td>\n",
       "    </tr>\n",
       "    <tr>\n",
       "      <th>50%</th>\n",
       "      <td>79721.500000</td>\n",
       "      <td>0.000000</td>\n",
       "    </tr>\n",
       "    <tr>\n",
       "      <th>75%</th>\n",
       "      <td>119573.250000</td>\n",
       "      <td>0.000000</td>\n",
       "    </tr>\n",
       "    <tr>\n",
       "      <th>max</th>\n",
       "      <td>159450.000000</td>\n",
       "      <td>1.000000</td>\n",
       "    </tr>\n",
       "  </tbody>\n",
       "</table>\n",
       "</div>"
      ],
      "text/plain": [
       "          Unnamed: 0          toxic\n",
       "count  159292.000000  159292.000000\n",
       "mean    79725.697242       0.101612\n",
       "std     46028.837471       0.302139\n",
       "min         0.000000       0.000000\n",
       "25%     39872.750000       0.000000\n",
       "50%     79721.500000       0.000000\n",
       "75%    119573.250000       0.000000\n",
       "max    159450.000000       1.000000"
      ]
     },
     "execution_count": 7,
     "metadata": {},
     "output_type": "execute_result"
    }
   ],
   "source": [
    "# Просмотрим статистики наших признаков\n",
    "df.describe()"
   ]
  },
  {
   "cell_type": "markdown",
   "metadata": {},
   "source": [
    "### Визуализируем наши данные "
   ]
  },
  {
   "cell_type": "code",
   "execution_count": 8,
   "metadata": {
    "colab": {
     "base_uri": "https://localhost:8080/",
     "height": 336
    },
    "id": "LUpkwU0AK-83",
    "outputId": "5fefd469-2ae6-4f60-b480-856d9ae5da07"
   },
   "outputs": [
    {
     "data": {
      "image/png": "[encoded data removed]",
      "text/plain": [
       "<Figure size 504x360 with 2 Axes>"
      ]
     },
     "metadata": {
      "needs_background": "light"
     },
     "output_type": "display_data"
    }
   ],
   "source": [
    "df.hist(figsize=(7,5));"
   ]
  },
  {
   "cell_type": "markdown",
   "metadata": {
    "id": "VqkSw8tWK-84"
   },
   "source": [
    "### Уберем незначительный признак \"Unnamed: 0\""
   ]
  },
  {
   "cell_type": "code",
   "execution_count": 9,
   "metadata": {
    "id": "wNFiH1dNK-84"
   },
   "outputs": [],
   "source": [
    "# Уберем незначительный признак \"Unnamed: 0\"\n",
    "df = df.drop([\"Unnamed: 0\"], axis=1)"
   ]
  },
  {
   "cell_type": "markdown",
   "metadata": {},
   "source": [
    "### Выводы по подготовке и первичному анализу"
   ]
  },
  {
   "cell_type": "markdown",
   "metadata": {
    "id": "KD9NqzUmK-85"
   },
   "source": [
    "\n",
    "    1. Видем, что у целевого признака \"toxic\" явный дисбаланс\n",
    "    2. В данных нет нулевых значений, тип данных корректный у всех признаков\n",
    "    3. В данных есть незначимый признак \"Unnamed: 0\"\n",
    "    4. Текст англоязычный "
   ]
  },
  {
   "cell_type": "markdown",
   "metadata": {},
   "source": [
    "****"
   ]
  },
  {
   "cell_type": "markdown",
   "metadata": {},
   "source": [
    "# Лематизация"
   ]
  },
  {
   "cell_type": "code",
   "execution_count": 10,
   "metadata": {},
   "outputs": [],
   "source": [
    "# лемматизатор NLTK\n",
    "lemmatizer = WordNetLemmatizer()"
   ]
  },
  {
   "cell_type": "markdown",
   "metadata": {},
   "source": [
    "# Добавим стоп-слова "
   ]
  },
  {
   "cell_type": "code",
   "execution_count": 11,
   "metadata": {},
   "outputs": [
    {
     "name": "stderr",
     "output_type": "stream",
     "text": [
      "[nltk_data] Downloading package stopwords to /home/jovyan/nltk_data...\n",
      "[nltk_data]   Package stopwords is already up-to-date!\n"
     ]
    }
   ],
   "source": [
    "# Добавим стоп-слова\n",
    "nltk.download('stopwords')\n",
    "stop_words_my = set(stopwords.words('english'))"
   ]
  },
  {
   "cell_type": "markdown",
   "metadata": {},
   "source": [
    "# Создадим копию нашего датасета"
   ]
  },
  {
   "cell_type": "code",
   "execution_count": 12,
   "metadata": {},
   "outputs": [],
   "source": [
    "# Создадим копию нашего датасета\n",
    "df_copy = df.copy()"
   ]
  },
  {
   "cell_type": "markdown",
   "metadata": {},
   "source": [
    "# Создадим нашу фунцию для лематизации строк и очистки символов (исключение стоп-слов)"
   ]
  },
  {
   "cell_type": "code",
   "execution_count": 13,
   "metadata": {},
   "outputs": [
    {
     "name": "stdout",
     "output_type": "stream",
     "text": [
      "CPU times: user 17min 46s, sys: 1min 45s, total: 19min 32s\n",
      "Wall time: 19min 36s\n"
     ]
    }
   ],
   "source": [
    "%%time\n",
    "\n",
    "def get_wordnet_pos(word):\n",
    "    tag = nltk.pos_tag([word])[0][1][0].upper()\n",
    "    tag_dict = {\"J\": wordnet.ADJ,\n",
    "                \"N\": wordnet.NOUN,\n",
    "                \"V\": wordnet.VERB,\n",
    "                \"R\": wordnet.ADV}\n",
    "    return tag_dict.get(tag, wordnet.NOUN)\n",
    "\n",
    "def lemmatize(text):\n",
    "    lemmatizer = WordNetLemmatizer()\n",
    "    word_list = nltk.word_tokenize(text)\n",
    "    lemm_list  = ' '.join([lemmatizer.lemmatize(w, get_wordnet_pos(w)) for w in word_list])\n",
    "    lemm_text = \"\".join(lemm_list)\n",
    "    return lemm_text\n",
    "\n",
    "def clear_text(text):\n",
    "    f = re.sub(r'[^A-Za-z]', ' ', text) \n",
    "    f = f.split()\n",
    "    return \" \".join(f)\n",
    "\n",
    "df_copy['lemma_morf'] = 0\n",
    "df_copy['lemma_morf'] = df_copy['text'].apply(lambda x: lemmatize(clear_text(x)))"
   ]
  },
  {
   "cell_type": "code",
   "execution_count": 14,
   "metadata": {},
   "outputs": [
    {
     "data": {
      "text/html": [
       "<div>\n",
       "<style scoped>\n",
       "    .dataframe tbody tr th:only-of-type {\n",
       "        vertical-align: middle;\n",
       "    }\n",
       "\n",
       "    .dataframe tbody tr th {\n",
       "        vertical-align: top;\n",
       "    }\n",
       "\n",
       "    .dataframe thead th {\n",
       "        text-align: right;\n",
       "    }\n",
       "</style>\n",
       "<table border=\"1\" class=\"dataframe\">\n",
       "  <thead>\n",
       "    <tr style=\"text-align: right;\">\n",
       "      <th></th>\n",
       "      <th>text</th>\n",
       "      <th>toxic</th>\n",
       "      <th>lemma_morf</th>\n",
       "    </tr>\n",
       "  </thead>\n",
       "  <tbody>\n",
       "    <tr>\n",
       "      <th>0</th>\n",
       "      <td>Explanation\\nWhy the edits made under my usern...</td>\n",
       "      <td>0</td>\n",
       "      <td>Explanation Why the edits make under my userna...</td>\n",
       "    </tr>\n",
       "    <tr>\n",
       "      <th>1</th>\n",
       "      <td>D'aww! He matches this background colour I'm s...</td>\n",
       "      <td>0</td>\n",
       "      <td>D aww He match this background colour I m seem...</td>\n",
       "    </tr>\n",
       "    <tr>\n",
       "      <th>2</th>\n",
       "      <td>Hey man, I'm really not trying to edit war. It...</td>\n",
       "      <td>0</td>\n",
       "      <td>Hey man I m really not try to edit war It s ju...</td>\n",
       "    </tr>\n",
       "    <tr>\n",
       "      <th>3</th>\n",
       "      <td>\"\\nMore\\nI can't make any real suggestions on ...</td>\n",
       "      <td>0</td>\n",
       "      <td>More I can t make any real suggestion on impro...</td>\n",
       "    </tr>\n",
       "    <tr>\n",
       "      <th>4</th>\n",
       "      <td>You, sir, are my hero. Any chance you remember...</td>\n",
       "      <td>0</td>\n",
       "      <td>You sir be my hero Any chance you remember wha...</td>\n",
       "    </tr>\n",
       "    <tr>\n",
       "      <th>...</th>\n",
       "      <td>...</td>\n",
       "      <td>...</td>\n",
       "      <td>...</td>\n",
       "    </tr>\n",
       "    <tr>\n",
       "      <th>159287</th>\n",
       "      <td>\":::::And for the second time of asking, when ...</td>\n",
       "      <td>0</td>\n",
       "      <td>And for the second time of ask when your view ...</td>\n",
       "    </tr>\n",
       "    <tr>\n",
       "      <th>159288</th>\n",
       "      <td>You should be ashamed of yourself \\n\\nThat is ...</td>\n",
       "      <td>0</td>\n",
       "      <td>You should be ashamed of yourself That be a ho...</td>\n",
       "    </tr>\n",
       "    <tr>\n",
       "      <th>159289</th>\n",
       "      <td>Spitzer \\n\\nUmm, theres no actual article for ...</td>\n",
       "      <td>0</td>\n",
       "      <td>Spitzer Umm there no actual article for prosti...</td>\n",
       "    </tr>\n",
       "    <tr>\n",
       "      <th>159290</th>\n",
       "      <td>And it looks like it was actually you who put ...</td>\n",
       "      <td>0</td>\n",
       "      <td>And it look like it be actually you who put on...</td>\n",
       "    </tr>\n",
       "    <tr>\n",
       "      <th>159291</th>\n",
       "      <td>\"\\nAnd ... I really don't think you understand...</td>\n",
       "      <td>0</td>\n",
       "      <td>And I really don t think you understand I come...</td>\n",
       "    </tr>\n",
       "  </tbody>\n",
       "</table>\n",
       "<p>159292 rows × 3 columns</p>\n",
       "</div>"
      ],
      "text/plain": [
       "                                                     text  toxic  \\\n",
       "0       Explanation\\nWhy the edits made under my usern...      0   \n",
       "1       D'aww! He matches this background colour I'm s...      0   \n",
       "2       Hey man, I'm really not trying to edit war. It...      0   \n",
       "3       \"\\nMore\\nI can't make any real suggestions on ...      0   \n",
       "4       You, sir, are my hero. Any chance you remember...      0   \n",
       "...                                                   ...    ...   \n",
       "159287  \":::::And for the second time of asking, when ...      0   \n",
       "159288  You should be ashamed of yourself \\n\\nThat is ...      0   \n",
       "159289  Spitzer \\n\\nUmm, theres no actual article for ...      0   \n",
       "159290  And it looks like it was actually you who put ...      0   \n",
       "159291  \"\\nAnd ... I really don't think you understand...      0   \n",
       "\n",
       "                                               lemma_morf  \n",
       "0       Explanation Why the edits make under my userna...  \n",
       "1       D aww He match this background colour I m seem...  \n",
       "2       Hey man I m really not try to edit war It s ju...  \n",
       "3       More I can t make any real suggestion on impro...  \n",
       "4       You sir be my hero Any chance you remember wha...  \n",
       "...                                                   ...  \n",
       "159287  And for the second time of ask when your view ...  \n",
       "159288  You should be ashamed of yourself That be a ho...  \n",
       "159289  Spitzer Umm there no actual article for prosti...  \n",
       "159290  And it look like it be actually you who put on...  \n",
       "159291  And I really don t think you understand I come...  \n",
       "\n",
       "[159292 rows x 3 columns]"
      ]
     },
     "execution_count": 14,
     "metadata": {},
     "output_type": "execute_result"
    }
   ],
   "source": [
    "df_copy"
   ]
  },
  {
   "cell_type": "markdown",
   "metadata": {},
   "source": [
    "# Обозначим наши признаки на фичи и целевой признак, а также в соотношении 80:20 поделим на обучающую и тестовую выборку"
   ]
  },
  {
   "cell_type": "code",
   "execution_count": 15,
   "metadata": {},
   "outputs": [],
   "source": [
    "# признаки-фичи\n",
    "features = df_copy['lemma_morf']\n",
    "# целовой признак \n",
    "target = df_copy['toxic']\n",
    "\n",
    "# разделение \n",
    "X_train, X_test, y_train, y_test = train_test_split(features, \n",
    "                                                    target, \n",
    "                                                    test_size=0.1, \n",
    "                                                    random_state=42)"
   ]
  },
  {
   "cell_type": "markdown",
   "metadata": {},
   "source": [
    "# Проверим корректность разделения наших выборок"
   ]
  },
  {
   "cell_type": "code",
   "execution_count": 16,
   "metadata": {},
   "outputs": [
    {
     "name": "stdout",
     "output_type": "stream",
     "text": [
      "X_train (143362,),  y_train (143362,)\n",
      "X_test (15930,),  y_test (15930,)\n"
     ]
    }
   ],
   "source": [
    "print('X_train {},  y_train {}'.format(X_train.shape, y_train.shape))\n",
    "print('X_test {},  y_test {}'.format(X_test.shape, y_test.shape))"
   ]
  },
  {
   "cell_type": "markdown",
   "metadata": {},
   "source": [
    "# Инициализируем CountVectorizer"
   ]
  },
  {
   "cell_type": "code",
   "execution_count": 18,
   "metadata": {},
   "outputs": [],
   "source": [
    "count_vector = CountVectorizer(min_df=0.001, max_df=.999)"
   ]
  },
  {
   "cell_type": "code",
   "execution_count": 19,
   "metadata": {},
   "outputs": [],
   "source": [
    "bow_x_train = count_vector.fit_transform(X_train)\n",
    "bow_x_test = count_vector.transform(X_test)"
   ]
  },
  {
   "cell_type": "code",
   "execution_count": 20,
   "metadata": {},
   "outputs": [
    {
     "data": {
      "text/plain": [
       "<143362x3208 sparse matrix of type '<class 'numpy.int64'>'\n",
       "\twith 5087694 stored elements in Compressed Sparse Row format>"
      ]
     },
     "execution_count": 20,
     "metadata": {},
     "output_type": "execute_result"
    }
   ],
   "source": [
    "bow_x_train"
   ]
  },
  {
   "cell_type": "markdown",
   "metadata": {},
   "source": [
    "# Инициализируем TfidfVectorizer"
   ]
  },
  {
   "cell_type": "code",
   "execution_count": 21,
   "metadata": {},
   "outputs": [],
   "source": [
    "counter_tf_idf = TfidfVectorizer(stop_words=stopwords.words('english'))\n",
    "x_train_tf_idf = counter_tf_idf.fit_transform(X_train)\n",
    "x_test_tf_idf = counter_tf_idf.transform(X_test)"
   ]
  },
  {
   "cell_type": "markdown",
   "metadata": {},
   "source": [
    "****"
   ]
  },
  {
   "cell_type": "markdown",
   "metadata": {},
   "source": [
    "# LogisticRegression Model"
   ]
  },
  {
   "cell_type": "markdown",
   "metadata": {},
   "source": [
    "**Через кроссвалидацию проведем оценку f1_score**"
   ]
  },
  {
   "cell_type": "code",
   "execution_count": 22,
   "metadata": {},
   "outputs": [
    {
     "name": "stdout",
     "output_type": "stream",
     "text": [
      "F1_Score на валидационной выборке 0.7586777063379914\n",
      "CPU times: user 49.7 s, sys: 54.4 s, total: 1min 44s\n",
      "Wall time: 2min 8s\n"
     ]
    }
   ],
   "source": [
    "%%time\n",
    "model = LogisticRegression(C=5.0, random_state=42, solver='liblinear', class_weight='balanced', max_iter=1000) \n",
    "\n",
    "scores_list = cross_val_score(estimator=model, \n",
    "                              X=x_train_tf_idf, \n",
    "                              y=y_train, \n",
    "                              cv=5,  \n",
    "                              scoring='f1')\n",
    "\n",
    "val_score = scores_list.mean()\n",
    "print(\"F1_Score на валидационной выборке\", val_score)"
   ]
  },
  {
   "cell_type": "markdown",
   "metadata": {},
   "source": [
    "# LinearSVC Model"
   ]
  },
  {
   "cell_type": "markdown",
   "metadata": {},
   "source": [
    "**Через оптимизатор GridSearchCV подберем оптимальые гиперпараметры**"
   ]
  },
  {
   "cell_type": "code",
   "execution_count": 23,
   "metadata": {},
   "outputs": [
    {
     "name": "stdout",
     "output_type": "stream",
     "text": [
      "Fitting 5 folds for each of 2 candidates, totalling 10 fits\n",
      "[CV] END .......................C=0.5, class_weight=balanced; total time=   5.2s\n",
      "[CV] END .......................C=0.5, class_weight=balanced; total time=   5.2s\n",
      "[CV] END .......................C=0.5, class_weight=balanced; total time=   5.3s\n",
      "[CV] END .......................C=0.5, class_weight=balanced; total time=   5.2s\n",
      "[CV] END .......................C=0.5, class_weight=balanced; total time=   5.5s\n",
      "[CV] END .......................C=1.0, class_weight=balanced; total time=   8.4s\n",
      "[CV] END .......................C=1.0, class_weight=balanced; total time=   8.2s\n",
      "[CV] END .......................C=1.0, class_weight=balanced; total time=   7.1s\n",
      "[CV] END .......................C=1.0, class_weight=balanced; total time=   7.0s\n",
      "[CV] END .......................C=1.0, class_weight=balanced; total time=   7.5s\n",
      "best params {'C': 0.5, 'class_weight': 'balanced'}\n",
      "best score 0.7562427304455508\n",
      "CPU times: user 35.4 s, sys: 198 ms, total: 35.6 s\n",
      "Wall time: 1min 11s\n"
     ]
    }
   ],
   "source": [
    "%%time\n",
    "\n",
    "from sklearn.svm import LinearSVC\n",
    "\n",
    "model_svc = LinearSVC()\n",
    "\n",
    "param_grid_svc = {'C':[0.5, 1.0], \n",
    "                  'class_weight':['balanced']}\n",
    "\n",
    "grid = GridSearchCV(model_svc, param_grid_svc, refit = True, verbose=2, n_jobs=-1, scoring='f1')\n",
    "\n",
    "grid.fit(x_train_tf_idf, y_train)\n",
    "\n",
    "print('best params', grid.best_params_)\n",
    "print('best score', grid.best_score_)"
   ]
  },
  {
   "cell_type": "markdown",
   "metadata": {},
   "source": [
    "# Проверка лучшей модели на тесте"
   ]
  },
  {
   "cell_type": "code",
   "execution_count": 25,
   "metadata": {},
   "outputs": [
    {
     "name": "stdout",
     "output_type": "stream",
     "text": [
      "F1_score: 0.7666476949345475\n"
     ]
    }
   ],
   "source": [
    "model_linear_svc = LinearSVC(class_weight='balanced', C=0.5).fit(x_train_tf_idf, y_train)\n",
    "y_pred = model_linear_svc.predict(x_test_tf_idf) \n",
    "print(\"F1_score:\", f1_score(y_pred, y_test))"
   ]
  },
  {
   "cell_type": "markdown",
   "metadata": {},
   "source": [
    "****"
   ]
  },
  {
   "cell_type": "markdown",
   "metadata": {},
   "source": [
    "# Заключительные выводы по проекту TF-IDF"
   ]
  },
  {
   "cell_type": "markdown",
   "metadata": {},
   "source": [
    "**Выводы по подготовке и первичному анализу:**\n",
    "\n",
    "    1. Видем, что у целевого признака \"toxic\" явный дисбаланс\n",
    "    2. В данных нет нулевых значений, тип данных корректный у всех признаков\n",
    "    3. В данных есть незначимый признак \"Unnamed: 0\"\n",
    "    4. Текст англоязычный \n",
    "\n",
    "**Выводы по обучению моделей TF-IDF:**\n",
    "\n",
    "    1. Произвели лемматизацию текста и инициализировали  TfidfVectorizer и CountVectorizer\n",
    "    2. Произвели разделение на обучающую и тестовую выборки, проверена корректность разделения\n",
    "    3. В качестве моделей были выбранны: LinearSVC и LogisticRegression Model\n",
    "    4. F1score наилучшей модели на тесте : 0.7666476949345475\n",
    "    5. Наилучшая модель - Suport Vector Machine (Linear SVC)  \n",
    "    6. Вывели, что TfidfVectorizer доводит после уравневания нашего целевого признака до нужной нам оценки, в отличии от CountVectorizer\n",
    "    7. Если не балансировать нашу целевую переменную, то результат нашей метрики будет лучше."
   ]
  },
  {
   "cell_type": "markdown",
   "metadata": {},
   "source": [
    "****"
   ]
  }
 ],
 "metadata": {
  "ExecuteTimeLog": [
   {
    "duration": 1140,
    "start_time": "2022-12-08T16:27:29.092Z"
   },
   {
    "duration": 37,
    "start_time": "2022-12-08T16:27:37.652Z"
   },
   {
    "duration": 1116,
    "start_time": "2022-12-08T16:31:48.823Z"
   },
   {
    "duration": 4063,
    "start_time": "2022-12-08T16:32:43.415Z"
   },
   {
    "duration": 16,
    "start_time": "2022-12-08T16:32:55.099Z"
   },
   {
    "duration": 36,
    "start_time": "2022-12-08T16:33:20.982Z"
   },
   {
    "duration": 58,
    "start_time": "2022-12-08T16:34:59.065Z"
   },
   {
    "duration": 28,
    "start_time": "2022-12-08T16:35:01.874Z"
   },
   {
    "duration": 9,
    "start_time": "2022-12-08T16:35:27.320Z"
   },
   {
    "duration": 756,
    "start_time": "2022-12-08T16:35:41.090Z"
   },
   {
    "duration": 314,
    "start_time": "2022-12-08T16:36:03.135Z"
   },
   {
    "duration": 253,
    "start_time": "2022-12-08T16:36:10.196Z"
   },
   {
    "duration": 4,
    "start_time": "2022-12-08T16:37:42.880Z"
   },
   {
    "duration": 43,
    "start_time": "2022-12-08T16:41:49.951Z"
   },
   {
    "duration": 1739,
    "start_time": "2022-12-08T16:50:49.410Z"
   },
   {
    "duration": 359,
    "start_time": "2022-12-08T16:52:13.622Z"
   },
   {
    "duration": 3096,
    "start_time": "2022-12-16T13:18:36.923Z"
   },
   {
    "duration": 62,
    "start_time": "2022-12-16T13:18:48.502Z"
   },
   {
    "duration": 3675,
    "start_time": "2022-12-16T13:19:54.642Z"
   },
   {
    "duration": 16,
    "start_time": "2022-12-16T13:20:03.179Z"
   },
   {
    "duration": 6,
    "start_time": "2022-12-16T13:20:03.361Z"
   },
   {
    "duration": 29,
    "start_time": "2022-12-16T13:20:03.556Z"
   },
   {
    "duration": 25,
    "start_time": "2022-12-16T13:20:05.536Z"
   },
   {
    "duration": 21,
    "start_time": "2022-12-16T13:20:05.688Z"
   },
   {
    "duration": 724,
    "start_time": "2022-12-16T13:20:06.858Z"
   },
   {
    "duration": 30,
    "start_time": "2022-12-16T13:20:14.457Z"
   },
   {
    "duration": 5,
    "start_time": "2022-12-16T13:20:28.052Z"
   },
   {
    "duration": 287,
    "start_time": "2022-12-16T13:20:45.809Z"
   },
   {
    "duration": 1915,
    "start_time": "2022-12-16T13:20:49.336Z"
   },
   {
    "duration": 17,
    "start_time": "2022-12-16T13:20:55.288Z"
   },
   {
    "duration": 2,
    "start_time": "2022-12-16T13:20:58.097Z"
   },
   {
    "duration": 873,
    "start_time": "2022-12-16T13:20:58.643Z"
   },
   {
    "duration": 5195,
    "start_time": "2022-12-17T19:41:38.364Z"
   },
   {
    "duration": 2937,
    "start_time": "2022-12-17T19:42:03.493Z"
   },
   {
    "duration": 15241,
    "start_time": "2022-12-17T19:42:23.679Z"
   },
   {
    "duration": 25,
    "start_time": "2022-12-17T19:42:58.116Z"
   },
   {
    "duration": 38,
    "start_time": "2022-12-17T19:43:03.402Z"
   },
   {
    "duration": 1228,
    "start_time": "2022-12-17T19:43:07.953Z"
   },
   {
    "duration": 17,
    "start_time": "2022-12-17T19:43:11.432Z"
   },
   {
    "duration": 7,
    "start_time": "2022-12-17T19:43:11.656Z"
   },
   {
    "duration": 31,
    "start_time": "2022-12-17T19:43:12.344Z"
   },
   {
    "duration": 27,
    "start_time": "2022-12-17T19:43:14.738Z"
   },
   {
    "duration": 25,
    "start_time": "2022-12-17T19:43:14.927Z"
   },
   {
    "duration": 679,
    "start_time": "2022-12-17T19:43:16.072Z"
   },
   {
    "duration": 36,
    "start_time": "2022-12-17T19:43:18.209Z"
   },
   {
    "duration": 254,
    "start_time": "2022-12-17T19:43:22.073Z"
   },
   {
    "duration": 202,
    "start_time": "2022-12-17T19:43:24.240Z"
   },
   {
    "duration": 85,
    "start_time": "2022-12-17T19:44:17.451Z"
   },
   {
    "duration": 26,
    "start_time": "2022-12-17T19:44:57.919Z"
   },
   {
    "duration": 8,
    "start_time": "2022-12-17T19:45:01.945Z"
   },
   {
    "duration": 21681,
    "start_time": "2022-12-17T19:45:19.829Z"
   },
   {
    "duration": 17,
    "start_time": "2022-12-17T19:49:07.036Z"
   },
   {
    "duration": 34,
    "start_time": "2022-12-17T19:49:30.832Z"
   },
   {
    "duration": 3,
    "start_time": "2022-12-17T19:53:00.676Z"
   },
   {
    "duration": 11,
    "start_time": "2022-12-17T19:53:06.226Z"
   },
   {
    "duration": 3,
    "start_time": "2022-12-17T19:53:25.036Z"
   },
   {
    "duration": 4,
    "start_time": "2022-12-17T19:54:25.250Z"
   },
   {
    "duration": 16,
    "start_time": "2022-12-17T19:55:13.459Z"
   },
   {
    "duration": 2026,
    "start_time": "2022-12-17T19:55:19.551Z"
   },
   {
    "duration": 5369,
    "start_time": "2022-12-17T19:56:43.768Z"
   },
   {
    "duration": 1237,
    "start_time": "2022-12-17T19:56:49.140Z"
   },
   {
    "duration": 16,
    "start_time": "2022-12-17T19:56:50.379Z"
   },
   {
    "duration": 7,
    "start_time": "2022-12-17T19:56:50.397Z"
   },
   {
    "duration": 39,
    "start_time": "2022-12-17T19:56:50.405Z"
   },
   {
    "duration": 28,
    "start_time": "2022-12-17T19:56:50.446Z"
   },
   {
    "duration": 20,
    "start_time": "2022-12-17T19:56:50.475Z"
   },
   {
    "duration": 472,
    "start_time": "2022-12-17T19:56:50.496Z"
   },
   {
    "duration": 11,
    "start_time": "2022-12-17T19:56:50.970Z"
   },
   {
    "duration": 253,
    "start_time": "2022-12-17T19:56:50.984Z"
   },
   {
    "duration": 208,
    "start_time": "2022-12-17T19:56:51.240Z"
   },
   {
    "duration": 9,
    "start_time": "2022-12-17T19:56:51.449Z"
   },
   {
    "duration": 22447,
    "start_time": "2022-12-17T19:56:51.459Z"
   },
   {
    "duration": 41,
    "start_time": "2022-12-17T19:57:13.907Z"
   },
   {
    "duration": 3,
    "start_time": "2022-12-17T19:57:13.949Z"
   },
   {
    "duration": 2077,
    "start_time": "2022-12-17T19:57:13.954Z"
   },
   {
    "duration": 5,
    "start_time": "2022-12-17T19:57:19.679Z"
   },
   {
    "duration": 2,
    "start_time": "2022-12-17T19:57:41.567Z"
   },
   {
    "duration": 50,
    "start_time": "2022-12-17T19:58:23.311Z"
   },
   {
    "duration": 5156,
    "start_time": "2022-12-17T19:58:31.463Z"
   },
   {
    "duration": 1232,
    "start_time": "2022-12-17T19:58:36.627Z"
   },
   {
    "duration": 15,
    "start_time": "2022-12-17T19:58:37.860Z"
   },
   {
    "duration": 6,
    "start_time": "2022-12-17T19:58:37.877Z"
   },
   {
    "duration": 38,
    "start_time": "2022-12-17T19:58:37.884Z"
   },
   {
    "duration": 33,
    "start_time": "2022-12-17T19:58:37.926Z"
   },
   {
    "duration": 20,
    "start_time": "2022-12-17T19:58:37.961Z"
   },
   {
    "duration": 471,
    "start_time": "2022-12-17T19:58:37.983Z"
   },
   {
    "duration": 22,
    "start_time": "2022-12-17T19:58:38.456Z"
   },
   {
    "duration": 239,
    "start_time": "2022-12-17T19:58:38.480Z"
   },
   {
    "duration": 213,
    "start_time": "2022-12-17T19:58:38.723Z"
   },
   {
    "duration": 4,
    "start_time": "2022-12-17T19:58:38.938Z"
   },
   {
    "duration": 2719,
    "start_time": "2022-12-17T19:58:38.944Z"
   },
   {
    "duration": 6,
    "start_time": "2022-12-17T19:58:41.665Z"
   },
   {
    "duration": 8,
    "start_time": "2022-12-17T19:58:41.673Z"
   },
   {
    "duration": 281,
    "start_time": "2022-12-17T19:58:41.683Z"
   },
   {
    "duration": 2,
    "start_time": "2022-12-17T19:58:41.966Z"
   },
   {
    "duration": 961,
    "start_time": "2022-12-17T19:58:41.970Z"
   },
   {
    "duration": 6656,
    "start_time": "2022-12-17T19:58:42.933Z"
   },
   {
    "duration": 1451,
    "start_time": "2022-12-17T19:58:49.590Z"
   },
   {
    "duration": 0,
    "start_time": "2022-12-17T19:58:51.044Z"
   },
   {
    "duration": 0,
    "start_time": "2022-12-17T19:58:51.045Z"
   },
   {
    "duration": 0,
    "start_time": "2022-12-17T19:58:51.046Z"
   },
   {
    "duration": 0,
    "start_time": "2022-12-17T19:58:51.047Z"
   },
   {
    "duration": 0,
    "start_time": "2022-12-17T19:58:51.048Z"
   },
   {
    "duration": 0,
    "start_time": "2022-12-17T19:58:51.049Z"
   },
   {
    "duration": 0,
    "start_time": "2022-12-17T19:58:51.051Z"
   },
   {
    "duration": 0,
    "start_time": "2022-12-17T19:58:51.052Z"
   },
   {
    "duration": 0,
    "start_time": "2022-12-17T19:58:51.053Z"
   },
   {
    "duration": 0,
    "start_time": "2022-12-17T19:58:51.054Z"
   },
   {
    "duration": 0,
    "start_time": "2022-12-17T19:58:51.055Z"
   },
   {
    "duration": 0,
    "start_time": "2022-12-17T19:58:51.056Z"
   },
   {
    "duration": 0,
    "start_time": "2022-12-17T19:58:51.057Z"
   },
   {
    "duration": 0,
    "start_time": "2022-12-17T19:58:51.058Z"
   },
   {
    "duration": 0,
    "start_time": "2022-12-17T19:58:51.059Z"
   },
   {
    "duration": 0,
    "start_time": "2022-12-17T19:58:51.060Z"
   },
   {
    "duration": 0,
    "start_time": "2022-12-17T19:58:51.061Z"
   },
   {
    "duration": 0,
    "start_time": "2022-12-17T19:58:51.061Z"
   },
   {
    "duration": 0,
    "start_time": "2022-12-17T19:58:51.062Z"
   },
   {
    "duration": 0,
    "start_time": "2022-12-17T19:58:51.063Z"
   },
   {
    "duration": 0,
    "start_time": "2022-12-17T19:58:51.065Z"
   },
   {
    "duration": 0,
    "start_time": "2022-12-17T19:58:51.067Z"
   },
   {
    "duration": 0,
    "start_time": "2022-12-17T19:58:51.068Z"
   },
   {
    "duration": 0,
    "start_time": "2022-12-17T19:58:51.069Z"
   },
   {
    "duration": 199,
    "start_time": "2022-12-17T19:59:03.310Z"
   },
   {
    "duration": 3,
    "start_time": "2022-12-17T19:59:20.781Z"
   },
   {
    "duration": 17,
    "start_time": "2022-12-17T20:01:01.874Z"
   },
   {
    "duration": 17,
    "start_time": "2022-12-17T20:01:25.882Z"
   },
   {
    "duration": 1164,
    "start_time": "2022-12-17T20:02:05.566Z"
   },
   {
    "duration": 4,
    "start_time": "2022-12-17T20:02:11.356Z"
   },
   {
    "duration": 4,
    "start_time": "2022-12-17T20:02:16.004Z"
   },
   {
    "duration": 6091,
    "start_time": "2022-12-17T20:02:19.328Z"
   },
   {
    "duration": 5254,
    "start_time": "2022-12-17T20:03:32.483Z"
   },
   {
    "duration": 4437,
    "start_time": "2022-12-18T07:43:29.512Z"
   },
   {
    "duration": 2930,
    "start_time": "2022-12-18T07:43:38.403Z"
   },
   {
    "duration": 3549,
    "start_time": "2022-12-18T07:44:20.578Z"
   },
   {
    "duration": 18,
    "start_time": "2022-12-18T07:44:25.973Z"
   },
   {
    "duration": 7,
    "start_time": "2022-12-18T07:44:26.186Z"
   },
   {
    "duration": 30,
    "start_time": "2022-12-18T07:44:26.336Z"
   },
   {
    "duration": 26,
    "start_time": "2022-12-18T07:44:26.699Z"
   },
   {
    "duration": 25,
    "start_time": "2022-12-18T07:44:26.875Z"
   },
   {
    "duration": 640,
    "start_time": "2022-12-18T07:44:27.018Z"
   },
   {
    "duration": 39,
    "start_time": "2022-12-18T07:44:28.082Z"
   },
   {
    "duration": 5897,
    "start_time": "2022-12-18T07:44:52.301Z"
   },
   {
    "duration": 692,
    "start_time": "2022-12-18T07:44:58.200Z"
   },
   {
    "duration": 21,
    "start_time": "2022-12-18T07:44:58.896Z"
   },
   {
    "duration": 22,
    "start_time": "2022-12-18T07:44:58.920Z"
   },
   {
    "duration": 42,
    "start_time": "2022-12-18T07:44:58.944Z"
   },
   {
    "duration": 26,
    "start_time": "2022-12-18T07:44:58.988Z"
   },
   {
    "duration": 32,
    "start_time": "2022-12-18T07:44:59.016Z"
   },
   {
    "duration": 432,
    "start_time": "2022-12-18T07:44:59.050Z"
   },
   {
    "duration": 10,
    "start_time": "2022-12-18T07:44:59.484Z"
   },
   {
    "duration": 267,
    "start_time": "2022-12-18T07:44:59.496Z"
   },
   {
    "duration": 148,
    "start_time": "2022-12-18T07:44:59.765Z"
   },
   {
    "duration": 7,
    "start_time": "2022-12-18T07:44:59.915Z"
   },
   {
    "duration": 20768,
    "start_time": "2022-12-18T07:44:59.924Z"
   },
   {
    "duration": 37,
    "start_time": "2022-12-18T07:45:20.694Z"
   },
   {
    "duration": 4,
    "start_time": "2022-12-18T07:45:20.733Z"
   },
   {
    "duration": 1771,
    "start_time": "2022-12-18T07:45:20.739Z"
   },
   {
    "duration": 12,
    "start_time": "2022-12-18T07:45:22.511Z"
   },
   {
    "duration": 294,
    "start_time": "2022-12-18T07:45:22.525Z"
   },
   {
    "duration": 0,
    "start_time": "2022-12-18T07:45:22.820Z"
   },
   {
    "duration": 0,
    "start_time": "2022-12-18T07:45:22.822Z"
   },
   {
    "duration": 3,
    "start_time": "2022-12-18T07:47:32.039Z"
   },
   {
    "duration": 3,
    "start_time": "2022-12-18T20:28:32.270Z"
   },
   {
    "duration": 6811,
    "start_time": "2022-12-18T20:32:00.479Z"
   },
   {
    "duration": 1092,
    "start_time": "2022-12-18T20:32:15.854Z"
   },
   {
    "duration": 15,
    "start_time": "2022-12-18T20:32:17.238Z"
   },
   {
    "duration": 7,
    "start_time": "2022-12-18T20:32:17.428Z"
   },
   {
    "duration": 34,
    "start_time": "2022-12-18T20:32:17.591Z"
   },
   {
    "duration": 27,
    "start_time": "2022-12-18T20:32:18.394Z"
   },
   {
    "duration": 21,
    "start_time": "2022-12-18T20:32:18.620Z"
   },
   {
    "duration": 584,
    "start_time": "2022-12-18T20:32:19.244Z"
   },
   {
    "duration": 42,
    "start_time": "2022-12-18T20:32:22.095Z"
   },
   {
    "duration": 245,
    "start_time": "2022-12-18T20:32:24.334Z"
   },
   {
    "duration": 162,
    "start_time": "2022-12-18T20:32:52.647Z"
   },
   {
    "duration": 8,
    "start_time": "2022-12-18T20:32:55.231Z"
   },
   {
    "duration": 10,
    "start_time": "2022-12-18T20:33:15.923Z"
   },
   {
    "duration": 2,
    "start_time": "2022-12-18T20:37:16.052Z"
   },
   {
    "duration": 420,
    "start_time": "2022-12-18T20:37:18.178Z"
   },
   {
    "duration": 178,
    "start_time": "2022-12-18T20:37:56.505Z"
   },
   {
    "duration": 133,
    "start_time": "2022-12-18T20:38:07.242Z"
   },
   {
    "duration": 6,
    "start_time": "2022-12-18T20:38:56.530Z"
   },
   {
    "duration": 4,
    "start_time": "2022-12-18T20:39:02.479Z"
   },
   {
    "duration": 6,
    "start_time": "2022-12-18T20:39:05.203Z"
   },
   {
    "duration": 20088,
    "start_time": "2022-12-18T20:41:48.652Z"
   },
   {
    "duration": 22,
    "start_time": "2022-12-18T20:42:31.762Z"
   },
   {
    "duration": 30,
    "start_time": "2022-12-18T20:44:03.226Z"
   },
   {
    "duration": 5677,
    "start_time": "2022-12-18T20:44:35.775Z"
   },
   {
    "duration": 820,
    "start_time": "2022-12-18T20:44:41.454Z"
   },
   {
    "duration": 13,
    "start_time": "2022-12-18T20:44:42.280Z"
   },
   {
    "duration": 27,
    "start_time": "2022-12-18T20:44:42.295Z"
   },
   {
    "duration": 47,
    "start_time": "2022-12-18T20:44:42.323Z"
   },
   {
    "duration": 27,
    "start_time": "2022-12-18T20:44:42.372Z"
   },
   {
    "duration": 24,
    "start_time": "2022-12-18T20:44:42.401Z"
   },
   {
    "duration": 447,
    "start_time": "2022-12-18T20:44:42.427Z"
   },
   {
    "duration": 16,
    "start_time": "2022-12-18T20:44:42.876Z"
   },
   {
    "duration": 11,
    "start_time": "2022-12-18T20:44:42.894Z"
   },
   {
    "duration": 187,
    "start_time": "2022-12-18T20:44:42.907Z"
   },
   {
    "duration": 7,
    "start_time": "2022-12-18T20:44:44.397Z"
   },
   {
    "duration": 32,
    "start_time": "2022-12-18T20:44:47.002Z"
   },
   {
    "duration": 23,
    "start_time": "2022-12-18T20:49:43.216Z"
   },
   {
    "duration": 328,
    "start_time": "2022-12-18T20:49:56.767Z"
   },
   {
    "duration": 46,
    "start_time": "2022-12-18T20:50:45.239Z"
   },
   {
    "duration": 1405,
    "start_time": "2022-12-18T20:50:51.066Z"
   },
   {
    "duration": 5,
    "start_time": "2022-12-18T20:50:59.661Z"
   },
   {
    "duration": 118,
    "start_time": "2022-12-18T20:51:37.048Z"
   },
   {
    "duration": 5737,
    "start_time": "2022-12-18T20:51:49.449Z"
   },
   {
    "duration": 840,
    "start_time": "2022-12-18T20:51:55.189Z"
   },
   {
    "duration": 16,
    "start_time": "2022-12-18T20:51:56.030Z"
   },
   {
    "duration": 17,
    "start_time": "2022-12-18T20:51:56.047Z"
   },
   {
    "duration": 41,
    "start_time": "2022-12-18T20:51:56.065Z"
   },
   {
    "duration": 34,
    "start_time": "2022-12-18T20:51:56.107Z"
   },
   {
    "duration": 20,
    "start_time": "2022-12-18T20:51:56.143Z"
   },
   {
    "duration": 408,
    "start_time": "2022-12-18T20:51:56.165Z"
   },
   {
    "duration": 11,
    "start_time": "2022-12-18T20:51:56.575Z"
   },
   {
    "duration": 10,
    "start_time": "2022-12-18T20:51:56.588Z"
   },
   {
    "duration": 233,
    "start_time": "2022-12-18T20:51:56.600Z"
   },
   {
    "duration": 33,
    "start_time": "2022-12-18T20:51:56.834Z"
   },
   {
    "duration": 396,
    "start_time": "2022-12-18T20:51:56.869Z"
   },
   {
    "duration": 7,
    "start_time": "2022-12-18T20:51:57.267Z"
   },
   {
    "duration": 120,
    "start_time": "2022-12-18T20:52:22.992Z"
   },
   {
    "duration": 11,
    "start_time": "2022-12-18T20:53:32.470Z"
   },
   {
    "duration": 110,
    "start_time": "2022-12-18T20:53:33.006Z"
   },
   {
    "duration": 6,
    "start_time": "2022-12-18T20:53:41.485Z"
   },
   {
    "duration": 113,
    "start_time": "2022-12-18T20:53:49.133Z"
   },
   {
    "duration": 116,
    "start_time": "2022-12-18T20:54:18.695Z"
   },
   {
    "duration": 1472,
    "start_time": "2022-12-18T21:44:12.693Z"
   },
   {
    "duration": 5,
    "start_time": "2022-12-18T21:44:39.890Z"
   },
   {
    "duration": 5,
    "start_time": "2022-12-18T21:45:04.475Z"
   },
   {
    "duration": 31,
    "start_time": "2022-12-18T21:46:14.489Z"
   },
   {
    "duration": 110,
    "start_time": "2022-12-18T21:46:19.650Z"
   },
   {
    "duration": 5,
    "start_time": "2022-12-18T21:46:36.011Z"
   },
   {
    "duration": 6,
    "start_time": "2022-12-18T21:47:04.653Z"
   },
   {
    "duration": 5,
    "start_time": "2022-12-18T21:47:09.231Z"
   },
   {
    "duration": 7129,
    "start_time": "2022-12-19T14:20:30.154Z"
   },
   {
    "duration": 2457,
    "start_time": "2022-12-19T14:20:37.285Z"
   },
   {
    "duration": 17,
    "start_time": "2022-12-19T14:20:39.744Z"
   },
   {
    "duration": 7,
    "start_time": "2022-12-19T14:20:39.763Z"
   },
   {
    "duration": 37,
    "start_time": "2022-12-19T14:20:39.772Z"
   },
   {
    "duration": 28,
    "start_time": "2022-12-19T14:20:39.811Z"
   },
   {
    "duration": 44,
    "start_time": "2022-12-19T14:20:39.841Z"
   },
   {
    "duration": 691,
    "start_time": "2022-12-19T14:20:39.886Z"
   },
   {
    "duration": 31,
    "start_time": "2022-12-19T14:20:40.579Z"
   },
   {
    "duration": 7,
    "start_time": "2022-12-19T14:20:40.613Z"
   },
   {
    "duration": 224,
    "start_time": "2022-12-19T14:20:44.474Z"
   },
   {
    "duration": 6,
    "start_time": "2022-12-19T14:20:50.242Z"
   },
   {
    "duration": 671,
    "start_time": "2022-12-19T14:20:52.380Z"
   },
   {
    "duration": 497,
    "start_time": "2022-12-19T14:21:30.521Z"
   },
   {
    "duration": 418,
    "start_time": "2022-12-19T14:27:55.598Z"
   },
   {
    "duration": 183,
    "start_time": "2022-12-19T14:28:13.003Z"
   },
   {
    "duration": 1217,
    "start_time": "2022-12-19T14:33:09.968Z"
   },
   {
    "duration": 459,
    "start_time": "2022-12-19T14:33:20.893Z"
   },
   {
    "duration": 397,
    "start_time": "2022-12-19T14:33:46.181Z"
   },
   {
    "duration": 88344,
    "start_time": "2022-12-19T14:34:13.525Z"
   },
   {
    "duration": 8,
    "start_time": "2022-12-19T14:35:51.738Z"
   },
   {
    "duration": 22,
    "start_time": "2022-12-19T14:36:24.697Z"
   },
   {
    "duration": 59,
    "start_time": "2022-12-19T14:53:24.191Z"
   },
   {
    "duration": 4,
    "start_time": "2022-12-19T14:53:26.228Z"
   },
   {
    "duration": 4,
    "start_time": "2022-12-19T14:53:32.640Z"
   },
   {
    "duration": 6841,
    "start_time": "2022-12-19T14:53:32.861Z"
   },
   {
    "duration": 4,
    "start_time": "2022-12-19T14:53:42.970Z"
   },
   {
    "duration": 7653,
    "start_time": "2022-12-19T14:53:47.653Z"
   },
   {
    "duration": 110656,
    "start_time": "2022-12-19T14:54:42.757Z"
   },
   {
    "duration": 177176,
    "start_time": "2022-12-19T14:57:31.089Z"
   },
   {
    "duration": 37091,
    "start_time": "2022-12-19T15:02:13.592Z"
   },
   {
    "duration": 3658,
    "start_time": "2022-12-19T15:04:16.176Z"
   },
   {
    "duration": 24368,
    "start_time": "2022-12-19T15:05:33.947Z"
   },
   {
    "duration": 429495,
    "start_time": "2022-12-19T15:07:06.831Z"
   },
   {
    "duration": 3,
    "start_time": "2022-12-19T15:27:42.793Z"
   },
   {
    "duration": 4,
    "start_time": "2022-12-19T15:27:43.348Z"
   },
   {
    "duration": 559,
    "start_time": "2022-12-19T15:27:58.902Z"
   },
   {
    "duration": 513,
    "start_time": "2022-12-19T15:29:43.029Z"
   },
   {
    "duration": 466,
    "start_time": "2022-12-19T15:30:19.546Z"
   },
   {
    "duration": 6573,
    "start_time": "2022-12-19T15:33:24.354Z"
   },
   {
    "duration": 798,
    "start_time": "2022-12-19T15:33:42.973Z"
   },
   {
    "duration": 15,
    "start_time": "2022-12-19T15:33:45.488Z"
   },
   {
    "duration": 8,
    "start_time": "2022-12-19T15:33:45.616Z"
   },
   {
    "duration": 43,
    "start_time": "2022-12-19T15:33:45.757Z"
   },
   {
    "duration": 35,
    "start_time": "2022-12-19T15:33:47.847Z"
   },
   {
    "duration": 24,
    "start_time": "2022-12-19T15:33:48.008Z"
   },
   {
    "duration": 563,
    "start_time": "2022-12-19T15:33:48.129Z"
   },
   {
    "duration": 13,
    "start_time": "2022-12-19T15:33:50.074Z"
   },
   {
    "duration": 3,
    "start_time": "2022-12-19T15:33:52.540Z"
   },
   {
    "duration": 5,
    "start_time": "2022-12-19T15:33:56.034Z"
   },
   {
    "duration": 7,
    "start_time": "2022-12-19T15:33:57.261Z"
   },
   {
    "duration": 1168905,
    "start_time": "2022-12-19T15:34:00.288Z"
   },
   {
    "duration": 14,
    "start_time": "2022-12-19T15:53:41.274Z"
   },
   {
    "duration": 55,
    "start_time": "2022-12-19T15:54:23.665Z"
   },
   {
    "duration": 4,
    "start_time": "2022-12-19T15:54:26.450Z"
   },
   {
    "duration": 3,
    "start_time": "2022-12-19T15:54:27.580Z"
   },
   {
    "duration": 3,
    "start_time": "2022-12-19T15:54:29.423Z"
   },
   {
    "duration": 7186,
    "start_time": "2022-12-19T15:54:29.997Z"
   },
   {
    "duration": 4,
    "start_time": "2022-12-19T15:54:38.724Z"
   },
   {
    "duration": 7682,
    "start_time": "2022-12-19T15:54:41.127Z"
   },
   {
    "duration": 114613,
    "start_time": "2022-12-19T15:54:52.793Z"
   },
   {
    "duration": 34798,
    "start_time": "2022-12-19T15:58:32.390Z"
   },
   {
    "duration": 348554,
    "start_time": "2022-12-19T16:09:45.539Z"
   },
   {
    "duration": 89561,
    "start_time": "2022-12-19T16:16:08.059Z"
   },
   {
    "duration": 35499,
    "start_time": "2022-12-19T16:18:23.155Z"
   },
   {
    "duration": 547884,
    "start_time": "2022-12-19T16:19:05.072Z"
   },
   {
    "duration": 117632,
    "start_time": "2022-12-19T16:31:29.577Z"
   },
   {
    "duration": 4868,
    "start_time": "2022-12-19T16:50:20.573Z"
   },
   {
    "duration": 10,
    "start_time": "2022-12-19T17:12:02.972Z"
   },
   {
    "duration": 8449,
    "start_time": "2023-01-29T17:49:44.569Z"
   },
   {
    "duration": 2303,
    "start_time": "2023-01-29T17:49:53.021Z"
   },
   {
    "duration": 14,
    "start_time": "2023-01-29T17:49:55.326Z"
   },
   {
    "duration": 14,
    "start_time": "2023-01-29T17:49:55.342Z"
   },
   {
    "duration": 41,
    "start_time": "2023-01-29T17:49:55.358Z"
   },
   {
    "duration": 28,
    "start_time": "2023-01-29T17:49:55.401Z"
   },
   {
    "duration": 33,
    "start_time": "2023-01-29T17:49:55.430Z"
   },
   {
    "duration": 523,
    "start_time": "2023-01-29T17:49:55.465Z"
   },
   {
    "duration": 11,
    "start_time": "2023-01-29T17:49:55.990Z"
   },
   {
    "duration": 13,
    "start_time": "2023-01-29T17:49:56.004Z"
   },
   {
    "duration": 15,
    "start_time": "2023-01-29T17:49:56.019Z"
   },
   {
    "duration": 7,
    "start_time": "2023-01-29T17:49:56.038Z"
   },
   {
    "duration": 1176417,
    "start_time": "2023-01-29T17:49:56.046Z"
   },
   {
    "duration": 17,
    "start_time": "2023-01-29T18:09:32.465Z"
   },
   {
    "duration": 55,
    "start_time": "2023-01-29T18:09:32.484Z"
   },
   {
    "duration": 4,
    "start_time": "2023-01-29T18:09:32.541Z"
   },
   {
    "duration": 32,
    "start_time": "2023-01-29T18:09:32.547Z"
   },
   {
    "duration": 36,
    "start_time": "2023-01-29T18:09:32.581Z"
   },
   {
    "duration": 6759,
    "start_time": "2023-01-29T18:09:32.619Z"
   },
   {
    "duration": 4,
    "start_time": "2023-01-29T18:09:39.379Z"
   },
   {
    "duration": 6654,
    "start_time": "2023-01-29T18:09:39.384Z"
   },
   {
    "duration": 128223,
    "start_time": "2023-01-29T18:09:46.040Z"
   },
   {
    "duration": 71194,
    "start_time": "2023-01-29T18:11:54.265Z"
   },
   {
    "duration": 71993,
    "start_time": "2023-01-29T18:13:05.461Z"
   },
   {
    "duration": 7006,
    "start_time": "2023-01-29T18:14:17.455Z"
   },
   {
    "duration": 76,
    "start_time": "2023-01-29T18:14:24.463Z"
   },
   {
    "duration": 0,
    "start_time": "2023-01-29T18:14:24.542Z"
   },
   {
    "duration": 0,
    "start_time": "2023-01-29T18:14:24.544Z"
   },
   {
    "duration": 0,
    "start_time": "2023-01-29T18:14:24.545Z"
   },
   {
    "duration": 0,
    "start_time": "2023-01-29T18:14:24.547Z"
   },
   {
    "duration": 0,
    "start_time": "2023-01-29T18:14:24.548Z"
   },
   {
    "duration": 0,
    "start_time": "2023-01-29T18:14:24.550Z"
   },
   {
    "duration": 0,
    "start_time": "2023-01-29T18:14:24.552Z"
   },
   {
    "duration": 0,
    "start_time": "2023-01-29T18:14:24.553Z"
   },
   {
    "duration": 0,
    "start_time": "2023-01-29T18:14:24.555Z"
   },
   {
    "duration": 0,
    "start_time": "2023-01-29T18:14:24.556Z"
   },
   {
    "duration": 0,
    "start_time": "2023-01-29T18:14:24.558Z"
   },
   {
    "duration": 0,
    "start_time": "2023-01-29T18:14:24.560Z"
   },
   {
    "duration": 0,
    "start_time": "2023-01-29T18:14:24.561Z"
   },
   {
    "duration": 0,
    "start_time": "2023-01-29T18:14:24.563Z"
   },
   {
    "duration": 0,
    "start_time": "2023-01-29T18:14:24.639Z"
   },
   {
    "duration": 0,
    "start_time": "2023-01-29T18:14:24.641Z"
   },
   {
    "duration": 0,
    "start_time": "2023-01-29T18:14:24.643Z"
   },
   {
    "duration": 0,
    "start_time": "2023-01-29T18:14:24.644Z"
   }
  ],
  "accelerator": "GPU",
  "colab": {
   "provenance": []
  },
  "gpuClass": "standard",
  "kernelspec": {
   "display_name": "Python 3 (ipykernel)",
   "language": "python",
   "name": "python3"
  },
  "language_info": {
   "codemirror_mode": {
    "name": "ipython",
    "version": 3
   },
   "file_extension": ".py",
   "mimetype": "text/x-python",
   "name": "python",
   "nbconvert_exporter": "python",
   "pygments_lexer": "ipython3",
   "version": "3.9.15"
  },
  "toc": {
   "base_numbering": 1,
   "nav_menu": {},
   "number_sections": true,
   "sideBar": true,
   "skip_h1_title": true,
   "title_cell": "Содержание",
   "title_sidebar": "Contents",
   "toc_cell": true,
   "toc_position": {
    "height": "calc(100% - 180px)",
    "left": "10px",
    "top": "150px",
    "width": "302.391px"
   },
   "toc_section_display": true,
   "toc_window_display": false
  },
  "widgets": {
   "application/vnd.jupyter.widget-state+json": {
    "128efa4b3b084472a92581ed16cbf869": {
     "model_module": "@jupyter-widgets/controls",
     "model_module_version": "1.5.0",
     "model_name": "HBoxModel",
     "state": {
      "_dom_classes": [],
      "_model_module": "@jupyter-widgets/controls",
      "_model_module_version": "1.5.0",
      "_model_name": "HBoxModel",
      "_view_count": null,
      "_view_module": "@jupyter-widgets/controls",
      "_view_module_version": "1.5.0",
      "_view_name": "HBoxView",
      "box_style": "",
      "children": [
       "IPY_MODEL_ad851dfed2e94ec4a8a1e080dff638eb",
       "IPY_MODEL_ff18e19e42da457799b7247739121cc2",
       "IPY_MODEL_2503686fca304bf492c94eecaf4f730f"
      ],
      "layout": "IPY_MODEL_3164b97084e242878c7b93121f2009f3"
     }
    },
    "14becfef3a8f4df09f4f862b5bab3712": {
     "model_module": "@jupyter-widgets/controls",
     "model_module_version": "1.5.0",
     "model_name": "ProgressStyleModel",
     "state": {
      "_model_module": "@jupyter-widgets/controls",
      "_model_module_version": "1.5.0",
      "_model_name": "ProgressStyleModel",
      "_view_count": null,
      "_view_module": "@jupyter-widgets/base",
      "_view_module_version": "1.2.0",
      "_view_name": "StyleView",
      "bar_color": null,
      "description_width": ""
     }
    },
    "2503686fca304bf492c94eecaf4f730f": {
     "model_module": "@jupyter-widgets/controls",
     "model_module_version": "1.5.0",
     "model_name": "HTMLModel",
     "state": {
      "_dom_classes": [],
      "_model_module": "@jupyter-widgets/controls",
      "_model_module_version": "1.5.0",
      "_model_name": "HTMLModel",
      "_view_count": null,
      "_view_module": "@jupyter-widgets/controls",
      "_view_module_version": "1.5.0",
      "_view_name": "HTMLView",
      "description": "",
      "description_tooltip": null,
      "layout": "IPY_MODEL_8ed7d51d470a4b7fbc5691a9272a46e2",
      "placeholder": "​",
      "style": "IPY_MODEL_29c150341615404a80cb07898a0dc260",
      "value": " 0/20 [00:00&lt;?, ?it/s]"
     }
    },
    "29c150341615404a80cb07898a0dc260": {
     "model_module": "@jupyter-widgets/controls",
     "model_module_version": "1.5.0",
     "model_name": "DescriptionStyleModel",
     "state": {
      "_model_module": "@jupyter-widgets/controls",
      "_model_module_version": "1.5.0",
      "_model_name": "DescriptionStyleModel",
      "_view_count": null,
      "_view_module": "@jupyter-widgets/base",
      "_view_module_version": "1.2.0",
      "_view_name": "StyleView",
      "description_width": ""
     }
    },
    "3164b97084e242878c7b93121f2009f3": {
     "model_module": "@jupyter-widgets/base",
     "model_module_version": "1.2.0",
     "model_name": "LayoutModel",
     "state": {
      "_model_module": "@jupyter-widgets/base",
      "_model_module_version": "1.2.0",
      "_model_name": "LayoutModel",
      "_view_count": null,
      "_view_module": "@jupyter-widgets/base",
      "_view_module_version": "1.2.0",
      "_view_name": "LayoutView",
      "align_content": null,
      "align_items": null,
      "align_self": null,
      "border": null,
      "bottom": null,
      "display": null,
      "flex": null,
      "flex_flow": null,
      "grid_area": null,
      "grid_auto_columns": null,
      "grid_auto_flow": null,
      "grid_auto_rows": null,
      "grid_column": null,
      "grid_gap": null,
      "grid_row": null,
      "grid_template_areas": null,
      "grid_template_columns": null,
      "grid_template_rows": null,
      "height": null,
      "justify_content": null,
      "justify_items": null,
      "left": null,
      "margin": null,
      "max_height": null,
      "max_width": null,
      "min_height": null,
      "min_width": null,
      "object_fit": null,
      "object_position": null,
      "order": null,
      "overflow": null,
      "overflow_x": null,
      "overflow_y": null,
      "padding": null,
      "right": null,
      "top": null,
      "visibility": null,
      "width": null
     }
    },
    "8ed7d51d470a4b7fbc5691a9272a46e2": {
     "model_module": "@jupyter-widgets/base",
     "model_module_version": "1.2.0",
     "model_name": "LayoutModel",
     "state": {
      "_model_module": "@jupyter-widgets/base",
      "_model_module_version": "1.2.0",
      "_model_name": "LayoutModel",
      "_view_count": null,
      "_view_module": "@jupyter-widgets/base",
      "_view_module_version": "1.2.0",
      "_view_name": "LayoutView",
      "align_content": null,
      "align_items": null,
      "align_self": null,
      "border": null,
      "bottom": null,
      "display": null,
      "flex": null,
      "flex_flow": null,
      "grid_area": null,
      "grid_auto_columns": null,
      "grid_auto_flow": null,
      "grid_auto_rows": null,
      "grid_column": null,
      "grid_gap": null,
      "grid_row": null,
      "grid_template_areas": null,
      "grid_template_columns": null,
      "grid_template_rows": null,
      "height": null,
      "justify_content": null,
      "justify_items": null,
      "left": null,
      "margin": null,
      "max_height": null,
      "max_width": null,
      "min_height": null,
      "min_width": null,
      "object_fit": null,
      "object_position": null,
      "order": null,
      "overflow": null,
      "overflow_x": null,
      "overflow_y": null,
      "padding": null,
      "right": null,
      "top": null,
      "visibility": null,
      "width": null
     }
    },
    "91cd75e497574a6ea2234a05a8177b6e": {
     "model_module": "@jupyter-widgets/base",
     "model_module_version": "1.2.0",
     "model_name": "LayoutModel",
     "state": {
      "_model_module": "@jupyter-widgets/base",
      "_model_module_version": "1.2.0",
      "_model_name": "LayoutModel",
      "_view_count": null,
      "_view_module": "@jupyter-widgets/base",
      "_view_module_version": "1.2.0",
      "_view_name": "LayoutView",
      "align_content": null,
      "align_items": null,
      "align_self": null,
      "border": null,
      "bottom": null,
      "display": null,
      "flex": null,
      "flex_flow": null,
      "grid_area": null,
      "grid_auto_columns": null,
      "grid_auto_flow": null,
      "grid_auto_rows": null,
      "grid_column": null,
      "grid_gap": null,
      "grid_row": null,
      "grid_template_areas": null,
      "grid_template_columns": null,
      "grid_template_rows": null,
      "height": null,
      "justify_content": null,
      "justify_items": null,
      "left": null,
      "margin": null,
      "max_height": null,
      "max_width": null,
      "min_height": null,
      "min_width": null,
      "object_fit": null,
      "object_position": null,
      "order": null,
      "overflow": null,
      "overflow_x": null,
      "overflow_y": null,
      "padding": null,
      "right": null,
      "top": null,
      "visibility": null,
      "width": null
     }
    },
    "ad851dfed2e94ec4a8a1e080dff638eb": {
     "model_module": "@jupyter-widgets/controls",
     "model_module_version": "1.5.0",
     "model_name": "HTMLModel",
     "state": {
      "_dom_classes": [],
      "_model_module": "@jupyter-widgets/controls",
      "_model_module_version": "1.5.0",
      "_model_name": "HTMLModel",
      "_view_count": null,
      "_view_module": "@jupyter-widgets/controls",
      "_view_module_version": "1.5.0",
      "_view_name": "HTMLView",
      "description": "",
      "description_tooltip": null,
      "layout": "IPY_MODEL_d711e21ddb6a4007863d8cf2887df6d6",
      "placeholder": "​",
      "style": "IPY_MODEL_da27fd081d0f4af0be9b7a8f9b2b16d7",
      "value": "  0%"
     }
    },
    "d711e21ddb6a4007863d8cf2887df6d6": {
     "model_module": "@jupyter-widgets/base",
     "model_module_version": "1.2.0",
     "model_name": "LayoutModel",
     "state": {
      "_model_module": "@jupyter-widgets/base",
      "_model_module_version": "1.2.0",
      "_model_name": "LayoutModel",
      "_view_count": null,
      "_view_module": "@jupyter-widgets/base",
      "_view_module_version": "1.2.0",
      "_view_name": "LayoutView",
      "align_content": null,
      "align_items": null,
      "align_self": null,
      "border": null,
      "bottom": null,
      "display": null,
      "flex": null,
      "flex_flow": null,
      "grid_area": null,
      "grid_auto_columns": null,
      "grid_auto_flow": null,
      "grid_auto_rows": null,
      "grid_column": null,
      "grid_gap": null,
      "grid_row": null,
      "grid_template_areas": null,
      "grid_template_columns": null,
      "grid_template_rows": null,
      "height": null,
      "justify_content": null,
      "justify_items": null,
      "left": null,
      "margin": null,
      "max_height": null,
      "max_width": null,
      "min_height": null,
      "min_width": null,
      "object_fit": null,
      "object_position": null,
      "order": null,
      "overflow": null,
      "overflow_x": null,
      "overflow_y": null,
      "padding": null,
      "right": null,
      "top": null,
      "visibility": null,
      "width": null
     }
    },
    "da27fd081d0f4af0be9b7a8f9b2b16d7": {
     "model_module": "@jupyter-widgets/controls",
     "model_module_version": "1.5.0",
     "model_name": "DescriptionStyleModel",
     "state": {
      "_model_module": "@jupyter-widgets/controls",
      "_model_module_version": "1.5.0",
      "_model_name": "DescriptionStyleModel",
      "_view_count": null,
      "_view_module": "@jupyter-widgets/base",
      "_view_module_version": "1.2.0",
      "_view_name": "StyleView",
      "description_width": ""
     }
    },
    "ff18e19e42da457799b7247739121cc2": {
     "model_module": "@jupyter-widgets/controls",
     "model_module_version": "1.5.0",
     "model_name": "FloatProgressModel",
     "state": {
      "_dom_classes": [],
      "_model_module": "@jupyter-widgets/controls",
      "_model_module_version": "1.5.0",
      "_model_name": "FloatProgressModel",
      "_view_count": null,
      "_view_module": "@jupyter-widgets/controls",
      "_view_module_version": "1.5.0",
      "_view_name": "ProgressView",
      "bar_style": "danger",
      "description": "",
      "description_tooltip": null,
      "layout": "IPY_MODEL_91cd75e497574a6ea2234a05a8177b6e",
      "max": 20,
      "min": 0,
      "orientation": "horizontal",
      "style": "IPY_MODEL_14becfef3a8f4df09f4f862b5bab3712",
      "value": 0
     }
    }
   }
  }
 },
 "nbformat": 4,
 "nbformat_minor": 1
}
