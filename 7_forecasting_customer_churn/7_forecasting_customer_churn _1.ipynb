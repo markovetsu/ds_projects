{
 "cells": [
  {
   "cell_type": "markdown",
   "metadata": {},
   "source": [
    "# Отток клиентов"
   ]
  },
  {
   "cell_type": "markdown",
   "metadata": {},
   "source": [
    "**Нам известно:** Из «Бета-Банка» стали уходить клиенты. Каждый месяц. Немного, но заметно. Банковские маркетологи посчитали: сохранять текущих клиентов дешевле, чем привлекать новых. Нам предоставлены исторические данные о поведении клиентов и расторжении договоров с банком.\n",
    "\n",
    "**Цель проекта:** Нужно спрогнозировать, уйдёт клиент из банка в ближайшее время или нет.\n",
    "\n",
    "**Задачи проекта:** Построить модель с предельно большим значением *F1*-меры. Чтобы считать проект успешным, нам нужно довести метрику до 0.59. Будем проводить проверку *F1*-меры на тестовой выборке.\n",
    "\n",
    "\n",
    "*Дополнительно измерим AUC-ROC, сравнивая её значение с F1-мерой.*"
   ]
  },
  {
   "cell_type": "markdown",
   "metadata": {},
   "source": [
    "# Описание данных\n",
    "\n",
    "\n",
    "**Признаки:**\n",
    "\n",
    "    RowNumber — индекс строки в данных\n",
    "    CustomerId — уникальный идентификатор клиента\n",
    "    Surname — фамилия\n",
    "    CreditScore — кредитный рейтинг\n",
    "    Geography — страна проживания\n",
    "    Gender — пол\n",
    "    Age — возраст\n",
    "    Tenure — сколько лет человек является клиентом банка\n",
    "    Balance — баланс на счёте\n",
    "    NumOfProducts — количество продуктов банка, используемых клиентом\n",
    "    HasCrCard — наличие кредитной карты\n",
    "    IsActiveMember — активность клиента\n",
    "    EstimatedSalary — предполагаемая зарплата\n",
    "    \n",
    "**Целевой признак:**\n",
    "\n",
    "    Exited — факт ухода клиента\n",
    "    \n",
    "    \n",
    "Источник данных: [https://www.kaggle.com/barelydedicated/bank-customer-churn-modeling](https://www.kaggle.com/barelydedicated/bank-customer-churn-modeling)"
   ]
  },
  {
   "cell_type": "markdown",
   "metadata": {},
   "source": [
    "# План работы\n",
    "\n",
    "1. Подготовка данных для дальнейшего исследования и анализа (EDA)\n",
    "2. Исследование задачи: подбор оптимальной модели и ее гиперпараметров без учета дисбаланнса\n",
    "3. Борьба с дисбалансом: создание функций для корректного анализа отобранной модели \n",
    "4. Проведение тестирование модели на отложенной выборке с целью проверки корретности разработанного алгоритма"
   ]
  },
  {
   "cell_type": "markdown",
   "metadata": {},
   "source": [
    "## Подготовка данных"
   ]
  },
  {
   "cell_type": "code",
   "execution_count": 1,
   "metadata": {},
   "outputs": [],
   "source": [
    "from sklearn.tree import DecisionTreeClassifier\n",
    "from sklearn.ensemble import RandomForestClassifier\n",
    "from sklearn.model_selection import train_test_split\n",
    "from sklearn.preprocessing import StandardScaler\n",
    "from sklearn.metrics import f1_score, roc_auc_score, recall_score,  precision_score\n",
    "from sklearn.utils import shuffle\n",
    "from sklearn.metrics import mean_squared_error\n",
    "from sklearn.metrics import mean_absolute_error\n",
    "from sklearn.metrics import r2_score\n",
    "from sklearn.metrics import accuracy_score\n",
    "from sklearn.model_selection import GridSearchCV\n",
    "from sklearn.metrics import precision_recall_curve\n",
    "from tqdm import tqdm\n",
    "\n",
    "import pandas as pd\n",
    "import random \n",
    "import numpy as np\n",
    "import matplotlib as plt\n",
    "import matplotlib.pyplot as plt\n",
    "\n",
    "# warnings.filterwarnings(\"ignore\")"
   ]
  },
  {
   "cell_type": "code",
   "execution_count": 2,
   "metadata": {},
   "outputs": [],
   "source": [
    "try:\n",
    "    df = pd.read_csv(\"/datasets/Churn.csv\")\n",
    "except:\n",
    "     print(\"Проверьте коректность имени пути к файлу или наличие самого файла в каталоге!\")"
   ]
  },
  {
   "cell_type": "code",
   "execution_count": 3,
   "metadata": {},
   "outputs": [
    {
     "data": {
      "text/html": [
       "<div>\n",
       "<style scoped>\n",
       "    .dataframe tbody tr th:only-of-type {\n",
       "        vertical-align: middle;\n",
       "    }\n",
       "\n",
       "    .dataframe tbody tr th {\n",
       "        vertical-align: top;\n",
       "    }\n",
       "\n",
       "    .dataframe thead th {\n",
       "        text-align: right;\n",
       "    }\n",
       "</style>\n",
       "<table border=\"1\" class=\"dataframe\">\n",
       "  <thead>\n",
       "    <tr style=\"text-align: right;\">\n",
       "      <th></th>\n",
       "      <th>RowNumber</th>\n",
       "      <th>CustomerId</th>\n",
       "      <th>Surname</th>\n",
       "      <th>CreditScore</th>\n",
       "      <th>Geography</th>\n",
       "      <th>Gender</th>\n",
       "      <th>Age</th>\n",
       "      <th>Tenure</th>\n",
       "      <th>Balance</th>\n",
       "      <th>NumOfProducts</th>\n",
       "      <th>HasCrCard</th>\n",
       "      <th>IsActiveMember</th>\n",
       "      <th>EstimatedSalary</th>\n",
       "      <th>Exited</th>\n",
       "    </tr>\n",
       "  </thead>\n",
       "  <tbody>\n",
       "    <tr>\n",
       "      <th>0</th>\n",
       "      <td>1</td>\n",
       "      <td>15634602</td>\n",
       "      <td>Hargrave</td>\n",
       "      <td>619</td>\n",
       "      <td>France</td>\n",
       "      <td>Female</td>\n",
       "      <td>42</td>\n",
       "      <td>2.0</td>\n",
       "      <td>0.00</td>\n",
       "      <td>1</td>\n",
       "      <td>1</td>\n",
       "      <td>1</td>\n",
       "      <td>101348.88</td>\n",
       "      <td>1</td>\n",
       "    </tr>\n",
       "    <tr>\n",
       "      <th>1</th>\n",
       "      <td>2</td>\n",
       "      <td>15647311</td>\n",
       "      <td>Hill</td>\n",
       "      <td>608</td>\n",
       "      <td>Spain</td>\n",
       "      <td>Female</td>\n",
       "      <td>41</td>\n",
       "      <td>1.0</td>\n",
       "      <td>83807.86</td>\n",
       "      <td>1</td>\n",
       "      <td>0</td>\n",
       "      <td>1</td>\n",
       "      <td>112542.58</td>\n",
       "      <td>0</td>\n",
       "    </tr>\n",
       "    <tr>\n",
       "      <th>2</th>\n",
       "      <td>3</td>\n",
       "      <td>15619304</td>\n",
       "      <td>Onio</td>\n",
       "      <td>502</td>\n",
       "      <td>France</td>\n",
       "      <td>Female</td>\n",
       "      <td>42</td>\n",
       "      <td>8.0</td>\n",
       "      <td>159660.80</td>\n",
       "      <td>3</td>\n",
       "      <td>1</td>\n",
       "      <td>0</td>\n",
       "      <td>113931.57</td>\n",
       "      <td>1</td>\n",
       "    </tr>\n",
       "    <tr>\n",
       "      <th>3</th>\n",
       "      <td>4</td>\n",
       "      <td>15701354</td>\n",
       "      <td>Boni</td>\n",
       "      <td>699</td>\n",
       "      <td>France</td>\n",
       "      <td>Female</td>\n",
       "      <td>39</td>\n",
       "      <td>1.0</td>\n",
       "      <td>0.00</td>\n",
       "      <td>2</td>\n",
       "      <td>0</td>\n",
       "      <td>0</td>\n",
       "      <td>93826.63</td>\n",
       "      <td>0</td>\n",
       "    </tr>\n",
       "    <tr>\n",
       "      <th>4</th>\n",
       "      <td>5</td>\n",
       "      <td>15737888</td>\n",
       "      <td>Mitchell</td>\n",
       "      <td>850</td>\n",
       "      <td>Spain</td>\n",
       "      <td>Female</td>\n",
       "      <td>43</td>\n",
       "      <td>2.0</td>\n",
       "      <td>125510.82</td>\n",
       "      <td>1</td>\n",
       "      <td>1</td>\n",
       "      <td>1</td>\n",
       "      <td>79084.10</td>\n",
       "      <td>0</td>\n",
       "    </tr>\n",
       "  </tbody>\n",
       "</table>\n",
       "</div>"
      ],
      "text/plain": [
       "   RowNumber  CustomerId   Surname  CreditScore Geography  Gender  Age  \\\n",
       "0          1    15634602  Hargrave          619    France  Female   42   \n",
       "1          2    15647311      Hill          608     Spain  Female   41   \n",
       "2          3    15619304      Onio          502    France  Female   42   \n",
       "3          4    15701354      Boni          699    France  Female   39   \n",
       "4          5    15737888  Mitchell          850     Spain  Female   43   \n",
       "\n",
       "   Tenure    Balance  NumOfProducts  HasCrCard  IsActiveMember  \\\n",
       "0     2.0       0.00              1          1               1   \n",
       "1     1.0   83807.86              1          0               1   \n",
       "2     8.0  159660.80              3          1               0   \n",
       "3     1.0       0.00              2          0               0   \n",
       "4     2.0  125510.82              1          1               1   \n",
       "\n",
       "   EstimatedSalary  Exited  \n",
       "0        101348.88       1  \n",
       "1        112542.58       0  \n",
       "2        113931.57       1  \n",
       "3         93826.63       0  \n",
       "4         79084.10       0  "
      ]
     },
     "execution_count": 3,
     "metadata": {},
     "output_type": "execute_result"
    }
   ],
   "source": [
    "df.head()"
   ]
  },
  {
   "cell_type": "code",
   "execution_count": 4,
   "metadata": {},
   "outputs": [
    {
     "data": {
      "text/plain": [
       "RowNumber            0\n",
       "CustomerId           0\n",
       "Surname              0\n",
       "CreditScore          0\n",
       "Geography            0\n",
       "Gender               0\n",
       "Age                  0\n",
       "Tenure             909\n",
       "Balance              0\n",
       "NumOfProducts        0\n",
       "HasCrCard            0\n",
       "IsActiveMember       0\n",
       "EstimatedSalary      0\n",
       "Exited               0\n",
       "dtype: int64"
      ]
     },
     "execution_count": 4,
     "metadata": {},
     "output_type": "execute_result"
    }
   ],
   "source": [
    "df.isna().sum()"
   ]
  },
  {
   "cell_type": "code",
   "execution_count": 5,
   "metadata": {},
   "outputs": [
    {
     "name": "stdout",
     "output_type": "stream",
     "text": [
      "Кол-во явных дубликтов для столбца RowNumber равняется 0\n",
      "Кол-во явных дубликтов для столбца CustomerId равняется 0\n",
      "Кол-во явных дубликтов для столбца Surname равняется 7068\n",
      "Кол-во явных дубликтов для столбца CreditScore равняется 9540\n",
      "Кол-во явных дубликтов для столбца Geography равняется 9997\n",
      "Кол-во явных дубликтов для столбца Gender равняется 9998\n",
      "Кол-во явных дубликтов для столбца Age равняется 9930\n",
      "Кол-во явных дубликтов для столбца Tenure равняется 9988\n",
      "Кол-во явных дубликтов для столбца Balance равняется 3618\n",
      "Кол-во явных дубликтов для столбца NumOfProducts равняется 9996\n",
      "Кол-во явных дубликтов для столбца HasCrCard равняется 9998\n",
      "Кол-во явных дубликтов для столбца IsActiveMember равняется 9998\n",
      "Кол-во явных дубликтов для столбца EstimatedSalary равняется 1\n",
      "Кол-во явных дубликтов для столбца Exited равняется 9998\n"
     ]
    }
   ],
   "source": [
    "for x in df.columns:\n",
    "    print(\"Кол-во явных дубликтов для столбца\", x, \"равняется\", df[x].duplicated().sum())"
   ]
  },
  {
   "cell_type": "code",
   "execution_count": 6,
   "metadata": {},
   "outputs": [
    {
     "name": "stdout",
     "output_type": "stream",
     "text": [
      "<class 'pandas.core.frame.DataFrame'>\n",
      "RangeIndex: 10000 entries, 0 to 9999\n",
      "Data columns (total 14 columns):\n",
      " #   Column           Non-Null Count  Dtype  \n",
      "---  ------           --------------  -----  \n",
      " 0   RowNumber        10000 non-null  int64  \n",
      " 1   CustomerId       10000 non-null  int64  \n",
      " 2   Surname          10000 non-null  object \n",
      " 3   CreditScore      10000 non-null  int64  \n",
      " 4   Geography        10000 non-null  object \n",
      " 5   Gender           10000 non-null  object \n",
      " 6   Age              10000 non-null  int64  \n",
      " 7   Tenure           9091 non-null   float64\n",
      " 8   Balance          10000 non-null  float64\n",
      " 9   NumOfProducts    10000 non-null  int64  \n",
      " 10  HasCrCard        10000 non-null  int64  \n",
      " 11  IsActiveMember   10000 non-null  int64  \n",
      " 12  EstimatedSalary  10000 non-null  float64\n",
      " 13  Exited           10000 non-null  int64  \n",
      "dtypes: float64(3), int64(8), object(3)\n",
      "memory usage: 1.1+ MB\n"
     ]
    }
   ],
   "source": [
    "df.info()"
   ]
  },
  {
   "cell_type": "code",
   "execution_count": 7,
   "metadata": {},
   "outputs": [
    {
     "data": {
      "image/png": "[encoded data removed]",
      "text/plain": [
       "<Figure size 1080x1080 with 12 Axes>"
      ]
     },
     "metadata": {
      "needs_background": "light"
     },
     "output_type": "display_data"
    }
   ],
   "source": [
    "df.hist(figsize=(15, 15))\n",
    "plt.show()"
   ]
  },
  {
   "cell_type": "code",
   "execution_count": 8,
   "metadata": {
    "scrolled": true
   },
   "outputs": [
    {
     "data": {
      "text/html": [
       "<div>\n",
       "<style scoped>\n",
       "    .dataframe tbody tr th:only-of-type {\n",
       "        vertical-align: middle;\n",
       "    }\n",
       "\n",
       "    .dataframe tbody tr th {\n",
       "        vertical-align: top;\n",
       "    }\n",
       "\n",
       "    .dataframe thead th {\n",
       "        text-align: right;\n",
       "    }\n",
       "</style>\n",
       "<table border=\"1\" class=\"dataframe\">\n",
       "  <thead>\n",
       "    <tr style=\"text-align: right;\">\n",
       "      <th></th>\n",
       "      <th>RowNumber</th>\n",
       "      <th>CustomerId</th>\n",
       "      <th>Surname</th>\n",
       "      <th>CreditScore</th>\n",
       "      <th>Geography</th>\n",
       "      <th>Gender</th>\n",
       "      <th>Age</th>\n",
       "      <th>Tenure</th>\n",
       "      <th>Balance</th>\n",
       "      <th>NumOfProducts</th>\n",
       "      <th>HasCrCard</th>\n",
       "      <th>IsActiveMember</th>\n",
       "      <th>EstimatedSalary</th>\n",
       "      <th>Exited</th>\n",
       "    </tr>\n",
       "  </thead>\n",
       "  <tbody>\n",
       "    <tr>\n",
       "      <th>count</th>\n",
       "      <td>10000.00000</td>\n",
       "      <td>1.000000e+04</td>\n",
       "      <td>10000</td>\n",
       "      <td>10000.000000</td>\n",
       "      <td>10000</td>\n",
       "      <td>10000</td>\n",
       "      <td>10000.000000</td>\n",
       "      <td>9091.000000</td>\n",
       "      <td>10000.000000</td>\n",
       "      <td>10000.000000</td>\n",
       "      <td>10000.00000</td>\n",
       "      <td>10000.000000</td>\n",
       "      <td>10000.000000</td>\n",
       "      <td>10000.000000</td>\n",
       "    </tr>\n",
       "    <tr>\n",
       "      <th>unique</th>\n",
       "      <td>NaN</td>\n",
       "      <td>NaN</td>\n",
       "      <td>2932</td>\n",
       "      <td>NaN</td>\n",
       "      <td>3</td>\n",
       "      <td>2</td>\n",
       "      <td>NaN</td>\n",
       "      <td>NaN</td>\n",
       "      <td>NaN</td>\n",
       "      <td>NaN</td>\n",
       "      <td>NaN</td>\n",
       "      <td>NaN</td>\n",
       "      <td>NaN</td>\n",
       "      <td>NaN</td>\n",
       "    </tr>\n",
       "    <tr>\n",
       "      <th>top</th>\n",
       "      <td>NaN</td>\n",
       "      <td>NaN</td>\n",
       "      <td>Smith</td>\n",
       "      <td>NaN</td>\n",
       "      <td>France</td>\n",
       "      <td>Male</td>\n",
       "      <td>NaN</td>\n",
       "      <td>NaN</td>\n",
       "      <td>NaN</td>\n",
       "      <td>NaN</td>\n",
       "      <td>NaN</td>\n",
       "      <td>NaN</td>\n",
       "      <td>NaN</td>\n",
       "      <td>NaN</td>\n",
       "    </tr>\n",
       "    <tr>\n",
       "      <th>freq</th>\n",
       "      <td>NaN</td>\n",
       "      <td>NaN</td>\n",
       "      <td>32</td>\n",
       "      <td>NaN</td>\n",
       "      <td>5014</td>\n",
       "      <td>5457</td>\n",
       "      <td>NaN</td>\n",
       "      <td>NaN</td>\n",
       "      <td>NaN</td>\n",
       "      <td>NaN</td>\n",
       "      <td>NaN</td>\n",
       "      <td>NaN</td>\n",
       "      <td>NaN</td>\n",
       "      <td>NaN</td>\n",
       "    </tr>\n",
       "    <tr>\n",
       "      <th>mean</th>\n",
       "      <td>5000.50000</td>\n",
       "      <td>1.569094e+07</td>\n",
       "      <td>NaN</td>\n",
       "      <td>650.528800</td>\n",
       "      <td>NaN</td>\n",
       "      <td>NaN</td>\n",
       "      <td>38.921800</td>\n",
       "      <td>4.997690</td>\n",
       "      <td>76485.889288</td>\n",
       "      <td>1.530200</td>\n",
       "      <td>0.70550</td>\n",
       "      <td>0.515100</td>\n",
       "      <td>100090.239881</td>\n",
       "      <td>0.203700</td>\n",
       "    </tr>\n",
       "    <tr>\n",
       "      <th>std</th>\n",
       "      <td>2886.89568</td>\n",
       "      <td>7.193619e+04</td>\n",
       "      <td>NaN</td>\n",
       "      <td>96.653299</td>\n",
       "      <td>NaN</td>\n",
       "      <td>NaN</td>\n",
       "      <td>10.487806</td>\n",
       "      <td>2.894723</td>\n",
       "      <td>62397.405202</td>\n",
       "      <td>0.581654</td>\n",
       "      <td>0.45584</td>\n",
       "      <td>0.499797</td>\n",
       "      <td>57510.492818</td>\n",
       "      <td>0.402769</td>\n",
       "    </tr>\n",
       "    <tr>\n",
       "      <th>min</th>\n",
       "      <td>1.00000</td>\n",
       "      <td>1.556570e+07</td>\n",
       "      <td>NaN</td>\n",
       "      <td>350.000000</td>\n",
       "      <td>NaN</td>\n",
       "      <td>NaN</td>\n",
       "      <td>18.000000</td>\n",
       "      <td>0.000000</td>\n",
       "      <td>0.000000</td>\n",
       "      <td>1.000000</td>\n",
       "      <td>0.00000</td>\n",
       "      <td>0.000000</td>\n",
       "      <td>11.580000</td>\n",
       "      <td>0.000000</td>\n",
       "    </tr>\n",
       "    <tr>\n",
       "      <th>25%</th>\n",
       "      <td>2500.75000</td>\n",
       "      <td>1.562853e+07</td>\n",
       "      <td>NaN</td>\n",
       "      <td>584.000000</td>\n",
       "      <td>NaN</td>\n",
       "      <td>NaN</td>\n",
       "      <td>32.000000</td>\n",
       "      <td>2.000000</td>\n",
       "      <td>0.000000</td>\n",
       "      <td>1.000000</td>\n",
       "      <td>0.00000</td>\n",
       "      <td>0.000000</td>\n",
       "      <td>51002.110000</td>\n",
       "      <td>0.000000</td>\n",
       "    </tr>\n",
       "    <tr>\n",
       "      <th>50%</th>\n",
       "      <td>5000.50000</td>\n",
       "      <td>1.569074e+07</td>\n",
       "      <td>NaN</td>\n",
       "      <td>652.000000</td>\n",
       "      <td>NaN</td>\n",
       "      <td>NaN</td>\n",
       "      <td>37.000000</td>\n",
       "      <td>5.000000</td>\n",
       "      <td>97198.540000</td>\n",
       "      <td>1.000000</td>\n",
       "      <td>1.00000</td>\n",
       "      <td>1.000000</td>\n",
       "      <td>100193.915000</td>\n",
       "      <td>0.000000</td>\n",
       "    </tr>\n",
       "    <tr>\n",
       "      <th>75%</th>\n",
       "      <td>7500.25000</td>\n",
       "      <td>1.575323e+07</td>\n",
       "      <td>NaN</td>\n",
       "      <td>718.000000</td>\n",
       "      <td>NaN</td>\n",
       "      <td>NaN</td>\n",
       "      <td>44.000000</td>\n",
       "      <td>7.000000</td>\n",
       "      <td>127644.240000</td>\n",
       "      <td>2.000000</td>\n",
       "      <td>1.00000</td>\n",
       "      <td>1.000000</td>\n",
       "      <td>149388.247500</td>\n",
       "      <td>0.000000</td>\n",
       "    </tr>\n",
       "    <tr>\n",
       "      <th>max</th>\n",
       "      <td>10000.00000</td>\n",
       "      <td>1.581569e+07</td>\n",
       "      <td>NaN</td>\n",
       "      <td>850.000000</td>\n",
       "      <td>NaN</td>\n",
       "      <td>NaN</td>\n",
       "      <td>92.000000</td>\n",
       "      <td>10.000000</td>\n",
       "      <td>250898.090000</td>\n",
       "      <td>4.000000</td>\n",
       "      <td>1.00000</td>\n",
       "      <td>1.000000</td>\n",
       "      <td>199992.480000</td>\n",
       "      <td>1.000000</td>\n",
       "    </tr>\n",
       "  </tbody>\n",
       "</table>\n",
       "</div>"
      ],
      "text/plain": [
       "          RowNumber    CustomerId Surname   CreditScore Geography Gender  \\\n",
       "count   10000.00000  1.000000e+04   10000  10000.000000     10000  10000   \n",
       "unique          NaN           NaN    2932           NaN         3      2   \n",
       "top             NaN           NaN   Smith           NaN    France   Male   \n",
       "freq            NaN           NaN      32           NaN      5014   5457   \n",
       "mean     5000.50000  1.569094e+07     NaN    650.528800       NaN    NaN   \n",
       "std      2886.89568  7.193619e+04     NaN     96.653299       NaN    NaN   \n",
       "min         1.00000  1.556570e+07     NaN    350.000000       NaN    NaN   \n",
       "25%      2500.75000  1.562853e+07     NaN    584.000000       NaN    NaN   \n",
       "50%      5000.50000  1.569074e+07     NaN    652.000000       NaN    NaN   \n",
       "75%      7500.25000  1.575323e+07     NaN    718.000000       NaN    NaN   \n",
       "max     10000.00000  1.581569e+07     NaN    850.000000       NaN    NaN   \n",
       "\n",
       "                 Age       Tenure        Balance  NumOfProducts    HasCrCard  \\\n",
       "count   10000.000000  9091.000000   10000.000000   10000.000000  10000.00000   \n",
       "unique           NaN          NaN            NaN            NaN          NaN   \n",
       "top              NaN          NaN            NaN            NaN          NaN   \n",
       "freq             NaN          NaN            NaN            NaN          NaN   \n",
       "mean       38.921800     4.997690   76485.889288       1.530200      0.70550   \n",
       "std        10.487806     2.894723   62397.405202       0.581654      0.45584   \n",
       "min        18.000000     0.000000       0.000000       1.000000      0.00000   \n",
       "25%        32.000000     2.000000       0.000000       1.000000      0.00000   \n",
       "50%        37.000000     5.000000   97198.540000       1.000000      1.00000   \n",
       "75%        44.000000     7.000000  127644.240000       2.000000      1.00000   \n",
       "max        92.000000    10.000000  250898.090000       4.000000      1.00000   \n",
       "\n",
       "        IsActiveMember  EstimatedSalary        Exited  \n",
       "count     10000.000000     10000.000000  10000.000000  \n",
       "unique             NaN              NaN           NaN  \n",
       "top                NaN              NaN           NaN  \n",
       "freq               NaN              NaN           NaN  \n",
       "mean          0.515100    100090.239881      0.203700  \n",
       "std           0.499797     57510.492818      0.402769  \n",
       "min           0.000000        11.580000      0.000000  \n",
       "25%           0.000000     51002.110000      0.000000  \n",
       "50%           1.000000    100193.915000      0.000000  \n",
       "75%           1.000000    149388.247500      0.000000  \n",
       "max           1.000000    199992.480000      1.000000  "
      ]
     },
     "execution_count": 8,
     "metadata": {},
     "output_type": "execute_result"
    }
   ],
   "source": [
    "df.describe(include='all')"
   ]
  },
  {
   "cell_type": "markdown",
   "metadata": {},
   "source": [
    "**Промежуточные выводы:**\n",
    " \n",
    "   1. Видно, что у целевого признака есть явный дисбаланс классов: фактический уход клиентов практически в 4 раза меньше, чем отсутствие фактического ухода клиентов.\n",
    "   2. Графики кредитного рейтинга и возраста близки к нормальному распределению;\n",
    "   3. Признаки наличие кредитной карты и активность клиента представляют собой бинарную классификацию, где у первой тех кто имеет кредитную карту практически в 2.5 раза больше, чем тех кто не имеет, в то время как у второго обе категориальные переменные практически равны; \n",
    "   4. Количество продуктов банка, использумых клиентов представляет собой дискретную классификацию, у которой наблюдается практически равное соотноотношение у тех, кто использует 1-2 продукта, и явно видна малая часть тех, кто использует 3 и 4 соотвественно.\n",
    "   5. У признака баланс видна значимая доля тех, у кого баланс на счете составляет 0, - что может сведетельствовать о том, что это либо новые клиенты, либо люди более не пополняют свой баланс"
   ]
  },
  {
   "cell_type": "markdown",
   "metadata": {},
   "source": [
    "****"
   ]
  },
  {
   "cell_type": "markdown",
   "metadata": {},
   "source": [
    "## Исследование задачи"
   ]
  },
  {
   "cell_type": "markdown",
   "metadata": {},
   "source": [
    "**В данном разделе остановимся на том, что необходимо:**\n",
    "  1. Отбросить неинформативные для нас признаки;\n",
    "  2. Преобразовать категориальные признаки в количественные при помощи техники one-hot-encoding;\n",
    "  3. Избавится от пропусков с помощью замены на медианное значение;\n",
    "  4. Разделить выборки,  проверить корретность их деления в соотношении 3:1:1;\n",
    "  5. Масштабировать определенные признаки за счет того, что их количественные оценки огромны;\n",
    "  6. Провести подбор оптимальных гиперпараметров через цикл и через GreadSearchCV;"
   ]
  },
  {
   "cell_type": "markdown",
   "metadata": {},
   "source": [
    "Отбросить неинформативные для нас признаки;"
   ]
  },
  {
   "cell_type": "code",
   "execution_count": 9,
   "metadata": {},
   "outputs": [],
   "source": [
    "df = df.drop([\"Surname\", \"CustomerId\", \"RowNumber\"], axis=1)"
   ]
  },
  {
   "cell_type": "markdown",
   "metadata": {},
   "source": [
    "Избавится от пропусков с помощью замены на медианное значение;"
   ]
  },
  {
   "cell_type": "code",
   "execution_count": 10,
   "metadata": {},
   "outputs": [],
   "source": [
    "v = df['Tenure'].median()\n",
    "df['Tenure'] =  df['Tenure'].fillna(v)"
   ]
  },
  {
   "cell_type": "markdown",
   "metadata": {},
   "source": [
    "Преобразовать категориальные признаки в количественные при помощи техники one-hot-encoding;"
   ]
  },
  {
   "cell_type": "code",
   "execution_count": 13,
   "metadata": {},
   "outputs": [],
   "source": [
    "df = pd.get_dummies(df, drop_first=True)"
   ]
  },
  {
   "cell_type": "markdown",
   "metadata": {},
   "source": [
    "Зададим целевой признак и признаки, от которых строится прогноз по целевому"
   ]
  },
  {
   "cell_type": "code",
   "execution_count": 14,
   "metadata": {},
   "outputs": [],
   "source": [
    "features = df.drop(\"Exited\",axis=1)\n",
    "target = df['Exited']"
   ]
  },
  {
   "cell_type": "markdown",
   "metadata": {},
   "source": [
    "Разделить выборки, проверить корретность их деления в соотношении 3:1:1;"
   ]
  },
  {
   "cell_type": "code",
   "execution_count": 15,
   "metadata": {},
   "outputs": [],
   "source": [
    "features_train, features_test, target_train, target_test = train_test_split(features, target, \n",
    "                                                                                      train_size=0.6, \n",
    "                                                                                      random_state=42,\n",
    "                                                                                      stratify=target)"
   ]
  },
  {
   "cell_type": "code",
   "execution_count": 16,
   "metadata": {},
   "outputs": [],
   "source": [
    "features_test, features_validate, target_test, target_validate = train_test_split(features_test, target_test, \n",
    "                                                                                      train_size=0.5, \n",
    "                                                                                      random_state=42,\n",
    "                                                                                      stratify=target_test)"
   ]
  },
  {
   "cell_type": "code",
   "execution_count": 17,
   "metadata": {},
   "outputs": [
    {
     "name": "stdout",
     "output_type": "stream",
     "text": [
      "2037\n",
      "\n",
      "0.5999018163966617\n",
      "0.20029455081001474\n",
      "0.19980363279332353\n"
     ]
    }
   ],
   "source": [
    "print(df['Exited'].sum())\n",
    "p = df['Exited'].sum()\n",
    "print()\n",
    "print(target_train.sum() / p)\n",
    "print(target_test.sum() / p)\n",
    "print(target_validate.sum() / p)"
   ]
  },
  {
   "cell_type": "markdown",
   "metadata": {},
   "source": [
    "Масштабировать определенные признаки за счет того, что их количественные оценки огромны;"
   ]
  },
  {
   "cell_type": "code",
   "execution_count": 18,
   "metadata": {},
   "outputs": [
    {
     "name": "stderr",
     "output_type": "stream",
     "text": [
      "/tmp/ipykernel_174/1754425726.py:6: SettingWithCopyWarning: \n",
      "A value is trying to be set on a copy of a slice from a DataFrame.\n",
      "Try using .loc[row_indexer,col_indexer] = value instead\n",
      "\n",
      "See the caveats in the documentation: https://pandas.pydata.org/pandas-docs/stable/user_guide/indexing.html#returning-a-view-versus-a-copy\n",
      "  features_train[numeric] = scaler.transform(features_train[numeric])\n",
      "/opt/conda/lib/python3.9/site-packages/pandas/core/indexing.py:1738: SettingWithCopyWarning: \n",
      "A value is trying to be set on a copy of a slice from a DataFrame.\n",
      "Try using .loc[row_indexer,col_indexer] = value instead\n",
      "\n",
      "See the caveats in the documentation: https://pandas.pydata.org/pandas-docs/stable/user_guide/indexing.html#returning-a-view-versus-a-copy\n",
      "  self._setitem_single_column(loc, value[:, i].tolist(), pi)\n"
     ]
    }
   ],
   "source": [
    "numeric = ['Balance', 'EstimatedSalary']\n",
    "\n",
    "scaler = StandardScaler()\n",
    "scaler.fit(features_train[numeric])\n",
    "\n",
    "features_train[numeric] = scaler.transform(features_train[numeric])\n",
    "features_validate[numeric] = scaler.transform(features_validate[numeric])\n",
    "features_test[numeric] = scaler.transform(features_test[numeric])"
   ]
  },
  {
   "cell_type": "markdown",
   "metadata": {},
   "source": [
    "**Проведем подбор оптимальных гиперпараметров через цикл и через GreadSearchCV:**"
   ]
  },
  {
   "cell_type": "code",
   "execution_count": 19,
   "metadata": {},
   "outputs": [
    {
     "name": "stderr",
     "output_type": "stream",
     "text": [
      "100%|██████████| 9/9 [00:00<00:00, 132.21it/s]\n",
      "100%|██████████| 9/9 [00:00<00:00, 76.50it/s]\n",
      "100%|██████████| 9/9 [00:00<00:00, 67.96it/s]\n",
      "100%|██████████| 9/9 [00:00<00:00, 58.43it/s]\n",
      "100%|██████████| 9/9 [00:00<00:00, 55.07it/s]\n",
      "100%|██████████| 9/9 [00:00<00:00, 45.77it/s]\n",
      "100%|██████████| 9/9 [00:00<00:00, 38.76it/s]\n",
      "100%|██████████| 9/9 [00:00<00:00, 37.72it/s]\n",
      "100%|██████████| 9/9 [00:00<00:00, 32.86it/s]"
     ]
    },
    {
     "name": "stdout",
     "output_type": "stream",
     "text": [
      "\n",
      "Наилучшая модель на валидационной выборке: 0.8545 Глубина дерева: 5 Минимальное число разделений: 2\n",
      "Использовался критерий 'gini'\n",
      "CPU times: user 1.48 s, sys: 35.7 ms, total: 1.52 s\n",
      "Wall time: 1.61 s\n"
     ]
    },
    {
     "name": "stderr",
     "output_type": "stream",
     "text": [
      "\n"
     ]
    }
   ],
   "source": [
    "%%time \n",
    "max_depth = None\n",
    "min_samples_split = None\n",
    "best_result = 0\n",
    "best_depth = 0\n",
    "best_msp = 0\n",
    "for depth in range(1, 10):\n",
    "    for msp in tqdm(range(2, 11)): # tqdm будет показывать время выполнения когда проходимся по циклу\n",
    "        model = DecisionTreeClassifier(random_state=12345, max_depth=depth, criterion='gini', min_samples_split=msp) # инициализируем модель DecisionTreeClassifier с параметрами проходящими по циклу\n",
    "        model = model.fit(features_train, target_train) # обучим модель на тренировочной выборке\n",
    "        predictions_valid = model.predict(features_validate) # получим предсказания модели на валидационной выборке\n",
    "        # print(\"min_samples_split=\", msp, \"     max_depth =\", depth, \"    accuracy_score: \", end='')\n",
    "        result = accuracy_score(target_validate, predictions_valid) # посчитаем значение метрики  accuracy_score на валидационной выборке\n",
    "        # print(accuracy_score(target_validate, predictions_valid))\n",
    "        if result > best_result:\n",
    "            best_model = model\n",
    "            best_result = result\n",
    "            best_depth = depth\n",
    "            best_msp = msp\n",
    "            \n",
    "print()\n",
    "print(\"Наилучшая модель на валидационной выборке:\", best_result, \"Глубина дерева:\", best_depth, \"Минимальное число разделений:\", best_msp)\n",
    "print(\"Использовался критерий 'gini'\")\n",
    "# %%time измерит в конце время ожидания и выполнения "
   ]
  },
  {
   "cell_type": "code",
   "execution_count": 20,
   "metadata": {},
   "outputs": [
    {
     "name": "stderr",
     "output_type": "stream",
     "text": [
      "100%|██████████| 7/7 [00:34<00:00,  4.94s/it]"
     ]
    },
    {
     "name": "stdout",
     "output_type": "stream",
     "text": [
      "\n",
      "Наилучшая модель на валидационной выборке: 0.863 Оценки: 103 Минимальное число листов: 3\n",
      "Использовался критерий 'gini'\n",
      "CPU times: user 34.1 s, sys: 293 ms, total: 34.4 s\n",
      "Wall time: 34.6 s\n"
     ]
    },
    {
     "name": "stderr",
     "output_type": "stream",
     "text": [
      "\n"
     ]
    }
   ],
   "source": [
    "%%time \n",
    "n_estimators = None\n",
    "min_samples_leaf = None\n",
    "best_result = 0\n",
    "best_estimators = 0\n",
    "best_msl = 0\n",
    "for estimators in tqdm(range(100, 107)): # tqdm будет показывать время выполнения когда проходимся по циклу\n",
    "    for msl in range(1, 7):\n",
    "        model = RandomForestClassifier(random_state=12345, n_estimators=estimators, criterion=\"gini\", min_samples_leaf=msl) # инициализируем модель RandomForestClassifier с параметрами проходящими по циклу\n",
    "        model = model.fit(features_train, target_train) # обучим модель на тренировочной выборке\n",
    "        predictions_valid = model.predict(features_validate)  # получим предсказания модели на валидационной выборке\n",
    "        # print(\"min_samples_leaf=\", msl,\"    n_estimators =\", estimators, \"    accuracy_score: \", end='')\n",
    "        result = accuracy_score(target_validate, predictions_valid)  # посчитаем значение метрики  accuracy_score на валидационной выборке\n",
    "        # print(accuracy_score(target_validate, predictions_valid))\n",
    "        if result > best_result:\n",
    "            best_model = model\n",
    "            best_result = result\n",
    "            best_estimators = estimators\n",
    "            best_msl = msl\n",
    "        \n",
    "print()\n",
    "print(\"Наилучшая модель на валидационной выборке:\", best_result, \"Оценки:\", best_estimators, \"Минимальное число листов:\", best_msl)\n",
    "print(\"Использовался критерий 'gini'\")\n",
    "# %%time измерит в конце время ожидания и выполнения "
   ]
  },
  {
   "cell_type": "code",
   "execution_count": 21,
   "metadata": {},
   "outputs": [
    {
     "name": "stdout",
     "output_type": "stream",
     "text": [
      "RandomForestClassifier(min_samples_leaf=4, n_estimators=102, random_state=12345)\n",
      "0.8623333333333335\n",
      "CPU times: user 2min 25s, sys: 1.06 s, total: 2min 26s\n",
      "Wall time: 2min 26s\n"
     ]
    }
   ],
   "source": [
    "%%time  \n",
    "\n",
    "model_gs = RandomForestClassifier(random_state=12345, criterion=\"gini\")\n",
    "\n",
    "parametrs_gs  = {\n",
    "    'n_estimators': [100, 102, 103, 104, 105, 106, 107],\n",
    "    'min_samples_leaf': [1, 2, 3, 4, 5, 6, 7],\n",
    "}\n",
    "\n",
    "\n",
    "gs = GridSearchCV(estimator = model_gs,\n",
    "                  param_grid = parametrs_gs,\n",
    "                  cv=5)\n",
    "\n",
    "# gs.fit(pd.concat([features_train, features_validate]), pd.concat([target_train, target_validate]))\n",
    "gs.fit(features_train, target_train)\n",
    "print(gs.best_estimator_)\n",
    "print(gs.best_score_)\n",
    "\n",
    "# CPU times: user 2min 35s, sys: 571 ms, total: 2min 36s\n",
    "# Wall time: 2min 36s"
   ]
  },
  {
   "cell_type": "code",
   "execution_count": 22,
   "metadata": {},
   "outputs": [
    {
     "name": "stdout",
     "output_type": "stream",
     "text": [
      "DecisionTreeClassifier(max_depth=6, min_samples_split=3, random_state=12345)\n",
      "0.8548333333333333\n",
      "CPU times: user 7.77 s, sys: 59.9 ms, total: 7.83 s\n",
      "Wall time: 7.85 s\n"
     ]
    }
   ],
   "source": [
    "%%time  \n",
    "\n",
    "model_gs = DecisionTreeClassifier(random_state=12345, criterion=\"gini\")\n",
    "\n",
    "parametrs_gs  = {\n",
    "    'max_depth': [1, 2, 3, 4, 5, 6, 7, 8, 9, 10],\n",
    "    'min_samples_split': [2, 3, 4, 5, 6, 7, 8, 9, 10, 11],\n",
    "}\n",
    "\n",
    "\n",
    "gs = GridSearchCV(estimator = model_gs,\n",
    "                  param_grid = parametrs_gs,\n",
    "                  cv=5)\n",
    "\n",
    "# gs.fit(pd.concat([features_train, features_validate]), pd.concat([target_train, target_validate]))\n",
    "gs.fit(features_train, target_train)\n",
    "print(gs.best_estimator_)\n",
    "print(gs.best_score_)\n",
    "\n",
    "# CPU times: user 8.22 s, sys: 40 ms, total: 8.26 s\n",
    "# Wall time: 8.26 s"
   ]
  },
  {
   "cell_type": "markdown",
   "metadata": {},
   "source": [
    "**По отобранным гиперпараметрам  инициализируем модель и получим оценки без учета дисбаланса**"
   ]
  },
  {
   "cell_type": "code",
   "execution_count": 23,
   "metadata": {},
   "outputs": [
    {
     "name": "stdout",
     "output_type": "stream",
     "text": [
      "F1:  0.6073298429319371\n",
      "ROC_AUC:  0.7457781356086441\n",
      "RECALL:  0.5700245700245701\n",
      "PRECISION:  0.6498599439775911\n",
      "Accuracy_score  0.85\n"
     ]
    },
    {
     "data": {
      "image/png": "[encoded data removed]",
      "text/plain": [
       "<Figure size 432x432 with 1 Axes>"
      ]
     },
     "metadata": {
      "needs_background": "light"
     },
     "output_type": "display_data"
    },
    {
     "name": "stdout",
     "output_type": "stream",
     "text": [
      "CPU times: user 1.05 s, sys: 19.9 ms, total: 1.07 s\n",
      "Wall time: 1.08 s\n"
     ]
    }
   ],
   "source": [
    "%%time\n",
    "model = RandomForestClassifier(random_state=12345, criterion='gini', min_samples_leaf=3, n_estimators=106, class_weight='balanced')\n",
    "model.fit(features_train, target_train)\n",
    "predicted_train = model.predict(features_train)\n",
    "predicted_valid = model.predict(features_validate)\n",
    "print(\"F1: \", f1_score(target_validate, predicted_valid))\n",
    "print(\"ROC_AUC: \", roc_auc_score(target_validate, predicted_valid))\n",
    "print(\"RECALL: \", recall_score(target_validate, predicted_valid))\n",
    "print(\"PRECISION: \", precision_score(target_validate, predicted_valid))\n",
    "print(\"Accuracy_score \", accuracy_score(target_validate, predicted_valid))\n",
    "probabilities_valid = model.predict_proba(features_validate)\n",
    "precision, recall, thresholds = precision_recall_curve(target_validate, probabilities_valid[:, 1])\n",
    "plt.figure(figsize=(6, 6))\n",
    "plt.step(recall, precision, where='post')\n",
    "plt.xlabel('Recall')\n",
    "plt.ylabel('Precision')\n",
    "plt.ylim([0.0, 1.05])\n",
    "plt.xlim([0.0, 1.0])\n",
    "plt.title('Кривая Precision-Recall')\n",
    "plt.show() "
   ]
  },
  {
   "cell_type": "code",
   "execution_count": 24,
   "metadata": {},
   "outputs": [
    {
     "name": "stdout",
     "output_type": "stream",
     "text": [
      "F1:  0.5584299732381801\n",
      "ROC_AUC:  0.7586577332340045\n",
      "RECALL:  0.769041769041769\n",
      "PRECISION:  0.438375350140056\n",
      "Accuracy_score  0.7525\n"
     ]
    },
    {
     "data": {
      "image/png": "[encoded data removed]",
      "text/plain": [
       "<Figure size 432x432 with 1 Axes>"
      ]
     },
     "metadata": {
      "needs_background": "light"
     },
     "output_type": "display_data"
    },
    {
     "name": "stdout",
     "output_type": "stream",
     "text": [
      "CPU times: user 138 ms, sys: 16 ms, total: 154 ms\n",
      "Wall time: 163 ms\n"
     ]
    }
   ],
   "source": [
    "%%time\n",
    "model = DecisionTreeClassifier(random_state=12345, max_depth=6, criterion='gini', min_samples_split=11, class_weight='balanced')\n",
    "model.fit(features_train, target_train)\n",
    "predicted_train = model.predict(features_train)\n",
    "predicted_valid = model.predict(features_validate)\n",
    "print(\"F1: \", f1_score(target_validate, predicted_valid))\n",
    "print(\"ROC_AUC: \", roc_auc_score(target_validate, predicted_valid))\n",
    "print(\"RECALL: \", recall_score(target_validate, predicted_valid))\n",
    "print(\"PRECISION: \", precision_score(target_validate, predicted_valid))\n",
    "print(\"Accuracy_score \", accuracy_score(target_validate, predicted_valid))\n",
    "probabilities_valid = model.predict_proba(features_validate)\n",
    "precision, recall, thresholds = precision_recall_curve(target_validate, probabilities_valid[:, 1])\n",
    "plt.figure(figsize=(6, 6))\n",
    "plt.step(recall, precision, where='post')\n",
    "plt.xlabel('Recall')\n",
    "plt.ylabel('Precision')\n",
    "plt.ylim([0.0, 1.05])\n",
    "plt.xlim([0.0, 1.0])\n",
    "plt.title('Кривая Precision-Recall')\n",
    "plt.show() "
   ]
  },
  {
   "cell_type": "markdown",
   "metadata": {},
   "source": [
    "**Выводы по разделу:**\n",
    "\n",
    "1. Была выполнена предобработка данных, разделены выборки и отобранны гиперпараметры \n",
    "2. Из полученных оценок понимаем, что Случайный лес для нас оптимальная модель"
   ]
  },
  {
   "cell_type": "markdown",
   "metadata": {},
   "source": [
    "****"
   ]
  },
  {
   "cell_type": "markdown",
   "metadata": {},
   "source": [
    "## Борьба с дисбалансом"
   ]
  },
  {
   "cell_type": "markdown",
   "metadata": {},
   "source": [
    "**Отобразим графически, как соотносится баланс классов для целевого признака**"
   ]
  },
  {
   "cell_type": "code",
   "execution_count": 25,
   "metadata": {},
   "outputs": [
    {
     "name": "stdout",
     "output_type": "stream",
     "text": [
      "0    0.7963\n",
      "1    0.2037\n",
      "Name: Exited, dtype: float64\n"
     ]
    },
    {
     "data": {
      "text/plain": [
       "<AxesSubplot:>"
      ]
     },
     "execution_count": 25,
     "metadata": {},
     "output_type": "execute_result"
    },
    {
     "data": {
      "image/png": "[encoded data removed]",
      "text/plain": [
       "<Figure size 432x288 with 1 Axes>"
      ]
     },
     "metadata": {
      "needs_background": "light"
     },
     "output_type": "display_data"
    }
   ],
   "source": [
    "class_frequency = df['Exited'].value_counts(normalize=2/len(df['Exited']))\n",
    "print(class_frequency)\n",
    "class_frequency.plot(kind='bar')"
   ]
  },
  {
   "cell_type": "markdown",
   "metadata": {},
   "source": [
    "**Создадим функции, которые будут отвечать за методы борьбы с дисбалансом, внутри их перемешаем признаки и вернем их. После вызовим функцию при объявление новых переменных**"
   ]
  },
  {
   "cell_type": "code",
   "execution_count": 26,
   "metadata": {},
   "outputs": [],
   "source": [
    "def upsample(features, target, repeat):\n",
    "    features_zeros = features[target == 0]\n",
    "    features_ones = features[target == 1]\n",
    "    target_zeros = target[target == 0]\n",
    "    target_ones = target[target == 1]\n",
    "\n",
    "    features_upsampled = pd.concat([features_zeros] + [features_ones] * repeat)\n",
    "    target_upsampled = pd.concat([target_zeros] + [target_ones] * repeat)\n",
    "    \n",
    "    features_upsampled, target_upsampled = shuffle(\n",
    "        features_upsampled, target_upsampled, random_state=12345)\n",
    "    \n",
    "    return features_upsampled, target_upsampled\n",
    "\n",
    "features_upsampled, target_upsampled = upsample(features_train, target_train, 4)"
   ]
  },
  {
   "cell_type": "code",
   "execution_count": 27,
   "metadata": {},
   "outputs": [],
   "source": [
    "def downsample(features, target, fraction):\n",
    "    features_zeros = features[target == 0]\n",
    "    features_ones = features[target == 1]\n",
    "    target_zeros = target[target == 0]\n",
    "    target_ones = target[target == 1]\n",
    "\n",
    "    features_downsampled = pd.concat(\n",
    "        [features_zeros.sample(frac=fraction, random_state=12345)] + [features_ones])\n",
    "    target_downsampled = pd.concat(\n",
    "        [target_zeros.sample(frac=fraction, random_state=12345)] + [target_ones])\n",
    "    \n",
    "    features_downsampled, target_downsampled = shuffle(\n",
    "        features_downsampled, target_downsampled, random_state=12345)\n",
    "    \n",
    "    return features_downsampled, target_downsampled\n",
    "\n",
    "features_downsampled, target_downsampled = downsample(features_train, target_train, 0.25)"
   ]
  },
  {
   "cell_type": "markdown",
   "metadata": {},
   "source": [
    "**Сравним и выберем наилучший способ борьбы с дисбалансом, подобрав перед этим новые оптимальные гиперпараметры в GridSearchCV:**"
   ]
  },
  {
   "cell_type": "code",
   "execution_count": 28,
   "metadata": {},
   "outputs": [
    {
     "name": "stdout",
     "output_type": "stream",
     "text": [
      "RandomForestClassifier(class_weight='balanced', n_estimators=106,\n",
      "                       random_state=12345)\n",
      "0.9561355566600026\n",
      "CPU times: user 3min 42s, sys: 1.52 s, total: 3min 44s\n",
      "Wall time: 3min 44s\n"
     ]
    }
   ],
   "source": [
    "%%time  \n",
    "\n",
    "model_gs = RandomForestClassifier(random_state=12345, criterion=\"gini\", class_weight='balanced')\n",
    "\n",
    "parametrs_gs  = {\n",
    "    'n_estimators': [100, 102, 103, 104, 105, 106, 107],\n",
    "    'min_samples_leaf': [1, 2, 3, 4, 5, 6, 7],\n",
    "}\n",
    "\n",
    "\n",
    "gs = GridSearchCV(estimator = model_gs,\n",
    "                  param_grid = parametrs_gs,\n",
    "                  cv=5)\n",
    "\n",
    "gs.fit(features_upsampled, target_upsampled)\n",
    "print(gs.best_estimator_)\n",
    "print(gs.best_score_)\n",
    "\n",
    "# RandomForestClassifier(class_weight='balanced', n_estimators=106,\n",
    "                       # random_state=12345)\n",
    "# 0.9561355566600026\n",
    "# CPU times: user 3min 18s, sys: 468 ms, total: 3min 19s\n",
    "# Wall time: 3min 19s"
   ]
  },
  {
   "cell_type": "code",
   "execution_count": 29,
   "metadata": {},
   "outputs": [
    {
     "name": "stdout",
     "output_type": "stream",
     "text": [
      "RandomForestClassifier(class_weight='balanced', min_samples_leaf=2,\n",
      "                       n_estimators=107, random_state=12345)\n",
      "0.7682151840254606\n",
      "CPU times: user 1min 19s, sys: 531 ms, total: 1min 20s\n",
      "Wall time: 1min 20s\n"
     ]
    }
   ],
   "source": [
    "%%time  \n",
    "\n",
    "model_gs = RandomForestClassifier(random_state=12345, criterion=\"gini\", class_weight='balanced')\n",
    "\n",
    "parametrs_gs  = {\n",
    "    'n_estimators': [100, 102, 103, 104, 105, 106, 107],\n",
    "    'min_samples_leaf': [1, 2, 3, 4, 5, 6, 7],\n",
    "}\n",
    "\n",
    "\n",
    "gs = GridSearchCV(estimator = model_gs,\n",
    "                  param_grid = parametrs_gs,\n",
    "                  cv=5)\n",
    "\n",
    "gs.fit(features_downsampled, target_downsampled)\n",
    "print(gs.best_estimator_)\n",
    "print(gs.best_score_)\n",
    "\n",
    "\n",
    "# RandomForestClassifier(min_samples_leaf=4, n_estimators=105, random_state=12345)\n",
    "# 0.876162193318798\n",
    "# CPU times: user 45.3 s, sys: 240 ms, total: 45.5 s\n",
    "# Wall time: 45.5 s"
   ]
  },
  {
   "cell_type": "code",
   "execution_count": 30,
   "metadata": {},
   "outputs": [
    {
     "name": "stdout",
     "output_type": "stream",
     "text": [
      "F1:  0.5961538461538461\n",
      "ROC_AUC:  0.7794543387763726\n",
      "RECALL:  0.7616707616707616\n",
      "PRECISION:  0.48973143759873616\n",
      "Accuracy_score  0.79\n",
      "CPU times: user 563 ms, sys: 4.03 ms, total: 568 ms\n",
      "Wall time: 573 ms\n"
     ]
    }
   ],
   "source": [
    "%%time\n",
    "model = RandomForestClassifier(random_state=12345, criterion='gini', min_samples_leaf=4, n_estimators=105, class_weight='balanced')\n",
    "model.fit(features_downsampled, target_downsampled)\n",
    "predicted_train = model.predict(features_train)\n",
    "predicted_valid = model.predict(features_validate)\n",
    "print(\"F1: \", f1_score(target_validate, predicted_valid))\n",
    "print(\"ROC_AUC: \", roc_auc_score(target_validate, predicted_valid))\n",
    "print(\"RECALL: \", recall_score(target_validate, predicted_valid))\n",
    "print(\"PRECISION: \", precision_score(target_validate, predicted_valid))\n",
    "print(\"Accuracy_score \", accuracy_score(target_validate, predicted_valid))\n"
   ]
  },
  {
   "cell_type": "code",
   "execution_count": 31,
   "metadata": {},
   "outputs": [
    {
     "name": "stdout",
     "output_type": "stream",
     "text": [
      "F1:  0.6070133010882709\n",
      "ROC_AUC:  0.7553092383600859\n",
      "RECALL:  0.6167076167076168\n",
      "PRECISION:  0.5976190476190476\n",
      "Accuracy_score  0.8375\n",
      "CPU times: user 1.28 s, sys: 11.5 ms, total: 1.29 s\n",
      "Wall time: 1.38 s\n"
     ]
    }
   ],
   "source": [
    "%%time\n",
    "model = RandomForestClassifier(random_state=12345, criterion='gini', min_samples_leaf=3, n_estimators=106)\n",
    "model = model.fit(features_upsampled, target_upsampled)\n",
    "predicted_train = model.predict(features_train)\n",
    "predicted_valid = model.predict(features_validate)\n",
    "print(\"F1: \", f1_score(target_validate, predicted_valid))\n",
    "print(\"ROC_AUC: \", roc_auc_score(target_validate, predicted_valid))\n",
    "print(\"RECALL: \", recall_score(target_validate, predicted_valid))\n",
    "print(\"PRECISION: \", precision_score(target_validate, predicted_valid))\n",
    "print(\"Accuracy_score \", accuracy_score(target_validate, predicted_valid))\n"
   ]
  },
  {
   "cell_type": "markdown",
   "metadata": {},
   "source": [
    "**Посмотрим, как изменяется точность и полнота, при увелечении порога**"
   ]
  },
  {
   "cell_type": "code",
   "execution_count": 32,
   "metadata": {},
   "outputs": [
    {
     "name": "stdout",
     "output_type": "stream",
     "text": [
      "Порог = 0.00 | Точность = 0.203, Полнота = 1.000\n",
      "Порог = 0.02 | Точность = 0.211, Полнота = 0.998\n",
      "Порог = 0.04 | Точность = 0.222, Полнота = 0.990\n",
      "Порог = 0.06 | Точность = 0.233, Полнота = 0.978\n",
      "Порог = 0.08 | Точность = 0.249, Полнота = 0.971\n",
      "Порог = 0.10 | Точность = 0.265, Полнота = 0.966\n",
      "Порог = 0.12 | Точность = 0.278, Полнота = 0.956\n",
      "Порог = 0.14 | Точность = 0.296, Полнота = 0.948\n",
      "Порог = 0.16 | Точность = 0.313, Полнота = 0.934\n",
      "Порог = 0.18 | Точность = 0.327, Полнота = 0.912\n",
      "Порог = 0.20 | Точность = 0.343, Полнота = 0.892\n",
      "Порог = 0.22 | Точность = 0.354, Полнота = 0.865\n",
      "Порог = 0.24 | Точность = 0.370, Полнота = 0.845\n",
      "Порог = 0.26 | Точность = 0.387, Полнота = 0.826\n",
      "Порог = 0.28 | Точность = 0.405, Полнота = 0.808\n"
     ]
    }
   ],
   "source": [
    "model = RandomForestClassifier(random_state=12345, criterion='gini', min_samples_leaf=3, n_estimators=106, class_weight='balanced')\n",
    "model.fit(features_upsampled, target_upsampled)\n",
    "probabilities_valid = model.predict_proba(features_validate)\n",
    "probabilities_one_valid = probabilities_valid[:, 1]\n",
    "\n",
    "for threshold in np.arange(0, 0.3, 0.02):\n",
    "    predicted_valid = probabilities_one_valid > threshold\n",
    "    precision = precision_score(target_validate, predicted_valid)\n",
    "    recall = recall_score(target_validate, predicted_valid)\n",
    "\n",
    "    print(\"Порог = {:.2f} | Точность = {:.3f}, Полнота = {:.3f}\".format(\n",
    "        threshold, precision, recall))"
   ]
  },
  {
   "cell_type": "markdown",
   "metadata": {},
   "source": [
    "**Выводы по разделу:**\n",
    "\n",
    "   1. В ходе борьбы с дисбалансом было применено несколько способов, из которых наиболее оптимальным для нас вышел upnsampled\n",
    "\n",
    "   2. При увелечении порога уменьшается полнота, но увеличивается точность"
   ]
  },
  {
   "cell_type": "markdown",
   "metadata": {},
   "source": [
    "****"
   ]
  },
  {
   "cell_type": "markdown",
   "metadata": {},
   "source": [
    "## Тестирование модели"
   ]
  },
  {
   "cell_type": "markdown",
   "metadata": {},
   "source": [
    "**Из моделей выбирем Случайный лес классификатор для тестовой выборке как полученную наилучшую модель на валидационной выборке со следующими гиперпараметрами:**\n",
    "\n",
    "       1. random_state=12345\n",
    "       2. criterion='gini'\n",
    "       3. min_samples_leaf=3\n",
    "       4. class_weight='balanced'\n",
    "       5. n_estimators=106"
   ]
  },
  {
   "cell_type": "code",
   "execution_count": 33,
   "metadata": {},
   "outputs": [
    {
     "name": "stdout",
     "output_type": "stream",
     "text": [
      "F1:  0.6317044100119189\n",
      "ROC_AUC:  0.7726192235688244\n",
      "RECALL:  0.6495098039215687\n",
      "PRECISION:  0.6148491879350348\n",
      "AССURACY_SCORE:  0.8455\n"
     ]
    },
    {
     "data": {
      "image/png": "[encoded data removed]",
      "text/plain": [
       "<Figure size 432x432 with 1 Axes>"
      ]
     },
     "metadata": {
      "needs_background": "light"
     },
     "output_type": "display_data"
    },
    {
     "name": "stdout",
     "output_type": "stream",
     "text": [
      "CPU times: user 1.31 s, sys: 39.6 ms, total: 1.35 s\n",
      "Wall time: 1.4 s\n"
     ]
    }
   ],
   "source": [
    "%%time\n",
    "model = RandomForestClassifier(random_state=12345, criterion='gini', min_samples_leaf=3, n_estimators=106, class_weight='balanced')\n",
    "model = model.fit(features_upsampled, target_upsampled)\n",
    "predicted_test = model.predict(features_test)\n",
    "print(\"F1: \", f1_score(target_test, predicted_test))\n",
    "print(\"ROC_AUC: \", roc_auc_score(target_test, predicted_test))\n",
    "print(\"RECALL: \", recall_score(target_test, predicted_test))\n",
    "print(\"PRECISION: \", precision_score(target_test, predicted_test))\n",
    "print(\"AССURACY_SCORE: \", accuracy_score(target_test, predicted_test))\n",
    "\n",
    "# ROC\n",
    "probabilities = model.predict_proba(features_test)\n",
    "precision, recall, thresholds = precision_recall_curve(target_test, probabilities[:, 1])\n",
    "plt.figure(figsize=(6, 6))\n",
    "plt.step(recall, precision, where='post')\n",
    "plt.xlabel('Recall')\n",
    "plt.ylabel('Precision')\n",
    "plt.ylim([0.0, 1.05])\n",
    "plt.xlim([0.0, 1.0])\n",
    "plt.title('Кривая Precision-Recall')\n",
    "plt.show() "
   ]
  },
  {
   "cell_type": "markdown",
   "metadata": {},
   "source": [
    "**Заключение:**\n",
    "\n",
    "1. Наша модель (алгоритм) вполне пригодна, поскольку она дала результат f1_score не ниже допустимого нами порога: 0.59"
   ]
  },
  {
   "cell_type": "markdown",
   "metadata": {},
   "source": [
    "****"
   ]
  },
  {
   "cell_type": "markdown",
   "metadata": {},
   "source": [
    "## Выводы по полученным результатам"
   ]
  },
  {
   "cell_type": "markdown",
   "metadata": {},
   "source": [
    "**1) В начале исследования проверили информацию об нашем датасете и сделали промежуточные выводы:**\n",
    "   1. Видно, что у целевого признака есть явный дисбаланс классов: фактический уход клиентов практически в 4 раза меньше, чем отсутствие фактического ухода клиентов.\n",
    "   2. Графики кредитного рейтинга и возраста близки к нормальному распределению;\n",
    "   3. Признаки наличие кредитной карты и активность клиента представляют собой бинарную классификацию, где у первой тех кто имеет кредитную карту практически в 2.5 раза больше, чем тех кто не имеет, в то время как у второго обе категориальные переменные практически равны; \n",
    "   4. Количество продуктов банка, использумых клиентов представляет собой дискретную классификацию, у которой наблюдается практически равное соотноотношение у тех, кто использует 1-2 продукта, и явно видна малая часть тех, кто использует 3 и 4 соотвественно.\n",
    "   5. У признака баланс видна значимая доля тех, у кого баланс на счете составляет 0, - что может предположительно  сведетельствовать о том, что это либо новые клиенты, либо люди более не пополняют свой баланс\n",
    "\n",
    "**2) В данном разделе остановились на том, что было необходимо:**\n",
    "\n",
    "  1. Отбросить неинформативные для нас признаки;\n",
    "  2. Преобразовать категориальные признаки в количественные при помощи техники one-hot-encoding;\n",
    "  3. Избавится от пропусков с помощью замены на медианное значение;\n",
    "  4. Разделить выборки,  проверить корретность их деления в соотношении 3:1:1;\n",
    "  5. Масштабировать определенные признаки за счет того, что их количественные оценки огромны;\n",
    "  6. Провести подбор оптимальных гиперпараметров через цикл и через GreadSearchCV;\n",
    "\n",
    "\n",
    "    \n",
    "    \n",
    "**2) После понимаем, что для Категориальных данных применимы лишь определенные методы предсказания, и в нашем случае у нас бинарная классификация для целевого признака (таргета) - 0 или 1**\n",
    "\n",
    "    1. Рассмотрим две различные модели: `Решающее дерево` и `Случайный лес`\n",
    "    2. Использовали GreadSearchCV - для перебора оптимальных гиперпараметров\n",
    "    3. В ходе исследования удалось достичь f1_score не меньше 0.59 и была выбрана модель Случайного леса\n",
    "    \n",
    "**3) Борьба с дисбалансом:**\n",
    "\n",
    "     1. Отобразили графически, как соотносится баланс классов для целевого признака\n",
    "     2. Создадили функции, которые будут отвечать за методы борьбы с дисбалансом (upsampled, downsampled), внутри их перемешаем признаки и вернем их. После вызвали функции при объявление новых переменных\n",
    "     3. Выбрали наилуший способ для борьбы с дисбалансом - upsampled\n",
    "    \n",
    "**4) Выбираем Случайный лес классификатор - как наилучшую модель (алгоритм) предсказания со следующими гиперпараметрами (f1_score = F1:  0.6002372479240806):**\n",
    "\n",
    "     1. random_state=12345\n",
    "     2. criterion='gini'\n",
    "     3. min_samples_leaf=3\n",
    "     4. class_weight='balanced'\n",
    "\n",
    "    \n",
    "**4) На тестовой выборке выполнили финальную проверку, с определеной лучшей моделью и ее конкретными гиперпараметра. И получили  F1, который равен соотвественно: 0.6254375729288215**\n",
    "\n",
    "**4) Пришли к выводу о том, что наша модель - адекватна**"
   ]
  }
 ],
 "metadata": {
  "ExecuteTimeLog": [
   {
    "duration": 1402,
    "start_time": "2022-09-21T09:03:11.358Z"
   },
   {
    "duration": 37,
    "start_time": "2022-09-21T09:03:37.911Z"
   },
   {
    "duration": 11,
    "start_time": "2022-09-21T09:04:09.375Z"
   },
   {
    "duration": 4,
    "start_time": "2022-09-21T09:04:41.644Z"
   },
   {
    "duration": 164,
    "start_time": "2022-09-21T09:05:25.747Z"
   },
   {
    "duration": 29,
    "start_time": "2022-09-21T09:05:37.570Z"
   },
   {
    "duration": 15,
    "start_time": "2022-09-21T09:05:45.351Z"
   },
   {
    "duration": 68,
    "start_time": "2022-09-21T09:05:57.634Z"
   },
   {
    "duration": 8,
    "start_time": "2022-09-21T09:06:14.128Z"
   },
   {
    "duration": 15,
    "start_time": "2022-09-21T09:11:59.999Z"
   },
   {
    "duration": 9,
    "start_time": "2022-09-21T09:12:10.743Z"
   },
   {
    "duration": 25,
    "start_time": "2022-09-21T09:12:16.672Z"
   },
   {
    "duration": 15,
    "start_time": "2022-09-21T09:12:22.705Z"
   },
   {
    "duration": 10,
    "start_time": "2022-09-21T09:12:32.843Z"
   },
   {
    "duration": 17,
    "start_time": "2022-09-21T09:12:39.417Z"
   },
   {
    "duration": 20,
    "start_time": "2022-09-21T09:12:49.368Z"
   },
   {
    "duration": 14,
    "start_time": "2022-09-21T09:13:05.044Z"
   },
   {
    "duration": 9,
    "start_time": "2022-09-21T09:13:09.755Z"
   },
   {
    "duration": 4,
    "start_time": "2022-09-21T09:13:12.785Z"
   },
   {
    "duration": 5,
    "start_time": "2022-09-21T09:13:26.980Z"
   },
   {
    "duration": 9,
    "start_time": "2022-09-21T09:13:53.359Z"
   },
   {
    "duration": 11,
    "start_time": "2022-09-21T09:16:01.616Z"
   },
   {
    "duration": 14,
    "start_time": "2022-09-21T09:16:27.316Z"
   },
   {
    "duration": 112,
    "start_time": "2022-09-21T09:17:29.132Z"
   },
   {
    "duration": 10,
    "start_time": "2022-09-21T09:17:32.572Z"
   },
   {
    "duration": 2005,
    "start_time": "2022-09-21T09:18:03.874Z"
   },
   {
    "duration": 1412,
    "start_time": "2022-09-21T09:18:33.320Z"
   },
   {
    "duration": 1530,
    "start_time": "2022-09-21T09:18:37.133Z"
   },
   {
    "duration": 1451,
    "start_time": "2022-09-21T09:18:42.043Z"
   },
   {
    "duration": 1657,
    "start_time": "2022-09-21T09:18:52.022Z"
   },
   {
    "duration": 1088,
    "start_time": "2022-09-21T09:19:00.354Z"
   },
   {
    "duration": 1744,
    "start_time": "2022-09-21T09:19:06.942Z"
   },
   {
    "duration": 1629,
    "start_time": "2022-09-21T09:19:15.491Z"
   },
   {
    "duration": 103,
    "start_time": "2022-09-21T09:43:10.705Z"
   },
   {
    "duration": 104,
    "start_time": "2022-09-21T09:43:26.858Z"
   },
   {
    "duration": 94,
    "start_time": "2022-09-21T09:43:32.558Z"
   },
   {
    "duration": 38,
    "start_time": "2022-09-21T09:44:27.002Z"
   },
   {
    "duration": 6,
    "start_time": "2022-09-21T10:30:02.539Z"
   },
   {
    "duration": 7,
    "start_time": "2022-09-21T10:31:35.016Z"
   },
   {
    "duration": 8,
    "start_time": "2022-09-21T10:31:56.738Z"
   },
   {
    "duration": 9,
    "start_time": "2022-09-21T10:31:58.343Z"
   },
   {
    "duration": 135,
    "start_time": "2022-09-21T10:37:33.718Z"
   },
   {
    "duration": 98,
    "start_time": "2022-09-21T10:39:25.684Z"
   },
   {
    "duration": 4,
    "start_time": "2022-09-21T10:39:29.753Z"
   },
   {
    "duration": 10,
    "start_time": "2022-09-21T10:39:31.894Z"
   },
   {
    "duration": 212,
    "start_time": "2022-09-21T10:47:39.056Z"
   },
   {
    "duration": 24,
    "start_time": "2022-09-21T10:47:47.515Z"
   },
   {
    "duration": 17,
    "start_time": "2022-09-21T10:49:16.261Z"
   },
   {
    "duration": 1256,
    "start_time": "2022-09-21T10:49:29.050Z"
   },
   {
    "duration": 42,
    "start_time": "2022-09-21T10:49:30.309Z"
   },
   {
    "duration": 21,
    "start_time": "2022-09-21T10:49:30.353Z"
   },
   {
    "duration": 9,
    "start_time": "2022-09-21T10:49:30.376Z"
   },
   {
    "duration": 17,
    "start_time": "2022-09-21T10:49:30.395Z"
   },
   {
    "duration": 18,
    "start_time": "2022-09-21T10:49:30.414Z"
   },
   {
    "duration": 2071,
    "start_time": "2022-09-21T10:49:30.434Z"
   },
   {
    "duration": 0,
    "start_time": "2022-09-21T10:49:32.507Z"
   },
   {
    "duration": 0,
    "start_time": "2022-09-21T10:49:32.508Z"
   },
   {
    "duration": 0,
    "start_time": "2022-09-21T10:49:32.509Z"
   },
   {
    "duration": 0,
    "start_time": "2022-09-21T10:49:32.510Z"
   },
   {
    "duration": 0,
    "start_time": "2022-09-21T10:49:32.511Z"
   },
   {
    "duration": 0,
    "start_time": "2022-09-21T10:49:32.512Z"
   },
   {
    "duration": 0,
    "start_time": "2022-09-21T10:49:32.513Z"
   },
   {
    "duration": 49,
    "start_time": "2022-09-21T10:49:46.987Z"
   },
   {
    "duration": 4,
    "start_time": "2022-09-21T10:49:48.843Z"
   },
   {
    "duration": 17,
    "start_time": "2022-09-21T10:49:49.851Z"
   },
   {
    "duration": 14,
    "start_time": "2022-09-21T10:49:51.344Z"
   },
   {
    "duration": 6,
    "start_time": "2022-09-21T10:50:15.680Z"
   },
   {
    "duration": 9,
    "start_time": "2022-09-21T10:50:16.030Z"
   },
   {
    "duration": 112,
    "start_time": "2022-09-21T10:50:18.009Z"
   },
   {
    "duration": 13,
    "start_time": "2022-09-21T10:54:50.804Z"
   },
   {
    "duration": 15,
    "start_time": "2022-09-21T10:54:51.248Z"
   },
   {
    "duration": 6,
    "start_time": "2022-09-21T10:54:55.844Z"
   },
   {
    "duration": 7,
    "start_time": "2022-09-21T10:54:56.157Z"
   },
   {
    "duration": 2431,
    "start_time": "2022-09-21T11:00:10.754Z"
   },
   {
    "duration": 123,
    "start_time": "2022-09-21T11:01:58.327Z"
   },
   {
    "duration": 150,
    "start_time": "2022-09-21T11:02:00.523Z"
   },
   {
    "duration": 1060,
    "start_time": "2022-09-24T06:31:58.725Z"
   },
   {
    "duration": 79,
    "start_time": "2022-09-24T06:32:00.341Z"
   },
   {
    "duration": 19,
    "start_time": "2022-09-24T06:32:01.043Z"
   },
   {
    "duration": 7,
    "start_time": "2022-09-24T06:32:01.569Z"
   },
   {
    "duration": 15,
    "start_time": "2022-09-24T06:32:02.012Z"
   },
   {
    "duration": 10,
    "start_time": "2022-09-24T06:32:02.393Z"
   },
   {
    "duration": 1659,
    "start_time": "2022-09-24T06:32:02.770Z"
   },
   {
    "duration": 40,
    "start_time": "2022-09-24T06:32:07.313Z"
   },
   {
    "duration": 4,
    "start_time": "2022-09-24T06:32:10.856Z"
   },
   {
    "duration": 10,
    "start_time": "2022-09-24T06:32:11.528Z"
   },
   {
    "duration": 11,
    "start_time": "2022-09-24T06:32:12.611Z"
   },
   {
    "duration": 5,
    "start_time": "2022-09-24T06:32:19.836Z"
   },
   {
    "duration": 8,
    "start_time": "2022-09-24T06:32:21.321Z"
   },
   {
    "duration": 6,
    "start_time": "2022-09-24T06:32:21.962Z"
   },
   {
    "duration": 4,
    "start_time": "2022-09-24T06:32:23.089Z"
   },
   {
    "duration": 3,
    "start_time": "2022-09-24T06:32:23.643Z"
   },
   {
    "duration": 4,
    "start_time": "2022-09-24T06:32:24.062Z"
   },
   {
    "duration": 5,
    "start_time": "2022-09-24T06:32:24.490Z"
   },
   {
    "duration": 4,
    "start_time": "2022-09-24T06:41:40.880Z"
   },
   {
    "duration": 10,
    "start_time": "2022-09-24T06:41:52.252Z"
   },
   {
    "duration": 4,
    "start_time": "2022-09-24T07:07:47.472Z"
   },
   {
    "duration": 9,
    "start_time": "2022-09-24T07:07:48.998Z"
   },
   {
    "duration": 8,
    "start_time": "2022-09-24T07:07:50.402Z"
   },
   {
    "duration": 4,
    "start_time": "2022-09-24T07:08:33.262Z"
   },
   {
    "duration": 12,
    "start_time": "2022-09-24T07:08:34.485Z"
   },
   {
    "duration": 1070,
    "start_time": "2022-09-24T07:08:57.008Z"
   },
   {
    "duration": 37,
    "start_time": "2022-09-24T07:08:58.080Z"
   },
   {
    "duration": 17,
    "start_time": "2022-09-24T07:08:58.118Z"
   },
   {
    "duration": 6,
    "start_time": "2022-09-24T07:08:58.136Z"
   },
   {
    "duration": 13,
    "start_time": "2022-09-24T07:08:58.144Z"
   },
   {
    "duration": 11,
    "start_time": "2022-09-24T07:08:58.158Z"
   },
   {
    "duration": 1459,
    "start_time": "2022-09-24T07:08:58.170Z"
   },
   {
    "duration": 37,
    "start_time": "2022-09-24T07:08:59.630Z"
   },
   {
    "duration": 4,
    "start_time": "2022-09-24T07:08:59.668Z"
   },
   {
    "duration": 7,
    "start_time": "2022-09-24T07:08:59.673Z"
   },
   {
    "duration": 26,
    "start_time": "2022-09-24T07:08:59.682Z"
   },
   {
    "duration": 9,
    "start_time": "2022-09-24T07:08:59.709Z"
   },
   {
    "duration": 12,
    "start_time": "2022-09-24T07:08:59.719Z"
   },
   {
    "duration": 4,
    "start_time": "2022-09-24T07:08:59.733Z"
   },
   {
    "duration": 8,
    "start_time": "2022-09-24T07:08:59.738Z"
   },
   {
    "duration": 5,
    "start_time": "2022-09-24T07:08:59.748Z"
   },
   {
    "duration": 5,
    "start_time": "2022-09-24T07:08:59.754Z"
   },
   {
    "duration": 5,
    "start_time": "2022-09-24T07:08:59.760Z"
   },
   {
    "duration": 36,
    "start_time": "2022-09-24T07:08:59.766Z"
   },
   {
    "duration": 6,
    "start_time": "2022-09-24T07:08:59.804Z"
   },
   {
    "duration": 144,
    "start_time": "2022-09-24T07:08:59.811Z"
   },
   {
    "duration": 69,
    "start_time": "2022-09-24T07:08:59.957Z"
   },
   {
    "duration": 183,
    "start_time": "2022-09-24T07:09:00.028Z"
   },
   {
    "duration": 79,
    "start_time": "2022-09-24T07:09:00.213Z"
   },
   {
    "duration": 16,
    "start_time": "2022-09-24T07:09:00.294Z"
   },
   {
    "duration": 32,
    "start_time": "2022-09-24T07:09:00.312Z"
   },
   {
    "duration": 5,
    "start_time": "2022-09-24T07:10:57.383Z"
   },
   {
    "duration": 10,
    "start_time": "2022-09-24T07:10:58.109Z"
   },
   {
    "duration": 6,
    "start_time": "2022-09-24T07:11:25.308Z"
   },
   {
    "duration": 7,
    "start_time": "2022-09-24T07:11:45.128Z"
   },
   {
    "duration": 4,
    "start_time": "2022-09-24T07:11:48.633Z"
   },
   {
    "duration": 10,
    "start_time": "2022-09-24T07:11:49.230Z"
   },
   {
    "duration": 5,
    "start_time": "2022-09-24T07:11:54.864Z"
   },
   {
    "duration": 5,
    "start_time": "2022-09-24T07:12:29.695Z"
   },
   {
    "duration": 6,
    "start_time": "2022-09-24T07:12:42.458Z"
   },
   {
    "duration": 6,
    "start_time": "2022-09-24T07:12:59.600Z"
   },
   {
    "duration": 10,
    "start_time": "2022-09-24T07:13:01.782Z"
   },
   {
    "duration": 6,
    "start_time": "2022-09-24T07:14:03.274Z"
   },
   {
    "duration": 6,
    "start_time": "2022-09-24T07:14:42.676Z"
   },
   {
    "duration": 14,
    "start_time": "2022-09-24T07:15:01.898Z"
   },
   {
    "duration": 14,
    "start_time": "2022-09-24T07:15:31.351Z"
   },
   {
    "duration": 11,
    "start_time": "2022-09-24T07:15:48.393Z"
   },
   {
    "duration": 1027,
    "start_time": "2022-09-24T07:16:07.707Z"
   },
   {
    "duration": 37,
    "start_time": "2022-09-24T07:16:08.735Z"
   },
   {
    "duration": 17,
    "start_time": "2022-09-24T07:16:08.773Z"
   },
   {
    "duration": 5,
    "start_time": "2022-09-24T07:16:08.792Z"
   },
   {
    "duration": 13,
    "start_time": "2022-09-24T07:16:08.799Z"
   },
   {
    "duration": 10,
    "start_time": "2022-09-24T07:16:08.813Z"
   },
   {
    "duration": 1440,
    "start_time": "2022-09-24T07:16:08.824Z"
   },
   {
    "duration": 46,
    "start_time": "2022-09-24T07:16:10.265Z"
   },
   {
    "duration": 3,
    "start_time": "2022-09-24T07:16:10.313Z"
   },
   {
    "duration": 109,
    "start_time": "2022-09-24T07:16:10.318Z"
   },
   {
    "duration": 0,
    "start_time": "2022-09-24T07:16:10.428Z"
   },
   {
    "duration": 0,
    "start_time": "2022-09-24T07:16:10.429Z"
   },
   {
    "duration": 0,
    "start_time": "2022-09-24T07:16:10.430Z"
   },
   {
    "duration": 0,
    "start_time": "2022-09-24T07:16:10.431Z"
   },
   {
    "duration": 0,
    "start_time": "2022-09-24T07:16:10.432Z"
   },
   {
    "duration": 0,
    "start_time": "2022-09-24T07:16:10.433Z"
   },
   {
    "duration": 0,
    "start_time": "2022-09-24T07:16:10.434Z"
   },
   {
    "duration": 0,
    "start_time": "2022-09-24T07:16:10.435Z"
   },
   {
    "duration": 0,
    "start_time": "2022-09-24T07:16:10.435Z"
   },
   {
    "duration": 0,
    "start_time": "2022-09-24T07:16:10.436Z"
   },
   {
    "duration": 0,
    "start_time": "2022-09-24T07:16:10.437Z"
   },
   {
    "duration": 0,
    "start_time": "2022-09-24T07:16:10.438Z"
   },
   {
    "duration": 0,
    "start_time": "2022-09-24T07:16:10.439Z"
   },
   {
    "duration": 0,
    "start_time": "2022-09-24T07:16:10.440Z"
   },
   {
    "duration": 0,
    "start_time": "2022-09-24T07:16:10.441Z"
   },
   {
    "duration": 0,
    "start_time": "2022-09-24T07:16:10.442Z"
   },
   {
    "duration": 5,
    "start_time": "2022-09-24T07:17:46.748Z"
   },
   {
    "duration": 11,
    "start_time": "2022-09-24T07:17:48.557Z"
   },
   {
    "duration": 11,
    "start_time": "2022-09-24T07:17:52.910Z"
   },
   {
    "duration": 12,
    "start_time": "2022-09-24T07:17:53.058Z"
   },
   {
    "duration": 6,
    "start_time": "2022-09-24T07:17:53.217Z"
   },
   {
    "duration": 8,
    "start_time": "2022-09-24T07:17:53.371Z"
   },
   {
    "duration": 7,
    "start_time": "2022-09-24T07:17:53.765Z"
   },
   {
    "duration": 4,
    "start_time": "2022-09-24T07:17:54.064Z"
   },
   {
    "duration": 4,
    "start_time": "2022-09-24T07:17:54.476Z"
   },
   {
    "duration": 4,
    "start_time": "2022-09-24T07:17:55.306Z"
   },
   {
    "duration": 4,
    "start_time": "2022-09-24T07:17:56.233Z"
   },
   {
    "duration": 1606,
    "start_time": "2022-09-24T07:17:58.476Z"
   },
   {
    "duration": 1712,
    "start_time": "2022-09-24T07:18:09.088Z"
   },
   {
    "duration": 1692,
    "start_time": "2022-09-24T07:18:31.393Z"
   },
   {
    "duration": 80,
    "start_time": "2022-09-24T07:19:58.785Z"
   },
   {
    "duration": 42,
    "start_time": "2022-09-24T07:20:20.410Z"
   },
   {
    "duration": 60,
    "start_time": "2022-09-24T07:20:23.862Z"
   },
   {
    "duration": 178,
    "start_time": "2022-09-24T07:20:52.132Z"
   },
   {
    "duration": 55,
    "start_time": "2022-09-24T07:23:43.116Z"
   },
   {
    "duration": 3,
    "start_time": "2022-09-24T07:24:00.634Z"
   },
   {
    "duration": 54,
    "start_time": "2022-09-24T07:24:34.137Z"
   },
   {
    "duration": 24,
    "start_time": "2022-09-24T07:24:41.247Z"
   },
   {
    "duration": 7,
    "start_time": "2022-09-24T07:29:04.617Z"
   },
   {
    "duration": 11,
    "start_time": "2022-09-24T07:29:04.904Z"
   },
   {
    "duration": 4,
    "start_time": "2022-09-24T07:29:05.854Z"
   },
   {
    "duration": 7,
    "start_time": "2022-09-24T07:29:06.110Z"
   },
   {
    "duration": 6,
    "start_time": "2022-09-24T07:29:06.438Z"
   },
   {
    "duration": 4,
    "start_time": "2022-09-24T07:29:06.661Z"
   },
   {
    "duration": 3,
    "start_time": "2022-09-24T07:29:07.038Z"
   },
   {
    "duration": 3,
    "start_time": "2022-09-24T07:29:07.217Z"
   },
   {
    "duration": 3,
    "start_time": "2022-09-24T07:29:07.383Z"
   },
   {
    "duration": 38,
    "start_time": "2022-09-24T07:29:08.458Z"
   },
   {
    "duration": 22,
    "start_time": "2022-09-24T07:29:09.028Z"
   },
   {
    "duration": 1729,
    "start_time": "2022-09-24T07:29:09.813Z"
   },
   {
    "duration": 234,
    "start_time": "2022-09-24T07:29:11.544Z"
   },
   {
    "duration": 1270,
    "start_time": "2022-09-24T07:30:01.668Z"
   },
   {
    "duration": 42,
    "start_time": "2022-09-24T07:30:02.940Z"
   },
   {
    "duration": 18,
    "start_time": "2022-09-24T07:30:02.984Z"
   },
   {
    "duration": 7,
    "start_time": "2022-09-24T07:30:03.003Z"
   },
   {
    "duration": 13,
    "start_time": "2022-09-24T07:30:03.012Z"
   },
   {
    "duration": 11,
    "start_time": "2022-09-24T07:30:03.026Z"
   },
   {
    "duration": 1471,
    "start_time": "2022-09-24T07:30:03.041Z"
   },
   {
    "duration": 49,
    "start_time": "2022-09-24T07:30:04.514Z"
   },
   {
    "duration": 10,
    "start_time": "2022-09-24T07:30:04.565Z"
   },
   {
    "duration": 24,
    "start_time": "2022-09-24T07:30:04.577Z"
   },
   {
    "duration": 37,
    "start_time": "2022-09-24T07:30:04.603Z"
   },
   {
    "duration": 211,
    "start_time": "2022-09-24T07:30:04.641Z"
   },
   {
    "duration": 19,
    "start_time": "2022-09-24T07:30:04.854Z"
   },
   {
    "duration": 75,
    "start_time": "2022-09-24T07:30:04.876Z"
   },
   {
    "duration": 64,
    "start_time": "2022-09-24T07:30:04.952Z"
   },
   {
    "duration": 25,
    "start_time": "2022-09-24T07:30:05.017Z"
   },
   {
    "duration": 3,
    "start_time": "2022-09-24T07:30:05.044Z"
   },
   {
    "duration": 6,
    "start_time": "2022-09-24T07:30:05.049Z"
   },
   {
    "duration": 6,
    "start_time": "2022-09-24T07:30:05.056Z"
   },
   {
    "duration": 6,
    "start_time": "2022-09-24T07:30:05.063Z"
   },
   {
    "duration": 813,
    "start_time": "2022-09-24T07:30:05.071Z"
   },
   {
    "duration": 717,
    "start_time": "2022-09-24T07:30:05.885Z"
   },
   {
    "duration": 43321,
    "start_time": "2022-09-24T07:30:06.604Z"
   },
   {
    "duration": 56782,
    "start_time": "2022-09-24T07:30:49.927Z"
   },
   {
    "duration": 68,
    "start_time": "2022-09-24T07:31:46.710Z"
   },
   {
    "duration": 165,
    "start_time": "2022-09-24T07:31:46.780Z"
   },
   {
    "duration": 54,
    "start_time": "2022-09-24T07:31:46.947Z"
   },
   {
    "duration": 1136,
    "start_time": "2022-09-25T06:44:25.393Z"
   },
   {
    "duration": 83,
    "start_time": "2022-09-25T06:44:26.532Z"
   },
   {
    "duration": 20,
    "start_time": "2022-09-25T06:44:26.616Z"
   },
   {
    "duration": 35,
    "start_time": "2022-09-25T06:44:26.637Z"
   },
   {
    "duration": 23,
    "start_time": "2022-09-25T06:44:26.675Z"
   },
   {
    "duration": 19,
    "start_time": "2022-09-25T06:44:26.700Z"
   },
   {
    "duration": 1721,
    "start_time": "2022-09-25T06:44:26.723Z"
   },
   {
    "duration": 48,
    "start_time": "2022-09-25T06:44:28.445Z"
   },
   {
    "duration": 3,
    "start_time": "2022-09-25T06:44:28.495Z"
   },
   {
    "duration": 17,
    "start_time": "2022-09-25T06:44:28.499Z"
   },
   {
    "duration": 29,
    "start_time": "2022-09-25T06:44:28.517Z"
   },
   {
    "duration": 13,
    "start_time": "2022-09-25T06:44:28.548Z"
   },
   {
    "duration": 19,
    "start_time": "2022-09-25T06:44:28.562Z"
   },
   {
    "duration": 11,
    "start_time": "2022-09-25T06:44:28.583Z"
   },
   {
    "duration": 20,
    "start_time": "2022-09-25T06:44:28.595Z"
   },
   {
    "duration": 30,
    "start_time": "2022-09-25T06:44:28.616Z"
   },
   {
    "duration": 14,
    "start_time": "2022-09-25T06:44:28.647Z"
   },
   {
    "duration": 28,
    "start_time": "2022-09-25T06:44:28.663Z"
   },
   {
    "duration": 8,
    "start_time": "2022-09-25T06:44:28.692Z"
   },
   {
    "duration": 51,
    "start_time": "2022-09-25T06:44:28.701Z"
   },
   {
    "duration": 29,
    "start_time": "2022-09-25T06:44:28.753Z"
   },
   {
    "duration": 2017,
    "start_time": "2022-09-25T06:44:28.784Z"
   },
   {
    "duration": 282,
    "start_time": "2022-09-25T06:44:30.803Z"
   },
   {
    "duration": 60,
    "start_time": "2022-09-25T06:44:31.086Z"
   },
   {
    "duration": 14,
    "start_time": "2022-09-25T06:44:31.148Z"
   },
   {
    "duration": 10,
    "start_time": "2022-09-25T06:44:31.164Z"
   },
   {
    "duration": 2349,
    "start_time": "2022-09-25T06:44:31.175Z"
   },
   {
    "duration": 23804,
    "start_time": "2022-09-25T06:46:48.562Z"
   },
   {
    "duration": 24212,
    "start_time": "2022-09-25T06:47:55.356Z"
   },
   {
    "duration": 26242,
    "start_time": "2022-09-25T06:51:29.059Z"
   },
   {
    "duration": 1117,
    "start_time": "2022-09-25T06:54:28.113Z"
   },
   {
    "duration": 40,
    "start_time": "2022-09-25T06:54:29.232Z"
   },
   {
    "duration": 19,
    "start_time": "2022-09-25T06:54:29.273Z"
   },
   {
    "duration": 6,
    "start_time": "2022-09-25T06:54:29.294Z"
   },
   {
    "duration": 14,
    "start_time": "2022-09-25T06:54:29.302Z"
   },
   {
    "duration": 11,
    "start_time": "2022-09-25T06:54:29.317Z"
   },
   {
    "duration": 1544,
    "start_time": "2022-09-25T06:54:29.330Z"
   },
   {
    "duration": 40,
    "start_time": "2022-09-25T06:54:30.877Z"
   },
   {
    "duration": 4,
    "start_time": "2022-09-25T06:54:30.918Z"
   },
   {
    "duration": 20,
    "start_time": "2022-09-25T06:54:30.923Z"
   },
   {
    "duration": 28,
    "start_time": "2022-09-25T06:54:30.945Z"
   },
   {
    "duration": 30,
    "start_time": "2022-09-25T06:54:30.975Z"
   },
   {
    "duration": 24,
    "start_time": "2022-09-25T06:54:31.006Z"
   },
   {
    "duration": 24,
    "start_time": "2022-09-25T06:54:31.033Z"
   },
   {
    "duration": 40,
    "start_time": "2022-09-25T06:54:31.059Z"
   },
   {
    "duration": 26,
    "start_time": "2022-09-25T06:54:31.101Z"
   },
   {
    "duration": 22,
    "start_time": "2022-09-25T06:54:31.129Z"
   },
   {
    "duration": 18,
    "start_time": "2022-09-25T06:54:31.153Z"
   },
   {
    "duration": 6,
    "start_time": "2022-09-25T06:54:31.172Z"
   },
   {
    "duration": 57,
    "start_time": "2022-09-25T06:54:31.179Z"
   },
   {
    "duration": 141,
    "start_time": "2022-09-25T06:54:31.237Z"
   },
   {
    "duration": 2008,
    "start_time": "2022-09-25T06:54:31.380Z"
   },
   {
    "duration": 197,
    "start_time": "2022-09-25T06:54:33.389Z"
   },
   {
    "duration": 85,
    "start_time": "2022-09-25T06:54:33.587Z"
   },
   {
    "duration": 15,
    "start_time": "2022-09-25T06:54:33.673Z"
   },
   {
    "duration": 11,
    "start_time": "2022-09-25T06:54:33.689Z"
   },
   {
    "duration": 1248,
    "start_time": "2022-09-25T06:54:33.701Z"
   },
   {
    "duration": 4,
    "start_time": "2022-09-25T06:56:17.147Z"
   },
   {
    "duration": 1730,
    "start_time": "2022-09-25T06:57:04.954Z"
   },
   {
    "duration": 23623,
    "start_time": "2022-09-25T06:57:25.723Z"
   },
   {
    "duration": 8717,
    "start_time": "2022-09-25T06:59:01.364Z"
   },
   {
    "duration": 469,
    "start_time": "2022-09-25T06:59:18.688Z"
   },
   {
    "duration": 1092,
    "start_time": "2022-09-25T07:00:47.122Z"
   },
   {
    "duration": 39,
    "start_time": "2022-09-25T07:00:48.216Z"
   },
   {
    "duration": 18,
    "start_time": "2022-09-25T07:00:48.257Z"
   },
   {
    "duration": 7,
    "start_time": "2022-09-25T07:00:48.276Z"
   },
   {
    "duration": 15,
    "start_time": "2022-09-25T07:00:48.285Z"
   },
   {
    "duration": 11,
    "start_time": "2022-09-25T07:00:48.302Z"
   },
   {
    "duration": 1592,
    "start_time": "2022-09-25T07:00:48.315Z"
   },
   {
    "duration": 41,
    "start_time": "2022-09-25T07:00:49.908Z"
   },
   {
    "duration": 5,
    "start_time": "2022-09-25T07:00:49.951Z"
   },
   {
    "duration": 24,
    "start_time": "2022-09-25T07:00:49.957Z"
   },
   {
    "duration": 14,
    "start_time": "2022-09-25T07:00:49.982Z"
   },
   {
    "duration": 11,
    "start_time": "2022-09-25T07:00:49.998Z"
   },
   {
    "duration": 5,
    "start_time": "2022-09-25T07:00:50.011Z"
   },
   {
    "duration": 10,
    "start_time": "2022-09-25T07:00:50.018Z"
   },
   {
    "duration": 15,
    "start_time": "2022-09-25T07:00:50.029Z"
   },
   {
    "duration": 11,
    "start_time": "2022-09-25T07:00:50.046Z"
   },
   {
    "duration": 8,
    "start_time": "2022-09-25T07:00:50.076Z"
   },
   {
    "duration": 9,
    "start_time": "2022-09-25T07:00:50.086Z"
   },
   {
    "duration": 8,
    "start_time": "2022-09-25T07:00:50.097Z"
   },
   {
    "duration": 45,
    "start_time": "2022-09-25T07:00:50.107Z"
   },
   {
    "duration": 427,
    "start_time": "2022-09-25T07:00:50.154Z"
   },
   {
    "duration": 2008,
    "start_time": "2022-09-25T07:00:50.583Z"
   },
   {
    "duration": 11,
    "start_time": "2022-09-25T07:00:52.593Z"
   },
   {
    "duration": 376,
    "start_time": "2022-09-25T07:00:52.605Z"
   },
   {
    "duration": 71,
    "start_time": "2022-09-25T07:00:52.983Z"
   },
   {
    "duration": 4,
    "start_time": "2022-09-25T07:00:53.055Z"
   },
   {
    "duration": 36,
    "start_time": "2022-09-25T07:00:53.060Z"
   },
   {
    "duration": 22,
    "start_time": "2022-09-25T07:00:53.097Z"
   },
   {
    "duration": 41,
    "start_time": "2022-09-25T07:01:53.491Z"
   },
   {
    "duration": 664,
    "start_time": "2022-09-25T07:01:55.812Z"
   },
   {
    "duration": 1939,
    "start_time": "2022-09-25T07:01:58.536Z"
   },
   {
    "duration": 101,
    "start_time": "2022-09-25T07:08:01.423Z"
   },
   {
    "duration": 45,
    "start_time": "2022-09-25T07:08:17.193Z"
   },
   {
    "duration": 54,
    "start_time": "2022-09-25T07:08:25.381Z"
   },
   {
    "duration": 466,
    "start_time": "2022-09-25T07:08:36.319Z"
   },
   {
    "duration": 76,
    "start_time": "2022-09-25T07:09:53.326Z"
   },
   {
    "duration": 4,
    "start_time": "2022-09-25T07:12:34.410Z"
   },
   {
    "duration": 19,
    "start_time": "2022-09-25T07:14:06.673Z"
   },
   {
    "duration": 1916,
    "start_time": "2022-09-25T07:17:00.966Z"
   },
   {
    "duration": 1790,
    "start_time": "2022-09-25T07:23:33.604Z"
   },
   {
    "duration": 3,
    "start_time": "2022-09-25T07:25:44.609Z"
   },
   {
    "duration": 220,
    "start_time": "2022-09-25T07:32:08.858Z"
   },
   {
    "duration": 4,
    "start_time": "2022-09-25T07:32:21.537Z"
   },
   {
    "duration": 208,
    "start_time": "2022-09-25T07:32:27.473Z"
   },
   {
    "duration": 120,
    "start_time": "2022-09-25T07:32:33.456Z"
   },
   {
    "duration": 17,
    "start_time": "2022-09-25T07:32:56.498Z"
   },
   {
    "duration": 202,
    "start_time": "2022-09-25T07:38:28.479Z"
   },
   {
    "duration": 204,
    "start_time": "2022-09-25T07:38:34.678Z"
   },
   {
    "duration": 16,
    "start_time": "2022-09-25T07:38:40.873Z"
   },
   {
    "duration": 1191,
    "start_time": "2022-09-25T09:29:26.639Z"
   },
   {
    "duration": 39,
    "start_time": "2022-09-25T09:29:27.832Z"
   },
   {
    "duration": 19,
    "start_time": "2022-09-25T09:29:27.872Z"
   },
   {
    "duration": 6,
    "start_time": "2022-09-25T09:29:27.893Z"
   },
   {
    "duration": 15,
    "start_time": "2022-09-25T09:29:27.900Z"
   },
   {
    "duration": 11,
    "start_time": "2022-09-25T09:29:27.916Z"
   },
   {
    "duration": 1576,
    "start_time": "2022-09-25T09:29:27.929Z"
   },
   {
    "duration": 39,
    "start_time": "2022-09-25T09:29:29.507Z"
   },
   {
    "duration": 4,
    "start_time": "2022-09-25T09:29:29.547Z"
   },
   {
    "duration": 4,
    "start_time": "2022-09-25T09:29:29.553Z"
   },
   {
    "duration": 23,
    "start_time": "2022-09-25T09:29:29.558Z"
   },
   {
    "duration": 11,
    "start_time": "2022-09-25T09:29:29.583Z"
   },
   {
    "duration": 4,
    "start_time": "2022-09-25T09:29:29.596Z"
   },
   {
    "duration": 8,
    "start_time": "2022-09-25T09:29:29.601Z"
   },
   {
    "duration": 8,
    "start_time": "2022-09-25T09:29:29.610Z"
   },
   {
    "duration": 5,
    "start_time": "2022-09-25T09:29:29.620Z"
   },
   {
    "duration": 5,
    "start_time": "2022-09-25T09:29:29.627Z"
   },
   {
    "duration": 43,
    "start_time": "2022-09-25T09:29:29.634Z"
   },
   {
    "duration": 5,
    "start_time": "2022-09-25T09:29:29.679Z"
   },
   {
    "duration": 145,
    "start_time": "2022-09-25T09:29:29.685Z"
   },
   {
    "duration": 90,
    "start_time": "2022-09-25T09:29:29.832Z"
   },
   {
    "duration": 90,
    "start_time": "2022-09-25T09:29:29.923Z"
   },
   {
    "duration": 91,
    "start_time": "2022-09-25T09:29:30.015Z"
   },
   {
    "duration": 53,
    "start_time": "2022-09-25T09:29:30.108Z"
   },
   {
    "duration": 3,
    "start_time": "2022-09-25T09:29:30.163Z"
   },
   {
    "duration": 23,
    "start_time": "2022-09-25T09:29:30.168Z"
   },
   {
    "duration": 18,
    "start_time": "2022-09-25T09:29:30.193Z"
   },
   {
    "duration": 17,
    "start_time": "2022-09-25T09:29:30.215Z"
   },
   {
    "duration": 22,
    "start_time": "2022-09-25T09:29:30.234Z"
   },
   {
    "duration": 1080,
    "start_time": "2022-09-25T09:29:53.115Z"
   },
   {
    "duration": 39,
    "start_time": "2022-09-25T09:29:54.197Z"
   },
   {
    "duration": 18,
    "start_time": "2022-09-25T09:29:54.238Z"
   },
   {
    "duration": 7,
    "start_time": "2022-09-25T09:29:54.258Z"
   },
   {
    "duration": 15,
    "start_time": "2022-09-25T09:29:54.266Z"
   },
   {
    "duration": 11,
    "start_time": "2022-09-25T09:29:54.283Z"
   },
   {
    "duration": 1577,
    "start_time": "2022-09-25T09:29:54.296Z"
   },
   {
    "duration": 40,
    "start_time": "2022-09-25T09:29:55.874Z"
   },
   {
    "duration": 4,
    "start_time": "2022-09-25T09:29:55.915Z"
   },
   {
    "duration": 6,
    "start_time": "2022-09-25T09:29:55.921Z"
   },
   {
    "duration": 12,
    "start_time": "2022-09-25T09:29:55.928Z"
   },
   {
    "duration": 10,
    "start_time": "2022-09-25T09:29:55.941Z"
   },
   {
    "duration": 5,
    "start_time": "2022-09-25T09:29:55.977Z"
   },
   {
    "duration": 9,
    "start_time": "2022-09-25T09:29:55.984Z"
   },
   {
    "duration": 6,
    "start_time": "2022-09-25T09:29:55.995Z"
   },
   {
    "duration": 5,
    "start_time": "2022-09-25T09:29:56.003Z"
   },
   {
    "duration": 6,
    "start_time": "2022-09-25T09:29:56.010Z"
   },
   {
    "duration": 6,
    "start_time": "2022-09-25T09:29:56.017Z"
   },
   {
    "duration": 6,
    "start_time": "2022-09-25T09:29:56.025Z"
   },
   {
    "duration": 82,
    "start_time": "2022-09-25T09:29:56.033Z"
   },
   {
    "duration": 64,
    "start_time": "2022-09-25T09:29:56.117Z"
   },
   {
    "duration": 2005,
    "start_time": "2022-09-25T09:29:56.183Z"
   },
   {
    "duration": 88,
    "start_time": "2022-09-25T09:29:58.190Z"
   },
   {
    "duration": 102,
    "start_time": "2022-09-25T09:29:58.279Z"
   },
   {
    "duration": 3,
    "start_time": "2022-09-25T09:29:58.382Z"
   },
   {
    "duration": 10,
    "start_time": "2022-09-25T09:29:58.387Z"
   },
   {
    "duration": 6,
    "start_time": "2022-09-25T09:29:58.398Z"
   },
   {
    "duration": 6,
    "start_time": "2022-09-25T09:29:58.406Z"
   },
   {
    "duration": 4,
    "start_time": "2022-09-25T09:29:58.414Z"
   },
   {
    "duration": 2,
    "start_time": "2022-09-25T09:49:07.304Z"
   },
   {
    "duration": 49,
    "start_time": "2022-09-25T09:54:57.786Z"
   },
   {
    "duration": 11,
    "start_time": "2022-09-25T10:13:17.321Z"
   },
   {
    "duration": 4,
    "start_time": "2022-09-25T10:13:22.740Z"
   },
   {
    "duration": 13,
    "start_time": "2022-09-25T10:13:29.460Z"
   },
   {
    "duration": 7,
    "start_time": "2022-09-25T10:13:33.988Z"
   },
   {
    "duration": 43,
    "start_time": "2022-09-25T10:13:39.703Z"
   },
   {
    "duration": 21,
    "start_time": "2022-09-25T10:13:50.872Z"
   },
   {
    "duration": 1797,
    "start_time": "2022-09-25T10:13:57.807Z"
   },
   {
    "duration": 1074,
    "start_time": "2022-09-25T10:18:57.417Z"
   },
   {
    "duration": 40,
    "start_time": "2022-09-25T10:18:58.492Z"
   },
   {
    "duration": 19,
    "start_time": "2022-09-25T10:18:58.534Z"
   },
   {
    "duration": 8,
    "start_time": "2022-09-25T10:18:58.555Z"
   },
   {
    "duration": 19,
    "start_time": "2022-09-25T10:18:58.565Z"
   },
   {
    "duration": 11,
    "start_time": "2022-09-25T10:18:58.586Z"
   },
   {
    "duration": 1500,
    "start_time": "2022-09-25T10:18:58.598Z"
   },
   {
    "duration": 38,
    "start_time": "2022-09-25T10:19:00.101Z"
   },
   {
    "duration": 3,
    "start_time": "2022-09-25T10:19:00.141Z"
   },
   {
    "duration": 20,
    "start_time": "2022-09-25T10:19:00.146Z"
   },
   {
    "duration": 17,
    "start_time": "2022-09-25T10:19:00.168Z"
   },
   {
    "duration": 22,
    "start_time": "2022-09-25T10:19:00.187Z"
   },
   {
    "duration": 17,
    "start_time": "2022-09-25T10:19:00.211Z"
   },
   {
    "duration": 15,
    "start_time": "2022-09-25T10:19:00.230Z"
   },
   {
    "duration": 21,
    "start_time": "2022-09-25T10:19:00.247Z"
   },
   {
    "duration": 26,
    "start_time": "2022-09-25T10:19:00.270Z"
   },
   {
    "duration": 30,
    "start_time": "2022-09-25T10:19:00.297Z"
   },
   {
    "duration": 13,
    "start_time": "2022-09-25T10:19:00.329Z"
   },
   {
    "duration": 10,
    "start_time": "2022-09-25T10:19:00.343Z"
   },
   {
    "duration": 13,
    "start_time": "2022-09-25T10:19:00.355Z"
   },
   {
    "duration": 51,
    "start_time": "2022-09-25T10:19:00.370Z"
   },
   {
    "duration": 155,
    "start_time": "2022-09-25T10:19:00.423Z"
   },
   {
    "duration": 1981,
    "start_time": "2022-09-25T10:19:00.580Z"
   },
   {
    "duration": 23,
    "start_time": "2022-09-25T10:19:02.563Z"
   },
   {
    "duration": 192,
    "start_time": "2022-09-25T10:19:02.677Z"
   },
   {
    "duration": 2,
    "start_time": "2022-09-25T10:19:02.871Z"
   },
   {
    "duration": 22,
    "start_time": "2022-09-25T10:19:02.875Z"
   },
   {
    "duration": 21,
    "start_time": "2022-09-25T10:19:02.900Z"
   },
   {
    "duration": 28,
    "start_time": "2022-09-25T10:19:02.922Z"
   },
   {
    "duration": 13,
    "start_time": "2022-09-25T10:19:02.951Z"
   },
   {
    "duration": 26,
    "start_time": "2022-09-25T10:19:02.966Z"
   },
   {
    "duration": 25,
    "start_time": "2022-09-25T10:19:02.994Z"
   },
   {
    "duration": 3,
    "start_time": "2022-09-25T10:22:34.894Z"
   },
   {
    "duration": 1141,
    "start_time": "2022-09-25T10:22:43.706Z"
   },
   {
    "duration": 42,
    "start_time": "2022-09-25T10:22:44.849Z"
   },
   {
    "duration": 21,
    "start_time": "2022-09-25T10:22:44.893Z"
   },
   {
    "duration": 9,
    "start_time": "2022-09-25T10:22:44.916Z"
   },
   {
    "duration": 16,
    "start_time": "2022-09-25T10:22:44.927Z"
   },
   {
    "duration": 34,
    "start_time": "2022-09-25T10:22:44.945Z"
   },
   {
    "duration": 1725,
    "start_time": "2022-09-25T10:22:44.981Z"
   },
   {
    "duration": 42,
    "start_time": "2022-09-25T10:22:46.707Z"
   },
   {
    "duration": 4,
    "start_time": "2022-09-25T10:22:46.751Z"
   },
   {
    "duration": 25,
    "start_time": "2022-09-25T10:22:46.756Z"
   },
   {
    "duration": 11,
    "start_time": "2022-09-25T10:22:46.783Z"
   },
   {
    "duration": 13,
    "start_time": "2022-09-25T10:22:46.796Z"
   },
   {
    "duration": 4,
    "start_time": "2022-09-25T10:22:46.811Z"
   },
   {
    "duration": 7,
    "start_time": "2022-09-25T10:22:46.818Z"
   },
   {
    "duration": 6,
    "start_time": "2022-09-25T10:22:46.827Z"
   },
   {
    "duration": 6,
    "start_time": "2022-09-25T10:22:46.834Z"
   },
   {
    "duration": 6,
    "start_time": "2022-09-25T10:22:46.842Z"
   },
   {
    "duration": 4,
    "start_time": "2022-09-25T10:22:46.876Z"
   },
   {
    "duration": 6,
    "start_time": "2022-09-25T10:22:46.881Z"
   },
   {
    "duration": 6,
    "start_time": "2022-09-25T10:22:46.889Z"
   },
   {
    "duration": 56,
    "start_time": "2022-09-25T10:22:46.896Z"
   },
   {
    "duration": 41,
    "start_time": "2022-09-25T10:22:46.954Z"
   },
   {
    "duration": 2134,
    "start_time": "2022-09-25T10:22:46.996Z"
   },
   {
    "duration": 50,
    "start_time": "2022-09-25T10:22:49.132Z"
   },
   {
    "duration": 99,
    "start_time": "2022-09-25T10:22:49.184Z"
   },
   {
    "duration": 5,
    "start_time": "2022-09-25T10:22:49.285Z"
   },
   {
    "duration": 89,
    "start_time": "2022-09-25T10:22:49.292Z"
   },
   {
    "duration": 8,
    "start_time": "2022-09-25T10:22:49.382Z"
   },
   {
    "duration": 5,
    "start_time": "2022-09-25T10:22:49.391Z"
   },
   {
    "duration": 8,
    "start_time": "2022-09-25T10:22:49.397Z"
   },
   {
    "duration": 5,
    "start_time": "2022-09-25T10:22:49.407Z"
   },
   {
    "duration": 5,
    "start_time": "2022-09-25T10:22:49.414Z"
   },
   {
    "duration": 120,
    "start_time": "2022-09-25T10:26:05.548Z"
   },
   {
    "duration": 6,
    "start_time": "2022-09-25T10:34:59.823Z"
   },
   {
    "duration": 51,
    "start_time": "2022-09-25T10:36:24.722Z"
   },
   {
    "duration": 42,
    "start_time": "2022-09-25T10:37:10.847Z"
   },
   {
    "duration": 194,
    "start_time": "2022-09-25T10:37:23.288Z"
   },
   {
    "duration": 1970,
    "start_time": "2022-09-25T10:38:36.187Z"
   },
   {
    "duration": 176,
    "start_time": "2022-09-25T10:40:02.295Z"
   },
   {
    "duration": 6,
    "start_time": "2022-09-25T10:40:15.018Z"
   },
   {
    "duration": 331,
    "start_time": "2022-09-25T10:40:21.678Z"
   },
   {
    "duration": 194,
    "start_time": "2022-09-25T10:40:27.508Z"
   },
   {
    "duration": 50,
    "start_time": "2022-09-25T10:41:16.492Z"
   },
   {
    "duration": 118,
    "start_time": "2022-09-25T11:04:41.762Z"
   },
   {
    "duration": 71,
    "start_time": "2022-09-25T11:05:48.881Z"
   },
   {
    "duration": 9,
    "start_time": "2022-09-25T11:06:14.555Z"
   },
   {
    "duration": 64,
    "start_time": "2022-09-25T11:06:21.233Z"
   },
   {
    "duration": 4,
    "start_time": "2022-09-25T11:06:38.957Z"
   },
   {
    "duration": 397,
    "start_time": "2022-09-25T11:06:42.530Z"
   },
   {
    "duration": 624,
    "start_time": "2022-09-25T11:10:00.034Z"
   },
   {
    "duration": 423,
    "start_time": "2022-09-25T11:10:28.077Z"
   },
   {
    "duration": 364,
    "start_time": "2022-09-25T11:10:32.350Z"
   },
   {
    "duration": 4,
    "start_time": "2022-09-25T11:11:15.548Z"
   },
   {
    "duration": 4,
    "start_time": "2022-09-25T11:11:36.326Z"
   },
   {
    "duration": 34,
    "start_time": "2022-09-25T11:14:18.270Z"
   },
   {
    "duration": 2850,
    "start_time": "2022-09-25T11:15:06.585Z"
   },
   {
    "duration": 415,
    "start_time": "2022-09-25T11:15:23.044Z"
   },
   {
    "duration": 5,
    "start_time": "2022-09-25T11:17:06.294Z"
   },
   {
    "duration": 8523,
    "start_time": "2022-09-25T11:18:55.335Z"
   },
   {
    "duration": 464,
    "start_time": "2022-09-25T11:19:26.355Z"
   },
   {
    "duration": 465,
    "start_time": "2022-09-25T11:19:38.023Z"
   },
   {
    "duration": 21,
    "start_time": "2022-09-25T11:23:29.080Z"
   },
   {
    "duration": 1157,
    "start_time": "2022-09-25T11:23:43.270Z"
   },
   {
    "duration": 41,
    "start_time": "2022-09-25T11:23:44.430Z"
   },
   {
    "duration": 25,
    "start_time": "2022-09-25T11:23:44.473Z"
   },
   {
    "duration": 8,
    "start_time": "2022-09-25T11:23:44.499Z"
   },
   {
    "duration": 16,
    "start_time": "2022-09-25T11:23:44.509Z"
   },
   {
    "duration": 11,
    "start_time": "2022-09-25T11:23:44.527Z"
   },
   {
    "duration": 1809,
    "start_time": "2022-09-25T11:23:44.540Z"
   },
   {
    "duration": 53,
    "start_time": "2022-09-25T11:23:46.351Z"
   },
   {
    "duration": 4,
    "start_time": "2022-09-25T11:23:46.405Z"
   },
   {
    "duration": 7,
    "start_time": "2022-09-25T11:23:46.410Z"
   },
   {
    "duration": 7,
    "start_time": "2022-09-25T11:23:46.418Z"
   },
   {
    "duration": 6,
    "start_time": "2022-09-25T11:23:46.426Z"
   },
   {
    "duration": 10,
    "start_time": "2022-09-25T11:23:46.434Z"
   },
   {
    "duration": 44,
    "start_time": "2022-09-25T11:23:46.447Z"
   },
   {
    "duration": 6,
    "start_time": "2022-09-25T11:23:46.493Z"
   },
   {
    "duration": 10,
    "start_time": "2022-09-25T11:23:46.501Z"
   },
   {
    "duration": 6,
    "start_time": "2022-09-25T11:23:46.512Z"
   },
   {
    "duration": 6,
    "start_time": "2022-09-25T11:23:46.520Z"
   },
   {
    "duration": 7,
    "start_time": "2022-09-25T11:23:46.527Z"
   },
   {
    "duration": 7,
    "start_time": "2022-09-25T11:23:46.535Z"
   },
   {
    "duration": 9,
    "start_time": "2022-09-25T11:23:46.544Z"
   },
   {
    "duration": 161,
    "start_time": "2022-09-25T11:23:46.555Z"
   },
   {
    "duration": 0,
    "start_time": "2022-09-25T11:23:46.718Z"
   },
   {
    "duration": 0,
    "start_time": "2022-09-25T11:23:46.719Z"
   },
   {
    "duration": 0,
    "start_time": "2022-09-25T11:23:46.721Z"
   },
   {
    "duration": 0,
    "start_time": "2022-09-25T11:23:46.722Z"
   },
   {
    "duration": 0,
    "start_time": "2022-09-25T11:23:46.723Z"
   },
   {
    "duration": 0,
    "start_time": "2022-09-25T11:23:46.725Z"
   },
   {
    "duration": 0,
    "start_time": "2022-09-25T11:23:46.726Z"
   },
   {
    "duration": 0,
    "start_time": "2022-09-25T11:23:46.728Z"
   },
   {
    "duration": 0,
    "start_time": "2022-09-25T11:23:46.729Z"
   },
   {
    "duration": 0,
    "start_time": "2022-09-25T11:23:46.730Z"
   },
   {
    "duration": 0,
    "start_time": "2022-09-25T11:23:46.731Z"
   },
   {
    "duration": 0,
    "start_time": "2022-09-25T11:23:46.733Z"
   },
   {
    "duration": 0,
    "start_time": "2022-09-25T11:23:46.734Z"
   },
   {
    "duration": 0,
    "start_time": "2022-09-25T11:23:46.736Z"
   },
   {
    "duration": 1,
    "start_time": "2022-09-25T11:23:46.737Z"
   },
   {
    "duration": 0,
    "start_time": "2022-09-25T11:23:46.739Z"
   },
   {
    "duration": 0,
    "start_time": "2022-09-25T11:23:46.741Z"
   },
   {
    "duration": 9,
    "start_time": "2022-09-25T11:24:30.049Z"
   },
   {
    "duration": 307,
    "start_time": "2022-09-25T11:24:36.053Z"
   },
   {
    "duration": 8071,
    "start_time": "2022-09-25T11:24:45.323Z"
   },
   {
    "duration": 403,
    "start_time": "2022-09-25T11:25:08.221Z"
   },
   {
    "duration": 29,
    "start_time": "2022-09-25T11:25:24.594Z"
   },
   {
    "duration": 1156,
    "start_time": "2022-09-25T11:25:49.990Z"
   },
   {
    "duration": 45,
    "start_time": "2022-09-25T11:25:51.149Z"
   },
   {
    "duration": 18,
    "start_time": "2022-09-25T11:25:51.196Z"
   },
   {
    "duration": 7,
    "start_time": "2022-09-25T11:25:51.216Z"
   },
   {
    "duration": 14,
    "start_time": "2022-09-25T11:25:51.225Z"
   },
   {
    "duration": 11,
    "start_time": "2022-09-25T11:25:51.240Z"
   },
   {
    "duration": 1646,
    "start_time": "2022-09-25T11:25:51.252Z"
   },
   {
    "duration": 41,
    "start_time": "2022-09-25T11:25:52.899Z"
   },
   {
    "duration": 4,
    "start_time": "2022-09-25T11:25:52.942Z"
   },
   {
    "duration": 9,
    "start_time": "2022-09-25T11:25:52.947Z"
   },
   {
    "duration": 29,
    "start_time": "2022-09-25T11:25:52.958Z"
   },
   {
    "duration": 12,
    "start_time": "2022-09-25T11:25:52.988Z"
   },
   {
    "duration": 14,
    "start_time": "2022-09-25T11:25:53.002Z"
   },
   {
    "duration": 9,
    "start_time": "2022-09-25T11:25:53.019Z"
   },
   {
    "duration": 4,
    "start_time": "2022-09-25T11:25:53.030Z"
   },
   {
    "duration": 8,
    "start_time": "2022-09-25T11:25:53.036Z"
   },
   {
    "duration": 7,
    "start_time": "2022-09-25T11:25:53.046Z"
   },
   {
    "duration": 33,
    "start_time": "2022-09-25T11:25:53.054Z"
   },
   {
    "duration": 5,
    "start_time": "2022-09-25T11:25:53.088Z"
   },
   {
    "duration": 8,
    "start_time": "2022-09-25T11:25:53.094Z"
   },
   {
    "duration": 5,
    "start_time": "2022-09-25T11:25:53.104Z"
   },
   {
    "duration": 11,
    "start_time": "2022-09-25T11:25:53.111Z"
   },
   {
    "duration": 2,
    "start_time": "2022-09-25T11:25:53.124Z"
   },
   {
    "duration": 314,
    "start_time": "2022-09-25T11:25:53.128Z"
   },
   {
    "duration": 7522,
    "start_time": "2022-09-25T11:25:53.444Z"
   },
   {
    "duration": 423,
    "start_time": "2022-09-25T11:26:00.968Z"
   },
   {
    "duration": 31,
    "start_time": "2022-09-25T11:26:01.394Z"
   },
   {
    "duration": 63,
    "start_time": "2022-09-25T11:26:01.426Z"
   },
   {
    "duration": 283,
    "start_time": "2022-09-25T11:26:01.495Z"
   },
   {
    "duration": 1806,
    "start_time": "2022-09-25T11:26:01.784Z"
   },
   {
    "duration": 7,
    "start_time": "2022-09-25T11:26:03.592Z"
   },
   {
    "duration": 125,
    "start_time": "2022-09-25T11:26:03.601Z"
   },
   {
    "duration": 3,
    "start_time": "2022-09-25T11:26:03.728Z"
   },
   {
    "duration": 9,
    "start_time": "2022-09-25T11:26:03.732Z"
   },
   {
    "duration": 10,
    "start_time": "2022-09-25T11:26:03.743Z"
   },
   {
    "duration": 8,
    "start_time": "2022-09-25T11:26:03.755Z"
   },
   {
    "duration": 8,
    "start_time": "2022-09-25T11:26:03.765Z"
   },
   {
    "duration": 20,
    "start_time": "2022-09-25T11:26:03.774Z"
   },
   {
    "duration": 828,
    "start_time": "2022-09-25T11:26:03.795Z"
   },
   {
    "duration": 12,
    "start_time": "2022-09-25T11:27:25.379Z"
   },
   {
    "duration": 255,
    "start_time": "2022-09-25T11:27:28.000Z"
   },
   {
    "duration": 7209,
    "start_time": "2022-09-25T11:27:32.427Z"
   },
   {
    "duration": 402,
    "start_time": "2022-09-25T11:27:42.698Z"
   },
   {
    "duration": 26,
    "start_time": "2022-09-25T11:27:45.537Z"
   },
   {
    "duration": 11,
    "start_time": "2022-09-25T11:28:47.912Z"
   },
   {
    "duration": 289,
    "start_time": "2022-09-25T11:30:32.755Z"
   },
   {
    "duration": 430,
    "start_time": "2022-09-25T11:30:45.821Z"
   },
   {
    "duration": 594,
    "start_time": "2022-09-25T11:30:49.857Z"
   },
   {
    "duration": 746,
    "start_time": "2022-09-25T11:30:54.031Z"
   },
   {
    "duration": 747,
    "start_time": "2022-09-25T11:31:01.213Z"
   },
   {
    "duration": 712,
    "start_time": "2022-09-25T11:31:07.584Z"
   },
   {
    "duration": 735,
    "start_time": "2022-09-25T11:31:12.932Z"
   },
   {
    "duration": 699,
    "start_time": "2022-09-25T11:31:18.357Z"
   },
   {
    "duration": 721,
    "start_time": "2022-09-25T11:31:22.236Z"
   },
   {
    "duration": 93,
    "start_time": "2022-09-25T11:40:36.406Z"
   },
   {
    "duration": 4,
    "start_time": "2022-09-25T11:40:51.808Z"
   },
   {
    "duration": 4,
    "start_time": "2022-09-25T11:41:14.284Z"
   },
   {
    "duration": 140085,
    "start_time": "2022-09-25T11:41:21.163Z"
   },
   {
    "duration": 4,
    "start_time": "2022-09-25T11:43:53.798Z"
   },
   {
    "duration": 767,
    "start_time": "2022-09-25T11:44:36.497Z"
   },
   {
    "duration": 20758,
    "start_time": "2022-09-25T11:45:40.193Z"
   },
   {
    "duration": 784,
    "start_time": "2022-09-25T11:46:53.693Z"
   },
   {
    "duration": 54,
    "start_time": "2022-09-25T11:49:48.470Z"
   },
   {
    "duration": 51,
    "start_time": "2022-09-25T11:51:10.189Z"
   },
   {
    "duration": 64,
    "start_time": "2022-09-25T11:51:15.646Z"
   },
   {
    "duration": 229,
    "start_time": "2022-09-25T11:53:22.249Z"
   },
   {
    "duration": 20679,
    "start_time": "2022-09-25T11:53:33.631Z"
   },
   {
    "duration": 13,
    "start_time": "2022-09-25T11:54:37.805Z"
   },
   {
    "duration": 5,
    "start_time": "2022-09-25T11:55:29.144Z"
   },
   {
    "duration": 12,
    "start_time": "2022-09-25T11:55:42.890Z"
   },
   {
    "duration": 46,
    "start_time": "2022-09-25T11:58:06.531Z"
   },
   {
    "duration": 5,
    "start_time": "2022-09-25T11:58:14.437Z"
   },
   {
    "duration": 14,
    "start_time": "2022-09-25T11:58:21.440Z"
   },
   {
    "duration": 929,
    "start_time": "2022-09-25T11:58:39.588Z"
   },
   {
    "duration": 1166,
    "start_time": "2022-09-25T11:58:52.958Z"
   },
   {
    "duration": 9,
    "start_time": "2022-09-25T11:59:15.415Z"
   },
   {
    "duration": 6,
    "start_time": "2022-09-25T11:59:15.623Z"
   },
   {
    "duration": 11,
    "start_time": "2022-09-25T11:59:15.806Z"
   },
   {
    "duration": 8,
    "start_time": "2022-09-25T11:59:16.132Z"
   },
   {
    "duration": 4,
    "start_time": "2022-09-25T11:59:16.591Z"
   },
   {
    "duration": 4,
    "start_time": "2022-09-25T11:59:16.902Z"
   },
   {
    "duration": 4,
    "start_time": "2022-09-25T11:59:17.196Z"
   },
   {
    "duration": 4,
    "start_time": "2022-09-25T11:59:18.776Z"
   },
   {
    "duration": 12,
    "start_time": "2022-09-25T11:59:19.194Z"
   },
   {
    "duration": 825,
    "start_time": "2022-09-25T11:59:29.463Z"
   },
   {
    "duration": 26,
    "start_time": "2022-09-25T11:59:33.588Z"
   },
   {
    "duration": 775,
    "start_time": "2022-09-25T12:05:28.662Z"
   },
   {
    "duration": 807,
    "start_time": "2022-09-25T12:05:33.081Z"
   },
   {
    "duration": 1597,
    "start_time": "2022-09-25T12:05:39.097Z"
   },
   {
    "duration": 2322,
    "start_time": "2022-09-25T12:05:56.437Z"
   },
   {
    "duration": 2244,
    "start_time": "2022-09-25T12:06:02.958Z"
   },
   {
    "duration": 1574,
    "start_time": "2022-09-25T12:06:12.195Z"
   },
   {
    "duration": 1119,
    "start_time": "2022-09-25T12:17:53.095Z"
   },
   {
    "duration": 39,
    "start_time": "2022-09-25T12:17:54.216Z"
   },
   {
    "duration": 18,
    "start_time": "2022-09-25T12:17:54.256Z"
   },
   {
    "duration": 6,
    "start_time": "2022-09-25T12:17:54.276Z"
   },
   {
    "duration": 13,
    "start_time": "2022-09-25T12:17:54.284Z"
   },
   {
    "duration": 10,
    "start_time": "2022-09-25T12:17:54.299Z"
   },
   {
    "duration": 1666,
    "start_time": "2022-09-25T12:17:54.311Z"
   },
   {
    "duration": 41,
    "start_time": "2022-09-25T12:17:55.978Z"
   },
   {
    "duration": 3,
    "start_time": "2022-09-25T12:17:56.021Z"
   },
   {
    "duration": 6,
    "start_time": "2022-09-25T12:17:56.026Z"
   },
   {
    "duration": 6,
    "start_time": "2022-09-25T12:17:56.033Z"
   },
   {
    "duration": 6,
    "start_time": "2022-09-25T12:17:56.040Z"
   },
   {
    "duration": 36,
    "start_time": "2022-09-25T12:17:56.048Z"
   },
   {
    "duration": 4,
    "start_time": "2022-09-25T12:17:56.087Z"
   },
   {
    "duration": 11,
    "start_time": "2022-09-25T12:17:56.092Z"
   },
   {
    "duration": 13,
    "start_time": "2022-09-25T12:17:56.105Z"
   },
   {
    "duration": 4,
    "start_time": "2022-09-25T12:17:56.119Z"
   },
   {
    "duration": 7,
    "start_time": "2022-09-25T12:17:56.125Z"
   },
   {
    "duration": 6,
    "start_time": "2022-09-25T12:17:56.133Z"
   },
   {
    "duration": 36,
    "start_time": "2022-09-25T12:17:56.140Z"
   },
   {
    "duration": 4,
    "start_time": "2022-09-25T12:17:56.178Z"
   },
   {
    "duration": 9,
    "start_time": "2022-09-25T12:17:56.183Z"
   },
   {
    "duration": 9,
    "start_time": "2022-09-25T12:17:56.194Z"
   },
   {
    "duration": 16,
    "start_time": "2022-09-25T12:17:56.204Z"
   },
   {
    "duration": 227,
    "start_time": "2022-09-25T12:17:56.221Z"
   },
   {
    "duration": 21524,
    "start_time": "2022-09-25T12:17:56.450Z"
   },
   {
    "duration": 2,
    "start_time": "2022-09-25T12:18:17.977Z"
   },
   {
    "duration": 7,
    "start_time": "2022-09-25T12:18:17.981Z"
   },
   {
    "duration": 1458,
    "start_time": "2022-09-25T12:18:17.990Z"
   },
   {
    "duration": 39,
    "start_time": "2022-09-25T12:18:19.449Z"
   },
   {
    "duration": 121,
    "start_time": "2022-09-25T12:18:19.490Z"
   },
   {
    "duration": 3,
    "start_time": "2022-09-25T12:18:19.612Z"
   },
   {
    "duration": 5,
    "start_time": "2022-09-25T12:18:19.617Z"
   },
   {
    "duration": 5,
    "start_time": "2022-09-25T12:18:19.623Z"
   },
   {
    "duration": 10,
    "start_time": "2022-09-25T12:18:19.629Z"
   },
   {
    "duration": 8,
    "start_time": "2022-09-25T12:18:19.640Z"
   },
   {
    "duration": 5,
    "start_time": "2022-09-25T12:18:19.650Z"
   },
   {
    "duration": 883,
    "start_time": "2022-09-25T12:18:19.657Z"
   },
   {
    "duration": 23,
    "start_time": "2022-09-25T12:19:19.303Z"
   },
   {
    "duration": 25,
    "start_time": "2022-09-25T12:19:21.853Z"
   },
   {
    "duration": 25,
    "start_time": "2022-09-25T12:19:24.624Z"
   },
   {
    "duration": 29,
    "start_time": "2022-09-25T12:19:27.204Z"
   },
   {
    "duration": 31,
    "start_time": "2022-09-25T12:19:29.441Z"
   },
   {
    "duration": 30,
    "start_time": "2022-09-25T12:19:31.721Z"
   },
   {
    "duration": 15,
    "start_time": "2022-09-25T12:19:34.383Z"
   },
   {
    "duration": 19,
    "start_time": "2022-09-25T12:19:36.770Z"
   },
   {
    "duration": 26,
    "start_time": "2022-09-25T12:19:40.571Z"
   },
   {
    "duration": 29,
    "start_time": "2022-09-25T12:19:43.172Z"
   },
   {
    "duration": 27,
    "start_time": "2022-09-25T12:19:47.188Z"
   },
   {
    "duration": 22,
    "start_time": "2022-09-25T12:19:51.799Z"
   },
   {
    "duration": 21,
    "start_time": "2022-09-25T12:19:54.766Z"
   },
   {
    "duration": 46,
    "start_time": "2022-09-25T12:19:57.849Z"
   },
   {
    "duration": 48,
    "start_time": "2022-09-25T12:20:00.129Z"
   },
   {
    "duration": 47,
    "start_time": "2022-09-25T12:20:01.617Z"
   },
   {
    "duration": 35,
    "start_time": "2022-09-25T12:20:07.379Z"
   },
   {
    "duration": 38,
    "start_time": "2022-09-25T12:20:09.786Z"
   },
   {
    "duration": 41,
    "start_time": "2022-09-25T12:20:12.498Z"
   },
   {
    "duration": 38,
    "start_time": "2022-09-25T12:20:15.113Z"
   },
   {
    "duration": 40,
    "start_time": "2022-09-25T12:20:18.977Z"
   },
   {
    "duration": 37,
    "start_time": "2022-09-25T12:20:21.027Z"
   },
   {
    "duration": 39,
    "start_time": "2022-09-25T12:20:23.251Z"
   },
   {
    "duration": 44,
    "start_time": "2022-09-25T12:20:25.695Z"
   },
   {
    "duration": 38,
    "start_time": "2022-09-25T12:20:27.946Z"
   },
   {
    "duration": 39,
    "start_time": "2022-09-25T12:20:30.660Z"
   },
   {
    "duration": 25,
    "start_time": "2022-09-25T12:20:33.455Z"
   },
   {
    "duration": 24,
    "start_time": "2022-09-25T12:20:37.260Z"
   },
   {
    "duration": 30,
    "start_time": "2022-09-25T12:20:40.719Z"
   },
   {
    "duration": 30,
    "start_time": "2022-09-25T12:20:46.572Z"
   },
   {
    "duration": 25,
    "start_time": "2022-09-25T12:20:49.474Z"
   },
   {
    "duration": 25,
    "start_time": "2022-09-25T12:20:59.704Z"
   },
   {
    "duration": 18,
    "start_time": "2022-09-25T12:21:03.890Z"
   },
   {
    "duration": 18,
    "start_time": "2022-09-25T12:21:06.266Z"
   },
   {
    "duration": 21,
    "start_time": "2022-09-25T12:21:08.138Z"
   },
   {
    "duration": 22,
    "start_time": "2022-09-25T12:21:11.085Z"
   },
   {
    "duration": 28,
    "start_time": "2022-09-25T12:21:14.173Z"
   },
   {
    "duration": 41,
    "start_time": "2022-09-25T12:21:16.340Z"
   },
   {
    "duration": 30,
    "start_time": "2022-09-25T12:21:18.183Z"
   },
   {
    "duration": 33,
    "start_time": "2022-09-25T12:21:20.105Z"
   },
   {
    "duration": 34,
    "start_time": "2022-09-25T12:21:23.742Z"
   },
   {
    "duration": 35,
    "start_time": "2022-09-25T12:21:25.769Z"
   },
   {
    "duration": 41,
    "start_time": "2022-09-25T12:21:28.558Z"
   },
   {
    "duration": 38,
    "start_time": "2022-09-25T12:21:31.464Z"
   },
   {
    "duration": 39,
    "start_time": "2022-09-25T12:21:33.867Z"
   },
   {
    "duration": 40,
    "start_time": "2022-09-25T12:21:35.629Z"
   },
   {
    "duration": 42,
    "start_time": "2022-09-25T12:21:37.252Z"
   },
   {
    "duration": 24,
    "start_time": "2022-09-25T12:21:43.889Z"
   },
   {
    "duration": 1363,
    "start_time": "2022-09-25T12:22:27.389Z"
   },
   {
    "duration": 2016,
    "start_time": "2022-09-25T12:22:33.697Z"
   },
   {
    "duration": 4782,
    "start_time": "2022-09-25T12:22:39.006Z"
   },
   {
    "duration": 711,
    "start_time": "2022-09-25T12:22:47.967Z"
   },
   {
    "duration": 706,
    "start_time": "2022-09-25T12:22:52.351Z"
   },
   {
    "duration": 1032,
    "start_time": "2022-09-25T12:22:56.742Z"
   },
   {
    "duration": 1361,
    "start_time": "2022-09-25T12:23:01.157Z"
   },
   {
    "duration": 650,
    "start_time": "2022-09-25T12:23:07.609Z"
   },
   {
    "duration": 724,
    "start_time": "2022-09-25T12:23:11.869Z"
   },
   {
    "duration": 789,
    "start_time": "2022-09-25T12:23:14.926Z"
   },
   {
    "duration": 686,
    "start_time": "2022-09-25T12:23:17.846Z"
   },
   {
    "duration": 718,
    "start_time": "2022-09-25T12:23:20.235Z"
   },
   {
    "duration": 227,
    "start_time": "2022-09-25T12:23:35.574Z"
   },
   {
    "duration": 19212,
    "start_time": "2022-09-25T12:23:51.627Z"
   },
   {
    "duration": 755,
    "start_time": "2022-09-25T12:24:26.282Z"
   },
   {
    "duration": 31,
    "start_time": "2022-09-25T12:25:49.813Z"
   },
   {
    "duration": 143818,
    "start_time": "2022-09-25T12:25:57.279Z"
   },
   {
    "duration": 4,
    "start_time": "2022-09-25T12:28:29.597Z"
   },
   {
    "duration": 772,
    "start_time": "2022-09-25T12:28:39.855Z"
   },
   {
    "duration": 801,
    "start_time": "2022-09-25T12:28:47.463Z"
   },
   {
    "duration": 2,
    "start_time": "2022-09-25T12:55:43.029Z"
   },
   {
    "duration": 160,
    "start_time": "2022-09-25T13:00:39.535Z"
   },
   {
    "duration": 4,
    "start_time": "2022-09-25T13:01:35.774Z"
   },
   {
    "duration": 59,
    "start_time": "2022-09-25T13:01:40.295Z"
   },
   {
    "duration": 104,
    "start_time": "2022-09-25T13:16:44.966Z"
   },
   {
    "duration": 23,
    "start_time": "2022-09-25T13:37:05.448Z"
   },
   {
    "duration": 1221,
    "start_time": "2022-09-25T13:39:04.418Z"
   },
   {
    "duration": 45,
    "start_time": "2022-09-25T13:39:05.642Z"
   },
   {
    "duration": 24,
    "start_time": "2022-09-25T13:39:05.688Z"
   },
   {
    "duration": 9,
    "start_time": "2022-09-25T13:39:05.714Z"
   },
   {
    "duration": 20,
    "start_time": "2022-09-25T13:39:05.725Z"
   },
   {
    "duration": 40,
    "start_time": "2022-09-25T13:39:05.746Z"
   },
   {
    "duration": 1718,
    "start_time": "2022-09-25T13:39:05.788Z"
   },
   {
    "duration": 41,
    "start_time": "2022-09-25T13:39:07.508Z"
   },
   {
    "duration": 5,
    "start_time": "2022-09-25T13:39:07.551Z"
   },
   {
    "duration": 11,
    "start_time": "2022-09-25T13:39:07.578Z"
   },
   {
    "duration": 14,
    "start_time": "2022-09-25T13:39:07.597Z"
   },
   {
    "duration": 20,
    "start_time": "2022-09-25T13:39:07.613Z"
   },
   {
    "duration": 28,
    "start_time": "2022-09-25T13:39:07.635Z"
   },
   {
    "duration": 12,
    "start_time": "2022-09-25T13:39:07.668Z"
   },
   {
    "duration": 31,
    "start_time": "2022-09-25T13:39:07.685Z"
   },
   {
    "duration": 13,
    "start_time": "2022-09-25T13:39:07.717Z"
   },
   {
    "duration": 5,
    "start_time": "2022-09-25T13:39:07.731Z"
   },
   {
    "duration": 9,
    "start_time": "2022-09-25T13:39:07.737Z"
   },
   {
    "duration": 7,
    "start_time": "2022-09-25T13:39:07.747Z"
   },
   {
    "duration": 6,
    "start_time": "2022-09-25T13:39:07.755Z"
   },
   {
    "duration": 22,
    "start_time": "2022-09-25T13:39:07.762Z"
   },
   {
    "duration": 15,
    "start_time": "2022-09-25T13:39:07.785Z"
   },
   {
    "duration": 8,
    "start_time": "2022-09-25T13:39:07.802Z"
   },
   {
    "duration": 19,
    "start_time": "2022-09-25T13:39:07.812Z"
   },
   {
    "duration": 255,
    "start_time": "2022-09-25T13:39:07.833Z"
   },
   {
    "duration": 19867,
    "start_time": "2022-09-25T13:39:08.092Z"
   },
   {
    "duration": 1296,
    "start_time": "2022-09-25T13:39:44.173Z"
   },
   {
    "duration": 50,
    "start_time": "2022-09-25T13:39:45.472Z"
   },
   {
    "duration": 22,
    "start_time": "2022-09-25T13:39:45.525Z"
   },
   {
    "duration": 8,
    "start_time": "2022-09-25T13:39:45.549Z"
   },
   {
    "duration": 29,
    "start_time": "2022-09-25T13:39:45.558Z"
   },
   {
    "duration": 13,
    "start_time": "2022-09-25T13:39:45.592Z"
   },
   {
    "duration": 1655,
    "start_time": "2022-09-25T13:39:45.607Z"
   },
   {
    "duration": 47,
    "start_time": "2022-09-25T13:39:47.264Z"
   },
   {
    "duration": 3,
    "start_time": "2022-09-25T13:39:47.313Z"
   },
   {
    "duration": 7,
    "start_time": "2022-09-25T13:39:47.318Z"
   },
   {
    "duration": 6,
    "start_time": "2022-09-25T13:39:47.326Z"
   },
   {
    "duration": 6,
    "start_time": "2022-09-25T13:39:47.333Z"
   },
   {
    "duration": 13,
    "start_time": "2022-09-25T13:39:47.342Z"
   },
   {
    "duration": 21,
    "start_time": "2022-09-25T13:39:47.357Z"
   },
   {
    "duration": 26,
    "start_time": "2022-09-25T13:39:47.379Z"
   },
   {
    "duration": 10,
    "start_time": "2022-09-25T13:39:47.408Z"
   },
   {
    "duration": 4,
    "start_time": "2022-09-25T13:39:47.420Z"
   },
   {
    "duration": 10,
    "start_time": "2022-09-25T13:39:47.426Z"
   },
   {
    "duration": 5,
    "start_time": "2022-09-25T13:39:47.438Z"
   },
   {
    "duration": 7,
    "start_time": "2022-09-25T13:39:47.445Z"
   },
   {
    "duration": 11,
    "start_time": "2022-09-25T13:39:47.453Z"
   },
   {
    "duration": 22,
    "start_time": "2022-09-25T13:39:47.465Z"
   },
   {
    "duration": 8,
    "start_time": "2022-09-25T13:39:47.489Z"
   },
   {
    "duration": 16,
    "start_time": "2022-09-25T13:39:47.499Z"
   },
   {
    "duration": 230,
    "start_time": "2022-09-25T13:39:47.517Z"
   },
   {
    "duration": 19704,
    "start_time": "2022-09-25T13:39:47.749Z"
   },
   {
    "duration": 2,
    "start_time": "2022-09-25T13:40:07.455Z"
   },
   {
    "duration": 20,
    "start_time": "2022-09-25T13:40:07.459Z"
   },
   {
    "duration": 773,
    "start_time": "2022-09-25T13:40:07.482Z"
   },
   {
    "duration": 35,
    "start_time": "2022-09-25T13:40:08.257Z"
   },
   {
    "duration": 120,
    "start_time": "2022-09-25T13:40:08.294Z"
   },
   {
    "duration": 126,
    "start_time": "2022-09-25T13:40:08.416Z"
   },
   {
    "duration": 0,
    "start_time": "2022-09-25T13:40:08.544Z"
   },
   {
    "duration": 0,
    "start_time": "2022-09-25T13:40:08.546Z"
   },
   {
    "duration": 0,
    "start_time": "2022-09-25T13:40:08.548Z"
   },
   {
    "duration": 0,
    "start_time": "2022-09-25T13:40:08.549Z"
   },
   {
    "duration": 0,
    "start_time": "2022-09-25T13:40:08.550Z"
   },
   {
    "duration": 0,
    "start_time": "2022-09-25T13:40:08.551Z"
   },
   {
    "duration": 14,
    "start_time": "2022-09-25T13:42:30.274Z"
   },
   {
    "duration": 20,
    "start_time": "2022-09-25T13:46:23.392Z"
   },
   {
    "duration": 1198,
    "start_time": "2022-09-25T13:46:31.804Z"
   },
   {
    "duration": 48,
    "start_time": "2022-09-25T13:46:33.005Z"
   },
   {
    "duration": 32,
    "start_time": "2022-09-25T13:46:33.054Z"
   },
   {
    "duration": 10,
    "start_time": "2022-09-25T13:46:33.090Z"
   },
   {
    "duration": 21,
    "start_time": "2022-09-25T13:46:33.103Z"
   },
   {
    "duration": 13,
    "start_time": "2022-09-25T13:46:33.126Z"
   },
   {
    "duration": 1787,
    "start_time": "2022-09-25T13:46:33.141Z"
   },
   {
    "duration": 43,
    "start_time": "2022-09-25T13:46:34.931Z"
   },
   {
    "duration": 9,
    "start_time": "2022-09-25T13:46:34.978Z"
   },
   {
    "duration": 24,
    "start_time": "2022-09-25T13:46:34.993Z"
   },
   {
    "duration": 9,
    "start_time": "2022-09-25T13:46:35.018Z"
   },
   {
    "duration": 12,
    "start_time": "2022-09-25T13:46:35.028Z"
   },
   {
    "duration": 21,
    "start_time": "2022-09-25T13:46:35.042Z"
   },
   {
    "duration": 41,
    "start_time": "2022-09-25T13:46:35.067Z"
   },
   {
    "duration": 22,
    "start_time": "2022-09-25T13:46:35.110Z"
   },
   {
    "duration": 17,
    "start_time": "2022-09-25T13:46:35.134Z"
   },
   {
    "duration": 8,
    "start_time": "2022-09-25T13:46:35.153Z"
   },
   {
    "duration": 24,
    "start_time": "2022-09-25T13:46:35.163Z"
   },
   {
    "duration": 46,
    "start_time": "2022-09-25T13:46:35.194Z"
   },
   {
    "duration": 8,
    "start_time": "2022-09-25T13:46:35.243Z"
   },
   {
    "duration": 45,
    "start_time": "2022-09-25T13:46:35.254Z"
   },
   {
    "duration": 30,
    "start_time": "2022-09-25T13:46:35.302Z"
   },
   {
    "duration": 23,
    "start_time": "2022-09-25T13:46:35.336Z"
   },
   {
    "duration": 77,
    "start_time": "2022-09-25T13:46:35.362Z"
   },
   {
    "duration": 2,
    "start_time": "2022-09-25T13:46:35.442Z"
   },
   {
    "duration": 458,
    "start_time": "2022-09-25T13:46:35.446Z"
   },
   {
    "duration": 22024,
    "start_time": "2022-09-25T13:46:35.905Z"
   },
   {
    "duration": 3,
    "start_time": "2022-09-25T13:46:57.931Z"
   },
   {
    "duration": 6,
    "start_time": "2022-09-25T13:46:57.936Z"
   },
   {
    "duration": 912,
    "start_time": "2022-09-25T13:46:57.944Z"
   },
   {
    "duration": 47,
    "start_time": "2022-09-25T13:46:58.858Z"
   },
   {
    "duration": 196,
    "start_time": "2022-09-25T13:46:58.909Z"
   },
   {
    "duration": 21,
    "start_time": "2022-09-25T13:46:59.108Z"
   },
   {
    "duration": 20,
    "start_time": "2022-09-25T13:46:59.132Z"
   },
   {
    "duration": 15,
    "start_time": "2022-09-25T13:46:59.154Z"
   },
   {
    "duration": 46,
    "start_time": "2022-09-25T13:46:59.172Z"
   },
   {
    "duration": 19,
    "start_time": "2022-09-25T13:46:59.220Z"
   },
   {
    "duration": 13,
    "start_time": "2022-09-25T13:46:59.241Z"
   },
   {
    "duration": 77,
    "start_time": "2022-09-25T13:46:59.256Z"
   },
   {
    "duration": 7,
    "start_time": "2022-09-25T13:48:24.439Z"
   },
   {
    "duration": 60926,
    "start_time": "2022-09-25T13:49:16.595Z"
   },
   {
    "duration": 954,
    "start_time": "2022-09-25T13:51:10.465Z"
   },
   {
    "duration": 31,
    "start_time": "2022-09-25T13:52:16.894Z"
   },
   {
    "duration": 39,
    "start_time": "2022-09-25T13:52:31.538Z"
   },
   {
    "duration": 195160,
    "start_time": "2022-09-25T13:52:40.286Z"
   },
   {
    "duration": 4,
    "start_time": "2022-09-25T13:56:03.594Z"
   },
   {
    "duration": 757,
    "start_time": "2022-09-25T13:56:14.101Z"
   },
   {
    "duration": 174843,
    "start_time": "2022-09-25T13:58:20.414Z"
   },
   {
    "duration": 5,
    "start_time": "2022-09-25T14:01:30.777Z"
   },
   {
    "duration": 786,
    "start_time": "2022-09-25T14:01:46.765Z"
   },
   {
    "duration": 777,
    "start_time": "2022-09-25T14:02:05.951Z"
   },
   {
    "duration": 871,
    "start_time": "2022-09-25T14:02:09.741Z"
   },
   {
    "duration": 849,
    "start_time": "2022-09-25T14:02:14.498Z"
   },
   {
    "duration": 822,
    "start_time": "2022-09-25T14:02:18.472Z"
   },
   {
    "duration": 827,
    "start_time": "2022-09-25T14:02:22.457Z"
   },
   {
    "duration": 1515,
    "start_time": "2022-09-25T14:02:28.811Z"
   },
   {
    "duration": 1438,
    "start_time": "2022-09-25T14:02:33.565Z"
   },
   {
    "duration": 1419,
    "start_time": "2022-09-25T14:02:38.014Z"
   },
   {
    "duration": 1631,
    "start_time": "2022-09-25T14:02:42.263Z"
   },
   {
    "duration": 2290,
    "start_time": "2022-09-25T14:02:49.356Z"
   },
   {
    "duration": 3693,
    "start_time": "2022-09-25T14:02:55.400Z"
   },
   {
    "duration": 1579,
    "start_time": "2022-09-25T14:03:03.053Z"
   },
   {
    "duration": 8764,
    "start_time": "2022-09-25T14:09:59.929Z"
   },
   {
    "duration": 31,
    "start_time": "2022-09-25T14:10:33.876Z"
   },
   {
    "duration": 9778,
    "start_time": "2022-09-25T14:17:17.435Z"
   },
   {
    "duration": 34,
    "start_time": "2022-09-25T14:20:48.139Z"
   },
   {
    "duration": 32,
    "start_time": "2022-09-25T14:20:54.011Z"
   },
   {
    "duration": 46,
    "start_time": "2022-09-25T14:20:58.678Z"
   },
   {
    "duration": 27,
    "start_time": "2022-09-25T14:21:01.099Z"
   },
   {
    "duration": 32,
    "start_time": "2022-09-25T14:21:03.202Z"
   },
   {
    "duration": 32,
    "start_time": "2022-09-25T14:21:06.151Z"
   },
   {
    "duration": 30,
    "start_time": "2022-09-25T14:21:09.432Z"
   },
   {
    "duration": 33,
    "start_time": "2022-09-25T14:21:13.006Z"
   },
   {
    "duration": 1418,
    "start_time": "2022-09-25T14:22:06.454Z"
   },
   {
    "duration": 30,
    "start_time": "2022-09-25T14:22:30.902Z"
   },
   {
    "duration": 626802,
    "start_time": "2022-09-25T14:25:20.357Z"
   },
   {
    "duration": 366,
    "start_time": "2022-09-25T14:35:47.162Z"
   },
   {
    "duration": 557,
    "start_time": "2022-09-25T14:44:48.857Z"
   },
   {
    "duration": 751,
    "start_time": "2022-09-25T14:44:58.588Z"
   },
   {
    "duration": 734,
    "start_time": "2022-09-25T14:45:07.847Z"
   },
   {
    "duration": 172,
    "start_time": "2022-09-25T14:52:06.448Z"
   },
   {
    "duration": 5,
    "start_time": "2022-09-25T14:52:59.812Z"
   },
   {
    "duration": 58,
    "start_time": "2022-09-25T14:53:06.485Z"
   },
   {
    "duration": 5,
    "start_time": "2022-09-25T14:53:55.737Z"
   },
   {
    "duration": 3128,
    "start_time": "2022-09-25T14:54:01.370Z"
   },
   {
    "duration": 32,
    "start_time": "2022-09-25T14:55:30.891Z"
   },
   {
    "duration": 788,
    "start_time": "2022-09-25T14:55:37.561Z"
   },
   {
    "duration": 879,
    "start_time": "2022-09-25T14:55:58.378Z"
   },
   {
    "duration": 2707,
    "start_time": "2022-09-25T14:58:51.093Z"
   },
   {
    "duration": 12,
    "start_time": "2022-09-25T15:09:17.645Z"
   },
   {
    "duration": 1279,
    "start_time": "2022-09-25T15:10:33.313Z"
   },
   {
    "duration": 274,
    "start_time": "2022-09-25T15:12:08.823Z"
   },
   {
    "duration": 1225,
    "start_time": "2022-09-25T15:12:19.844Z"
   },
   {
    "duration": 311,
    "start_time": "2022-09-25T15:12:27.984Z"
   },
   {
    "duration": 1388,
    "start_time": "2022-09-25T15:21:50.388Z"
   },
   {
    "duration": 1439,
    "start_time": "2022-09-25T15:21:55.375Z"
   },
   {
    "duration": 299,
    "start_time": "2022-09-25T15:22:27.235Z"
   },
   {
    "duration": 30,
    "start_time": "2022-09-25T15:22:51.642Z"
   },
   {
    "duration": 29,
    "start_time": "2022-09-25T15:23:28.814Z"
   },
   {
    "duration": 57,
    "start_time": "2022-09-25T15:23:30.211Z"
   },
   {
    "duration": 30,
    "start_time": "2022-09-25T15:23:39.531Z"
   },
   {
    "duration": 46,
    "start_time": "2022-09-25T15:23:40.665Z"
   },
   {
    "duration": 637,
    "start_time": "2022-09-25T15:35:34.319Z"
   },
   {
    "duration": 662,
    "start_time": "2022-09-25T15:35:48.025Z"
   },
   {
    "duration": 4,
    "start_time": "2022-09-25T15:36:02.841Z"
   },
   {
    "duration": 664,
    "start_time": "2022-09-25T15:38:15.892Z"
   },
   {
    "duration": 694,
    "start_time": "2022-09-25T15:38:23.574Z"
   },
   {
    "duration": 799,
    "start_time": "2022-09-25T15:43:51.555Z"
   },
   {
    "duration": 898,
    "start_time": "2022-09-25T15:44:07.578Z"
   },
   {
    "duration": 4,
    "start_time": "2022-09-25T15:44:24.647Z"
   },
   {
    "duration": 1128,
    "start_time": "2022-09-25T15:44:31.194Z"
   },
   {
    "duration": 986,
    "start_time": "2022-09-25T15:45:41.752Z"
   },
   {
    "duration": 6,
    "start_time": "2022-09-25T15:46:11.902Z"
   },
   {
    "duration": 1018,
    "start_time": "2022-09-25T15:46:16.307Z"
   },
   {
    "duration": 187,
    "start_time": "2022-09-25T15:50:11.537Z"
   },
   {
    "duration": 991,
    "start_time": "2022-09-25T15:53:24.243Z"
   },
   {
    "duration": 112,
    "start_time": "2022-09-25T15:54:38.915Z"
   },
   {
    "duration": 107,
    "start_time": "2022-09-25T15:55:16.394Z"
   },
   {
    "duration": 541,
    "start_time": "2022-09-25T16:31:47.656Z"
   },
   {
    "duration": 1281,
    "start_time": "2022-09-25T16:37:22.452Z"
   },
   {
    "duration": 1422,
    "start_time": "2022-09-25T16:37:38.079Z"
   },
   {
    "duration": 1506,
    "start_time": "2022-09-25T16:38:36.540Z"
   },
   {
    "duration": 1330,
    "start_time": "2022-09-25T16:40:29.865Z"
   },
   {
    "duration": 39,
    "start_time": "2022-09-25T16:40:31.197Z"
   },
   {
    "duration": 17,
    "start_time": "2022-09-25T16:40:31.238Z"
   },
   {
    "duration": 14,
    "start_time": "2022-09-25T16:40:31.257Z"
   },
   {
    "duration": 31,
    "start_time": "2022-09-25T16:40:31.273Z"
   },
   {
    "duration": 12,
    "start_time": "2022-09-25T16:40:31.306Z"
   },
   {
    "duration": 1420,
    "start_time": "2022-09-25T16:40:31.319Z"
   },
   {
    "duration": 52,
    "start_time": "2022-09-25T16:40:32.741Z"
   },
   {
    "duration": 3,
    "start_time": "2022-09-25T16:40:32.795Z"
   },
   {
    "duration": 7,
    "start_time": "2022-09-25T16:40:32.800Z"
   },
   {
    "duration": 6,
    "start_time": "2022-09-25T16:40:32.808Z"
   },
   {
    "duration": 6,
    "start_time": "2022-09-25T16:40:32.816Z"
   },
   {
    "duration": 12,
    "start_time": "2022-09-25T16:40:32.823Z"
   },
   {
    "duration": 3,
    "start_time": "2022-09-25T16:40:32.838Z"
   },
   {
    "duration": 46,
    "start_time": "2022-09-25T16:40:32.842Z"
   },
   {
    "duration": 10,
    "start_time": "2022-09-25T16:40:32.890Z"
   },
   {
    "duration": 5,
    "start_time": "2022-09-25T16:40:32.902Z"
   },
   {
    "duration": 8,
    "start_time": "2022-09-25T16:40:32.908Z"
   },
   {
    "duration": 6,
    "start_time": "2022-09-25T16:40:32.918Z"
   },
   {
    "duration": 4,
    "start_time": "2022-09-25T16:40:32.925Z"
   },
   {
    "duration": 6,
    "start_time": "2022-09-25T16:40:32.931Z"
   },
   {
    "duration": 6,
    "start_time": "2022-09-25T16:40:32.938Z"
   },
   {
    "duration": 7,
    "start_time": "2022-09-25T16:40:32.945Z"
   },
   {
    "duration": 40,
    "start_time": "2022-09-25T16:40:32.954Z"
   },
   {
    "duration": 1172,
    "start_time": "2022-09-25T16:40:32.996Z"
   },
   {
    "duration": 57975,
    "start_time": "2022-09-25T16:40:34.177Z"
   },
   {
    "duration": 1302,
    "start_time": "2022-09-25T16:42:00.390Z"
   },
   {
    "duration": 42,
    "start_time": "2022-09-25T16:42:01.694Z"
   },
   {
    "duration": 24,
    "start_time": "2022-09-25T16:42:01.738Z"
   },
   {
    "duration": 34,
    "start_time": "2022-09-25T16:42:01.764Z"
   },
   {
    "duration": 33,
    "start_time": "2022-09-25T16:42:01.801Z"
   },
   {
    "duration": 16,
    "start_time": "2022-09-25T16:42:01.836Z"
   },
   {
    "duration": 1448,
    "start_time": "2022-09-25T16:42:01.854Z"
   },
   {
    "duration": 40,
    "start_time": "2022-09-25T16:42:03.304Z"
   },
   {
    "duration": 3,
    "start_time": "2022-09-25T16:42:03.346Z"
   },
   {
    "duration": 8,
    "start_time": "2022-09-25T16:42:03.351Z"
   },
   {
    "duration": 4,
    "start_time": "2022-09-25T16:42:03.377Z"
   },
   {
    "duration": 17,
    "start_time": "2022-09-25T16:42:03.383Z"
   },
   {
    "duration": 14,
    "start_time": "2022-09-25T16:42:03.401Z"
   },
   {
    "duration": 5,
    "start_time": "2022-09-25T16:42:03.418Z"
   },
   {
    "duration": 20,
    "start_time": "2022-09-25T16:42:03.424Z"
   },
   {
    "duration": 13,
    "start_time": "2022-09-25T16:42:03.446Z"
   },
   {
    "duration": 5,
    "start_time": "2022-09-25T16:42:03.461Z"
   },
   {
    "duration": 9,
    "start_time": "2022-09-25T16:42:03.488Z"
   },
   {
    "duration": 6,
    "start_time": "2022-09-25T16:42:03.498Z"
   },
   {
    "duration": 4,
    "start_time": "2022-09-25T16:42:03.505Z"
   },
   {
    "duration": 8,
    "start_time": "2022-09-25T16:42:03.511Z"
   },
   {
    "duration": 12,
    "start_time": "2022-09-25T16:42:03.520Z"
   },
   {
    "duration": 5,
    "start_time": "2022-09-25T16:42:03.534Z"
   },
   {
    "duration": 23,
    "start_time": "2022-09-25T16:42:03.540Z"
   },
   {
    "duration": 1254,
    "start_time": "2022-09-25T16:42:03.587Z"
   },
   {
    "duration": 57383,
    "start_time": "2022-09-25T16:42:04.843Z"
   },
   {
    "duration": 3,
    "start_time": "2022-09-25T16:43:02.228Z"
   },
   {
    "duration": 57,
    "start_time": "2022-09-25T16:43:02.233Z"
   },
   {
    "duration": 972,
    "start_time": "2022-09-25T16:43:02.291Z"
   },
   {
    "duration": 164,
    "start_time": "2022-09-25T16:43:03.265Z"
   },
   {
    "duration": 125,
    "start_time": "2022-09-25T16:43:03.431Z"
   },
   {
    "duration": 29,
    "start_time": "2022-09-25T16:43:03.557Z"
   },
   {
    "duration": 13,
    "start_time": "2022-09-25T16:43:03.588Z"
   },
   {
    "duration": 553,
    "start_time": "2022-09-25T16:43:03.603Z"
   },
   {
    "duration": 1535,
    "start_time": "2022-09-25T16:43:04.157Z"
   },
   {
    "duration": 676,
    "start_time": "2022-09-25T16:43:05.694Z"
   },
   {
    "duration": 1013,
    "start_time": "2022-09-25T16:43:06.379Z"
   },
   {
    "duration": 5,
    "start_time": "2022-09-25T17:48:05.701Z"
   },
   {
    "duration": 5,
    "start_time": "2022-09-25T17:48:27.431Z"
   },
   {
    "duration": 1540,
    "start_time": "2022-09-25T17:48:43.297Z"
   },
   {
    "duration": 1449,
    "start_time": "2022-09-25T17:51:19.543Z"
   },
   {
    "duration": 1515,
    "start_time": "2022-09-25T17:51:34.363Z"
   },
   {
    "duration": 1490,
    "start_time": "2022-09-25T17:52:37.456Z"
   },
   {
    "duration": 1499,
    "start_time": "2022-09-25T17:52:52.904Z"
   },
   {
    "duration": 1495,
    "start_time": "2022-09-25T17:53:07.259Z"
   },
   {
    "duration": 1504,
    "start_time": "2022-09-25T17:53:25.054Z"
   },
   {
    "duration": 1452,
    "start_time": "2022-09-25T17:53:57.442Z"
   },
   {
    "duration": 1486,
    "start_time": "2022-09-25T17:54:07.306Z"
   },
   {
    "duration": 156276,
    "start_time": "2022-09-25T18:12:14.908Z"
   },
   {
    "duration": 55278,
    "start_time": "2022-09-25T18:15:56.206Z"
   },
   {
    "duration": 899,
    "start_time": "2022-09-25T18:19:46.564Z"
   },
   {
    "duration": 899,
    "start_time": "2022-09-25T18:20:29.970Z"
   },
   {
    "duration": 8264,
    "start_time": "2022-09-25T18:24:07.794Z"
   },
   {
    "duration": 149,
    "start_time": "2022-09-25T18:25:06.941Z"
   },
   {
    "duration": 134,
    "start_time": "2022-09-25T18:25:47.231Z"
   },
   {
    "duration": 1412,
    "start_time": "2022-09-25T18:27:53.967Z"
   },
   {
    "duration": 1246,
    "start_time": "2022-09-25T18:29:23.334Z"
   },
   {
    "duration": 1369,
    "start_time": "2022-09-25T18:34:16.315Z"
   },
   {
    "duration": 1225,
    "start_time": "2022-09-25T18:34:37.135Z"
   },
   {
    "duration": 691,
    "start_time": "2022-09-25T18:40:00.716Z"
   },
   {
    "duration": 1293,
    "start_time": "2022-09-25T18:40:08.584Z"
   },
   {
    "duration": 539,
    "start_time": "2022-09-25T18:45:13.117Z"
   },
   {
    "duration": 364,
    "start_time": "2022-09-25T18:45:19.418Z"
   },
   {
    "duration": 1322,
    "start_time": "2022-09-25T18:45:29.704Z"
   },
   {
    "duration": 1343,
    "start_time": "2022-09-25T18:45:36.932Z"
   },
   {
    "duration": 1366,
    "start_time": "2022-09-25T18:46:07.016Z"
   },
   {
    "duration": 369,
    "start_time": "2022-09-25T18:46:27.082Z"
   },
   {
    "duration": 31,
    "start_time": "2022-09-25T18:46:31.885Z"
   },
   {
    "duration": 358,
    "start_time": "2022-09-25T18:46:41.067Z"
   },
   {
    "duration": 136,
    "start_time": "2022-09-25T18:47:48.938Z"
   },
   {
    "duration": 5,
    "start_time": "2022-09-25T19:02:09.322Z"
   },
   {
    "duration": 5,
    "start_time": "2022-09-25T19:02:17.179Z"
   },
   {
    "duration": 1306,
    "start_time": "2022-09-25T19:09:11.448Z"
   },
   {
    "duration": 41,
    "start_time": "2022-09-25T19:09:12.756Z"
   },
   {
    "duration": 17,
    "start_time": "2022-09-25T19:09:12.800Z"
   },
   {
    "duration": 6,
    "start_time": "2022-09-25T19:09:12.820Z"
   },
   {
    "duration": 13,
    "start_time": "2022-09-25T19:09:12.828Z"
   },
   {
    "duration": 10,
    "start_time": "2022-09-25T19:09:12.843Z"
   },
   {
    "duration": 1367,
    "start_time": "2022-09-25T19:09:12.876Z"
   },
   {
    "duration": 46,
    "start_time": "2022-09-25T19:09:14.245Z"
   },
   {
    "duration": 3,
    "start_time": "2022-09-25T19:09:14.293Z"
   },
   {
    "duration": 6,
    "start_time": "2022-09-25T19:09:14.298Z"
   },
   {
    "duration": 11,
    "start_time": "2022-09-25T19:09:14.306Z"
   },
   {
    "duration": 5,
    "start_time": "2022-09-25T19:09:14.318Z"
   },
   {
    "duration": 8,
    "start_time": "2022-09-25T19:09:14.327Z"
   },
   {
    "duration": 13,
    "start_time": "2022-09-25T19:09:14.336Z"
   },
   {
    "duration": 29,
    "start_time": "2022-09-25T19:09:14.350Z"
   },
   {
    "duration": 30,
    "start_time": "2022-09-25T19:09:14.381Z"
   },
   {
    "duration": 1177,
    "start_time": "2022-09-25T19:09:14.412Z"
   },
   {
    "duration": 25482,
    "start_time": "2022-09-25T19:09:15.591Z"
   },
   {
    "duration": 160026,
    "start_time": "2022-09-25T19:09:41.081Z"
   },
   {
    "duration": 8150,
    "start_time": "2022-09-25T19:12:21.109Z"
   },
   {
    "duration": 900,
    "start_time": "2022-09-25T19:12:29.260Z"
   },
   {
    "duration": 149,
    "start_time": "2022-09-25T19:12:30.162Z"
   },
   {
    "duration": 124,
    "start_time": "2022-09-25T19:12:30.313Z"
   },
   {
    "duration": 14,
    "start_time": "2022-09-25T19:12:30.439Z"
   },
   {
    "duration": 22,
    "start_time": "2022-09-25T19:12:30.454Z"
   },
   {
    "duration": 381,
    "start_time": "2022-09-25T19:12:30.478Z"
   },
   {
    "duration": 1403,
    "start_time": "2022-09-25T19:12:30.861Z"
   },
   {
    "duration": 672,
    "start_time": "2022-09-25T19:12:32.266Z"
   },
   {
    "duration": 1251,
    "start_time": "2022-09-25T19:12:32.941Z"
   },
   {
    "duration": 1567,
    "start_time": "2022-09-29T10:58:27.743Z"
   },
   {
    "duration": 0,
    "start_time": "2022-09-29T10:58:29.313Z"
   },
   {
    "duration": 0,
    "start_time": "2022-09-29T10:58:29.314Z"
   },
   {
    "duration": 0,
    "start_time": "2022-09-29T10:58:29.314Z"
   },
   {
    "duration": 0,
    "start_time": "2022-09-29T10:58:29.315Z"
   },
   {
    "duration": 0,
    "start_time": "2022-09-29T10:58:29.316Z"
   },
   {
    "duration": 0,
    "start_time": "2022-09-29T10:58:29.317Z"
   },
   {
    "duration": 0,
    "start_time": "2022-09-29T10:58:29.318Z"
   },
   {
    "duration": 0,
    "start_time": "2022-09-29T10:58:29.319Z"
   },
   {
    "duration": 0,
    "start_time": "2022-09-29T10:58:29.319Z"
   },
   {
    "duration": 0,
    "start_time": "2022-09-29T10:58:29.320Z"
   },
   {
    "duration": 0,
    "start_time": "2022-09-29T10:58:29.321Z"
   },
   {
    "duration": 0,
    "start_time": "2022-09-29T10:58:29.322Z"
   },
   {
    "duration": 0,
    "start_time": "2022-09-29T10:58:29.323Z"
   },
   {
    "duration": 0,
    "start_time": "2022-09-29T10:58:29.324Z"
   },
   {
    "duration": 0,
    "start_time": "2022-09-29T10:58:29.324Z"
   },
   {
    "duration": 0,
    "start_time": "2022-09-29T10:58:29.325Z"
   },
   {
    "duration": 0,
    "start_time": "2022-09-29T10:58:29.326Z"
   },
   {
    "duration": 0,
    "start_time": "2022-09-29T10:58:29.327Z"
   },
   {
    "duration": 0,
    "start_time": "2022-09-29T10:58:29.328Z"
   },
   {
    "duration": 0,
    "start_time": "2022-09-29T10:58:29.328Z"
   },
   {
    "duration": 1,
    "start_time": "2022-09-29T10:58:29.329Z"
   },
   {
    "duration": 0,
    "start_time": "2022-09-29T10:58:29.330Z"
   },
   {
    "duration": 0,
    "start_time": "2022-09-29T10:58:29.331Z"
   },
   {
    "duration": 0,
    "start_time": "2022-09-29T10:58:29.332Z"
   },
   {
    "duration": 0,
    "start_time": "2022-09-29T10:58:29.333Z"
   },
   {
    "duration": 0,
    "start_time": "2022-09-29T10:58:29.334Z"
   },
   {
    "duration": 0,
    "start_time": "2022-09-29T10:58:29.335Z"
   },
   {
    "duration": 0,
    "start_time": "2022-09-29T10:58:29.336Z"
   },
   {
    "duration": 1277,
    "start_time": "2022-09-29T10:58:47.416Z"
   },
   {
    "duration": 82,
    "start_time": "2022-09-29T10:58:48.696Z"
   },
   {
    "duration": 16,
    "start_time": "2022-09-29T10:58:48.779Z"
   },
   {
    "duration": 7,
    "start_time": "2022-09-29T10:58:48.797Z"
   },
   {
    "duration": 17,
    "start_time": "2022-09-29T10:58:48.805Z"
   },
   {
    "duration": 11,
    "start_time": "2022-09-29T10:58:48.824Z"
   },
   {
    "duration": 1289,
    "start_time": "2022-09-29T10:58:48.836Z"
   },
   {
    "duration": 36,
    "start_time": "2022-09-29T10:58:50.127Z"
   },
   {
    "duration": 4,
    "start_time": "2022-09-29T10:58:50.164Z"
   },
   {
    "duration": 5,
    "start_time": "2022-09-29T10:58:50.169Z"
   },
   {
    "duration": 10,
    "start_time": "2022-09-29T10:58:50.175Z"
   },
   {
    "duration": 25,
    "start_time": "2022-09-29T10:58:50.187Z"
   },
   {
    "duration": 8,
    "start_time": "2022-09-29T10:58:50.213Z"
   },
   {
    "duration": 6,
    "start_time": "2022-09-29T10:58:50.223Z"
   },
   {
    "duration": 8,
    "start_time": "2022-09-29T10:58:50.230Z"
   },
   {
    "duration": 25,
    "start_time": "2022-09-29T10:58:50.239Z"
   },
   {
    "duration": 1344,
    "start_time": "2022-09-29T10:58:50.265Z"
   },
   {
    "duration": 28878,
    "start_time": "2022-09-29T10:58:51.611Z"
   },
   {
    "duration": 180388,
    "start_time": "2022-09-29T10:59:20.491Z"
   },
   {
    "duration": 9565,
    "start_time": "2022-09-29T11:02:20.880Z"
   },
   {
    "duration": 986,
    "start_time": "2022-09-29T11:02:30.447Z"
   },
   {
    "duration": 148,
    "start_time": "2022-09-29T11:02:31.435Z"
   },
   {
    "duration": 126,
    "start_time": "2022-09-29T11:02:31.585Z"
   },
   {
    "duration": 11,
    "start_time": "2022-09-29T11:02:31.712Z"
   },
   {
    "duration": 10,
    "start_time": "2022-09-29T11:02:31.724Z"
   },
   {
    "duration": 340,
    "start_time": "2022-09-29T11:02:31.736Z"
   },
   {
    "duration": 1144,
    "start_time": "2022-09-29T11:02:32.078Z"
   },
   {
    "duration": 773,
    "start_time": "2022-09-29T11:02:33.223Z"
   },
   {
    "duration": 1089,
    "start_time": "2022-09-29T11:02:33.998Z"
   },
   {
    "duration": 1194,
    "start_time": "2022-09-29T11:07:18.472Z"
   },
   {
    "duration": 4,
    "start_time": "2022-09-29T11:08:41.516Z"
   },
   {
    "duration": 36,
    "start_time": "2022-09-29T11:09:27.699Z"
   },
   {
    "duration": 11,
    "start_time": "2022-09-29T11:27:08.558Z"
   },
   {
    "duration": 11,
    "start_time": "2022-09-29T11:27:09.409Z"
   },
   {
    "duration": 327,
    "start_time": "2022-09-29T11:27:17.518Z"
   },
   {
    "duration": 1087,
    "start_time": "2022-09-29T11:27:20.998Z"
   },
   {
    "duration": 195341,
    "start_time": "2022-09-29T11:33:05.769Z"
   },
   {
    "duration": 1072,
    "start_time": "2022-09-29T11:36:47.689Z"
   },
   {
    "duration": 300,
    "start_time": "2022-09-29T11:36:53.928Z"
   },
   {
    "duration": 1065,
    "start_time": "2022-09-29T11:37:20.049Z"
   },
   {
    "duration": 45507,
    "start_time": "2022-09-29T11:38:00.149Z"
   },
   {
    "duration": 322,
    "start_time": "2022-09-29T11:45:58.793Z"
   },
   {
    "duration": 314,
    "start_time": "2022-09-29T11:46:06.827Z"
   },
   {
    "duration": 35,
    "start_time": "2022-09-29T11:46:27.178Z"
   },
   {
    "duration": 199475,
    "start_time": "2022-09-29T11:46:40.059Z"
   },
   {
    "duration": 1221,
    "start_time": "2022-09-29T11:52:58.465Z"
   },
   {
    "duration": 1162,
    "start_time": "2022-09-29T11:53:02.792Z"
   },
   {
    "duration": 1385,
    "start_time": "2022-09-29T11:53:06.465Z"
   },
   {
    "duration": 1246,
    "start_time": "2022-09-29T11:53:11.751Z"
   },
   {
    "duration": 1315,
    "start_time": "2022-09-29T11:53:16.313Z"
   },
   {
    "duration": 1565,
    "start_time": "2022-09-29T11:53:20.864Z"
   },
   {
    "duration": 6,
    "start_time": "2022-09-29T11:55:54.658Z"
   },
   {
    "duration": 124,
    "start_time": "2022-09-29T11:57:10.162Z"
   },
   {
    "duration": 10,
    "start_time": "2022-09-29T11:57:58.665Z"
   },
   {
    "duration": 1375,
    "start_time": "2022-09-29T11:58:22.598Z"
   },
   {
    "duration": 89,
    "start_time": "2022-09-29T11:59:02.916Z"
   },
   {
    "duration": 5,
    "start_time": "2022-09-29T12:00:00.204Z"
   },
   {
    "duration": 6,
    "start_time": "2022-09-29T12:00:05.719Z"
   },
   {
    "duration": 4,
    "start_time": "2022-09-29T12:00:35.984Z"
   },
   {
    "duration": 13,
    "start_time": "2022-09-29T12:00:40.133Z"
   },
   {
    "duration": 8,
    "start_time": "2022-09-29T12:00:58.081Z"
   },
   {
    "duration": 10,
    "start_time": "2022-09-29T12:01:12.485Z"
   },
   {
    "duration": 68,
    "start_time": "2022-09-29T12:18:45.272Z"
   },
   {
    "duration": 1436,
    "start_time": "2022-09-29T12:23:17.093Z"
   },
   {
    "duration": 42,
    "start_time": "2022-09-29T12:23:18.531Z"
   },
   {
    "duration": 1426,
    "start_time": "2022-09-29T12:23:50.593Z"
   },
   {
    "duration": 41,
    "start_time": "2022-09-29T12:23:52.021Z"
   },
   {
    "duration": 15,
    "start_time": "2022-09-29T12:23:52.063Z"
   },
   {
    "duration": 6,
    "start_time": "2022-09-29T12:23:52.080Z"
   },
   {
    "duration": 23,
    "start_time": "2022-09-29T12:23:52.088Z"
   },
   {
    "duration": 13,
    "start_time": "2022-09-29T12:23:52.113Z"
   },
   {
    "duration": 1315,
    "start_time": "2022-09-29T12:23:52.128Z"
   },
   {
    "duration": 45,
    "start_time": "2022-09-29T12:23:53.444Z"
   },
   {
    "duration": 18,
    "start_time": "2022-09-29T12:23:53.491Z"
   },
   {
    "duration": 4,
    "start_time": "2022-09-29T12:23:53.513Z"
   },
   {
    "duration": 3,
    "start_time": "2022-09-29T12:23:53.518Z"
   },
   {
    "duration": 4,
    "start_time": "2022-09-29T12:23:53.523Z"
   },
   {
    "duration": 14,
    "start_time": "2022-09-29T12:23:53.528Z"
   },
   {
    "duration": 5,
    "start_time": "2022-09-29T12:23:53.543Z"
   },
   {
    "duration": 8,
    "start_time": "2022-09-29T12:23:53.550Z"
   },
   {
    "duration": 9,
    "start_time": "2022-09-29T12:23:53.559Z"
   },
   {
    "duration": 4,
    "start_time": "2022-09-29T12:23:53.570Z"
   },
   {
    "duration": 18,
    "start_time": "2022-09-29T12:23:53.610Z"
   },
   {
    "duration": 1400,
    "start_time": "2022-09-29T12:23:53.630Z"
   },
   {
    "duration": 29022,
    "start_time": "2022-09-29T12:23:55.032Z"
   },
   {
    "duration": 182089,
    "start_time": "2022-09-29T12:24:24.056Z"
   },
   {
    "duration": 9691,
    "start_time": "2022-09-29T12:27:26.147Z"
   },
   {
    "duration": 1124,
    "start_time": "2022-09-29T12:27:35.839Z"
   },
   {
    "duration": 154,
    "start_time": "2022-09-29T12:27:36.965Z"
   },
   {
    "duration": 110,
    "start_time": "2022-09-29T12:27:37.124Z"
   },
   {
    "duration": 12,
    "start_time": "2022-09-29T12:27:37.236Z"
   },
   {
    "duration": 11,
    "start_time": "2022-09-29T12:27:37.249Z"
   },
   {
    "duration": 205499,
    "start_time": "2022-09-29T12:27:37.263Z"
   },
   {
    "duration": 48584,
    "start_time": "2022-09-29T12:31:02.764Z"
   },
   {
    "duration": 324,
    "start_time": "2022-09-29T12:31:51.349Z"
   },
   {
    "duration": 1131,
    "start_time": "2022-09-29T12:31:51.675Z"
   },
   {
    "duration": 1089,
    "start_time": "2022-09-29T12:31:52.808Z"
   },
   {
    "duration": 1289,
    "start_time": "2022-09-29T12:31:53.898Z"
   },
   {
    "duration": 1435,
    "start_time": "2022-09-29T18:06:28.143Z"
   },
   {
    "duration": 141,
    "start_time": "2022-09-29T18:06:29.580Z"
   },
   {
    "duration": 15,
    "start_time": "2022-09-29T18:06:29.723Z"
   },
   {
    "duration": 28,
    "start_time": "2022-09-29T18:06:29.740Z"
   },
   {
    "duration": 46,
    "start_time": "2022-09-29T18:06:29.769Z"
   },
   {
    "duration": 35,
    "start_time": "2022-09-29T18:06:29.817Z"
   },
   {
    "duration": 1382,
    "start_time": "2022-09-29T18:06:29.854Z"
   },
   {
    "duration": 57,
    "start_time": "2022-09-29T18:06:31.239Z"
   },
   {
    "duration": 4,
    "start_time": "2022-09-29T18:06:31.297Z"
   },
   {
    "duration": 20,
    "start_time": "2022-09-29T18:06:31.304Z"
   },
   {
    "duration": 10,
    "start_time": "2022-09-29T18:06:31.326Z"
   },
   {
    "duration": 11,
    "start_time": "2022-09-29T18:06:31.337Z"
   },
   {
    "duration": 28,
    "start_time": "2022-09-29T18:06:31.350Z"
   },
   {
    "duration": 25,
    "start_time": "2022-09-29T18:06:31.380Z"
   },
   {
    "duration": 19,
    "start_time": "2022-09-29T18:06:31.407Z"
   },
   {
    "duration": 22,
    "start_time": "2022-09-29T18:06:31.428Z"
   },
   {
    "duration": 22,
    "start_time": "2022-09-29T18:06:31.452Z"
   },
   {
    "duration": 37,
    "start_time": "2022-09-29T18:06:31.475Z"
   },
   {
    "duration": 1152,
    "start_time": "2022-09-29T18:06:31.513Z"
   },
   {
    "duration": 25516,
    "start_time": "2022-09-29T18:06:32.668Z"
   },
   {
    "duration": 158664,
    "start_time": "2022-09-29T18:06:58.185Z"
   },
   {
    "duration": 8708,
    "start_time": "2022-09-29T18:09:36.851Z"
   },
   {
    "duration": 984,
    "start_time": "2022-09-29T18:09:45.561Z"
   },
   {
    "duration": 156,
    "start_time": "2022-09-29T18:09:46.546Z"
   },
   {
    "duration": 136,
    "start_time": "2022-09-29T18:09:46.703Z"
   },
   {
    "duration": 11,
    "start_time": "2022-09-29T18:09:46.841Z"
   },
   {
    "duration": 10,
    "start_time": "2022-09-29T18:09:46.854Z"
   },
   {
    "duration": 182412,
    "start_time": "2022-09-29T18:09:46.867Z"
   },
   {
    "duration": 69993,
    "start_time": "2022-09-29T18:12:49.281Z"
   },
   {
    "duration": 457,
    "start_time": "2022-09-29T18:13:59.276Z"
   },
   {
    "duration": 1027,
    "start_time": "2022-09-29T18:13:59.736Z"
   },
   {
    "duration": 1000,
    "start_time": "2022-09-29T18:14:00.764Z"
   },
   {
    "duration": 1146,
    "start_time": "2022-09-29T18:14:01.766Z"
   },
   {
    "duration": 125,
    "start_time": "2022-10-22T16:57:14.427Z"
   },
   {
    "duration": 71,
    "start_time": "2022-10-22T16:59:55.845Z"
   },
   {
    "duration": 84,
    "start_time": "2022-10-22T17:00:01.321Z"
   },
   {
    "duration": 1495,
    "start_time": "2023-01-29T17:28:30.528Z"
   },
   {
    "duration": 162,
    "start_time": "2023-01-29T17:28:32.025Z"
   },
   {
    "duration": 18,
    "start_time": "2023-01-29T17:28:32.189Z"
   },
   {
    "duration": 46,
    "start_time": "2023-01-29T17:28:32.208Z"
   },
   {
    "duration": 28,
    "start_time": "2023-01-29T17:28:32.256Z"
   },
   {
    "duration": 13,
    "start_time": "2023-01-29T17:28:32.285Z"
   },
   {
    "duration": 1551,
    "start_time": "2023-01-29T17:28:32.300Z"
   },
   {
    "duration": 60,
    "start_time": "2023-01-29T17:28:33.852Z"
   },
   {
    "duration": 5,
    "start_time": "2023-01-29T17:28:33.913Z"
   },
   {
    "duration": 12,
    "start_time": "2023-01-29T17:28:33.937Z"
   },
   {
    "duration": 4,
    "start_time": "2023-01-29T17:28:33.951Z"
   },
   {
    "duration": 16,
    "start_time": "2023-01-29T17:28:33.957Z"
   },
   {
    "duration": 18,
    "start_time": "2023-01-29T17:28:33.975Z"
   },
   {
    "duration": 6,
    "start_time": "2023-01-29T17:28:33.996Z"
   },
   {
    "duration": 16,
    "start_time": "2023-01-29T17:28:34.003Z"
   },
   {
    "duration": 17,
    "start_time": "2023-01-29T17:28:34.020Z"
   },
   {
    "duration": 6,
    "start_time": "2023-01-29T17:28:34.039Z"
   },
   {
    "duration": 32,
    "start_time": "2023-01-29T17:28:34.046Z"
   },
   {
    "duration": 1310,
    "start_time": "2023-01-29T17:28:34.080Z"
   },
   {
    "duration": 28746,
    "start_time": "2023-01-29T17:28:35.392Z"
   },
   {
    "duration": 199,
    "start_time": "2023-01-29T17:29:04.140Z"
   },
   {
    "duration": 75,
    "start_time": "2023-01-29T17:29:04.341Z"
   },
   {
    "duration": 1033,
    "start_time": "2023-01-29T17:29:04.418Z"
   },
   {
    "duration": 170,
    "start_time": "2023-01-29T17:29:05.453Z"
   },
   {
    "duration": 139,
    "start_time": "2023-01-29T17:29:05.625Z"
   },
   {
    "duration": 12,
    "start_time": "2023-01-29T17:29:05.766Z"
   },
   {
    "duration": 17,
    "start_time": "2023-01-29T17:29:05.780Z"
   },
   {
    "duration": 200106,
    "start_time": "2023-01-29T17:29:05.799Z"
   },
   {
    "duration": 72133,
    "start_time": "2023-01-29T17:32:25.907Z"
   },
   {
    "duration": 514,
    "start_time": "2023-01-29T17:33:38.042Z"
   },
   {
    "duration": 1171,
    "start_time": "2023-01-29T17:33:38.557Z"
   },
   {
    "duration": 1082,
    "start_time": "2023-01-29T17:33:39.730Z"
   },
   {
    "duration": 1186,
    "start_time": "2023-01-29T17:33:40.814Z"
   },
   {
    "duration": 8993,
    "start_time": "2023-01-29T18:09:55.145Z"
   },
   {
    "duration": 297,
    "start_time": "2023-01-29T18:10:04.141Z"
   },
   {
    "duration": 110,
    "start_time": "2023-01-29T18:10:04.441Z"
   },
   {
    "duration": 109,
    "start_time": "2023-01-29T18:10:04.638Z"
   },
   {
    "duration": 110,
    "start_time": "2023-01-29T18:10:04.838Z"
   },
   {
    "duration": 292,
    "start_time": "2023-01-29T18:10:04.950Z"
   },
   {
    "duration": 11694,
    "start_time": "2023-01-29T18:10:05.244Z"
   },
   {
    "duration": 509,
    "start_time": "2023-01-29T18:10:16.940Z"
   },
   {
    "duration": 88,
    "start_time": "2023-01-29T18:10:17.451Z"
   },
   {
    "duration": 208,
    "start_time": "2023-01-29T18:10:17.543Z"
   },
   {
    "duration": 86,
    "start_time": "2023-01-29T18:10:17.753Z"
   },
   {
    "duration": 108,
    "start_time": "2023-01-29T18:10:17.841Z"
   },
   {
    "duration": 188,
    "start_time": "2023-01-29T18:10:17.952Z"
   },
   {
    "duration": 208,
    "start_time": "2023-01-29T18:10:18.144Z"
   },
   {
    "duration": 183,
    "start_time": "2023-01-29T18:10:18.355Z"
   },
   {
    "duration": 6,
    "start_time": "2023-01-29T18:10:18.540Z"
   },
   {
    "duration": 194,
    "start_time": "2023-01-29T18:10:18.548Z"
   },
   {
    "duration": 202,
    "start_time": "2023-01-29T18:10:18.744Z"
   },
   {
    "duration": 10896,
    "start_time": "2023-01-29T18:10:18.949Z"
   },
   {
    "duration": 122105,
    "start_time": "2023-01-29T18:10:29.847Z"
   },
   {
    "duration": 195847,
    "start_time": "2023-01-29T18:12:31.954Z"
   },
   {
    "duration": 7449,
    "start_time": "2023-01-29T18:15:47.803Z"
   },
   {
    "duration": 947,
    "start_time": "2023-01-29T18:15:55.254Z"
   },
   {
    "duration": 196,
    "start_time": "2023-01-29T18:15:56.203Z"
   },
   {
    "duration": 139,
    "start_time": "2023-01-29T18:15:56.401Z"
   },
   {
    "duration": 17,
    "start_time": "2023-01-29T18:15:56.542Z"
   },
   {
    "duration": 14,
    "start_time": "2023-01-29T18:15:56.562Z"
   },
   {
    "duration": 201971,
    "start_time": "2023-01-29T18:15:56.578Z"
   },
   {
    "duration": 71593,
    "start_time": "2023-01-29T18:19:18.551Z"
   },
   {
    "duration": 456,
    "start_time": "2023-01-29T18:20:30.146Z"
   },
   {
    "duration": 1119,
    "start_time": "2023-01-29T18:20:30.604Z"
   },
   {
    "duration": 1155,
    "start_time": "2023-01-29T18:20:31.725Z"
   },
   {
    "duration": 1248,
    "start_time": "2023-01-29T18:20:32.882Z"
   },
   {
    "duration": 1674,
    "start_time": "2023-02-14T18:55:31.055Z"
   },
   {
    "duration": 190,
    "start_time": "2023-02-14T18:55:32.731Z"
   },
   {
    "duration": 23,
    "start_time": "2023-02-14T18:55:32.923Z"
   },
   {
    "duration": 12,
    "start_time": "2023-02-14T18:55:32.948Z"
   },
   {
    "duration": 28,
    "start_time": "2023-02-14T18:55:32.964Z"
   },
   {
    "duration": 14,
    "start_time": "2023-02-14T18:55:32.995Z"
   },
   {
    "duration": 1753,
    "start_time": "2023-02-14T18:55:33.011Z"
   },
   {
    "duration": 73,
    "start_time": "2023-02-14T18:55:34.766Z"
   },
   {
    "duration": 11,
    "start_time": "2023-02-14T18:55:34.842Z"
   },
   {
    "duration": 40,
    "start_time": "2023-02-14T18:55:34.856Z"
   },
   {
    "duration": 206,
    "start_time": "2023-02-14T18:55:34.899Z"
   },
   {
    "duration": 58,
    "start_time": "2023-02-14T18:55:35.107Z"
   },
   {
    "duration": 58,
    "start_time": "2023-02-14T18:55:35.168Z"
   },
   {
    "duration": 49,
    "start_time": "2023-02-14T18:55:35.229Z"
   },
   {
    "duration": 37,
    "start_time": "2023-02-14T18:55:35.280Z"
   },
   {
    "duration": 48,
    "start_time": "2023-02-14T18:55:35.319Z"
   },
   {
    "duration": 61,
    "start_time": "2023-02-14T18:55:35.369Z"
   },
   {
    "duration": 97,
    "start_time": "2023-02-14T18:55:35.432Z"
   },
   {
    "duration": 1654,
    "start_time": "2023-02-14T18:55:35.531Z"
   },
   {
    "duration": 34590,
    "start_time": "2023-02-14T18:55:37.186Z"
   },
   {
    "duration": 146784,
    "start_time": "2023-02-14T18:56:11.779Z"
   },
   {
    "duration": 7856,
    "start_time": "2023-02-14T18:58:38.564Z"
   },
   {
    "duration": 1084,
    "start_time": "2023-02-14T18:58:46.422Z"
   },
   {
    "duration": 169,
    "start_time": "2023-02-14T18:58:47.508Z"
   },
   {
    "duration": 129,
    "start_time": "2023-02-14T18:58:47.679Z"
   },
   {
    "duration": 11,
    "start_time": "2023-02-14T18:58:47.810Z"
   },
   {
    "duration": 28,
    "start_time": "2023-02-14T18:58:47.823Z"
   },
   {
    "duration": 224824,
    "start_time": "2023-02-14T18:58:47.853Z"
   },
   {
    "duration": 80457,
    "start_time": "2023-02-14T19:02:32.679Z"
   },
   {
    "duration": 580,
    "start_time": "2023-02-14T19:03:53.140Z"
   },
   {
    "duration": 1382,
    "start_time": "2023-02-14T19:03:53.722Z"
   },
   {
    "duration": 1291,
    "start_time": "2023-02-14T19:03:55.106Z"
   },
   {
    "duration": 1404,
    "start_time": "2023-02-14T19:03:56.399Z"
   }
  ],
  "kernelspec": {
   "display_name": "Python 3 (ipykernel)",
   "language": "python",
   "name": "python3"
  },
  "language_info": {
   "codemirror_mode": {
    "name": "ipython",
    "version": 3
   },
   "file_extension": ".py",
   "mimetype": "text/x-python",
   "name": "python",
   "nbconvert_exporter": "python",
   "pygments_lexer": "ipython3",
   "version": "3.9.15"
  },
  "toc": {
   "base_numbering": 1,
   "nav_menu": {},
   "number_sections": true,
   "sideBar": true,
   "skip_h1_title": true,
   "title_cell": "Содержание",
   "title_sidebar": "Contents",
   "toc_cell": true,
   "toc_position": {
    "height": "calc(100% - 180px)",
    "left": "10px",
    "top": "150px",
    "width": "263px"
   },
   "toc_section_display": true,
   "toc_window_display": true
  }
 },
 "nbformat": 4,
 "nbformat_minor": 2
}
