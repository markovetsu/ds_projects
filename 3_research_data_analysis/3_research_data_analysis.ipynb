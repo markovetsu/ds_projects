{
 "cells": [
  {
   "cell_type": "markdown",
   "metadata": {},
   "source": [
    "# Исследование объявлений о продаже квартир\n",
    "\n",
    "# Описание проекта\n",
    "В нашем распоряжении данные сервиса Яндекс Недвижимость — архив объявлений за несколько лет о продаже квартир в Санкт-Петербурге и соседних населённых пунктах. О каждой квартире в базе содержится два типа данных: добавленные пользователем и картографические. Например, к первому типу относятся площадь квартиры, её этаж и количество балконов, ко второму — расстояния до центра города, аэропорта и ближайшего парка.\n",
    "\n",
    "**Наша задача и цель:** выполнить предобработку данных и изучить их, чтобы найти интересные особенности и зависимости, которые существуют на рынке недвижимости.\n",
    "\n",
    "# Описание данных\n",
    "    airports_nearest — расстояние до ближайшего аэропорта в метрах (м)\n",
    "    balcony — число балконов\n",
    "    ceiling_height — высота потолков (м)\n",
    "    cityCenters_nearest — расстояние до центра города (м)\n",
    "    days_exposition — сколько дней было размещено объявление (от публикации до снятия)\n",
    "    first_day_exposition — дата публикации\n",
    "    floor — этаж\n",
    "    floors_total — всего этажей в доме\n",
    "    is_apartment — апартаменты (булев тип)\n",
    "    kitchen_area — площадь кухни в квадратных метрах (м²)\n",
    "    last_price — цена на момент снятия с публикации\n",
    "    living_area — жилая площадь в квадратных метрах (м²)\n",
    "    locality_name — название населённого пункта\n",
    "    open_plan — свободная планировка (булев тип)\n",
    "    parks_around3000 — число парков в радиусе 3 км\n",
    "    parks_nearest — расстояние до ближайшего парка (м)\n",
    "    ponds_around3000 — число водоёмов в радиусе 3 км\n",
    "    ponds_nearest — расстояние до ближайшего водоёма (м)\n",
    "    rooms — число комнат\n",
    "    studio — квартира-студия (булев тип)\n",
    "    total_area — общая площадь квартиры в квадратных метрах (м²)\n",
    "    total_images — число фотографий квартиры в объявлении\n",
    "    \n",
    "# Используемые библиотеки\n",
    "\n",
    "python, pandas, matplotlib, исследовательский анализ данных, визуализация данных, предобработка данных"
   ]
  },
  {
   "cell_type": "markdown",
   "metadata": {},
   "source": [
    "### Откроем файл с данными и изучим общую информацию. "
   ]
  },
  {
   "cell_type": "code",
   "execution_count": 1,
   "metadata": {},
   "outputs": [],
   "source": [
    "import pandas as pd\n",
    "import matplotlib.pyplot as plt"
   ]
  },
  {
   "cell_type": "code",
   "execution_count": 2,
   "metadata": {},
   "outputs": [],
   "source": [
    "df = pd.read_csv('/datasets/real_estate_data.csv', sep='\\t')"
   ]
  },
  {
   "cell_type": "code",
   "execution_count": 3,
   "metadata": {
    "scrolled": true
   },
   "outputs": [
    {
     "data": {
      "text/html": [
       "<div>\n",
       "<style scoped>\n",
       "    .dataframe tbody tr th:only-of-type {\n",
       "        vertical-align: middle;\n",
       "    }\n",
       "\n",
       "    .dataframe tbody tr th {\n",
       "        vertical-align: top;\n",
       "    }\n",
       "\n",
       "    .dataframe thead th {\n",
       "        text-align: right;\n",
       "    }\n",
       "</style>\n",
       "<table border=\"1\" class=\"dataframe\">\n",
       "  <thead>\n",
       "    <tr style=\"text-align: right;\">\n",
       "      <th></th>\n",
       "      <th>total_images</th>\n",
       "      <th>last_price</th>\n",
       "      <th>total_area</th>\n",
       "      <th>first_day_exposition</th>\n",
       "      <th>rooms</th>\n",
       "      <th>ceiling_height</th>\n",
       "      <th>floors_total</th>\n",
       "      <th>living_area</th>\n",
       "      <th>floor</th>\n",
       "      <th>is_apartment</th>\n",
       "      <th>...</th>\n",
       "      <th>kitchen_area</th>\n",
       "      <th>balcony</th>\n",
       "      <th>locality_name</th>\n",
       "      <th>airports_nearest</th>\n",
       "      <th>cityCenters_nearest</th>\n",
       "      <th>parks_around3000</th>\n",
       "      <th>parks_nearest</th>\n",
       "      <th>ponds_around3000</th>\n",
       "      <th>ponds_nearest</th>\n",
       "      <th>days_exposition</th>\n",
       "    </tr>\n",
       "  </thead>\n",
       "  <tbody>\n",
       "    <tr>\n",
       "      <th>0</th>\n",
       "      <td>20</td>\n",
       "      <td>13000000.0</td>\n",
       "      <td>108.0</td>\n",
       "      <td>2019-03-07T00:00:00</td>\n",
       "      <td>3</td>\n",
       "      <td>2.70</td>\n",
       "      <td>16.0</td>\n",
       "      <td>51.0</td>\n",
       "      <td>8</td>\n",
       "      <td>NaN</td>\n",
       "      <td>...</td>\n",
       "      <td>25.0</td>\n",
       "      <td>NaN</td>\n",
       "      <td>Санкт-Петербург</td>\n",
       "      <td>18863.0</td>\n",
       "      <td>16028.0</td>\n",
       "      <td>1.0</td>\n",
       "      <td>482.0</td>\n",
       "      <td>2.0</td>\n",
       "      <td>755.0</td>\n",
       "      <td>NaN</td>\n",
       "    </tr>\n",
       "    <tr>\n",
       "      <th>1</th>\n",
       "      <td>7</td>\n",
       "      <td>3350000.0</td>\n",
       "      <td>40.4</td>\n",
       "      <td>2018-12-04T00:00:00</td>\n",
       "      <td>1</td>\n",
       "      <td>NaN</td>\n",
       "      <td>11.0</td>\n",
       "      <td>18.6</td>\n",
       "      <td>1</td>\n",
       "      <td>NaN</td>\n",
       "      <td>...</td>\n",
       "      <td>11.0</td>\n",
       "      <td>2.0</td>\n",
       "      <td>посёлок Шушары</td>\n",
       "      <td>12817.0</td>\n",
       "      <td>18603.0</td>\n",
       "      <td>0.0</td>\n",
       "      <td>NaN</td>\n",
       "      <td>0.0</td>\n",
       "      <td>NaN</td>\n",
       "      <td>81.0</td>\n",
       "    </tr>\n",
       "    <tr>\n",
       "      <th>2</th>\n",
       "      <td>10</td>\n",
       "      <td>5196000.0</td>\n",
       "      <td>56.0</td>\n",
       "      <td>2015-08-20T00:00:00</td>\n",
       "      <td>2</td>\n",
       "      <td>NaN</td>\n",
       "      <td>5.0</td>\n",
       "      <td>34.3</td>\n",
       "      <td>4</td>\n",
       "      <td>NaN</td>\n",
       "      <td>...</td>\n",
       "      <td>8.3</td>\n",
       "      <td>0.0</td>\n",
       "      <td>Санкт-Петербург</td>\n",
       "      <td>21741.0</td>\n",
       "      <td>13933.0</td>\n",
       "      <td>1.0</td>\n",
       "      <td>90.0</td>\n",
       "      <td>2.0</td>\n",
       "      <td>574.0</td>\n",
       "      <td>558.0</td>\n",
       "    </tr>\n",
       "    <tr>\n",
       "      <th>3</th>\n",
       "      <td>0</td>\n",
       "      <td>64900000.0</td>\n",
       "      <td>159.0</td>\n",
       "      <td>2015-07-24T00:00:00</td>\n",
       "      <td>3</td>\n",
       "      <td>NaN</td>\n",
       "      <td>14.0</td>\n",
       "      <td>NaN</td>\n",
       "      <td>9</td>\n",
       "      <td>NaN</td>\n",
       "      <td>...</td>\n",
       "      <td>NaN</td>\n",
       "      <td>0.0</td>\n",
       "      <td>Санкт-Петербург</td>\n",
       "      <td>28098.0</td>\n",
       "      <td>6800.0</td>\n",
       "      <td>2.0</td>\n",
       "      <td>84.0</td>\n",
       "      <td>3.0</td>\n",
       "      <td>234.0</td>\n",
       "      <td>424.0</td>\n",
       "    </tr>\n",
       "    <tr>\n",
       "      <th>4</th>\n",
       "      <td>2</td>\n",
       "      <td>10000000.0</td>\n",
       "      <td>100.0</td>\n",
       "      <td>2018-06-19T00:00:00</td>\n",
       "      <td>2</td>\n",
       "      <td>3.03</td>\n",
       "      <td>14.0</td>\n",
       "      <td>32.0</td>\n",
       "      <td>13</td>\n",
       "      <td>NaN</td>\n",
       "      <td>...</td>\n",
       "      <td>41.0</td>\n",
       "      <td>NaN</td>\n",
       "      <td>Санкт-Петербург</td>\n",
       "      <td>31856.0</td>\n",
       "      <td>8098.0</td>\n",
       "      <td>2.0</td>\n",
       "      <td>112.0</td>\n",
       "      <td>1.0</td>\n",
       "      <td>48.0</td>\n",
       "      <td>121.0</td>\n",
       "    </tr>\n",
       "  </tbody>\n",
       "</table>\n",
       "<p>5 rows × 22 columns</p>\n",
       "</div>"
      ],
      "text/plain": [
       "   total_images  last_price  total_area first_day_exposition  rooms  \\\n",
       "0            20  13000000.0       108.0  2019-03-07T00:00:00      3   \n",
       "1             7   3350000.0        40.4  2018-12-04T00:00:00      1   \n",
       "2            10   5196000.0        56.0  2015-08-20T00:00:00      2   \n",
       "3             0  64900000.0       159.0  2015-07-24T00:00:00      3   \n",
       "4             2  10000000.0       100.0  2018-06-19T00:00:00      2   \n",
       "\n",
       "   ceiling_height  floors_total  living_area  floor is_apartment  ...  \\\n",
       "0            2.70          16.0         51.0      8          NaN  ...   \n",
       "1             NaN          11.0         18.6      1          NaN  ...   \n",
       "2             NaN           5.0         34.3      4          NaN  ...   \n",
       "3             NaN          14.0          NaN      9          NaN  ...   \n",
       "4            3.03          14.0         32.0     13          NaN  ...   \n",
       "\n",
       "   kitchen_area  balcony    locality_name  airports_nearest  \\\n",
       "0          25.0      NaN  Санкт-Петербург           18863.0   \n",
       "1          11.0      2.0   посёлок Шушары           12817.0   \n",
       "2           8.3      0.0  Санкт-Петербург           21741.0   \n",
       "3           NaN      0.0  Санкт-Петербург           28098.0   \n",
       "4          41.0      NaN  Санкт-Петербург           31856.0   \n",
       "\n",
       "  cityCenters_nearest  parks_around3000  parks_nearest  ponds_around3000  \\\n",
       "0             16028.0               1.0          482.0               2.0   \n",
       "1             18603.0               0.0            NaN               0.0   \n",
       "2             13933.0               1.0           90.0               2.0   \n",
       "3              6800.0               2.0           84.0               3.0   \n",
       "4              8098.0               2.0          112.0               1.0   \n",
       "\n",
       "   ponds_nearest  days_exposition  \n",
       "0          755.0              NaN  \n",
       "1            NaN             81.0  \n",
       "2          574.0            558.0  \n",
       "3          234.0            424.0  \n",
       "4           48.0            121.0  \n",
       "\n",
       "[5 rows x 22 columns]"
      ]
     },
     "execution_count": 3,
     "metadata": {},
     "output_type": "execute_result"
    }
   ],
   "source": [
    "df.head()"
   ]
  },
  {
   "cell_type": "code",
   "execution_count": 4,
   "metadata": {},
   "outputs": [
    {
     "name": "stdout",
     "output_type": "stream",
     "text": [
      "<class 'pandas.core.frame.DataFrame'>\n",
      "RangeIndex: 23699 entries, 0 to 23698\n",
      "Data columns (total 22 columns):\n",
      " #   Column                Non-Null Count  Dtype  \n",
      "---  ------                --------------  -----  \n",
      " 0   total_images          23699 non-null  int64  \n",
      " 1   last_price            23699 non-null  float64\n",
      " 2   total_area            23699 non-null  float64\n",
      " 3   first_day_exposition  23699 non-null  object \n",
      " 4   rooms                 23699 non-null  int64  \n",
      " 5   ceiling_height        14504 non-null  float64\n",
      " 6   floors_total          23613 non-null  float64\n",
      " 7   living_area           21796 non-null  float64\n",
      " 8   floor                 23699 non-null  int64  \n",
      " 9   is_apartment          2775 non-null   object \n",
      " 10  studio                23699 non-null  bool   \n",
      " 11  open_plan             23699 non-null  bool   \n",
      " 12  kitchen_area          21421 non-null  float64\n",
      " 13  balcony               12180 non-null  float64\n",
      " 14  locality_name         23650 non-null  object \n",
      " 15  airports_nearest      18157 non-null  float64\n",
      " 16  cityCenters_nearest   18180 non-null  float64\n",
      " 17  parks_around3000      18181 non-null  float64\n",
      " 18  parks_nearest         8079 non-null   float64\n",
      " 19  ponds_around3000      18181 non-null  float64\n",
      " 20  ponds_nearest         9110 non-null   float64\n",
      " 21  days_exposition       20518 non-null  float64\n",
      "dtypes: bool(2), float64(14), int64(3), object(3)\n",
      "memory usage: 3.7+ MB\n"
     ]
    }
   ],
   "source": [
    "df.info()"
   ]
  },
  {
   "cell_type": "code",
   "execution_count": 5,
   "metadata": {
    "scrolled": true
   },
   "outputs": [
    {
     "data": {
      "image/png": "[encoded data removed]",
      "text/plain": [
       "<Figure size 1080x1440 with 20 Axes>"
      ]
     },
     "metadata": {
      "needs_background": "light"
     },
     "output_type": "display_data"
    }
   ],
   "source": [
    "df.hist(figsize=(15,20))\n",
    "plt.show()"
   ]
  },
  {
   "cell_type": "markdown",
   "metadata": {},
   "source": [
    "**Из данных выше, становится понятно, что для некоторых столбцов установлен некоретный тип данных, который следует в дальнейшем исправить**\n",
    "\n",
    "**Также мы выяснили, что есть пропущенные значения в данных в определенных столбцах**\n",
    "\n",
    "**Из текущих гистограмм становится нагляднее и понятнее, какова количественная величина определенных категорий, например:**\n",
    "\n",
    "*1) Сразу видим, что наибольшее число водоемов в радиусе 3 киломмметров приходится на значение '0'.*\n",
    "\n",
    "*2) Также понимаем, что наибольшее число парков в радиусе 3 киломмметров приходится на значение '0'.*\n",
    "\n",
    "**Но пока данные не будут коретно обработаны, окончательные выводы по гистограммам делать не следует**"
   ]
  },
  {
   "cell_type": "markdown",
   "metadata": {},
   "source": [
    "### Предобработка данных"
   ]
  },
  {
   "cell_type": "code",
   "execution_count": 6,
   "metadata": {
    "scrolled": true
   },
   "outputs": [
    {
     "data": {
      "text/plain": [
       "total_images                0\n",
       "last_price                  0\n",
       "total_area                  0\n",
       "first_day_exposition        0\n",
       "rooms                       0\n",
       "ceiling_height           9195\n",
       "floors_total               86\n",
       "living_area              1903\n",
       "floor                       0\n",
       "is_apartment            20924\n",
       "studio                      0\n",
       "open_plan                   0\n",
       "kitchen_area             2278\n",
       "balcony                 11519\n",
       "locality_name              49\n",
       "airports_nearest         5542\n",
       "cityCenters_nearest      5519\n",
       "parks_around3000         5518\n",
       "parks_nearest           15620\n",
       "ponds_around3000         5518\n",
       "ponds_nearest           14589\n",
       "days_exposition          3181\n",
       "dtype: int64"
      ]
     },
     "execution_count": 6,
     "metadata": {},
     "output_type": "execute_result"
    }
   ],
   "source": [
    "df.isna().sum()"
   ]
  },
  {
   "cell_type": "code",
   "execution_count": 7,
   "metadata": {},
   "outputs": [],
   "source": [
    "columns_to_replace = ['balcony', 'parks_around3000', 'ponds_around3000']\n",
    "for x in columns_to_replace:\n",
    "    df[x] = df[x].fillna(0)"
   ]
  },
  {
   "cell_type": "markdown",
   "metadata": {},
   "source": [
    "*Исходя из ранее просмотренных первых 5 записей исходного датафрейма, можно было заметить то, что количество дней и общее количество этажей приведенны во float64, в то время как их корретная запись должна быть целочисленной, и потому, чтобы можно было производить замену, следует избавится от пропусков, - можно заменить медианным значением, ибо нам важны эти столбцы для анализа в дальнейшем*"
   ]
  },
  {
   "cell_type": "code",
   "execution_count": 8,
   "metadata": {},
   "outputs": [],
   "source": [
    "v1 = df['floors_total'].median()\n",
    "df['floors_total'] = df['floors_total'].fillna(v1)\n",
    "\n",
    "v2 = df['days_exposition'].median()\n",
    "df['days_exposition'] = df['days_exposition'].fillna(v2)"
   ]
  },
  {
   "cell_type": "code",
   "execution_count": 9,
   "metadata": {},
   "outputs": [
    {
     "name": "stdout",
     "output_type": "stream",
     "text": [
      "Проверка NaN в столбцах, в которых была замена на 0:\n",
      "0\n",
      "0\n",
      "0\n",
      "0\n",
      "Проверка NaN в столбцах, в которых была замена на медианное значение:\n",
      "0\n",
      "0\n"
     ]
    }
   ],
   "source": [
    "print('Проверка NaN в столбцах, в которых была замена на 0:')\n",
    "print(df['balcony'].isna().sum())\n",
    "print(df['parks_around3000'].isna().sum())\n",
    "print(df['ponds_around3000'].isna().sum())\n",
    "print(df['days_exposition'].isna().sum())\n",
    "print('Проверка NaN в столбцах, в которых была замена на медианное значение:')\n",
    "print(df['floors_total'].isna().sum())\n",
    "print(df['days_exposition'].isna().sum())"
   ]
  },
  {
   "cell_type": "markdown",
   "metadata": {},
   "source": [
    "**Выводы по пропущенным данным:**\n",
    "\n",
    "*Были обнаружены пропущенные значения в данных, и причиной этому может быть некоректное считывание данных при получение их на основе картографических данных.*\n",
    "\n",
    "*Также второй возможной причиной может быть человеческий фактор, так как пользователь мог намеренно ничего не указывать в определенных данных требуемые значения по какой-либо причине.*\n",
    "\n",
    "*Мы обнаружили пропущенные значения, которые явно нельзя было заменить, например, для булевых значений, и те записи, к которым можно было применить замену, мы решили заменить пропуски на 0 и на медианну в определенных столбцах.*"
   ]
  },
  {
   "cell_type": "code",
   "execution_count": 10,
   "metadata": {},
   "outputs": [],
   "source": [
    "replace_format = ['parks_around3000', 'ponds_around3000', 'days_exposition', 'balcony', 'floors_total']\n",
    "\n",
    "for x in replace_format:\n",
    "    df[x] = df[x].astype(int)"
   ]
  },
  {
   "cell_type": "markdown",
   "metadata": {},
   "source": [
    "*Была произведенна замена типа переменных в столбцах в связи с тем, что данные напримере `balcony` не могут иметь 2.5 балконов, как и общее число этажей `floors_total` не может быть дробной записью и предополагать половину балкона: 16.0*\n",
    "\n",
    "*Мы могли заменить записи в стоблцах `airports_nearest`, `cityCenters_nearest`, так как там нет после запятой значений, но поскольку мы храним в них расстояние, которое явно может быть не целлым, то следует отставить в таком изначальном виде*"
   ]
  },
  {
   "cell_type": "code",
   "execution_count": 11,
   "metadata": {
    "scrolled": true
   },
   "outputs": [
    {
     "data": {
      "text/html": [
       "<div>\n",
       "<style scoped>\n",
       "    .dataframe tbody tr th:only-of-type {\n",
       "        vertical-align: middle;\n",
       "    }\n",
       "\n",
       "    .dataframe tbody tr th {\n",
       "        vertical-align: top;\n",
       "    }\n",
       "\n",
       "    .dataframe thead th {\n",
       "        text-align: right;\n",
       "    }\n",
       "</style>\n",
       "<table border=\"1\" class=\"dataframe\">\n",
       "  <thead>\n",
       "    <tr style=\"text-align: right;\">\n",
       "      <th></th>\n",
       "      <th>total_images</th>\n",
       "      <th>last_price</th>\n",
       "      <th>total_area</th>\n",
       "      <th>first_day_exposition</th>\n",
       "      <th>rooms</th>\n",
       "      <th>ceiling_height</th>\n",
       "      <th>floors_total</th>\n",
       "      <th>living_area</th>\n",
       "      <th>floor</th>\n",
       "      <th>is_apartment</th>\n",
       "      <th>...</th>\n",
       "      <th>kitchen_area</th>\n",
       "      <th>balcony</th>\n",
       "      <th>locality_name</th>\n",
       "      <th>airports_nearest</th>\n",
       "      <th>cityCenters_nearest</th>\n",
       "      <th>parks_around3000</th>\n",
       "      <th>parks_nearest</th>\n",
       "      <th>ponds_around3000</th>\n",
       "      <th>ponds_nearest</th>\n",
       "      <th>days_exposition</th>\n",
       "    </tr>\n",
       "  </thead>\n",
       "  <tbody>\n",
       "    <tr>\n",
       "      <th>0</th>\n",
       "      <td>20</td>\n",
       "      <td>13000000.0</td>\n",
       "      <td>108.0</td>\n",
       "      <td>2019-03-07T00:00:00</td>\n",
       "      <td>3</td>\n",
       "      <td>2.70</td>\n",
       "      <td>16</td>\n",
       "      <td>51.0</td>\n",
       "      <td>8</td>\n",
       "      <td>NaN</td>\n",
       "      <td>...</td>\n",
       "      <td>25.0</td>\n",
       "      <td>0</td>\n",
       "      <td>Санкт-Петербург</td>\n",
       "      <td>18863.0</td>\n",
       "      <td>16028.0</td>\n",
       "      <td>1</td>\n",
       "      <td>482.0</td>\n",
       "      <td>2</td>\n",
       "      <td>755.0</td>\n",
       "      <td>95</td>\n",
       "    </tr>\n",
       "    <tr>\n",
       "      <th>1</th>\n",
       "      <td>7</td>\n",
       "      <td>3350000.0</td>\n",
       "      <td>40.4</td>\n",
       "      <td>2018-12-04T00:00:00</td>\n",
       "      <td>1</td>\n",
       "      <td>NaN</td>\n",
       "      <td>11</td>\n",
       "      <td>18.6</td>\n",
       "      <td>1</td>\n",
       "      <td>NaN</td>\n",
       "      <td>...</td>\n",
       "      <td>11.0</td>\n",
       "      <td>2</td>\n",
       "      <td>посёлок Шушары</td>\n",
       "      <td>12817.0</td>\n",
       "      <td>18603.0</td>\n",
       "      <td>0</td>\n",
       "      <td>NaN</td>\n",
       "      <td>0</td>\n",
       "      <td>NaN</td>\n",
       "      <td>81</td>\n",
       "    </tr>\n",
       "    <tr>\n",
       "      <th>2</th>\n",
       "      <td>10</td>\n",
       "      <td>5196000.0</td>\n",
       "      <td>56.0</td>\n",
       "      <td>2015-08-20T00:00:00</td>\n",
       "      <td>2</td>\n",
       "      <td>NaN</td>\n",
       "      <td>5</td>\n",
       "      <td>34.3</td>\n",
       "      <td>4</td>\n",
       "      <td>NaN</td>\n",
       "      <td>...</td>\n",
       "      <td>8.3</td>\n",
       "      <td>0</td>\n",
       "      <td>Санкт-Петербург</td>\n",
       "      <td>21741.0</td>\n",
       "      <td>13933.0</td>\n",
       "      <td>1</td>\n",
       "      <td>90.0</td>\n",
       "      <td>2</td>\n",
       "      <td>574.0</td>\n",
       "      <td>558</td>\n",
       "    </tr>\n",
       "    <tr>\n",
       "      <th>3</th>\n",
       "      <td>0</td>\n",
       "      <td>64900000.0</td>\n",
       "      <td>159.0</td>\n",
       "      <td>2015-07-24T00:00:00</td>\n",
       "      <td>3</td>\n",
       "      <td>NaN</td>\n",
       "      <td>14</td>\n",
       "      <td>NaN</td>\n",
       "      <td>9</td>\n",
       "      <td>NaN</td>\n",
       "      <td>...</td>\n",
       "      <td>NaN</td>\n",
       "      <td>0</td>\n",
       "      <td>Санкт-Петербург</td>\n",
       "      <td>28098.0</td>\n",
       "      <td>6800.0</td>\n",
       "      <td>2</td>\n",
       "      <td>84.0</td>\n",
       "      <td>3</td>\n",
       "      <td>234.0</td>\n",
       "      <td>424</td>\n",
       "    </tr>\n",
       "    <tr>\n",
       "      <th>4</th>\n",
       "      <td>2</td>\n",
       "      <td>10000000.0</td>\n",
       "      <td>100.0</td>\n",
       "      <td>2018-06-19T00:00:00</td>\n",
       "      <td>2</td>\n",
       "      <td>3.03</td>\n",
       "      <td>14</td>\n",
       "      <td>32.0</td>\n",
       "      <td>13</td>\n",
       "      <td>NaN</td>\n",
       "      <td>...</td>\n",
       "      <td>41.0</td>\n",
       "      <td>0</td>\n",
       "      <td>Санкт-Петербург</td>\n",
       "      <td>31856.0</td>\n",
       "      <td>8098.0</td>\n",
       "      <td>2</td>\n",
       "      <td>112.0</td>\n",
       "      <td>1</td>\n",
       "      <td>48.0</td>\n",
       "      <td>121</td>\n",
       "    </tr>\n",
       "  </tbody>\n",
       "</table>\n",
       "<p>5 rows × 22 columns</p>\n",
       "</div>"
      ],
      "text/plain": [
       "   total_images  last_price  total_area first_day_exposition  rooms  \\\n",
       "0            20  13000000.0       108.0  2019-03-07T00:00:00      3   \n",
       "1             7   3350000.0        40.4  2018-12-04T00:00:00      1   \n",
       "2            10   5196000.0        56.0  2015-08-20T00:00:00      2   \n",
       "3             0  64900000.0       159.0  2015-07-24T00:00:00      3   \n",
       "4             2  10000000.0       100.0  2018-06-19T00:00:00      2   \n",
       "\n",
       "   ceiling_height  floors_total  living_area  floor is_apartment  ...  \\\n",
       "0            2.70            16         51.0      8          NaN  ...   \n",
       "1             NaN            11         18.6      1          NaN  ...   \n",
       "2             NaN             5         34.3      4          NaN  ...   \n",
       "3             NaN            14          NaN      9          NaN  ...   \n",
       "4            3.03            14         32.0     13          NaN  ...   \n",
       "\n",
       "   kitchen_area  balcony    locality_name  airports_nearest  \\\n",
       "0          25.0        0  Санкт-Петербург           18863.0   \n",
       "1          11.0        2   посёлок Шушары           12817.0   \n",
       "2           8.3        0  Санкт-Петербург           21741.0   \n",
       "3           NaN        0  Санкт-Петербург           28098.0   \n",
       "4          41.0        0  Санкт-Петербург           31856.0   \n",
       "\n",
       "  cityCenters_nearest  parks_around3000  parks_nearest  ponds_around3000  \\\n",
       "0             16028.0                 1          482.0                 2   \n",
       "1             18603.0                 0            NaN                 0   \n",
       "2             13933.0                 1           90.0                 2   \n",
       "3              6800.0                 2           84.0                 3   \n",
       "4              8098.0                 2          112.0                 1   \n",
       "\n",
       "   ponds_nearest  days_exposition  \n",
       "0          755.0               95  \n",
       "1            NaN               81  \n",
       "2          574.0              558  \n",
       "3          234.0              424  \n",
       "4           48.0              121  \n",
       "\n",
       "[5 rows x 22 columns]"
      ]
     },
     "execution_count": 11,
     "metadata": {},
     "output_type": "execute_result"
    }
   ],
   "source": [
    "df.head(5)"
   ]
  },
  {
   "cell_type": "markdown",
   "metadata": {},
   "source": [
    "**АНОМАЛИИ**"
   ]
  },
  {
   "cell_type": "code",
   "execution_count": 12,
   "metadata": {},
   "outputs": [
    {
     "data": {
      "text/plain": [
       "array([ 3,  1,  2,  4,  5,  6,  0,  7, 11,  8, 14, 10, 15,  9, 19, 16, 12])"
      ]
     },
     "execution_count": 12,
     "metadata": {},
     "output_type": "execute_result"
    }
   ],
   "source": [
    "df['rooms'].unique()"
   ]
  },
  {
   "cell_type": "code",
   "execution_count": 13,
   "metadata": {},
   "outputs": [
    {
     "data": {
      "text/plain": [
       "1     8047\n",
       "2     7940\n",
       "3     5814\n",
       "4     1180\n",
       "5      326\n",
       "0      197\n",
       "6      105\n",
       "7       59\n",
       "8       12\n",
       "9        8\n",
       "10       3\n",
       "11       2\n",
       "14       2\n",
       "19       1\n",
       "16       1\n",
       "12       1\n",
       "15       1\n",
       "Name: rooms, dtype: int64"
      ]
     },
     "execution_count": 13,
     "metadata": {},
     "output_type": "execute_result"
    }
   ],
   "source": [
    "df['rooms'].value_counts()"
   ]
  },
  {
   "cell_type": "markdown",
   "metadata": {},
   "source": [
    "*Отсюда понимаем, что выбросами можно считать все значения, кроме 1, 2 и 3, поскольку у них процентное соотношение равно  33.96%, 33.5% и 24.53%*"
   ]
  },
  {
   "cell_type": "code",
   "execution_count": 14,
   "metadata": {},
   "outputs": [],
   "source": [
    "df = df.drop(index=df[(df['rooms'] > 3) | (df['rooms'] == 0)].index)"
   ]
  },
  {
   "cell_type": "code",
   "execution_count": 15,
   "metadata": {},
   "outputs": [
    {
     "data": {
      "text/plain": [
       "array([3, 1, 2])"
      ]
     },
     "execution_count": 15,
     "metadata": {},
     "output_type": "execute_result"
    }
   ],
   "source": [
    "df['rooms'].unique()"
   ]
  },
  {
   "cell_type": "code",
   "execution_count": 16,
   "metadata": {},
   "outputs": [
    {
     "data": {
      "text/plain": [
       "array([ 25.  ,  11.  ,   8.3 ,    nan,  41.  ,   9.1 ,  14.4 ,  18.9 ,\n",
       "         8.81,   6.5 ,   8.5 ,   6.  ,   9.  ,   5.2 ,   8.  ,   7.6 ,\n",
       "         5.6 ,  12.  ,   5.7 ,   6.1 ,  19.6 ,  15.  ,   9.2 ,  11.7 ,\n",
       "        13.4 ,   6.3 ,  11.6 ,   8.8 ,  10.  ,   7.5 ,   7.  ,   9.5 ,\n",
       "        50.  ,  15.5 ,  10.7 ,  11.1 ,  20.  ,  11.9 ,  16.  ,   5.3 ,\n",
       "        11.5 ,   7.2 ,   6.2 ,  10.4 ,   7.1 ,   4.9 ,   7.3 ,  11.95,\n",
       "        10.2 ,   6.4 ,   5.5 ,   8.4 ,  13.  ,  23.6 ,  10.8 ,  18.3 ,\n",
       "         5.  ,   8.2 ,  24.  ,  23.8 ,   6.6 ,  17.  ,  26.85,  15.4 ,\n",
       "         7.8 ,   5.4 ,  12.72,  12.2 ,  19.  ,  12.4 ,   7.9 ,  10.3 ,\n",
       "         9.8 ,  17.5 ,  14.7 ,  20.91,  10.6 ,  10.9 ,   9.7 ,   7.7 ,\n",
       "        12.5 ,  11.4 ,   8.6 ,  11.24,  15.7 ,  13.29,  14.  ,  12.9 ,\n",
       "        16.5 ,   9.36,  21.5 ,  35.  ,  10.5 ,   8.7 ,  19.3 ,  49.2 ,\n",
       "        11.52,   8.9 ,   9.6 ,  14.2 ,   8.1 ,  10.44,   4.5 ,  16.3 ,\n",
       "        18.4 ,   7.4 ,  14.1 ,  11.3 ,   9.4 ,  13.1 ,  10.19,   7.06,\n",
       "        11.2 ,  22.  ,  30.  ,  36.  ,   5.1 ,  18.7 ,  17.6 ,   9.9 ,\n",
       "        14.3 ,  18.  ,  23.  ,  11.8 ,  13.3 ,  17.7 ,  23.1 ,  10.63,\n",
       "        11.33,  13.5 ,  19.5 ,  13.2 ,  17.2 ,  13.8 ,  12.3 ,   9.3 ,\n",
       "         5.8 ,  26.1 ,  12.88,   9.28,  16.1 ,  14.5 ,  31.  ,   5.9 ,\n",
       "        10.1 ,  23.4 ,  28.6 ,   8.98,  10.59,  16.8 ,  11.27,  16.74,\n",
       "         9.57,  23.43,  15.2 ,   8.07,  12.24,  13.39,  36.6 ,  10.84,\n",
       "        15.3 ,  18.5 ,  23.9 ,  19.7 ,  19.9 ,  22.1 ,  19.2 ,  10.35,\n",
       "        10.69,   5.49,  31.2 ,   6.8 ,   8.29,   6.7 ,  13.6 ,  10.75,\n",
       "         2.  ,   6.77,  11.06,  12.6 ,   7.71,  12.7 ,  27.  ,  11.35,\n",
       "        13.31,  21.  ,  20.6 ,  11.78,  20.5 ,  13.79,  20.52,   5.75,\n",
       "        18.78,  23.5 ,  24.3 ,   6.9 ,  14.8 ,   8.87,  14.9 ,   8.71,\n",
       "         9.95,  17.53,  42.6 ,  25.2 ,   8.31,   9.67,  32.  ,  22.4 ,\n",
       "        16.4 ,   6.36,  17.1 ,  13.14,  18.2 ,   9.18,  13.7 ,  15.61,\n",
       "        40.  ,  22.31,   9.45,  29.  ,  14.49,   5.35,  17.8 ,  29.9 ,\n",
       "         8.08,  13.11,   6.25,  35.35,  12.8 ,  30.2 ,  10.09,  32.1 ,\n",
       "        11.29,  14.56,  11.11,  11.49,  13.67,  24.5 ,  11.14,  17.9 ,\n",
       "        11.05,   4.  ,  14.84,   8.21,  12.18,  25.34,   9.25,   8.65,\n",
       "        13.9 ,  13.53,  15.09,   9.39,  18.6 ,  24.7 ,  12.35,  20.8 ,\n",
       "        27.4 ,   7.17,   3.  ,   8.23,  24.03,   9.17,  43.  ,  10.45,\n",
       "        11.39,  19.92,  20.2 ,  10.72,  20.07,  11.81,  18.45,  10.51,\n",
       "        39.  ,  10.91,   6.73,  11.85,  37.8 ,   4.8 ,  15.1 , 100.7 ,\n",
       "         5.78,  12.1 ,  11.28,   9.97,  10.68,  21.2 ,  16.7 ,  10.56,\n",
       "         9.68,   8.25,  15.9 ,   4.7 ,  17.4 ,  10.02,  40.2 ,  11.62,\n",
       "        14.6 ,  11.71,  13.69,  18.1 ,  22.22,  17.3 ,   6.35,  23.3 ,\n",
       "        10.88,   6.76,  28.  ,  10.29,  11.63,  25.6 ,  19.1 ,  19.4 ,\n",
       "        15.6 ,  21.87,   3.2 ,  12.27,  10.39,  10.89,  11.53,   5.68,\n",
       "        10.55,  33.  ,   3.8 ,  36.2 ,   9.22,   5.62,  21.9 ,  12.17,\n",
       "        19.8 ,   4.2 ,  21.7 ,  12.38,  11.46,   7.89,  16.6 ,  31.7 ,\n",
       "        24.4 ,  14.57,  30.9 ,  60.  ,  26.  ,  10.15,  12.05,   9.27,\n",
       "        15.33,   6.58,   9.93,  25.3 ,  28.8 ,  13.05,  21.3 ,  29.4 ,\n",
       "         7.92,  15.8 ,  15.69,  42.  ,   7.85,  13.16,  12.86,  18.8 ,\n",
       "        30.5 ,  29.3 ,  45.  ,   9.32,  44.  ,   5.74,  11.26,  13.38,\n",
       "        14.31,   6.55,  10.52,   6.72,  13.02,  11.17,  38.  ,  56.2 ,\n",
       "        12.52,  28.2 ,  12.29,  77.  ,  11.59,   8.38,   5.47,  10.18,\n",
       "         9.89,  12.92,  23.53,  37.7 ,  10.36,  14.05,   9.04,  10.78,\n",
       "        14.24,  13.42,  32.8 ,  10.12,   7.12,  17.64,  10.64,  23.25,\n",
       "        11.41,  11.42,  13.55,  13.28,  14.55,   9.38,   8.32,  11.55,\n",
       "        13.81,  24.1 ,  14.61,  11.51,   7.65,   9.91,  16.83,  11.34,\n",
       "        11.16,  16.2 ,  18.34,  34.19,   6.02,  18.07,  20.1 ,  12.08,\n",
       "         7.18,   8.11,   8.05,   8.06,  12.96,  42.4 ,  21.4 ,   8.93,\n",
       "        44.9 ,  10.62,   9.72,  11.18,  10.22,  51.  ,  10.94,  13.49,\n",
       "        31.73,  37.  ,   5.86,   7.63,  11.47,  20.9 ,  13.25,  22.2 ,\n",
       "        19.35,  17.28,  14.04,  21.76,   4.3 ,  10.06,   8.19,  22.7 ,\n",
       "        14.74,  11.12,  25.11,  14.02,  13.06,   8.01,  20.38,   5.53,\n",
       "        46.8 ,  11.31,  17.85,  20.7 ,   9.46,   6.31,  42.5 ,   9.48,\n",
       "        43.4 ,  11.57,  12.44,  16.9 ,  14.46,  12.58,  12.47,   7.95,\n",
       "        16.32,  15.26,  12.23,  11.37,  27.9 ,   8.58,  19.51,  12.39,\n",
       "         9.65,   9.05,   6.84,  20.3 ,  26.5 ,  41.9 ,  11.36,  10.08,\n",
       "        10.54,   9.16,  14.95,  12.84,  22.9 ,   8.76,  10.03,  22.5 ,\n",
       "         9.35,  11.13,   7.87,   2.89,  21.8 ,   7.36,  24.9 ,   9.59,\n",
       "         7.97,   9.85,  33.9 ,  42.8 ,   7.86,   5.25,  10.26,   5.33,\n",
       "        12.85,   9.51,  58.4 ,  10.34,  23.71,  19.42,   6.83,  11.92,\n",
       "        13.17,  13.27,  11.84,  12.56,  20.56,  41.3 ,   9.01,   8.73,\n",
       "         5.82,   3.7 ,   2.4 ,  42.7 ,  25.1 ,  40.5 ,  12.02,   8.57,\n",
       "        12.76,   8.66,  11.04,  40.3 ,  15.83,   9.37,  23.38,  10.42,\n",
       "        21.6 ,  13.93,   7.54,  23.42,  13.64,   5.61,  29.1 ,   5.65,\n",
       "        11.09,  11.73,  25.4 ,  10.25,  10.38,  13.41,   5.23,   9.09,\n",
       "        11.45,  11.74,  14.64,  48.  ,  12.14,   8.84,  16.66,  10.27,\n",
       "         3.5 ,  12.55,  16.26,   6.62,  10.33,  13.26,  32.3 ,  23.2 ,\n",
       "        14.14,   9.62,  34.  ,  10.92,  10.58,  15.85,   7.78,   8.94,\n",
       "         9.82,  34.7 ,   8.45,  14.17,  15.39,   8.43,  87.2 ,  12.66,\n",
       "         8.35,   8.47,  22.72,   9.52,  22.3 ,  14.97,   4.6 ,  10.49,\n",
       "        15.37,  20.31,  23.28,   8.54,  30.59,  27.57,   9.71,   9.98,\n",
       "        28.4 ,  37.9 ,   6.91,  25.9 ,  47.  ,  51.8 ,  14.27,  40.7 ,\n",
       "        19.61,   9.44,  27.76,  15.78,  10.05,  26.2 ,  10.32,  19.39,\n",
       "         9.77,  29.5 ,  13.73,  10.71,  10.73,   6.19,  28.5 ,  16.25,\n",
       "        13.47,   4.4 ,  43.2 ,  27.5 ,  11.67,  12.57,  16.27,   6.28,\n",
       "        12.01,  37.6 ,  13.35,   3.4 ,   8.61,   8.96,  34.8 ,  21.1 ,\n",
       "        27.3 ,  10.24,   8.15,  35.5 ,   4.1 ,  10.43,  16.46,   7.19,\n",
       "        34.3 ,  30.6 ,  17.55,  10.74,  13.24,   5.91,   9.43,  20.92,\n",
       "         8.13,  33.1 ,  10.37,  16.77,   6.27,  12.37,  22.6 ,   9.76,\n",
       "        16.92,  15.54,   6.23,  15.35,  37.5 ,  21.82,   7.94,  34.1 ,\n",
       "         6.03,  15.55,   8.44,  43.8 ,  18.93,  12.75,   6.33,  24.8 ,\n",
       "         5.64,  22.43,  39.1 ,   7.48,  32.7 ,   6.22,   7.41,  17.06,\n",
       "        26.4 ,  34.51,   6.26,  35.6 ,   9.83,  28.7 ,   3.3 ,  13.63,\n",
       "        62.5 ,  10.47,  11.87,  11.25,   5.42,  18.25,   8.82,   9.58,\n",
       "         5.04,  13.52,  11.44,   8.48,  13.21,   8.03,  16.89,  26.9 ,\n",
       "        35.4 ,  13.95,   9.34,  64.  ,  37.78,  23.7 ,  29.8 ,   6.95,\n",
       "        16.05,  11.65,  38.1 ,  10.99,  10.86,   8.85,  14.65,   9.24,\n",
       "        16.45,   7.84,  93.2 ,   9.79,   7.03,  17.12,   5.28,  12.53,\n",
       "        14.51,   9.31,  31.6 ,  72.  ,  36.4 ,   6.86,  11.07,  14.06,\n",
       "        93.  ,   6.93,  15.15,   8.34,  55.7 ,  24.89,  35.9 ,  22.78,\n",
       "        16.47,  38.86,  18.16,   8.69,  46.  ,  25.5 ,  13.74,  54.2 ,\n",
       "        19.21,  31.5 ,  12.11,  11.98,  10.17,  35.7 ,  12.71,   2.3 ,\n",
       "        16.07,   9.42,  20.77,  28.64,  13.86,  10.01,  24.2 ,  12.45,\n",
       "        12.87,  39.7 ,   5.06,  14.29,  14.43,  25.02,   8.52,  11.56,\n",
       "        12.89,   8.63,  13.32,  44.7 ,  16.42,   5.31,   9.26,  14.93,\n",
       "        31.4 ,   9.06,  63.  ,   6.61,   6.65,  19.19,  20.24,  13.77,\n",
       "        28.3 ,   6.37,  53.  ,  14.58,   9.19,   8.67,  13.58,  12.03,\n",
       "        10.87,  19.28,  16.48,   9.08,  12.69,   8.09,  12.83,  11.64,\n",
       "       107.  ,   1.3 ,  48.3 ,   9.11,  21.53,  28.52,  15.43,  15.57,\n",
       "        13.43,  19.94,   8.77,  36.3 ,  15.07,  50.2 ,  15.03,  13.33,\n",
       "        12.43,  17.61,   9.66,  12.32,  24.6 ,   6.47,  41.1 ,   8.12,\n",
       "        21.25,  10.13,  41.6 ,  49.4 ,  12.25,  28.56,  11.69,  14.85,\n",
       "        15.18,   8.02,  11.22,   8.95,  34.6 ,  29.2 ,   9.73,  10.46,\n",
       "        29.7 ,  32.4 ,  12.93,  12.63,  15.24,   8.18,  22.15,  11.43,\n",
       "         7.02,  11.93,   7.09,   6.16,   7.15,  13.65,  10.79,  14.98,\n",
       "        34.4 ,   5.14,  65.  ,   9.75,   5.59,  13.04,  10.95,  16.03,\n",
       "         9.13,  17.44,   5.85,   6.24,  21.74,  16.88,  21.55,  18.55,\n",
       "        15.72,  17.87,  13.83])"
      ]
     },
     "execution_count": 16,
     "metadata": {},
     "output_type": "execute_result"
    }
   ],
   "source": [
    "df['kitchen_area'].unique()"
   ]
  },
  {
   "cell_type": "code",
   "execution_count": 17,
   "metadata": {},
   "outputs": [],
   "source": [
    "df['kitchen_area'] = df['kitchen_area'].where(df['kitchen_area'] < 25, df['kitchen_area'] / 10)"
   ]
  },
  {
   "cell_type": "code",
   "execution_count": 18,
   "metadata": {},
   "outputs": [
    {
     "data": {
      "text/plain": [
       "array([ 2.5  , 11.   ,  8.3  ,    nan,  4.1  ,  9.1  , 14.4  , 18.9  ,\n",
       "        8.81 ,  6.5  ,  8.5  ,  6.   ,  9.   ,  5.2  ,  8.   ,  7.6  ,\n",
       "        5.6  , 12.   ,  5.7  ,  6.1  , 19.6  , 15.   ,  9.2  , 11.7  ,\n",
       "       13.4  ,  6.3  , 11.6  ,  8.8  , 10.   ,  7.5  ,  7.   ,  9.5  ,\n",
       "        5.   , 15.5  , 10.7  , 11.1  , 20.   , 11.9  , 16.   ,  5.3  ,\n",
       "       11.5  ,  7.2  ,  6.2  , 10.4  ,  7.1  ,  4.9  ,  7.3  , 11.95 ,\n",
       "       10.2  ,  6.4  ,  5.5  ,  8.4  , 13.   , 23.6  , 10.8  , 18.3  ,\n",
       "        8.2  , 24.   , 23.8  ,  6.6  , 17.   ,  2.685, 15.4  ,  7.8  ,\n",
       "        5.4  , 12.72 , 12.2  , 19.   , 12.4  ,  7.9  , 10.3  ,  9.8  ,\n",
       "       17.5  , 14.7  , 20.91 , 10.6  , 10.9  ,  9.7  ,  7.7  , 12.5  ,\n",
       "       11.4  ,  8.6  , 11.24 , 15.7  , 13.29 , 14.   , 12.9  , 16.5  ,\n",
       "        9.36 , 21.5  ,  3.5  , 10.5  ,  8.7  , 19.3  ,  4.92 , 11.52 ,\n",
       "        8.9  ,  9.6  , 14.2  ,  8.1  , 10.44 ,  4.5  , 16.3  , 18.4  ,\n",
       "        7.4  , 14.1  , 11.3  ,  9.4  , 13.1  , 10.19 ,  7.06 , 11.2  ,\n",
       "       22.   ,  3.   ,  3.6  ,  5.1  , 18.7  , 17.6  ,  9.9  , 14.3  ,\n",
       "       18.   , 23.   , 11.8  , 13.3  , 17.7  , 23.1  , 10.63 , 11.33 ,\n",
       "       13.5  , 19.5  , 13.2  , 17.2  , 13.8  , 12.3  ,  9.3  ,  5.8  ,\n",
       "        2.61 , 12.88 ,  9.28 , 16.1  , 14.5  ,  3.1  ,  5.9  , 10.1  ,\n",
       "       23.4  ,  2.86 ,  8.98 , 10.59 , 16.8  , 11.27 , 16.74 ,  9.57 ,\n",
       "       23.43 , 15.2  ,  8.07 , 12.24 , 13.39 ,  3.66 , 10.84 , 15.3  ,\n",
       "       18.5  , 23.9  , 19.7  , 19.9  , 22.1  , 19.2  , 10.35 , 10.69 ,\n",
       "        5.49 ,  3.12 ,  6.8  ,  8.29 ,  6.7  , 13.6  , 10.75 ,  2.   ,\n",
       "        6.77 , 11.06 , 12.6  ,  7.71 , 12.7  ,  2.7  , 11.35 , 13.31 ,\n",
       "       21.   , 20.6  , 11.78 , 20.5  , 13.79 , 20.52 ,  5.75 , 18.78 ,\n",
       "       23.5  , 24.3  ,  6.9  , 14.8  ,  8.87 , 14.9  ,  8.71 ,  9.95 ,\n",
       "       17.53 ,  4.26 ,  2.52 ,  8.31 ,  9.67 ,  3.2  , 22.4  , 16.4  ,\n",
       "        6.36 , 17.1  , 13.14 , 18.2  ,  9.18 , 13.7  , 15.61 ,  4.   ,\n",
       "       22.31 ,  9.45 ,  2.9  , 14.49 ,  5.35 , 17.8  ,  2.99 ,  8.08 ,\n",
       "       13.11 ,  6.25 ,  3.535, 12.8  ,  3.02 , 10.09 ,  3.21 , 11.29 ,\n",
       "       14.56 , 11.11 , 11.49 , 13.67 , 24.5  , 11.14 , 17.9  , 11.05 ,\n",
       "       14.84 ,  8.21 , 12.18 ,  2.534,  9.25 ,  8.65 , 13.9  , 13.53 ,\n",
       "       15.09 ,  9.39 , 18.6  , 24.7  , 12.35 , 20.8  ,  2.74 ,  7.17 ,\n",
       "        8.23 , 24.03 ,  9.17 ,  4.3  , 10.45 , 11.39 , 19.92 , 20.2  ,\n",
       "       10.72 , 20.07 , 11.81 , 18.45 , 10.51 ,  3.9  , 10.91 ,  6.73 ,\n",
       "       11.85 ,  3.78 ,  4.8  , 15.1  , 10.07 ,  5.78 , 12.1  , 11.28 ,\n",
       "        9.97 , 10.68 , 21.2  , 16.7  , 10.56 ,  9.68 ,  8.25 , 15.9  ,\n",
       "        4.7  , 17.4  , 10.02 ,  4.02 , 11.62 , 14.6  , 11.71 , 13.69 ,\n",
       "       18.1  , 22.22 , 17.3  ,  6.35 , 23.3  , 10.88 ,  6.76 ,  2.8  ,\n",
       "       10.29 , 11.63 ,  2.56 , 19.1  , 19.4  , 15.6  , 21.87 , 12.27 ,\n",
       "       10.39 , 10.89 , 11.53 ,  5.68 , 10.55 ,  3.3  ,  3.8  ,  3.62 ,\n",
       "        9.22 ,  5.62 , 21.9  , 12.17 , 19.8  ,  4.2  , 21.7  , 12.38 ,\n",
       "       11.46 ,  7.89 , 16.6  ,  3.17 , 24.4  , 14.57 ,  3.09 ,  2.6  ,\n",
       "       10.15 , 12.05 ,  9.27 , 15.33 ,  6.58 ,  9.93 ,  2.53 ,  2.88 ,\n",
       "       13.05 , 21.3  ,  2.94 ,  7.92 , 15.8  , 15.69 ,  7.85 , 13.16 ,\n",
       "       12.86 , 18.8  ,  3.05 ,  2.93 ,  9.32 ,  4.4  ,  5.74 , 11.26 ,\n",
       "       13.38 , 14.31 ,  6.55 , 10.52 ,  6.72 , 13.02 , 11.17 , 12.52 ,\n",
       "        2.82 , 12.29 , 11.59 ,  8.38 ,  5.47 , 10.18 ,  9.89 , 12.92 ,\n",
       "       23.53 ,  3.77 , 10.36 , 14.05 ,  9.04 , 10.78 , 14.24 , 13.42 ,\n",
       "        3.28 , 10.12 ,  7.12 , 17.64 , 10.64 , 23.25 , 11.41 , 11.42 ,\n",
       "       13.55 , 13.28 , 14.55 ,  9.38 ,  8.32 , 11.55 , 13.81 , 24.1  ,\n",
       "       14.61 , 11.51 ,  7.65 ,  9.91 , 16.83 , 11.34 , 11.16 , 16.2  ,\n",
       "       18.34 ,  3.419,  6.02 , 18.07 , 20.1  , 12.08 ,  7.18 ,  8.11 ,\n",
       "        8.05 ,  8.06 , 12.96 ,  4.24 , 21.4  ,  8.93 ,  4.49 , 10.62 ,\n",
       "        9.72 , 11.18 , 10.22 , 10.94 , 13.49 ,  3.173,  3.7  ,  5.86 ,\n",
       "        7.63 , 11.47 , 20.9  , 13.25 , 22.2  , 19.35 , 17.28 , 14.04 ,\n",
       "       21.76 , 10.06 ,  8.19 , 22.7  , 14.74 , 11.12 ,  2.511, 14.02 ,\n",
       "       13.06 ,  8.01 , 20.38 ,  5.53 ,  4.68 , 11.31 , 17.85 , 20.7  ,\n",
       "        9.46 ,  6.31 ,  4.25 ,  9.48 ,  4.34 , 11.57 , 12.44 , 16.9  ,\n",
       "       14.46 , 12.58 , 12.47 ,  7.95 , 16.32 , 15.26 , 12.23 , 11.37 ,\n",
       "        2.79 ,  8.58 , 19.51 , 12.39 ,  9.65 ,  9.05 ,  6.84 , 20.3  ,\n",
       "        2.65 ,  4.19 , 11.36 , 10.08 , 10.54 ,  9.16 , 14.95 , 12.84 ,\n",
       "       22.9  ,  8.76 , 10.03 , 22.5  ,  9.35 , 11.13 ,  7.87 ,  2.89 ,\n",
       "       21.8  ,  7.36 , 24.9  ,  9.59 ,  7.97 ,  9.85 ,  3.39 ,  4.28 ,\n",
       "        7.86 ,  5.25 , 10.26 ,  5.33 , 12.85 ,  9.51 ,  5.84 , 10.34 ,\n",
       "       23.71 , 19.42 ,  6.83 , 11.92 , 13.17 , 13.27 , 11.84 , 12.56 ,\n",
       "       20.56 ,  4.13 ,  9.01 ,  8.73 ,  5.82 ,  2.4  ,  4.27 ,  2.51 ,\n",
       "        4.05 , 12.02 ,  8.57 , 12.76 ,  8.66 , 11.04 ,  4.03 , 15.83 ,\n",
       "        9.37 , 23.38 , 10.42 , 21.6  , 13.93 ,  7.54 , 23.42 , 13.64 ,\n",
       "        5.61 ,  2.91 ,  5.65 , 11.09 , 11.73 ,  2.54 , 10.25 , 10.38 ,\n",
       "       13.41 ,  5.23 ,  9.09 , 11.45 , 11.74 , 14.64 , 12.14 ,  8.84 ,\n",
       "       16.66 , 10.27 , 12.55 , 16.26 ,  6.62 , 10.33 , 13.26 ,  3.23 ,\n",
       "       23.2  , 14.14 ,  9.62 ,  3.4  , 10.92 , 10.58 , 15.85 ,  7.78 ,\n",
       "        8.94 ,  9.82 ,  3.47 ,  8.45 , 14.17 , 15.39 ,  8.43 ,  8.72 ,\n",
       "       12.66 ,  8.35 ,  8.47 , 22.72 ,  9.52 , 22.3  , 14.97 ,  4.6  ,\n",
       "       10.49 , 15.37 , 20.31 , 23.28 ,  8.54 ,  3.059,  2.757,  9.71 ,\n",
       "        9.98 ,  2.84 ,  3.79 ,  6.91 ,  2.59 ,  5.18 , 14.27 ,  4.07 ,\n",
       "       19.61 ,  9.44 ,  2.776, 15.78 , 10.05 ,  2.62 , 10.32 , 19.39 ,\n",
       "        9.77 ,  2.95 , 13.73 , 10.71 , 10.73 ,  6.19 ,  2.85 , 16.25 ,\n",
       "       13.47 ,  4.32 ,  2.75 , 11.67 , 12.57 , 16.27 ,  6.28 , 12.01 ,\n",
       "        3.76 , 13.35 ,  8.61 ,  8.96 ,  3.48 , 21.1  ,  2.73 , 10.24 ,\n",
       "        8.15 ,  3.55 , 10.43 , 16.46 ,  7.19 ,  3.43 ,  3.06 , 17.55 ,\n",
       "       10.74 , 13.24 ,  5.91 ,  9.43 , 20.92 ,  8.13 ,  3.31 , 10.37 ,\n",
       "       16.77 ,  6.27 , 12.37 , 22.6  ,  9.76 , 16.92 , 15.54 ,  6.23 ,\n",
       "       15.35 ,  3.75 , 21.82 ,  7.94 ,  3.41 ,  6.03 , 15.55 ,  8.44 ,\n",
       "        4.38 , 18.93 , 12.75 ,  6.33 , 24.8  ,  5.64 , 22.43 ,  3.91 ,\n",
       "        7.48 ,  3.27 ,  6.22 ,  7.41 , 17.06 ,  2.64 ,  3.451,  6.26 ,\n",
       "        3.56 ,  9.83 ,  2.87 , 13.63 , 10.47 , 11.87 , 11.25 ,  5.42 ,\n",
       "       18.25 ,  8.82 ,  9.58 ,  5.04 , 13.52 , 11.44 ,  8.48 , 13.21 ,\n",
       "        8.03 , 16.89 ,  2.69 ,  3.54 , 13.95 ,  9.34 ,  3.778, 23.7  ,\n",
       "        2.98 ,  6.95 , 16.05 , 11.65 ,  3.81 , 10.99 , 10.86 ,  8.85 ,\n",
       "       14.65 ,  9.24 , 16.45 ,  7.84 ,  9.79 ,  7.03 , 17.12 ,  5.28 ,\n",
       "       12.53 , 14.51 ,  9.31 ,  3.16 ,  3.64 ,  6.86 , 11.07 , 14.06 ,\n",
       "        6.93 , 15.15 ,  8.34 ,  5.57 , 24.89 ,  3.59 , 22.78 , 16.47 ,\n",
       "        3.886, 18.16 ,  8.69 ,  2.55 , 13.74 , 19.21 ,  3.15 , 12.11 ,\n",
       "       11.98 , 10.17 ,  3.57 , 12.71 ,  2.3  , 16.07 ,  9.42 , 20.77 ,\n",
       "        2.864, 13.86 , 10.01 , 24.2  , 12.45 , 12.87 ,  3.97 ,  5.06 ,\n",
       "       14.29 , 14.43 ,  2.502,  8.52 , 11.56 , 12.89 ,  8.63 , 13.32 ,\n",
       "        4.47 , 16.42 ,  5.31 ,  9.26 , 14.93 ,  3.14 ,  9.06 ,  6.61 ,\n",
       "        6.65 , 19.19 , 20.24 , 13.77 ,  2.83 ,  6.37 , 14.58 ,  9.19 ,\n",
       "        8.67 , 13.58 , 12.03 , 10.87 , 19.28 , 16.48 ,  9.08 , 12.69 ,\n",
       "        8.09 , 12.83 , 11.64 ,  1.3  ,  4.83 ,  9.11 , 21.53 ,  2.852,\n",
       "       15.43 , 15.57 , 13.43 , 19.94 ,  8.77 ,  3.63 , 15.07 ,  5.02 ,\n",
       "       15.03 , 13.33 , 12.43 , 17.61 ,  9.66 , 12.32 , 24.6  ,  6.47 ,\n",
       "        4.11 ,  8.12 , 21.25 , 10.13 ,  4.16 ,  4.94 , 12.25 ,  2.856,\n",
       "       11.69 , 14.85 , 15.18 ,  8.02 , 11.22 ,  8.95 ,  3.46 ,  2.92 ,\n",
       "        9.73 , 10.46 ,  2.97 ,  3.24 , 12.93 , 12.63 , 15.24 ,  8.18 ,\n",
       "       22.15 , 11.43 ,  7.02 , 11.93 ,  7.09 ,  6.16 ,  7.15 , 13.65 ,\n",
       "       10.79 , 14.98 ,  3.44 ,  5.14 ,  9.75 ,  5.59 , 13.04 , 10.95 ,\n",
       "       16.03 ,  9.13 , 17.44 ,  5.85 ,  6.24 , 21.74 , 16.88 , 21.55 ,\n",
       "       18.55 , 15.72 , 17.87 , 13.83 ])"
      ]
     },
     "execution_count": 18,
     "metadata": {},
     "output_type": "execute_result"
    }
   ],
   "source": [
    "df['kitchen_area'].unique()"
   ]
  },
  {
   "cell_type": "code",
   "execution_count": 19,
   "metadata": {},
   "outputs": [],
   "source": [
    "df = df.drop(index=df[df['kitchen_area'] > 25].index)\n",
    "df = df.drop(index=df[df['kitchen_area'] < 5].index)"
   ]
  },
  {
   "cell_type": "code",
   "execution_count": 20,
   "metadata": {},
   "outputs": [
    {
     "data": {
      "text/plain": [
       "array([11.  ,  8.3 ,   nan,  9.1 , 14.4 , 18.9 ,  8.81,  6.5 ,  8.5 ,\n",
       "        6.  ,  9.  ,  5.2 ,  8.  ,  7.6 ,  5.6 , 12.  ,  5.7 ,  6.1 ,\n",
       "       19.6 , 15.  ,  9.2 , 11.7 , 13.4 ,  6.3 , 11.6 ,  8.8 , 10.  ,\n",
       "        7.5 ,  7.  ,  9.5 ,  5.  , 15.5 , 10.7 , 11.1 , 20.  , 11.9 ,\n",
       "       16.  ,  5.3 , 11.5 ,  7.2 ,  6.2 , 10.4 ,  7.1 ,  7.3 , 11.95,\n",
       "       10.2 ,  6.4 ,  5.5 ,  8.4 , 13.  , 23.6 , 10.8 , 18.3 ,  8.2 ,\n",
       "       24.  , 23.8 ,  6.6 , 17.  , 15.4 ,  7.8 ,  5.4 , 12.72, 12.2 ,\n",
       "       19.  , 12.4 ,  7.9 , 10.3 ,  9.8 , 17.5 , 14.7 , 20.91, 10.6 ,\n",
       "       10.9 ,  9.7 ,  7.7 , 12.5 , 11.4 ,  8.6 , 11.24, 15.7 , 13.29,\n",
       "       14.  , 12.9 , 16.5 ,  9.36, 21.5 , 10.5 ,  8.7 , 19.3 , 11.52,\n",
       "        8.9 ,  9.6 , 14.2 ,  8.1 , 10.44, 16.3 , 18.4 ,  7.4 , 14.1 ,\n",
       "       11.3 ,  9.4 , 13.1 , 10.19,  7.06, 11.2 , 22.  ,  5.1 , 18.7 ,\n",
       "       17.6 ,  9.9 , 14.3 , 18.  , 23.  , 11.8 , 13.3 , 17.7 , 23.1 ,\n",
       "       10.63, 11.33, 13.5 , 19.5 , 13.2 , 17.2 , 13.8 , 12.3 ,  9.3 ,\n",
       "        5.8 , 12.88,  9.28, 16.1 , 14.5 ,  5.9 , 10.1 , 23.4 ,  8.98,\n",
       "       10.59, 16.8 , 11.27, 16.74,  9.57, 23.43, 15.2 ,  8.07, 12.24,\n",
       "       13.39, 10.84, 15.3 , 18.5 , 23.9 , 19.7 , 19.9 , 22.1 , 19.2 ,\n",
       "       10.35, 10.69,  5.49,  6.8 ,  8.29,  6.7 , 13.6 , 10.75,  6.77,\n",
       "       11.06, 12.6 ,  7.71, 12.7 , 11.35, 13.31, 21.  , 20.6 , 11.78,\n",
       "       20.5 , 13.79, 20.52,  5.75, 18.78, 23.5 , 24.3 ,  6.9 , 14.8 ,\n",
       "        8.87, 14.9 ,  8.71,  9.95, 17.53,  8.31,  9.67, 22.4 , 16.4 ,\n",
       "        6.36, 17.1 , 13.14, 18.2 ,  9.18, 13.7 , 15.61, 22.31,  9.45,\n",
       "       14.49,  5.35, 17.8 ,  8.08, 13.11,  6.25, 12.8 , 10.09, 11.29,\n",
       "       14.56, 11.11, 11.49, 13.67, 24.5 , 11.14, 17.9 , 11.05, 14.84,\n",
       "        8.21, 12.18,  9.25,  8.65, 13.9 , 13.53, 15.09,  9.39, 18.6 ,\n",
       "       24.7 , 12.35, 20.8 ,  7.17,  8.23, 24.03,  9.17, 10.45, 11.39,\n",
       "       19.92, 20.2 , 10.72, 20.07, 11.81, 18.45, 10.51, 10.91,  6.73,\n",
       "       11.85, 15.1 , 10.07,  5.78, 12.1 , 11.28,  9.97, 10.68, 21.2 ,\n",
       "       16.7 , 10.56,  9.68,  8.25, 15.9 , 17.4 , 10.02, 11.62, 14.6 ,\n",
       "       11.71, 13.69, 18.1 , 22.22, 17.3 ,  6.35, 23.3 , 10.88,  6.76,\n",
       "       10.29, 11.63, 19.1 , 19.4 , 15.6 , 21.87, 12.27, 10.39, 10.89,\n",
       "       11.53,  5.68, 10.55,  9.22,  5.62, 21.9 , 12.17, 19.8 , 21.7 ,\n",
       "       12.38, 11.46,  7.89, 16.6 , 24.4 , 14.57, 10.15, 12.05,  9.27,\n",
       "       15.33,  6.58,  9.93, 13.05, 21.3 ,  7.92, 15.8 , 15.69,  7.85,\n",
       "       13.16, 12.86, 18.8 ,  9.32,  5.74, 11.26, 13.38, 14.31,  6.55,\n",
       "       10.52,  6.72, 13.02, 11.17, 12.52, 12.29, 11.59,  8.38,  5.47,\n",
       "       10.18,  9.89, 12.92, 23.53, 10.36, 14.05,  9.04, 10.78, 14.24,\n",
       "       13.42, 10.12,  7.12, 17.64, 10.64, 23.25, 11.41, 11.42, 13.55,\n",
       "       13.28, 14.55,  9.38,  8.32, 11.55, 13.81, 24.1 , 14.61, 11.51,\n",
       "        7.65,  9.91, 16.83, 11.34, 11.16, 16.2 , 18.34,  6.02, 18.07,\n",
       "       20.1 , 12.08,  7.18,  8.11,  8.05,  8.06, 12.96, 21.4 ,  8.93,\n",
       "       10.62,  9.72, 11.18, 10.22, 10.94, 13.49,  5.86,  7.63, 11.47,\n",
       "       20.9 , 13.25, 22.2 , 19.35, 17.28, 14.04, 21.76, 10.06,  8.19,\n",
       "       22.7 , 14.74, 11.12, 14.02, 13.06,  8.01, 20.38,  5.53, 11.31,\n",
       "       17.85, 20.7 ,  9.46,  6.31,  9.48, 11.57, 12.44, 16.9 , 14.46,\n",
       "       12.58, 12.47,  7.95, 16.32, 15.26, 12.23, 11.37,  8.58, 19.51,\n",
       "       12.39,  9.65,  9.05,  6.84, 20.3 , 11.36, 10.08, 10.54,  9.16,\n",
       "       14.95, 12.84, 22.9 ,  8.76, 10.03, 22.5 ,  9.35, 11.13,  7.87,\n",
       "       21.8 ,  7.36, 24.9 ,  9.59,  7.97,  9.85,  7.86,  5.25, 10.26,\n",
       "        5.33, 12.85,  9.51,  5.84, 10.34, 23.71, 19.42,  6.83, 11.92,\n",
       "       13.17, 13.27, 11.84, 12.56, 20.56,  9.01,  8.73,  5.82, 12.02,\n",
       "        8.57, 12.76,  8.66, 11.04, 15.83,  9.37, 23.38, 10.42, 21.6 ,\n",
       "       13.93,  7.54, 23.42, 13.64,  5.61,  5.65, 11.09, 11.73, 10.25,\n",
       "       10.38, 13.41,  5.23,  9.09, 11.45, 11.74, 14.64, 12.14,  8.84,\n",
       "       16.66, 10.27, 12.55, 16.26,  6.62, 10.33, 13.26, 23.2 , 14.14,\n",
       "        9.62, 10.92, 10.58, 15.85,  7.78,  8.94,  9.82,  8.45, 14.17,\n",
       "       15.39,  8.43,  8.72, 12.66,  8.35,  8.47, 22.72,  9.52, 22.3 ,\n",
       "       14.97, 10.49, 15.37, 20.31, 23.28,  8.54,  9.71,  9.98,  6.91,\n",
       "        5.18, 14.27, 19.61,  9.44, 15.78, 10.05, 10.32, 19.39,  9.77,\n",
       "       13.73, 10.71, 10.73,  6.19, 16.25, 13.47, 11.67, 12.57, 16.27,\n",
       "        6.28, 12.01, 13.35,  8.61,  8.96, 21.1 , 10.24,  8.15, 10.43,\n",
       "       16.46,  7.19, 17.55, 10.74, 13.24,  5.91,  9.43, 20.92,  8.13,\n",
       "       10.37, 16.77,  6.27, 12.37, 22.6 ,  9.76, 16.92, 15.54,  6.23,\n",
       "       15.35, 21.82,  7.94,  6.03, 15.55,  8.44, 18.93, 12.75,  6.33,\n",
       "       24.8 ,  5.64, 22.43,  7.48,  6.22,  7.41, 17.06,  6.26,  9.83,\n",
       "       13.63, 10.47, 11.87, 11.25,  5.42, 18.25,  8.82,  9.58,  5.04,\n",
       "       13.52, 11.44,  8.48, 13.21,  8.03, 16.89, 13.95,  9.34, 23.7 ,\n",
       "        6.95, 16.05, 11.65, 10.99, 10.86,  8.85, 14.65,  9.24, 16.45,\n",
       "        7.84,  9.79,  7.03, 17.12,  5.28, 12.53, 14.51,  9.31,  6.86,\n",
       "       11.07, 14.06,  6.93, 15.15,  8.34,  5.57, 24.89, 22.78, 16.47,\n",
       "       18.16,  8.69, 13.74, 19.21, 12.11, 11.98, 10.17, 12.71, 16.07,\n",
       "        9.42, 20.77, 13.86, 10.01, 24.2 , 12.45, 12.87,  5.06, 14.29,\n",
       "       14.43,  8.52, 11.56, 12.89,  8.63, 13.32, 16.42,  5.31,  9.26,\n",
       "       14.93,  9.06,  6.61,  6.65, 19.19, 20.24, 13.77,  6.37, 14.58,\n",
       "        9.19,  8.67, 13.58, 12.03, 10.87, 19.28, 16.48,  9.08, 12.69,\n",
       "        8.09, 12.83, 11.64,  9.11, 21.53, 15.43, 15.57, 13.43, 19.94,\n",
       "        8.77, 15.07,  5.02, 15.03, 13.33, 12.43, 17.61,  9.66, 12.32,\n",
       "       24.6 ,  6.47,  8.12, 21.25, 10.13, 12.25, 11.69, 14.85, 15.18,\n",
       "        8.02, 11.22,  8.95,  9.73, 10.46, 12.93, 12.63, 15.24,  8.18,\n",
       "       22.15, 11.43,  7.02, 11.93,  7.09,  6.16,  7.15, 13.65, 10.79,\n",
       "       14.98,  5.14,  9.75,  5.59, 13.04, 10.95, 16.03,  9.13, 17.44,\n",
       "        5.85,  6.24, 21.74, 16.88, 21.55, 18.55, 15.72, 17.87, 13.83])"
      ]
     },
     "execution_count": 20,
     "metadata": {},
     "output_type": "execute_result"
    }
   ],
   "source": [
    "df['kitchen_area'].unique()"
   ]
  },
  {
   "cell_type": "code",
   "execution_count": 21,
   "metadata": {},
   "outputs": [
    {
     "data": {
      "text/plain": [
       "array([2, 0, 1, 5, 4, 3])"
      ]
     },
     "execution_count": 21,
     "metadata": {},
     "output_type": "execute_result"
    }
   ],
   "source": [
    "df['balcony'].unique()"
   ]
  },
  {
   "cell_type": "code",
   "execution_count": 22,
   "metadata": {},
   "outputs": [],
   "source": [
    "df = df.drop(index=df[df['balcony'] > 2].index)"
   ]
  },
  {
   "cell_type": "code",
   "execution_count": 23,
   "metadata": {},
   "outputs": [
    {
     "data": {
      "text/plain": [
       "array([2, 0, 1])"
      ]
     },
     "execution_count": 23,
     "metadata": {},
     "output_type": "execute_result"
    }
   ],
   "source": [
    "df['balcony'].unique()"
   ]
  },
  {
   "cell_type": "code",
   "execution_count": 24,
   "metadata": {},
   "outputs": [
    {
     "data": {
      "text/plain": [
       "array([  nan,  2.5 ,  2.67,  2.56,  3.05,  2.75,  2.7 ,  2.6 ,  2.9 ,\n",
       "        2.8 ,  2.55,  3.  ,  2.65,  3.2 ,  2.61,  3.25,  3.45,  2.77,\n",
       "        2.64,  2.57,  4.15,  4.  ,  2.73,  2.84,  2.34,  3.4 ,  3.06,\n",
       "        2.72,  2.54,  2.51,  2.78,  2.76,  3.1 , 25.  ,  2.58,  3.7 ,\n",
       "        2.52,  3.5 ,  2.87,  2.66,  2.59,  2.  ,  2.85,  3.3 ,  2.45,\n",
       "        2.92,  3.8 ,  3.15,  3.55,  3.62,  3.12,  2.53,  2.96,  2.74,\n",
       "        5.  ,  2.79,  2.95,  4.06,  2.94,  3.54,  2.83,  2.4 ,  3.38,\n",
       "        3.01,  3.65,  2.71,  2.3 ,  2.48,  2.62,  2.82,  3.98,  2.63,\n",
       "        3.83,  3.75,  2.88,  4.19,  3.35,  3.24,  4.8 ,  4.5 ,  4.2 ,\n",
       "       32.  ,  3.08,  3.07,  3.37,  3.09,  8.  ,  3.16,  3.26,  3.34,\n",
       "        2.81,  3.44,  4.37,  3.6 ,  3.95,  2.68,  3.46, 24.  ,  3.27,\n",
       "        3.47,  3.53,  3.33, 27.  ,  3.63,  3.14,  3.13,  3.32,  3.52,\n",
       "       26.  ,  1.2 ,  3.18,  8.3 ,  3.9 ,  2.93,  2.98,  3.36,  4.1 ,\n",
       "        2.86,  3.17,  3.11,  3.67,  3.28,  3.04,  3.66,  3.84,  3.23,\n",
       "        3.02,  3.21,  3.78,  4.3 ,  3.39,  2.69,  4.4 ,  3.22,  3.03,\n",
       "        5.3 ,  3.56,  3.42,  2.99,  2.46,  2.97, 14.  ,  4.14,  3.88,\n",
       "        1.75,  4.25,  2.25,  2.91, 22.6 ,  2.89, 27.5 ,  2.49,  3.48,\n",
       "       10.3 ,  2.47,  1.  ,  3.49,  3.31])"
      ]
     },
     "execution_count": 24,
     "metadata": {},
     "output_type": "execute_result"
    }
   ],
   "source": [
    "df['ceiling_height'].unique()"
   ]
  },
  {
   "cell_type": "code",
   "execution_count": 25,
   "metadata": {},
   "outputs": [],
   "source": [
    "df['ceiling_height'] = df['ceiling_height'].where(df['ceiling_height'] < 5, df['ceiling_height'] / 10)"
   ]
  },
  {
   "cell_type": "code",
   "execution_count": 26,
   "metadata": {},
   "outputs": [
    {
     "data": {
      "text/plain": [
       "array([ nan, 2.5 , 2.67, 2.56, 3.05, 2.75, 2.7 , 2.6 , 2.9 , 2.8 , 2.55,\n",
       "       3.  , 2.65, 3.2 , 2.61, 3.25, 3.45, 2.77, 2.64, 2.57, 4.15, 4.  ,\n",
       "       2.73, 2.84, 2.34, 3.4 , 3.06, 2.72, 2.54, 2.51, 2.78, 2.76, 3.1 ,\n",
       "       2.58, 3.7 , 2.52, 3.5 , 2.87, 2.66, 2.59, 2.  , 2.85, 3.3 , 2.45,\n",
       "       2.92, 3.8 , 3.15, 3.55, 3.62, 3.12, 2.53, 2.96, 2.74, 0.5 , 2.79,\n",
       "       2.95, 4.06, 2.94, 3.54, 2.83, 2.4 , 3.38, 3.01, 3.65, 2.71, 2.3 ,\n",
       "       2.48, 2.62, 2.82, 3.98, 2.63, 3.83, 3.75, 2.88, 4.19, 3.35, 3.24,\n",
       "       4.8 , 4.5 , 4.2 , 3.08, 3.07, 3.37, 3.09, 0.8 , 3.16, 3.26, 3.34,\n",
       "       2.81, 3.44, 4.37, 3.6 , 3.95, 2.68, 3.46, 3.27, 3.47, 3.53, 3.33,\n",
       "       3.63, 3.14, 3.13, 3.32, 3.52, 1.2 , 3.18, 0.83, 3.9 , 2.93, 2.98,\n",
       "       3.36, 4.1 , 2.86, 3.17, 3.11, 3.67, 3.28, 3.04, 3.66, 3.84, 3.23,\n",
       "       3.02, 3.21, 3.78, 4.3 , 3.39, 2.69, 4.4 , 3.22, 3.03, 0.53, 3.56,\n",
       "       3.42, 2.99, 2.46, 2.97, 1.4 , 4.14, 3.88, 1.75, 4.25, 2.25, 2.91,\n",
       "       2.26, 2.89, 2.49, 3.48, 1.03, 2.47, 1.  , 3.49, 3.31])"
      ]
     },
     "execution_count": 26,
     "metadata": {},
     "output_type": "execute_result"
    }
   ],
   "source": [
    "df['ceiling_height'].unique()"
   ]
  },
  {
   "cell_type": "code",
   "execution_count": 27,
   "metadata": {},
   "outputs": [],
   "source": [
    "df = df.drop(index=df[df['ceiling_height'] < 2].index)"
   ]
  },
  {
   "cell_type": "code",
   "execution_count": 28,
   "metadata": {},
   "outputs": [
    {
     "data": {
      "text/plain": [
       "array([ nan, 2.5 , 2.67, 2.56, 3.05, 2.75, 2.7 , 2.6 , 2.9 , 2.8 , 2.55,\n",
       "       3.  , 2.65, 3.2 , 2.61, 3.25, 3.45, 2.77, 2.64, 2.57, 4.15, 4.  ,\n",
       "       2.73, 2.84, 2.34, 3.4 , 3.06, 2.72, 2.54, 2.51, 2.78, 2.76, 3.1 ,\n",
       "       2.58, 3.7 , 2.52, 3.5 , 2.87, 2.66, 2.59, 2.  , 2.85, 3.3 , 2.45,\n",
       "       2.92, 3.8 , 3.15, 3.55, 3.62, 3.12, 2.53, 2.96, 2.74, 2.79, 2.95,\n",
       "       4.06, 2.94, 3.54, 2.83, 2.4 , 3.38, 3.01, 3.65, 2.71, 2.3 , 2.48,\n",
       "       2.62, 2.82, 3.98, 2.63, 3.83, 3.75, 2.88, 4.19, 3.35, 3.24, 4.8 ,\n",
       "       4.5 , 4.2 , 3.08, 3.07, 3.37, 3.09, 3.16, 3.26, 3.34, 2.81, 3.44,\n",
       "       4.37, 3.6 , 3.95, 2.68, 3.46, 3.27, 3.47, 3.53, 3.33, 3.63, 3.14,\n",
       "       3.13, 3.32, 3.52, 3.18, 3.9 , 2.93, 2.98, 3.36, 4.1 , 2.86, 3.17,\n",
       "       3.11, 3.67, 3.28, 3.04, 3.66, 3.84, 3.23, 3.02, 3.21, 3.78, 4.3 ,\n",
       "       3.39, 2.69, 4.4 , 3.22, 3.03, 3.56, 3.42, 2.99, 2.46, 2.97, 4.14,\n",
       "       3.88, 4.25, 2.25, 2.91, 2.26, 2.89, 2.49, 3.48, 2.47, 3.49, 3.31])"
      ]
     },
     "execution_count": 28,
     "metadata": {},
     "output_type": "execute_result"
    }
   ],
   "source": [
    "df['ceiling_height'].unique()"
   ]
  },
  {
   "cell_type": "code",
   "execution_count": 29,
   "metadata": {},
   "outputs": [],
   "source": [
    "df = df.drop(index=df[df['total_area'] > 150].index)"
   ]
  },
  {
   "cell_type": "code",
   "execution_count": 30,
   "metadata": {},
   "outputs": [],
   "source": [
    "df = df.drop(index=df[df['airports_nearest'] == 0].index) "
   ]
  },
  {
   "cell_type": "markdown",
   "metadata": {},
   "source": [
    "**НЕЯВНЫЕ ДУБЛИКАТЫ**"
   ]
  },
  {
   "cell_type": "markdown",
   "metadata": {},
   "source": [
    "*Следует проверить, какие неявные дубликаты содержаться в столбце с помощью метода unique и sort_values - можем быстро и сразу проверить*"
   ]
  },
  {
   "cell_type": "code",
   "execution_count": 31,
   "metadata": {},
   "outputs": [
    {
     "data": {
      "text/plain": [
       "array(['Бокситогорск', 'Волосово', 'Волхов', 'Всеволожск', 'Выборг',\n",
       "       'Высоцк', 'Гатчина', 'Зеленогорск', 'Ивангород', 'Каменногорск',\n",
       "       'Кингисепп', 'Кириши', 'Кировск', 'Колпино', 'Коммунар',\n",
       "       'Красное Село', 'Кронштадт', 'Кудрово', 'Лодейное Поле',\n",
       "       'Ломоносов', 'Луга', 'Любань', 'Мурино', 'Никольское',\n",
       "       'Новая Ладога', 'Отрадное', 'Павловск', 'Петергоф', 'Пикалёво',\n",
       "       'Подпорожье', 'Приморск', 'Приозерск', 'Пушкин', 'Санкт-Петербург',\n",
       "       'Светогорск', 'Сертолово', 'Сестрорецк', 'Сланцы', 'Сосновый Бор',\n",
       "       'Сясьстрой', 'Тихвин', 'Тосно', 'Шлиссельбург',\n",
       "       'городской поселок Большая Ижора', 'городской поселок Янино-1',\n",
       "       'городской посёлок Будогощь', 'городской посёлок Виллози',\n",
       "       'городской посёлок Лесогорский', 'городской посёлок Мга',\n",
       "       'городской посёлок Назия', 'городской посёлок Новоселье',\n",
       "       'городской посёлок Павлово', 'городской посёлок Рощино',\n",
       "       'городской посёлок Свирьстрой', 'городской посёлок Советский',\n",
       "       'городской посёлок Фёдоровское', 'городской посёлок Янино-1',\n",
       "       'деревня Агалатово', 'деревня Аро', 'деревня Батово',\n",
       "       'деревня Бегуницы', 'деревня Белогорка', 'деревня Большая Вруда',\n",
       "       'деревня Большая Пустомержа', 'деревня Большие Колпаны',\n",
       "       'деревня Большое Рейзино', 'деревня Большой Сабск', 'деревня Бор',\n",
       "       'деревня Борисова Грива', 'деревня Ваганово', 'деревня Вартемяги',\n",
       "       'деревня Вахнова Кара', 'деревня Выскатка', 'деревня Гарболово',\n",
       "       'деревня Глинка', 'деревня Горбунки', 'деревня Гостилицы',\n",
       "       'деревня Заклинье', 'деревня Заневка', 'деревня Зимитицы',\n",
       "       'деревня Извара', 'деревня Иссад', 'деревня Калитино',\n",
       "       'деревня Кальтино', 'деревня Камышовка', 'деревня Каськово',\n",
       "       'деревня Келози', 'деревня Кипень', 'деревня Кисельня',\n",
       "       'деревня Колтуши', 'деревня Коркино', 'деревня Котлы',\n",
       "       'деревня Кудрово', 'деревня Кузьмолово', 'деревня Курковицы',\n",
       "       'деревня Куровицы', 'деревня Куттузи', 'деревня Лаврики',\n",
       "       'деревня Лаголово', 'деревня Лампово', 'деревня Лесколово',\n",
       "       'деревня Лопухинка', 'деревня Лупполово',\n",
       "       'деревня Малая Романовка', 'деревня Малое Верево',\n",
       "       'деревня Малое Карлино', 'деревня Малые Колпаны',\n",
       "       'деревня Мануйлово', 'деревня Меньково', 'деревня Мины',\n",
       "       'деревня Мистолово', 'деревня Ненимяки', 'деревня Нижние Осельки',\n",
       "       'деревня Низино', 'деревня Новое Девяткино', 'деревня Новолисино',\n",
       "       'деревня Нурма', 'деревня Оржицы', 'деревня Парицы',\n",
       "       'деревня Пельгора', 'деревня Пеники', 'деревня Пижма',\n",
       "       'деревня Пикколово', 'деревня Пудомяги', 'деревня Пустынка',\n",
       "       'деревня Пчева', 'деревня Рабитицы', 'деревня Разбегаево',\n",
       "       'деревня Раздолье', 'деревня Разметелево', 'деревня Рапполово',\n",
       "       'деревня Реброво', 'деревня Русско', 'деревня Сижно',\n",
       "       'деревня Снегирёвка', 'деревня Старая', 'деревня Старая Пустошь',\n",
       "       'деревня Старое Хинколово', 'деревня Старополье',\n",
       "       'деревня Старосиверская', 'деревня Старые Бегуницы',\n",
       "       'деревня Суоранда', 'деревня Сяськелево', 'деревня Тарасово',\n",
       "       'деревня Терпилицы', 'деревня Тихковицы', 'деревня Тойворово',\n",
       "       'деревня Торосово', 'деревня Торошковичи', 'деревня Трубников Бор',\n",
       "       'деревня Фалилеево', 'деревня Фёдоровское', 'деревня Хапо-Ое',\n",
       "       'деревня Чудской Бор', 'деревня Шпаньково', 'деревня Щеглово',\n",
       "       'деревня Юкки', 'деревня Ялгино', 'деревня Яльгелево',\n",
       "       'деревня Ям-Тесово', 'коттеджный поселок Кивеннапа Север',\n",
       "       'коттеджный поселок Счастье', 'коттеджный посёлок Лесное',\n",
       "       'поселок Аннино', 'поселок Барышево', 'поселок Бугры',\n",
       "       'поселок Войсковицы', 'поселок Володарское', 'поселок Гаврилово',\n",
       "       'поселок Гарболово', 'поселок Гладкое', 'поселок Глажево',\n",
       "       'поселок Глебычево', 'поселок Гончарово', 'поселок Громово',\n",
       "       'поселок Дружноселье', 'поселок Елизаветино', 'поселок Жилгородок',\n",
       "       'поселок Жилпосёлок', 'поселок Житково', 'поселок Заводской',\n",
       "       'поселок Запорожское', 'поселок Зимитицы', 'поселок Ильичёво',\n",
       "       'поселок Калитино', 'поселок Каложицы', 'поселок Кингисеппский',\n",
       "       'поселок Кирпичное', 'поселок Кобралово', 'поселок Кобринское',\n",
       "       'поселок Коммунары', 'поселок Коробицыно', 'поселок Котельский',\n",
       "       'поселок Красная Долина', 'поселок Красносельское',\n",
       "       'поселок Лесное', 'поселок Лисий Нос', 'поселок Лукаши',\n",
       "       'поселок Любань', 'поселок Мельниково', 'поселок Мичуринское',\n",
       "       'поселок Молодцово', 'поселок Мурино', 'поселок Новый Свет',\n",
       "       'поселок Новый Учхоз', 'поселок Оредеж',\n",
       "       'поселок Пансионат Зелёный Бор', 'поселок Первомайское',\n",
       "       'поселок Перово', 'поселок Петровское', 'поселок Победа',\n",
       "       'поселок Поляны', 'поселок Почап', 'поселок Починок',\n",
       "       'поселок Пушное', 'поселок Пчевжа', 'поселок Рабитицы',\n",
       "       'поселок Романовка', 'поселок Ромашки', 'поселок Рябово',\n",
       "       'поселок Севастьяново', 'поселок Селезнёво', 'поселок Сельцо',\n",
       "       'поселок Семиозерье', 'поселок Семрино', 'поселок Серебрянский',\n",
       "       'поселок Совхозный', 'поселок Старая Малукса',\n",
       "       'поселок Стеклянный', 'поселок Сумино', 'поселок Суходолье',\n",
       "       'поселок Тельмана', 'поселок Терволово', 'поселок Торковичи',\n",
       "       'поселок Тёсово-4', 'поселок Углово', 'поселок Усть-Луга',\n",
       "       'поселок Ушаки', 'поселок Цвелодубово', 'поселок Цвылёво',\n",
       "       'поселок городского типа Большая Ижора',\n",
       "       'поселок городского типа Вырица',\n",
       "       'поселок городского типа Дружная Горка',\n",
       "       'поселок городского типа Дубровка',\n",
       "       'поселок городского типа Ефимовский',\n",
       "       'поселок городского типа Кондратьево',\n",
       "       'поселок городского типа Красный Бор',\n",
       "       'поселок городского типа Кузьмоловский',\n",
       "       'поселок городского типа Лебяжье',\n",
       "       'поселок городского типа Лесогорский',\n",
       "       'поселок городского типа Назия',\n",
       "       'поселок городского типа Никольский',\n",
       "       'поселок городского типа Приладожский',\n",
       "       'поселок городского типа Рахья', 'поселок городского типа Рощино',\n",
       "       'поселок городского типа Рябово',\n",
       "       'поселок городского типа Синявино',\n",
       "       'поселок городского типа Советский',\n",
       "       'поселок городского типа Токсово',\n",
       "       'поселок городского типа Форносово',\n",
       "       'поселок городского типа имени Свердлова',\n",
       "       'поселок станции Вещево', 'поселок станции Лужайка',\n",
       "       'поселок станции Приветнинское', 'посёлок Александровская',\n",
       "       'посёлок Алексеевка', 'посёлок Аннино', 'посёлок Белоостров',\n",
       "       'посёлок Бугры', 'посёлок Возрождение', 'посёлок Войскорово',\n",
       "       'посёлок Высокоключевой', 'посёлок Гаврилово',\n",
       "       'посёлок Жилгородок', 'посёлок Ильичёво', 'посёлок Кикерино',\n",
       "       'посёлок Кобралово', 'посёлок Коробицыно', 'посёлок Левашово',\n",
       "       'посёлок Ленинское', 'посёлок Лисий Нос', 'посёлок Мельниково',\n",
       "       'посёлок Металлострой', 'посёлок Мичуринское',\n",
       "       'посёлок Молодёжное', 'посёлок Мурино', 'посёлок Мыза-Ивановка',\n",
       "       'посёлок Новогорелово', 'посёлок Новый Свет',\n",
       "       'посёлок Пансионат Зелёный Бор', 'посёлок Парголово',\n",
       "       'посёлок Перово', 'посёлок Песочный', 'посёлок Петровское',\n",
       "       'посёлок Платформа 69-й километр', 'посёлок Плодовое',\n",
       "       'посёлок Плоское', 'посёлок Победа', 'посёлок Поляны',\n",
       "       'посёлок Понтонный', 'посёлок Пригородный', 'посёлок Пудость',\n",
       "       'посёлок Репино', 'посёлок Ропша', 'посёлок Сапёрное',\n",
       "       'посёлок Сапёрный', 'посёлок Сосново', 'посёлок Старая Малукса',\n",
       "       'посёлок Стеклянный', 'посёлок Стрельна', 'посёлок Суйда',\n",
       "       'посёлок Сумино', 'посёлок Тельмана', 'посёлок Терволово',\n",
       "       'посёлок Торфяное', 'посёлок Усть-Ижора', 'посёлок Усть-Луга',\n",
       "       'посёлок Шугозеро', 'посёлок Шушары', 'посёлок Щеглово',\n",
       "       'посёлок городского типа Важины',\n",
       "       'посёлок городского типа Вознесенье',\n",
       "       'посёлок городского типа Вырица',\n",
       "       'посёлок городского типа Красный Бор',\n",
       "       'посёлок городского типа Кузнечное',\n",
       "       'посёлок городского типа Кузьмоловский',\n",
       "       'посёлок городского типа Лебяжье', 'посёлок городского типа Мга',\n",
       "       'посёлок городского типа Павлово',\n",
       "       'посёлок городского типа Рощино', 'посёлок городского типа Рябово',\n",
       "       'посёлок городского типа Сиверский',\n",
       "       'посёлок городского типа Тайцы', 'посёлок городского типа Токсово',\n",
       "       'посёлок городского типа Ульяновка',\n",
       "       'посёлок городского типа Форносово',\n",
       "       'посёлок городского типа имени Морозова',\n",
       "       'посёлок городского типа имени Свердлова',\n",
       "       'посёлок при железнодорожной станции Вещево',\n",
       "       'посёлок при железнодорожной станции Приветнинское',\n",
       "       'посёлок станции Громово', 'посёлок станции Свирь',\n",
       "       'садоводческое некоммерческое товарищество Лесная Поляна',\n",
       "       'садовое товарищество Новая Ропша',\n",
       "       'садовое товарищество Приладожский', 'садовое товарищество Рахья',\n",
       "       'садовое товарищество Садко', 'село Копорье', 'село Никольское',\n",
       "       'село Павлово', 'село Паша', 'село Путилово', 'село Рождествено',\n",
       "       'село Русско-Высоцкое', 'село Старая Ладога', 'село Шум', nan],\n",
       "      dtype=object)"
      ]
     },
     "execution_count": 31,
     "metadata": {},
     "output_type": "execute_result"
    }
   ],
   "source": [
    "df['locality_name'].sort_values().unique()"
   ]
  },
  {
   "cell_type": "markdown",
   "metadata": {},
   "source": [
    "*Помним о том, что у нас содержаться пропущенные значения в данном столбце с названиями, и потому следует понимать, что пропуски могут либо быть удаленны, либо замененны на соотвествующее числовое значение (0, медианна, среднее), либо могут заменены на соотвествующее строковое значение, и потому, раз у нас записи принадлежат к object, следует заменить на строковое значение 'unknown', используя специальный метод fillna() *"
   ]
  },
  {
   "cell_type": "code",
   "execution_count": 32,
   "metadata": {},
   "outputs": [],
   "source": [
    "df['locality_name'] = df['locality_name'].fillna('unknown')"
   ]
  },
  {
   "cell_type": "code",
   "execution_count": 33,
   "metadata": {},
   "outputs": [
    {
     "data": {
      "text/plain": [
       "0"
      ]
     },
     "execution_count": 33,
     "metadata": {},
     "output_type": "execute_result"
    }
   ],
   "source": [
    "df['locality_name'].isna().sum()"
   ]
  },
  {
   "cell_type": "markdown",
   "metadata": {},
   "source": [
    "*Понимаем, что неявные дубликаты заданны у нас неявно из кирилицы, где е-ё, создают неявно дубликаты, потому следует применить функцию, которая будет пробегаться и возвращать корретную запись строки - тем самым избавимся от неявных дубликатов*"
   ]
  },
  {
   "cell_type": "code",
   "execution_count": 34,
   "metadata": {},
   "outputs": [],
   "source": [
    "def locality_name_correct(name):\n",
    "    if 'поселок' in name:\n",
    "        return name.replace('поселок', 'посёлок')\n",
    "    return name\n",
    "\n",
    "df['locality_name'] = df['locality_name'].apply(locality_name_correct)"
   ]
  },
  {
   "cell_type": "code",
   "execution_count": 35,
   "metadata": {},
   "outputs": [
    {
     "data": {
      "text/plain": [
       "array(['посёлок Шушары', 'Санкт-Петербург', 'городской посёлок Янино-1',\n",
       "       'посёлок Парголово', 'посёлок Мурино', 'Ломоносов', 'Сертолово',\n",
       "       'Петергоф', 'Пушкин', 'деревня Кудрово', 'Коммунар',\n",
       "       'посёлок городского типа Красный Бор', 'Гатчина',\n",
       "       'деревня Фёдоровское', 'Выборг', 'Кронштадт', 'Колпино', 'Кировск',\n",
       "       'деревня Новое Девяткино', 'посёлок Металлострой',\n",
       "       'посёлок городского типа Лебяжье',\n",
       "       'посёлок городского типа Сиверский', 'посёлок Молодцово',\n",
       "       'посёлок городского типа Кузьмоловский',\n",
       "       'садовое товарищество Новая Ропша', 'деревня Пикколово',\n",
       "       'Всеволожск', 'Волхов', 'Кингисепп', 'Приозерск', 'Сестрорецк',\n",
       "       'деревня Куттузи', 'посёлок Аннино',\n",
       "       'посёлок городского типа Ефимовский', 'посёлок Плодовое',\n",
       "       'деревня Заклинье', 'посёлок Торковичи', 'посёлок Первомайское',\n",
       "       'Красное Село', 'посёлок Понтонный', 'Сясьстрой', 'деревня Старая',\n",
       "       'Павловск', 'деревня Лесколово', 'посёлок Новый Свет', 'Сланцы',\n",
       "       'село Путилово', 'Ивангород', 'Шлиссельбург', 'Никольское',\n",
       "       'Зеленогорск', 'Сосновый Бор', 'деревня Оржицы',\n",
       "       'деревня Кальтино', 'Кудрово', 'посёлок Романовка',\n",
       "       'посёлок Бугры', 'посёлок городского типа Рощино', 'Луга',\n",
       "       'Волосово', 'Отрадное', 'село Павлово', 'посёлок Оредеж',\n",
       "       'село Копорье', 'посёлок Молодёжное', 'Тихвин', 'посёлок Победа',\n",
       "       'деревня Нурма', 'посёлок городского типа Синявино', 'Тосно',\n",
       "       'посёлок Стрельна', 'Бокситогорск', 'деревня Лопухинка',\n",
       "       'Пикалёво', 'посёлок Терволово',\n",
       "       'посёлок городского типа Советский', 'Кириши', 'Подпорожье',\n",
       "       'посёлок Петровское', 'посёлок городского типа Токсово',\n",
       "       'посёлок Сельцо', 'посёлок городского типа Вырица',\n",
       "       'деревня Кипень', 'деревня Келози', 'деревня Вартемяги',\n",
       "       'посёлок Тельмана', 'посёлок Севастьяново',\n",
       "       'городской посёлок Большая Ижора', 'unknown',\n",
       "       'городской посёлок Павлово', 'деревня Агалатово',\n",
       "       'посёлок Новогорелово', 'городской посёлок Лесогорский',\n",
       "       'деревня Лаголово', 'посёлок Цвелодубово',\n",
       "       'посёлок городского типа Рахья', 'деревня Белогорка',\n",
       "       'посёлок Заводской', 'городской посёлок Новоселье',\n",
       "       'деревня Большие Колпаны', 'деревня Горбунки', 'Мурино',\n",
       "       'деревня Батово', 'деревня Заневка', 'деревня Иссад', 'Приморск',\n",
       "       'городской посёлок Фёдоровское', 'деревня Мистолово',\n",
       "       'Новая Ладога', 'посёлок Зимитицы', 'посёлок Барышево',\n",
       "       'деревня Разметелево', 'посёлок городского типа имени Свердлова',\n",
       "       'деревня Пеники', 'посёлок Рябово', 'деревня Пудомяги',\n",
       "       'деревня Низино', 'деревня Бегуницы', 'посёлок Поляны',\n",
       "       'городской посёлок Мга', 'посёлок Елизаветино',\n",
       "       'посёлок городского типа Кузнечное', 'деревня Колтуши',\n",
       "       'посёлок Запорожское', 'деревня Гостилицы',\n",
       "       'деревня Малое Карлино', 'посёлок Мичуринское', 'посёлок Сосново',\n",
       "       'деревня Аро', 'посёлок Ильичёво', 'посёлок городского типа Тайцы',\n",
       "       'деревня Малое Верево', 'деревня Извара', 'посёлок станции Вещево',\n",
       "       'село Паша', 'деревня Калитино',\n",
       "       'посёлок городского типа Ульяновка', 'деревня Чудской Бор',\n",
       "       'посёлок городского типа Дубровка', 'деревня Мины',\n",
       "       'посёлок Войсковицы', 'деревня Коркино', 'посёлок Ропша',\n",
       "       'посёлок городского типа Приладожский', 'посёлок Щеглово',\n",
       "       'посёлок Гаврилово', 'Лодейное Поле', 'деревня Рабитицы',\n",
       "       'посёлок городского типа Никольский', 'деревня Кузьмолово',\n",
       "       'деревня Малые Колпаны', 'городской посёлок Назия',\n",
       "       'посёлок Углово', 'садовое товарищество Рахья', 'деревня Меньково',\n",
       "       'деревня Старые Бегуницы',\n",
       "       'посёлок городского типа имени Морозова', 'посёлок Сапёрный',\n",
       "       'посёлок Семрино', 'посёлок Глажево', 'посёлок Кобринское',\n",
       "       'деревня Гарболово', 'посёлок станции Приветнинское',\n",
       "       'деревня Мануйлово', 'деревня Пчева', 'посёлок Цвылёво',\n",
       "       'посёлок Мельниково', 'посёлок Пудость', 'посёлок Усть-Луга',\n",
       "       'Светогорск', 'посёлок Селезнёво',\n",
       "       'посёлок городского типа Рябово', 'Каменногорск',\n",
       "       'посёлок Глебычево', 'деревня Парицы', 'посёлок Жилпосёлок',\n",
       "       'посёлок городского типа Мга', 'посёлок Войскорово',\n",
       "       'село Никольское', 'посёлок Стеклянный',\n",
       "       'посёлок городского типа Важины', 'посёлок Мыза-Ивановка',\n",
       "       'село Русско-Высоцкое', 'посёлок городского типа Форносово',\n",
       "       'село Старая Ладога', 'посёлок Житково',\n",
       "       'городской посёлок Виллози', 'деревня Лампово',\n",
       "       'деревня Шпаньково', 'деревня Лаврики', 'посёлок Сумино',\n",
       "       'посёлок Возрождение', 'деревня Старосиверская',\n",
       "       'посёлок Кикерино', 'деревня Старое Хинколово',\n",
       "       'посёлок Пригородный', 'посёлок Торфяное', 'Любань',\n",
       "       'городской посёлок Будогощь', 'посёлок Суходолье',\n",
       "       'посёлок Красная Долина', 'деревня Хапо-Ое',\n",
       "       'посёлок городского типа Дружная Горка', 'посёлок Лисий Нос',\n",
       "       'деревня Яльгелево', 'село Рождествено', 'деревня Старополье',\n",
       "       'посёлок Левашово', 'деревня Сяськелево', 'деревня Камышовка',\n",
       "       'садоводческое некоммерческое товарищество Лесная Поляна',\n",
       "       'посёлок Жилгородок', 'деревня Ялгино', 'посёлок Новый Учхоз',\n",
       "       'городской посёлок Рощино', 'посёлок Гончарово', 'посёлок Почап',\n",
       "       'посёлок Сапёрное', 'посёлок Платформа 69-й километр',\n",
       "       'посёлок Каложицы', 'деревня Фалилеево', 'деревня Пельгора',\n",
       "       'деревня Торошковичи', 'посёлок Белоостров', 'посёлок Алексеевка',\n",
       "       'посёлок Серебрянский', 'посёлок Лукаши', 'деревня Щеглово',\n",
       "       'деревня Тарасово', 'посёлок Кингисеппский',\n",
       "       'посёлок при железнодорожной станции Вещево', 'посёлок Ушаки',\n",
       "       'деревня Котлы', 'деревня Сижно', 'деревня Торосово',\n",
       "       'деревня Новолисино', 'посёлок станции Громово', 'деревня Глинка',\n",
       "       'посёлок городского типа Назия', 'деревня Старая Пустошь',\n",
       "       'посёлок Коммунары', 'посёлок Починок',\n",
       "       'посёлок городского типа Вознесенье', 'посёлок Репино',\n",
       "       'деревня Разбегаево', 'посёлок Гладкое', 'деревня Юкки',\n",
       "       'посёлок при железнодорожной станции Приветнинское',\n",
       "       'посёлок Тёсово-4', 'посёлок Коробицыно', 'деревня Большая Вруда',\n",
       "       'деревня Курковицы', 'городской посёлок Советский',\n",
       "       'посёлок Кобралово', 'деревня Суоранда',\n",
       "       'посёлок городского типа Кондратьево',\n",
       "       'коттеджный посёлок Счастье', 'деревня Реброво',\n",
       "       'деревня Зимитицы', 'деревня Тойворово', 'посёлок Семиозерье',\n",
       "       'посёлок Лесное', 'посёлок Совхозный', 'посёлок Ленинское',\n",
       "       'посёлок Суйда', 'посёлок Любань', 'деревня Нижние Осельки',\n",
       "       'деревня Бор', 'посёлок станции Свирь', 'посёлок Перово', 'Высоцк',\n",
       "       'посёлок Песочный', 'посёлок Гарболово', 'посёлок Старая Малукса',\n",
       "       'село Шум', 'посёлок Котельский', 'посёлок станции Лужайка',\n",
       "       'деревня Большая Пустомержа', 'посёлок Красносельское',\n",
       "       'деревня Вахнова Кара', 'деревня Пижма',\n",
       "       'коттеджный посёлок Кивеннапа Север', 'посёлок Ромашки',\n",
       "       'деревня Каськово', 'деревня Куровицы', 'посёлок Плоское',\n",
       "       'посёлок городского типа Большая Ижора', 'посёлок Кирпичное',\n",
       "       'посёлок городского типа Павлово', 'деревня Ям-Тесово',\n",
       "       'деревня Раздолье', 'деревня Терпилицы', 'посёлок Шугозеро',\n",
       "       'деревня Ваганово', 'посёлок Пушное', 'садовое товарищество Садко',\n",
       "       'посёлок Усть-Ижора', 'посёлок городского типа Лесогорский',\n",
       "       'деревня Выскатка', 'городской посёлок Свирьстрой',\n",
       "       'посёлок Громово', 'деревня Кисельня', 'деревня Трубников Бор',\n",
       "       'посёлок Калитино', 'посёлок Высокоключевой',\n",
       "       'садовое товарищество Приладожский',\n",
       "       'посёлок Пансионат Зелёный Бор', 'деревня Ненимяки',\n",
       "       'деревня Снегирёвка', 'посёлок Александровская',\n",
       "       'деревня Рапполово', 'деревня Пустынка', 'посёлок Рабитицы',\n",
       "       'деревня Большой Сабск', 'деревня Русско', 'деревня Лупполово',\n",
       "       'деревня Большое Рейзино', 'деревня Малая Романовка',\n",
       "       'посёлок Дружноселье', 'посёлок Пчевжа', 'посёлок Володарское',\n",
       "       'коттеджный посёлок Лесное', 'деревня Тихковицы',\n",
       "       'деревня Борисова Грива'], dtype=object)"
      ]
     },
     "execution_count": 35,
     "metadata": {},
     "output_type": "execute_result"
    }
   ],
   "source": [
    "df['locality_name'].unique()"
   ]
  },
  {
   "cell_type": "markdown",
   "metadata": {},
   "source": [
    "**ВЫВОДЫ:**\n",
    "\n",
    "*По ходу преобразований были выявленны конретные аномалии, неявные дубликаты и пропущенные значения.* \n",
    "\n",
    "*Аномалии встречались в двух родах: первая была возможным искажением наших данных и можно было подправить данные, а вторые были достаточно малы для реальной картины, их нельзя было преобразовать, и потому их нужно было убрать*\n",
    "\n",
    "Пропущенные значения, исходя из условия получения данных, были сформированны по двум возможным причинам: 1.Человеческий фактор; 2. Картографическая некоректнная запись данных*\n",
    "\n",
    "*После соотвествующих преобразований - данные стали коретнными и благодаря этому, теперь возможно иследование зависимостей и визуализации конкретных столбцов и их данных*"
   ]
  },
  {
   "cell_type": "markdown",
   "metadata": {},
   "source": [
    "### Посчитаем и добавим в таблицу новые столбцы"
   ]
  },
  {
   "cell_type": "code",
   "execution_count": 36,
   "metadata": {},
   "outputs": [],
   "source": [
    "df['price_one_square'] = df['last_price'] / df['total_area']"
   ]
  },
  {
   "cell_type": "markdown",
   "metadata": {},
   "source": [
    "*Для того,чтобы можно было расчитывать соотвествующие столцбы для дня недели, месяца и года следует привести столбец 'first_day_exposition' к нужному формату с помошью метода `to_datetime`*"
   ]
  },
  {
   "cell_type": "code",
   "execution_count": 37,
   "metadata": {},
   "outputs": [],
   "source": [
    "df['first_day_exposition'] = pd.to_datetime(df['first_day_exposition'])"
   ]
  },
  {
   "cell_type": "code",
   "execution_count": 38,
   "metadata": {},
   "outputs": [],
   "source": [
    "df['day_week_publication'] = df['first_day_exposition'].dt.weekday"
   ]
  },
  {
   "cell_type": "code",
   "execution_count": 39,
   "metadata": {},
   "outputs": [],
   "source": [
    "df['month_publication'] = df['first_day_exposition'].dt.month"
   ]
  },
  {
   "cell_type": "code",
   "execution_count": 40,
   "metadata": {},
   "outputs": [],
   "source": [
    "df['year_publication'] = df['first_day_exposition'].dt.year"
   ]
  },
  {
   "cell_type": "markdown",
   "metadata": {},
   "source": [
    "*Для того,чтобы можно было расчитать тип этажа, следует отдельно создать функцию, например, `meth_columns`, в которой пропишем условия, чтобы в случае чего, возвращался для строки соотвествуйщий тип данных. И после следует применить метод `apply` для нового столбца, а также не забыть указать `axis=1`*"
   ]
  },
  {
   "cell_type": "code",
   "execution_count": 41,
   "metadata": {},
   "outputs": [],
   "source": [
    "df['floors_total'] = df['floors_total'].astype(int)\n",
    "\n",
    "def meth_columns(row):\n",
    "    \n",
    "    col1 = row['floors_total']\n",
    "    col2 = row['floor']\n",
    "    \n",
    "    if col1 == col2:\n",
    "        return 'последний'\n",
    "    if col2 == 1:\n",
    "        return 'первый'\n",
    "    return 'другой'\n",
    "    \n",
    "df['type_floor'] = df.apply(meth_columns, axis=1)"
   ]
  },
  {
   "cell_type": "code",
   "execution_count": 42,
   "metadata": {},
   "outputs": [],
   "source": [
    "df['center_km'] = df['cityCenters_nearest'] / 1000"
   ]
  },
  {
   "cell_type": "code",
   "execution_count": 43,
   "metadata": {},
   "outputs": [
    {
     "data": {
      "text/html": [
       "<div>\n",
       "<style scoped>\n",
       "    .dataframe tbody tr th:only-of-type {\n",
       "        vertical-align: middle;\n",
       "    }\n",
       "\n",
       "    .dataframe tbody tr th {\n",
       "        vertical-align: top;\n",
       "    }\n",
       "\n",
       "    .dataframe thead th {\n",
       "        text-align: right;\n",
       "    }\n",
       "</style>\n",
       "<table border=\"1\" class=\"dataframe\">\n",
       "  <thead>\n",
       "    <tr style=\"text-align: right;\">\n",
       "      <th></th>\n",
       "      <th>total_images</th>\n",
       "      <th>last_price</th>\n",
       "      <th>total_area</th>\n",
       "      <th>first_day_exposition</th>\n",
       "      <th>rooms</th>\n",
       "      <th>ceiling_height</th>\n",
       "      <th>floors_total</th>\n",
       "      <th>living_area</th>\n",
       "      <th>floor</th>\n",
       "      <th>is_apartment</th>\n",
       "      <th>...</th>\n",
       "      <th>parks_nearest</th>\n",
       "      <th>ponds_around3000</th>\n",
       "      <th>ponds_nearest</th>\n",
       "      <th>days_exposition</th>\n",
       "      <th>price_one_square</th>\n",
       "      <th>day_week_publication</th>\n",
       "      <th>month_publication</th>\n",
       "      <th>year_publication</th>\n",
       "      <th>type_floor</th>\n",
       "      <th>center_km</th>\n",
       "    </tr>\n",
       "  </thead>\n",
       "  <tbody>\n",
       "    <tr>\n",
       "      <th>1</th>\n",
       "      <td>7</td>\n",
       "      <td>3350000.0</td>\n",
       "      <td>40.4</td>\n",
       "      <td>2018-12-04</td>\n",
       "      <td>1</td>\n",
       "      <td>NaN</td>\n",
       "      <td>11</td>\n",
       "      <td>18.6</td>\n",
       "      <td>1</td>\n",
       "      <td>NaN</td>\n",
       "      <td>...</td>\n",
       "      <td>NaN</td>\n",
       "      <td>0</td>\n",
       "      <td>NaN</td>\n",
       "      <td>81</td>\n",
       "      <td>82920.792079</td>\n",
       "      <td>1</td>\n",
       "      <td>12</td>\n",
       "      <td>2018</td>\n",
       "      <td>первый</td>\n",
       "      <td>18.603</td>\n",
       "    </tr>\n",
       "    <tr>\n",
       "      <th>2</th>\n",
       "      <td>10</td>\n",
       "      <td>5196000.0</td>\n",
       "      <td>56.0</td>\n",
       "      <td>2015-08-20</td>\n",
       "      <td>2</td>\n",
       "      <td>NaN</td>\n",
       "      <td>5</td>\n",
       "      <td>34.3</td>\n",
       "      <td>4</td>\n",
       "      <td>NaN</td>\n",
       "      <td>...</td>\n",
       "      <td>90.0</td>\n",
       "      <td>2</td>\n",
       "      <td>574.0</td>\n",
       "      <td>558</td>\n",
       "      <td>92785.714286</td>\n",
       "      <td>3</td>\n",
       "      <td>8</td>\n",
       "      <td>2015</td>\n",
       "      <td>другой</td>\n",
       "      <td>13.933</td>\n",
       "    </tr>\n",
       "    <tr>\n",
       "      <th>5</th>\n",
       "      <td>10</td>\n",
       "      <td>2890000.0</td>\n",
       "      <td>30.4</td>\n",
       "      <td>2018-09-10</td>\n",
       "      <td>1</td>\n",
       "      <td>NaN</td>\n",
       "      <td>12</td>\n",
       "      <td>14.4</td>\n",
       "      <td>5</td>\n",
       "      <td>NaN</td>\n",
       "      <td>...</td>\n",
       "      <td>NaN</td>\n",
       "      <td>0</td>\n",
       "      <td>NaN</td>\n",
       "      <td>55</td>\n",
       "      <td>95065.789474</td>\n",
       "      <td>0</td>\n",
       "      <td>9</td>\n",
       "      <td>2018</td>\n",
       "      <td>другой</td>\n",
       "      <td>NaN</td>\n",
       "    </tr>\n",
       "    <tr>\n",
       "      <th>6</th>\n",
       "      <td>6</td>\n",
       "      <td>3700000.0</td>\n",
       "      <td>37.3</td>\n",
       "      <td>2017-11-02</td>\n",
       "      <td>1</td>\n",
       "      <td>NaN</td>\n",
       "      <td>26</td>\n",
       "      <td>10.6</td>\n",
       "      <td>6</td>\n",
       "      <td>NaN</td>\n",
       "      <td>...</td>\n",
       "      <td>NaN</td>\n",
       "      <td>0</td>\n",
       "      <td>NaN</td>\n",
       "      <td>155</td>\n",
       "      <td>99195.710456</td>\n",
       "      <td>3</td>\n",
       "      <td>11</td>\n",
       "      <td>2017</td>\n",
       "      <td>другой</td>\n",
       "      <td>19.143</td>\n",
       "    </tr>\n",
       "    <tr>\n",
       "      <th>7</th>\n",
       "      <td>5</td>\n",
       "      <td>7915000.0</td>\n",
       "      <td>71.6</td>\n",
       "      <td>2019-04-18</td>\n",
       "      <td>2</td>\n",
       "      <td>NaN</td>\n",
       "      <td>24</td>\n",
       "      <td>NaN</td>\n",
       "      <td>22</td>\n",
       "      <td>NaN</td>\n",
       "      <td>...</td>\n",
       "      <td>NaN</td>\n",
       "      <td>0</td>\n",
       "      <td>NaN</td>\n",
       "      <td>95</td>\n",
       "      <td>110544.692737</td>\n",
       "      <td>3</td>\n",
       "      <td>4</td>\n",
       "      <td>2019</td>\n",
       "      <td>другой</td>\n",
       "      <td>11.634</td>\n",
       "    </tr>\n",
       "  </tbody>\n",
       "</table>\n",
       "<p>5 rows × 28 columns</p>\n",
       "</div>"
      ],
      "text/plain": [
       "   total_images  last_price  total_area first_day_exposition  rooms  \\\n",
       "1             7   3350000.0        40.4           2018-12-04      1   \n",
       "2            10   5196000.0        56.0           2015-08-20      2   \n",
       "5            10   2890000.0        30.4           2018-09-10      1   \n",
       "6             6   3700000.0        37.3           2017-11-02      1   \n",
       "7             5   7915000.0        71.6           2019-04-18      2   \n",
       "\n",
       "   ceiling_height  floors_total  living_area  floor is_apartment  ...  \\\n",
       "1             NaN            11         18.6      1          NaN  ...   \n",
       "2             NaN             5         34.3      4          NaN  ...   \n",
       "5             NaN            12         14.4      5          NaN  ...   \n",
       "6             NaN            26         10.6      6          NaN  ...   \n",
       "7             NaN            24          NaN     22          NaN  ...   \n",
       "\n",
       "   parks_nearest  ponds_around3000  ponds_nearest  days_exposition  \\\n",
       "1            NaN                 0            NaN               81   \n",
       "2           90.0                 2          574.0              558   \n",
       "5            NaN                 0            NaN               55   \n",
       "6            NaN                 0            NaN              155   \n",
       "7            NaN                 0            NaN               95   \n",
       "\n",
       "  price_one_square  day_week_publication  month_publication  year_publication  \\\n",
       "1     82920.792079                     1                 12              2018   \n",
       "2     92785.714286                     3                  8              2015   \n",
       "5     95065.789474                     0                  9              2018   \n",
       "6     99195.710456                     3                 11              2017   \n",
       "7    110544.692737                     3                  4              2019   \n",
       "\n",
       "   type_floor  center_km  \n",
       "1      первый     18.603  \n",
       "2      другой     13.933  \n",
       "5      другой        NaN  \n",
       "6      другой     19.143  \n",
       "7      другой     11.634  \n",
       "\n",
       "[5 rows x 28 columns]"
      ]
     },
     "execution_count": 43,
     "metadata": {},
     "output_type": "execute_result"
    }
   ],
   "source": [
    "df.head()"
   ]
  },
  {
   "cell_type": "markdown",
   "metadata": {},
   "source": [
    "**ВЫВОДЫ:**\n",
    "\n",
    "*После создания соотвествующих столбцов в датафрейме, данные стали чуть более информативнее и самое главное, в дальнейшем мы можем их использовать в качестве параметров зависимости от цены, - если у тех будет явно она обнаружена*"
   ]
  },
  {
   "cell_type": "markdown",
   "metadata": {},
   "source": [
    "### Проведите исследовательский анализ данных"
   ]
  },
  {
   "cell_type": "markdown",
   "metadata": {},
   "source": [
    "**Изучим следующие параметры:**\n",
    "\n",
    "*общая площадь;*\n",
    "*жилая площадь;*\n",
    "*площадь кухни;*\n",
    "*цена объекта;*\n",
    "*количество комнат;*\n",
    "*высота потолков;*\n",
    "*этаж квартиры;*\n",
    "*тип этажа квартиры («первый», «последний», «другой»);*\n",
    "*общее количество этажей в доме;*\n",
    "*расстояние до центра города в метрах;*\n",
    "*расстояние до ближайшего аэропорта;*\n",
    "*расстояние до ближайшего парка;*\n",
    "*день и месяц публикации объявления.*\n",
    "\n",
    "**С помошью гистограм `hist` выведем наглядное визуальное представление данных, а также с помощью метода `describe` увидим статистическую информацию и пропишем ниже свои наблюдения**"
   ]
  },
  {
   "cell_type": "code",
   "execution_count": 44,
   "metadata": {},
   "outputs": [
    {
     "data": {
      "image/png": "[encoded data removed]",
      "text/plain": [
       "<Figure size 432x288 with 1 Axes>"
      ]
     },
     "metadata": {
      "needs_background": "light"
     },
     "output_type": "display_data"
    },
    {
     "data": {
      "text/plain": [
       "count    20765.000000\n",
       "mean        53.429890\n",
       "std         19.199653\n",
       "min         12.000000\n",
       "25%         39.000000\n",
       "50%         49.000000\n",
       "75%         63.300000\n",
       "max        150.000000\n",
       "Name: total_area, dtype: float64"
      ]
     },
     "execution_count": 44,
     "metadata": {},
     "output_type": "execute_result"
    }
   ],
   "source": [
    "df['total_area'].hist()\n",
    "plt.show()\n",
    "df['total_area'].describe()"
   ]
  },
  {
   "cell_type": "markdown",
   "metadata": {},
   "source": [
    "**Вывод по общей площади:**\n",
    "\n",
    "*Наибольшие - наименьшие значения соотвественно равны 150 и 12 (в кв.метрах)*\n",
    "\n",
    "*Наиболее часто встречаемые значения находятся в диапозоне от 40 до 51 (в кв.метрах)*"
   ]
  },
  {
   "cell_type": "code",
   "execution_count": 45,
   "metadata": {},
   "outputs": [
    {
     "data": {
      "image/png": "[encoded data removed]",
      "text/plain": [
       "<Figure size 432x288 with 1 Axes>"
      ]
     },
     "metadata": {
      "needs_background": "light"
     },
     "output_type": "display_data"
    },
    {
     "data": {
      "text/plain": [
       "count    19085.000000\n",
       "mean        30.233182\n",
       "std         12.973428\n",
       "min          2.000000\n",
       "25%         18.000000\n",
       "50%         29.000000\n",
       "75%         39.000000\n",
       "max        128.000000\n",
       "Name: living_area, dtype: float64"
      ]
     },
     "execution_count": 45,
     "metadata": {},
     "output_type": "execute_result"
    }
   ],
   "source": [
    "df['living_area'].hist()\n",
    "plt.show()\n",
    "df['living_area'].describe()"
   ]
  },
  {
   "cell_type": "markdown",
   "metadata": {},
   "source": [
    "**Вывод по живой площади:**\n",
    "\n",
    "*Наибольшие - наименьшие значения приходятся на 128 и 2 (кв. метров)*\n",
    "\n",
    "*Наиболее часто встречаемые значения находятся в диапозоне от 18 до 30 (кв. метров)*"
   ]
  },
  {
   "cell_type": "code",
   "execution_count": 46,
   "metadata": {},
   "outputs": [
    {
     "data": {
      "image/png": "[encoded data removed]",
      "text/plain": [
       "<Figure size 432x288 with 1 Axes>"
      ]
     },
     "metadata": {
      "needs_background": "light"
     },
     "output_type": "display_data"
    },
    {
     "data": {
      "text/plain": [
       "count    18873.000000\n",
       "mean         9.646892\n",
       "std          3.470839\n",
       "min          5.000000\n",
       "25%          7.000000\n",
       "50%          9.000000\n",
       "75%         11.000000\n",
       "max         24.900000\n",
       "Name: kitchen_area, dtype: float64"
      ]
     },
     "execution_count": 46,
     "metadata": {},
     "output_type": "execute_result"
    }
   ],
   "source": [
    "df['kitchen_area'].hist()\n",
    "plt.show()\n",
    "df['kitchen_area'].describe()"
   ]
  },
  {
   "cell_type": "markdown",
   "metadata": {},
   "source": [
    "**Вывод по площади кухни:**\n",
    "\n",
    "*Наибольшие и наименьшие значения приходятся на 24.9 и 5 метров соотвественно*\n",
    "\n",
    "*Наиболее часто встречаемые значения находятся в диапозоне с 7 до 9 метров*"
   ]
  },
  {
   "cell_type": "code",
   "execution_count": 47,
   "metadata": {},
   "outputs": [
    {
     "data": {
      "image/png": "[encoded data removed]",
      "text/plain": [
       "<Figure size 432x288 with 1 Axes>"
      ]
     },
     "metadata": {
      "needs_background": "light"
     },
     "output_type": "display_data"
    },
    {
     "data": {
      "text/plain": [
       "count    2.076500e+04\n",
       "mean     5.279273e+06\n",
       "std      3.897968e+06\n",
       "min      4.300000e+05\n",
       "25%      3.350000e+06\n",
       "50%      4.450000e+06\n",
       "75%      6.100000e+06\n",
       "max      1.220000e+08\n",
       "Name: last_price, dtype: float64"
      ]
     },
     "execution_count": 47,
     "metadata": {},
     "output_type": "execute_result"
    }
   ],
   "source": [
    "df['last_price'].hist(range=(0, 12500000))\n",
    "plt.show()\n",
    "df['last_price'].describe()"
   ]
  },
  {
   "cell_type": "markdown",
   "metadata": {},
   "source": [
    "**Вывод по конечной цене объекта:**\n",
    "\n",
    "*Поскольку достаточно большое значение у последней цены, то поэтому понимаем, что запись здесь находится в экспозиционной форме*\n",
    "\n",
    "*Наибольшие и наименьшие значения соотвественно равны  124 000 000 и 430 000 соотвественно*"
   ]
  },
  {
   "cell_type": "code",
   "execution_count": 48,
   "metadata": {},
   "outputs": [
    {
     "data": {
      "image/png": "[encoded data removed]",
      "text/plain": [
       "<Figure size 432x288 with 1 Axes>"
      ]
     },
     "metadata": {
      "needs_background": "light"
     },
     "output_type": "display_data"
    },
    {
     "data": {
      "text/plain": [
       "count    20765.000000\n",
       "mean         1.872478\n",
       "std          0.786870\n",
       "min          1.000000\n",
       "25%          1.000000\n",
       "50%          2.000000\n",
       "75%          3.000000\n",
       "max          3.000000\n",
       "Name: rooms, dtype: float64"
      ]
     },
     "execution_count": 48,
     "metadata": {},
     "output_type": "execute_result"
    }
   ],
   "source": [
    "df['rooms'].hist()\n",
    "plt.show()\n",
    "df['rooms'].describe()"
   ]
  },
  {
   "cell_type": "markdown",
   "metadata": {},
   "source": [
    "**Вывод по количеству комнат в квартире:**\n",
    "\n",
    "*Наибольшие и наименьшие значения равны 3 и 1 соотвественно*"
   ]
  },
  {
   "cell_type": "code",
   "execution_count": 49,
   "metadata": {},
   "outputs": [
    {
     "data": {
      "image/png": "[encoded data removed]",
      "text/plain": [
       "<Figure size 432x288 with 1 Axes>"
      ]
     },
     "metadata": {
      "needs_background": "light"
     },
     "output_type": "display_data"
    },
    {
     "data": {
      "text/plain": [
       "count    12509.000000\n",
       "mean         2.693878\n",
       "std          0.235972\n",
       "min          2.000000\n",
       "25%          2.500000\n",
       "50%          2.600000\n",
       "75%          2.750000\n",
       "max          4.800000\n",
       "Name: ceiling_height, dtype: float64"
      ]
     },
     "execution_count": 49,
     "metadata": {},
     "output_type": "execute_result"
    }
   ],
   "source": [
    "df['ceiling_height'].hist()\n",
    "plt.show()\n",
    "df['ceiling_height'].describe()"
   ]
  },
  {
   "cell_type": "markdown",
   "metadata": {},
   "source": [
    "**Вывод по высоте потолков в квартире:**\n",
    "\n",
    "*Наибольшие и наименьшие значения соотвественно равны 4.8 и 2*\n",
    "\n",
    "*Наибольший диапозон лежит в 2.6 и 2.8*"
   ]
  },
  {
   "cell_type": "code",
   "execution_count": 50,
   "metadata": {},
   "outputs": [
    {
     "data": {
      "image/png": "[encoded data removed]",
      "text/plain": [
       "<Figure size 432x288 with 1 Axes>"
      ]
     },
     "metadata": {
      "needs_background": "light"
     },
     "output_type": "display_data"
    },
    {
     "data": {
      "text/plain": [
       "count    20765.000000\n",
       "mean         5.943703\n",
       "std          4.913062\n",
       "min          1.000000\n",
       "25%          2.000000\n",
       "50%          4.000000\n",
       "75%          8.000000\n",
       "max         33.000000\n",
       "Name: floor, dtype: float64"
      ]
     },
     "execution_count": 50,
     "metadata": {},
     "output_type": "execute_result"
    }
   ],
   "source": [
    "df['floor'].hist()\n",
    "plt.show()\n",
    "df['floor'].describe()"
   ]
  },
  {
   "cell_type": "markdown",
   "metadata": {},
   "source": [
    "**Вывод по этажу самой квартиры:**\n",
    "\n",
    "*Наибольшие и наименьшие значения здесь у 33 и 1 соотвественно*\n",
    "\n",
    "*Наибоьший диапозон значений приходится на 2 до 4*"
   ]
  },
  {
   "cell_type": "code",
   "execution_count": 51,
   "metadata": {},
   "outputs": [
    {
     "data": {
      "image/png": "[encoded data removed]",
      "text/plain": [
       "<Figure size 432x288 with 1 Axes>"
      ]
     },
     "metadata": {
      "needs_background": "light"
     },
     "output_type": "display_data"
    },
    {
     "data": {
      "text/plain": [
       "count      20765\n",
       "unique         3\n",
       "top       другой\n",
       "freq       15308\n",
       "Name: type_floor, dtype: object"
      ]
     },
     "execution_count": 51,
     "metadata": {},
     "output_type": "execute_result"
    }
   ],
   "source": [
    "df['type_floor'].hist()\n",
    "plt.show()\n",
    "df['type_floor'].describe()"
   ]
  },
  {
   "cell_type": "markdown",
   "metadata": {},
   "source": [
    "**Вывод по типу этажу самой квартиры:**\n",
    "\n",
    "*Наибольшие значение находится у типа 'другой', - наименьшие у 'первый' и 'последний' соотвественно*"
   ]
  },
  {
   "cell_type": "code",
   "execution_count": 52,
   "metadata": {},
   "outputs": [
    {
     "data": {
      "image/png": "[encoded data removed]",
      "text/plain": [
       "<Figure size 432x288 with 1 Axes>"
      ]
     },
     "metadata": {
      "needs_background": "light"
     },
     "output_type": "display_data"
    },
    {
     "data": {
      "text/plain": [
       "count    20765.000000\n",
       "mean        10.835685\n",
       "std          6.630088\n",
       "min          1.000000\n",
       "25%          5.000000\n",
       "50%          9.000000\n",
       "75%         16.000000\n",
       "max         60.000000\n",
       "Name: floors_total, dtype: float64"
      ]
     },
     "execution_count": 52,
     "metadata": {},
     "output_type": "execute_result"
    }
   ],
   "source": [
    "df['floors_total'].hist()\n",
    "plt.show()\n",
    "df['floors_total'].describe()"
   ]
  },
  {
   "cell_type": "markdown",
   "metadata": {},
   "source": [
    "**Вывод по общему количеству этажей:**\n",
    "\n",
    "*Наибольшие и наименьшие значения 60 и 1 соотвественно*\n",
    "\n",
    "*Наибольший диапозон в пределах от 1 до 5 соотвественно*"
   ]
  },
  {
   "cell_type": "code",
   "execution_count": 53,
   "metadata": {},
   "outputs": [
    {
     "data": {
      "image/png": "[encoded data removed]",
      "text/plain": [
       "<Figure size 432x288 with 1 Axes>"
      ]
     },
     "metadata": {
      "needs_background": "light"
     },
     "output_type": "display_data"
    },
    {
     "data": {
      "text/plain": [
       "count    15657.000000\n",
       "mean     14752.573737\n",
       "std       8487.353023\n",
       "min        208.000000\n",
       "25%      10318.000000\n",
       "50%      13436.000000\n",
       "75%      16601.000000\n",
       "max      65968.000000\n",
       "Name: cityCenters_nearest, dtype: float64"
      ]
     },
     "execution_count": 53,
     "metadata": {},
     "output_type": "execute_result"
    }
   ],
   "source": [
    "df['cityCenters_nearest'].hist()\n",
    "plt.show()\n",
    "df['cityCenters_nearest'].describe()"
   ]
  },
  {
   "cell_type": "markdown",
   "metadata": {},
   "source": [
    "**Вывод по расстоянию до центра города в метрах:**\n",
    "\n",
    "*Наибольшие и наименьшие значения здесь 65968 и 208 (метрах)*\n",
    "\n",
    "*Наибольший диапозон в пределах от 7000 до 13 000 (метрах) соотвественно*"
   ]
  },
  {
   "cell_type": "code",
   "execution_count": 54,
   "metadata": {},
   "outputs": [
    {
     "data": {
      "image/png": "[encoded data removed]",
      "text/plain": [
       "<Figure size 432x288 with 1 Axes>"
      ]
     },
     "metadata": {
      "needs_background": "light"
     },
     "output_type": "display_data"
    },
    {
     "data": {
      "text/plain": [
       "count    15639.000000\n",
       "mean     29019.258201\n",
       "std      12904.896251\n",
       "min       6450.000000\n",
       "25%      18306.500000\n",
       "50%      27299.000000\n",
       "75%      37652.000000\n",
       "max      84869.000000\n",
       "Name: airports_nearest, dtype: float64"
      ]
     },
     "execution_count": 54,
     "metadata": {},
     "output_type": "execute_result"
    }
   ],
   "source": [
    "df['airports_nearest'].hist()\n",
    "plt.show()\n",
    "df['airports_nearest'].describe()"
   ]
  },
  {
   "cell_type": "markdown",
   "metadata": {},
   "source": [
    "**Вывод по расстоянию до ближайшего аэропорта в метрах:**\n",
    "\n",
    "*Наибольшие и наименьшие значения принимают от 84869 и 6450 соотвественно*\n",
    "\n",
    "*Наибольший диапозон значений лежит в 1500 и 22000*"
   ]
  },
  {
   "cell_type": "code",
   "execution_count": 55,
   "metadata": {},
   "outputs": [
    {
     "data": {
      "image/png": "[encoded data removed]",
      "text/plain": [
       "<Figure size 432x288 with 1 Axes>"
      ]
     },
     "metadata": {
      "needs_background": "light"
     },
     "output_type": "display_data"
    },
    {
     "data": {
      "text/plain": [
       "count    7631.000000\n",
       "mean      525.670554\n",
       "std       275.961833\n",
       "min        13.000000\n",
       "25%       309.000000\n",
       "50%       509.000000\n",
       "75%       733.000000\n",
       "max      1344.000000\n",
       "Name: ponds_nearest, dtype: float64"
      ]
     },
     "execution_count": 55,
     "metadata": {},
     "output_type": "execute_result"
    }
   ],
   "source": [
    "df['ponds_nearest'].hist()\n",
    "plt.show()\n",
    "df['ponds_nearest'].describe()"
   ]
  },
  {
   "cell_type": "markdown",
   "metadata": {},
   "source": [
    "**Вывод по расстоянию до ближайшего парка:**\n",
    "\n",
    "*Наибольшие и наименьшие значения соотвественно равны: 1344 и 13*\n",
    "\n",
    "*Наибольший диапозон значений лежит в 415 до 545*"
   ]
  },
  {
   "cell_type": "code",
   "execution_count": 56,
   "metadata": {
    "scrolled": true
   },
   "outputs": [
    {
     "data": {
      "image/png": "[encoded data removed]",
      "text/plain": [
       "<Figure size 432x288 with 1 Axes>"
      ]
     },
     "metadata": {
      "needs_background": "light"
     },
     "output_type": "display_data"
    },
    {
     "data": {
      "text/plain": [
       "count    20765.000000\n",
       "mean       164.179051\n",
       "std        200.727265\n",
       "min          1.000000\n",
       "25%         45.000000\n",
       "50%         95.000000\n",
       "75%        192.000000\n",
       "max       1572.000000\n",
       "Name: days_exposition, dtype: float64"
      ]
     },
     "execution_count": 56,
     "metadata": {},
     "output_type": "execute_result"
    }
   ],
   "source": [
    "df['days_exposition'].hist()\n",
    "plt.show()\n",
    "df['days_exposition'].describe()"
   ]
  },
  {
   "cell_type": "code",
   "execution_count": 57,
   "metadata": {},
   "outputs": [
    {
     "name": "stdout",
     "output_type": "stream",
     "text": [
      "Медиана для количества дней каждого объявления составляет: 95.0\n",
      "Среднее значение для количества дней каждого объявления составляет: 164.17905128822537\n"
     ]
    }
   ],
   "source": [
    "print('Медиана для количества дней каждого объявления составляет:',df['days_exposition'].median())\n",
    "print('Среднее значение для количества дней каждого объявления составляет:',df['days_exposition'].mean())"
   ]
  },
  {
   "cell_type": "markdown",
   "metadata": {},
   "source": [
    "**Вывод:**\n",
    "\n",
    "*Исходя из приведенного выше анализа, можно сделать вывод о том, что обычно продажа занимает в районе 95 дней (чуть более-менее 3 месяцев).Следует понимать, что продажи можно считать быстрыми, которые явно меньше медианы (2 квартиля). Необычно долгими считаются продажи которые проходят 5 лет. Возможно это связано с инцидентом, который мог пройзойти дома, либо же это обусловлено иными сильно отличающегося от обычных показателей - к примеру очень высокая цена данной квартиры*"
   ]
  },
  {
   "cell_type": "code",
   "execution_count": 58,
   "metadata": {},
   "outputs": [
    {
     "data": {
      "text/html": [
       "<div>\n",
       "<style scoped>\n",
       "    .dataframe tbody tr th:only-of-type {\n",
       "        vertical-align: middle;\n",
       "    }\n",
       "\n",
       "    .dataframe tbody tr th {\n",
       "        vertical-align: top;\n",
       "    }\n",
       "\n",
       "    .dataframe thead th {\n",
       "        text-align: right;\n",
       "    }\n",
       "</style>\n",
       "<table border=\"1\" class=\"dataframe\">\n",
       "  <thead>\n",
       "    <tr style=\"text-align: right;\">\n",
       "      <th></th>\n",
       "      <th>last_price</th>\n",
       "    </tr>\n",
       "    <tr>\n",
       "      <th>total_area</th>\n",
       "      <th></th>\n",
       "    </tr>\n",
       "  </thead>\n",
       "  <tbody>\n",
       "    <tr>\n",
       "      <th>12.0</th>\n",
       "      <td>2400000.0</td>\n",
       "    </tr>\n",
       "    <tr>\n",
       "      <th>13.0</th>\n",
       "      <td>2350000.0</td>\n",
       "    </tr>\n",
       "    <tr>\n",
       "      <th>13.2</th>\n",
       "      <td>1686000.0</td>\n",
       "    </tr>\n",
       "    <tr>\n",
       "      <th>15.0</th>\n",
       "      <td>1725000.0</td>\n",
       "    </tr>\n",
       "    <tr>\n",
       "      <th>17.2</th>\n",
       "      <td>2050000.0</td>\n",
       "    </tr>\n",
       "    <tr>\n",
       "      <th>...</th>\n",
       "      <td>...</td>\n",
       "    </tr>\n",
       "    <tr>\n",
       "      <th>146.5</th>\n",
       "      <td>12900000.0</td>\n",
       "    </tr>\n",
       "    <tr>\n",
       "      <th>146.8</th>\n",
       "      <td>12160000.0</td>\n",
       "    </tr>\n",
       "    <tr>\n",
       "      <th>147.0</th>\n",
       "      <td>9800000.0</td>\n",
       "    </tr>\n",
       "    <tr>\n",
       "      <th>147.2</th>\n",
       "      <td>66500000.0</td>\n",
       "    </tr>\n",
       "    <tr>\n",
       "      <th>150.0</th>\n",
       "      <td>20500000.0</td>\n",
       "    </tr>\n",
       "  </tbody>\n",
       "</table>\n",
       "<p>1663 rows × 1 columns</p>\n",
       "</div>"
      ],
      "text/plain": [
       "            last_price\n",
       "total_area            \n",
       "12.0         2400000.0\n",
       "13.0         2350000.0\n",
       "13.2         1686000.0\n",
       "15.0         1725000.0\n",
       "17.2         2050000.0\n",
       "...                ...\n",
       "146.5       12900000.0\n",
       "146.8       12160000.0\n",
       "147.0        9800000.0\n",
       "147.2       66500000.0\n",
       "150.0       20500000.0\n",
       "\n",
       "[1663 rows x 1 columns]"
      ]
     },
     "execution_count": 58,
     "metadata": {},
     "output_type": "execute_result"
    }
   ],
   "source": [
    "df.pivot_table(index='total_area', values='last_price', aggfunc='mean')"
   ]
  },
  {
   "cell_type": "code",
   "execution_count": 59,
   "metadata": {
    "scrolled": true
   },
   "outputs": [
    {
     "data": {
      "text/plain": [
       "<AxesSubplot:xlabel='total_area', ylabel='last_price'>"
      ]
     },
     "execution_count": 59,
     "metadata": {},
     "output_type": "execute_result"
    },
    {
     "data": {
      "image/png": "[encoded data removed]",
      "text/plain": [
       "<Figure size 432x288 with 1 Axes>"
      ]
     },
     "metadata": {
      "needs_background": "light"
     },
     "output_type": "display_data"
    }
   ],
   "source": [
    "df.plot(x='total_area', y='last_price', kind='scatter', alpha=0.09) "
   ]
  },
  {
   "cell_type": "code",
   "execution_count": 60,
   "metadata": {},
   "outputs": [
    {
     "name": "stdout",
     "output_type": "stream",
     "text": [
      "0.6764612536600828\n"
     ]
    }
   ],
   "source": [
    "print(df['total_area'].corr(df['last_price']))"
   ]
  },
  {
   "cell_type": "code",
   "execution_count": 61,
   "metadata": {},
   "outputs": [
    {
     "data": {
      "text/html": [
       "<div>\n",
       "<style scoped>\n",
       "    .dataframe tbody tr th:only-of-type {\n",
       "        vertical-align: middle;\n",
       "    }\n",
       "\n",
       "    .dataframe tbody tr th {\n",
       "        vertical-align: top;\n",
       "    }\n",
       "\n",
       "    .dataframe thead th {\n",
       "        text-align: right;\n",
       "    }\n",
       "</style>\n",
       "<table border=\"1\" class=\"dataframe\">\n",
       "  <thead>\n",
       "    <tr style=\"text-align: right;\">\n",
       "      <th></th>\n",
       "      <th>last_price</th>\n",
       "    </tr>\n",
       "    <tr>\n",
       "      <th>living_area</th>\n",
       "      <th></th>\n",
       "    </tr>\n",
       "  </thead>\n",
       "  <tbody>\n",
       "    <tr>\n",
       "      <th>2.0</th>\n",
       "      <td>6350000.0</td>\n",
       "    </tr>\n",
       "    <tr>\n",
       "      <th>3.0</th>\n",
       "      <td>34715000.0</td>\n",
       "    </tr>\n",
       "    <tr>\n",
       "      <th>6.0</th>\n",
       "      <td>3799000.0</td>\n",
       "    </tr>\n",
       "    <tr>\n",
       "      <th>6.5</th>\n",
       "      <td>4050000.0</td>\n",
       "    </tr>\n",
       "    <tr>\n",
       "      <th>8.0</th>\n",
       "      <td>4800000.0</td>\n",
       "    </tr>\n",
       "    <tr>\n",
       "      <th>...</th>\n",
       "      <td>...</td>\n",
       "    </tr>\n",
       "    <tr>\n",
       "      <th>97.0</th>\n",
       "      <td>37000000.0</td>\n",
       "    </tr>\n",
       "    <tr>\n",
       "      <th>99.3</th>\n",
       "      <td>17000000.0</td>\n",
       "    </tr>\n",
       "    <tr>\n",
       "      <th>99.5</th>\n",
       "      <td>7200000.0</td>\n",
       "    </tr>\n",
       "    <tr>\n",
       "      <th>100.0</th>\n",
       "      <td>5000000.0</td>\n",
       "    </tr>\n",
       "    <tr>\n",
       "      <th>128.0</th>\n",
       "      <td>12160000.0</td>\n",
       "    </tr>\n",
       "  </tbody>\n",
       "</table>\n",
       "<p>1341 rows × 1 columns</p>\n",
       "</div>"
      ],
      "text/plain": [
       "             last_price\n",
       "living_area            \n",
       "2.0           6350000.0\n",
       "3.0          34715000.0\n",
       "6.0           3799000.0\n",
       "6.5           4050000.0\n",
       "8.0           4800000.0\n",
       "...                 ...\n",
       "97.0         37000000.0\n",
       "99.3         17000000.0\n",
       "99.5          7200000.0\n",
       "100.0         5000000.0\n",
       "128.0        12160000.0\n",
       "\n",
       "[1341 rows x 1 columns]"
      ]
     },
     "execution_count": 61,
     "metadata": {},
     "output_type": "execute_result"
    }
   ],
   "source": [
    "df.pivot_table(index='living_area', values='last_price', aggfunc='mean')"
   ]
  },
  {
   "cell_type": "code",
   "execution_count": 62,
   "metadata": {},
   "outputs": [
    {
     "data": {
      "text/plain": [
       "<AxesSubplot:xlabel='living_area', ylabel='last_price'>"
      ]
     },
     "execution_count": 62,
     "metadata": {},
     "output_type": "execute_result"
    },
    {
     "data": {
      "image/png": "[encoded data removed]",
      "text/plain": [
       "<Figure size 432x288 with 1 Axes>"
      ]
     },
     "metadata": {
      "needs_background": "light"
     },
     "output_type": "display_data"
    }
   ],
   "source": [
    "df.plot(x='living_area', y='last_price', kind='scatter', alpha=0.09) "
   ]
  },
  {
   "cell_type": "code",
   "execution_count": 63,
   "metadata": {},
   "outputs": [
    {
     "name": "stdout",
     "output_type": "stream",
     "text": [
      "0.5463394711044197\n"
     ]
    }
   ],
   "source": [
    "print(df['living_area'].corr(df['last_price']))"
   ]
  },
  {
   "cell_type": "code",
   "execution_count": 64,
   "metadata": {},
   "outputs": [
    {
     "data": {
      "text/html": [
       "<div>\n",
       "<style scoped>\n",
       "    .dataframe tbody tr th:only-of-type {\n",
       "        vertical-align: middle;\n",
       "    }\n",
       "\n",
       "    .dataframe tbody tr th {\n",
       "        vertical-align: top;\n",
       "    }\n",
       "\n",
       "    .dataframe thead th {\n",
       "        text-align: right;\n",
       "    }\n",
       "</style>\n",
       "<table border=\"1\" class=\"dataframe\">\n",
       "  <thead>\n",
       "    <tr style=\"text-align: right;\">\n",
       "      <th></th>\n",
       "      <th>last_price</th>\n",
       "    </tr>\n",
       "    <tr>\n",
       "      <th>kitchen_area</th>\n",
       "      <th></th>\n",
       "    </tr>\n",
       "  </thead>\n",
       "  <tbody>\n",
       "    <tr>\n",
       "      <th>5.00</th>\n",
       "      <td>3.610414e+06</td>\n",
       "    </tr>\n",
       "    <tr>\n",
       "      <th>5.02</th>\n",
       "      <td>1.350000e+07</td>\n",
       "    </tr>\n",
       "    <tr>\n",
       "      <th>5.04</th>\n",
       "      <td>3.900000e+06</td>\n",
       "    </tr>\n",
       "    <tr>\n",
       "      <th>5.06</th>\n",
       "      <td>3.400000e+06</td>\n",
       "    </tr>\n",
       "    <tr>\n",
       "      <th>5.10</th>\n",
       "      <td>4.084242e+06</td>\n",
       "    </tr>\n",
       "    <tr>\n",
       "      <th>...</th>\n",
       "      <td>...</td>\n",
       "    </tr>\n",
       "    <tr>\n",
       "      <th>24.60</th>\n",
       "      <td>1.170000e+07</td>\n",
       "    </tr>\n",
       "    <tr>\n",
       "      <th>24.70</th>\n",
       "      <td>1.458333e+07</td>\n",
       "    </tr>\n",
       "    <tr>\n",
       "      <th>24.80</th>\n",
       "      <td>1.078800e+07</td>\n",
       "    </tr>\n",
       "    <tr>\n",
       "      <th>24.89</th>\n",
       "      <td>8.055000e+06</td>\n",
       "    </tr>\n",
       "    <tr>\n",
       "      <th>24.90</th>\n",
       "      <td>9.753380e+06</td>\n",
       "    </tr>\n",
       "  </tbody>\n",
       "</table>\n",
       "<p>721 rows × 1 columns</p>\n",
       "</div>"
      ],
      "text/plain": [
       "                last_price\n",
       "kitchen_area              \n",
       "5.00          3.610414e+06\n",
       "5.02          1.350000e+07\n",
       "5.04          3.900000e+06\n",
       "5.06          3.400000e+06\n",
       "5.10          4.084242e+06\n",
       "...                    ...\n",
       "24.60         1.170000e+07\n",
       "24.70         1.458333e+07\n",
       "24.80         1.078800e+07\n",
       "24.89         8.055000e+06\n",
       "24.90         9.753380e+06\n",
       "\n",
       "[721 rows x 1 columns]"
      ]
     },
     "execution_count": 64,
     "metadata": {},
     "output_type": "execute_result"
    }
   ],
   "source": [
    "df.pivot_table(index='kitchen_area', values='last_price', aggfunc='mean')"
   ]
  },
  {
   "cell_type": "code",
   "execution_count": 65,
   "metadata": {
    "scrolled": true
   },
   "outputs": [
    {
     "data": {
      "text/plain": [
       "<AxesSubplot:xlabel='kitchen_area', ylabel='last_price'>"
      ]
     },
     "execution_count": 65,
     "metadata": {},
     "output_type": "execute_result"
    },
    {
     "data": {
      "image/png": "[encoded data removed]",
      "text/plain": [
       "<Figure size 432x288 with 1 Axes>"
      ]
     },
     "metadata": {
      "needs_background": "light"
     },
     "output_type": "display_data"
    }
   ],
   "source": [
    "df.plot(x='kitchen_area', y='last_price', kind='scatter', alpha=0.09) "
   ]
  },
  {
   "cell_type": "markdown",
   "metadata": {},
   "source": [
    "*Так как мы хотим численно оценить взаимосвязь то следует применить коэффициента корреляции пирсона*"
   ]
  },
  {
   "cell_type": "code",
   "execution_count": 66,
   "metadata": {},
   "outputs": [
    {
     "name": "stdout",
     "output_type": "stream",
     "text": [
      "0.4651134018589517\n"
     ]
    }
   ],
   "source": [
    "print(df['kitchen_area'].corr(df['last_price']))"
   ]
  },
  {
   "cell_type": "markdown",
   "metadata": {},
   "source": [
    "*Видим, что значение приближается к 0.5 - что говорит нам о том, что коэффициент корреляции Пирсона — положительный, и потому  рост одной величины, связан с ростом у другой (второй)*"
   ]
  },
  {
   "cell_type": "code",
   "execution_count": 67,
   "metadata": {},
   "outputs": [
    {
     "data": {
      "text/html": [
       "<div>\n",
       "<style scoped>\n",
       "    .dataframe tbody tr th:only-of-type {\n",
       "        vertical-align: middle;\n",
       "    }\n",
       "\n",
       "    .dataframe tbody tr th {\n",
       "        vertical-align: top;\n",
       "    }\n",
       "\n",
       "    .dataframe thead th {\n",
       "        text-align: right;\n",
       "    }\n",
       "</style>\n",
       "<table border=\"1\" class=\"dataframe\">\n",
       "  <thead>\n",
       "    <tr style=\"text-align: right;\">\n",
       "      <th></th>\n",
       "      <th>last_price</th>\n",
       "    </tr>\n",
       "    <tr>\n",
       "      <th>rooms</th>\n",
       "      <th></th>\n",
       "    </tr>\n",
       "  </thead>\n",
       "  <tbody>\n",
       "    <tr>\n",
       "      <th>1</th>\n",
       "      <td>3.806982e+06</td>\n",
       "    </tr>\n",
       "    <tr>\n",
       "      <th>2</th>\n",
       "      <td>5.369542e+06</td>\n",
       "    </tr>\n",
       "    <tr>\n",
       "      <th>3</th>\n",
       "      <td>7.361314e+06</td>\n",
       "    </tr>\n",
       "  </tbody>\n",
       "</table>\n",
       "</div>"
      ],
      "text/plain": [
       "         last_price\n",
       "rooms              \n",
       "1      3.806982e+06\n",
       "2      5.369542e+06\n",
       "3      7.361314e+06"
      ]
     },
     "execution_count": 67,
     "metadata": {},
     "output_type": "execute_result"
    }
   ],
   "source": [
    "df.pivot_table(index='rooms', values='last_price', aggfunc='mean') "
   ]
  },
  {
   "cell_type": "code",
   "execution_count": 68,
   "metadata": {},
   "outputs": [
    {
     "data": {
      "image/png": "[encoded data removed]",
      "text/plain": [
       "<Figure size 432x288 with 1 Axes>"
      ]
     },
     "metadata": {
      "needs_background": "light"
     },
     "output_type": "display_data"
    }
   ],
   "source": [
    "# df.plot(x='rooms', y='last_price', kind='scatter')\n",
    "df.pivot_table(index='rooms', values='last_price', aggfunc='mean').plot.bar()\n",
    "plt.show()"
   ]
  },
  {
   "cell_type": "code",
   "execution_count": 69,
   "metadata": {},
   "outputs": [
    {
     "data": {
      "text/html": [
       "<div>\n",
       "<style scoped>\n",
       "    .dataframe tbody tr th:only-of-type {\n",
       "        vertical-align: middle;\n",
       "    }\n",
       "\n",
       "    .dataframe tbody tr th {\n",
       "        vertical-align: top;\n",
       "    }\n",
       "\n",
       "    .dataframe thead th {\n",
       "        text-align: right;\n",
       "    }\n",
       "</style>\n",
       "<table border=\"1\" class=\"dataframe\">\n",
       "  <thead>\n",
       "    <tr style=\"text-align: right;\">\n",
       "      <th></th>\n",
       "      <th>last_price</th>\n",
       "    </tr>\n",
       "    <tr>\n",
       "      <th>type_floor</th>\n",
       "      <th></th>\n",
       "    </tr>\n",
       "  </thead>\n",
       "  <tbody>\n",
       "    <tr>\n",
       "      <th>другой</th>\n",
       "      <td>5.546752e+06</td>\n",
       "    </tr>\n",
       "    <tr>\n",
       "      <th>первый</th>\n",
       "      <td>4.206427e+06</td>\n",
       "    </tr>\n",
       "    <tr>\n",
       "      <th>последний</th>\n",
       "      <td>4.817311e+06</td>\n",
       "    </tr>\n",
       "  </tbody>\n",
       "</table>\n",
       "</div>"
      ],
      "text/plain": [
       "              last_price\n",
       "type_floor              \n",
       "другой      5.546752e+06\n",
       "первый      4.206427e+06\n",
       "последний   4.817311e+06"
      ]
     },
     "execution_count": 69,
     "metadata": {},
     "output_type": "execute_result"
    }
   ],
   "source": [
    "df.pivot_table(index='type_floor', values='last_price', aggfunc='mean') "
   ]
  },
  {
   "cell_type": "code",
   "execution_count": 70,
   "metadata": {},
   "outputs": [
    {
     "data": {
      "image/png": "[encoded data removed]",
      "text/plain": [
       "<Figure size 432x288 with 1 Axes>"
      ]
     },
     "metadata": {
      "needs_background": "light"
     },
     "output_type": "display_data"
    }
   ],
   "source": [
    "# df.plot(x='type_floor', y='last_price', kind='scatter') \n",
    "#v = df.pivot_table(index='type_floor', values='last_price', aggfunc='mean') \n",
    "df.pivot_table(index='type_floor', values='last_price', aggfunc='mean').plot.bar()\n",
    "plt.show()"
   ]
  },
  {
   "cell_type": "code",
   "execution_count": 71,
   "metadata": {},
   "outputs": [
    {
     "data": {
      "text/html": [
       "<div>\n",
       "<style scoped>\n",
       "    .dataframe tbody tr th:only-of-type {\n",
       "        vertical-align: middle;\n",
       "    }\n",
       "\n",
       "    .dataframe tbody tr th {\n",
       "        vertical-align: top;\n",
       "    }\n",
       "\n",
       "    .dataframe thead th {\n",
       "        text-align: right;\n",
       "    }\n",
       "</style>\n",
       "<table border=\"1\" class=\"dataframe\">\n",
       "  <thead>\n",
       "    <tr style=\"text-align: right;\">\n",
       "      <th></th>\n",
       "      <th>last_price</th>\n",
       "    </tr>\n",
       "    <tr>\n",
       "      <th>day_week_publication</th>\n",
       "      <th></th>\n",
       "    </tr>\n",
       "  </thead>\n",
       "  <tbody>\n",
       "    <tr>\n",
       "      <th>0</th>\n",
       "      <td>5.272999e+06</td>\n",
       "    </tr>\n",
       "    <tr>\n",
       "      <th>1</th>\n",
       "      <td>5.361519e+06</td>\n",
       "    </tr>\n",
       "    <tr>\n",
       "      <th>2</th>\n",
       "      <td>5.293094e+06</td>\n",
       "    </tr>\n",
       "    <tr>\n",
       "      <th>3</th>\n",
       "      <td>5.376623e+06</td>\n",
       "    </tr>\n",
       "    <tr>\n",
       "      <th>4</th>\n",
       "      <td>5.198890e+06</td>\n",
       "    </tr>\n",
       "    <tr>\n",
       "      <th>5</th>\n",
       "      <td>5.162903e+06</td>\n",
       "    </tr>\n",
       "    <tr>\n",
       "      <th>6</th>\n",
       "      <td>5.135271e+06</td>\n",
       "    </tr>\n",
       "  </tbody>\n",
       "</table>\n",
       "</div>"
      ],
      "text/plain": [
       "                        last_price\n",
       "day_week_publication              \n",
       "0                     5.272999e+06\n",
       "1                     5.361519e+06\n",
       "2                     5.293094e+06\n",
       "3                     5.376623e+06\n",
       "4                     5.198890e+06\n",
       "5                     5.162903e+06\n",
       "6                     5.135271e+06"
      ]
     },
     "execution_count": 71,
     "metadata": {},
     "output_type": "execute_result"
    }
   ],
   "source": [
    "df.pivot_table(index='day_week_publication', values='last_price', aggfunc='mean') "
   ]
  },
  {
   "cell_type": "code",
   "execution_count": 72,
   "metadata": {},
   "outputs": [
    {
     "data": {
      "image/png": "[encoded data removed]",
      "text/plain": [
       "<Figure size 432x288 with 1 Axes>"
      ]
     },
     "metadata": {
      "needs_background": "light"
     },
     "output_type": "display_data"
    }
   ],
   "source": [
    "# df.plot(x='day_week_publication', y='last_price', kind='scatter') \n",
    "df.pivot_table(index='day_week_publication', values='last_price', aggfunc='mean').plot.bar()\n",
    "plt.show()"
   ]
  },
  {
   "cell_type": "code",
   "execution_count": 73,
   "metadata": {},
   "outputs": [
    {
     "data": {
      "text/html": [
       "<div>\n",
       "<style scoped>\n",
       "    .dataframe tbody tr th:only-of-type {\n",
       "        vertical-align: middle;\n",
       "    }\n",
       "\n",
       "    .dataframe tbody tr th {\n",
       "        vertical-align: top;\n",
       "    }\n",
       "\n",
       "    .dataframe thead th {\n",
       "        text-align: right;\n",
       "    }\n",
       "</style>\n",
       "<table border=\"1\" class=\"dataframe\">\n",
       "  <thead>\n",
       "    <tr style=\"text-align: right;\">\n",
       "      <th></th>\n",
       "      <th>last_price</th>\n",
       "    </tr>\n",
       "    <tr>\n",
       "      <th>month_publication</th>\n",
       "      <th></th>\n",
       "    </tr>\n",
       "  </thead>\n",
       "  <tbody>\n",
       "    <tr>\n",
       "      <th>1</th>\n",
       "      <td>5.357226e+06</td>\n",
       "    </tr>\n",
       "    <tr>\n",
       "      <th>2</th>\n",
       "      <td>5.181449e+06</td>\n",
       "    </tr>\n",
       "    <tr>\n",
       "      <th>3</th>\n",
       "      <td>5.225414e+06</td>\n",
       "    </tr>\n",
       "    <tr>\n",
       "      <th>4</th>\n",
       "      <td>5.374149e+06</td>\n",
       "    </tr>\n",
       "    <tr>\n",
       "      <th>5</th>\n",
       "      <td>5.108058e+06</td>\n",
       "    </tr>\n",
       "    <tr>\n",
       "      <th>6</th>\n",
       "      <td>5.187300e+06</td>\n",
       "    </tr>\n",
       "    <tr>\n",
       "      <th>7</th>\n",
       "      <td>5.237364e+06</td>\n",
       "    </tr>\n",
       "    <tr>\n",
       "      <th>8</th>\n",
       "      <td>5.523870e+06</td>\n",
       "    </tr>\n",
       "    <tr>\n",
       "      <th>9</th>\n",
       "      <td>5.318719e+06</td>\n",
       "    </tr>\n",
       "    <tr>\n",
       "      <th>10</th>\n",
       "      <td>5.140104e+06</td>\n",
       "    </tr>\n",
       "    <tr>\n",
       "      <th>11</th>\n",
       "      <td>5.236061e+06</td>\n",
       "    </tr>\n",
       "    <tr>\n",
       "      <th>12</th>\n",
       "      <td>5.519960e+06</td>\n",
       "    </tr>\n",
       "  </tbody>\n",
       "</table>\n",
       "</div>"
      ],
      "text/plain": [
       "                     last_price\n",
       "month_publication              \n",
       "1                  5.357226e+06\n",
       "2                  5.181449e+06\n",
       "3                  5.225414e+06\n",
       "4                  5.374149e+06\n",
       "5                  5.108058e+06\n",
       "6                  5.187300e+06\n",
       "7                  5.237364e+06\n",
       "8                  5.523870e+06\n",
       "9                  5.318719e+06\n",
       "10                 5.140104e+06\n",
       "11                 5.236061e+06\n",
       "12                 5.519960e+06"
      ]
     },
     "execution_count": 73,
     "metadata": {},
     "output_type": "execute_result"
    }
   ],
   "source": [
    "df.pivot_table(index='month_publication', values='last_price', aggfunc='mean')"
   ]
  },
  {
   "cell_type": "code",
   "execution_count": 74,
   "metadata": {},
   "outputs": [
    {
     "data": {
      "image/png": "[encoded data removed]",
      "text/plain": [
       "<Figure size 432x288 with 1 Axes>"
      ]
     },
     "metadata": {
      "needs_background": "light"
     },
     "output_type": "display_data"
    }
   ],
   "source": [
    "# df.plot(x='month_publication', y='last_price', kind='scatter') \n",
    "df.pivot_table(index='month_publication', values='last_price', aggfunc='mean').plot.bar()\n",
    "plt.show()"
   ]
  },
  {
   "cell_type": "code",
   "execution_count": 75,
   "metadata": {},
   "outputs": [
    {
     "data": {
      "text/html": [
       "<div>\n",
       "<style scoped>\n",
       "    .dataframe tbody tr th:only-of-type {\n",
       "        vertical-align: middle;\n",
       "    }\n",
       "\n",
       "    .dataframe tbody tr th {\n",
       "        vertical-align: top;\n",
       "    }\n",
       "\n",
       "    .dataframe thead th {\n",
       "        text-align: right;\n",
       "    }\n",
       "</style>\n",
       "<table border=\"1\" class=\"dataframe\">\n",
       "  <thead>\n",
       "    <tr style=\"text-align: right;\">\n",
       "      <th></th>\n",
       "      <th>last_price</th>\n",
       "    </tr>\n",
       "    <tr>\n",
       "      <th>year_publication</th>\n",
       "      <th></th>\n",
       "    </tr>\n",
       "  </thead>\n",
       "  <tbody>\n",
       "    <tr>\n",
       "      <th>2014</th>\n",
       "      <td>8.946356e+06</td>\n",
       "    </tr>\n",
       "    <tr>\n",
       "      <th>2015</th>\n",
       "      <td>6.014123e+06</td>\n",
       "    </tr>\n",
       "    <tr>\n",
       "      <th>2016</th>\n",
       "      <td>5.299655e+06</td>\n",
       "    </tr>\n",
       "    <tr>\n",
       "      <th>2017</th>\n",
       "      <td>5.165336e+06</td>\n",
       "    </tr>\n",
       "    <tr>\n",
       "      <th>2018</th>\n",
       "      <td>5.131789e+06</td>\n",
       "    </tr>\n",
       "    <tr>\n",
       "      <th>2019</th>\n",
       "      <td>5.597921e+06</td>\n",
       "    </tr>\n",
       "  </tbody>\n",
       "</table>\n",
       "</div>"
      ],
      "text/plain": [
       "                    last_price\n",
       "year_publication              \n",
       "2014              8.946356e+06\n",
       "2015              6.014123e+06\n",
       "2016              5.299655e+06\n",
       "2017              5.165336e+06\n",
       "2018              5.131789e+06\n",
       "2019              5.597921e+06"
      ]
     },
     "execution_count": 75,
     "metadata": {},
     "output_type": "execute_result"
    }
   ],
   "source": [
    "df.pivot_table(index='year_publication', values='last_price', aggfunc='mean') "
   ]
  },
  {
   "cell_type": "code",
   "execution_count": 76,
   "metadata": {},
   "outputs": [
    {
     "data": {
      "image/png": "[encoded data removed]",
      "text/plain": [
       "<Figure size 432x288 with 1 Axes>"
      ]
     },
     "metadata": {
      "needs_background": "light"
     },
     "output_type": "display_data"
    }
   ],
   "source": [
    "# df.plot(x='year_publication', y='last_price', kind='scatter') \n",
    "df.pivot_table(index='year_publication', values='last_price', aggfunc='mean').plot.bar()\n",
    "plt.show()"
   ]
  },
  {
   "cell_type": "markdown",
   "metadata": {},
   "source": [
    "**Выводы по факторам большего влияния на общую (полную) стоимость объекта:**"
   ]
  },
  {
   "cell_type": "markdown",
   "metadata": {},
   "source": [
    "*Исходя из исследовательского анализа данных - выявили то, что есть зависимость от соттвествующих параметров: общей площади; жилой площади;площади кухни;количества комнат; этажа, на котором расположена квартира (первый, последний, другой);\n",
    "даты размещения (день недели, месяц, год) - от цены, поскольку в графическом представление наблюдалось то, что есть легкая восходящая тенденция у данных (смещение от изначального к более вышем)*"
   ]
  },
  {
   "cell_type": "markdown",
   "metadata": {},
   "source": [
    "**Посчитаем среднюю цену одного квадратного метра в 10 населённых пунктах с наибольшим числом объявлений. Выделим населённые пункты с самой высокой и низкой стоимостью квадратного метра. Эти данные можно найти по имени в столбце locality_name**"
   ]
  },
  {
   "cell_type": "code",
   "execution_count": 77,
   "metadata": {},
   "outputs": [
    {
     "name": "stdout",
     "output_type": "stream",
     "text": [
      "locality_name\n",
      "Санкт-Петербург      13402\n",
      "посёлок Мурино         507\n",
      "посёлок Шушары         414\n",
      "Всеволожск             363\n",
      "Пушкин                 326\n",
      "посёлок Парголово      320\n",
      "Колпино                303\n",
      "Гатчина                284\n",
      "деревня Кудрово        275\n",
      "Выборг                 213\n",
      "Name: days_exposition, dtype: int64\n"
     ]
    }
   ],
   "source": [
    "print(df.groupby('locality_name')['days_exposition'].count().sort_values(ascending=False).head(10))"
   ]
  },
  {
   "cell_type": "code",
   "execution_count": 78,
   "metadata": {},
   "outputs": [
    {
     "name": "stdout",
     "output_type": "stream",
     "text": [
      "111422.37099252034\n",
      "85097.5009947861\n",
      "78548.66998317164\n",
      "68799.43389821278\n",
      "102099.7567576284\n",
      "75919.41967801396\n",
      "90613.49580663376\n",
      "68450.68162712015\n",
      "92750.46727273255\n",
      "58384.01566445875\n"
     ]
    }
   ],
   "source": [
    "print(df.loc[df['locality_name'] == 'Санкт-Петербург']['price_one_square'].mean())\n",
    "print(df.loc[df['locality_name'] == 'посёлок Мурино']['price_one_square'].mean())\n",
    "print(df.loc[df['locality_name'] == 'посёлок Шушары']['price_one_square'].mean())\n",
    "print(df.loc[df['locality_name'] == 'Всеволожск']['price_one_square'].mean())\n",
    "print(df.loc[df['locality_name'] == 'Пушкин']['price_one_square'].mean())\n",
    "print(df.loc[df['locality_name'] == 'Колпино']['price_one_square'].mean())\n",
    "print(df.loc[df['locality_name'] == 'посёлок Парголово']['price_one_square'].mean())\n",
    "print(df.loc[df['locality_name'] == 'Гатчина']['price_one_square'].mean())\n",
    "print(df.loc[df['locality_name'] == 'деревня Кудрово']['price_one_square'].mean())\n",
    "print(df.loc[df['locality_name'] == 'Выборг']['price_one_square'].mean())"
   ]
  },
  {
   "cell_type": "code",
   "execution_count": 79,
   "metadata": {},
   "outputs": [
    {
     "data": {
      "image/png": "[encoded data removed]",
      "text/plain": [
       "<Figure size 432x288 with 1 Axes>"
      ]
     },
     "metadata": {
      "needs_background": "light"
     },
     "output_type": "display_data"
    }
   ],
   "source": [
    "df.loc[df['locality_name'] == 'Санкт-Петербург']['price_one_square'].plot(kind=\"box\")\n",
    "plt.show()"
   ]
  },
  {
   "cell_type": "code",
   "execution_count": 80,
   "metadata": {},
   "outputs": [
    {
     "data": {
      "image/png": "[encoded data removed]",
      "text/plain": [
       "<Figure size 432x288 with 1 Axes>"
      ]
     },
     "metadata": {
      "needs_background": "light"
     },
     "output_type": "display_data"
    }
   ],
   "source": [
    "df.loc[df['locality_name'] == 'посёлок Мурино' ]['price_one_square'].plot(kind=\"box\")\n",
    "plt.show()"
   ]
  },
  {
   "cell_type": "code",
   "execution_count": 81,
   "metadata": {},
   "outputs": [
    {
     "data": {
      "image/png": "[encoded data removed]",
      "text/plain": [
       "<Figure size 432x288 with 1 Axes>"
      ]
     },
     "metadata": {
      "needs_background": "light"
     },
     "output_type": "display_data"
    }
   ],
   "source": [
    "df.loc[df['locality_name'] == 'посёлок Шушары']['price_one_square'].plot(kind=\"box\")\n",
    "plt.show()"
   ]
  },
  {
   "cell_type": "code",
   "execution_count": 82,
   "metadata": {},
   "outputs": [
    {
     "data": {
      "image/png": "[encoded data removed]",
      "text/plain": [
       "<Figure size 432x288 with 1 Axes>"
      ]
     },
     "metadata": {
      "needs_background": "light"
     },
     "output_type": "display_data"
    }
   ],
   "source": [
    "df.loc[df['locality_name'] == 'Всеволожск']['price_one_square'].plot(kind=\"box\")\n",
    "plt.show()"
   ]
  },
  {
   "cell_type": "code",
   "execution_count": 83,
   "metadata": {},
   "outputs": [
    {
     "data": {
      "image/png": "[encoded data removed]",
      "text/plain": [
       "<Figure size 432x288 with 1 Axes>"
      ]
     },
     "metadata": {
      "needs_background": "light"
     },
     "output_type": "display_data"
    }
   ],
   "source": [
    "df.loc[df['locality_name'] == 'Пушкин']['price_one_square'].plot(kind=\"box\")\n",
    "plt.show()"
   ]
  },
  {
   "cell_type": "code",
   "execution_count": 84,
   "metadata": {},
   "outputs": [
    {
     "data": {
      "image/png": "[encoded data removed]",
      "text/plain": [
       "<Figure size 432x288 with 1 Axes>"
      ]
     },
     "metadata": {
      "needs_background": "light"
     },
     "output_type": "display_data"
    }
   ],
   "source": [
    "df.loc[df['locality_name'] == 'Колпино']['price_one_square'].plot(kind=\"box\")\n",
    "plt.show()"
   ]
  },
  {
   "cell_type": "code",
   "execution_count": 85,
   "metadata": {},
   "outputs": [
    {
     "data": {
      "image/png": "[encoded data removed]",
      "text/plain": [
       "<Figure size 432x288 with 1 Axes>"
      ]
     },
     "metadata": {
      "needs_background": "light"
     },
     "output_type": "display_data"
    }
   ],
   "source": [
    "df.loc[df['locality_name'] == 'посёлок Парголово']['price_one_square'].plot(kind=\"box\")\n",
    "plt.show()"
   ]
  },
  {
   "cell_type": "code",
   "execution_count": 86,
   "metadata": {},
   "outputs": [
    {
     "data": {
      "image/png": "[encoded data removed]",
      "text/plain": [
       "<Figure size 432x288 with 1 Axes>"
      ]
     },
     "metadata": {
      "needs_background": "light"
     },
     "output_type": "display_data"
    }
   ],
   "source": [
    "df.loc[df['locality_name'] == 'Гатчина']['price_one_square'].plot(kind=\"box\")\n",
    "plt.show()"
   ]
  },
  {
   "cell_type": "code",
   "execution_count": 87,
   "metadata": {},
   "outputs": [
    {
     "data": {
      "image/png": "[encoded data removed]",
      "text/plain": [
       "<Figure size 432x288 with 1 Axes>"
      ]
     },
     "metadata": {
      "needs_background": "light"
     },
     "output_type": "display_data"
    }
   ],
   "source": [
    "df.loc[df['locality_name'] ==  'деревня Кудрово']['price_one_square'].plot(kind=\"box\")\n",
    "plt.show()"
   ]
  },
  {
   "cell_type": "code",
   "execution_count": 88,
   "metadata": {},
   "outputs": [
    {
     "data": {
      "image/png": "[encoded data removed]",
      "text/plain": [
       "<Figure size 432x288 with 1 Axes>"
      ]
     },
     "metadata": {
      "needs_background": "light"
     },
     "output_type": "display_data"
    }
   ],
   "source": [
    "df.loc[df['locality_name'] == 'Выборг']['price_one_square'].plot(kind=\"box\")\n",
    "plt.show()"
   ]
  },
  {
   "cell_type": "code",
   "execution_count": 89,
   "metadata": {},
   "outputs": [
    {
     "data": {
      "image/png": "[encoded data removed]",
      "text/plain": [
       "<Figure size 432x288 with 1 Axes>"
      ]
     },
     "metadata": {
      "needs_background": "light"
     },
     "output_type": "display_data"
    }
   ],
   "source": [
    "d = {'locality_name': ['Санкт-Петербург', 'посёлок Мурино', 'посёлок Шушары', 'Всеволожск', 'Пушкин', 'Колпино', 'посёлок Парголово', 'Гатчина', 'деревня Кудрово', 'Выборг'], \n",
    "     'price_one_square': [110990.13169642058, 84962.56803863902, 78513.13920959676, 68512.79625123029, 101866.74125620359, 75237.5455126228, 90448.42380591163,  68622.35671362601, 92750.46727273255, 58092.49722907467]}\n",
    "data_frame = pd.DataFrame(data=d)\n",
    "data_frame.plot(x='locality_name', y='price_one_square', kind='bar')\n",
    "plt.show()"
   ]
  },
  {
   "cell_type": "markdown",
   "metadata": {},
   "source": [
    "**Пункты с самой высокой стоимостью квадратного метра в 10 населённых пунктах с наибольшим числом объявлений.**: *'Санкт-Петербург'; 'Пушкин'; 'деревня Кудрово'; 'посёлок Парголово'; 'посёлок Мурино'*\n",
    "\n",
    "**Пункты с самой низкой стоимостью квадратного метра в 10 населённых пунктах с наибольшим числом объявлений.:** *'посёлок Шушары'; 'Колпино'; 'Гатчина'; 'Всеволожск'; 'Выборг';*"
   ]
  },
  {
   "cell_type": "markdown",
   "metadata": {},
   "source": [
    "**Ранее мы посчитали расстояние до центра в километрах. Теперь выделим квартиры в Санкт-Петербурге с помощью столбца locality_name и вычислим среднюю цену каждого километра. Опишем, как стоимость объектов зависит от расстояния до центра города.**"
   ]
  },
  {
   "cell_type": "code",
   "execution_count": 90,
   "metadata": {
    "scrolled": true
   },
   "outputs": [
    {
     "data": {
      "text/html": [
       "<div>\n",
       "<style scoped>\n",
       "    .dataframe tbody tr th:only-of-type {\n",
       "        vertical-align: middle;\n",
       "    }\n",
       "\n",
       "    .dataframe tbody tr th {\n",
       "        vertical-align: top;\n",
       "    }\n",
       "\n",
       "    .dataframe thead th {\n",
       "        text-align: right;\n",
       "    }\n",
       "</style>\n",
       "<table border=\"1\" class=\"dataframe\">\n",
       "  <thead>\n",
       "    <tr style=\"text-align: right;\">\n",
       "      <th></th>\n",
       "      <th>price_one_square</th>\n",
       "    </tr>\n",
       "    <tr>\n",
       "      <th>center_km</th>\n",
       "      <th></th>\n",
       "    </tr>\n",
       "  </thead>\n",
       "  <tbody>\n",
       "    <tr>\n",
       "      <th>0.208</th>\n",
       "      <td>172619.047619</td>\n",
       "    </tr>\n",
       "    <tr>\n",
       "      <th>0.215</th>\n",
       "      <td>109900.000000</td>\n",
       "    </tr>\n",
       "    <tr>\n",
       "      <th>0.287</th>\n",
       "      <td>88796.296296</td>\n",
       "    </tr>\n",
       "    <tr>\n",
       "      <th>0.291</th>\n",
       "      <td>101321.585903</td>\n",
       "    </tr>\n",
       "    <tr>\n",
       "      <th>0.318</th>\n",
       "      <td>413216.389110</td>\n",
       "    </tr>\n",
       "    <tr>\n",
       "      <th>...</th>\n",
       "      <td>...</td>\n",
       "    </tr>\n",
       "    <tr>\n",
       "      <th>28.644</th>\n",
       "      <td>85191.334598</td>\n",
       "    </tr>\n",
       "    <tr>\n",
       "      <th>28.806</th>\n",
       "      <td>79890.310786</td>\n",
       "    </tr>\n",
       "    <tr>\n",
       "      <th>29.263</th>\n",
       "      <td>56526.806527</td>\n",
       "    </tr>\n",
       "    <tr>\n",
       "      <th>29.343</th>\n",
       "      <td>73943.661972</td>\n",
       "    </tr>\n",
       "    <tr>\n",
       "      <th>29.493</th>\n",
       "      <td>56976.744186</td>\n",
       "    </tr>\n",
       "  </tbody>\n",
       "</table>\n",
       "<p>5633 rows × 1 columns</p>\n",
       "</div>"
      ],
      "text/plain": [
       "           price_one_square\n",
       "center_km                  \n",
       "0.208         172619.047619\n",
       "0.215         109900.000000\n",
       "0.287          88796.296296\n",
       "0.291         101321.585903\n",
       "0.318         413216.389110\n",
       "...                     ...\n",
       "28.644         85191.334598\n",
       "28.806         79890.310786\n",
       "29.263         56526.806527\n",
       "29.343         73943.661972\n",
       "29.493         56976.744186\n",
       "\n",
       "[5633 rows x 1 columns]"
      ]
     },
     "execution_count": 90,
     "metadata": {},
     "output_type": "execute_result"
    }
   ],
   "source": [
    "v = df.query('locality_name == \"Санкт-Петербург\"')\n",
    "v.pivot_table(index='center_km',values='price_one_square',aggfunc='mean')"
   ]
  },
  {
   "cell_type": "code",
   "execution_count": 91,
   "metadata": {},
   "outputs": [
    {
     "data": {
      "image/png": "[encoded data removed]",
      "text/plain": [
       "<Figure size 864x360 with 1 Axes>"
      ]
     },
     "metadata": {
      "needs_background": "light"
     },
     "output_type": "display_data"
    }
   ],
   "source": [
    "# v.pivot_table(index='center_km',values='price_one_square',aggfunc='mean').hist(range=(0, 200000))\n",
    "# plt.show()\n",
    "df.query('locality_name == \"Санкт-Петербург\"').pivot_table(index='center_km', values='price_one_square', aggfunc='median').plot(grid=True, style='o', figsize=(12, 5), alpha=0.2)\n",
    "plt.show()"
   ]
  },
  {
   "cell_type": "markdown",
   "metadata": {},
   "source": [
    "**Итог:**\n",
    "\n",
    "*Cтоимость объектов зависит от расстояния до центра города - чем ближе, тем цена больше. Можно увидить, как разнятся данные,и чем меньше до центра города, тем более высока средняя цена. Что вполне соотвествует реальной картине мира и потому расчет верен.*"
   ]
  },
  {
   "cell_type": "markdown",
   "metadata": {},
   "source": [
    "# Общий вывод\n",
    "\n",
    "# Наша задача в данном иследовательском проекте состоялось в том, чтобы выполнить предобработку данных и изучить их, тем самым найдя интересные особенности и зависимости, которые существуют на рынке недвижимости.\n",
    "\n",
    "*Первое, что следовало бы сделать - это оценить потери, которые мы имеем.*\n",
    "\n",
    "* Нам известно о том, что данные были получены с помощью:\n",
    "     * 1. Добавленния пользователем; \n",
    "     * 2. Картографическим способом получения;\n",
    "     \n",
    "*Что говорит и сведетельствует нам о том, что возможными причинами появления пропусков является человеческий фактор и ошибка системы при считывании данных.*\n",
    "\n",
    "* Потому нам следовало заполнить пропуски двумя способами: \n",
    "    *  1. Произвести замену на '0'; \n",
    "    *  2. Произвести замену пропусков медианным значением; \n",
    "   \n",
    "*Замена производится по обоим способам с помощью метода fillna*\n",
    "\n",
    "* Столбцы, которые мы выбрали для соотвествующей замены 1 способа: \n",
    "    * 1. 'balcony';\n",
    "    * 2. 'parks_around3000'; \n",
    "    * 3. 'ponds_around3000'; \n",
    "    \n",
    "*Это связано с тем, что раз пропуски находятся в данных столбцах, то это говорит о том, что скорее всего там отсутсвие значения.*\n",
    "\n",
    "* Столбцы, которые мы выбрали для соотвествующей замены 2 способа: \n",
    "    * 1. 'floors_total;\n",
    "    * 2. 'days_exposition'; \n",
    "\n",
    "*Замена пропусков была необходима по той причине, что был указан не корретный тип данных, и эти столбцы нам важны для иследования, и потому пропуски было необходимо устранить, чтобы в дальнейшем присвоить им новый тип с помощью метода: astype*\n",
    "\n",
    "*После нам необходимо было избавится от аномалий и неявных дубликатов*\n",
    "\n",
    "*Неявные дубликаты были обнаружены в столбце 'locality_name', где ошибка связана с тем, что имеется верная запись в двух вариациях: 'поселок' и 'посёлок'. Потому создали отдельно функцию и с помощью метода apply успешно применили нужное преобразование - но перед этим мы избавились от пропущенных значений заменив их на 'unknown'*\n",
    "\n",
    "* Аномалии мы обнаружили в соотвествующих столбцах:\n",
    "    * 1. 'rooms';\n",
    "    * 2. 'kitchen_area';\n",
    "    * 3. 'balcony'; \n",
    "    * 4. 'celing_height';\n",
    "    * 5. 'total_area'; \n",
    "    * 6. 'airport_nearest'; \n",
    "    \n",
    "*Применив к столбцам метод unique() и увидев уникальные значения, которые явно по своей природе там не могли быть, - мы отбросили ту часть выбросов, которая не превышает 10%*\n",
    "\n",
    "*Также по ходу исследования мы добавили новые столбцы, такие как стоимость 1 квадратного метра, день, месяц, год объявления и тип объявления*\n",
    "\n",
    "\n",
    "**В ходе иследования мы проверили исследовательский анализ факторов и признаков, которое отражаются следующим образом:**\n",
    "\n",
    "*Вывод по общей площади:*\n",
    "\n",
    "   * Наибольшие - наименьшие значения соотвественно равны 150 и 12 (в кв.метрах)\n",
    "\n",
    "   * Наиболее часто встречаемые значения находятся в диапозоне от 40 до 51 (в кв.метрах)\n",
    "\n",
    "\n",
    "\n",
    "*Вывод по живой площади:*\n",
    "\n",
    "   * Наибольшие - наименьшие значения приходятся на 128 и 2 (кв. метров)\n",
    "\n",
    "   * Наиболее часто встречаемые значения находятся в диапозоне от 18 до 30 (кв. метров)\n",
    "\n",
    "\n",
    "*Вывод по площади кухни:*\n",
    "\n",
    "   * Наибольшие и наименьшие значения приходятся на 24.9 и 5 метров соотвественно\n",
    "\n",
    "   * Наиболее часто встречаемые значения находятся в диапозоне с 7 до 9 метров\n",
    "\n",
    "\n",
    "\n",
    "*Вывод по конечной цене объекта:*\n",
    "\n",
    "   * Поскольку достаточно большое значение у последней цены, то поэтому понимаем, что запись здесь находится в экспозиционной форме\n",
    "\n",
    "   * Наибольшие и наименьшие значения соотвественно равны 124 000 000 и 430 000 соотвественно\n",
    "\n",
    "\n",
    "\n",
    "*Вывод по количеству комнат в квартире:*\n",
    "\n",
    "   * Наибольшие и наименьшие значения равны 3 и 1 соотвественно\n",
    "\n",
    "\n",
    "*Вывод по высоте потолков в квартире:*\n",
    "\n",
    "   * Наибольшие и наименьшие значения соотвественно равны 4.8 и 2\n",
    "\n",
    "   * Наибольший диапозон лежит в 2.6 и 2.8\n",
    "\n",
    "\n",
    "\n",
    "*Вывод по этажу самой квартиры:*\n",
    "\n",
    "   * Наибольшие и наименьшие значения здесь у 33 и 1 соотвественно\n",
    "\n",
    "   * Наибоьший диапозон значений приходится на 2 до 4\n",
    "\n",
    "\n",
    "\n",
    "*Вывод по типу этажу самой квартиры:*\n",
    "\n",
    "   * Наибольшие значение находится у типа 'другой', - наименьшие у 'первый' и 'последний' соотвественно\n",
    "\n",
    "\n",
    "\n",
    "*Вывод по общему количеству этажей:*\n",
    "\n",
    "   * Наибольшие и наименьшие значения 60 и 1 соотвественно\n",
    " \n",
    "   * Наибольший диапозон в пределах от 1 до 5 соотвественно\n",
    "\n",
    "\n",
    "*Вывод по расстоянию до центра города в метрах:*\n",
    "\n",
    "   * Наибольшие и наименьшие значения здесь 65968 и 208 (метрах)\n",
    "\n",
    "   * Наибольший диапозон в пределах от 7000 до 13 000 (метрах) соотвественно\n",
    "\n",
    "\n",
    "*Вывод по расстоянию до ближайшего аэропорта в метрах:*\n",
    "\n",
    "   * Наибольшие и наименьшие значения принимают от 84869 и 6450 соотвественно\n",
    "\n",
    "   * Наибольший диапозон значений лежит в 1500 и 22000\n",
    "\n",
    "\n",
    "*Вывод по расстоянию до ближайшего парка:*\n",
    "\n",
    "   * Наибольшие и наименьшие значения соотвественно равны: 1344 и 13\n",
    "\n",
    "   * Наибольший диапозон значений лежит в 415 до 545\n",
    "\n",
    "\n",
    "*Также по ходу иследования мы выявили как проходит процесс продаж в днях обычно и какие именно продажи достаточно долгие* \n",
    "\n",
    "| Обычное время продажи (в днях)| Достаточное долгое время продажи (в днях)| \n",
    "| ----------------------------- | ---------------------------------------- | \n",
    "|            95                 |                   1500                   |    \n",
    "\n",
    "*После мы определяли: какие факторы больше всего влияют на общую (полную) стоимость объекта. Анализ проводился для количественных и категориальных данных*\n",
    "\n",
    "|  Фактор влияния | Коэффициент корреляции |\n",
    "| --------------- | ---------------------- | \n",
    "| Общая площадь   | 0.6764612536600828     |     \n",
    "| Живая площадь   | 0.5463394711044197     |     \n",
    "| Площадь кухни   | 0.4651134018589517     | \n",
    "\n",
    "*Тем самым видим, что **самым сильным фактором считается \"Общая площадь\"**, поскольку его значение наиболее приближенно к 1*\n",
    "\n",
    "\n",
    "Далее определяем факторы на влияние конечной цены:\n",
    "\n",
    "|Количество комнат| Конечная цена|\n",
    "| --------------- | ------------ | \n",
    "|       1         | 3 806 982    |     \n",
    "|       2         | 5 369 542    |     \n",
    "|       3         | 7 361 314    |     \n",
    "\n",
    "* Выявили, что **количество комнат влияет на конечную стоимость квартиры**\n",
    "\n",
    "|  Тип квартиры   | Конечная цена |\n",
    "| --------------- | ------------- | \n",
    "|     другой      | 5 546 752     |     \n",
    "|     первый      | 4 206 427     |     \n",
    "|    последний    | 4 817 311     |     \n",
    "\n",
    "* Также определили, что конечаня цена наибольшая у квартиры с типом 'другой', **влияние типа квартиры на цену - присутсвует**\n",
    "\n",
    "|Год публикации   | Конечная цена|\n",
    "| --------------- | ------------ | \n",
    "|    2014         | 8 946 356    |     \n",
    "|    2015         | 6 014 123    |     \n",
    "|    2016         | 5 299 655    |    \n",
    "|    2017         | 5 165 336    |\n",
    "|    2018         | 5 131 789    |    \n",
    "|    2019\t      | 5 597 921    |   \n",
    "\n",
    "* Наибольший год, который мог быть у квартиры: 2014 - тем самым определили то, что **конечная стоимость зависит от года**\n",
    "\n",
    "Чтобы понять, какая квартира могла быть потенциально самой дорогой мы могли поставить влияющие на стоимость параметры, которые мы по ходу работы выявили, например:\n",
    "\n",
    "| Общая площадь | Жилая площадь | Площадь кухни | Количество комнат | Этаж квартиры | Год размещения |\n",
    "| ------------- | ------------- | ------------- | ----------------- | ------------- | -------------- |\n",
    "|     150       |      128      |      24.9     |         5         |    другой     |       2014     |\n",
    "\n",
    " \n",
    "По ходу дальнейшего исследования определили стоимость квадратного метра в 10 населённых пунктах с наибольшим числом объявлений и их стоимость квадратного метра:\n",
    "\n",
    "| Название пункта | Количество объявлений |  Стоимость квадратного метра  | \n",
    "| -------------   | --------------------  | ----------------------------- | \n",
    "| Санкт-Петербург |      13402            |       111422.37099252034      |       \n",
    "|     Пушкин      |      507              |        85097.5009947861       |\n",
    "| деревня Кудрово |      414              |        78548.66998317164      |\n",
    "|посёлок Парголово|      363              |        68799.43389821278      |    \n",
    "| посёлок Мурино  |      326              |       102099.7567576284       |   \n",
    "| посёлок Шушары  |      320              |        75919.41967801396      |   \n",
    "|    Колпино      |      303              |        90613.49580663376      |   \n",
    "|    Гатчина      |      284              |        68450.68162712015      |   \n",
    "|   Всеволожск    |      275              |        92750.46727273255      |   \n",
    "|     Выборг      |      213              |        58384.01566445875      |   \n",
    "\n",
    "И выяснили также, - что **стоимость объектов зависит от расстояния до центра города** - чем ближе, тем цена больше. (Если рассматривается Санкт-Петербург)"
   ]
  },
  {
   "cell_type": "code",
   "execution_count": null,
   "metadata": {},
   "outputs": [],
   "source": []
  }
 ],
 "metadata": {
  "ExecuteTimeLog": [
   {
    "duration": 428,
    "start_time": "2022-07-28T10:21:53.056Z"
   },
   {
    "duration": 358,
    "start_time": "2022-07-28T10:21:55.146Z"
   },
   {
    "duration": 15,
    "start_time": "2022-07-28T10:22:04.340Z"
   },
   {
    "duration": 450,
    "start_time": "2022-07-28T10:23:02.309Z"
   },
   {
    "duration": 113,
    "start_time": "2022-07-28T10:24:33.486Z"
   },
   {
    "duration": 17,
    "start_time": "2022-07-28T10:24:35.118Z"
   },
   {
    "duration": 94,
    "start_time": "2022-07-28T10:24:42.367Z"
   },
   {
    "duration": 22,
    "start_time": "2022-07-28T10:24:44.100Z"
   },
   {
    "duration": 1990,
    "start_time": "2022-07-28T10:24:57.682Z"
   },
   {
    "duration": 425,
    "start_time": "2022-07-30T06:24:37.881Z"
   },
   {
    "duration": 295,
    "start_time": "2022-07-30T06:24:38.686Z"
   },
   {
    "duration": 16,
    "start_time": "2022-07-30T06:24:39.441Z"
   },
   {
    "duration": 2317,
    "start_time": "2022-07-30T06:24:40.176Z"
   },
   {
    "duration": 14,
    "start_time": "2022-07-30T06:24:58.813Z"
   },
   {
    "duration": 55,
    "start_time": "2022-07-30T06:59:48.389Z"
   },
   {
    "duration": 72,
    "start_time": "2022-07-30T07:00:11.619Z"
   },
   {
    "duration": 297,
    "start_time": "2022-07-30T07:00:16.051Z"
   },
   {
    "duration": 103,
    "start_time": "2022-07-30T07:00:19.856Z"
   },
   {
    "duration": 49,
    "start_time": "2022-07-30T07:06:44.574Z"
   },
   {
    "duration": 52,
    "start_time": "2022-07-30T07:10:38.317Z"
   },
   {
    "duration": 27,
    "start_time": "2022-07-30T07:11:23.295Z"
   },
   {
    "duration": 73,
    "start_time": "2022-07-30T07:11:32.470Z"
   },
   {
    "duration": 24,
    "start_time": "2022-07-30T07:11:40.138Z"
   },
   {
    "duration": 5,
    "start_time": "2022-07-30T07:22:01.359Z"
   },
   {
    "duration": 21,
    "start_time": "2022-07-30T07:22:13.898Z"
   },
   {
    "duration": 7,
    "start_time": "2022-07-30T07:22:38.917Z"
   },
   {
    "duration": 6,
    "start_time": "2022-07-30T07:22:59.356Z"
   },
   {
    "duration": 5,
    "start_time": "2022-07-30T07:23:36.138Z"
   },
   {
    "duration": 122,
    "start_time": "2022-07-30T07:25:42.425Z"
   },
   {
    "duration": 119,
    "start_time": "2022-07-30T07:25:55.972Z"
   },
   {
    "duration": 128,
    "start_time": "2022-07-30T07:26:00.062Z"
   },
   {
    "duration": 140,
    "start_time": "2022-07-30T07:26:02.920Z"
   },
   {
    "duration": 133,
    "start_time": "2022-07-30T07:26:06.060Z"
   },
   {
    "duration": 124,
    "start_time": "2022-07-30T07:26:09.423Z"
   },
   {
    "duration": 126,
    "start_time": "2022-07-30T07:26:20.015Z"
   },
   {
    "duration": 138,
    "start_time": "2022-07-30T07:26:23.024Z"
   },
   {
    "duration": 121,
    "start_time": "2022-07-30T07:26:25.073Z"
   },
   {
    "duration": 133,
    "start_time": "2022-07-30T07:26:26.924Z"
   },
   {
    "duration": 107,
    "start_time": "2022-07-30T07:26:36.857Z"
   },
   {
    "duration": 140,
    "start_time": "2022-07-30T07:26:39.030Z"
   },
   {
    "duration": 147,
    "start_time": "2022-07-30T07:26:41.187Z"
   },
   {
    "duration": 172,
    "start_time": "2022-07-30T07:26:42.793Z"
   },
   {
    "duration": 143,
    "start_time": "2022-07-30T07:26:44.444Z"
   },
   {
    "duration": 138,
    "start_time": "2022-07-30T07:26:58.974Z"
   },
   {
    "duration": 117,
    "start_time": "2022-07-30T07:30:54.022Z"
   },
   {
    "duration": 2,
    "start_time": "2022-07-30T07:35:49.957Z"
   },
   {
    "duration": 143,
    "start_time": "2022-07-30T07:36:32.796Z"
   },
   {
    "duration": 125,
    "start_time": "2022-07-30T07:36:41.842Z"
   },
   {
    "duration": 154,
    "start_time": "2022-07-30T07:36:44.592Z"
   },
   {
    "duration": 132,
    "start_time": "2022-07-30T07:37:00.795Z"
   },
   {
    "duration": 151,
    "start_time": "2022-07-30T07:37:03.485Z"
   },
   {
    "duration": 124,
    "start_time": "2022-07-30T07:37:05.689Z"
   },
   {
    "duration": 165,
    "start_time": "2022-07-30T07:37:07.922Z"
   },
   {
    "duration": 155,
    "start_time": "2022-07-30T07:37:09.725Z"
   },
   {
    "duration": 116,
    "start_time": "2022-07-30T07:37:11.892Z"
   },
   {
    "duration": 111,
    "start_time": "2022-07-30T07:37:13.966Z"
   },
   {
    "duration": 114,
    "start_time": "2022-07-30T07:37:16.278Z"
   },
   {
    "duration": 132,
    "start_time": "2022-07-30T07:37:20.248Z"
   },
   {
    "duration": 211,
    "start_time": "2022-07-30T07:37:23.423Z"
   },
   {
    "duration": 171,
    "start_time": "2022-07-30T07:38:02.829Z"
   },
   {
    "duration": 197,
    "start_time": "2022-07-30T07:38:28.022Z"
   },
   {
    "duration": 148,
    "start_time": "2022-07-30T07:38:30.283Z"
   },
   {
    "duration": 137,
    "start_time": "2022-07-30T07:38:34.178Z"
   },
   {
    "duration": 121,
    "start_time": "2022-07-30T07:38:36.269Z"
   },
   {
    "duration": 142,
    "start_time": "2022-07-30T07:43:50.691Z"
   },
   {
    "duration": 140,
    "start_time": "2022-07-30T07:44:00.036Z"
   },
   {
    "duration": 156,
    "start_time": "2022-07-30T07:44:03.580Z"
   },
   {
    "duration": 141,
    "start_time": "2022-07-30T07:44:05.783Z"
   },
   {
    "duration": 149,
    "start_time": "2022-07-30T07:44:08.878Z"
   },
   {
    "duration": 158,
    "start_time": "2022-07-30T07:44:12.195Z"
   },
   {
    "duration": 126,
    "start_time": "2022-07-30T07:44:38.417Z"
   },
   {
    "duration": 120,
    "start_time": "2022-07-30T07:44:42.424Z"
   },
   {
    "duration": 135,
    "start_time": "2022-07-30T07:44:45.291Z"
   },
   {
    "duration": 136,
    "start_time": "2022-07-30T07:44:48.176Z"
   },
   {
    "duration": 151,
    "start_time": "2022-07-30T07:44:51.390Z"
   },
   {
    "duration": 138,
    "start_time": "2022-07-30T07:44:52.877Z"
   },
   {
    "duration": 138,
    "start_time": "2022-07-30T07:44:54.322Z"
   },
   {
    "duration": 122,
    "start_time": "2022-07-30T07:44:55.724Z"
   },
   {
    "duration": 128,
    "start_time": "2022-07-30T07:44:57.520Z"
   },
   {
    "duration": 138,
    "start_time": "2022-07-30T07:44:59.396Z"
   },
   {
    "duration": 120,
    "start_time": "2022-07-30T07:45:01.422Z"
   },
   {
    "duration": 118,
    "start_time": "2022-07-30T07:45:04.122Z"
   },
   {
    "duration": 81,
    "start_time": "2022-07-30T07:45:24.395Z"
   },
   {
    "duration": 5,
    "start_time": "2022-07-30T07:54:29.885Z"
   },
   {
    "duration": 7,
    "start_time": "2022-07-30T07:54:44.431Z"
   },
   {
    "duration": 63,
    "start_time": "2022-07-30T07:59:27.680Z"
   },
   {
    "duration": 77,
    "start_time": "2022-07-30T08:26:59.982Z"
   },
   {
    "duration": 61,
    "start_time": "2022-07-30T08:27:43.843Z"
   },
   {
    "duration": 83,
    "start_time": "2022-07-30T08:28:09.321Z"
   },
   {
    "duration": 28,
    "start_time": "2022-07-30T08:28:27.069Z"
   },
   {
    "duration": 16,
    "start_time": "2022-07-30T08:29:16.556Z"
   },
   {
    "duration": 13,
    "start_time": "2022-07-30T08:29:31.312Z"
   },
   {
    "duration": 77,
    "start_time": "2022-07-30T08:29:43.355Z"
   },
   {
    "duration": 17,
    "start_time": "2022-07-30T08:31:05.717Z"
   },
   {
    "duration": 11,
    "start_time": "2022-07-30T08:31:10.542Z"
   },
   {
    "duration": 12,
    "start_time": "2022-07-30T08:31:13.031Z"
   },
   {
    "duration": 17,
    "start_time": "2022-07-30T08:31:33.261Z"
   },
   {
    "duration": 26,
    "start_time": "2022-07-30T09:01:27.510Z"
   },
   {
    "duration": 13,
    "start_time": "2022-07-30T09:01:33.355Z"
   },
   {
    "duration": 24,
    "start_time": "2022-07-30T09:01:51.010Z"
   },
   {
    "duration": 14,
    "start_time": "2022-07-30T09:02:14.913Z"
   },
   {
    "duration": 21,
    "start_time": "2022-07-30T09:02:21.222Z"
   },
   {
    "duration": 12,
    "start_time": "2022-07-30T09:02:23.252Z"
   },
   {
    "duration": 24,
    "start_time": "2022-07-30T09:02:25.069Z"
   },
   {
    "duration": 28,
    "start_time": "2022-07-30T09:02:29.550Z"
   },
   {
    "duration": 363,
    "start_time": "2022-07-30T09:03:45.854Z"
   },
   {
    "duration": 98,
    "start_time": "2022-07-30T09:03:46.219Z"
   },
   {
    "duration": 60,
    "start_time": "2022-07-30T09:03:46.319Z"
   },
   {
    "duration": 40,
    "start_time": "2022-07-30T09:03:46.381Z"
   },
   {
    "duration": 2070,
    "start_time": "2022-07-30T09:03:46.424Z"
   },
   {
    "duration": 21,
    "start_time": "2022-07-30T09:03:48.496Z"
   },
   {
    "duration": 4,
    "start_time": "2022-07-30T09:03:48.519Z"
   },
   {
    "duration": 12,
    "start_time": "2022-07-30T09:03:48.525Z"
   },
   {
    "duration": 103,
    "start_time": "2022-07-30T09:03:48.539Z"
   },
   {
    "duration": 3,
    "start_time": "2022-07-30T09:03:55.712Z"
   },
   {
    "duration": 13,
    "start_time": "2022-07-30T09:04:36.290Z"
   },
   {
    "duration": 9,
    "start_time": "2022-07-30T09:05:33.258Z"
   },
   {
    "duration": 18,
    "start_time": "2022-07-30T09:06:56.747Z"
   },
   {
    "duration": 8,
    "start_time": "2022-07-30T09:07:22.609Z"
   },
   {
    "duration": 31,
    "start_time": "2022-07-30T09:07:45.345Z"
   },
   {
    "duration": 15,
    "start_time": "2022-07-30T09:09:26.279Z"
   },
   {
    "duration": 32,
    "start_time": "2022-07-30T09:09:28.846Z"
   },
   {
    "duration": 13,
    "start_time": "2022-07-30T09:09:57.038Z"
   },
   {
    "duration": 8,
    "start_time": "2022-07-30T09:09:57.197Z"
   },
   {
    "duration": 28,
    "start_time": "2022-07-30T09:09:59.017Z"
   },
   {
    "duration": 10,
    "start_time": "2022-07-30T09:15:18.077Z"
   },
   {
    "duration": 14,
    "start_time": "2022-07-30T09:16:55.290Z"
   },
   {
    "duration": 11,
    "start_time": "2022-07-30T09:16:58.476Z"
   },
   {
    "duration": 14,
    "start_time": "2022-07-30T09:17:27.554Z"
   },
   {
    "duration": 143,
    "start_time": "2022-07-30T09:17:49.545Z"
   },
   {
    "duration": 7,
    "start_time": "2022-07-30T09:17:58.129Z"
   },
   {
    "duration": 28,
    "start_time": "2022-07-30T09:17:59.912Z"
   },
   {
    "duration": 8,
    "start_time": "2022-07-30T09:21:12.299Z"
   },
   {
    "duration": 9,
    "start_time": "2022-07-30T09:21:14.388Z"
   },
   {
    "duration": 31,
    "start_time": "2022-07-30T09:21:15.227Z"
   },
   {
    "duration": 5,
    "start_time": "2022-07-30T09:22:30.385Z"
   },
   {
    "duration": 7,
    "start_time": "2022-07-30T09:22:32.153Z"
   },
   {
    "duration": 28,
    "start_time": "2022-07-30T09:22:37.741Z"
   },
   {
    "duration": 417,
    "start_time": "2022-07-30T09:22:51.400Z"
   },
   {
    "duration": 92,
    "start_time": "2022-07-30T09:22:51.819Z"
   },
   {
    "duration": 63,
    "start_time": "2022-07-30T09:22:51.913Z"
   },
   {
    "duration": 30,
    "start_time": "2022-07-30T09:22:51.977Z"
   },
   {
    "duration": 2122,
    "start_time": "2022-07-30T09:22:52.008Z"
   },
   {
    "duration": 9,
    "start_time": "2022-07-30T09:22:54.131Z"
   },
   {
    "duration": 99,
    "start_time": "2022-07-30T09:22:54.141Z"
   },
   {
    "duration": 0,
    "start_time": "2022-07-30T09:22:54.241Z"
   },
   {
    "duration": 0,
    "start_time": "2022-07-30T09:22:54.242Z"
   },
   {
    "duration": 0,
    "start_time": "2022-07-30T09:22:54.243Z"
   },
   {
    "duration": 9,
    "start_time": "2022-07-30T09:27:10.062Z"
   },
   {
    "duration": 21,
    "start_time": "2022-07-30T09:27:31.493Z"
   },
   {
    "duration": 42,
    "start_time": "2022-07-30T09:27:53.102Z"
   },
   {
    "duration": 18,
    "start_time": "2022-07-30T09:30:33.197Z"
   },
   {
    "duration": 6,
    "start_time": "2022-07-30T09:30:37.233Z"
   },
   {
    "duration": 39,
    "start_time": "2022-07-30T09:30:40.983Z"
   },
   {
    "duration": 25,
    "start_time": "2022-07-30T09:30:49.692Z"
   },
   {
    "duration": 7,
    "start_time": "2022-07-30T09:33:18.722Z"
   },
   {
    "duration": 5,
    "start_time": "2022-07-30T09:33:24.634Z"
   },
   {
    "duration": 28,
    "start_time": "2022-07-30T09:33:29.047Z"
   },
   {
    "duration": 7,
    "start_time": "2022-07-30T09:33:33.507Z"
   },
   {
    "duration": 6,
    "start_time": "2022-07-30T09:33:34.138Z"
   },
   {
    "duration": 34,
    "start_time": "2022-07-30T09:33:34.997Z"
   },
   {
    "duration": 380,
    "start_time": "2022-07-30T09:33:43.547Z"
   },
   {
    "duration": 96,
    "start_time": "2022-07-30T09:33:43.929Z"
   },
   {
    "duration": 71,
    "start_time": "2022-07-30T09:33:44.026Z"
   },
   {
    "duration": 26,
    "start_time": "2022-07-30T09:33:44.104Z"
   },
   {
    "duration": 2346,
    "start_time": "2022-07-30T09:33:44.132Z"
   },
   {
    "duration": 32,
    "start_time": "2022-07-30T09:33:46.480Z"
   },
   {
    "duration": 9,
    "start_time": "2022-07-30T09:33:46.517Z"
   },
   {
    "duration": 7,
    "start_time": "2022-07-30T09:33:46.528Z"
   },
   {
    "duration": 34,
    "start_time": "2022-07-30T09:33:46.537Z"
   },
   {
    "duration": 107,
    "start_time": "2022-07-30T09:33:46.574Z"
   },
   {
    "duration": 15,
    "start_time": "2022-07-30T09:34:26.975Z"
   },
   {
    "duration": 3,
    "start_time": "2022-07-30T09:39:57.422Z"
   },
   {
    "duration": 10,
    "start_time": "2022-07-30T09:40:14.513Z"
   },
   {
    "duration": 10,
    "start_time": "2022-07-30T09:40:41.555Z"
   },
   {
    "duration": 14,
    "start_time": "2022-07-30T09:41:07.473Z"
   },
   {
    "duration": 11,
    "start_time": "2022-07-30T09:41:26.165Z"
   },
   {
    "duration": 9,
    "start_time": "2022-07-30T09:42:00.465Z"
   },
   {
    "duration": 40,
    "start_time": "2022-07-30T09:42:03.060Z"
   },
   {
    "duration": 9,
    "start_time": "2022-07-30T09:42:08.287Z"
   },
   {
    "duration": 7,
    "start_time": "2022-07-30T09:42:08.636Z"
   },
   {
    "duration": 7,
    "start_time": "2022-07-30T09:42:37.783Z"
   },
   {
    "duration": 6,
    "start_time": "2022-07-30T09:42:39.695Z"
   },
   {
    "duration": 38,
    "start_time": "2022-07-30T09:42:41.592Z"
   },
   {
    "duration": 53,
    "start_time": "2022-07-30T09:43:40.527Z"
   },
   {
    "duration": 8,
    "start_time": "2022-07-30T09:44:35.108Z"
   },
   {
    "duration": 6,
    "start_time": "2022-07-30T09:44:35.610Z"
   },
   {
    "duration": 50,
    "start_time": "2022-07-30T09:44:37.275Z"
   },
   {
    "duration": 6,
    "start_time": "2022-07-30T09:45:00.402Z"
   },
   {
    "duration": 47,
    "start_time": "2022-07-30T09:55:49.934Z"
   },
   {
    "duration": 55,
    "start_time": "2022-07-30T10:01:28.503Z"
   },
   {
    "duration": 6,
    "start_time": "2022-07-30T10:23:03.817Z"
   },
   {
    "duration": 27,
    "start_time": "2022-07-30T10:23:13.893Z"
   },
   {
    "duration": 11,
    "start_time": "2022-07-30T10:23:50.368Z"
   },
   {
    "duration": 3,
    "start_time": "2022-07-30T10:26:49.504Z"
   },
   {
    "duration": 715,
    "start_time": "2022-07-30T10:30:47.970Z"
   },
   {
    "duration": 18,
    "start_time": "2022-07-30T10:31:07.571Z"
   },
   {
    "duration": 9,
    "start_time": "2022-07-30T10:32:53.139Z"
   },
   {
    "duration": 8,
    "start_time": "2022-07-30T10:35:04.607Z"
   },
   {
    "duration": 10,
    "start_time": "2022-07-30T10:35:13.795Z"
   },
   {
    "duration": 10,
    "start_time": "2022-07-30T10:36:45.614Z"
   },
   {
    "duration": 25,
    "start_time": "2022-07-30T10:36:58.692Z"
   },
   {
    "duration": 5,
    "start_time": "2022-07-30T10:37:34.916Z"
   },
   {
    "duration": 5,
    "start_time": "2022-07-30T10:37:36.387Z"
   },
   {
    "duration": 33,
    "start_time": "2022-07-30T10:37:46.535Z"
   },
   {
    "duration": 24,
    "start_time": "2022-07-30T10:38:07.254Z"
   },
   {
    "duration": 206,
    "start_time": "2022-07-30T10:38:58.006Z"
   },
   {
    "duration": 16,
    "start_time": "2022-07-30T10:39:15.191Z"
   },
   {
    "duration": 23,
    "start_time": "2022-07-30T10:39:42.366Z"
   },
   {
    "duration": 9,
    "start_time": "2022-07-30T10:40:03.304Z"
   },
   {
    "duration": 5,
    "start_time": "2022-07-30T10:40:06.639Z"
   },
   {
    "duration": 18,
    "start_time": "2022-07-30T10:40:42.179Z"
   },
   {
    "duration": 22,
    "start_time": "2022-07-30T10:41:22.064Z"
   },
   {
    "duration": 24,
    "start_time": "2022-07-30T10:41:28.849Z"
   },
   {
    "duration": 5,
    "start_time": "2022-07-30T10:41:36.971Z"
   },
   {
    "duration": 14,
    "start_time": "2022-07-30T10:42:00.093Z"
   },
   {
    "duration": 11,
    "start_time": "2022-07-30T10:43:14.512Z"
   },
   {
    "duration": 17,
    "start_time": "2022-07-30T10:43:25.306Z"
   },
   {
    "duration": 23,
    "start_time": "2022-07-30T10:43:36.042Z"
   },
   {
    "duration": 16,
    "start_time": "2022-07-30T10:43:55.727Z"
   },
   {
    "duration": 16,
    "start_time": "2022-07-30T10:45:56.906Z"
   },
   {
    "duration": 25,
    "start_time": "2022-07-30T10:49:11.798Z"
   },
   {
    "duration": 4,
    "start_time": "2022-07-30T11:17:20.873Z"
   },
   {
    "duration": 4,
    "start_time": "2022-07-30T11:18:04.301Z"
   },
   {
    "duration": 22,
    "start_time": "2022-07-30T11:18:11.245Z"
   },
   {
    "duration": 6,
    "start_time": "2022-07-30T11:21:02.541Z"
   },
   {
    "duration": 22,
    "start_time": "2022-07-30T11:21:08.042Z"
   },
   {
    "duration": 17,
    "start_time": "2022-07-30T11:21:56.661Z"
   },
   {
    "duration": 12096,
    "start_time": "2022-07-30T11:25:16.086Z"
   },
   {
    "duration": 3120,
    "start_time": "2022-07-30T11:25:45.913Z"
   },
   {
    "duration": 72,
    "start_time": "2022-07-30T11:26:06.444Z"
   },
   {
    "duration": 50,
    "start_time": "2022-07-30T11:26:43.683Z"
   },
   {
    "duration": 56,
    "start_time": "2022-07-30T11:29:13.570Z"
   },
   {
    "duration": 4,
    "start_time": "2022-07-30T11:29:33.334Z"
   },
   {
    "duration": 16,
    "start_time": "2022-07-30T11:33:38.479Z"
   },
   {
    "duration": 289,
    "start_time": "2022-07-30T11:36:28.893Z"
   },
   {
    "duration": 23,
    "start_time": "2022-07-30T11:36:46.471Z"
   },
   {
    "duration": 24,
    "start_time": "2022-07-30T11:37:00.601Z"
   },
   {
    "duration": 12,
    "start_time": "2022-07-30T11:41:53.659Z"
   },
   {
    "duration": 5,
    "start_time": "2022-07-30T11:41:53.945Z"
   },
   {
    "duration": 24,
    "start_time": "2022-07-30T11:41:54.853Z"
   },
   {
    "duration": 5,
    "start_time": "2022-07-30T11:42:11.887Z"
   },
   {
    "duration": 5,
    "start_time": "2022-07-30T11:42:25.142Z"
   },
   {
    "duration": 26,
    "start_time": "2022-07-30T11:42:27.469Z"
   },
   {
    "duration": 21,
    "start_time": "2022-07-30T11:42:28.909Z"
   },
   {
    "duration": 8,
    "start_time": "2022-07-30T11:44:04.253Z"
   },
   {
    "duration": 11,
    "start_time": "2022-07-30T11:46:55.335Z"
   },
   {
    "duration": 10,
    "start_time": "2022-07-30T11:47:02.306Z"
   },
   {
    "duration": 9,
    "start_time": "2022-07-30T11:47:21.714Z"
   },
   {
    "duration": 5,
    "start_time": "2022-07-30T11:47:28.501Z"
   },
   {
    "duration": 24,
    "start_time": "2022-07-30T11:50:36.137Z"
   },
   {
    "duration": 20,
    "start_time": "2022-07-30T11:51:19.969Z"
   },
   {
    "duration": 9,
    "start_time": "2022-07-30T11:55:41.973Z"
   },
   {
    "duration": 10,
    "start_time": "2022-07-30T11:55:48.224Z"
   },
   {
    "duration": 7,
    "start_time": "2022-07-30T11:57:12.043Z"
   },
   {
    "duration": 24,
    "start_time": "2022-07-30T11:57:22.546Z"
   },
   {
    "duration": 21,
    "start_time": "2022-07-30T11:58:02.950Z"
   },
   {
    "duration": 16,
    "start_time": "2022-07-30T11:58:13.904Z"
   },
   {
    "duration": 19,
    "start_time": "2022-07-30T11:59:02.526Z"
   },
   {
    "duration": 20,
    "start_time": "2022-07-30T12:04:02.932Z"
   },
   {
    "duration": 31,
    "start_time": "2022-07-30T12:04:09.970Z"
   },
   {
    "duration": 20,
    "start_time": "2022-07-30T12:04:12.443Z"
   },
   {
    "duration": 19,
    "start_time": "2022-07-30T12:04:20.612Z"
   },
   {
    "duration": 16,
    "start_time": "2022-07-30T12:04:25.643Z"
   },
   {
    "duration": 19,
    "start_time": "2022-07-30T12:04:34.422Z"
   },
   {
    "duration": 16,
    "start_time": "2022-07-30T12:04:38.941Z"
   },
   {
    "duration": 20,
    "start_time": "2022-07-30T12:04:42.588Z"
   },
   {
    "duration": 16,
    "start_time": "2022-07-30T12:04:45.772Z"
   },
   {
    "duration": 15,
    "start_time": "2022-07-30T12:04:49.934Z"
   },
   {
    "duration": 15,
    "start_time": "2022-07-30T12:05:11.630Z"
   },
   {
    "duration": 16,
    "start_time": "2022-07-30T12:05:14.249Z"
   },
   {
    "duration": 17,
    "start_time": "2022-07-30T12:05:16.240Z"
   },
   {
    "duration": 30,
    "start_time": "2022-07-30T12:06:35.965Z"
   },
   {
    "duration": 23,
    "start_time": "2022-07-30T12:06:44.456Z"
   },
   {
    "duration": 21,
    "start_time": "2022-07-30T12:06:53.252Z"
   },
   {
    "duration": 16,
    "start_time": "2022-07-30T12:07:06.613Z"
   },
   {
    "duration": 26,
    "start_time": "2022-07-30T12:07:41.468Z"
   },
   {
    "duration": 17,
    "start_time": "2022-07-30T12:07:55.432Z"
   },
   {
    "duration": 16,
    "start_time": "2022-07-30T12:07:58.173Z"
   },
   {
    "duration": 22,
    "start_time": "2022-07-30T12:09:01.811Z"
   },
   {
    "duration": 16,
    "start_time": "2022-07-30T12:09:05.920Z"
   },
   {
    "duration": 39,
    "start_time": "2022-07-30T12:09:48.172Z"
   },
   {
    "duration": 52,
    "start_time": "2022-07-30T12:09:55.365Z"
   },
   {
    "duration": 20,
    "start_time": "2022-07-30T12:09:59.903Z"
   },
   {
    "duration": 19,
    "start_time": "2022-07-30T12:10:40.277Z"
   },
   {
    "duration": 21,
    "start_time": "2022-07-30T12:10:59.459Z"
   },
   {
    "duration": 30,
    "start_time": "2022-07-30T12:12:21.787Z"
   },
   {
    "duration": 21,
    "start_time": "2022-07-30T12:12:41.483Z"
   },
   {
    "duration": 40,
    "start_time": "2022-07-30T12:12:59.567Z"
   },
   {
    "duration": 20,
    "start_time": "2022-07-30T12:13:56.607Z"
   },
   {
    "duration": 669,
    "start_time": "2022-07-30T12:14:03.791Z"
   },
   {
    "duration": 668,
    "start_time": "2022-07-30T12:14:10.437Z"
   },
   {
    "duration": 24,
    "start_time": "2022-07-30T12:20:48.685Z"
   },
   {
    "duration": 20,
    "start_time": "2022-07-30T12:20:53.393Z"
   },
   {
    "duration": 16,
    "start_time": "2022-07-30T12:21:01.969Z"
   },
   {
    "duration": 15,
    "start_time": "2022-07-30T12:21:12.831Z"
   },
   {
    "duration": 16,
    "start_time": "2022-07-30T12:21:33.289Z"
   },
   {
    "duration": 48,
    "start_time": "2022-07-30T12:29:04.833Z"
   },
   {
    "duration": 48,
    "start_time": "2022-07-30T12:29:27.750Z"
   },
   {
    "duration": 4,
    "start_time": "2022-07-30T12:34:36.264Z"
   },
   {
    "duration": 50,
    "start_time": "2022-08-01T07:08:30.324Z"
   },
   {
    "duration": 428,
    "start_time": "2022-08-01T07:08:35.523Z"
   },
   {
    "duration": 155,
    "start_time": "2022-08-01T07:08:36.115Z"
   },
   {
    "duration": 33,
    "start_time": "2022-08-01T07:08:37.282Z"
   },
   {
    "duration": 18,
    "start_time": "2022-08-01T07:08:37.935Z"
   },
   {
    "duration": 2588,
    "start_time": "2022-08-01T07:08:38.533Z"
   },
   {
    "duration": 10,
    "start_time": "2022-08-01T07:08:41.123Z"
   },
   {
    "duration": 11,
    "start_time": "2022-08-01T07:08:41.135Z"
   },
   {
    "duration": 6,
    "start_time": "2022-08-01T07:08:41.148Z"
   },
   {
    "duration": 28,
    "start_time": "2022-08-01T07:08:41.156Z"
   },
   {
    "duration": 27,
    "start_time": "2022-08-01T07:08:41.186Z"
   },
   {
    "duration": 4,
    "start_time": "2022-08-01T07:08:41.324Z"
   },
   {
    "duration": 5,
    "start_time": "2022-08-01T07:08:41.493Z"
   },
   {
    "duration": 88,
    "start_time": "2022-08-01T07:08:41.657Z"
   },
   {
    "duration": 3,
    "start_time": "2022-08-01T07:08:41.836Z"
   },
   {
    "duration": 5,
    "start_time": "2022-08-01T07:08:42.163Z"
   },
   {
    "duration": 28,
    "start_time": "2022-08-01T07:08:42.314Z"
   },
   {
    "duration": 8,
    "start_time": "2022-08-01T07:08:42.484Z"
   },
   {
    "duration": 7,
    "start_time": "2022-08-01T07:08:42.637Z"
   },
   {
    "duration": 25,
    "start_time": "2022-08-01T07:08:42.795Z"
   },
   {
    "duration": 5,
    "start_time": "2022-08-01T07:08:42.962Z"
   },
   {
    "duration": 26,
    "start_time": "2022-08-01T07:08:43.431Z"
   },
   {
    "duration": 6,
    "start_time": "2022-08-01T07:08:43.619Z"
   },
   {
    "duration": 25,
    "start_time": "2022-08-01T07:08:43.779Z"
   },
   {
    "duration": 302,
    "start_time": "2022-08-01T07:08:43.976Z"
   },
   {
    "duration": 25,
    "start_time": "2022-08-01T07:08:44.279Z"
   },
   {
    "duration": 4,
    "start_time": "2022-08-01T07:08:44.571Z"
   },
   {
    "duration": 27,
    "start_time": "2022-08-01T07:08:44.892Z"
   },
   {
    "duration": 140,
    "start_time": "2022-08-01T07:08:46.359Z"
   },
   {
    "duration": 1439,
    "start_time": "2022-08-01T07:10:13.664Z"
   },
   {
    "duration": 167,
    "start_time": "2022-08-01T07:10:24.123Z"
   },
   {
    "duration": 262,
    "start_time": "2022-08-01T07:31:21.582Z"
   },
   {
    "duration": 5,
    "start_time": "2022-08-01T07:31:51.709Z"
   },
   {
    "duration": 76,
    "start_time": "2022-08-01T07:32:00.069Z"
   },
   {
    "duration": 5,
    "start_time": "2022-08-01T07:32:07.180Z"
   },
   {
    "duration": 6,
    "start_time": "2022-08-01T07:32:12.356Z"
   },
   {
    "duration": 7,
    "start_time": "2022-08-01T07:32:15.996Z"
   },
   {
    "duration": 75,
    "start_time": "2022-08-01T07:32:26.655Z"
   },
   {
    "duration": 6,
    "start_time": "2022-08-01T07:32:32.373Z"
   },
   {
    "duration": 7,
    "start_time": "2022-08-01T07:32:39.607Z"
   },
   {
    "duration": 7,
    "start_time": "2022-08-01T07:32:44.561Z"
   },
   {
    "duration": 7,
    "start_time": "2022-08-01T07:35:15.470Z"
   },
   {
    "duration": 6,
    "start_time": "2022-08-01T07:35:38.643Z"
   },
   {
    "duration": 144,
    "start_time": "2022-08-01T07:41:41.638Z"
   },
   {
    "duration": 162,
    "start_time": "2022-08-01T07:41:43.468Z"
   },
   {
    "duration": 146,
    "start_time": "2022-08-01T07:41:47.511Z"
   },
   {
    "duration": 169,
    "start_time": "2022-08-01T07:41:51.081Z"
   },
   {
    "duration": 156,
    "start_time": "2022-08-01T07:42:00.394Z"
   },
   {
    "duration": 156,
    "start_time": "2022-08-01T07:42:02.498Z"
   },
   {
    "duration": 139,
    "start_time": "2022-08-01T07:42:04.401Z"
   },
   {
    "duration": 1272,
    "start_time": "2022-08-01T07:42:06.363Z"
   },
   {
    "duration": 146,
    "start_time": "2022-08-01T07:42:42.839Z"
   },
   {
    "duration": 137,
    "start_time": "2022-08-01T07:42:44.780Z"
   },
   {
    "duration": 107,
    "start_time": "2022-08-01T07:43:24.357Z"
   },
   {
    "duration": 205,
    "start_time": "2022-08-01T07:43:26.454Z"
   },
   {
    "duration": 24,
    "start_time": "2022-08-01T07:49:07.565Z"
   },
   {
    "duration": 24,
    "start_time": "2022-08-01T07:49:28.611Z"
   },
   {
    "duration": 22,
    "start_time": "2022-08-01T07:50:05.854Z"
   },
   {
    "duration": 18,
    "start_time": "2022-08-01T08:15:37.161Z"
   },
   {
    "duration": 17,
    "start_time": "2022-08-01T08:15:42.815Z"
   },
   {
    "duration": 18,
    "start_time": "2022-08-01T08:15:58.494Z"
   },
   {
    "duration": 9,
    "start_time": "2022-08-01T08:16:09.060Z"
   },
   {
    "duration": 25,
    "start_time": "2022-08-01T08:16:12.698Z"
   },
   {
    "duration": 220,
    "start_time": "2022-08-01T08:17:52.951Z"
   },
   {
    "duration": 174,
    "start_time": "2022-08-01T08:18:10.889Z"
   },
   {
    "duration": 153,
    "start_time": "2022-08-01T08:18:20.146Z"
   },
   {
    "duration": 154,
    "start_time": "2022-08-01T08:18:44.544Z"
   },
   {
    "duration": 154,
    "start_time": "2022-08-01T08:19:35.582Z"
   },
   {
    "duration": 172,
    "start_time": "2022-08-01T08:20:17.649Z"
   },
   {
    "duration": 187,
    "start_time": "2022-08-01T08:20:31.749Z"
   },
   {
    "duration": 47,
    "start_time": "2022-08-01T08:39:16.222Z"
   },
   {
    "duration": 24,
    "start_time": "2022-08-01T08:39:37.444Z"
   },
   {
    "duration": 20,
    "start_time": "2022-08-01T08:39:50.461Z"
   },
   {
    "duration": 152,
    "start_time": "2022-08-01T08:40:18.357Z"
   },
   {
    "duration": 4,
    "start_time": "2022-08-01T08:51:43.254Z"
   },
   {
    "duration": 156,
    "start_time": "2022-08-01T08:51:53.256Z"
   },
   {
    "duration": 12,
    "start_time": "2022-08-01T08:52:26.329Z"
   },
   {
    "duration": 33,
    "start_time": "2022-08-01T08:58:17.754Z"
   },
   {
    "duration": 36,
    "start_time": "2022-08-01T08:59:23.949Z"
   },
   {
    "duration": 39,
    "start_time": "2022-08-01T08:59:38.191Z"
   },
   {
    "duration": 37,
    "start_time": "2022-08-01T09:00:11.629Z"
   },
   {
    "duration": 29,
    "start_time": "2022-08-01T09:00:19.149Z"
   },
   {
    "duration": 55,
    "start_time": "2022-08-01T09:00:23.212Z"
   },
   {
    "duration": 18,
    "start_time": "2022-08-01T09:06:20.094Z"
   },
   {
    "duration": 24,
    "start_time": "2022-08-01T09:06:29.833Z"
   },
   {
    "duration": 49,
    "start_time": "2022-08-01T09:07:03.873Z"
   },
   {
    "duration": 6,
    "start_time": "2022-08-01T09:07:07.446Z"
   },
   {
    "duration": 11,
    "start_time": "2022-08-01T09:07:31.930Z"
   },
   {
    "duration": 41,
    "start_time": "2022-08-01T09:07:44.984Z"
   },
   {
    "duration": 10,
    "start_time": "2022-08-01T09:08:06.411Z"
   },
   {
    "duration": 23,
    "start_time": "2022-08-01T09:08:07.356Z"
   },
   {
    "duration": 4,
    "start_time": "2022-08-01T09:08:28.657Z"
   },
   {
    "duration": 25,
    "start_time": "2022-08-01T09:08:38.756Z"
   },
   {
    "duration": 445,
    "start_time": "2022-08-01T09:18:49.394Z"
   },
   {
    "duration": 110,
    "start_time": "2022-08-01T09:18:49.841Z"
   },
   {
    "duration": 35,
    "start_time": "2022-08-01T09:18:49.954Z"
   },
   {
    "duration": 28,
    "start_time": "2022-08-01T09:18:49.991Z"
   },
   {
    "duration": 2595,
    "start_time": "2022-08-01T09:18:50.023Z"
   },
   {
    "duration": 13,
    "start_time": "2022-08-01T09:18:52.621Z"
   },
   {
    "duration": 14,
    "start_time": "2022-08-01T09:18:52.636Z"
   },
   {
    "duration": 16,
    "start_time": "2022-08-01T09:18:52.652Z"
   },
   {
    "duration": 28,
    "start_time": "2022-08-01T09:18:52.670Z"
   },
   {
    "duration": 23,
    "start_time": "2022-08-01T09:18:52.705Z"
   },
   {
    "duration": 12,
    "start_time": "2022-08-01T09:18:52.733Z"
   },
   {
    "duration": 27,
    "start_time": "2022-08-01T09:18:52.747Z"
   },
   {
    "duration": 4,
    "start_time": "2022-08-01T09:18:52.775Z"
   },
   {
    "duration": 10,
    "start_time": "2022-08-01T09:18:52.781Z"
   },
   {
    "duration": 18,
    "start_time": "2022-08-01T09:18:52.824Z"
   },
   {
    "duration": 9,
    "start_time": "2022-08-01T09:18:52.843Z"
   },
   {
    "duration": 28,
    "start_time": "2022-08-01T09:18:52.853Z"
   },
   {
    "duration": 8,
    "start_time": "2022-08-01T09:18:52.882Z"
   },
   {
    "duration": 20,
    "start_time": "2022-08-01T09:18:52.892Z"
   },
   {
    "duration": 32,
    "start_time": "2022-08-01T09:18:52.920Z"
   },
   {
    "duration": 10,
    "start_time": "2022-08-01T09:18:52.954Z"
   },
   {
    "duration": 24,
    "start_time": "2022-08-01T09:18:52.966Z"
   },
   {
    "duration": 5,
    "start_time": "2022-08-01T09:18:52.992Z"
   },
   {
    "duration": 35,
    "start_time": "2022-08-01T09:18:52.999Z"
   },
   {
    "duration": 325,
    "start_time": "2022-08-01T09:18:53.036Z"
   },
   {
    "duration": 23,
    "start_time": "2022-08-01T09:18:53.363Z"
   },
   {
    "duration": 28,
    "start_time": "2022-08-01T09:18:53.387Z"
   },
   {
    "duration": 26,
    "start_time": "2022-08-01T09:18:53.428Z"
   },
   {
    "duration": 130,
    "start_time": "2022-08-01T09:18:53.456Z"
   },
   {
    "duration": 180,
    "start_time": "2022-08-01T09:18:53.588Z"
   },
   {
    "duration": 178,
    "start_time": "2022-08-01T09:18:53.770Z"
   },
   {
    "duration": 268,
    "start_time": "2022-08-01T09:18:53.950Z"
   },
   {
    "duration": 155,
    "start_time": "2022-08-01T09:18:54.220Z"
   },
   {
    "duration": 176,
    "start_time": "2022-08-01T09:18:54.377Z"
   },
   {
    "duration": 137,
    "start_time": "2022-08-01T09:18:54.554Z"
   },
   {
    "duration": 158,
    "start_time": "2022-08-01T09:18:54.692Z"
   },
   {
    "duration": 161,
    "start_time": "2022-08-01T09:18:54.852Z"
   },
   {
    "duration": 148,
    "start_time": "2022-08-01T09:18:55.017Z"
   },
   {
    "duration": 165,
    "start_time": "2022-08-01T09:18:55.167Z"
   },
   {
    "duration": 158,
    "start_time": "2022-08-01T09:18:55.334Z"
   },
   {
    "duration": 181,
    "start_time": "2022-08-01T09:18:55.493Z"
   },
   {
    "duration": 182,
    "start_time": "2022-08-01T09:18:55.676Z"
   },
   {
    "duration": 6,
    "start_time": "2022-08-01T09:18:55.859Z"
   },
   {
    "duration": 165,
    "start_time": "2022-08-01T09:18:55.867Z"
   },
   {
    "duration": 201,
    "start_time": "2022-08-01T09:18:56.034Z"
   },
   {
    "duration": 303,
    "start_time": "2022-08-01T09:18:56.237Z"
   },
   {
    "duration": 225,
    "start_time": "2022-08-01T09:18:56.543Z"
   },
   {
    "duration": 247,
    "start_time": "2022-08-01T09:18:56.771Z"
   },
   {
    "duration": 4,
    "start_time": "2022-08-01T09:18:57.024Z"
   },
   {
    "duration": 38,
    "start_time": "2022-08-01T09:19:27.000Z"
   },
   {
    "duration": 7,
    "start_time": "2022-08-01T09:20:13.730Z"
   },
   {
    "duration": 15,
    "start_time": "2022-08-01T09:23:26.553Z"
   },
   {
    "duration": 17,
    "start_time": "2022-08-01T09:23:31.558Z"
   },
   {
    "duration": 11,
    "start_time": "2022-08-01T09:23:33.236Z"
   },
   {
    "duration": 22,
    "start_time": "2022-08-01T09:23:46.335Z"
   },
   {
    "duration": 14,
    "start_time": "2022-08-01T09:23:50.629Z"
   },
   {
    "duration": 6,
    "start_time": "2022-08-01T09:24:14.466Z"
   },
   {
    "duration": 30,
    "start_time": "2022-08-01T09:24:16.490Z"
   },
   {
    "duration": 25,
    "start_time": "2022-08-01T09:24:35.268Z"
   },
   {
    "duration": 5,
    "start_time": "2022-08-01T09:25:24.669Z"
   },
   {
    "duration": 7,
    "start_time": "2022-08-01T09:25:26.697Z"
   },
   {
    "duration": 7,
    "start_time": "2022-08-01T09:25:59.586Z"
   },
   {
    "duration": 37,
    "start_time": "2022-08-01T09:26:01.195Z"
   },
   {
    "duration": 1867,
    "start_time": "2022-08-01T09:32:44.765Z"
   },
   {
    "duration": 13,
    "start_time": "2022-08-01T09:32:49.032Z"
   },
   {
    "duration": 4,
    "start_time": "2022-08-01T09:32:55.781Z"
   },
   {
    "duration": 6,
    "start_time": "2022-08-01T09:33:11.333Z"
   },
   {
    "duration": 4,
    "start_time": "2022-08-01T09:35:13.360Z"
   },
   {
    "duration": 20,
    "start_time": "2022-08-01T09:36:29.155Z"
   },
   {
    "duration": 96,
    "start_time": "2022-08-01T09:36:46.052Z"
   },
   {
    "duration": 158,
    "start_time": "2022-08-01T09:39:37.576Z"
   },
   {
    "duration": 150,
    "start_time": "2022-08-01T09:40:03.314Z"
   },
   {
    "duration": 178,
    "start_time": "2022-08-01T09:40:15.044Z"
   },
   {
    "duration": 11,
    "start_time": "2022-08-01T09:48:51.044Z"
   },
   {
    "duration": 11,
    "start_time": "2022-08-01T09:49:25.719Z"
   },
   {
    "duration": 174,
    "start_time": "2022-08-01T09:50:21.734Z"
   },
   {
    "duration": 153,
    "start_time": "2022-08-01T09:50:24.165Z"
   },
   {
    "duration": 169,
    "start_time": "2022-08-01T09:50:25.938Z"
   },
   {
    "duration": 147,
    "start_time": "2022-08-01T09:50:27.610Z"
   },
   {
    "duration": 153,
    "start_time": "2022-08-01T09:50:29.988Z"
   },
   {
    "duration": 131,
    "start_time": "2022-08-01T09:50:32.842Z"
   },
   {
    "duration": 146,
    "start_time": "2022-08-01T09:50:34.785Z"
   },
   {
    "duration": 122,
    "start_time": "2022-08-01T09:50:35.633Z"
   },
   {
    "duration": 165,
    "start_time": "2022-08-01T09:50:36.531Z"
   },
   {
    "duration": 131,
    "start_time": "2022-08-01T09:50:37.825Z"
   },
   {
    "duration": 251,
    "start_time": "2022-08-01T09:50:48.915Z"
   },
   {
    "duration": 161,
    "start_time": "2022-08-01T09:50:57.973Z"
   },
   {
    "duration": 175,
    "start_time": "2022-08-01T09:51:01.710Z"
   },
   {
    "duration": 5,
    "start_time": "2022-08-01T09:51:05.873Z"
   },
   {
    "duration": 371,
    "start_time": "2022-08-01T09:53:43.846Z"
   },
   {
    "duration": 92,
    "start_time": "2022-08-01T09:53:44.219Z"
   },
   {
    "duration": 33,
    "start_time": "2022-08-01T09:53:44.313Z"
   },
   {
    "duration": 15,
    "start_time": "2022-08-01T09:53:44.347Z"
   },
   {
    "duration": 2256,
    "start_time": "2022-08-01T09:53:44.365Z"
   },
   {
    "duration": 10,
    "start_time": "2022-08-01T09:53:46.623Z"
   },
   {
    "duration": 18,
    "start_time": "2022-08-01T09:53:46.635Z"
   },
   {
    "duration": 15,
    "start_time": "2022-08-01T09:53:46.655Z"
   },
   {
    "duration": 33,
    "start_time": "2022-08-01T09:53:46.672Z"
   },
   {
    "duration": 51,
    "start_time": "2022-08-01T09:53:46.708Z"
   },
   {
    "duration": 5,
    "start_time": "2022-08-01T09:53:46.762Z"
   },
   {
    "duration": 45,
    "start_time": "2022-08-01T09:53:46.769Z"
   },
   {
    "duration": 9,
    "start_time": "2022-08-01T09:53:46.816Z"
   },
   {
    "duration": 13,
    "start_time": "2022-08-01T09:53:46.829Z"
   },
   {
    "duration": 10,
    "start_time": "2022-08-01T09:53:46.845Z"
   },
   {
    "duration": 11,
    "start_time": "2022-08-01T09:53:46.857Z"
   },
   {
    "duration": 11,
    "start_time": "2022-08-01T09:53:46.869Z"
   },
   {
    "duration": 323,
    "start_time": "2022-08-01T09:53:46.882Z"
   },
   {
    "duration": 3,
    "start_time": "2022-08-01T09:53:47.207Z"
   },
   {
    "duration": 129,
    "start_time": "2022-08-01T09:53:47.212Z"
   },
   {
    "duration": 152,
    "start_time": "2022-08-01T09:53:47.343Z"
   },
   {
    "duration": 144,
    "start_time": "2022-08-01T09:53:47.496Z"
   },
   {
    "duration": 218,
    "start_time": "2022-08-01T09:53:47.641Z"
   },
   {
    "duration": 136,
    "start_time": "2022-08-01T09:53:47.860Z"
   },
   {
    "duration": 165,
    "start_time": "2022-08-01T09:53:47.998Z"
   },
   {
    "duration": 123,
    "start_time": "2022-08-01T09:53:48.165Z"
   },
   {
    "duration": 129,
    "start_time": "2022-08-01T09:53:48.290Z"
   },
   {
    "duration": 130,
    "start_time": "2022-08-01T09:53:48.421Z"
   },
   {
    "duration": 127,
    "start_time": "2022-08-01T09:53:48.553Z"
   },
   {
    "duration": 158,
    "start_time": "2022-08-01T09:53:48.682Z"
   },
   {
    "duration": 131,
    "start_time": "2022-08-01T09:53:48.842Z"
   },
   {
    "duration": 158,
    "start_time": "2022-08-01T09:53:48.975Z"
   },
   {
    "duration": 153,
    "start_time": "2022-08-01T09:53:49.135Z"
   },
   {
    "duration": 4,
    "start_time": "2022-08-01T09:53:49.290Z"
   },
   {
    "duration": 2,
    "start_time": "2022-08-01T09:53:49.304Z"
   },
   {
    "duration": 5,
    "start_time": "2022-08-01T09:53:49.307Z"
   },
   {
    "duration": 4,
    "start_time": "2022-08-01T09:53:49.313Z"
   },
   {
    "duration": 4,
    "start_time": "2022-08-01T09:53:49.319Z"
   },
   {
    "duration": 5,
    "start_time": "2022-08-01T09:53:49.324Z"
   },
   {
    "duration": 5,
    "start_time": "2022-08-01T09:53:49.330Z"
   },
   {
    "duration": 110,
    "start_time": "2022-08-01T09:55:32.998Z"
   },
   {
    "duration": 12,
    "start_time": "2022-08-01T09:55:44.544Z"
   },
   {
    "duration": 171,
    "start_time": "2022-08-01T09:57:39.236Z"
   },
   {
    "duration": 3,
    "start_time": "2022-08-01T09:57:49.191Z"
   },
   {
    "duration": 157,
    "start_time": "2022-08-01T09:58:02.264Z"
   },
   {
    "duration": 3140,
    "start_time": "2022-08-01T09:59:04.758Z"
   },
   {
    "duration": 2730,
    "start_time": "2022-08-01T09:59:18.812Z"
   },
   {
    "duration": 737,
    "start_time": "2022-08-01T09:59:52.490Z"
   },
   {
    "duration": 118,
    "start_time": "2022-08-01T09:59:53.230Z"
   },
   {
    "duration": 36,
    "start_time": "2022-08-01T09:59:53.350Z"
   },
   {
    "duration": 18,
    "start_time": "2022-08-01T09:59:53.403Z"
   },
   {
    "duration": 2314,
    "start_time": "2022-08-01T09:59:53.424Z"
   },
   {
    "duration": 12,
    "start_time": "2022-08-01T09:59:55.740Z"
   },
   {
    "duration": 26,
    "start_time": "2022-08-01T09:59:55.754Z"
   },
   {
    "duration": 25,
    "start_time": "2022-08-01T09:59:55.782Z"
   },
   {
    "duration": 23,
    "start_time": "2022-08-01T09:59:55.809Z"
   },
   {
    "duration": 32,
    "start_time": "2022-08-01T09:59:55.834Z"
   },
   {
    "duration": 6,
    "start_time": "2022-08-01T09:59:55.868Z"
   },
   {
    "duration": 46,
    "start_time": "2022-08-01T09:59:55.876Z"
   },
   {
    "duration": 7,
    "start_time": "2022-08-01T09:59:55.924Z"
   },
   {
    "duration": 14,
    "start_time": "2022-08-01T09:59:55.935Z"
   },
   {
    "duration": 14,
    "start_time": "2022-08-01T09:59:55.952Z"
   },
   {
    "duration": 88,
    "start_time": "2022-08-01T09:59:55.968Z"
   },
   {
    "duration": 17,
    "start_time": "2022-08-01T09:59:56.059Z"
   },
   {
    "duration": 358,
    "start_time": "2022-08-01T09:59:56.079Z"
   },
   {
    "duration": 5,
    "start_time": "2022-08-01T09:59:56.439Z"
   },
   {
    "duration": 176,
    "start_time": "2022-08-01T09:59:56.447Z"
   },
   {
    "duration": 225,
    "start_time": "2022-08-01T09:59:56.626Z"
   },
   {
    "duration": 171,
    "start_time": "2022-08-01T09:59:56.854Z"
   },
   {
    "duration": 328,
    "start_time": "2022-08-01T09:59:57.027Z"
   },
   {
    "duration": 159,
    "start_time": "2022-08-01T09:59:57.357Z"
   },
   {
    "duration": 164,
    "start_time": "2022-08-01T09:59:57.519Z"
   },
   {
    "duration": 135,
    "start_time": "2022-08-01T09:59:57.686Z"
   },
   {
    "duration": 156,
    "start_time": "2022-08-01T09:59:57.824Z"
   },
   {
    "duration": 141,
    "start_time": "2022-08-01T09:59:57.983Z"
   },
   {
    "duration": 153,
    "start_time": "2022-08-01T09:59:58.127Z"
   },
   {
    "duration": 156,
    "start_time": "2022-08-01T09:59:58.282Z"
   },
   {
    "duration": 142,
    "start_time": "2022-08-01T09:59:58.441Z"
   },
   {
    "duration": 166,
    "start_time": "2022-08-01T09:59:58.584Z"
   },
   {
    "duration": 193,
    "start_time": "2022-08-01T09:59:58.752Z"
   },
   {
    "duration": 6,
    "start_time": "2022-08-01T09:59:58.947Z"
   },
   {
    "duration": 15,
    "start_time": "2022-08-01T09:59:58.955Z"
   },
   {
    "duration": 6,
    "start_time": "2022-08-01T09:59:58.972Z"
   },
   {
    "duration": 8,
    "start_time": "2022-08-01T09:59:58.980Z"
   },
   {
    "duration": 14,
    "start_time": "2022-08-01T09:59:58.990Z"
   },
   {
    "duration": 2,
    "start_time": "2022-08-01T09:59:59.006Z"
   },
   {
    "duration": 7,
    "start_time": "2022-08-01T09:59:59.010Z"
   },
   {
    "duration": 11,
    "start_time": "2022-08-01T10:00:56.953Z"
   },
   {
    "duration": 93,
    "start_time": "2022-08-01T10:48:17.545Z"
   },
   {
    "duration": 77,
    "start_time": "2022-08-01T10:48:21.561Z"
   },
   {
    "duration": 236,
    "start_time": "2022-08-01T10:48:25.386Z"
   },
   {
    "duration": 36,
    "start_time": "2022-08-01T10:49:04.649Z"
   },
   {
    "duration": 63,
    "start_time": "2022-08-01T10:50:24.264Z"
   },
   {
    "duration": 8,
    "start_time": "2022-08-01T10:51:12.704Z"
   },
   {
    "duration": 5,
    "start_time": "2022-08-01T10:51:19.509Z"
   },
   {
    "duration": 5,
    "start_time": "2022-08-01T11:00:06.869Z"
   },
   {
    "duration": 5,
    "start_time": "2022-08-01T11:00:20.652Z"
   },
   {
    "duration": 5,
    "start_time": "2022-08-01T11:01:07.366Z"
   },
   {
    "duration": 672,
    "start_time": "2022-08-01T11:39:47.593Z"
   },
   {
    "duration": 97,
    "start_time": "2022-08-01T11:39:48.267Z"
   },
   {
    "duration": 29,
    "start_time": "2022-08-01T11:39:48.365Z"
   },
   {
    "duration": 14,
    "start_time": "2022-08-01T11:39:48.404Z"
   },
   {
    "duration": 2005,
    "start_time": "2022-08-01T11:39:48.420Z"
   },
   {
    "duration": 9,
    "start_time": "2022-08-01T11:39:50.427Z"
   },
   {
    "duration": 5,
    "start_time": "2022-08-01T11:39:50.437Z"
   },
   {
    "duration": 26,
    "start_time": "2022-08-01T11:39:50.444Z"
   },
   {
    "duration": 12,
    "start_time": "2022-08-01T11:39:50.472Z"
   },
   {
    "duration": 29,
    "start_time": "2022-08-01T11:39:50.487Z"
   },
   {
    "duration": 10,
    "start_time": "2022-08-01T11:39:50.518Z"
   },
   {
    "duration": 8,
    "start_time": "2022-08-01T11:39:50.529Z"
   },
   {
    "duration": 5,
    "start_time": "2022-08-01T11:39:50.539Z"
   },
   {
    "duration": 8,
    "start_time": "2022-08-01T11:39:50.546Z"
   },
   {
    "duration": 10,
    "start_time": "2022-08-01T11:39:50.555Z"
   },
   {
    "duration": 9,
    "start_time": "2022-08-01T11:39:50.566Z"
   },
   {
    "duration": 29,
    "start_time": "2022-08-01T11:39:50.576Z"
   },
   {
    "duration": 15,
    "start_time": "2022-08-01T11:39:50.607Z"
   },
   {
    "duration": 9,
    "start_time": "2022-08-01T11:39:50.624Z"
   },
   {
    "duration": 80,
    "start_time": "2022-08-01T11:39:50.635Z"
   },
   {
    "duration": 0,
    "start_time": "2022-08-01T11:39:50.718Z"
   },
   {
    "duration": 0,
    "start_time": "2022-08-01T11:39:50.719Z"
   },
   {
    "duration": 0,
    "start_time": "2022-08-01T11:39:50.720Z"
   },
   {
    "duration": 0,
    "start_time": "2022-08-01T11:39:50.721Z"
   },
   {
    "duration": 0,
    "start_time": "2022-08-01T11:39:50.722Z"
   },
   {
    "duration": 0,
    "start_time": "2022-08-01T11:39:50.723Z"
   },
   {
    "duration": 0,
    "start_time": "2022-08-01T11:39:50.724Z"
   },
   {
    "duration": 0,
    "start_time": "2022-08-01T11:39:50.725Z"
   },
   {
    "duration": 0,
    "start_time": "2022-08-01T11:39:50.726Z"
   },
   {
    "duration": 0,
    "start_time": "2022-08-01T11:39:50.727Z"
   },
   {
    "duration": 0,
    "start_time": "2022-08-01T11:39:50.728Z"
   },
   {
    "duration": 0,
    "start_time": "2022-08-01T11:39:50.729Z"
   },
   {
    "duration": 0,
    "start_time": "2022-08-01T11:39:50.730Z"
   },
   {
    "duration": 0,
    "start_time": "2022-08-01T11:39:50.732Z"
   },
   {
    "duration": 0,
    "start_time": "2022-08-01T11:39:50.733Z"
   },
   {
    "duration": 0,
    "start_time": "2022-08-01T11:39:50.734Z"
   },
   {
    "duration": 0,
    "start_time": "2022-08-01T11:39:50.735Z"
   },
   {
    "duration": 0,
    "start_time": "2022-08-01T11:39:50.736Z"
   },
   {
    "duration": 0,
    "start_time": "2022-08-01T11:39:50.737Z"
   },
   {
    "duration": 0,
    "start_time": "2022-08-01T11:39:50.738Z"
   },
   {
    "duration": 0,
    "start_time": "2022-08-01T11:39:50.739Z"
   },
   {
    "duration": 0,
    "start_time": "2022-08-01T11:39:50.740Z"
   },
   {
    "duration": 8,
    "start_time": "2022-08-01T11:40:21.112Z"
   },
   {
    "duration": 30,
    "start_time": "2022-08-01T11:40:23.358Z"
   },
   {
    "duration": 5,
    "start_time": "2022-08-01T11:40:26.202Z"
   },
   {
    "duration": 6,
    "start_time": "2022-08-01T11:40:28.046Z"
   },
   {
    "duration": 704,
    "start_time": "2022-08-01T11:44:52.078Z"
   },
   {
    "duration": 97,
    "start_time": "2022-08-01T11:44:52.784Z"
   },
   {
    "duration": 33,
    "start_time": "2022-08-01T11:44:52.882Z"
   },
   {
    "duration": 17,
    "start_time": "2022-08-01T11:44:52.917Z"
   },
   {
    "duration": 2176,
    "start_time": "2022-08-01T11:44:52.936Z"
   },
   {
    "duration": 11,
    "start_time": "2022-08-01T11:44:55.114Z"
   },
   {
    "duration": 16,
    "start_time": "2022-08-01T11:44:55.127Z"
   },
   {
    "duration": 19,
    "start_time": "2022-08-01T11:44:55.145Z"
   },
   {
    "duration": 37,
    "start_time": "2022-08-01T11:44:55.166Z"
   },
   {
    "duration": 30,
    "start_time": "2022-08-01T11:44:55.207Z"
   },
   {
    "duration": 5,
    "start_time": "2022-08-01T11:44:55.239Z"
   },
   {
    "duration": 7,
    "start_time": "2022-08-01T11:44:55.247Z"
   },
   {
    "duration": 8,
    "start_time": "2022-08-01T11:44:55.256Z"
   },
   {
    "duration": 4,
    "start_time": "2022-08-01T11:44:55.267Z"
   },
   {
    "duration": 7,
    "start_time": "2022-08-01T11:44:55.306Z"
   },
   {
    "duration": 13,
    "start_time": "2022-08-01T11:44:55.315Z"
   },
   {
    "duration": 18,
    "start_time": "2022-08-01T11:44:55.331Z"
   },
   {
    "duration": 10,
    "start_time": "2022-08-01T11:44:55.351Z"
   },
   {
    "duration": 13,
    "start_time": "2022-08-01T11:44:55.363Z"
   },
   {
    "duration": 321,
    "start_time": "2022-08-01T11:44:55.378Z"
   },
   {
    "duration": 5,
    "start_time": "2022-08-01T11:44:55.701Z"
   },
   {
    "duration": 148,
    "start_time": "2022-08-01T11:44:55.708Z"
   },
   {
    "duration": 187,
    "start_time": "2022-08-01T11:44:55.859Z"
   },
   {
    "duration": 167,
    "start_time": "2022-08-01T11:44:56.049Z"
   },
   {
    "duration": 303,
    "start_time": "2022-08-01T11:44:56.217Z"
   },
   {
    "duration": 204,
    "start_time": "2022-08-01T11:44:56.522Z"
   },
   {
    "duration": 172,
    "start_time": "2022-08-01T11:44:56.728Z"
   },
   {
    "duration": 153,
    "start_time": "2022-08-01T11:44:56.906Z"
   },
   {
    "duration": 153,
    "start_time": "2022-08-01T11:44:57.061Z"
   },
   {
    "duration": 145,
    "start_time": "2022-08-01T11:44:57.216Z"
   },
   {
    "duration": 131,
    "start_time": "2022-08-01T11:44:57.363Z"
   },
   {
    "duration": 142,
    "start_time": "2022-08-01T11:44:57.496Z"
   },
   {
    "duration": 122,
    "start_time": "2022-08-01T11:44:57.640Z"
   },
   {
    "duration": 160,
    "start_time": "2022-08-01T11:44:57.764Z"
   },
   {
    "duration": 160,
    "start_time": "2022-08-01T11:44:57.926Z"
   },
   {
    "duration": 6,
    "start_time": "2022-08-01T11:44:58.088Z"
   },
   {
    "duration": 2,
    "start_time": "2022-08-01T11:44:58.105Z"
   },
   {
    "duration": 5,
    "start_time": "2022-08-01T11:44:58.109Z"
   },
   {
    "duration": 7,
    "start_time": "2022-08-01T11:44:58.115Z"
   },
   {
    "duration": 5,
    "start_time": "2022-08-01T11:44:58.123Z"
   },
   {
    "duration": 10,
    "start_time": "2022-08-01T11:44:58.130Z"
   },
   {
    "duration": 12,
    "start_time": "2022-08-01T11:44:58.142Z"
   },
   {
    "duration": 6,
    "start_time": "2022-08-01T11:46:38.585Z"
   },
   {
    "duration": 690,
    "start_time": "2022-08-01T11:52:49.893Z"
   },
   {
    "duration": 95,
    "start_time": "2022-08-01T11:52:50.585Z"
   },
   {
    "duration": 31,
    "start_time": "2022-08-01T11:52:50.681Z"
   },
   {
    "duration": 16,
    "start_time": "2022-08-01T11:52:50.714Z"
   },
   {
    "duration": 2000,
    "start_time": "2022-08-01T11:52:50.733Z"
   },
   {
    "duration": 11,
    "start_time": "2022-08-01T11:52:52.736Z"
   },
   {
    "duration": 16,
    "start_time": "2022-08-01T11:52:52.749Z"
   },
   {
    "duration": 18,
    "start_time": "2022-08-01T11:52:52.768Z"
   },
   {
    "duration": 16,
    "start_time": "2022-08-01T11:52:52.788Z"
   },
   {
    "duration": 31,
    "start_time": "2022-08-01T11:52:52.805Z"
   },
   {
    "duration": 5,
    "start_time": "2022-08-01T11:52:52.838Z"
   },
   {
    "duration": 6,
    "start_time": "2022-08-01T11:52:52.845Z"
   },
   {
    "duration": 5,
    "start_time": "2022-08-01T11:52:52.853Z"
   },
   {
    "duration": 2,
    "start_time": "2022-08-01T11:52:52.862Z"
   },
   {
    "duration": 42,
    "start_time": "2022-08-01T11:52:52.866Z"
   },
   {
    "duration": 10,
    "start_time": "2022-08-01T11:52:52.909Z"
   },
   {
    "duration": 7,
    "start_time": "2022-08-01T11:52:52.921Z"
   },
   {
    "duration": 6,
    "start_time": "2022-08-01T11:52:52.930Z"
   },
   {
    "duration": 8,
    "start_time": "2022-08-01T11:52:52.938Z"
   },
   {
    "duration": 105,
    "start_time": "2022-08-01T11:52:52.947Z"
   },
   {
    "duration": 0,
    "start_time": "2022-08-01T11:52:53.053Z"
   },
   {
    "duration": 0,
    "start_time": "2022-08-01T11:52:53.055Z"
   },
   {
    "duration": 0,
    "start_time": "2022-08-01T11:52:53.056Z"
   },
   {
    "duration": 0,
    "start_time": "2022-08-01T11:52:53.057Z"
   },
   {
    "duration": 0,
    "start_time": "2022-08-01T11:52:53.058Z"
   },
   {
    "duration": 0,
    "start_time": "2022-08-01T11:52:53.059Z"
   },
   {
    "duration": 0,
    "start_time": "2022-08-01T11:52:53.060Z"
   },
   {
    "duration": 0,
    "start_time": "2022-08-01T11:52:53.061Z"
   },
   {
    "duration": 0,
    "start_time": "2022-08-01T11:52:53.061Z"
   },
   {
    "duration": 0,
    "start_time": "2022-08-01T11:52:53.062Z"
   },
   {
    "duration": 0,
    "start_time": "2022-08-01T11:52:53.063Z"
   },
   {
    "duration": 0,
    "start_time": "2022-08-01T11:52:53.064Z"
   },
   {
    "duration": 1,
    "start_time": "2022-08-01T11:52:53.065Z"
   },
   {
    "duration": 0,
    "start_time": "2022-08-01T11:52:53.067Z"
   },
   {
    "duration": 0,
    "start_time": "2022-08-01T11:52:53.068Z"
   },
   {
    "duration": 0,
    "start_time": "2022-08-01T11:52:53.069Z"
   },
   {
    "duration": 0,
    "start_time": "2022-08-01T11:52:53.070Z"
   },
   {
    "duration": 0,
    "start_time": "2022-08-01T11:52:53.072Z"
   },
   {
    "duration": 0,
    "start_time": "2022-08-01T11:52:53.104Z"
   },
   {
    "duration": 0,
    "start_time": "2022-08-01T11:52:53.106Z"
   },
   {
    "duration": 0,
    "start_time": "2022-08-01T11:52:53.107Z"
   },
   {
    "duration": 0,
    "start_time": "2022-08-01T11:52:53.108Z"
   },
   {
    "duration": 6,
    "start_time": "2022-08-01T11:54:25.398Z"
   },
   {
    "duration": 6,
    "start_time": "2022-08-01T11:58:07.544Z"
   },
   {
    "duration": 4,
    "start_time": "2022-08-01T11:58:09.314Z"
   },
   {
    "duration": 6,
    "start_time": "2022-08-01T11:58:19.086Z"
   },
   {
    "duration": 30,
    "start_time": "2022-08-01T11:58:20.267Z"
   },
   {
    "duration": 1230,
    "start_time": "2022-08-01T11:58:52.444Z"
   },
   {
    "duration": 32,
    "start_time": "2022-08-01T11:58:54.445Z"
   },
   {
    "duration": 8,
    "start_time": "2022-08-01T11:59:08.842Z"
   },
   {
    "duration": 30,
    "start_time": "2022-08-01T11:59:11.356Z"
   },
   {
    "duration": 14,
    "start_time": "2022-08-01T12:00:22.844Z"
   },
   {
    "duration": 7,
    "start_time": "2022-08-01T12:00:32.144Z"
   },
   {
    "duration": 6,
    "start_time": "2022-08-01T12:04:28.464Z"
   },
   {
    "duration": 31,
    "start_time": "2022-08-01T12:04:30.505Z"
   },
   {
    "duration": 7,
    "start_time": "2022-08-01T12:04:44.301Z"
   },
   {
    "duration": 36,
    "start_time": "2022-08-01T12:04:46.552Z"
   },
   {
    "duration": 32,
    "start_time": "2022-08-01T12:09:43.972Z"
   },
   {
    "duration": 6,
    "start_time": "2022-08-01T12:09:46.990Z"
   },
   {
    "duration": 7,
    "start_time": "2022-08-01T12:10:34.711Z"
   },
   {
    "duration": 31,
    "start_time": "2022-08-01T12:10:37.716Z"
   },
   {
    "duration": 31,
    "start_time": "2022-08-01T12:10:42.787Z"
   },
   {
    "duration": 8,
    "start_time": "2022-08-01T12:10:55.975Z"
   },
   {
    "duration": 35,
    "start_time": "2022-08-01T12:10:56.642Z"
   },
   {
    "duration": 8,
    "start_time": "2022-08-01T12:11:06.068Z"
   },
   {
    "duration": 29,
    "start_time": "2022-08-01T12:11:06.794Z"
   },
   {
    "duration": 13,
    "start_time": "2022-08-01T12:11:16.343Z"
   },
   {
    "duration": 16,
    "start_time": "2022-08-01T12:14:32.513Z"
   },
   {
    "duration": 14,
    "start_time": "2022-08-01T12:14:43.414Z"
   },
   {
    "duration": 9,
    "start_time": "2022-08-01T12:14:48.109Z"
   },
   {
    "duration": 26,
    "start_time": "2022-08-01T12:14:50.099Z"
   },
   {
    "duration": 12,
    "start_time": "2022-08-01T12:15:22.774Z"
   },
   {
    "duration": 643,
    "start_time": "2022-08-01T12:16:27.859Z"
   },
   {
    "duration": 97,
    "start_time": "2022-08-01T12:16:28.505Z"
   },
   {
    "duration": 30,
    "start_time": "2022-08-01T12:16:28.604Z"
   },
   {
    "duration": 15,
    "start_time": "2022-08-01T12:16:28.637Z"
   },
   {
    "duration": 2104,
    "start_time": "2022-08-01T12:16:28.653Z"
   },
   {
    "duration": 9,
    "start_time": "2022-08-01T12:16:30.759Z"
   },
   {
    "duration": 19,
    "start_time": "2022-08-01T12:16:30.769Z"
   },
   {
    "duration": 14,
    "start_time": "2022-08-01T12:16:30.790Z"
   },
   {
    "duration": 22,
    "start_time": "2022-08-01T12:16:30.806Z"
   },
   {
    "duration": 25,
    "start_time": "2022-08-01T12:16:30.831Z"
   },
   {
    "duration": 5,
    "start_time": "2022-08-01T12:16:30.858Z"
   },
   {
    "duration": 14,
    "start_time": "2022-08-01T12:16:30.865Z"
   },
   {
    "duration": 24,
    "start_time": "2022-08-01T12:16:30.881Z"
   },
   {
    "duration": 2,
    "start_time": "2022-08-01T12:16:30.907Z"
   },
   {
    "duration": 10,
    "start_time": "2022-08-01T12:16:30.910Z"
   },
   {
    "duration": 10,
    "start_time": "2022-08-01T12:16:30.922Z"
   },
   {
    "duration": 15,
    "start_time": "2022-08-01T12:16:30.934Z"
   },
   {
    "duration": 12,
    "start_time": "2022-08-01T12:16:30.950Z"
   },
   {
    "duration": 12,
    "start_time": "2022-08-01T12:16:30.963Z"
   },
   {
    "duration": 291,
    "start_time": "2022-08-01T12:16:30.977Z"
   },
   {
    "duration": 5,
    "start_time": "2022-08-01T12:16:31.270Z"
   },
   {
    "duration": 144,
    "start_time": "2022-08-01T12:16:31.276Z"
   },
   {
    "duration": 159,
    "start_time": "2022-08-01T12:16:31.422Z"
   },
   {
    "duration": 152,
    "start_time": "2022-08-01T12:16:31.583Z"
   },
   {
    "duration": 264,
    "start_time": "2022-08-01T12:16:31.737Z"
   },
   {
    "duration": 162,
    "start_time": "2022-08-01T12:16:32.004Z"
   },
   {
    "duration": 160,
    "start_time": "2022-08-01T12:16:32.168Z"
   },
   {
    "duration": 130,
    "start_time": "2022-08-01T12:16:32.332Z"
   },
   {
    "duration": 150,
    "start_time": "2022-08-01T12:16:32.463Z"
   },
   {
    "duration": 134,
    "start_time": "2022-08-01T12:16:32.614Z"
   },
   {
    "duration": 133,
    "start_time": "2022-08-01T12:16:32.750Z"
   },
   {
    "duration": 146,
    "start_time": "2022-08-01T12:16:32.885Z"
   },
   {
    "duration": 124,
    "start_time": "2022-08-01T12:16:33.033Z"
   },
   {
    "duration": 166,
    "start_time": "2022-08-01T12:16:33.159Z"
   },
   {
    "duration": 163,
    "start_time": "2022-08-01T12:16:33.327Z"
   },
   {
    "duration": 15,
    "start_time": "2022-08-01T12:16:33.492Z"
   },
   {
    "duration": 3,
    "start_time": "2022-08-01T12:16:33.508Z"
   },
   {
    "duration": 8,
    "start_time": "2022-08-01T12:16:33.512Z"
   },
   {
    "duration": 9,
    "start_time": "2022-08-01T12:16:33.522Z"
   },
   {
    "duration": 17,
    "start_time": "2022-08-01T12:16:33.534Z"
   },
   {
    "duration": 6,
    "start_time": "2022-08-01T12:16:33.553Z"
   },
   {
    "duration": 9,
    "start_time": "2022-08-01T12:16:33.560Z"
   },
   {
    "duration": 24,
    "start_time": "2022-08-01T12:17:42.996Z"
   },
   {
    "duration": 6,
    "start_time": "2022-08-01T12:38:55.392Z"
   },
   {
    "duration": 30,
    "start_time": "2022-08-01T12:38:57.799Z"
   },
   {
    "duration": 8,
    "start_time": "2022-08-01T12:54:37.479Z"
   },
   {
    "duration": 8,
    "start_time": "2022-08-01T12:54:48.226Z"
   },
   {
    "duration": 6,
    "start_time": "2022-08-01T12:55:03.091Z"
   },
   {
    "duration": 8,
    "start_time": "2022-08-01T12:55:18.752Z"
   },
   {
    "duration": 6,
    "start_time": "2022-08-01T12:55:20.579Z"
   },
   {
    "duration": 9,
    "start_time": "2022-08-01T12:56:46.134Z"
   },
   {
    "duration": 6,
    "start_time": "2022-08-01T12:56:48.237Z"
   },
   {
    "duration": 54,
    "start_time": "2022-08-01T12:59:14.698Z"
   },
   {
    "duration": 9,
    "start_time": "2022-08-01T12:59:32.896Z"
   },
   {
    "duration": 79,
    "start_time": "2022-08-01T12:59:36.120Z"
   },
   {
    "duration": 8,
    "start_time": "2022-08-01T13:03:03.427Z"
   },
   {
    "duration": 7,
    "start_time": "2022-08-01T13:03:05.946Z"
   },
   {
    "duration": 6,
    "start_time": "2022-08-01T13:04:23.014Z"
   },
   {
    "duration": 6,
    "start_time": "2022-08-01T13:04:26.462Z"
   },
   {
    "duration": 70,
    "start_time": "2022-08-01T13:08:48.450Z"
   },
   {
    "duration": 693,
    "start_time": "2022-08-01T13:10:26.458Z"
   },
   {
    "duration": 93,
    "start_time": "2022-08-01T13:10:27.153Z"
   },
   {
    "duration": 32,
    "start_time": "2022-08-01T13:10:27.248Z"
   },
   {
    "duration": 33,
    "start_time": "2022-08-01T13:10:27.282Z"
   },
   {
    "duration": 2131,
    "start_time": "2022-08-01T13:10:27.318Z"
   },
   {
    "duration": 10,
    "start_time": "2022-08-01T13:10:29.452Z"
   },
   {
    "duration": 8,
    "start_time": "2022-08-01T13:10:29.464Z"
   },
   {
    "duration": 13,
    "start_time": "2022-08-01T13:10:29.474Z"
   },
   {
    "duration": 27,
    "start_time": "2022-08-01T13:10:29.488Z"
   },
   {
    "duration": 32,
    "start_time": "2022-08-01T13:10:29.517Z"
   },
   {
    "duration": 5,
    "start_time": "2022-08-01T13:10:29.551Z"
   },
   {
    "duration": 8,
    "start_time": "2022-08-01T13:10:29.558Z"
   },
   {
    "duration": 75,
    "start_time": "2022-08-01T13:10:29.568Z"
   },
   {
    "duration": 6,
    "start_time": "2022-08-01T13:10:29.646Z"
   },
   {
    "duration": 17,
    "start_time": "2022-08-01T13:10:29.654Z"
   },
   {
    "duration": 4,
    "start_time": "2022-08-01T13:10:29.673Z"
   },
   {
    "duration": 5,
    "start_time": "2022-08-01T13:10:29.679Z"
   },
   {
    "duration": 19,
    "start_time": "2022-08-01T13:10:29.685Z"
   },
   {
    "duration": 11,
    "start_time": "2022-08-01T13:10:29.706Z"
   },
   {
    "duration": 12,
    "start_time": "2022-08-01T13:10:29.718Z"
   },
   {
    "duration": 6,
    "start_time": "2022-08-01T13:10:29.732Z"
   },
   {
    "duration": 7,
    "start_time": "2022-08-01T13:10:29.739Z"
   },
   {
    "duration": 342,
    "start_time": "2022-08-01T13:10:29.747Z"
   },
   {
    "duration": 5,
    "start_time": "2022-08-01T13:10:30.091Z"
   },
   {
    "duration": 79,
    "start_time": "2022-08-01T13:10:30.098Z"
   },
   {
    "duration": 153,
    "start_time": "2022-08-01T13:10:30.180Z"
   },
   {
    "duration": 156,
    "start_time": "2022-08-01T13:10:30.334Z"
   },
   {
    "duration": 153,
    "start_time": "2022-08-01T13:10:30.492Z"
   },
   {
    "duration": 258,
    "start_time": "2022-08-01T13:10:30.647Z"
   },
   {
    "duration": 148,
    "start_time": "2022-08-01T13:10:30.907Z"
   },
   {
    "duration": 154,
    "start_time": "2022-08-01T13:10:31.057Z"
   },
   {
    "duration": 162,
    "start_time": "2022-08-01T13:10:31.213Z"
   },
   {
    "duration": 152,
    "start_time": "2022-08-01T13:10:31.377Z"
   },
   {
    "duration": 138,
    "start_time": "2022-08-01T13:10:31.531Z"
   },
   {
    "duration": 139,
    "start_time": "2022-08-01T13:10:31.671Z"
   },
   {
    "duration": 155,
    "start_time": "2022-08-01T13:10:31.812Z"
   },
   {
    "duration": 144,
    "start_time": "2022-08-01T13:10:31.969Z"
   },
   {
    "duration": 176,
    "start_time": "2022-08-01T13:10:32.115Z"
   },
   {
    "duration": 162,
    "start_time": "2022-08-01T13:10:32.293Z"
   },
   {
    "duration": 6,
    "start_time": "2022-08-01T13:10:32.458Z"
   },
   {
    "duration": 7,
    "start_time": "2022-08-01T13:10:32.468Z"
   },
   {
    "duration": 10,
    "start_time": "2022-08-01T13:10:32.476Z"
   },
   {
    "duration": 17,
    "start_time": "2022-08-01T13:10:32.488Z"
   },
   {
    "duration": 10,
    "start_time": "2022-08-01T13:10:32.507Z"
   },
   {
    "duration": 5,
    "start_time": "2022-08-01T13:10:32.519Z"
   },
   {
    "duration": 8,
    "start_time": "2022-08-01T13:10:32.525Z"
   },
   {
    "duration": 86,
    "start_time": "2022-08-01T13:11:46.912Z"
   },
   {
    "duration": 9,
    "start_time": "2022-08-01T13:11:51.702Z"
   },
   {
    "duration": 8,
    "start_time": "2022-08-01T13:11:55.242Z"
   },
   {
    "duration": 292,
    "start_time": "2022-08-01T13:12:18.132Z"
   },
   {
    "duration": 729,
    "start_time": "2022-08-01T13:14:48.322Z"
   },
   {
    "duration": 158,
    "start_time": "2022-08-01T13:14:49.053Z"
   },
   {
    "duration": 32,
    "start_time": "2022-08-01T13:14:49.213Z"
   },
   {
    "duration": 16,
    "start_time": "2022-08-01T13:14:49.247Z"
   },
   {
    "duration": 2148,
    "start_time": "2022-08-01T13:14:49.265Z"
   },
   {
    "duration": 10,
    "start_time": "2022-08-01T13:14:51.415Z"
   },
   {
    "duration": 8,
    "start_time": "2022-08-01T13:14:51.427Z"
   },
   {
    "duration": 11,
    "start_time": "2022-08-01T13:14:51.436Z"
   },
   {
    "duration": 13,
    "start_time": "2022-08-01T13:14:51.449Z"
   },
   {
    "duration": 57,
    "start_time": "2022-08-01T13:14:51.467Z"
   },
   {
    "duration": 5,
    "start_time": "2022-08-01T13:14:51.526Z"
   },
   {
    "duration": 11,
    "start_time": "2022-08-01T13:14:51.532Z"
   },
   {
    "duration": 70,
    "start_time": "2022-08-01T13:14:51.546Z"
   },
   {
    "duration": 6,
    "start_time": "2022-08-01T13:14:51.617Z"
   },
   {
    "duration": 12,
    "start_time": "2022-08-01T13:14:51.625Z"
   },
   {
    "duration": 8,
    "start_time": "2022-08-01T13:14:51.638Z"
   },
   {
    "duration": 4,
    "start_time": "2022-08-01T13:14:51.648Z"
   },
   {
    "duration": 8,
    "start_time": "2022-08-01T13:14:51.654Z"
   },
   {
    "duration": 13,
    "start_time": "2022-08-01T13:14:51.664Z"
   },
   {
    "duration": 25,
    "start_time": "2022-08-01T13:14:51.679Z"
   },
   {
    "duration": 6,
    "start_time": "2022-08-01T13:14:51.706Z"
   },
   {
    "duration": 9,
    "start_time": "2022-08-01T13:14:51.713Z"
   },
   {
    "duration": 336,
    "start_time": "2022-08-01T13:14:51.724Z"
   },
   {
    "duration": 4,
    "start_time": "2022-08-01T13:14:52.062Z"
   },
   {
    "duration": 37,
    "start_time": "2022-08-01T13:14:52.068Z"
   },
   {
    "duration": 128,
    "start_time": "2022-08-01T13:14:52.107Z"
   },
   {
    "duration": 177,
    "start_time": "2022-08-01T13:14:52.237Z"
   },
   {
    "duration": 161,
    "start_time": "2022-08-01T13:14:52.417Z"
   },
   {
    "duration": 260,
    "start_time": "2022-08-01T13:14:52.580Z"
   },
   {
    "duration": 150,
    "start_time": "2022-08-01T13:14:52.841Z"
   },
   {
    "duration": 156,
    "start_time": "2022-08-01T13:14:52.992Z"
   },
   {
    "duration": 155,
    "start_time": "2022-08-01T13:14:53.149Z"
   },
   {
    "duration": 150,
    "start_time": "2022-08-01T13:14:53.306Z"
   },
   {
    "duration": 129,
    "start_time": "2022-08-01T13:14:53.458Z"
   },
   {
    "duration": 127,
    "start_time": "2022-08-01T13:14:53.589Z"
   },
   {
    "duration": 145,
    "start_time": "2022-08-01T13:14:53.718Z"
   },
   {
    "duration": 129,
    "start_time": "2022-08-01T13:14:53.864Z"
   },
   {
    "duration": 173,
    "start_time": "2022-08-01T13:14:53.995Z"
   },
   {
    "duration": 166,
    "start_time": "2022-08-01T13:14:54.170Z"
   },
   {
    "duration": 7,
    "start_time": "2022-08-01T13:14:54.338Z"
   },
   {
    "duration": 354,
    "start_time": "2022-08-01T13:14:54.346Z"
   },
   {
    "duration": 3,
    "start_time": "2022-08-01T13:14:54.703Z"
   },
   {
    "duration": 6,
    "start_time": "2022-08-01T13:14:54.708Z"
   },
   {
    "duration": 9,
    "start_time": "2022-08-01T13:14:54.716Z"
   },
   {
    "duration": 11,
    "start_time": "2022-08-01T13:14:54.727Z"
   },
   {
    "duration": 8,
    "start_time": "2022-08-01T13:14:54.741Z"
   },
   {
    "duration": 246,
    "start_time": "2022-08-01T13:15:06.189Z"
   },
   {
    "duration": 220,
    "start_time": "2022-08-01T13:15:10.922Z"
   },
   {
    "duration": 71,
    "start_time": "2022-08-01T13:15:55.106Z"
   },
   {
    "duration": 29327,
    "start_time": "2022-08-01T13:15:59.483Z"
   },
   {
    "duration": 157,
    "start_time": "2022-08-01T13:20:35.937Z"
   },
   {
    "duration": 270,
    "start_time": "2022-08-01T13:20:44.956Z"
   },
   {
    "duration": 307,
    "start_time": "2022-08-01T13:20:56.766Z"
   },
   {
    "duration": 125,
    "start_time": "2022-08-01T13:23:07.505Z"
   },
   {
    "duration": 139,
    "start_time": "2022-08-01T13:25:24.653Z"
   },
   {
    "duration": 151,
    "start_time": "2022-08-01T13:26:40.121Z"
   },
   {
    "duration": 131,
    "start_time": "2022-08-01T13:28:22.636Z"
   },
   {
    "duration": 144,
    "start_time": "2022-08-01T13:28:36.388Z"
   },
   {
    "duration": 27,
    "start_time": "2022-08-01T13:28:59.955Z"
   },
   {
    "duration": 140,
    "start_time": "2022-08-01T13:29:22.506Z"
   },
   {
    "duration": 216,
    "start_time": "2022-08-01T13:31:16.534Z"
   },
   {
    "duration": 8,
    "start_time": "2022-08-01T13:47:44.513Z"
   },
   {
    "duration": 181,
    "start_time": "2022-08-01T13:47:47.426Z"
   },
   {
    "duration": 198,
    "start_time": "2022-08-01T13:49:24.887Z"
   },
   {
    "duration": 215,
    "start_time": "2022-08-01T13:51:33.300Z"
   },
   {
    "duration": 179,
    "start_time": "2022-08-01T13:52:02.680Z"
   },
   {
    "duration": 211,
    "start_time": "2022-08-01T13:52:28.128Z"
   },
   {
    "duration": 5,
    "start_time": "2022-08-01T13:53:12.646Z"
   },
   {
    "duration": 351,
    "start_time": "2022-08-01T13:59:08.659Z"
   },
   {
    "duration": 189,
    "start_time": "2022-08-01T13:59:21.739Z"
   },
   {
    "duration": 267,
    "start_time": "2022-08-01T13:59:24.952Z"
   },
   {
    "duration": 190,
    "start_time": "2022-08-01T13:59:47.614Z"
   },
   {
    "duration": 395,
    "start_time": "2022-08-01T14:00:44.768Z"
   },
   {
    "duration": 600,
    "start_time": "2022-08-01T14:03:59.370Z"
   },
   {
    "duration": 610,
    "start_time": "2022-08-01T14:04:08.335Z"
   },
   {
    "duration": 16,
    "start_time": "2022-08-01T14:08:13.147Z"
   },
   {
    "duration": 15,
    "start_time": "2022-08-01T14:08:26.201Z"
   },
   {
    "duration": 17,
    "start_time": "2022-08-01T14:09:11.327Z"
   },
   {
    "duration": 16,
    "start_time": "2022-08-01T14:09:36.049Z"
   },
   {
    "duration": 15,
    "start_time": "2022-08-01T14:09:42.383Z"
   },
   {
    "duration": 13,
    "start_time": "2022-08-01T14:10:42.572Z"
   },
   {
    "duration": 16,
    "start_time": "2022-08-01T14:11:17.562Z"
   },
   {
    "duration": 10,
    "start_time": "2022-08-01T14:47:00.261Z"
   },
   {
    "duration": 24,
    "start_time": "2022-08-01T14:47:04.879Z"
   },
   {
    "duration": 5,
    "start_time": "2022-08-01T14:47:49.205Z"
   },
   {
    "duration": 17,
    "start_time": "2022-08-01T14:52:37.386Z"
   },
   {
    "duration": 166,
    "start_time": "2022-08-01T14:52:53.616Z"
   },
   {
    "duration": 11,
    "start_time": "2022-08-01T14:55:47.713Z"
   },
   {
    "duration": 126,
    "start_time": "2022-08-01T14:56:33.247Z"
   },
   {
    "duration": 151,
    "start_time": "2022-08-01T15:02:30.685Z"
   },
   {
    "duration": 15,
    "start_time": "2022-08-01T15:02:36.811Z"
   },
   {
    "duration": 159,
    "start_time": "2022-08-01T15:05:10.233Z"
   },
   {
    "duration": 12,
    "start_time": "2022-08-01T15:11:12.823Z"
   },
   {
    "duration": 9,
    "start_time": "2022-08-01T15:11:51.389Z"
   },
   {
    "duration": 8,
    "start_time": "2022-08-01T15:12:00.025Z"
   },
   {
    "duration": 11,
    "start_time": "2022-08-01T15:12:05.989Z"
   },
   {
    "duration": 75,
    "start_time": "2022-08-01T15:12:12.358Z"
   },
   {
    "duration": 7,
    "start_time": "2022-08-01T15:12:14.590Z"
   },
   {
    "duration": 11,
    "start_time": "2022-08-01T15:12:17.512Z"
   },
   {
    "duration": 8,
    "start_time": "2022-08-01T15:12:54.395Z"
   },
   {
    "duration": 10,
    "start_time": "2022-08-01T15:13:03.076Z"
   },
   {
    "duration": 7,
    "start_time": "2022-08-01T15:13:07.784Z"
   },
   {
    "duration": 10,
    "start_time": "2022-08-01T15:13:20.849Z"
   },
   {
    "duration": 12,
    "start_time": "2022-08-01T15:13:34.657Z"
   },
   {
    "duration": 13,
    "start_time": "2022-08-01T15:13:39.570Z"
   },
   {
    "duration": 9,
    "start_time": "2022-08-01T15:13:45.964Z"
   },
   {
    "duration": 8,
    "start_time": "2022-08-01T15:14:16.509Z"
   },
   {
    "duration": 7,
    "start_time": "2022-08-01T15:14:26.619Z"
   },
   {
    "duration": 9,
    "start_time": "2022-08-01T15:14:29.357Z"
   },
   {
    "duration": 7,
    "start_time": "2022-08-01T15:14:53.837Z"
   },
   {
    "duration": 14,
    "start_time": "2022-08-01T15:17:33.026Z"
   },
   {
    "duration": 10,
    "start_time": "2022-08-01T15:17:43.804Z"
   },
   {
    "duration": 8,
    "start_time": "2022-08-01T15:17:53.816Z"
   },
   {
    "duration": 7,
    "start_time": "2022-08-01T15:18:00.644Z"
   },
   {
    "duration": 9,
    "start_time": "2022-08-01T15:18:06.760Z"
   },
   {
    "duration": 8,
    "start_time": "2022-08-01T15:18:10.717Z"
   },
   {
    "duration": 15,
    "start_time": "2022-08-01T15:23:45.730Z"
   },
   {
    "duration": 30,
    "start_time": "2022-08-01T15:24:44.220Z"
   },
   {
    "duration": 4,
    "start_time": "2022-08-01T15:25:07.685Z"
   },
   {
    "duration": 17,
    "start_time": "2022-08-01T15:34:48.423Z"
   },
   {
    "duration": 19,
    "start_time": "2022-08-01T15:35:10.980Z"
   },
   {
    "duration": 171,
    "start_time": "2022-08-01T15:35:35.628Z"
   },
   {
    "duration": 18,
    "start_time": "2022-08-01T15:35:48.350Z"
   },
   {
    "duration": 157,
    "start_time": "2022-08-01T15:36:01.578Z"
   },
   {
    "duration": 161,
    "start_time": "2022-08-01T15:36:24.855Z"
   },
   {
    "duration": 157,
    "start_time": "2022-08-01T15:36:49.754Z"
   },
   {
    "duration": 18,
    "start_time": "2022-08-01T15:36:59.873Z"
   },
   {
    "duration": 18,
    "start_time": "2022-08-01T15:37:31.907Z"
   },
   {
    "duration": 137,
    "start_time": "2022-08-01T15:37:41.469Z"
   },
   {
    "duration": 12,
    "start_time": "2022-08-01T15:38:23.857Z"
   },
   {
    "duration": 5,
    "start_time": "2022-08-01T15:39:03.611Z"
   },
   {
    "duration": 8,
    "start_time": "2022-08-01T15:39:14.247Z"
   },
   {
    "duration": 76,
    "start_time": "2022-08-01T15:39:19.439Z"
   },
   {
    "duration": 4,
    "start_time": "2022-08-01T15:39:21.627Z"
   },
   {
    "duration": 3,
    "start_time": "2022-08-01T15:40:15.853Z"
   },
   {
    "duration": 2,
    "start_time": "2022-08-01T15:40:16.213Z"
   },
   {
    "duration": 3,
    "start_time": "2022-08-01T15:40:43.261Z"
   },
   {
    "duration": 2,
    "start_time": "2022-08-01T15:40:45.439Z"
   },
   {
    "duration": 8,
    "start_time": "2022-08-01T15:41:32.615Z"
   },
   {
    "duration": 21,
    "start_time": "2022-08-01T15:41:43.964Z"
   },
   {
    "duration": 214,
    "start_time": "2022-08-01T15:42:01.682Z"
   },
   {
    "duration": 15,
    "start_time": "2022-08-01T15:42:24.562Z"
   },
   {
    "duration": 15,
    "start_time": "2022-08-01T15:42:46.261Z"
   },
   {
    "duration": 15,
    "start_time": "2022-08-01T15:42:54.727Z"
   },
   {
    "duration": 161,
    "start_time": "2022-08-01T15:49:24.964Z"
   },
   {
    "duration": 7,
    "start_time": "2022-08-01T15:52:29.976Z"
   },
   {
    "duration": 5,
    "start_time": "2022-08-01T15:52:32.581Z"
   },
   {
    "duration": 5,
    "start_time": "2022-08-01T15:52:57.577Z"
   },
   {
    "duration": 6,
    "start_time": "2022-08-01T15:53:19.118Z"
   },
   {
    "duration": 4,
    "start_time": "2022-08-01T15:53:27.833Z"
   },
   {
    "duration": 6,
    "start_time": "2022-08-01T15:53:36.772Z"
   },
   {
    "duration": 6,
    "start_time": "2022-08-01T15:53:53.124Z"
   },
   {
    "duration": 7,
    "start_time": "2022-08-01T15:54:25.320Z"
   },
   {
    "duration": 12,
    "start_time": "2022-08-01T15:54:43.290Z"
   },
   {
    "duration": 3,
    "start_time": "2022-08-01T15:54:51.337Z"
   },
   {
    "duration": 2,
    "start_time": "2022-08-01T15:54:52.817Z"
   },
   {
    "duration": 6,
    "start_time": "2022-08-01T15:54:54.914Z"
   },
   {
    "duration": 3,
    "start_time": "2022-08-01T15:54:58.693Z"
   },
   {
    "duration": 725,
    "start_time": "2022-08-01T16:15:33.867Z"
   },
   {
    "duration": 106,
    "start_time": "2022-08-01T16:15:34.594Z"
   },
   {
    "duration": 33,
    "start_time": "2022-08-01T16:15:34.702Z"
   },
   {
    "duration": 16,
    "start_time": "2022-08-01T16:15:34.737Z"
   },
   {
    "duration": 2322,
    "start_time": "2022-08-01T16:15:34.755Z"
   },
   {
    "duration": 11,
    "start_time": "2022-08-01T16:15:37.080Z"
   },
   {
    "duration": 16,
    "start_time": "2022-08-01T16:15:37.094Z"
   },
   {
    "duration": 10,
    "start_time": "2022-08-01T16:15:37.111Z"
   },
   {
    "duration": 23,
    "start_time": "2022-08-01T16:15:37.123Z"
   },
   {
    "duration": 37,
    "start_time": "2022-08-01T16:15:37.149Z"
   },
   {
    "duration": 5,
    "start_time": "2022-08-01T16:15:37.187Z"
   },
   {
    "duration": 8,
    "start_time": "2022-08-01T16:15:37.204Z"
   },
   {
    "duration": 11,
    "start_time": "2022-08-01T16:15:37.213Z"
   },
   {
    "duration": 10,
    "start_time": "2022-08-01T16:15:37.226Z"
   },
   {
    "duration": 17,
    "start_time": "2022-08-01T16:15:37.237Z"
   },
   {
    "duration": 21,
    "start_time": "2022-08-01T16:15:37.256Z"
   },
   {
    "duration": 63,
    "start_time": "2022-08-01T16:15:37.278Z"
   },
   {
    "duration": 6,
    "start_time": "2022-08-01T16:15:37.343Z"
   },
   {
    "duration": 13,
    "start_time": "2022-08-01T16:15:37.351Z"
   },
   {
    "duration": 7,
    "start_time": "2022-08-01T16:15:37.366Z"
   },
   {
    "duration": 5,
    "start_time": "2022-08-01T16:15:37.375Z"
   },
   {
    "duration": 25,
    "start_time": "2022-08-01T16:15:37.382Z"
   },
   {
    "duration": 20,
    "start_time": "2022-08-01T16:15:37.409Z"
   },
   {
    "duration": 25,
    "start_time": "2022-08-01T16:15:37.431Z"
   },
   {
    "duration": 7,
    "start_time": "2022-08-01T16:15:37.458Z"
   },
   {
    "duration": 11,
    "start_time": "2022-08-01T16:15:37.467Z"
   },
   {
    "duration": 298,
    "start_time": "2022-08-01T16:15:37.480Z"
   },
   {
    "duration": 4,
    "start_time": "2022-08-01T16:15:37.783Z"
   },
   {
    "duration": 38,
    "start_time": "2022-08-01T16:15:37.789Z"
   },
   {
    "duration": 134,
    "start_time": "2022-08-01T16:15:37.829Z"
   },
   {
    "duration": 176,
    "start_time": "2022-08-01T16:15:37.965Z"
   },
   {
    "duration": 176,
    "start_time": "2022-08-01T16:15:38.143Z"
   },
   {
    "duration": 304,
    "start_time": "2022-08-01T16:15:38.321Z"
   },
   {
    "duration": 182,
    "start_time": "2022-08-01T16:15:38.627Z"
   },
   {
    "duration": 194,
    "start_time": "2022-08-01T16:15:38.811Z"
   },
   {
    "duration": 151,
    "start_time": "2022-08-01T16:15:39.007Z"
   },
   {
    "duration": 151,
    "start_time": "2022-08-01T16:15:39.160Z"
   },
   {
    "duration": 139,
    "start_time": "2022-08-01T16:15:39.313Z"
   },
   {
    "duration": 142,
    "start_time": "2022-08-01T16:15:39.454Z"
   },
   {
    "duration": 148,
    "start_time": "2022-08-01T16:15:39.604Z"
   },
   {
    "duration": 142,
    "start_time": "2022-08-01T16:15:39.754Z"
   },
   {
    "duration": 173,
    "start_time": "2022-08-01T16:15:39.898Z"
   },
   {
    "duration": 200,
    "start_time": "2022-08-01T16:15:40.073Z"
   },
   {
    "duration": 5,
    "start_time": "2022-08-01T16:15:40.274Z"
   },
   {
    "duration": 4,
    "start_time": "2022-08-01T16:15:40.281Z"
   },
   {
    "duration": 18,
    "start_time": "2022-08-01T16:15:40.286Z"
   },
   {
    "duration": 6,
    "start_time": "2022-08-01T16:15:40.306Z"
   },
   {
    "duration": 5,
    "start_time": "2022-08-01T16:15:40.314Z"
   },
   {
    "duration": 6,
    "start_time": "2022-08-01T16:15:40.320Z"
   },
   {
    "duration": 256,
    "start_time": "2022-08-01T16:15:40.328Z"
   },
   {
    "duration": 161,
    "start_time": "2022-08-01T16:15:40.586Z"
   },
   {
    "duration": 2,
    "start_time": "2022-08-01T16:15:40.751Z"
   },
   {
    "duration": 22,
    "start_time": "2022-08-01T16:15:40.755Z"
   },
   {
    "duration": 36,
    "start_time": "2022-08-01T16:15:40.778Z"
   },
   {
    "duration": 15,
    "start_time": "2022-08-01T16:15:40.815Z"
   },
   {
    "duration": 3,
    "start_time": "2022-08-01T16:15:40.832Z"
   },
   {
    "duration": 4,
    "start_time": "2022-08-01T16:15:40.837Z"
   },
   {
    "duration": 5,
    "start_time": "2022-08-01T16:15:40.843Z"
   },
   {
    "duration": 5,
    "start_time": "2022-08-01T16:15:40.849Z"
   },
   {
    "duration": 206,
    "start_time": "2022-08-01T16:15:40.856Z"
   },
   {
    "duration": 8,
    "start_time": "2022-08-01T16:15:41.064Z"
   },
   {
    "duration": 68,
    "start_time": "2022-08-03T08:12:45.201Z"
   },
   {
    "duration": 854,
    "start_time": "2022-08-03T08:12:51.388Z"
   },
   {
    "duration": 318,
    "start_time": "2022-08-03T08:12:52.759Z"
   },
   {
    "duration": 28,
    "start_time": "2022-08-03T08:12:53.562Z"
   },
   {
    "duration": 16,
    "start_time": "2022-08-03T08:12:54.278Z"
   },
   {
    "duration": 2017,
    "start_time": "2022-08-03T08:12:54.873Z"
   },
   {
    "duration": 18,
    "start_time": "2022-08-03T08:12:56.892Z"
   },
   {
    "duration": 8,
    "start_time": "2022-08-03T08:12:57.667Z"
   },
   {
    "duration": 7,
    "start_time": "2022-08-03T08:12:58.567Z"
   },
   {
    "duration": 10,
    "start_time": "2022-08-03T08:12:59.718Z"
   },
   {
    "duration": 30,
    "start_time": "2022-08-03T08:13:01.395Z"
   },
   {
    "duration": 8,
    "start_time": "2022-08-03T08:13:02.916Z"
   },
   {
    "duration": 7,
    "start_time": "2022-08-03T08:13:03.739Z"
   },
   {
    "duration": 11,
    "start_time": "2022-08-03T08:27:59.536Z"
   },
   {
    "duration": 59,
    "start_time": "2022-08-03T08:28:41.525Z"
   },
   {
    "duration": 11,
    "start_time": "2022-08-03T08:28:52.658Z"
   },
   {
    "duration": 11,
    "start_time": "2022-08-03T08:28:59.073Z"
   },
   {
    "duration": 5,
    "start_time": "2022-08-03T08:31:00.969Z"
   },
   {
    "duration": 11,
    "start_time": "2022-08-03T08:31:09.781Z"
   },
   {
    "duration": 5,
    "start_time": "2022-08-03T08:32:17.143Z"
   },
   {
    "duration": 50,
    "start_time": "2022-08-03T08:32:47.794Z"
   },
   {
    "duration": 6,
    "start_time": "2022-08-03T08:32:48.111Z"
   },
   {
    "duration": 10,
    "start_time": "2022-08-03T08:32:49.024Z"
   },
   {
    "duration": 6,
    "start_time": "2022-08-03T08:32:58.984Z"
   },
   {
    "duration": 9,
    "start_time": "2022-08-03T08:32:59.853Z"
   },
   {
    "duration": 18,
    "start_time": "2022-08-03T08:33:11.495Z"
   },
   {
    "duration": 13,
    "start_time": "2022-08-03T08:33:12.598Z"
   },
   {
    "duration": 3,
    "start_time": "2022-08-03T08:33:21.516Z"
   },
   {
    "duration": 664,
    "start_time": "2022-08-03T08:33:32.496Z"
   },
   {
    "duration": 103,
    "start_time": "2022-08-03T08:33:33.162Z"
   },
   {
    "duration": 28,
    "start_time": "2022-08-03T08:33:33.267Z"
   },
   {
    "duration": 22,
    "start_time": "2022-08-03T08:33:33.297Z"
   },
   {
    "duration": 2029,
    "start_time": "2022-08-03T08:33:33.321Z"
   },
   {
    "duration": 10,
    "start_time": "2022-08-03T08:33:35.351Z"
   },
   {
    "duration": 11,
    "start_time": "2022-08-03T08:33:35.363Z"
   },
   {
    "duration": 11,
    "start_time": "2022-08-03T08:33:35.376Z"
   },
   {
    "duration": 21,
    "start_time": "2022-08-03T08:33:35.389Z"
   },
   {
    "duration": 37,
    "start_time": "2022-08-03T08:33:35.413Z"
   },
   {
    "duration": 14,
    "start_time": "2022-08-03T08:33:35.451Z"
   },
   {
    "duration": 10,
    "start_time": "2022-08-03T08:33:35.466Z"
   },
   {
    "duration": 6,
    "start_time": "2022-08-03T08:33:35.478Z"
   },
   {
    "duration": 25,
    "start_time": "2022-08-03T08:33:35.486Z"
   },
   {
    "duration": 62,
    "start_time": "2022-08-03T08:33:35.517Z"
   },
   {
    "duration": 5,
    "start_time": "2022-08-03T08:33:35.580Z"
   },
   {
    "duration": 24,
    "start_time": "2022-08-03T08:33:35.587Z"
   },
   {
    "duration": 2,
    "start_time": "2022-08-03T08:33:35.613Z"
   },
   {
    "duration": 4,
    "start_time": "2022-08-03T08:33:35.617Z"
   },
   {
    "duration": 8,
    "start_time": "2022-08-03T08:33:35.622Z"
   },
   {
    "duration": 27,
    "start_time": "2022-08-03T08:33:35.631Z"
   },
   {
    "duration": 58,
    "start_time": "2022-08-03T08:33:35.660Z"
   },
   {
    "duration": 6,
    "start_time": "2022-08-03T08:33:35.719Z"
   },
   {
    "duration": 21,
    "start_time": "2022-08-03T08:33:35.726Z"
   },
   {
    "duration": 13,
    "start_time": "2022-08-03T08:33:35.748Z"
   },
   {
    "duration": 14,
    "start_time": "2022-08-03T08:33:35.763Z"
   },
   {
    "duration": 12,
    "start_time": "2022-08-03T08:33:35.779Z"
   },
   {
    "duration": 39,
    "start_time": "2022-08-03T08:33:35.795Z"
   },
   {
    "duration": 9,
    "start_time": "2022-08-03T08:33:35.835Z"
   },
   {
    "duration": 12,
    "start_time": "2022-08-03T08:33:35.846Z"
   },
   {
    "duration": 11,
    "start_time": "2022-08-03T08:33:35.860Z"
   },
   {
    "duration": 313,
    "start_time": "2022-08-03T08:33:35.873Z"
   },
   {
    "duration": 4,
    "start_time": "2022-08-03T08:33:36.188Z"
   },
   {
    "duration": 37,
    "start_time": "2022-08-03T08:33:36.198Z"
   },
   {
    "duration": 119,
    "start_time": "2022-08-03T08:33:36.237Z"
   },
   {
    "duration": 164,
    "start_time": "2022-08-03T08:33:36.357Z"
   },
   {
    "duration": 132,
    "start_time": "2022-08-03T08:33:36.523Z"
   },
   {
    "duration": 251,
    "start_time": "2022-08-03T08:33:36.657Z"
   },
   {
    "duration": 139,
    "start_time": "2022-08-03T08:33:36.909Z"
   },
   {
    "duration": 143,
    "start_time": "2022-08-03T08:33:37.050Z"
   },
   {
    "duration": 139,
    "start_time": "2022-08-03T08:33:37.205Z"
   },
   {
    "duration": 126,
    "start_time": "2022-08-03T08:33:37.346Z"
   },
   {
    "duration": 139,
    "start_time": "2022-08-03T08:33:37.473Z"
   },
   {
    "duration": 131,
    "start_time": "2022-08-03T08:33:37.613Z"
   },
   {
    "duration": 146,
    "start_time": "2022-08-03T08:33:37.746Z"
   },
   {
    "duration": 135,
    "start_time": "2022-08-03T08:33:37.898Z"
   },
   {
    "duration": 144,
    "start_time": "2022-08-03T08:33:38.034Z"
   },
   {
    "duration": 163,
    "start_time": "2022-08-03T08:33:38.179Z"
   },
   {
    "duration": 5,
    "start_time": "2022-08-03T08:33:38.343Z"
   },
   {
    "duration": 12,
    "start_time": "2022-08-03T08:33:38.350Z"
   },
   {
    "duration": 4,
    "start_time": "2022-08-03T08:33:38.364Z"
   },
   {
    "duration": 3,
    "start_time": "2022-08-03T08:33:38.370Z"
   },
   {
    "duration": 5,
    "start_time": "2022-08-03T08:33:38.374Z"
   },
   {
    "duration": 19,
    "start_time": "2022-08-03T08:33:38.381Z"
   },
   {
    "duration": 220,
    "start_time": "2022-08-03T08:33:38.401Z"
   },
   {
    "duration": 158,
    "start_time": "2022-08-03T08:33:38.623Z"
   },
   {
    "duration": 3,
    "start_time": "2022-08-03T08:33:38.783Z"
   },
   {
    "duration": 30,
    "start_time": "2022-08-03T08:33:38.788Z"
   },
   {
    "duration": 16,
    "start_time": "2022-08-03T08:33:38.820Z"
   },
   {
    "duration": 23,
    "start_time": "2022-08-03T08:33:38.837Z"
   },
   {
    "duration": 3,
    "start_time": "2022-08-03T08:33:38.862Z"
   },
   {
    "duration": 11,
    "start_time": "2022-08-03T08:33:38.866Z"
   },
   {
    "duration": 5,
    "start_time": "2022-08-03T08:33:38.878Z"
   },
   {
    "duration": 5,
    "start_time": "2022-08-03T08:33:38.908Z"
   },
   {
    "duration": 33,
    "start_time": "2022-08-03T08:33:38.914Z"
   },
   {
    "duration": 9,
    "start_time": "2022-08-03T08:33:38.950Z"
   },
   {
    "duration": 6,
    "start_time": "2022-08-03T08:50:27.822Z"
   },
   {
    "duration": 10,
    "start_time": "2022-08-03T08:50:28.523Z"
   },
   {
    "duration": 6,
    "start_time": "2022-08-03T08:51:19.120Z"
   },
   {
    "duration": 9,
    "start_time": "2022-08-03T08:51:19.442Z"
   },
   {
    "duration": 6,
    "start_time": "2022-08-03T08:51:34.951Z"
   },
   {
    "duration": 10,
    "start_time": "2022-08-03T08:51:43.963Z"
   },
   {
    "duration": 6,
    "start_time": "2022-08-03T08:51:53.884Z"
   },
   {
    "duration": 12,
    "start_time": "2022-08-03T08:51:54.633Z"
   },
   {
    "duration": 99,
    "start_time": "2022-08-03T08:58:39.121Z"
   },
   {
    "duration": 139,
    "start_time": "2022-08-03T08:58:44.822Z"
   },
   {
    "duration": 139,
    "start_time": "2022-08-03T08:58:59.089Z"
   },
   {
    "duration": 7,
    "start_time": "2022-08-03T08:59:05.535Z"
   },
   {
    "duration": 7,
    "start_time": "2022-08-03T08:59:12.737Z"
   },
   {
    "duration": 5,
    "start_time": "2022-08-03T08:59:19.056Z"
   },
   {
    "duration": 15,
    "start_time": "2022-08-03T08:59:30.869Z"
   },
   {
    "duration": 19,
    "start_time": "2022-08-03T09:00:00.097Z"
   },
   {
    "duration": 5,
    "start_time": "2022-08-03T09:00:25.456Z"
   },
   {
    "duration": 8,
    "start_time": "2022-08-03T09:01:41.423Z"
   },
   {
    "duration": 5,
    "start_time": "2022-08-03T09:01:47.770Z"
   },
   {
    "duration": 180,
    "start_time": "2022-08-03T09:02:41.938Z"
   },
   {
    "duration": 3,
    "start_time": "2022-08-03T09:04:40.728Z"
   },
   {
    "duration": 15,
    "start_time": "2022-08-03T09:04:44.633Z"
   },
   {
    "duration": 13,
    "start_time": "2022-08-03T09:04:52.724Z"
   },
   {
    "duration": 599,
    "start_time": "2022-08-03T09:06:51.053Z"
   },
   {
    "duration": 102,
    "start_time": "2022-08-03T09:06:51.655Z"
   },
   {
    "duration": 26,
    "start_time": "2022-08-03T09:06:51.759Z"
   },
   {
    "duration": 28,
    "start_time": "2022-08-03T09:06:51.787Z"
   },
   {
    "duration": 1960,
    "start_time": "2022-08-03T09:06:51.817Z"
   },
   {
    "duration": 10,
    "start_time": "2022-08-03T09:06:53.778Z"
   },
   {
    "duration": 8,
    "start_time": "2022-08-03T09:06:53.789Z"
   },
   {
    "duration": 23,
    "start_time": "2022-08-03T09:06:53.809Z"
   },
   {
    "duration": 17,
    "start_time": "2022-08-03T09:06:53.834Z"
   },
   {
    "duration": 27,
    "start_time": "2022-08-03T09:06:53.854Z"
   },
   {
    "duration": 4,
    "start_time": "2022-08-03T09:06:53.883Z"
   },
   {
    "duration": 24,
    "start_time": "2022-08-03T09:06:53.888Z"
   },
   {
    "duration": 28,
    "start_time": "2022-08-03T09:06:53.913Z"
   },
   {
    "duration": 4,
    "start_time": "2022-08-03T09:06:53.943Z"
   },
   {
    "duration": 5,
    "start_time": "2022-08-03T09:06:53.948Z"
   },
   {
    "duration": 7,
    "start_time": "2022-08-03T09:06:53.955Z"
   },
   {
    "duration": 4,
    "start_time": "2022-08-03T09:06:53.964Z"
   },
   {
    "duration": 13,
    "start_time": "2022-08-03T09:06:53.970Z"
   },
   {
    "duration": 60,
    "start_time": "2022-08-03T09:06:53.984Z"
   },
   {
    "duration": 6,
    "start_time": "2022-08-03T09:06:54.046Z"
   },
   {
    "duration": 18,
    "start_time": "2022-08-03T09:06:54.054Z"
   },
   {
    "duration": 11,
    "start_time": "2022-08-03T09:06:54.074Z"
   },
   {
    "duration": 40,
    "start_time": "2022-08-03T09:06:54.087Z"
   },
   {
    "duration": 14,
    "start_time": "2022-08-03T09:06:54.129Z"
   },
   {
    "duration": 7,
    "start_time": "2022-08-03T09:06:54.145Z"
   },
   {
    "duration": 13,
    "start_time": "2022-08-03T09:06:54.153Z"
   },
   {
    "duration": 61,
    "start_time": "2022-08-03T09:06:54.167Z"
   },
   {
    "duration": 5,
    "start_time": "2022-08-03T09:06:54.232Z"
   },
   {
    "duration": 10,
    "start_time": "2022-08-03T09:06:54.238Z"
   },
   {
    "duration": 7,
    "start_time": "2022-08-03T09:06:54.249Z"
   },
   {
    "duration": 20,
    "start_time": "2022-08-03T09:06:54.257Z"
   },
   {
    "duration": 31,
    "start_time": "2022-08-03T09:06:54.279Z"
   },
   {
    "duration": 12,
    "start_time": "2022-08-03T09:06:54.322Z"
   },
   {
    "duration": 5,
    "start_time": "2022-08-03T09:06:54.335Z"
   },
   {
    "duration": 9,
    "start_time": "2022-08-03T09:06:54.342Z"
   },
   {
    "duration": 355,
    "start_time": "2022-08-03T09:06:54.353Z"
   },
   {
    "duration": 12,
    "start_time": "2022-08-03T09:06:54.709Z"
   },
   {
    "duration": 48,
    "start_time": "2022-08-03T09:06:54.723Z"
   },
   {
    "duration": 169,
    "start_time": "2022-08-03T09:06:54.773Z"
   },
   {
    "duration": 161,
    "start_time": "2022-08-03T09:06:54.943Z"
   },
   {
    "duration": 168,
    "start_time": "2022-08-03T09:06:55.110Z"
   },
   {
    "duration": 243,
    "start_time": "2022-08-03T09:06:55.279Z"
   },
   {
    "duration": 153,
    "start_time": "2022-08-03T09:06:55.523Z"
   },
   {
    "duration": 159,
    "start_time": "2022-08-03T09:06:55.677Z"
   },
   {
    "duration": 167,
    "start_time": "2022-08-03T09:06:55.838Z"
   },
   {
    "duration": 142,
    "start_time": "2022-08-03T09:06:56.006Z"
   },
   {
    "duration": 138,
    "start_time": "2022-08-03T09:06:56.150Z"
   },
   {
    "duration": 140,
    "start_time": "2022-08-03T09:06:56.289Z"
   },
   {
    "duration": 135,
    "start_time": "2022-08-03T09:06:56.431Z"
   },
   {
    "duration": 153,
    "start_time": "2022-08-03T09:06:56.567Z"
   },
   {
    "duration": 160,
    "start_time": "2022-08-03T09:06:56.726Z"
   },
   {
    "duration": 161,
    "start_time": "2022-08-03T09:06:56.888Z"
   },
   {
    "duration": 6,
    "start_time": "2022-08-03T09:06:57.050Z"
   },
   {
    "duration": 6,
    "start_time": "2022-08-03T09:06:57.058Z"
   },
   {
    "duration": 7,
    "start_time": "2022-08-03T09:06:57.066Z"
   },
   {
    "duration": 5,
    "start_time": "2022-08-03T09:06:57.074Z"
   },
   {
    "duration": 31,
    "start_time": "2022-08-03T09:06:57.081Z"
   },
   {
    "duration": 20,
    "start_time": "2022-08-03T09:06:57.114Z"
   },
   {
    "duration": 234,
    "start_time": "2022-08-03T09:06:57.135Z"
   },
   {
    "duration": 173,
    "start_time": "2022-08-03T09:06:57.370Z"
   },
   {
    "duration": 3,
    "start_time": "2022-08-03T09:06:57.545Z"
   },
   {
    "duration": 27,
    "start_time": "2022-08-03T09:06:57.550Z"
   },
   {
    "duration": 53,
    "start_time": "2022-08-03T09:06:57.579Z"
   },
   {
    "duration": 19,
    "start_time": "2022-08-03T09:06:57.636Z"
   },
   {
    "duration": 33,
    "start_time": "2022-08-03T09:06:57.657Z"
   },
   {
    "duration": 2,
    "start_time": "2022-08-03T09:06:57.692Z"
   },
   {
    "duration": 40,
    "start_time": "2022-08-03T09:06:57.696Z"
   },
   {
    "duration": 17,
    "start_time": "2022-08-03T09:06:57.738Z"
   },
   {
    "duration": 6,
    "start_time": "2022-08-03T09:06:57.757Z"
   },
   {
    "duration": 13,
    "start_time": "2022-08-03T09:06:57.765Z"
   },
   {
    "duration": 7,
    "start_time": "2022-08-03T09:06:57.779Z"
   },
   {
    "duration": 8,
    "start_time": "2022-08-03T09:08:38.154Z"
   },
   {
    "duration": 170,
    "start_time": "2022-08-03T09:31:35.151Z"
   },
   {
    "duration": 138,
    "start_time": "2022-08-03T09:31:47.179Z"
   },
   {
    "duration": 164,
    "start_time": "2022-08-03T09:31:53.870Z"
   },
   {
    "duration": 133,
    "start_time": "2022-08-03T09:32:20.025Z"
   },
   {
    "duration": 170,
    "start_time": "2022-08-03T09:32:44.362Z"
   },
   {
    "duration": 5,
    "start_time": "2022-08-03T09:33:04.331Z"
   },
   {
    "duration": 2,
    "start_time": "2022-08-03T09:34:13.530Z"
   },
   {
    "duration": 2,
    "start_time": "2022-08-03T09:34:23.628Z"
   },
   {
    "duration": 648,
    "start_time": "2022-08-03T09:37:18.660Z"
   },
   {
    "duration": 123,
    "start_time": "2022-08-03T09:37:19.310Z"
   },
   {
    "duration": 30,
    "start_time": "2022-08-03T09:37:19.435Z"
   },
   {
    "duration": 16,
    "start_time": "2022-08-03T09:37:19.467Z"
   },
   {
    "duration": 1969,
    "start_time": "2022-08-03T09:37:19.485Z"
   },
   {
    "duration": 11,
    "start_time": "2022-08-03T09:37:21.456Z"
   },
   {
    "duration": 6,
    "start_time": "2022-08-03T09:37:21.469Z"
   },
   {
    "duration": 9,
    "start_time": "2022-08-03T09:37:21.477Z"
   },
   {
    "duration": 9,
    "start_time": "2022-08-03T09:37:21.487Z"
   },
   {
    "duration": 56,
    "start_time": "2022-08-03T09:37:21.498Z"
   },
   {
    "duration": 10,
    "start_time": "2022-08-03T09:37:21.555Z"
   },
   {
    "duration": 8,
    "start_time": "2022-08-03T09:37:21.567Z"
   },
   {
    "duration": 14,
    "start_time": "2022-08-03T09:37:21.576Z"
   },
   {
    "duration": 3,
    "start_time": "2022-08-03T09:37:21.592Z"
   },
   {
    "duration": 39,
    "start_time": "2022-08-03T09:37:21.597Z"
   },
   {
    "duration": 6,
    "start_time": "2022-08-03T09:37:21.637Z"
   },
   {
    "duration": 11,
    "start_time": "2022-08-03T09:37:21.644Z"
   },
   {
    "duration": 14,
    "start_time": "2022-08-03T09:37:21.656Z"
   },
   {
    "duration": 5,
    "start_time": "2022-08-03T09:37:21.671Z"
   },
   {
    "duration": 13,
    "start_time": "2022-08-03T09:37:21.677Z"
   },
   {
    "duration": 31,
    "start_time": "2022-08-03T09:37:21.692Z"
   },
   {
    "duration": 17,
    "start_time": "2022-08-03T09:37:21.725Z"
   },
   {
    "duration": 2,
    "start_time": "2022-08-03T09:37:21.744Z"
   },
   {
    "duration": 6,
    "start_time": "2022-08-03T09:37:21.748Z"
   },
   {
    "duration": 15,
    "start_time": "2022-08-03T09:37:21.755Z"
   },
   {
    "duration": 10,
    "start_time": "2022-08-03T09:37:21.771Z"
   },
   {
    "duration": 22,
    "start_time": "2022-08-03T09:37:21.782Z"
   },
   {
    "duration": 26,
    "start_time": "2022-08-03T09:37:21.810Z"
   },
   {
    "duration": 11,
    "start_time": "2022-08-03T09:37:21.838Z"
   },
   {
    "duration": 15,
    "start_time": "2022-08-03T09:37:21.850Z"
   },
   {
    "duration": 31,
    "start_time": "2022-08-03T09:37:21.866Z"
   },
   {
    "duration": 354,
    "start_time": "2022-08-03T09:37:21.912Z"
   },
   {
    "duration": 3,
    "start_time": "2022-08-03T09:37:22.269Z"
   },
   {
    "duration": 46,
    "start_time": "2022-08-03T09:37:22.274Z"
   },
   {
    "duration": 144,
    "start_time": "2022-08-03T09:37:22.325Z"
   },
   {
    "duration": 159,
    "start_time": "2022-08-03T09:37:22.470Z"
   },
   {
    "duration": 130,
    "start_time": "2022-08-03T09:37:22.631Z"
   },
   {
    "duration": 214,
    "start_time": "2022-08-03T09:37:22.763Z"
   },
   {
    "duration": 150,
    "start_time": "2022-08-03T09:37:22.979Z"
   },
   {
    "duration": 143,
    "start_time": "2022-08-03T09:37:23.131Z"
   },
   {
    "duration": 154,
    "start_time": "2022-08-03T09:37:23.275Z"
   },
   {
    "duration": 2,
    "start_time": "2022-08-03T09:37:23.431Z"
   },
   {
    "duration": 131,
    "start_time": "2022-08-03T09:37:23.434Z"
   },
   {
    "duration": 127,
    "start_time": "2022-08-03T09:37:23.566Z"
   },
   {
    "duration": 128,
    "start_time": "2022-08-03T09:37:23.694Z"
   },
   {
    "duration": 134,
    "start_time": "2022-08-03T09:37:23.826Z"
   },
   {
    "duration": 159,
    "start_time": "2022-08-03T09:37:23.961Z"
   },
   {
    "duration": 144,
    "start_time": "2022-08-03T09:37:24.122Z"
   },
   {
    "duration": 178,
    "start_time": "2022-08-03T09:37:24.268Z"
   },
   {
    "duration": 10,
    "start_time": "2022-08-03T09:37:24.448Z"
   },
   {
    "duration": 15,
    "start_time": "2022-08-03T09:37:24.461Z"
   },
   {
    "duration": 13,
    "start_time": "2022-08-03T09:37:24.478Z"
   },
   {
    "duration": 37,
    "start_time": "2022-08-03T09:37:24.493Z"
   },
   {
    "duration": 9,
    "start_time": "2022-08-03T09:37:24.532Z"
   },
   {
    "duration": 11,
    "start_time": "2022-08-03T09:37:24.543Z"
   },
   {
    "duration": 277,
    "start_time": "2022-08-03T09:37:24.556Z"
   },
   {
    "duration": 181,
    "start_time": "2022-08-03T09:37:24.835Z"
   },
   {
    "duration": 6,
    "start_time": "2022-08-03T09:37:25.017Z"
   },
   {
    "duration": 18,
    "start_time": "2022-08-03T09:37:25.026Z"
   },
   {
    "duration": 15,
    "start_time": "2022-08-03T09:37:25.045Z"
   },
   {
    "duration": 2,
    "start_time": "2022-08-03T09:37:25.062Z"
   },
   {
    "duration": 16,
    "start_time": "2022-08-03T09:37:25.066Z"
   },
   {
    "duration": 3,
    "start_time": "2022-08-03T09:37:25.083Z"
   },
   {
    "duration": 31,
    "start_time": "2022-08-03T09:37:25.087Z"
   },
   {
    "duration": 8,
    "start_time": "2022-08-03T09:37:25.125Z"
   },
   {
    "duration": 7,
    "start_time": "2022-08-03T09:37:25.134Z"
   },
   {
    "duration": 5,
    "start_time": "2022-08-03T09:37:25.143Z"
   },
   {
    "duration": 5,
    "start_time": "2022-08-03T09:37:25.149Z"
   },
   {
    "duration": 153,
    "start_time": "2022-08-03T09:38:05.475Z"
   },
   {
    "duration": 157,
    "start_time": "2022-08-03T09:38:15.221Z"
   },
   {
    "duration": 153,
    "start_time": "2022-08-03T09:38:30.686Z"
   },
   {
    "duration": 133,
    "start_time": "2022-08-03T09:38:53.727Z"
   },
   {
    "duration": 152,
    "start_time": "2022-08-03T09:40:28.893Z"
   },
   {
    "duration": 6,
    "start_time": "2022-08-03T09:40:45.656Z"
   },
   {
    "duration": 144,
    "start_time": "2022-08-03T09:43:00.522Z"
   },
   {
    "duration": 129,
    "start_time": "2022-08-03T09:44:48.130Z"
   },
   {
    "duration": 136,
    "start_time": "2022-08-03T09:57:28.073Z"
   },
   {
    "duration": 126,
    "start_time": "2022-08-03T10:01:33.621Z"
   },
   {
    "duration": 6,
    "start_time": "2022-08-03T10:03:21.826Z"
   },
   {
    "duration": 5,
    "start_time": "2022-08-03T10:03:45.048Z"
   },
   {
    "duration": 7,
    "start_time": "2022-08-03T10:03:45.493Z"
   },
   {
    "duration": 5,
    "start_time": "2022-08-03T10:03:59.847Z"
   },
   {
    "duration": 6,
    "start_time": "2022-08-03T10:04:00.272Z"
   },
   {
    "duration": 6,
    "start_time": "2022-08-03T10:04:10.449Z"
   },
   {
    "duration": 6,
    "start_time": "2022-08-03T10:04:11.225Z"
   },
   {
    "duration": 5,
    "start_time": "2022-08-03T10:04:27.485Z"
   },
   {
    "duration": 6,
    "start_time": "2022-08-03T10:04:27.782Z"
   },
   {
    "duration": 6,
    "start_time": "2022-08-03T10:08:24.942Z"
   },
   {
    "duration": 6,
    "start_time": "2022-08-03T10:08:25.171Z"
   },
   {
    "duration": 87,
    "start_time": "2022-08-03T10:09:31.425Z"
   },
   {
    "duration": 7,
    "start_time": "2022-08-03T10:09:45.026Z"
   },
   {
    "duration": 24,
    "start_time": "2022-08-03T10:09:47.697Z"
   },
   {
    "duration": 18,
    "start_time": "2022-08-03T10:09:51.794Z"
   },
   {
    "duration": 5,
    "start_time": "2022-08-03T10:09:52.054Z"
   },
   {
    "duration": 5,
    "start_time": "2022-08-03T10:09:52.325Z"
   },
   {
    "duration": 23,
    "start_time": "2022-08-03T10:09:56.195Z"
   },
   {
    "duration": 2,
    "start_time": "2022-08-03T10:09:56.454Z"
   },
   {
    "duration": 6,
    "start_time": "2022-08-03T10:09:56.727Z"
   },
   {
    "duration": 6,
    "start_time": "2022-08-03T10:10:13.979Z"
   },
   {
    "duration": 5,
    "start_time": "2022-08-03T10:10:14.274Z"
   },
   {
    "duration": 5,
    "start_time": "2022-08-03T10:10:14.550Z"
   },
   {
    "duration": 641,
    "start_time": "2022-08-03T10:10:19.165Z"
   },
   {
    "duration": 103,
    "start_time": "2022-08-03T10:10:19.822Z"
   },
   {
    "duration": 36,
    "start_time": "2022-08-03T10:10:19.927Z"
   },
   {
    "duration": 16,
    "start_time": "2022-08-03T10:10:19.965Z"
   },
   {
    "duration": 1934,
    "start_time": "2022-08-03T10:10:19.983Z"
   },
   {
    "duration": 11,
    "start_time": "2022-08-03T10:10:21.925Z"
   },
   {
    "duration": 12,
    "start_time": "2022-08-03T10:10:21.938Z"
   },
   {
    "duration": 9,
    "start_time": "2022-08-03T10:10:21.952Z"
   },
   {
    "duration": 11,
    "start_time": "2022-08-03T10:10:21.963Z"
   },
   {
    "duration": 43,
    "start_time": "2022-08-03T10:10:21.975Z"
   },
   {
    "duration": 2,
    "start_time": "2022-08-03T10:10:22.019Z"
   },
   {
    "duration": 11,
    "start_time": "2022-08-03T10:10:22.023Z"
   },
   {
    "duration": 12,
    "start_time": "2022-08-03T10:10:22.036Z"
   },
   {
    "duration": 4,
    "start_time": "2022-08-03T10:10:22.051Z"
   },
   {
    "duration": 12,
    "start_time": "2022-08-03T10:10:22.057Z"
   },
   {
    "duration": 23,
    "start_time": "2022-08-03T10:10:22.070Z"
   },
   {
    "duration": 36,
    "start_time": "2022-08-03T10:10:22.095Z"
   },
   {
    "duration": 10,
    "start_time": "2022-08-03T10:10:22.132Z"
   },
   {
    "duration": 6,
    "start_time": "2022-08-03T10:10:22.143Z"
   },
   {
    "duration": 10,
    "start_time": "2022-08-03T10:10:22.150Z"
   },
   {
    "duration": 5,
    "start_time": "2022-08-03T10:10:22.161Z"
   },
   {
    "duration": 7,
    "start_time": "2022-08-03T10:10:22.167Z"
   },
   {
    "duration": 4,
    "start_time": "2022-08-03T10:10:22.175Z"
   },
   {
    "duration": 7,
    "start_time": "2022-08-03T10:10:22.180Z"
   },
   {
    "duration": 32,
    "start_time": "2022-08-03T10:10:22.188Z"
   },
   {
    "duration": 13,
    "start_time": "2022-08-03T10:10:22.222Z"
   },
   {
    "duration": 4,
    "start_time": "2022-08-03T10:10:22.237Z"
   },
   {
    "duration": 7,
    "start_time": "2022-08-03T10:10:22.242Z"
   },
   {
    "duration": 9,
    "start_time": "2022-08-03T10:10:22.251Z"
   },
   {
    "duration": 10,
    "start_time": "2022-08-03T10:10:22.261Z"
   },
   {
    "duration": 4,
    "start_time": "2022-08-03T10:10:22.273Z"
   },
   {
    "duration": 5,
    "start_time": "2022-08-03T10:10:22.279Z"
   },
   {
    "duration": 335,
    "start_time": "2022-08-03T10:10:22.285Z"
   },
   {
    "duration": 5,
    "start_time": "2022-08-03T10:10:22.621Z"
   },
   {
    "duration": 24,
    "start_time": "2022-08-03T10:10:22.628Z"
   },
   {
    "duration": 167,
    "start_time": "2022-08-03T10:10:22.653Z"
   },
   {
    "duration": 129,
    "start_time": "2022-08-03T10:10:22.823Z"
   },
   {
    "duration": 126,
    "start_time": "2022-08-03T10:10:22.954Z"
   },
   {
    "duration": 244,
    "start_time": "2022-08-03T10:10:23.081Z"
   },
   {
    "duration": 137,
    "start_time": "2022-08-03T10:10:23.326Z"
   },
   {
    "duration": 115,
    "start_time": "2022-08-03T10:10:23.468Z"
   },
   {
    "duration": 4,
    "start_time": "2022-08-03T10:10:23.585Z"
   },
   {
    "duration": 163,
    "start_time": "2022-08-03T10:10:23.591Z"
   },
   {
    "duration": 131,
    "start_time": "2022-08-03T10:10:23.756Z"
   },
   {
    "duration": 156,
    "start_time": "2022-08-03T10:10:23.889Z"
   },
   {
    "duration": 131,
    "start_time": "2022-08-03T10:10:24.047Z"
   },
   {
    "duration": 123,
    "start_time": "2022-08-03T10:10:24.180Z"
   },
   {
    "duration": 161,
    "start_time": "2022-08-03T10:10:24.304Z"
   },
   {
    "duration": 187,
    "start_time": "2022-08-03T10:10:24.467Z"
   },
   {
    "duration": 5,
    "start_time": "2022-08-03T10:10:24.657Z"
   },
   {
    "duration": 5,
    "start_time": "2022-08-03T10:10:24.664Z"
   },
   {
    "duration": 6,
    "start_time": "2022-08-03T10:10:24.671Z"
   },
   {
    "duration": 22,
    "start_time": "2022-08-03T10:10:24.698Z"
   },
   {
    "duration": 13,
    "start_time": "2022-08-03T10:10:24.730Z"
   },
   {
    "duration": 10,
    "start_time": "2022-08-03T10:10:24.745Z"
   },
   {
    "duration": 190,
    "start_time": "2022-08-03T10:10:24.757Z"
   },
   {
    "duration": 227,
    "start_time": "2022-08-03T10:10:24.948Z"
   },
   {
    "duration": 3,
    "start_time": "2022-08-03T10:10:25.176Z"
   },
   {
    "duration": 31,
    "start_time": "2022-08-03T10:10:25.181Z"
   },
   {
    "duration": 43,
    "start_time": "2022-08-03T10:10:25.213Z"
   },
   {
    "duration": 3,
    "start_time": "2022-08-03T10:10:25.258Z"
   },
   {
    "duration": 18,
    "start_time": "2022-08-03T10:10:25.263Z"
   },
   {
    "duration": 7,
    "start_time": "2022-08-03T10:10:25.282Z"
   },
   {
    "duration": 4,
    "start_time": "2022-08-03T10:10:25.291Z"
   },
   {
    "duration": 50,
    "start_time": "2022-08-03T10:10:25.296Z"
   },
   {
    "duration": 17,
    "start_time": "2022-08-03T10:10:25.348Z"
   },
   {
    "duration": 5,
    "start_time": "2022-08-03T10:10:25.367Z"
   },
   {
    "duration": 9,
    "start_time": "2022-08-03T10:10:25.374Z"
   },
   {
    "duration": 3,
    "start_time": "2022-08-03T10:10:59.122Z"
   },
   {
    "duration": 147,
    "start_time": "2022-08-03T10:11:02.269Z"
   },
   {
    "duration": 624,
    "start_time": "2022-08-03T10:12:22.853Z"
   },
   {
    "duration": 116,
    "start_time": "2022-08-03T10:12:23.479Z"
   },
   {
    "duration": 34,
    "start_time": "2022-08-03T10:12:23.597Z"
   },
   {
    "duration": 14,
    "start_time": "2022-08-03T10:12:23.633Z"
   },
   {
    "duration": 2072,
    "start_time": "2022-08-03T10:12:23.649Z"
   },
   {
    "duration": 13,
    "start_time": "2022-08-03T10:12:25.723Z"
   },
   {
    "duration": 7,
    "start_time": "2022-08-03T10:12:25.738Z"
   },
   {
    "duration": 9,
    "start_time": "2022-08-03T10:12:25.746Z"
   },
   {
    "duration": 11,
    "start_time": "2022-08-03T10:12:25.756Z"
   },
   {
    "duration": 52,
    "start_time": "2022-08-03T10:12:25.769Z"
   },
   {
    "duration": 2,
    "start_time": "2022-08-03T10:12:25.825Z"
   },
   {
    "duration": 14,
    "start_time": "2022-08-03T10:12:25.829Z"
   },
   {
    "duration": 13,
    "start_time": "2022-08-03T10:12:25.845Z"
   },
   {
    "duration": 8,
    "start_time": "2022-08-03T10:12:25.859Z"
   },
   {
    "duration": 18,
    "start_time": "2022-08-03T10:12:25.868Z"
   },
   {
    "duration": 2,
    "start_time": "2022-08-03T10:12:25.888Z"
   },
   {
    "duration": 38,
    "start_time": "2022-08-03T10:12:25.892Z"
   },
   {
    "duration": 13,
    "start_time": "2022-08-03T10:12:25.936Z"
   },
   {
    "duration": 12,
    "start_time": "2022-08-03T10:12:25.951Z"
   },
   {
    "duration": 15,
    "start_time": "2022-08-03T10:12:25.965Z"
   },
   {
    "duration": 5,
    "start_time": "2022-08-03T10:12:25.982Z"
   },
   {
    "duration": 38,
    "start_time": "2022-08-03T10:12:25.989Z"
   },
   {
    "duration": 5,
    "start_time": "2022-08-03T10:12:26.029Z"
   },
   {
    "duration": 9,
    "start_time": "2022-08-03T10:12:26.035Z"
   },
   {
    "duration": 12,
    "start_time": "2022-08-03T10:12:26.046Z"
   },
   {
    "duration": 10,
    "start_time": "2022-08-03T10:12:26.060Z"
   },
   {
    "duration": 9,
    "start_time": "2022-08-03T10:12:26.072Z"
   },
   {
    "duration": 24,
    "start_time": "2022-08-03T10:12:26.083Z"
   },
   {
    "duration": 21,
    "start_time": "2022-08-03T10:12:26.116Z"
   },
   {
    "duration": 9,
    "start_time": "2022-08-03T10:12:26.138Z"
   },
   {
    "duration": 12,
    "start_time": "2022-08-03T10:12:26.148Z"
   },
   {
    "duration": 5,
    "start_time": "2022-08-03T10:12:26.164Z"
   },
   {
    "duration": 325,
    "start_time": "2022-08-03T10:12:26.170Z"
   },
   {
    "duration": 18,
    "start_time": "2022-08-03T10:12:26.497Z"
   },
   {
    "duration": 33,
    "start_time": "2022-08-03T10:12:26.517Z"
   },
   {
    "duration": 139,
    "start_time": "2022-08-03T10:12:26.552Z"
   },
   {
    "duration": 145,
    "start_time": "2022-08-03T10:12:26.693Z"
   },
   {
    "duration": 134,
    "start_time": "2022-08-03T10:12:26.840Z"
   },
   {
    "duration": 219,
    "start_time": "2022-08-03T10:12:26.976Z"
   },
   {
    "duration": 146,
    "start_time": "2022-08-03T10:12:27.196Z"
   },
   {
    "duration": 141,
    "start_time": "2022-08-03T10:12:27.343Z"
   },
   {
    "duration": 3,
    "start_time": "2022-08-03T10:12:27.485Z"
   },
   {
    "duration": 158,
    "start_time": "2022-08-03T10:12:27.497Z"
   },
   {
    "duration": 132,
    "start_time": "2022-08-03T10:12:27.657Z"
   },
   {
    "duration": 139,
    "start_time": "2022-08-03T10:12:27.791Z"
   },
   {
    "duration": 144,
    "start_time": "2022-08-03T10:12:27.932Z"
   },
   {
    "duration": 156,
    "start_time": "2022-08-03T10:12:28.077Z"
   },
   {
    "duration": 145,
    "start_time": "2022-08-03T10:12:28.235Z"
   },
   {
    "duration": 165,
    "start_time": "2022-08-03T10:12:28.382Z"
   },
   {
    "duration": 5,
    "start_time": "2022-08-03T10:12:28.548Z"
   },
   {
    "duration": 31,
    "start_time": "2022-08-03T10:12:28.554Z"
   },
   {
    "duration": 47,
    "start_time": "2022-08-03T10:12:28.587Z"
   },
   {
    "duration": 26,
    "start_time": "2022-08-03T10:12:28.636Z"
   },
   {
    "duration": 21,
    "start_time": "2022-08-03T10:12:28.663Z"
   },
   {
    "duration": 43,
    "start_time": "2022-08-03T10:12:28.685Z"
   },
   {
    "duration": 211,
    "start_time": "2022-08-03T10:12:28.730Z"
   },
   {
    "duration": 239,
    "start_time": "2022-08-03T10:12:28.943Z"
   },
   {
    "duration": 2,
    "start_time": "2022-08-03T10:12:29.184Z"
   },
   {
    "duration": 49,
    "start_time": "2022-08-03T10:12:29.188Z"
   },
   {
    "duration": 15,
    "start_time": "2022-08-03T10:12:29.239Z"
   },
   {
    "duration": 17,
    "start_time": "2022-08-03T10:12:29.256Z"
   },
   {
    "duration": 47,
    "start_time": "2022-08-03T10:12:29.274Z"
   },
   {
    "duration": 20,
    "start_time": "2022-08-03T10:12:29.323Z"
   },
   {
    "duration": 21,
    "start_time": "2022-08-03T10:12:29.344Z"
   },
   {
    "duration": 13,
    "start_time": "2022-08-03T10:12:29.366Z"
   },
   {
    "duration": 30,
    "start_time": "2022-08-03T10:12:29.380Z"
   },
   {
    "duration": 26,
    "start_time": "2022-08-03T10:12:29.417Z"
   },
   {
    "duration": 13,
    "start_time": "2022-08-03T10:12:29.445Z"
   },
   {
    "duration": 8,
    "start_time": "2022-08-03T10:13:41.454Z"
   },
   {
    "duration": 5,
    "start_time": "2022-08-03T10:13:47.029Z"
   },
   {
    "duration": 131,
    "start_time": "2022-08-03T10:16:22.345Z"
   },
   {
    "duration": 6,
    "start_time": "2022-08-03T10:16:56.591Z"
   },
   {
    "duration": 11,
    "start_time": "2022-08-03T10:16:56.852Z"
   },
   {
    "duration": 9,
    "start_time": "2022-08-03T10:17:40.223Z"
   },
   {
    "duration": 10,
    "start_time": "2022-08-03T10:17:46.055Z"
   },
   {
    "duration": 12,
    "start_time": "2022-08-03T10:18:10.829Z"
   },
   {
    "duration": 11,
    "start_time": "2022-08-03T10:18:11.343Z"
   },
   {
    "duration": 157,
    "start_time": "2022-08-03T10:18:23.752Z"
   },
   {
    "duration": 13,
    "start_time": "2022-08-03T10:19:39.820Z"
   },
   {
    "duration": 6,
    "start_time": "2022-08-03T10:19:40.273Z"
   },
   {
    "duration": 11,
    "start_time": "2022-08-03T10:19:50.928Z"
   },
   {
    "duration": 5,
    "start_time": "2022-08-03T10:19:51.263Z"
   },
   {
    "duration": 175,
    "start_time": "2022-08-03T10:20:30.254Z"
   },
   {
    "duration": 147,
    "start_time": "2022-08-03T10:21:00.339Z"
   },
   {
    "duration": 18,
    "start_time": "2022-08-03T10:26:10.361Z"
   },
   {
    "duration": 15,
    "start_time": "2022-08-03T10:26:50.945Z"
   },
   {
    "duration": 163,
    "start_time": "2022-08-03T10:27:16.751Z"
   },
   {
    "duration": 167,
    "start_time": "2022-08-03T10:27:51.490Z"
   },
   {
    "duration": 105,
    "start_time": "2022-08-03T10:39:15.977Z"
   },
   {
    "duration": 24,
    "start_time": "2022-08-03T10:39:20.792Z"
   },
   {
    "duration": 131,
    "start_time": "2022-08-03T10:39:49.137Z"
   },
   {
    "duration": 160,
    "start_time": "2022-08-03T10:40:51.277Z"
   },
   {
    "duration": 166,
    "start_time": "2022-08-03T10:43:22.218Z"
   },
   {
    "duration": 203,
    "start_time": "2022-08-03T10:44:17.090Z"
   },
   {
    "duration": 140,
    "start_time": "2022-08-03T10:44:37.544Z"
   },
   {
    "duration": 183,
    "start_time": "2022-08-03T10:44:56.445Z"
   },
   {
    "duration": 95,
    "start_time": "2022-08-03T10:45:07.383Z"
   },
   {
    "duration": 180,
    "start_time": "2022-08-03T10:45:12.355Z"
   },
   {
    "duration": 6,
    "start_time": "2022-08-03T10:48:00.359Z"
   },
   {
    "duration": 321,
    "start_time": "2022-08-03T10:48:08.237Z"
   },
   {
    "duration": 5,
    "start_time": "2022-08-03T10:49:17.773Z"
   },
   {
    "duration": 8,
    "start_time": "2022-08-03T10:51:23.833Z"
   },
   {
    "duration": 12,
    "start_time": "2022-08-03T10:51:32.621Z"
   },
   {
    "duration": 3,
    "start_time": "2022-08-03T10:53:18.932Z"
   },
   {
    "duration": 4,
    "start_time": "2022-08-03T10:53:19.143Z"
   },
   {
    "duration": 2,
    "start_time": "2022-08-03T10:53:24.259Z"
   },
   {
    "duration": 9,
    "start_time": "2022-08-03T10:54:00.533Z"
   },
   {
    "duration": 6,
    "start_time": "2022-08-03T10:54:00.934Z"
   },
   {
    "duration": 7,
    "start_time": "2022-08-03T10:54:05.072Z"
   },
   {
    "duration": 5,
    "start_time": "2022-08-03T10:54:10.602Z"
   },
   {
    "duration": 2,
    "start_time": "2022-08-03T10:54:10.869Z"
   },
   {
    "duration": 4,
    "start_time": "2022-08-03T10:54:11.137Z"
   },
   {
    "duration": 7,
    "start_time": "2022-08-03T10:54:44.855Z"
   },
   {
    "duration": 11,
    "start_time": "2022-08-03T10:54:52.325Z"
   },
   {
    "duration": 5,
    "start_time": "2022-08-03T10:55:00.466Z"
   },
   {
    "duration": 7,
    "start_time": "2022-08-03T10:55:01.433Z"
   },
   {
    "duration": 12,
    "start_time": "2022-08-03T10:55:17.825Z"
   },
   {
    "duration": 7,
    "start_time": "2022-08-03T10:55:34.363Z"
   },
   {
    "duration": 22,
    "start_time": "2022-08-03T11:02:30.919Z"
   },
   {
    "duration": 22,
    "start_time": "2022-08-03T11:03:43.217Z"
   },
   {
    "duration": 10,
    "start_time": "2022-08-03T11:03:52.265Z"
   },
   {
    "duration": 15,
    "start_time": "2022-08-03T11:04:03.123Z"
   },
   {
    "duration": 64,
    "start_time": "2022-08-03T11:04:27.583Z"
   },
   {
    "duration": 26,
    "start_time": "2022-08-03T11:14:51.625Z"
   },
   {
    "duration": 699,
    "start_time": "2022-08-03T11:16:38.988Z"
   },
   {
    "duration": 136,
    "start_time": "2022-08-03T11:16:39.689Z"
   },
   {
    "duration": 28,
    "start_time": "2022-08-03T11:16:39.827Z"
   },
   {
    "duration": 14,
    "start_time": "2022-08-03T11:16:39.858Z"
   },
   {
    "duration": 2146,
    "start_time": "2022-08-03T11:16:39.874Z"
   },
   {
    "duration": 10,
    "start_time": "2022-08-03T11:16:42.028Z"
   },
   {
    "duration": 19,
    "start_time": "2022-08-03T11:16:42.040Z"
   },
   {
    "duration": 7,
    "start_time": "2022-08-03T11:16:42.061Z"
   },
   {
    "duration": 21,
    "start_time": "2022-08-03T11:16:42.070Z"
   },
   {
    "duration": 35,
    "start_time": "2022-08-03T11:16:42.093Z"
   },
   {
    "duration": 12,
    "start_time": "2022-08-03T11:16:42.134Z"
   },
   {
    "duration": 12,
    "start_time": "2022-08-03T11:16:42.148Z"
   },
   {
    "duration": 5,
    "start_time": "2022-08-03T11:16:42.161Z"
   },
   {
    "duration": 20,
    "start_time": "2022-08-03T11:16:42.167Z"
   },
   {
    "duration": 15,
    "start_time": "2022-08-03T11:16:42.204Z"
   },
   {
    "duration": 31,
    "start_time": "2022-08-03T11:16:42.229Z"
   },
   {
    "duration": 16,
    "start_time": "2022-08-03T11:16:42.262Z"
   },
   {
    "duration": 9,
    "start_time": "2022-08-03T11:16:42.280Z"
   },
   {
    "duration": 4,
    "start_time": "2022-08-03T11:16:42.291Z"
   },
   {
    "duration": 22,
    "start_time": "2022-08-03T11:16:42.312Z"
   },
   {
    "duration": 16,
    "start_time": "2022-08-03T11:16:42.336Z"
   },
   {
    "duration": 16,
    "start_time": "2022-08-03T11:16:42.353Z"
   },
   {
    "duration": 9,
    "start_time": "2022-08-03T11:16:42.371Z"
   },
   {
    "duration": 38,
    "start_time": "2022-08-03T11:16:42.381Z"
   },
   {
    "duration": 11,
    "start_time": "2022-08-03T11:16:42.425Z"
   },
   {
    "duration": 12,
    "start_time": "2022-08-03T11:16:42.438Z"
   },
   {
    "duration": 8,
    "start_time": "2022-08-03T11:16:42.453Z"
   },
   {
    "duration": 19,
    "start_time": "2022-08-03T11:16:42.466Z"
   },
   {
    "duration": 5,
    "start_time": "2022-08-03T11:16:42.487Z"
   },
   {
    "duration": 31,
    "start_time": "2022-08-03T11:16:42.494Z"
   },
   {
    "duration": 19,
    "start_time": "2022-08-03T11:16:42.527Z"
   },
   {
    "duration": 9,
    "start_time": "2022-08-03T11:16:42.549Z"
   },
   {
    "duration": 6,
    "start_time": "2022-08-03T11:16:42.559Z"
   },
   {
    "duration": 10,
    "start_time": "2022-08-03T11:16:42.567Z"
   },
   {
    "duration": 7,
    "start_time": "2022-08-03T11:16:42.579Z"
   },
   {
    "duration": 17,
    "start_time": "2022-08-03T11:16:42.588Z"
   },
   {
    "duration": 16,
    "start_time": "2022-08-03T11:16:42.617Z"
   },
   {
    "duration": 303,
    "start_time": "2022-08-03T11:16:42.635Z"
   },
   {
    "duration": 4,
    "start_time": "2022-08-03T11:16:42.940Z"
   },
   {
    "duration": 30,
    "start_time": "2022-08-03T11:16:42.946Z"
   },
   {
    "duration": 157,
    "start_time": "2022-08-03T11:16:42.978Z"
   },
   {
    "duration": 159,
    "start_time": "2022-08-03T11:16:43.136Z"
   },
   {
    "duration": 160,
    "start_time": "2022-08-03T11:16:43.304Z"
   },
   {
    "duration": 248,
    "start_time": "2022-08-03T11:16:43.466Z"
   },
   {
    "duration": 159,
    "start_time": "2022-08-03T11:16:43.726Z"
   },
   {
    "duration": 144,
    "start_time": "2022-08-03T11:16:43.887Z"
   },
   {
    "duration": 142,
    "start_time": "2022-08-03T11:16:44.032Z"
   },
   {
    "duration": 164,
    "start_time": "2022-08-03T11:16:44.175Z"
   },
   {
    "duration": 187,
    "start_time": "2022-08-03T11:16:44.341Z"
   },
   {
    "duration": 186,
    "start_time": "2022-08-03T11:16:44.531Z"
   },
   {
    "duration": 159,
    "start_time": "2022-08-03T11:16:44.719Z"
   },
   {
    "duration": 170,
    "start_time": "2022-08-03T11:16:44.880Z"
   },
   {
    "duration": 178,
    "start_time": "2022-08-03T11:16:45.051Z"
   },
   {
    "duration": 5,
    "start_time": "2022-08-03T11:16:45.233Z"
   },
   {
    "duration": 190,
    "start_time": "2022-08-03T11:16:45.241Z"
   },
   {
    "duration": 3,
    "start_time": "2022-08-03T11:16:45.434Z"
   },
   {
    "duration": 16,
    "start_time": "2022-08-03T11:16:45.439Z"
   },
   {
    "duration": 5,
    "start_time": "2022-08-03T11:16:45.457Z"
   },
   {
    "duration": 9,
    "start_time": "2022-08-03T11:16:45.464Z"
   },
   {
    "duration": 215,
    "start_time": "2022-08-03T11:16:45.475Z"
   },
   {
    "duration": 143,
    "start_time": "2022-08-03T11:16:45.692Z"
   },
   {
    "duration": 3,
    "start_time": "2022-08-03T11:16:45.838Z"
   },
   {
    "duration": 19,
    "start_time": "2022-08-03T11:16:45.842Z"
   },
   {
    "duration": 25,
    "start_time": "2022-08-03T11:16:45.862Z"
   },
   {
    "duration": 27,
    "start_time": "2022-08-03T11:16:45.889Z"
   },
   {
    "duration": 23,
    "start_time": "2022-08-03T11:16:45.928Z"
   },
   {
    "duration": 3,
    "start_time": "2022-08-03T11:16:45.953Z"
   },
   {
    "duration": 14,
    "start_time": "2022-08-03T11:16:45.958Z"
   },
   {
    "duration": 12,
    "start_time": "2022-08-03T11:16:45.973Z"
   },
   {
    "duration": 5,
    "start_time": "2022-08-03T11:16:45.987Z"
   },
   {
    "duration": 67,
    "start_time": "2022-08-03T11:16:45.993Z"
   },
   {
    "duration": 7,
    "start_time": "2022-08-03T11:16:46.062Z"
   },
   {
    "duration": 6,
    "start_time": "2022-08-03T11:16:46.070Z"
   },
   {
    "duration": 17,
    "start_time": "2022-08-03T11:20:28.981Z"
   },
   {
    "duration": 27,
    "start_time": "2022-08-03T11:20:39.226Z"
   },
   {
    "duration": 181,
    "start_time": "2022-08-03T11:23:19.795Z"
   },
   {
    "duration": 12,
    "start_time": "2022-08-03T11:25:07.796Z"
   },
   {
    "duration": 8,
    "start_time": "2022-08-03T11:25:13.425Z"
   },
   {
    "duration": 4,
    "start_time": "2022-08-03T11:25:18.825Z"
   },
   {
    "duration": 15,
    "start_time": "2022-08-03T11:25:53.967Z"
   },
   {
    "duration": 14,
    "start_time": "2022-08-03T11:26:06.566Z"
   },
   {
    "duration": 14,
    "start_time": "2022-08-03T11:26:19.638Z"
   },
   {
    "duration": 158,
    "start_time": "2022-08-03T11:26:29.517Z"
   },
   {
    "duration": 26,
    "start_time": "2022-08-03T11:26:34.521Z"
   },
   {
    "duration": 201,
    "start_time": "2022-08-03T11:27:09.366Z"
   },
   {
    "duration": 223,
    "start_time": "2022-08-03T11:28:07.888Z"
   },
   {
    "duration": 199,
    "start_time": "2022-08-03T11:28:26.032Z"
   },
   {
    "duration": 255,
    "start_time": "2022-08-03T11:28:52.191Z"
   },
   {
    "duration": 24,
    "start_time": "2022-08-03T11:29:04.617Z"
   },
   {
    "duration": 188,
    "start_time": "2022-08-03T11:29:27.281Z"
   },
   {
    "duration": 231,
    "start_time": "2022-08-03T11:31:40.287Z"
   },
   {
    "duration": 219,
    "start_time": "2022-08-03T11:35:33.725Z"
   },
   {
    "duration": 34,
    "start_time": "2022-08-03T11:41:07.192Z"
   },
   {
    "duration": 283,
    "start_time": "2022-08-03T11:41:25.085Z"
   },
   {
    "duration": 22,
    "start_time": "2022-08-03T11:41:59.745Z"
   },
   {
    "duration": 35,
    "start_time": "2022-08-03T11:42:43.095Z"
   },
   {
    "duration": 234,
    "start_time": "2022-08-03T11:43:00.652Z"
   },
   {
    "duration": 236,
    "start_time": "2022-08-03T11:43:29.893Z"
   },
   {
    "duration": 7,
    "start_time": "2022-08-03T11:50:53.746Z"
   },
   {
    "duration": 7,
    "start_time": "2022-08-03T11:50:55.625Z"
   },
   {
    "duration": 9,
    "start_time": "2022-08-03T11:50:55.949Z"
   },
   {
    "duration": 668,
    "start_time": "2022-08-03T11:53:47.079Z"
   },
   {
    "duration": 105,
    "start_time": "2022-08-03T11:53:47.749Z"
   },
   {
    "duration": 32,
    "start_time": "2022-08-03T11:53:47.855Z"
   },
   {
    "duration": 43,
    "start_time": "2022-08-03T11:53:47.889Z"
   },
   {
    "duration": 1981,
    "start_time": "2022-08-03T11:53:47.935Z"
   },
   {
    "duration": 16,
    "start_time": "2022-08-03T11:53:49.917Z"
   },
   {
    "duration": 5,
    "start_time": "2022-08-03T11:53:49.935Z"
   },
   {
    "duration": 7,
    "start_time": "2022-08-03T11:53:49.942Z"
   },
   {
    "duration": 23,
    "start_time": "2022-08-03T11:53:49.950Z"
   },
   {
    "duration": 36,
    "start_time": "2022-08-03T11:53:49.975Z"
   },
   {
    "duration": 58,
    "start_time": "2022-08-03T11:53:50.012Z"
   },
   {
    "duration": 5,
    "start_time": "2022-08-03T11:53:50.072Z"
   },
   {
    "duration": 65,
    "start_time": "2022-08-03T11:53:50.079Z"
   },
   {
    "duration": 6,
    "start_time": "2022-08-03T11:53:50.149Z"
   },
   {
    "duration": 20,
    "start_time": "2022-08-03T11:53:50.157Z"
   },
   {
    "duration": 6,
    "start_time": "2022-08-03T11:53:50.179Z"
   },
   {
    "duration": 52,
    "start_time": "2022-08-03T11:53:50.187Z"
   },
   {
    "duration": 13,
    "start_time": "2022-08-03T11:53:50.240Z"
   },
   {
    "duration": 9,
    "start_time": "2022-08-03T11:53:50.255Z"
   },
   {
    "duration": 9,
    "start_time": "2022-08-03T11:53:50.266Z"
   },
   {
    "duration": 8,
    "start_time": "2022-08-03T11:53:50.277Z"
   },
   {
    "duration": 7,
    "start_time": "2022-08-03T11:53:50.287Z"
   },
   {
    "duration": 38,
    "start_time": "2022-08-03T11:53:50.296Z"
   },
   {
    "duration": 6,
    "start_time": "2022-08-03T11:53:50.336Z"
   },
   {
    "duration": 6,
    "start_time": "2022-08-03T11:53:50.344Z"
   },
   {
    "duration": 5,
    "start_time": "2022-08-03T11:53:50.352Z"
   },
   {
    "duration": 7,
    "start_time": "2022-08-03T11:53:50.358Z"
   },
   {
    "duration": 7,
    "start_time": "2022-08-03T11:53:50.366Z"
   },
   {
    "duration": 55,
    "start_time": "2022-08-03T11:53:50.374Z"
   },
   {
    "duration": 15,
    "start_time": "2022-08-03T11:53:50.431Z"
   },
   {
    "duration": 4,
    "start_time": "2022-08-03T11:53:50.448Z"
   },
   {
    "duration": 7,
    "start_time": "2022-08-03T11:53:50.453Z"
   },
   {
    "duration": 13,
    "start_time": "2022-08-03T11:53:50.462Z"
   },
   {
    "duration": 11,
    "start_time": "2022-08-03T11:53:50.476Z"
   },
   {
    "duration": 43,
    "start_time": "2022-08-03T11:53:50.488Z"
   },
   {
    "duration": 13,
    "start_time": "2022-08-03T11:53:50.534Z"
   },
   {
    "duration": 11,
    "start_time": "2022-08-03T11:53:50.548Z"
   },
   {
    "duration": 7,
    "start_time": "2022-08-03T11:53:50.561Z"
   },
   {
    "duration": 6,
    "start_time": "2022-08-03T11:53:50.570Z"
   },
   {
    "duration": 6,
    "start_time": "2022-08-03T11:53:50.578Z"
   },
   {
    "duration": 342,
    "start_time": "2022-08-03T11:53:50.599Z"
   },
   {
    "duration": 5,
    "start_time": "2022-08-03T11:53:50.942Z"
   },
   {
    "duration": 31,
    "start_time": "2022-08-03T11:53:50.949Z"
   },
   {
    "duration": 176,
    "start_time": "2022-08-03T11:53:50.982Z"
   },
   {
    "duration": 142,
    "start_time": "2022-08-03T11:53:51.159Z"
   },
   {
    "duration": 146,
    "start_time": "2022-08-03T11:53:51.302Z"
   },
   {
    "duration": 222,
    "start_time": "2022-08-03T11:53:51.450Z"
   },
   {
    "duration": 171,
    "start_time": "2022-08-03T11:53:51.674Z"
   },
   {
    "duration": 128,
    "start_time": "2022-08-03T11:53:51.846Z"
   },
   {
    "duration": 152,
    "start_time": "2022-08-03T11:53:51.976Z"
   },
   {
    "duration": 152,
    "start_time": "2022-08-03T11:53:52.134Z"
   },
   {
    "duration": 153,
    "start_time": "2022-08-03T11:53:52.288Z"
   },
   {
    "duration": 137,
    "start_time": "2022-08-03T11:53:52.442Z"
   },
   {
    "duration": 160,
    "start_time": "2022-08-03T11:53:52.581Z"
   },
   {
    "duration": 182,
    "start_time": "2022-08-03T11:53:52.743Z"
   },
   {
    "duration": 147,
    "start_time": "2022-08-03T11:53:52.926Z"
   },
   {
    "duration": 5,
    "start_time": "2022-08-03T11:53:53.075Z"
   },
   {
    "duration": 41,
    "start_time": "2022-08-03T11:53:53.081Z"
   },
   {
    "duration": 207,
    "start_time": "2022-08-03T11:53:53.124Z"
   },
   {
    "duration": 16,
    "start_time": "2022-08-03T11:53:53.332Z"
   },
   {
    "duration": 275,
    "start_time": "2022-08-03T11:53:53.350Z"
   },
   {
    "duration": 17,
    "start_time": "2022-08-03T11:53:53.626Z"
   },
   {
    "duration": 204,
    "start_time": "2022-08-03T11:53:53.644Z"
   },
   {
    "duration": 13,
    "start_time": "2022-08-03T11:53:53.849Z"
   },
   {
    "duration": 212,
    "start_time": "2022-08-03T11:53:53.863Z"
   },
   {
    "duration": 48,
    "start_time": "2022-08-03T11:53:54.077Z"
   },
   {
    "duration": 169,
    "start_time": "2022-08-03T11:53:54.127Z"
   },
   {
    "duration": 19,
    "start_time": "2022-08-03T11:53:54.297Z"
   },
   {
    "duration": 224,
    "start_time": "2022-08-03T11:53:54.317Z"
   },
   {
    "duration": 14,
    "start_time": "2022-08-03T11:53:54.543Z"
   },
   {
    "duration": 241,
    "start_time": "2022-08-03T11:53:54.559Z"
   },
   {
    "duration": 15,
    "start_time": "2022-08-03T11:53:54.801Z"
   },
   {
    "duration": 243,
    "start_time": "2022-08-03T11:53:54.817Z"
   },
   {
    "duration": 2,
    "start_time": "2022-08-03T11:53:55.062Z"
   },
   {
    "duration": 8,
    "start_time": "2022-08-03T11:53:55.066Z"
   },
   {
    "duration": 134,
    "start_time": "2022-08-03T12:15:29.639Z"
   },
   {
    "duration": 138,
    "start_time": "2022-08-03T12:15:48.050Z"
   },
   {
    "duration": 14,
    "start_time": "2022-08-03T12:28:01.812Z"
   },
   {
    "duration": 7,
    "start_time": "2022-08-03T12:28:38.936Z"
   },
   {
    "duration": 174,
    "start_time": "2022-08-03T12:28:39.951Z"
   },
   {
    "duration": 33,
    "start_time": "2022-08-03T12:42:38.695Z"
   },
   {
    "duration": 12,
    "start_time": "2022-08-03T12:42:50.080Z"
   },
   {
    "duration": 32,
    "start_time": "2022-08-03T12:43:35.187Z"
   },
   {
    "duration": 190,
    "start_time": "2022-08-03T15:28:44.842Z"
   },
   {
    "duration": 5,
    "start_time": "2022-08-03T15:28:45.042Z"
   },
   {
    "duration": 685,
    "start_time": "2022-08-03T15:32:31.274Z"
   },
   {
    "duration": 110,
    "start_time": "2022-08-03T15:32:31.961Z"
   },
   {
    "duration": 40,
    "start_time": "2022-08-03T15:32:32.073Z"
   },
   {
    "duration": 52,
    "start_time": "2022-08-03T15:32:32.125Z"
   },
   {
    "duration": 2057,
    "start_time": "2022-08-03T15:32:32.179Z"
   },
   {
    "duration": 10,
    "start_time": "2022-08-03T15:32:34.244Z"
   },
   {
    "duration": 18,
    "start_time": "2022-08-03T15:32:34.255Z"
   },
   {
    "duration": 61,
    "start_time": "2022-08-03T15:32:34.275Z"
   },
   {
    "duration": 24,
    "start_time": "2022-08-03T15:32:34.337Z"
   },
   {
    "duration": 99,
    "start_time": "2022-08-03T15:32:34.365Z"
   },
   {
    "duration": 74,
    "start_time": "2022-08-03T15:32:34.466Z"
   },
   {
    "duration": 26,
    "start_time": "2022-08-03T15:32:34.545Z"
   },
   {
    "duration": 83,
    "start_time": "2022-08-03T15:32:34.573Z"
   },
   {
    "duration": 21,
    "start_time": "2022-08-03T15:32:34.658Z"
   },
   {
    "duration": 70,
    "start_time": "2022-08-03T15:32:34.681Z"
   },
   {
    "duration": 21,
    "start_time": "2022-08-03T15:32:34.753Z"
   },
   {
    "duration": 76,
    "start_time": "2022-08-03T15:32:34.777Z"
   },
   {
    "duration": 57,
    "start_time": "2022-08-03T15:32:34.855Z"
   },
   {
    "duration": 67,
    "start_time": "2022-08-03T15:32:34.914Z"
   },
   {
    "duration": 66,
    "start_time": "2022-08-03T15:32:34.983Z"
   },
   {
    "duration": 39,
    "start_time": "2022-08-03T15:32:35.051Z"
   },
   {
    "duration": 56,
    "start_time": "2022-08-03T15:32:35.092Z"
   },
   {
    "duration": 68,
    "start_time": "2022-08-03T15:32:35.150Z"
   },
   {
    "duration": 49,
    "start_time": "2022-08-03T15:32:35.220Z"
   },
   {
    "duration": 53,
    "start_time": "2022-08-03T15:32:35.271Z"
   },
   {
    "duration": 31,
    "start_time": "2022-08-03T15:32:35.326Z"
   },
   {
    "duration": 24,
    "start_time": "2022-08-03T15:32:35.359Z"
   },
   {
    "duration": 50,
    "start_time": "2022-08-03T15:32:35.388Z"
   },
   {
    "duration": 42,
    "start_time": "2022-08-03T15:32:35.440Z"
   },
   {
    "duration": 53,
    "start_time": "2022-08-03T15:32:35.484Z"
   },
   {
    "duration": 20,
    "start_time": "2022-08-03T15:32:35.539Z"
   },
   {
    "duration": 60,
    "start_time": "2022-08-03T15:32:35.560Z"
   },
   {
    "duration": 29,
    "start_time": "2022-08-03T15:32:35.631Z"
   },
   {
    "duration": 29,
    "start_time": "2022-08-03T15:32:35.662Z"
   },
   {
    "duration": 86,
    "start_time": "2022-08-03T15:32:35.692Z"
   },
   {
    "duration": 18,
    "start_time": "2022-08-03T15:32:35.779Z"
   },
   {
    "duration": 24,
    "start_time": "2022-08-03T15:32:35.817Z"
   },
   {
    "duration": 17,
    "start_time": "2022-08-03T15:32:35.843Z"
   },
   {
    "duration": 354,
    "start_time": "2022-08-03T15:32:35.861Z"
   },
   {
    "duration": 11,
    "start_time": "2022-08-03T15:32:36.217Z"
   },
   {
    "duration": 61,
    "start_time": "2022-08-03T15:32:36.229Z"
   },
   {
    "duration": 197,
    "start_time": "2022-08-03T15:32:36.291Z"
   },
   {
    "duration": 159,
    "start_time": "2022-08-03T15:32:36.490Z"
   },
   {
    "duration": 159,
    "start_time": "2022-08-03T15:32:36.651Z"
   },
   {
    "duration": 233,
    "start_time": "2022-08-03T15:32:36.821Z"
   },
   {
    "duration": 183,
    "start_time": "2022-08-03T15:32:37.055Z"
   },
   {
    "duration": 140,
    "start_time": "2022-08-03T15:32:37.240Z"
   },
   {
    "duration": 155,
    "start_time": "2022-08-03T15:32:37.382Z"
   },
   {
    "duration": 127,
    "start_time": "2022-08-03T15:32:37.541Z"
   },
   {
    "duration": 158,
    "start_time": "2022-08-03T15:32:37.670Z"
   },
   {
    "duration": 157,
    "start_time": "2022-08-03T15:32:37.833Z"
   },
   {
    "duration": 154,
    "start_time": "2022-08-03T15:32:37.992Z"
   },
   {
    "duration": 168,
    "start_time": "2022-08-03T15:32:38.148Z"
   },
   {
    "duration": 163,
    "start_time": "2022-08-03T15:32:38.318Z"
   },
   {
    "duration": 4,
    "start_time": "2022-08-03T15:32:38.483Z"
   },
   {
    "duration": 30,
    "start_time": "2022-08-03T15:32:38.489Z"
   },
   {
    "duration": 218,
    "start_time": "2022-08-03T15:32:38.525Z"
   },
   {
    "duration": 18,
    "start_time": "2022-08-03T15:32:38.745Z"
   },
   {
    "duration": 292,
    "start_time": "2022-08-03T15:32:38.764Z"
   },
   {
    "duration": 19,
    "start_time": "2022-08-03T15:32:39.058Z"
   },
   {
    "duration": 253,
    "start_time": "2022-08-03T15:32:39.079Z"
   },
   {
    "duration": 19,
    "start_time": "2022-08-03T15:32:39.333Z"
   },
   {
    "duration": 240,
    "start_time": "2022-08-03T15:32:39.354Z"
   },
   {
    "duration": 28,
    "start_time": "2022-08-03T15:32:39.596Z"
   },
   {
    "duration": 206,
    "start_time": "2022-08-03T15:32:39.626Z"
   },
   {
    "duration": 15,
    "start_time": "2022-08-03T15:32:39.845Z"
   },
   {
    "duration": 217,
    "start_time": "2022-08-03T15:32:39.862Z"
   },
   {
    "duration": 12,
    "start_time": "2022-08-03T15:32:40.081Z"
   },
   {
    "duration": 278,
    "start_time": "2022-08-03T15:32:40.098Z"
   },
   {
    "duration": 15,
    "start_time": "2022-08-03T15:32:40.377Z"
   },
   {
    "duration": 253,
    "start_time": "2022-08-03T15:32:40.395Z"
   },
   {
    "duration": 8,
    "start_time": "2022-08-03T15:32:40.650Z"
   },
   {
    "duration": 188,
    "start_time": "2022-08-03T15:32:40.659Z"
   },
   {
    "duration": 199,
    "start_time": "2022-08-03T15:35:38.939Z"
   },
   {
    "duration": 149,
    "start_time": "2022-08-03T15:41:52.535Z"
   },
   {
    "duration": 1227,
    "start_time": "2022-08-03T15:52:10.848Z"
   },
   {
    "duration": 15,
    "start_time": "2022-08-03T15:52:32.525Z"
   },
   {
    "duration": 3,
    "start_time": "2022-08-03T15:52:54.943Z"
   },
   {
    "duration": 204,
    "start_time": "2022-08-03T16:01:46.681Z"
   },
   {
    "duration": 8,
    "start_time": "2022-08-03T16:05:51.357Z"
   },
   {
    "duration": 5,
    "start_time": "2022-08-03T16:06:19.555Z"
   },
   {
    "duration": 3,
    "start_time": "2022-08-03T16:06:59.282Z"
   },
   {
    "duration": 4,
    "start_time": "2022-08-03T16:06:59.676Z"
   },
   {
    "duration": 196,
    "start_time": "2022-08-03T16:09:21.669Z"
   },
   {
    "duration": 9,
    "start_time": "2022-08-03T16:09:28.072Z"
   },
   {
    "duration": 70,
    "start_time": "2022-08-03T16:24:23.832Z"
   },
   {
    "duration": 82,
    "start_time": "2022-08-03T16:24:33.940Z"
   },
   {
    "duration": 9,
    "start_time": "2022-08-03T18:11:00.226Z"
   },
   {
    "duration": 7,
    "start_time": "2022-08-03T18:12:24.521Z"
   },
   {
    "duration": 23,
    "start_time": "2022-08-03T18:14:53.017Z"
   },
   {
    "duration": 263,
    "start_time": "2022-08-03T18:22:14.365Z"
   },
   {
    "duration": 199,
    "start_time": "2022-08-03T18:24:40.331Z"
   },
   {
    "duration": 8,
    "start_time": "2022-08-03T18:25:19.870Z"
   },
   {
    "duration": 8,
    "start_time": "2022-08-03T18:43:21.892Z"
   },
   {
    "duration": 44,
    "start_time": "2022-08-03T18:43:45.798Z"
   },
   {
    "duration": 77,
    "start_time": "2022-08-03T18:43:46.491Z"
   },
   {
    "duration": 37,
    "start_time": "2022-08-03T18:45:31.790Z"
   },
   {
    "duration": 34,
    "start_time": "2022-08-03T18:55:00.936Z"
   },
   {
    "duration": 202,
    "start_time": "2022-08-03T18:56:57.421Z"
   },
   {
    "duration": 189,
    "start_time": "2022-08-03T18:57:00.157Z"
   },
   {
    "duration": 210,
    "start_time": "2022-08-03T18:57:02.721Z"
   },
   {
    "duration": 1066,
    "start_time": "2022-08-03T18:57:52.188Z"
   },
   {
    "duration": 185,
    "start_time": "2022-08-03T18:58:12.879Z"
   },
   {
    "duration": 42,
    "start_time": "2022-08-03T19:03:02.978Z"
   },
   {
    "duration": 7,
    "start_time": "2022-08-03T19:05:00.448Z"
   },
   {
    "duration": 181,
    "start_time": "2022-08-03T19:07:45.562Z"
   },
   {
    "duration": 214,
    "start_time": "2022-08-03T19:12:07.350Z"
   },
   {
    "duration": 185,
    "start_time": "2022-08-03T19:12:53.548Z"
   },
   {
    "duration": 234,
    "start_time": "2022-08-03T19:13:54.435Z"
   },
   {
    "duration": 24,
    "start_time": "2022-08-03T19:14:05.858Z"
   },
   {
    "duration": 711,
    "start_time": "2022-08-03T19:24:56.663Z"
   },
   {
    "duration": 142,
    "start_time": "2022-08-03T19:24:57.376Z"
   },
   {
    "duration": 34,
    "start_time": "2022-08-03T19:24:57.521Z"
   },
   {
    "duration": 16,
    "start_time": "2022-08-03T19:24:57.557Z"
   },
   {
    "duration": 2379,
    "start_time": "2022-08-03T19:24:57.575Z"
   },
   {
    "duration": 17,
    "start_time": "2022-08-03T19:24:59.957Z"
   },
   {
    "duration": 15,
    "start_time": "2022-08-03T19:24:59.976Z"
   },
   {
    "duration": 47,
    "start_time": "2022-08-03T19:24:59.992Z"
   },
   {
    "duration": 11,
    "start_time": "2022-08-03T19:25:00.041Z"
   },
   {
    "duration": 3,
    "start_time": "2022-08-03T19:25:00.056Z"
   },
   {
    "duration": 24,
    "start_time": "2022-08-03T19:25:00.061Z"
   },
   {
    "duration": 53,
    "start_time": "2022-08-03T19:25:00.087Z"
   },
   {
    "duration": 41,
    "start_time": "2022-08-03T19:25:00.141Z"
   },
   {
    "duration": 82,
    "start_time": "2022-08-03T19:25:00.184Z"
   },
   {
    "duration": 5,
    "start_time": "2022-08-03T19:25:00.269Z"
   },
   {
    "duration": 40,
    "start_time": "2022-08-03T19:25:00.276Z"
   },
   {
    "duration": 30,
    "start_time": "2022-08-03T19:25:00.318Z"
   },
   {
    "duration": 13,
    "start_time": "2022-08-03T19:25:00.350Z"
   },
   {
    "duration": 15,
    "start_time": "2022-08-03T19:25:00.364Z"
   },
   {
    "duration": 11,
    "start_time": "2022-08-03T19:25:00.381Z"
   },
   {
    "duration": 67,
    "start_time": "2022-08-03T19:25:00.394Z"
   },
   {
    "duration": 49,
    "start_time": "2022-08-03T19:25:00.463Z"
   },
   {
    "duration": 44,
    "start_time": "2022-08-03T19:25:00.514Z"
   },
   {
    "duration": 19,
    "start_time": "2022-08-03T19:25:00.560Z"
   },
   {
    "duration": 64,
    "start_time": "2022-08-03T19:25:00.580Z"
   },
   {
    "duration": 16,
    "start_time": "2022-08-03T19:25:00.647Z"
   },
   {
    "duration": 17,
    "start_time": "2022-08-03T19:25:00.665Z"
   },
   {
    "duration": 45,
    "start_time": "2022-08-03T19:25:00.687Z"
   },
   {
    "duration": 20,
    "start_time": "2022-08-03T19:25:00.737Z"
   },
   {
    "duration": 34,
    "start_time": "2022-08-03T19:25:00.759Z"
   },
   {
    "duration": 74,
    "start_time": "2022-08-03T19:25:00.795Z"
   },
   {
    "duration": 13,
    "start_time": "2022-08-03T19:25:00.870Z"
   },
   {
    "duration": 31,
    "start_time": "2022-08-03T19:25:00.884Z"
   },
   {
    "duration": 40,
    "start_time": "2022-08-03T19:25:00.917Z"
   },
   {
    "duration": 12,
    "start_time": "2022-08-03T19:25:00.959Z"
   },
   {
    "duration": 15,
    "start_time": "2022-08-03T19:25:00.973Z"
   },
   {
    "duration": 26,
    "start_time": "2022-08-03T19:25:00.990Z"
   },
   {
    "duration": 53,
    "start_time": "2022-08-03T19:25:01.018Z"
   },
   {
    "duration": 9,
    "start_time": "2022-08-03T19:25:01.073Z"
   },
   {
    "duration": 10,
    "start_time": "2022-08-03T19:25:01.084Z"
   },
   {
    "duration": 545,
    "start_time": "2022-08-03T19:25:01.096Z"
   },
   {
    "duration": 5,
    "start_time": "2022-08-03T19:25:01.642Z"
   },
   {
    "duration": 86,
    "start_time": "2022-08-03T19:25:01.651Z"
   },
   {
    "duration": 194,
    "start_time": "2022-08-03T19:25:01.741Z"
   },
   {
    "duration": 160,
    "start_time": "2022-08-03T19:25:01.936Z"
   },
   {
    "duration": 219,
    "start_time": "2022-08-03T19:25:02.101Z"
   },
   {
    "duration": 312,
    "start_time": "2022-08-03T19:25:02.322Z"
   },
   {
    "duration": 179,
    "start_time": "2022-08-03T19:25:02.637Z"
   },
   {
    "duration": 199,
    "start_time": "2022-08-03T19:25:02.829Z"
   },
   {
    "duration": 145,
    "start_time": "2022-08-03T19:25:03.037Z"
   },
   {
    "duration": 160,
    "start_time": "2022-08-03T19:25:03.184Z"
   },
   {
    "duration": 174,
    "start_time": "2022-08-03T19:25:03.347Z"
   },
   {
    "duration": 166,
    "start_time": "2022-08-03T19:25:03.531Z"
   },
   {
    "duration": 219,
    "start_time": "2022-08-03T19:25:03.705Z"
   },
   {
    "duration": 160,
    "start_time": "2022-08-03T19:25:03.935Z"
   },
   {
    "duration": 164,
    "start_time": "2022-08-03T19:25:04.098Z"
   },
   {
    "duration": 6,
    "start_time": "2022-08-03T19:25:04.264Z"
   },
   {
    "duration": 67,
    "start_time": "2022-08-03T19:25:04.272Z"
   },
   {
    "duration": 315,
    "start_time": "2022-08-03T19:25:04.349Z"
   },
   {
    "duration": 26,
    "start_time": "2022-08-03T19:25:04.666Z"
   },
   {
    "duration": 436,
    "start_time": "2022-08-03T19:25:04.694Z"
   },
   {
    "duration": 23,
    "start_time": "2022-08-03T19:25:05.132Z"
   },
   {
    "duration": 408,
    "start_time": "2022-08-03T19:25:05.157Z"
   },
   {
    "duration": 24,
    "start_time": "2022-08-03T19:25:05.576Z"
   },
   {
    "duration": 289,
    "start_time": "2022-08-03T19:25:05.602Z"
   },
   {
    "duration": 29,
    "start_time": "2022-08-03T19:25:05.917Z"
   },
   {
    "duration": 230,
    "start_time": "2022-08-03T19:25:05.952Z"
   },
   {
    "duration": 25,
    "start_time": "2022-08-03T19:25:06.184Z"
   },
   {
    "duration": 236,
    "start_time": "2022-08-03T19:25:06.211Z"
   },
   {
    "duration": 19,
    "start_time": "2022-08-03T19:25:06.449Z"
   },
   {
    "duration": 228,
    "start_time": "2022-08-03T19:25:06.470Z"
   },
   {
    "duration": 17,
    "start_time": "2022-08-03T19:25:06.700Z"
   },
   {
    "duration": 254,
    "start_time": "2022-08-03T19:25:06.719Z"
   },
   {
    "duration": 10,
    "start_time": "2022-08-03T19:25:06.975Z"
   },
   {
    "duration": 85,
    "start_time": "2022-08-03T19:25:06.989Z"
   },
   {
    "duration": 48,
    "start_time": "2022-08-03T19:25:07.076Z"
   },
   {
    "duration": 19,
    "start_time": "2022-08-03T19:25:50.025Z"
   },
   {
    "duration": 944,
    "start_time": "2022-08-03T19:26:10.391Z"
   },
   {
    "duration": 122,
    "start_time": "2022-08-03T19:26:11.338Z"
   },
   {
    "duration": 46,
    "start_time": "2022-08-03T19:26:11.462Z"
   },
   {
    "duration": 29,
    "start_time": "2022-08-03T19:26:11.513Z"
   },
   {
    "duration": 2409,
    "start_time": "2022-08-03T19:26:11.545Z"
   },
   {
    "duration": 14,
    "start_time": "2022-08-03T19:26:13.956Z"
   },
   {
    "duration": 19,
    "start_time": "2022-08-03T19:26:13.972Z"
   },
   {
    "duration": 29,
    "start_time": "2022-08-03T19:26:13.992Z"
   },
   {
    "duration": 29,
    "start_time": "2022-08-03T19:26:14.027Z"
   },
   {
    "duration": 10,
    "start_time": "2022-08-03T19:26:14.060Z"
   },
   {
    "duration": 16,
    "start_time": "2022-08-03T19:26:14.072Z"
   },
   {
    "duration": 32,
    "start_time": "2022-08-03T19:26:14.090Z"
   },
   {
    "duration": 37,
    "start_time": "2022-08-03T19:26:14.124Z"
   },
   {
    "duration": 13,
    "start_time": "2022-08-03T19:26:14.163Z"
   },
   {
    "duration": 5,
    "start_time": "2022-08-03T19:26:14.178Z"
   },
   {
    "duration": 31,
    "start_time": "2022-08-03T19:26:14.185Z"
   },
   {
    "duration": 5,
    "start_time": "2022-08-03T19:26:14.218Z"
   },
   {
    "duration": 36,
    "start_time": "2022-08-03T19:26:14.230Z"
   },
   {
    "duration": 18,
    "start_time": "2022-08-03T19:26:14.268Z"
   },
   {
    "duration": 40,
    "start_time": "2022-08-03T19:26:14.288Z"
   },
   {
    "duration": 11,
    "start_time": "2022-08-03T19:26:14.342Z"
   },
   {
    "duration": 12,
    "start_time": "2022-08-03T19:26:14.355Z"
   },
   {
    "duration": 23,
    "start_time": "2022-08-03T19:26:14.370Z"
   },
   {
    "duration": 65,
    "start_time": "2022-08-03T19:26:14.396Z"
   },
   {
    "duration": 11,
    "start_time": "2022-08-03T19:26:14.463Z"
   },
   {
    "duration": 19,
    "start_time": "2022-08-03T19:26:14.477Z"
   },
   {
    "duration": 60,
    "start_time": "2022-08-03T19:26:14.498Z"
   },
   {
    "duration": 30,
    "start_time": "2022-08-03T19:26:14.565Z"
   },
   {
    "duration": 64,
    "start_time": "2022-08-03T19:26:14.598Z"
   },
   {
    "duration": 33,
    "start_time": "2022-08-03T19:26:14.664Z"
   },
   {
    "duration": 61,
    "start_time": "2022-08-03T19:26:14.709Z"
   },
   {
    "duration": 23,
    "start_time": "2022-08-03T19:26:14.772Z"
   },
   {
    "duration": 44,
    "start_time": "2022-08-03T19:26:14.798Z"
   },
   {
    "duration": 19,
    "start_time": "2022-08-03T19:26:14.844Z"
   },
   {
    "duration": 26,
    "start_time": "2022-08-03T19:26:14.865Z"
   },
   {
    "duration": 60,
    "start_time": "2022-08-03T19:26:14.893Z"
   },
   {
    "duration": 14,
    "start_time": "2022-08-03T19:26:14.955Z"
   },
   {
    "duration": 21,
    "start_time": "2022-08-03T19:26:14.971Z"
   },
   {
    "duration": 61,
    "start_time": "2022-08-03T19:26:14.994Z"
   },
   {
    "duration": 7,
    "start_time": "2022-08-03T19:26:15.057Z"
   },
   {
    "duration": 375,
    "start_time": "2022-08-03T19:26:15.066Z"
   },
   {
    "duration": 18,
    "start_time": "2022-08-03T19:26:15.442Z"
   },
   {
    "duration": 53,
    "start_time": "2022-08-03T19:26:15.466Z"
   },
   {
    "duration": 321,
    "start_time": "2022-08-03T19:26:15.520Z"
   },
   {
    "duration": 202,
    "start_time": "2022-08-03T19:26:15.843Z"
   },
   {
    "duration": 147,
    "start_time": "2022-08-03T19:26:16.047Z"
   },
   {
    "duration": 296,
    "start_time": "2022-08-03T19:26:16.196Z"
   },
   {
    "duration": 217,
    "start_time": "2022-08-03T19:26:16.494Z"
   },
   {
    "duration": 165,
    "start_time": "2022-08-03T19:26:16.713Z"
   },
   {
    "duration": 174,
    "start_time": "2022-08-03T19:26:16.881Z"
   },
   {
    "duration": 174,
    "start_time": "2022-08-03T19:26:17.058Z"
   },
   {
    "duration": 160,
    "start_time": "2022-08-03T19:26:17.233Z"
   },
   {
    "duration": 171,
    "start_time": "2022-08-03T19:26:17.395Z"
   },
   {
    "duration": 197,
    "start_time": "2022-08-03T19:26:17.567Z"
   },
   {
    "duration": 157,
    "start_time": "2022-08-03T19:26:17.765Z"
   },
   {
    "duration": 196,
    "start_time": "2022-08-03T19:26:17.924Z"
   },
   {
    "duration": 10,
    "start_time": "2022-08-03T19:26:18.122Z"
   },
   {
    "duration": 39,
    "start_time": "2022-08-03T19:26:18.134Z"
   },
   {
    "duration": 225,
    "start_time": "2022-08-03T19:26:18.175Z"
   },
   {
    "duration": 31,
    "start_time": "2022-08-03T19:26:18.401Z"
   },
   {
    "duration": 302,
    "start_time": "2022-08-03T19:26:18.434Z"
   },
   {
    "duration": 21,
    "start_time": "2022-08-03T19:26:18.745Z"
   },
   {
    "duration": 262,
    "start_time": "2022-08-03T19:26:18.768Z"
   },
   {
    "duration": 15,
    "start_time": "2022-08-03T19:26:19.032Z"
   },
   {
    "duration": 213,
    "start_time": "2022-08-03T19:26:19.049Z"
   },
   {
    "duration": 15,
    "start_time": "2022-08-03T19:26:19.263Z"
   },
   {
    "duration": 218,
    "start_time": "2022-08-03T19:26:19.280Z"
   },
   {
    "duration": 34,
    "start_time": "2022-08-03T19:26:19.502Z"
   },
   {
    "duration": 250,
    "start_time": "2022-08-03T19:26:19.538Z"
   },
   {
    "duration": 38,
    "start_time": "2022-08-03T19:26:19.790Z"
   },
   {
    "duration": 258,
    "start_time": "2022-08-03T19:26:19.830Z"
   },
   {
    "duration": 50,
    "start_time": "2022-08-03T19:26:20.090Z"
   },
   {
    "duration": 231,
    "start_time": "2022-08-03T19:26:20.143Z"
   },
   {
    "duration": 11,
    "start_time": "2022-08-03T19:26:20.376Z"
   },
   {
    "duration": 103,
    "start_time": "2022-08-03T19:26:20.389Z"
   },
   {
    "duration": 58,
    "start_time": "2022-08-03T19:26:20.494Z"
   },
   {
    "duration": 960,
    "start_time": "2022-08-03T20:45:51.291Z"
   },
   {
    "duration": 92,
    "start_time": "2022-08-03T20:45:52.253Z"
   },
   {
    "duration": 30,
    "start_time": "2022-08-03T20:45:52.347Z"
   },
   {
    "duration": 15,
    "start_time": "2022-08-03T20:45:52.379Z"
   },
   {
    "duration": 1933,
    "start_time": "2022-08-03T20:45:52.396Z"
   },
   {
    "duration": 9,
    "start_time": "2022-08-03T20:45:54.338Z"
   },
   {
    "duration": 5,
    "start_time": "2022-08-03T20:45:54.350Z"
   },
   {
    "duration": 13,
    "start_time": "2022-08-03T20:45:54.357Z"
   },
   {
    "duration": 8,
    "start_time": "2022-08-03T20:45:54.371Z"
   },
   {
    "duration": 3,
    "start_time": "2022-08-03T20:45:54.382Z"
   },
   {
    "duration": 15,
    "start_time": "2022-08-03T20:45:54.387Z"
   },
   {
    "duration": 44,
    "start_time": "2022-08-03T20:45:54.403Z"
   },
   {
    "duration": 4,
    "start_time": "2022-08-03T20:45:54.448Z"
   },
   {
    "duration": 13,
    "start_time": "2022-08-03T20:45:54.454Z"
   },
   {
    "duration": 4,
    "start_time": "2022-08-03T20:45:54.469Z"
   },
   {
    "duration": 14,
    "start_time": "2022-08-03T20:45:54.474Z"
   },
   {
    "duration": 8,
    "start_time": "2022-08-03T20:45:54.489Z"
   },
   {
    "duration": 14,
    "start_time": "2022-08-03T20:45:54.499Z"
   },
   {
    "duration": 33,
    "start_time": "2022-08-03T20:45:54.514Z"
   },
   {
    "duration": 10,
    "start_time": "2022-08-03T20:45:54.548Z"
   },
   {
    "duration": 5,
    "start_time": "2022-08-03T20:45:54.560Z"
   },
   {
    "duration": 11,
    "start_time": "2022-08-03T20:45:54.566Z"
   },
   {
    "duration": 6,
    "start_time": "2022-08-03T20:45:54.578Z"
   },
   {
    "duration": 8,
    "start_time": "2022-08-03T20:45:54.586Z"
   },
   {
    "duration": 42,
    "start_time": "2022-08-03T20:45:54.596Z"
   },
   {
    "duration": 5,
    "start_time": "2022-08-03T20:45:54.640Z"
   },
   {
    "duration": 11,
    "start_time": "2022-08-03T20:45:54.647Z"
   },
   {
    "duration": 7,
    "start_time": "2022-08-03T20:45:54.663Z"
   },
   {
    "duration": 11,
    "start_time": "2022-08-03T20:45:54.671Z"
   },
   {
    "duration": 11,
    "start_time": "2022-08-03T20:45:54.683Z"
   },
   {
    "duration": 19,
    "start_time": "2022-08-03T20:45:54.695Z"
   },
   {
    "duration": 23,
    "start_time": "2022-08-03T20:45:54.715Z"
   },
   {
    "duration": 5,
    "start_time": "2022-08-03T20:45:54.740Z"
   },
   {
    "duration": 10,
    "start_time": "2022-08-03T20:45:54.746Z"
   },
   {
    "duration": 10,
    "start_time": "2022-08-03T20:45:54.757Z"
   },
   {
    "duration": 5,
    "start_time": "2022-08-03T20:45:54.768Z"
   },
   {
    "duration": 12,
    "start_time": "2022-08-03T20:45:54.774Z"
   },
   {
    "duration": 13,
    "start_time": "2022-08-03T20:45:54.787Z"
   },
   {
    "duration": 6,
    "start_time": "2022-08-03T20:45:54.801Z"
   },
   {
    "duration": 31,
    "start_time": "2022-08-03T20:45:54.808Z"
   },
   {
    "duration": 259,
    "start_time": "2022-08-03T20:45:54.841Z"
   },
   {
    "duration": 5,
    "start_time": "2022-08-03T20:45:55.102Z"
   },
   {
    "duration": 33,
    "start_time": "2022-08-03T20:45:55.108Z"
   },
   {
    "duration": 246,
    "start_time": "2022-08-03T20:45:55.143Z"
   },
   {
    "duration": 316,
    "start_time": "2022-08-03T20:45:55.390Z"
   },
   {
    "duration": 272,
    "start_time": "2022-08-03T20:45:55.708Z"
   },
   {
    "duration": 227,
    "start_time": "2022-08-03T20:45:55.982Z"
   },
   {
    "duration": 283,
    "start_time": "2022-08-03T20:45:56.210Z"
   },
   {
    "duration": 251,
    "start_time": "2022-08-03T20:45:56.494Z"
   },
   {
    "duration": 393,
    "start_time": "2022-08-03T20:45:56.747Z"
   },
   {
    "duration": 405,
    "start_time": "2022-08-03T20:45:57.141Z"
   },
   {
    "duration": 330,
    "start_time": "2022-08-03T20:45:57.548Z"
   },
   {
    "duration": 398,
    "start_time": "2022-08-03T20:45:57.879Z"
   },
   {
    "duration": 401,
    "start_time": "2022-08-03T20:45:58.278Z"
   },
   {
    "duration": 469,
    "start_time": "2022-08-03T20:45:58.680Z"
   },
   {
    "duration": 454,
    "start_time": "2022-08-03T20:45:59.152Z"
   },
   {
    "duration": 5,
    "start_time": "2022-08-03T20:45:59.608Z"
   },
   {
    "duration": 32,
    "start_time": "2022-08-03T20:45:59.615Z"
   },
   {
    "duration": 289,
    "start_time": "2022-08-03T20:45:59.649Z"
   },
   {
    "duration": 17,
    "start_time": "2022-08-03T20:45:59.940Z"
   },
   {
    "duration": 260,
    "start_time": "2022-08-03T20:45:59.960Z"
   },
   {
    "duration": 22,
    "start_time": "2022-08-03T20:46:00.221Z"
   },
   {
    "duration": 287,
    "start_time": "2022-08-03T20:46:00.245Z"
   },
   {
    "duration": 15,
    "start_time": "2022-08-03T20:46:00.534Z"
   },
   {
    "duration": 292,
    "start_time": "2022-08-03T20:46:00.551Z"
   },
   {
    "duration": 14,
    "start_time": "2022-08-03T20:46:00.845Z"
   },
   {
    "duration": 255,
    "start_time": "2022-08-03T20:46:00.861Z"
   },
   {
    "duration": 13,
    "start_time": "2022-08-03T20:46:01.118Z"
   },
   {
    "duration": 305,
    "start_time": "2022-08-03T20:46:01.138Z"
   },
   {
    "duration": 12,
    "start_time": "2022-08-03T20:46:01.445Z"
   },
   {
    "duration": 302,
    "start_time": "2022-08-03T20:46:01.458Z"
   },
   {
    "duration": 12,
    "start_time": "2022-08-03T20:46:01.762Z"
   },
   {
    "duration": 278,
    "start_time": "2022-08-03T20:46:01.775Z"
   },
   {
    "duration": 8,
    "start_time": "2022-08-03T20:46:02.055Z"
   },
   {
    "duration": 33,
    "start_time": "2022-08-03T20:46:02.065Z"
   },
   {
    "duration": 43,
    "start_time": "2022-08-03T20:46:02.099Z"
   },
   {
    "duration": 66,
    "start_time": "2022-08-04T04:38:18.786Z"
   },
   {
    "duration": 1006,
    "start_time": "2022-08-04T04:38:38.980Z"
   },
   {
    "duration": 226,
    "start_time": "2022-08-04T04:38:39.988Z"
   },
   {
    "duration": 46,
    "start_time": "2022-08-04T04:38:40.217Z"
   },
   {
    "duration": 24,
    "start_time": "2022-08-04T04:38:40.265Z"
   },
   {
    "duration": 2526,
    "start_time": "2022-08-04T04:38:40.292Z"
   },
   {
    "duration": 12,
    "start_time": "2022-08-04T04:38:42.820Z"
   },
   {
    "duration": 5,
    "start_time": "2022-08-04T04:38:42.834Z"
   },
   {
    "duration": 7,
    "start_time": "2022-08-04T04:38:42.841Z"
   },
   {
    "duration": 9,
    "start_time": "2022-08-04T04:38:42.850Z"
   },
   {
    "duration": 3,
    "start_time": "2022-08-04T04:38:42.862Z"
   },
   {
    "duration": 37,
    "start_time": "2022-08-04T04:38:42.866Z"
   },
   {
    "duration": 34,
    "start_time": "2022-08-04T04:38:42.905Z"
   },
   {
    "duration": 6,
    "start_time": "2022-08-04T04:38:42.941Z"
   },
   {
    "duration": 17,
    "start_time": "2022-08-04T04:38:42.950Z"
   },
   {
    "duration": 23,
    "start_time": "2022-08-04T04:38:42.970Z"
   },
   {
    "duration": 32,
    "start_time": "2022-08-04T04:38:42.996Z"
   },
   {
    "duration": 6,
    "start_time": "2022-08-04T04:38:43.030Z"
   },
   {
    "duration": 13,
    "start_time": "2022-08-04T04:38:43.038Z"
   },
   {
    "duration": 14,
    "start_time": "2022-08-04T04:38:43.053Z"
   },
   {
    "duration": 36,
    "start_time": "2022-08-04T04:38:43.069Z"
   },
   {
    "duration": 6,
    "start_time": "2022-08-04T04:38:43.110Z"
   },
   {
    "duration": 16,
    "start_time": "2022-08-04T04:38:43.117Z"
   },
   {
    "duration": 15,
    "start_time": "2022-08-04T04:38:43.135Z"
   },
   {
    "duration": 17,
    "start_time": "2022-08-04T04:38:43.151Z"
   },
   {
    "duration": 15,
    "start_time": "2022-08-04T04:38:43.170Z"
   },
   {
    "duration": 8,
    "start_time": "2022-08-04T04:38:43.187Z"
   },
   {
    "duration": 37,
    "start_time": "2022-08-04T04:38:43.196Z"
   },
   {
    "duration": 7,
    "start_time": "2022-08-04T04:38:43.239Z"
   },
   {
    "duration": 23,
    "start_time": "2022-08-04T04:38:43.248Z"
   },
   {
    "duration": 10,
    "start_time": "2022-08-04T04:38:43.273Z"
   },
   {
    "duration": 31,
    "start_time": "2022-08-04T04:38:43.285Z"
   },
   {
    "duration": 15,
    "start_time": "2022-08-04T04:38:43.318Z"
   },
   {
    "duration": 9,
    "start_time": "2022-08-04T04:38:43.336Z"
   },
   {
    "duration": 9,
    "start_time": "2022-08-04T04:38:43.348Z"
   },
   {
    "duration": 11,
    "start_time": "2022-08-04T04:38:43.358Z"
   },
   {
    "duration": 31,
    "start_time": "2022-08-04T04:38:43.371Z"
   },
   {
    "duration": 35,
    "start_time": "2022-08-04T04:38:43.404Z"
   },
   {
    "duration": 6,
    "start_time": "2022-08-04T04:38:43.442Z"
   },
   {
    "duration": 9,
    "start_time": "2022-08-04T04:38:43.450Z"
   },
   {
    "duration": 7,
    "start_time": "2022-08-04T04:38:43.461Z"
   },
   {
    "duration": 328,
    "start_time": "2022-08-04T04:38:43.469Z"
   },
   {
    "duration": 4,
    "start_time": "2022-08-04T04:38:43.798Z"
   },
   {
    "duration": 48,
    "start_time": "2022-08-04T04:38:43.804Z"
   },
   {
    "duration": 180,
    "start_time": "2022-08-04T04:38:43.854Z"
   },
   {
    "duration": 181,
    "start_time": "2022-08-04T04:38:44.036Z"
   },
   {
    "duration": 171,
    "start_time": "2022-08-04T04:38:44.223Z"
   },
   {
    "duration": 3,
    "start_time": "2022-08-04T04:38:44.400Z"
   },
   {
    "duration": 260,
    "start_time": "2022-08-04T04:38:44.409Z"
   },
   {
    "duration": 197,
    "start_time": "2022-08-04T04:38:44.671Z"
   },
   {
    "duration": 183,
    "start_time": "2022-08-04T04:38:44.871Z"
   },
   {
    "duration": 196,
    "start_time": "2022-08-04T04:38:45.055Z"
   },
   {
    "duration": 187,
    "start_time": "2022-08-04T04:38:45.253Z"
   },
   {
    "duration": 190,
    "start_time": "2022-08-04T04:38:45.442Z"
   },
   {
    "duration": 159,
    "start_time": "2022-08-04T04:38:45.633Z"
   },
   {
    "duration": 206,
    "start_time": "2022-08-04T04:38:45.794Z"
   },
   {
    "duration": 183,
    "start_time": "2022-08-04T04:38:46.002Z"
   },
   {
    "duration": 193,
    "start_time": "2022-08-04T04:38:46.187Z"
   },
   {
    "duration": 9,
    "start_time": "2022-08-04T04:38:46.382Z"
   },
   {
    "duration": 33,
    "start_time": "2022-08-04T04:38:46.398Z"
   },
   {
    "duration": 231,
    "start_time": "2022-08-04T04:38:46.433Z"
   },
   {
    "duration": 16,
    "start_time": "2022-08-04T04:38:46.666Z"
   },
   {
    "duration": 339,
    "start_time": "2022-08-04T04:38:46.684Z"
   },
   {
    "duration": 16,
    "start_time": "2022-08-04T04:38:47.026Z"
   },
   {
    "duration": 236,
    "start_time": "2022-08-04T04:38:47.044Z"
   },
   {
    "duration": 20,
    "start_time": "2022-08-04T04:38:47.291Z"
   },
   {
    "duration": 231,
    "start_time": "2022-08-04T04:38:47.313Z"
   },
   {
    "duration": 15,
    "start_time": "2022-08-04T04:38:47.546Z"
   },
   {
    "duration": 210,
    "start_time": "2022-08-04T04:38:47.562Z"
   },
   {
    "duration": 19,
    "start_time": "2022-08-04T04:38:47.774Z"
   },
   {
    "duration": 260,
    "start_time": "2022-08-04T04:38:47.795Z"
   },
   {
    "duration": 15,
    "start_time": "2022-08-04T04:38:48.057Z"
   },
   {
    "duration": 250,
    "start_time": "2022-08-04T04:38:48.073Z"
   },
   {
    "duration": 17,
    "start_time": "2022-08-04T04:38:48.326Z"
   },
   {
    "duration": 244,
    "start_time": "2022-08-04T04:38:48.344Z"
   },
   {
    "duration": 13,
    "start_time": "2022-08-04T04:38:48.590Z"
   },
   {
    "duration": 61,
    "start_time": "2022-08-04T04:38:48.606Z"
   },
   {
    "duration": 29,
    "start_time": "2022-08-04T04:38:48.669Z"
   },
   {
    "duration": 101,
    "start_time": "2022-08-04T04:40:36.425Z"
   },
   {
    "duration": 135,
    "start_time": "2022-08-04T04:41:15.828Z"
   },
   {
    "duration": 178,
    "start_time": "2022-08-04T04:42:41.358Z"
   },
   {
    "duration": 179,
    "start_time": "2022-08-04T04:43:00.875Z"
   },
   {
    "duration": 162,
    "start_time": "2022-08-04T04:43:08.887Z"
   },
   {
    "duration": 226,
    "start_time": "2022-08-04T04:43:11.576Z"
   },
   {
    "duration": 169,
    "start_time": "2022-08-04T04:43:13.960Z"
   },
   {
    "duration": 170,
    "start_time": "2022-08-04T04:43:18.109Z"
   },
   {
    "duration": 201,
    "start_time": "2022-08-04T04:43:41.671Z"
   },
   {
    "duration": 17,
    "start_time": "2022-08-04T04:56:59.672Z"
   },
   {
    "duration": 1463,
    "start_time": "2022-08-04T04:57:18.016Z"
   },
   {
    "duration": 140,
    "start_time": "2022-08-04T04:57:56.693Z"
   },
   {
    "duration": 138,
    "start_time": "2022-08-04T04:58:17.510Z"
   },
   {
    "duration": 146,
    "start_time": "2022-08-04T04:58:26.990Z"
   },
   {
    "duration": 8,
    "start_time": "2022-08-04T05:03:12.865Z"
   },
   {
    "duration": 6,
    "start_time": "2022-08-04T05:03:22.277Z"
   },
   {
    "duration": 194,
    "start_time": "2022-08-04T05:03:52.536Z"
   },
   {
    "duration": 206,
    "start_time": "2022-08-04T05:04:42.492Z"
   },
   {
    "duration": 3,
    "start_time": "2022-08-04T05:04:46.675Z"
   },
   {
    "duration": 156,
    "start_time": "2022-08-04T05:05:22.672Z"
   },
   {
    "duration": 189,
    "start_time": "2022-08-04T05:05:33.137Z"
   },
   {
    "duration": 232,
    "start_time": "2022-08-04T05:05:37.348Z"
   },
   {
    "duration": 148,
    "start_time": "2022-08-04T05:05:50.413Z"
   },
   {
    "duration": 135,
    "start_time": "2022-08-04T05:06:43.113Z"
   },
   {
    "duration": 147,
    "start_time": "2022-08-04T05:06:59.584Z"
   },
   {
    "duration": 3,
    "start_time": "2022-08-04T05:07:19.840Z"
   },
   {
    "duration": 726,
    "start_time": "2022-08-04T05:13:48.859Z"
   },
   {
    "duration": 106,
    "start_time": "2022-08-04T05:13:49.587Z"
   },
   {
    "duration": 38,
    "start_time": "2022-08-04T05:13:49.695Z"
   },
   {
    "duration": 17,
    "start_time": "2022-08-04T05:13:49.736Z"
   },
   {
    "duration": 2332,
    "start_time": "2022-08-04T05:13:49.755Z"
   },
   {
    "duration": 15,
    "start_time": "2022-08-04T05:13:52.092Z"
   },
   {
    "duration": 26,
    "start_time": "2022-08-04T05:13:52.114Z"
   },
   {
    "duration": 15,
    "start_time": "2022-08-04T05:13:52.142Z"
   },
   {
    "duration": 17,
    "start_time": "2022-08-04T05:13:52.159Z"
   },
   {
    "duration": 4,
    "start_time": "2022-08-04T05:13:52.180Z"
   },
   {
    "duration": 54,
    "start_time": "2022-08-04T05:13:52.186Z"
   },
   {
    "duration": 29,
    "start_time": "2022-08-04T05:13:52.242Z"
   },
   {
    "duration": 5,
    "start_time": "2022-08-04T05:13:52.273Z"
   },
   {
    "duration": 6,
    "start_time": "2022-08-04T05:13:52.279Z"
   },
   {
    "duration": 17,
    "start_time": "2022-08-04T05:13:52.287Z"
   },
   {
    "duration": 26,
    "start_time": "2022-08-04T05:13:52.308Z"
   },
   {
    "duration": 7,
    "start_time": "2022-08-04T05:13:52.336Z"
   },
   {
    "duration": 12,
    "start_time": "2022-08-04T05:13:52.344Z"
   },
   {
    "duration": 17,
    "start_time": "2022-08-04T05:13:52.358Z"
   },
   {
    "duration": 18,
    "start_time": "2022-08-04T05:13:52.377Z"
   },
   {
    "duration": 12,
    "start_time": "2022-08-04T05:13:52.403Z"
   },
   {
    "duration": 12,
    "start_time": "2022-08-04T05:13:52.417Z"
   },
   {
    "duration": 9,
    "start_time": "2022-08-04T05:13:52.431Z"
   },
   {
    "duration": 7,
    "start_time": "2022-08-04T05:13:52.442Z"
   },
   {
    "duration": 9,
    "start_time": "2022-08-04T05:13:52.451Z"
   },
   {
    "duration": 9,
    "start_time": "2022-08-04T05:13:52.461Z"
   },
   {
    "duration": 7,
    "start_time": "2022-08-04T05:13:52.473Z"
   },
   {
    "duration": 16,
    "start_time": "2022-08-04T05:13:52.500Z"
   },
   {
    "duration": 10,
    "start_time": "2022-08-04T05:13:52.518Z"
   },
   {
    "duration": 8,
    "start_time": "2022-08-04T05:13:52.530Z"
   },
   {
    "duration": 18,
    "start_time": "2022-08-04T05:13:52.539Z"
   },
   {
    "duration": 5,
    "start_time": "2022-08-04T05:13:52.559Z"
   },
   {
    "duration": 12,
    "start_time": "2022-08-04T05:13:52.566Z"
   },
   {
    "duration": 11,
    "start_time": "2022-08-04T05:13:52.592Z"
   },
   {
    "duration": 26,
    "start_time": "2022-08-04T05:13:52.604Z"
   },
   {
    "duration": 4,
    "start_time": "2022-08-04T05:13:52.632Z"
   },
   {
    "duration": 10,
    "start_time": "2022-08-04T05:13:52.637Z"
   },
   {
    "duration": 8,
    "start_time": "2022-08-04T05:13:52.648Z"
   },
   {
    "duration": 6,
    "start_time": "2022-08-04T05:13:52.657Z"
   },
   {
    "duration": 8,
    "start_time": "2022-08-04T05:13:52.664Z"
   },
   {
    "duration": 331,
    "start_time": "2022-08-04T05:13:52.674Z"
   },
   {
    "duration": 5,
    "start_time": "2022-08-04T05:13:53.006Z"
   },
   {
    "duration": 54,
    "start_time": "2022-08-04T05:13:53.012Z"
   },
   {
    "duration": 165,
    "start_time": "2022-08-04T05:13:53.068Z"
   },
   {
    "duration": 170,
    "start_time": "2022-08-04T05:13:53.235Z"
   },
   {
    "duration": 270,
    "start_time": "2022-08-04T05:13:53.406Z"
   },
   {
    "duration": 2,
    "start_time": "2022-08-04T05:13:53.678Z"
   },
   {
    "duration": 166,
    "start_time": "2022-08-04T05:13:53.682Z"
   },
   {
    "duration": 208,
    "start_time": "2022-08-04T05:13:53.850Z"
   },
   {
    "duration": 169,
    "start_time": "2022-08-04T05:13:54.059Z"
   },
   {
    "duration": 166,
    "start_time": "2022-08-04T05:13:54.230Z"
   },
   {
    "duration": 152,
    "start_time": "2022-08-04T05:13:54.398Z"
   },
   {
    "duration": 179,
    "start_time": "2022-08-04T05:13:54.552Z"
   },
   {
    "duration": 161,
    "start_time": "2022-08-04T05:13:54.732Z"
   },
   {
    "duration": 181,
    "start_time": "2022-08-04T05:13:54.897Z"
   },
   {
    "duration": 183,
    "start_time": "2022-08-04T05:13:55.079Z"
   },
   {
    "duration": 185,
    "start_time": "2022-08-04T05:13:55.264Z"
   },
   {
    "duration": 5,
    "start_time": "2022-08-04T05:13:55.450Z"
   },
   {
    "duration": 21,
    "start_time": "2022-08-04T05:13:55.457Z"
   },
   {
    "duration": 296,
    "start_time": "2022-08-04T05:13:55.492Z"
   },
   {
    "duration": 24,
    "start_time": "2022-08-04T05:13:55.789Z"
   },
   {
    "duration": 216,
    "start_time": "2022-08-04T05:13:55.815Z"
   },
   {
    "duration": 16,
    "start_time": "2022-08-04T05:13:56.033Z"
   },
   {
    "duration": 223,
    "start_time": "2022-08-04T05:13:56.050Z"
   },
   {
    "duration": 5,
    "start_time": "2022-08-04T05:13:56.275Z"
   },
   {
    "duration": 20,
    "start_time": "2022-08-04T05:13:56.291Z"
   },
   {
    "duration": 228,
    "start_time": "2022-08-04T05:13:56.314Z"
   },
   {
    "duration": 15,
    "start_time": "2022-08-04T05:13:56.544Z"
   },
   {
    "duration": 3,
    "start_time": "2022-08-04T05:13:56.561Z"
   },
   {
    "duration": 45,
    "start_time": "2022-08-04T05:13:56.566Z"
   },
   {
    "duration": 219,
    "start_time": "2022-08-04T05:13:56.617Z"
   },
   {
    "duration": 16,
    "start_time": "2022-08-04T05:13:56.838Z"
   },
   {
    "duration": 225,
    "start_time": "2022-08-04T05:13:56.855Z"
   },
   {
    "duration": 25,
    "start_time": "2022-08-04T05:13:57.082Z"
   },
   {
    "duration": 230,
    "start_time": "2022-08-04T05:13:57.110Z"
   },
   {
    "duration": 8,
    "start_time": "2022-08-04T05:13:57.342Z"
   },
   {
    "duration": 54,
    "start_time": "2022-08-04T05:13:57.352Z"
   },
   {
    "duration": 6,
    "start_time": "2022-08-04T05:13:57.408Z"
   },
   {
    "duration": 30,
    "start_time": "2022-08-04T05:13:57.416Z"
   },
   {
    "duration": 188,
    "start_time": "2022-08-04T05:13:57.448Z"
   },
   {
    "duration": 5,
    "start_time": "2022-08-04T05:14:22.131Z"
   },
   {
    "duration": 776,
    "start_time": "2022-08-04T05:18:45.469Z"
   },
   {
    "duration": 113,
    "start_time": "2022-08-04T05:18:46.247Z"
   },
   {
    "duration": 44,
    "start_time": "2022-08-04T05:18:46.362Z"
   },
   {
    "duration": 21,
    "start_time": "2022-08-04T05:18:46.410Z"
   },
   {
    "duration": 2355,
    "start_time": "2022-08-04T05:18:46.432Z"
   },
   {
    "duration": 33,
    "start_time": "2022-08-04T05:18:48.789Z"
   },
   {
    "duration": 8,
    "start_time": "2022-08-04T05:18:48.824Z"
   },
   {
    "duration": 8,
    "start_time": "2022-08-04T05:18:48.834Z"
   },
   {
    "duration": 8,
    "start_time": "2022-08-04T05:18:48.844Z"
   },
   {
    "duration": 10,
    "start_time": "2022-08-04T05:18:48.855Z"
   },
   {
    "duration": 66,
    "start_time": "2022-08-04T05:18:48.867Z"
   },
   {
    "duration": 5,
    "start_time": "2022-08-04T05:18:48.935Z"
   },
   {
    "duration": 728,
    "start_time": "2022-08-04T05:19:09.450Z"
   },
   {
    "duration": 139,
    "start_time": "2022-08-04T05:19:10.180Z"
   },
   {
    "duration": 36,
    "start_time": "2022-08-04T05:19:10.327Z"
   },
   {
    "duration": 28,
    "start_time": "2022-08-04T05:19:10.365Z"
   },
   {
    "duration": 2480,
    "start_time": "2022-08-04T05:19:10.395Z"
   },
   {
    "duration": 11,
    "start_time": "2022-08-04T05:19:12.877Z"
   },
   {
    "duration": 5,
    "start_time": "2022-08-04T05:19:12.890Z"
   },
   {
    "duration": 32,
    "start_time": "2022-08-04T05:19:12.897Z"
   },
   {
    "duration": 8,
    "start_time": "2022-08-04T05:19:12.932Z"
   },
   {
    "duration": 14,
    "start_time": "2022-08-04T05:19:12.942Z"
   },
   {
    "duration": 28,
    "start_time": "2022-08-04T05:19:12.958Z"
   },
   {
    "duration": 9,
    "start_time": "2022-08-04T05:19:12.991Z"
   },
   {
    "duration": 740,
    "start_time": "2022-08-04T05:20:47.783Z"
   },
   {
    "duration": 116,
    "start_time": "2022-08-04T05:20:48.525Z"
   },
   {
    "duration": 32,
    "start_time": "2022-08-04T05:20:48.645Z"
   },
   {
    "duration": 33,
    "start_time": "2022-08-04T05:20:48.679Z"
   },
   {
    "duration": 2460,
    "start_time": "2022-08-04T05:20:48.714Z"
   },
   {
    "duration": 10,
    "start_time": "2022-08-04T05:20:51.176Z"
   },
   {
    "duration": 24,
    "start_time": "2022-08-04T05:20:51.188Z"
   },
   {
    "duration": 19,
    "start_time": "2022-08-04T05:20:51.217Z"
   },
   {
    "duration": 9,
    "start_time": "2022-08-04T05:20:51.239Z"
   },
   {
    "duration": 11,
    "start_time": "2022-08-04T05:20:51.250Z"
   },
   {
    "duration": 39,
    "start_time": "2022-08-04T05:20:51.263Z"
   },
   {
    "duration": 31,
    "start_time": "2022-08-04T05:20:51.304Z"
   },
   {
    "duration": 740,
    "start_time": "2022-08-04T05:25:13.122Z"
   },
   {
    "duration": 134,
    "start_time": "2022-08-04T05:25:13.864Z"
   },
   {
    "duration": 44,
    "start_time": "2022-08-04T05:25:14.000Z"
   },
   {
    "duration": 16,
    "start_time": "2022-08-04T05:25:14.045Z"
   },
   {
    "duration": 2438,
    "start_time": "2022-08-04T05:25:14.064Z"
   },
   {
    "duration": 19,
    "start_time": "2022-08-04T05:25:16.509Z"
   },
   {
    "duration": 5,
    "start_time": "2022-08-04T05:25:16.530Z"
   },
   {
    "duration": 7,
    "start_time": "2022-08-04T05:25:16.537Z"
   },
   {
    "duration": 9,
    "start_time": "2022-08-04T05:25:16.546Z"
   },
   {
    "duration": 11,
    "start_time": "2022-08-04T05:25:16.557Z"
   },
   {
    "duration": 73,
    "start_time": "2022-08-04T05:25:16.570Z"
   },
   {
    "duration": 6,
    "start_time": "2022-08-04T05:25:16.645Z"
   },
   {
    "duration": 6,
    "start_time": "2022-08-04T05:25:16.653Z"
   },
   {
    "duration": 16,
    "start_time": "2022-08-04T05:25:16.663Z"
   },
   {
    "duration": 5,
    "start_time": "2022-08-04T05:25:16.681Z"
   },
   {
    "duration": 40,
    "start_time": "2022-08-04T05:25:16.691Z"
   },
   {
    "duration": 6,
    "start_time": "2022-08-04T05:25:16.733Z"
   },
   {
    "duration": 19,
    "start_time": "2022-08-04T05:25:16.742Z"
   },
   {
    "duration": 16,
    "start_time": "2022-08-04T05:25:16.763Z"
   },
   {
    "duration": 28,
    "start_time": "2022-08-04T05:25:16.781Z"
   },
   {
    "duration": 7,
    "start_time": "2022-08-04T05:25:16.815Z"
   },
   {
    "duration": 19,
    "start_time": "2022-08-04T05:25:16.824Z"
   },
   {
    "duration": 5,
    "start_time": "2022-08-04T05:25:16.845Z"
   },
   {
    "duration": 15,
    "start_time": "2022-08-04T05:25:16.853Z"
   },
   {
    "duration": 7,
    "start_time": "2022-08-04T05:25:16.870Z"
   },
   {
    "duration": 57,
    "start_time": "2022-08-04T05:25:16.879Z"
   },
   {
    "duration": 7,
    "start_time": "2022-08-04T05:25:16.938Z"
   },
   {
    "duration": 7,
    "start_time": "2022-08-04T05:25:16.947Z"
   },
   {
    "duration": 9,
    "start_time": "2022-08-04T05:25:16.955Z"
   },
   {
    "duration": 33,
    "start_time": "2022-08-04T05:25:16.966Z"
   },
   {
    "duration": 41,
    "start_time": "2022-08-04T05:25:17.007Z"
   },
   {
    "duration": 5,
    "start_time": "2022-08-04T05:25:17.050Z"
   },
   {
    "duration": 16,
    "start_time": "2022-08-04T05:25:17.057Z"
   },
   {
    "duration": 11,
    "start_time": "2022-08-04T05:25:17.075Z"
   },
   {
    "duration": 43,
    "start_time": "2022-08-04T05:25:17.088Z"
   },
   {
    "duration": 5,
    "start_time": "2022-08-04T05:25:17.133Z"
   },
   {
    "duration": 11,
    "start_time": "2022-08-04T05:25:17.140Z"
   },
   {
    "duration": 15,
    "start_time": "2022-08-04T05:25:17.153Z"
   },
   {
    "duration": 15,
    "start_time": "2022-08-04T05:25:17.171Z"
   },
   {
    "duration": 35,
    "start_time": "2022-08-04T05:25:17.188Z"
   },
   {
    "duration": 329,
    "start_time": "2022-08-04T05:25:17.232Z"
   },
   {
    "duration": 4,
    "start_time": "2022-08-04T05:25:17.563Z"
   },
   {
    "duration": 37,
    "start_time": "2022-08-04T05:25:17.569Z"
   },
   {
    "duration": 184,
    "start_time": "2022-08-04T05:25:17.608Z"
   },
   {
    "duration": 201,
    "start_time": "2022-08-04T05:25:17.794Z"
   },
   {
    "duration": 184,
    "start_time": "2022-08-04T05:25:17.997Z"
   },
   {
    "duration": 14,
    "start_time": "2022-08-04T05:25:18.183Z"
   },
   {
    "duration": 277,
    "start_time": "2022-08-04T05:25:18.210Z"
   },
   {
    "duration": 196,
    "start_time": "2022-08-04T05:25:18.489Z"
   },
   {
    "duration": 172,
    "start_time": "2022-08-04T05:25:18.687Z"
   },
   {
    "duration": 179,
    "start_time": "2022-08-04T05:25:18.860Z"
   },
   {
    "duration": 206,
    "start_time": "2022-08-04T05:25:19.040Z"
   },
   {
    "duration": 194,
    "start_time": "2022-08-04T05:25:19.248Z"
   },
   {
    "duration": 182,
    "start_time": "2022-08-04T05:25:19.445Z"
   },
   {
    "duration": 212,
    "start_time": "2022-08-04T05:25:19.628Z"
   },
   {
    "duration": 210,
    "start_time": "2022-08-04T05:25:19.842Z"
   },
   {
    "duration": 203,
    "start_time": "2022-08-04T05:25:20.054Z"
   },
   {
    "duration": 6,
    "start_time": "2022-08-04T05:25:20.259Z"
   },
   {
    "duration": 43,
    "start_time": "2022-08-04T05:25:20.267Z"
   },
   {
    "duration": 236,
    "start_time": "2022-08-04T05:25:20.314Z"
   },
   {
    "duration": 18,
    "start_time": "2022-08-04T05:25:20.552Z"
   },
   {
    "duration": 319,
    "start_time": "2022-08-04T05:25:20.572Z"
   },
   {
    "duration": 20,
    "start_time": "2022-08-04T05:25:20.893Z"
   },
   {
    "duration": 228,
    "start_time": "2022-08-04T05:25:20.920Z"
   },
   {
    "duration": 6,
    "start_time": "2022-08-04T05:25:21.150Z"
   },
   {
    "duration": 17,
    "start_time": "2022-08-04T05:25:21.158Z"
   },
   {
    "duration": 233,
    "start_time": "2022-08-04T05:25:21.193Z"
   },
   {
    "duration": 15,
    "start_time": "2022-08-04T05:25:21.428Z"
   },
   {
    "duration": 2,
    "start_time": "2022-08-04T05:25:21.445Z"
   },
   {
    "duration": 14,
    "start_time": "2022-08-04T05:25:21.449Z"
   },
   {
    "duration": 273,
    "start_time": "2022-08-04T05:25:21.465Z"
   },
   {
    "duration": 14,
    "start_time": "2022-08-04T05:25:21.739Z"
   },
   {
    "duration": 263,
    "start_time": "2022-08-04T05:25:21.755Z"
   },
   {
    "duration": 21,
    "start_time": "2022-08-04T05:25:22.020Z"
   },
   {
    "duration": 299,
    "start_time": "2022-08-04T05:25:22.045Z"
   },
   {
    "duration": 12,
    "start_time": "2022-08-04T05:25:22.346Z"
   },
   {
    "duration": 69,
    "start_time": "2022-08-04T05:25:22.360Z"
   },
   {
    "duration": 3,
    "start_time": "2022-08-04T05:25:22.431Z"
   },
   {
    "duration": 26,
    "start_time": "2022-08-04T05:25:22.435Z"
   },
   {
    "duration": 203,
    "start_time": "2022-08-04T05:25:22.463Z"
   },
   {
    "duration": 186,
    "start_time": "2022-08-04T05:25:36.314Z"
   },
   {
    "duration": 718,
    "start_time": "2022-08-04T05:34:05.120Z"
   },
   {
    "duration": 127,
    "start_time": "2022-08-04T05:34:05.841Z"
   },
   {
    "duration": 50,
    "start_time": "2022-08-04T05:34:05.970Z"
   },
   {
    "duration": 18,
    "start_time": "2022-08-04T05:34:06.023Z"
   },
   {
    "duration": 2363,
    "start_time": "2022-08-04T05:34:06.044Z"
   },
   {
    "duration": 11,
    "start_time": "2022-08-04T05:34:08.409Z"
   },
   {
    "duration": 5,
    "start_time": "2022-08-04T05:34:08.423Z"
   },
   {
    "duration": 8,
    "start_time": "2022-08-04T05:34:08.430Z"
   },
   {
    "duration": 9,
    "start_time": "2022-08-04T05:34:08.440Z"
   },
   {
    "duration": 10,
    "start_time": "2022-08-04T05:34:08.452Z"
   },
   {
    "duration": 62,
    "start_time": "2022-08-04T05:34:08.463Z"
   },
   {
    "duration": 6,
    "start_time": "2022-08-04T05:34:08.527Z"
   },
   {
    "duration": 7,
    "start_time": "2022-08-04T05:34:08.535Z"
   },
   {
    "duration": 18,
    "start_time": "2022-08-04T05:34:08.544Z"
   },
   {
    "duration": 5,
    "start_time": "2022-08-04T05:34:08.564Z"
   },
   {
    "duration": 23,
    "start_time": "2022-08-04T05:34:08.596Z"
   },
   {
    "duration": 5,
    "start_time": "2022-08-04T05:34:08.621Z"
   },
   {
    "duration": 14,
    "start_time": "2022-08-04T05:34:08.627Z"
   },
   {
    "duration": 19,
    "start_time": "2022-08-04T05:34:08.643Z"
   },
   {
    "duration": 42,
    "start_time": "2022-08-04T05:34:08.664Z"
   },
   {
    "duration": 5,
    "start_time": "2022-08-04T05:34:08.707Z"
   },
   {
    "duration": 11,
    "start_time": "2022-08-04T05:34:08.714Z"
   },
   {
    "duration": 5,
    "start_time": "2022-08-04T05:34:08.727Z"
   },
   {
    "duration": 10,
    "start_time": "2022-08-04T05:34:08.733Z"
   },
   {
    "duration": 6,
    "start_time": "2022-08-04T05:34:08.745Z"
   },
   {
    "duration": 7,
    "start_time": "2022-08-04T05:34:08.753Z"
   },
   {
    "duration": 31,
    "start_time": "2022-08-04T05:34:08.762Z"
   },
   {
    "duration": 9,
    "start_time": "2022-08-04T05:34:08.799Z"
   },
   {
    "duration": 13,
    "start_time": "2022-08-04T05:34:08.815Z"
   },
   {
    "duration": 10,
    "start_time": "2022-08-04T05:34:08.830Z"
   },
   {
    "duration": 31,
    "start_time": "2022-08-04T05:34:08.842Z"
   },
   {
    "duration": 27,
    "start_time": "2022-08-04T05:34:08.875Z"
   },
   {
    "duration": 15,
    "start_time": "2022-08-04T05:34:08.903Z"
   },
   {
    "duration": 9,
    "start_time": "2022-08-04T05:34:08.919Z"
   },
   {
    "duration": 11,
    "start_time": "2022-08-04T05:34:08.929Z"
   },
   {
    "duration": 5,
    "start_time": "2022-08-04T05:34:08.941Z"
   },
   {
    "duration": 10,
    "start_time": "2022-08-04T05:34:08.947Z"
   },
   {
    "duration": 8,
    "start_time": "2022-08-04T05:34:08.959Z"
   },
   {
    "duration": 38,
    "start_time": "2022-08-04T05:34:08.969Z"
   },
   {
    "duration": 6,
    "start_time": "2022-08-04T05:34:09.009Z"
   },
   {
    "duration": 297,
    "start_time": "2022-08-04T05:34:09.017Z"
   },
   {
    "duration": 5,
    "start_time": "2022-08-04T05:34:09.315Z"
   },
   {
    "duration": 37,
    "start_time": "2022-08-04T05:34:09.322Z"
   },
   {
    "duration": 182,
    "start_time": "2022-08-04T05:34:09.361Z"
   },
   {
    "duration": 186,
    "start_time": "2022-08-04T05:34:09.544Z"
   },
   {
    "duration": 187,
    "start_time": "2022-08-04T05:34:09.731Z"
   },
   {
    "duration": 2,
    "start_time": "2022-08-04T05:34:09.920Z"
   },
   {
    "duration": 274,
    "start_time": "2022-08-04T05:34:09.924Z"
   },
   {
    "duration": 318,
    "start_time": "2022-08-04T05:34:10.199Z"
   },
   {
    "duration": 192,
    "start_time": "2022-08-04T05:34:10.519Z"
   },
   {
    "duration": 149,
    "start_time": "2022-08-04T05:34:10.714Z"
   },
   {
    "duration": 259,
    "start_time": "2022-08-04T05:34:10.865Z"
   },
   {
    "duration": 204,
    "start_time": "2022-08-04T05:34:11.126Z"
   },
   {
    "duration": 268,
    "start_time": "2022-08-04T05:34:11.332Z"
   },
   {
    "duration": 183,
    "start_time": "2022-08-04T05:34:11.602Z"
   },
   {
    "duration": 235,
    "start_time": "2022-08-04T05:34:11.788Z"
   },
   {
    "duration": 241,
    "start_time": "2022-08-04T05:34:12.025Z"
   },
   {
    "duration": 6,
    "start_time": "2022-08-04T05:34:12.268Z"
   },
   {
    "duration": 41,
    "start_time": "2022-08-04T05:34:12.276Z"
   },
   {
    "duration": 237,
    "start_time": "2022-08-04T05:34:12.320Z"
   },
   {
    "duration": 17,
    "start_time": "2022-08-04T05:34:12.559Z"
   },
   {
    "duration": 295,
    "start_time": "2022-08-04T05:34:12.578Z"
   },
   {
    "duration": 29,
    "start_time": "2022-08-04T05:34:12.875Z"
   },
   {
    "duration": 233,
    "start_time": "2022-08-04T05:34:12.906Z"
   },
   {
    "duration": 5,
    "start_time": "2022-08-04T05:34:13.140Z"
   },
   {
    "duration": 14,
    "start_time": "2022-08-04T05:34:13.147Z"
   },
   {
    "duration": 219,
    "start_time": "2022-08-04T05:34:13.162Z"
   },
   {
    "duration": 27,
    "start_time": "2022-08-04T05:34:13.383Z"
   },
   {
    "duration": 12,
    "start_time": "2022-08-04T05:34:13.411Z"
   },
   {
    "duration": 22,
    "start_time": "2022-08-04T05:34:13.425Z"
   },
   {
    "duration": 203,
    "start_time": "2022-08-04T05:34:13.448Z"
   },
   {
    "duration": 14,
    "start_time": "2022-08-04T05:34:13.652Z"
   },
   {
    "duration": 208,
    "start_time": "2022-08-04T05:34:13.668Z"
   },
   {
    "duration": 30,
    "start_time": "2022-08-04T05:34:13.878Z"
   },
   {
    "duration": 229,
    "start_time": "2022-08-04T05:34:13.910Z"
   },
   {
    "duration": 8,
    "start_time": "2022-08-04T05:34:14.140Z"
   },
   {
    "duration": 57,
    "start_time": "2022-08-04T05:34:14.150Z"
   },
   {
    "duration": 3,
    "start_time": "2022-08-04T05:34:14.209Z"
   },
   {
    "duration": 35,
    "start_time": "2022-08-04T05:34:14.214Z"
   },
   {
    "duration": 185,
    "start_time": "2022-08-04T05:34:14.251Z"
   },
   {
    "duration": 233,
    "start_time": "2022-08-04T05:34:36.218Z"
   },
   {
    "duration": 221,
    "start_time": "2022-08-04T05:34:39.767Z"
   },
   {
    "duration": 210,
    "start_time": "2022-08-04T05:34:43.163Z"
   },
   {
    "duration": 227,
    "start_time": "2022-08-04T05:34:46.488Z"
   },
   {
    "duration": 271,
    "start_time": "2022-08-04T05:34:51.318Z"
   },
   {
    "duration": 235,
    "start_time": "2022-08-04T05:34:56.875Z"
   },
   {
    "duration": 227,
    "start_time": "2022-08-04T05:35:00.139Z"
   },
   {
    "duration": 228,
    "start_time": "2022-08-04T05:35:04.895Z"
   },
   {
    "duration": 234,
    "start_time": "2022-08-04T05:35:07.918Z"
   },
   {
    "duration": 206,
    "start_time": "2022-08-04T05:35:10.518Z"
   },
   {
    "duration": 210,
    "start_time": "2022-08-04T05:35:14.522Z"
   },
   {
    "duration": 209,
    "start_time": "2022-08-04T05:35:17.569Z"
   },
   {
    "duration": 210,
    "start_time": "2022-08-04T05:35:20.718Z"
   },
   {
    "duration": 204,
    "start_time": "2022-08-04T05:36:04.157Z"
   },
   {
    "duration": 207,
    "start_time": "2022-08-04T05:36:09.753Z"
   },
   {
    "duration": 217,
    "start_time": "2022-08-04T05:36:13.234Z"
   },
   {
    "duration": 221,
    "start_time": "2022-08-04T05:36:16.528Z"
   },
   {
    "duration": 295,
    "start_time": "2022-08-04T05:36:24.537Z"
   },
   {
    "duration": 236,
    "start_time": "2022-08-04T05:36:31.594Z"
   },
   {
    "duration": 221,
    "start_time": "2022-08-04T05:36:50.409Z"
   },
   {
    "duration": 244,
    "start_time": "2022-08-04T05:36:53.768Z"
   },
   {
    "duration": 214,
    "start_time": "2022-08-04T05:36:56.518Z"
   },
   {
    "duration": 278,
    "start_time": "2022-08-04T05:37:01.878Z"
   },
   {
    "duration": 263,
    "start_time": "2022-08-04T05:37:04.568Z"
   },
   {
    "duration": 277,
    "start_time": "2022-08-04T05:37:10.385Z"
   },
   {
    "duration": 228,
    "start_time": "2022-08-04T05:37:20.891Z"
   },
   {
    "duration": 85,
    "start_time": "2022-08-04T05:37:58.319Z"
   },
   {
    "duration": 233,
    "start_time": "2022-08-04T05:38:03.654Z"
   },
   {
    "duration": 205,
    "start_time": "2022-08-04T05:38:08.212Z"
   },
   {
    "duration": 226,
    "start_time": "2022-08-04T05:38:11.487Z"
   },
   {
    "duration": 280,
    "start_time": "2022-08-04T05:38:15.388Z"
   },
   {
    "duration": 224,
    "start_time": "2022-08-04T05:38:27.222Z"
   },
   {
    "duration": 223,
    "start_time": "2022-08-04T05:38:33.652Z"
   },
   {
    "duration": 245,
    "start_time": "2022-08-04T05:38:38.091Z"
   },
   {
    "duration": 318,
    "start_time": "2022-08-04T05:38:49.666Z"
   },
   {
    "duration": 237,
    "start_time": "2022-08-04T05:38:58.921Z"
   },
   {
    "duration": 3,
    "start_time": "2022-08-04T05:39:18.665Z"
   },
   {
    "duration": 3,
    "start_time": "2022-08-04T05:39:44.132Z"
   },
   {
    "duration": 3,
    "start_time": "2022-08-04T05:39:47.241Z"
   },
   {
    "duration": 10,
    "start_time": "2022-08-04T05:39:52.601Z"
   },
   {
    "duration": 168,
    "start_time": "2022-08-04T05:41:28.158Z"
   },
   {
    "duration": 84,
    "start_time": "2022-08-04T05:41:52.057Z"
   },
   {
    "duration": 251,
    "start_time": "2022-08-04T05:42:07.033Z"
   },
   {
    "duration": 172,
    "start_time": "2022-08-04T05:42:21.722Z"
   },
   {
    "duration": 167,
    "start_time": "2022-08-04T05:42:33.069Z"
   },
   {
    "duration": 140,
    "start_time": "2022-08-04T05:45:35.304Z"
   },
   {
    "duration": 159,
    "start_time": "2022-08-04T05:45:54.148Z"
   },
   {
    "duration": 200,
    "start_time": "2022-08-04T05:46:15.905Z"
   },
   {
    "duration": 146,
    "start_time": "2022-08-04T05:46:46.369Z"
   },
   {
    "duration": 147,
    "start_time": "2022-08-04T05:47:28.239Z"
   },
   {
    "duration": 226,
    "start_time": "2022-08-04T05:47:47.737Z"
   },
   {
    "duration": 236,
    "start_time": "2022-08-04T05:47:51.632Z"
   },
   {
    "duration": 15,
    "start_time": "2022-08-04T05:55:01.239Z"
   },
   {
    "duration": 128,
    "start_time": "2022-08-04T05:55:16.081Z"
   },
   {
    "duration": 139,
    "start_time": "2022-08-04T05:55:29.275Z"
   },
   {
    "duration": 148,
    "start_time": "2022-08-04T05:57:58.590Z"
   },
   {
    "duration": 13,
    "start_time": "2022-08-04T05:59:49.670Z"
   },
   {
    "duration": 153,
    "start_time": "2022-08-04T06:05:26.136Z"
   },
   {
    "duration": 2,
    "start_time": "2022-08-04T06:05:40.736Z"
   },
   {
    "duration": 140,
    "start_time": "2022-08-04T06:06:20.840Z"
   },
   {
    "duration": 11,
    "start_time": "2022-08-04T06:07:29.924Z"
   },
   {
    "duration": 20,
    "start_time": "2022-08-04T06:07:43.688Z"
   },
   {
    "duration": 19,
    "start_time": "2022-08-04T06:07:52.162Z"
   },
   {
    "duration": 296,
    "start_time": "2022-08-04T06:11:17.617Z"
   },
   {
    "duration": 77,
    "start_time": "2022-08-04T06:12:27.539Z"
   },
   {
    "duration": 130,
    "start_time": "2022-08-04T06:12:33.416Z"
   },
   {
    "duration": 22,
    "start_time": "2022-08-04T06:13:42.951Z"
   },
   {
    "duration": 123,
    "start_time": "2022-08-04T06:14:11.040Z"
   },
   {
    "duration": 136,
    "start_time": "2022-08-04T06:16:18.481Z"
   },
   {
    "duration": 115,
    "start_time": "2022-08-04T06:17:29.039Z"
   },
   {
    "duration": 45,
    "start_time": "2022-08-04T12:44:47.288Z"
   },
   {
    "duration": 815,
    "start_time": "2022-08-04T12:44:54.481Z"
   },
   {
    "duration": 332,
    "start_time": "2022-08-04T12:44:55.299Z"
   },
   {
    "duration": 31,
    "start_time": "2022-08-04T12:44:55.633Z"
   },
   {
    "duration": 15,
    "start_time": "2022-08-04T12:44:55.666Z"
   },
   {
    "duration": 1932,
    "start_time": "2022-08-04T12:44:55.683Z"
   },
   {
    "duration": 10,
    "start_time": "2022-08-04T12:44:57.616Z"
   },
   {
    "duration": 10,
    "start_time": "2022-08-04T12:44:57.627Z"
   },
   {
    "duration": 8,
    "start_time": "2022-08-04T12:44:57.639Z"
   },
   {
    "duration": 8,
    "start_time": "2022-08-04T12:44:57.648Z"
   },
   {
    "duration": 10,
    "start_time": "2022-08-04T12:44:57.659Z"
   },
   {
    "duration": 40,
    "start_time": "2022-08-04T12:44:57.670Z"
   },
   {
    "duration": 4,
    "start_time": "2022-08-04T12:44:57.712Z"
   },
   {
    "duration": 87,
    "start_time": "2022-08-04T12:44:57.718Z"
   },
   {
    "duration": 0,
    "start_time": "2022-08-04T12:44:57.809Z"
   },
   {
    "duration": 0,
    "start_time": "2022-08-04T12:44:57.811Z"
   },
   {
    "duration": 0,
    "start_time": "2022-08-04T12:44:57.812Z"
   },
   {
    "duration": 0,
    "start_time": "2022-08-04T12:44:57.813Z"
   },
   {
    "duration": 0,
    "start_time": "2022-08-04T12:44:57.814Z"
   },
   {
    "duration": 0,
    "start_time": "2022-08-04T12:44:57.815Z"
   },
   {
    "duration": 0,
    "start_time": "2022-08-04T12:44:57.816Z"
   },
   {
    "duration": 0,
    "start_time": "2022-08-04T12:44:57.817Z"
   },
   {
    "duration": 0,
    "start_time": "2022-08-04T12:44:57.818Z"
   },
   {
    "duration": 0,
    "start_time": "2022-08-04T12:44:57.819Z"
   },
   {
    "duration": 0,
    "start_time": "2022-08-04T12:44:57.821Z"
   },
   {
    "duration": 0,
    "start_time": "2022-08-04T12:44:57.822Z"
   },
   {
    "duration": 0,
    "start_time": "2022-08-04T12:44:57.823Z"
   },
   {
    "duration": 0,
    "start_time": "2022-08-04T12:44:57.824Z"
   },
   {
    "duration": 0,
    "start_time": "2022-08-04T12:44:57.825Z"
   },
   {
    "duration": 0,
    "start_time": "2022-08-04T12:44:57.826Z"
   },
   {
    "duration": 0,
    "start_time": "2022-08-04T12:44:57.827Z"
   },
   {
    "duration": 0,
    "start_time": "2022-08-04T12:44:57.828Z"
   },
   {
    "duration": 0,
    "start_time": "2022-08-04T12:44:57.829Z"
   },
   {
    "duration": 0,
    "start_time": "2022-08-04T12:44:57.830Z"
   },
   {
    "duration": 0,
    "start_time": "2022-08-04T12:44:57.831Z"
   },
   {
    "duration": 0,
    "start_time": "2022-08-04T12:44:57.833Z"
   },
   {
    "duration": 0,
    "start_time": "2022-08-04T12:44:57.834Z"
   },
   {
    "duration": 0,
    "start_time": "2022-08-04T12:44:57.835Z"
   },
   {
    "duration": 0,
    "start_time": "2022-08-04T12:44:57.836Z"
   },
   {
    "duration": 0,
    "start_time": "2022-08-04T12:44:57.837Z"
   },
   {
    "duration": 0,
    "start_time": "2022-08-04T12:44:57.839Z"
   },
   {
    "duration": 0,
    "start_time": "2022-08-04T12:44:57.840Z"
   },
   {
    "duration": 0,
    "start_time": "2022-08-04T12:44:57.841Z"
   },
   {
    "duration": 0,
    "start_time": "2022-08-04T12:44:57.843Z"
   },
   {
    "duration": 0,
    "start_time": "2022-08-04T12:44:57.844Z"
   },
   {
    "duration": 0,
    "start_time": "2022-08-04T12:44:57.901Z"
   },
   {
    "duration": 0,
    "start_time": "2022-08-04T12:44:57.903Z"
   },
   {
    "duration": 0,
    "start_time": "2022-08-04T12:44:57.904Z"
   },
   {
    "duration": 0,
    "start_time": "2022-08-04T12:44:57.905Z"
   },
   {
    "duration": 0,
    "start_time": "2022-08-04T12:44:57.907Z"
   },
   {
    "duration": 0,
    "start_time": "2022-08-04T12:44:57.908Z"
   },
   {
    "duration": 1,
    "start_time": "2022-08-04T12:44:57.909Z"
   },
   {
    "duration": 0,
    "start_time": "2022-08-04T12:44:57.911Z"
   },
   {
    "duration": 0,
    "start_time": "2022-08-04T12:44:57.912Z"
   },
   {
    "duration": 0,
    "start_time": "2022-08-04T12:44:57.913Z"
   },
   {
    "duration": 0,
    "start_time": "2022-08-04T12:44:57.915Z"
   },
   {
    "duration": 0,
    "start_time": "2022-08-04T12:44:57.916Z"
   },
   {
    "duration": 0,
    "start_time": "2022-08-04T12:44:57.918Z"
   },
   {
    "duration": 0,
    "start_time": "2022-08-04T12:44:57.919Z"
   },
   {
    "duration": 0,
    "start_time": "2022-08-04T12:44:57.921Z"
   },
   {
    "duration": 0,
    "start_time": "2022-08-04T12:44:57.922Z"
   },
   {
    "duration": 0,
    "start_time": "2022-08-04T12:44:57.923Z"
   },
   {
    "duration": 0,
    "start_time": "2022-08-04T12:44:57.924Z"
   },
   {
    "duration": 0,
    "start_time": "2022-08-04T12:44:57.925Z"
   },
   {
    "duration": 0,
    "start_time": "2022-08-04T12:44:57.926Z"
   },
   {
    "duration": 0,
    "start_time": "2022-08-04T12:44:57.927Z"
   },
   {
    "duration": 0,
    "start_time": "2022-08-04T12:44:57.928Z"
   },
   {
    "duration": 0,
    "start_time": "2022-08-04T12:44:57.929Z"
   },
   {
    "duration": 1,
    "start_time": "2022-08-04T12:44:57.930Z"
   },
   {
    "duration": 0,
    "start_time": "2022-08-04T12:44:57.932Z"
   },
   {
    "duration": 0,
    "start_time": "2022-08-04T12:44:57.933Z"
   },
   {
    "duration": 0,
    "start_time": "2022-08-04T12:44:57.934Z"
   },
   {
    "duration": 0,
    "start_time": "2022-08-04T12:44:57.935Z"
   },
   {
    "duration": 0,
    "start_time": "2022-08-04T12:44:57.936Z"
   },
   {
    "duration": 0,
    "start_time": "2022-08-04T12:44:57.937Z"
   },
   {
    "duration": 0,
    "start_time": "2022-08-04T12:44:57.999Z"
   },
   {
    "duration": 0,
    "start_time": "2022-08-04T12:44:58.001Z"
   },
   {
    "duration": 0,
    "start_time": "2022-08-04T12:44:58.002Z"
   },
   {
    "duration": 0,
    "start_time": "2022-08-04T12:44:58.003Z"
   },
   {
    "duration": 0,
    "start_time": "2022-08-04T12:44:58.004Z"
   },
   {
    "duration": 0,
    "start_time": "2022-08-04T12:44:58.005Z"
   },
   {
    "duration": 0,
    "start_time": "2022-08-04T12:44:58.006Z"
   },
   {
    "duration": 8,
    "start_time": "2022-08-04T12:45:22.236Z"
   },
   {
    "duration": 5,
    "start_time": "2022-08-04T12:45:34.386Z"
   },
   {
    "duration": 58,
    "start_time": "2022-08-04T13:13:08.360Z"
   },
   {
    "duration": 58,
    "start_time": "2022-08-04T13:13:59.864Z"
   },
   {
    "duration": 6,
    "start_time": "2022-08-04T13:14:11.399Z"
   },
   {
    "duration": 19,
    "start_time": "2022-08-04T13:14:50.689Z"
   },
   {
    "duration": 16,
    "start_time": "2022-08-04T13:15:29.917Z"
   },
   {
    "duration": 11,
    "start_time": "2022-08-04T13:20:58.892Z"
   },
   {
    "duration": 6,
    "start_time": "2022-08-04T13:21:01.518Z"
   },
   {
    "duration": 567,
    "start_time": "2022-08-04T13:23:55.833Z"
   },
   {
    "duration": 100,
    "start_time": "2022-08-04T13:23:56.402Z"
   },
   {
    "duration": 28,
    "start_time": "2022-08-04T13:23:56.504Z"
   },
   {
    "duration": 13,
    "start_time": "2022-08-04T13:23:56.534Z"
   },
   {
    "duration": 1749,
    "start_time": "2022-08-04T13:23:56.549Z"
   },
   {
    "duration": 9,
    "start_time": "2022-08-04T13:23:58.300Z"
   },
   {
    "duration": 4,
    "start_time": "2022-08-04T13:23:58.310Z"
   },
   {
    "duration": 10,
    "start_time": "2022-08-04T13:23:58.315Z"
   },
   {
    "duration": 38,
    "start_time": "2022-08-04T13:23:58.326Z"
   },
   {
    "duration": 20,
    "start_time": "2022-08-04T13:23:58.366Z"
   },
   {
    "duration": 25,
    "start_time": "2022-08-04T13:23:58.388Z"
   },
   {
    "duration": 4,
    "start_time": "2022-08-04T13:23:58.415Z"
   },
   {
    "duration": 8,
    "start_time": "2022-08-04T13:23:58.421Z"
   },
   {
    "duration": 12,
    "start_time": "2022-08-04T13:23:58.433Z"
   },
   {
    "duration": 5,
    "start_time": "2022-08-04T13:23:58.446Z"
   },
   {
    "duration": 16,
    "start_time": "2022-08-04T13:23:58.452Z"
   },
   {
    "duration": 30,
    "start_time": "2022-08-04T13:23:58.470Z"
   },
   {
    "duration": 11,
    "start_time": "2022-08-04T13:23:58.502Z"
   },
   {
    "duration": 13,
    "start_time": "2022-08-04T13:23:58.515Z"
   },
   {
    "duration": 9,
    "start_time": "2022-08-04T13:23:58.529Z"
   },
   {
    "duration": 5,
    "start_time": "2022-08-04T13:23:58.540Z"
   },
   {
    "duration": 16,
    "start_time": "2022-08-04T13:23:58.548Z"
   },
   {
    "duration": 35,
    "start_time": "2022-08-04T13:23:58.566Z"
   },
   {
    "duration": 5,
    "start_time": "2022-08-04T13:23:58.603Z"
   },
   {
    "duration": 10,
    "start_time": "2022-08-04T13:23:58.610Z"
   },
   {
    "duration": 10,
    "start_time": "2022-08-04T13:23:58.622Z"
   },
   {
    "duration": 8,
    "start_time": "2022-08-04T13:23:58.634Z"
   },
   {
    "duration": 25,
    "start_time": "2022-08-04T13:23:58.643Z"
   },
   {
    "duration": 9,
    "start_time": "2022-08-04T13:23:58.670Z"
   },
   {
    "duration": 7,
    "start_time": "2022-08-04T13:23:58.680Z"
   },
   {
    "duration": 25,
    "start_time": "2022-08-04T13:23:58.688Z"
   },
   {
    "duration": 5,
    "start_time": "2022-08-04T13:23:58.714Z"
   },
   {
    "duration": 7,
    "start_time": "2022-08-04T13:23:58.721Z"
   },
   {
    "duration": 7,
    "start_time": "2022-08-04T13:23:58.729Z"
   },
   {
    "duration": 7,
    "start_time": "2022-08-04T13:23:58.738Z"
   },
   {
    "duration": 7,
    "start_time": "2022-08-04T13:23:58.747Z"
   },
   {
    "duration": 13,
    "start_time": "2022-08-04T13:23:58.755Z"
   },
   {
    "duration": 8,
    "start_time": "2022-08-04T13:23:58.769Z"
   },
   {
    "duration": 22,
    "start_time": "2022-08-04T13:23:58.778Z"
   },
   {
    "duration": 5,
    "start_time": "2022-08-04T13:23:58.801Z"
   },
   {
    "duration": 253,
    "start_time": "2022-08-04T13:23:58.809Z"
   },
   {
    "duration": 4,
    "start_time": "2022-08-04T13:23:59.064Z"
   },
   {
    "duration": 35,
    "start_time": "2022-08-04T13:23:59.069Z"
   },
   {
    "duration": 121,
    "start_time": "2022-08-04T13:23:59.106Z"
   },
   {
    "duration": 138,
    "start_time": "2022-08-04T13:23:59.228Z"
   },
   {
    "duration": 139,
    "start_time": "2022-08-04T13:23:59.368Z"
   },
   {
    "duration": 3,
    "start_time": "2022-08-04T13:23:59.509Z"
   },
   {
    "duration": 230,
    "start_time": "2022-08-04T13:23:59.513Z"
   },
   {
    "duration": 148,
    "start_time": "2022-08-04T13:23:59.744Z"
   },
   {
    "duration": 133,
    "start_time": "2022-08-04T13:23:59.900Z"
   },
   {
    "duration": 135,
    "start_time": "2022-08-04T13:24:00.035Z"
   },
   {
    "duration": 119,
    "start_time": "2022-08-04T13:24:00.172Z"
   },
   {
    "duration": 130,
    "start_time": "2022-08-04T13:24:00.292Z"
   },
   {
    "duration": 143,
    "start_time": "2022-08-04T13:24:00.424Z"
   },
   {
    "duration": 139,
    "start_time": "2022-08-04T13:24:00.569Z"
   },
   {
    "duration": 141,
    "start_time": "2022-08-04T13:24:00.710Z"
   },
   {
    "duration": 148,
    "start_time": "2022-08-04T13:24:00.853Z"
   },
   {
    "duration": 7,
    "start_time": "2022-08-04T13:24:01.003Z"
   },
   {
    "duration": 51,
    "start_time": "2022-08-04T13:24:01.011Z"
   },
   {
    "duration": 180,
    "start_time": "2022-08-04T13:24:01.064Z"
   },
   {
    "duration": 15,
    "start_time": "2022-08-04T13:24:01.246Z"
   },
   {
    "duration": 282,
    "start_time": "2022-08-04T13:24:01.262Z"
   },
   {
    "duration": 19,
    "start_time": "2022-08-04T13:24:01.546Z"
   },
   {
    "duration": 201,
    "start_time": "2022-08-04T13:24:01.567Z"
   },
   {
    "duration": 5,
    "start_time": "2022-08-04T13:24:01.769Z"
   },
   {
    "duration": 35,
    "start_time": "2022-08-04T13:24:01.776Z"
   },
   {
    "duration": 137,
    "start_time": "2022-08-04T13:24:01.812Z"
   },
   {
    "duration": 12,
    "start_time": "2022-08-04T13:24:01.951Z"
   },
   {
    "duration": 155,
    "start_time": "2022-08-04T13:24:01.965Z"
   },
   {
    "duration": 13,
    "start_time": "2022-08-04T13:24:02.122Z"
   },
   {
    "duration": 149,
    "start_time": "2022-08-04T13:24:02.136Z"
   },
   {
    "duration": 14,
    "start_time": "2022-08-04T13:24:02.286Z"
   },
   {
    "duration": 193,
    "start_time": "2022-08-04T13:24:02.302Z"
   },
   {
    "duration": 13,
    "start_time": "2022-08-04T13:24:02.496Z"
   },
   {
    "duration": 125,
    "start_time": "2022-08-04T13:24:02.510Z"
   },
   {
    "duration": 7,
    "start_time": "2022-08-04T13:24:02.637Z"
   },
   {
    "duration": 54,
    "start_time": "2022-08-04T13:24:02.645Z"
   },
   {
    "duration": 112,
    "start_time": "2022-08-04T13:24:02.701Z"
   },
   {
    "duration": 21,
    "start_time": "2022-08-04T13:24:02.815Z"
   },
   {
    "duration": 177,
    "start_time": "2022-08-04T13:24:02.838Z"
   },
   {
    "duration": 91,
    "start_time": "2022-08-04T13:25:37.252Z"
   },
   {
    "duration": 67,
    "start_time": "2022-08-04T13:29:04.839Z"
   },
   {
    "duration": 12,
    "start_time": "2022-08-04T13:29:37.183Z"
   },
   {
    "duration": 85,
    "start_time": "2022-08-04T13:31:14.764Z"
   },
   {
    "duration": 6,
    "start_time": "2022-08-04T13:36:53.676Z"
   },
   {
    "duration": 4,
    "start_time": "2022-08-04T13:37:29.737Z"
   },
   {
    "duration": 4,
    "start_time": "2022-08-04T13:38:02.368Z"
   },
   {
    "duration": 3,
    "start_time": "2022-08-04T13:38:15.568Z"
   },
   {
    "duration": 935,
    "start_time": "2022-08-04T20:08:51.966Z"
   },
   {
    "duration": 169,
    "start_time": "2022-08-04T20:08:52.903Z"
   },
   {
    "duration": 33,
    "start_time": "2022-08-04T20:08:53.074Z"
   },
   {
    "duration": 17,
    "start_time": "2022-08-04T20:08:53.109Z"
   },
   {
    "duration": 2147,
    "start_time": "2022-08-04T20:08:53.128Z"
   },
   {
    "duration": 12,
    "start_time": "2022-08-04T20:08:55.278Z"
   },
   {
    "duration": 7,
    "start_time": "2022-08-04T20:08:55.292Z"
   },
   {
    "duration": 28,
    "start_time": "2022-08-04T20:08:55.301Z"
   },
   {
    "duration": 32,
    "start_time": "2022-08-04T20:08:55.331Z"
   },
   {
    "duration": 22,
    "start_time": "2022-08-04T20:08:55.365Z"
   },
   {
    "duration": 30,
    "start_time": "2022-08-04T20:08:55.388Z"
   },
   {
    "duration": 5,
    "start_time": "2022-08-04T20:08:55.420Z"
   },
   {
    "duration": 10,
    "start_time": "2022-08-04T20:08:55.427Z"
   },
   {
    "duration": 19,
    "start_time": "2022-08-04T20:08:55.441Z"
   },
   {
    "duration": 18,
    "start_time": "2022-08-04T20:08:55.462Z"
   },
   {
    "duration": 28,
    "start_time": "2022-08-04T20:08:55.482Z"
   },
   {
    "duration": 5,
    "start_time": "2022-08-04T20:08:55.512Z"
   },
   {
    "duration": 17,
    "start_time": "2022-08-04T20:08:55.519Z"
   },
   {
    "duration": 19,
    "start_time": "2022-08-04T20:08:55.537Z"
   },
   {
    "duration": 10,
    "start_time": "2022-08-04T20:08:55.558Z"
   },
   {
    "duration": 46,
    "start_time": "2022-08-04T20:08:55.570Z"
   },
   {
    "duration": 69,
    "start_time": "2022-08-04T20:08:55.618Z"
   },
   {
    "duration": 21,
    "start_time": "2022-08-04T20:08:55.689Z"
   },
   {
    "duration": 54,
    "start_time": "2022-08-04T20:08:55.712Z"
   },
   {
    "duration": 7,
    "start_time": "2022-08-04T20:08:55.767Z"
   },
   {
    "duration": 7,
    "start_time": "2022-08-04T20:08:55.775Z"
   },
   {
    "duration": 10,
    "start_time": "2022-08-04T20:08:55.783Z"
   },
   {
    "duration": 6,
    "start_time": "2022-08-04T20:08:55.795Z"
   },
   {
    "duration": 10,
    "start_time": "2022-08-04T20:08:55.802Z"
   },
   {
    "duration": 12,
    "start_time": "2022-08-04T20:08:55.814Z"
   },
   {
    "duration": 22,
    "start_time": "2022-08-04T20:08:55.828Z"
   },
   {
    "duration": 4,
    "start_time": "2022-08-04T20:08:55.852Z"
   },
   {
    "duration": 14,
    "start_time": "2022-08-04T20:08:55.858Z"
   },
   {
    "duration": 20,
    "start_time": "2022-08-04T20:08:55.874Z"
   },
   {
    "duration": 13,
    "start_time": "2022-08-04T20:08:55.896Z"
   },
   {
    "duration": 5,
    "start_time": "2022-08-04T20:08:55.911Z"
   },
   {
    "duration": 15,
    "start_time": "2022-08-04T20:08:55.917Z"
   },
   {
    "duration": 10,
    "start_time": "2022-08-04T20:08:55.934Z"
   },
   {
    "duration": 6,
    "start_time": "2022-08-04T20:08:55.946Z"
   },
   {
    "duration": 7,
    "start_time": "2022-08-04T20:08:55.954Z"
   },
   {
    "duration": 277,
    "start_time": "2022-08-04T20:08:55.991Z"
   },
   {
    "duration": 5,
    "start_time": "2022-08-04T20:08:56.270Z"
   },
   {
    "duration": 33,
    "start_time": "2022-08-04T20:08:56.277Z"
   },
   {
    "duration": 159,
    "start_time": "2022-08-04T20:08:56.313Z"
   },
   {
    "duration": 177,
    "start_time": "2022-08-04T20:08:56.474Z"
   },
   {
    "duration": 169,
    "start_time": "2022-08-04T20:08:56.653Z"
   },
   {
    "duration": 3,
    "start_time": "2022-08-04T20:08:56.824Z"
   },
   {
    "duration": 265,
    "start_time": "2022-08-04T20:08:56.829Z"
   },
   {
    "duration": 177,
    "start_time": "2022-08-04T20:08:57.096Z"
   },
   {
    "duration": 158,
    "start_time": "2022-08-04T20:08:57.275Z"
   },
   {
    "duration": 145,
    "start_time": "2022-08-04T20:08:57.435Z"
   },
   {
    "duration": 149,
    "start_time": "2022-08-04T20:08:57.591Z"
   },
   {
    "duration": 161,
    "start_time": "2022-08-04T20:08:57.742Z"
   },
   {
    "duration": 160,
    "start_time": "2022-08-04T20:08:57.904Z"
   },
   {
    "duration": 169,
    "start_time": "2022-08-04T20:08:58.065Z"
   },
   {
    "duration": 169,
    "start_time": "2022-08-04T20:08:58.236Z"
   },
   {
    "duration": 166,
    "start_time": "2022-08-04T20:08:58.407Z"
   },
   {
    "duration": 17,
    "start_time": "2022-08-04T20:08:58.575Z"
   },
   {
    "duration": 20,
    "start_time": "2022-08-04T20:08:58.594Z"
   },
   {
    "duration": 217,
    "start_time": "2022-08-04T20:08:58.616Z"
   },
   {
    "duration": 5,
    "start_time": "2022-08-04T20:08:58.835Z"
   },
   {
    "duration": 19,
    "start_time": "2022-08-04T20:08:58.842Z"
   },
   {
    "duration": 296,
    "start_time": "2022-08-04T20:08:58.863Z"
   },
   {
    "duration": 6,
    "start_time": "2022-08-04T20:08:59.161Z"
   },
   {
    "duration": 34,
    "start_time": "2022-08-04T20:08:59.169Z"
   },
   {
    "duration": 227,
    "start_time": "2022-08-04T20:08:59.205Z"
   },
   {
    "duration": 6,
    "start_time": "2022-08-04T20:08:59.434Z"
   },
   {
    "duration": 15,
    "start_time": "2022-08-04T20:08:59.442Z"
   },
   {
    "duration": 5,
    "start_time": "2022-08-04T20:08:59.459Z"
   },
   {
    "duration": 161,
    "start_time": "2022-08-04T20:08:59.466Z"
   },
   {
    "duration": 15,
    "start_time": "2022-08-04T20:08:59.629Z"
   },
   {
    "duration": 150,
    "start_time": "2022-08-04T20:08:59.646Z"
   },
   {
    "duration": 16,
    "start_time": "2022-08-04T20:08:59.798Z"
   },
   {
    "duration": 182,
    "start_time": "2022-08-04T20:08:59.816Z"
   },
   {
    "duration": 17,
    "start_time": "2022-08-04T20:09:00.000Z"
   },
   {
    "duration": 201,
    "start_time": "2022-08-04T20:09:00.019Z"
   },
   {
    "duration": 15,
    "start_time": "2022-08-04T20:09:00.222Z"
   },
   {
    "duration": 188,
    "start_time": "2022-08-04T20:09:00.238Z"
   },
   {
    "duration": 7,
    "start_time": "2022-08-04T20:09:00.428Z"
   },
   {
    "duration": 90,
    "start_time": "2022-08-04T20:09:00.437Z"
   },
   {
    "duration": 114,
    "start_time": "2022-08-04T20:09:00.529Z"
   },
   {
    "duration": 25,
    "start_time": "2022-08-04T20:09:00.645Z"
   },
   {
    "duration": 183,
    "start_time": "2022-08-04T20:09:00.672Z"
   },
   {
    "duration": 47,
    "start_time": "2022-08-05T06:31:50.582Z"
   },
   {
    "duration": 938,
    "start_time": "2022-08-05T06:32:01.556Z"
   },
   {
    "duration": 310,
    "start_time": "2022-08-05T06:32:02.497Z"
   },
   {
    "duration": 31,
    "start_time": "2022-08-05T06:32:02.809Z"
   },
   {
    "duration": 16,
    "start_time": "2022-08-05T06:32:02.842Z"
   },
   {
    "duration": 1979,
    "start_time": "2022-08-05T06:32:02.859Z"
   },
   {
    "duration": 16,
    "start_time": "2022-08-05T06:32:04.840Z"
   },
   {
    "duration": 6,
    "start_time": "2022-08-05T06:32:04.858Z"
   },
   {
    "duration": 13,
    "start_time": "2022-08-05T06:32:04.866Z"
   },
   {
    "duration": 12,
    "start_time": "2022-08-05T06:32:04.881Z"
   },
   {
    "duration": 14,
    "start_time": "2022-08-05T06:32:04.897Z"
   },
   {
    "duration": 36,
    "start_time": "2022-08-05T06:32:04.913Z"
   },
   {
    "duration": 11,
    "start_time": "2022-08-05T06:32:04.951Z"
   },
   {
    "duration": 17,
    "start_time": "2022-08-05T06:32:04.964Z"
   },
   {
    "duration": 26,
    "start_time": "2022-08-05T06:32:04.983Z"
   },
   {
    "duration": 6,
    "start_time": "2022-08-05T06:32:05.012Z"
   },
   {
    "duration": 23,
    "start_time": "2022-08-05T06:32:05.020Z"
   },
   {
    "duration": 7,
    "start_time": "2022-08-05T06:32:05.046Z"
   },
   {
    "duration": 17,
    "start_time": "2022-08-05T06:32:05.055Z"
   },
   {
    "duration": 41,
    "start_time": "2022-08-05T06:32:05.074Z"
   },
   {
    "duration": 14,
    "start_time": "2022-08-05T06:32:05.117Z"
   },
   {
    "duration": 6,
    "start_time": "2022-08-05T06:32:05.133Z"
   },
   {
    "duration": 15,
    "start_time": "2022-08-05T06:32:05.140Z"
   },
   {
    "duration": 7,
    "start_time": "2022-08-05T06:32:05.158Z"
   },
   {
    "duration": 10,
    "start_time": "2022-08-05T06:32:05.167Z"
   },
   {
    "duration": 37,
    "start_time": "2022-08-05T06:32:05.179Z"
   },
   {
    "duration": 10,
    "start_time": "2022-08-05T06:32:05.219Z"
   },
   {
    "duration": 10,
    "start_time": "2022-08-05T06:32:05.231Z"
   },
   {
    "duration": 11,
    "start_time": "2022-08-05T06:32:05.248Z"
   },
   {
    "duration": 47,
    "start_time": "2022-08-05T06:32:05.262Z"
   },
   {
    "duration": 10,
    "start_time": "2022-08-05T06:32:05.312Z"
   },
   {
    "duration": 29,
    "start_time": "2022-08-05T06:32:05.324Z"
   },
   {
    "duration": 5,
    "start_time": "2022-08-05T06:32:05.355Z"
   },
   {
    "duration": 10,
    "start_time": "2022-08-05T06:32:05.362Z"
   },
   {
    "duration": 36,
    "start_time": "2022-08-05T06:32:05.373Z"
   },
   {
    "duration": 16,
    "start_time": "2022-08-05T06:32:05.411Z"
   },
   {
    "duration": 6,
    "start_time": "2022-08-05T06:32:05.429Z"
   },
   {
    "duration": 12,
    "start_time": "2022-08-05T06:32:05.437Z"
   },
   {
    "duration": 12,
    "start_time": "2022-08-05T06:32:05.450Z"
   },
   {
    "duration": 11,
    "start_time": "2022-08-05T06:32:05.463Z"
   },
   {
    "duration": 33,
    "start_time": "2022-08-05T06:32:05.476Z"
   },
   {
    "duration": 245,
    "start_time": "2022-08-05T06:32:05.511Z"
   },
   {
    "duration": 5,
    "start_time": "2022-08-05T06:32:05.758Z"
   },
   {
    "duration": 29,
    "start_time": "2022-08-05T06:32:05.764Z"
   },
   {
    "duration": 157,
    "start_time": "2022-08-05T06:32:05.795Z"
   },
   {
    "duration": 174,
    "start_time": "2022-08-05T06:32:05.954Z"
   },
   {
    "duration": 171,
    "start_time": "2022-08-05T06:32:06.129Z"
   },
   {
    "duration": 3,
    "start_time": "2022-08-05T06:32:06.309Z"
   },
   {
    "duration": 260,
    "start_time": "2022-08-05T06:32:06.313Z"
   },
   {
    "duration": 177,
    "start_time": "2022-08-05T06:32:06.574Z"
   },
   {
    "duration": 177,
    "start_time": "2022-08-05T06:32:06.752Z"
   },
   {
    "duration": 152,
    "start_time": "2022-08-05T06:32:06.930Z"
   },
   {
    "duration": 203,
    "start_time": "2022-08-05T06:32:07.084Z"
   },
   {
    "duration": 213,
    "start_time": "2022-08-05T06:32:07.289Z"
   },
   {
    "duration": 141,
    "start_time": "2022-08-05T06:32:07.510Z"
   },
   {
    "duration": 162,
    "start_time": "2022-08-05T06:32:07.653Z"
   },
   {
    "duration": 146,
    "start_time": "2022-08-05T06:32:07.817Z"
   },
   {
    "duration": 165,
    "start_time": "2022-08-05T06:32:07.965Z"
   },
   {
    "duration": 6,
    "start_time": "2022-08-05T06:32:08.132Z"
   },
   {
    "duration": 26,
    "start_time": "2022-08-05T06:32:08.141Z"
   },
   {
    "duration": 234,
    "start_time": "2022-08-05T06:32:08.170Z"
   },
   {
    "duration": 5,
    "start_time": "2022-08-05T06:32:08.409Z"
   },
   {
    "duration": 18,
    "start_time": "2022-08-05T06:32:08.415Z"
   },
   {
    "duration": 274,
    "start_time": "2022-08-05T06:32:08.435Z"
   },
   {
    "duration": 7,
    "start_time": "2022-08-05T06:32:08.711Z"
   },
   {
    "duration": 25,
    "start_time": "2022-08-05T06:32:08.721Z"
   },
   {
    "duration": 252,
    "start_time": "2022-08-05T06:32:08.749Z"
   },
   {
    "duration": 9,
    "start_time": "2022-08-05T06:32:09.003Z"
   },
   {
    "duration": 16,
    "start_time": "2022-08-05T06:32:09.014Z"
   },
   {
    "duration": 133,
    "start_time": "2022-08-05T06:32:09.032Z"
   },
   {
    "duration": 13,
    "start_time": "2022-08-05T06:32:09.167Z"
   },
   {
    "duration": 138,
    "start_time": "2022-08-05T06:32:09.182Z"
   },
   {
    "duration": 17,
    "start_time": "2022-08-05T06:32:09.322Z"
   },
   {
    "duration": 160,
    "start_time": "2022-08-05T06:32:09.342Z"
   },
   {
    "duration": 14,
    "start_time": "2022-08-05T06:32:09.509Z"
   },
   {
    "duration": 175,
    "start_time": "2022-08-05T06:32:09.524Z"
   },
   {
    "duration": 20,
    "start_time": "2022-08-05T06:32:09.701Z"
   },
   {
    "duration": 148,
    "start_time": "2022-08-05T06:32:09.723Z"
   },
   {
    "duration": 8,
    "start_time": "2022-08-05T06:32:09.872Z"
   },
   {
    "duration": 63,
    "start_time": "2022-08-05T06:32:09.882Z"
   },
   {
    "duration": 148,
    "start_time": "2022-08-05T06:32:09.947Z"
   },
   {
    "duration": 28,
    "start_time": "2022-08-05T06:32:10.097Z"
   },
   {
    "duration": 263,
    "start_time": "2022-08-05T06:32:10.133Z"
   },
   {
    "duration": 81,
    "start_time": "2022-08-05T06:40:47.943Z"
   },
   {
    "duration": 9,
    "start_time": "2022-08-05T06:41:02.065Z"
   },
   {
    "duration": 10,
    "start_time": "2022-08-05T06:41:06.167Z"
   },
   {
    "duration": 37,
    "start_time": "2022-08-05T06:41:39.135Z"
   },
   {
    "duration": 1436,
    "start_time": "2022-08-05T06:41:50.139Z"
   },
   {
    "duration": 172,
    "start_time": "2022-08-05T06:42:42.110Z"
   },
   {
    "duration": 275,
    "start_time": "2022-08-05T06:43:24.486Z"
   },
   {
    "duration": 124,
    "start_time": "2022-08-05T06:44:25.380Z"
   },
   {
    "duration": 262883,
    "start_time": "2022-08-05T06:49:18.777Z"
   },
   {
    "duration": 113,
    "start_time": "2022-08-05T06:59:30.230Z"
   },
   {
    "duration": 737,
    "start_time": "2022-08-05T07:05:58.238Z"
   },
   {
    "duration": 109,
    "start_time": "2022-08-05T07:05:58.976Z"
   },
   {
    "duration": 50,
    "start_time": "2022-08-05T07:05:59.086Z"
   },
   {
    "duration": 15,
    "start_time": "2022-08-05T07:05:59.137Z"
   },
   {
    "duration": 2338,
    "start_time": "2022-08-05T07:05:59.156Z"
   },
   {
    "duration": 11,
    "start_time": "2022-08-05T07:06:01.497Z"
   },
   {
    "duration": 69,
    "start_time": "2022-08-05T07:06:01.511Z"
   },
   {
    "duration": 24,
    "start_time": "2022-08-05T07:06:01.582Z"
   },
   {
    "duration": 74,
    "start_time": "2022-08-05T07:06:01.608Z"
   },
   {
    "duration": 34,
    "start_time": "2022-08-05T07:06:01.684Z"
   },
   {
    "duration": 79,
    "start_time": "2022-08-05T07:06:01.720Z"
   },
   {
    "duration": 5,
    "start_time": "2022-08-05T07:06:01.801Z"
   },
   {
    "duration": 52,
    "start_time": "2022-08-05T07:06:01.808Z"
   },
   {
    "duration": 34,
    "start_time": "2022-08-05T07:06:01.863Z"
   },
   {
    "duration": 19,
    "start_time": "2022-08-05T07:06:01.899Z"
   },
   {
    "duration": 44,
    "start_time": "2022-08-05T07:06:01.921Z"
   },
   {
    "duration": 8,
    "start_time": "2022-08-05T07:06:01.966Z"
   },
   {
    "duration": 16,
    "start_time": "2022-08-05T07:06:01.975Z"
   },
   {
    "duration": 14,
    "start_time": "2022-08-05T07:06:01.993Z"
   },
   {
    "duration": 20,
    "start_time": "2022-08-05T07:06:02.008Z"
   },
   {
    "duration": 39,
    "start_time": "2022-08-05T07:06:02.030Z"
   },
   {
    "duration": 17,
    "start_time": "2022-08-05T07:06:02.071Z"
   },
   {
    "duration": 27,
    "start_time": "2022-08-05T07:06:02.090Z"
   },
   {
    "duration": 42,
    "start_time": "2022-08-05T07:06:02.120Z"
   },
   {
    "duration": 30,
    "start_time": "2022-08-05T07:06:02.164Z"
   },
   {
    "duration": 44,
    "start_time": "2022-08-05T07:06:02.196Z"
   },
   {
    "duration": 36,
    "start_time": "2022-08-05T07:06:02.242Z"
   },
   {
    "duration": 25,
    "start_time": "2022-08-05T07:06:02.280Z"
   },
   {
    "duration": 41,
    "start_time": "2022-08-05T07:06:02.307Z"
   },
   {
    "duration": 25,
    "start_time": "2022-08-05T07:06:02.350Z"
   },
   {
    "duration": 26,
    "start_time": "2022-08-05T07:06:02.377Z"
   },
   {
    "duration": 8,
    "start_time": "2022-08-05T07:06:02.404Z"
   },
   {
    "duration": 28,
    "start_time": "2022-08-05T07:06:02.433Z"
   },
   {
    "duration": 14,
    "start_time": "2022-08-05T07:06:02.462Z"
   },
   {
    "duration": 17,
    "start_time": "2022-08-05T07:06:02.478Z"
   },
   {
    "duration": 5,
    "start_time": "2022-08-05T07:06:02.496Z"
   },
   {
    "duration": 42,
    "start_time": "2022-08-05T07:06:02.502Z"
   },
   {
    "duration": 17,
    "start_time": "2022-08-05T07:06:02.546Z"
   },
   {
    "duration": 16,
    "start_time": "2022-08-05T07:06:02.564Z"
   },
   {
    "duration": 9,
    "start_time": "2022-08-05T07:06:02.582Z"
   },
   {
    "duration": 295,
    "start_time": "2022-08-05T07:06:02.596Z"
   },
   {
    "duration": 4,
    "start_time": "2022-08-05T07:06:02.893Z"
   },
   {
    "duration": 68,
    "start_time": "2022-08-05T07:06:02.898Z"
   },
   {
    "duration": 158,
    "start_time": "2022-08-05T07:06:02.967Z"
   },
   {
    "duration": 161,
    "start_time": "2022-08-05T07:06:03.131Z"
   },
   {
    "duration": 188,
    "start_time": "2022-08-05T07:06:03.294Z"
   },
   {
    "duration": 292,
    "start_time": "2022-08-05T07:06:03.484Z"
   },
   {
    "duration": 183,
    "start_time": "2022-08-05T07:06:03.779Z"
   },
   {
    "duration": 163,
    "start_time": "2022-08-05T07:06:03.963Z"
   },
   {
    "duration": 166,
    "start_time": "2022-08-05T07:06:04.128Z"
   },
   {
    "duration": 185,
    "start_time": "2022-08-05T07:06:04.296Z"
   },
   {
    "duration": 168,
    "start_time": "2022-08-05T07:06:04.483Z"
   },
   {
    "duration": 198,
    "start_time": "2022-08-05T07:06:04.653Z"
   },
   {
    "duration": 187,
    "start_time": "2022-08-05T07:06:04.853Z"
   },
   {
    "duration": 170,
    "start_time": "2022-08-05T07:06:05.043Z"
   },
   {
    "duration": 187,
    "start_time": "2022-08-05T07:06:05.215Z"
   },
   {
    "duration": 21,
    "start_time": "2022-08-05T07:06:05.403Z"
   },
   {
    "duration": 27,
    "start_time": "2022-08-05T07:06:05.432Z"
   },
   {
    "duration": 216,
    "start_time": "2022-08-05T07:06:05.461Z"
   },
   {
    "duration": 5,
    "start_time": "2022-08-05T07:06:05.681Z"
   },
   {
    "duration": 43,
    "start_time": "2022-08-05T07:06:05.688Z"
   },
   {
    "duration": 326,
    "start_time": "2022-08-05T07:06:05.733Z"
   },
   {
    "duration": 5,
    "start_time": "2022-08-05T07:06:06.060Z"
   },
   {
    "duration": 21,
    "start_time": "2022-08-05T07:06:06.067Z"
   },
   {
    "duration": 226,
    "start_time": "2022-08-05T07:06:06.114Z"
   },
   {
    "duration": 6,
    "start_time": "2022-08-05T07:06:06.342Z"
   },
   {
    "duration": 13,
    "start_time": "2022-08-05T07:06:06.349Z"
   },
   {
    "duration": 161,
    "start_time": "2022-08-05T07:06:06.364Z"
   },
   {
    "duration": 19,
    "start_time": "2022-08-05T07:06:06.527Z"
   },
   {
    "duration": 139,
    "start_time": "2022-08-05T07:06:06.547Z"
   },
   {
    "duration": 22,
    "start_time": "2022-08-05T07:06:06.688Z"
   },
   {
    "duration": 186,
    "start_time": "2022-08-05T07:06:06.712Z"
   },
   {
    "duration": 16,
    "start_time": "2022-08-05T07:06:06.900Z"
   },
   {
    "duration": 206,
    "start_time": "2022-08-05T07:06:06.918Z"
   },
   {
    "duration": 17,
    "start_time": "2022-08-05T07:06:07.127Z"
   },
   {
    "duration": 182,
    "start_time": "2022-08-05T07:06:07.146Z"
   },
   {
    "duration": 10,
    "start_time": "2022-08-05T07:06:07.334Z"
   },
   {
    "duration": 55,
    "start_time": "2022-08-05T07:06:07.347Z"
   },
   {
    "duration": 149,
    "start_time": "2022-08-05T07:06:07.404Z"
   },
   {
    "duration": 27,
    "start_time": "2022-08-05T07:06:07.556Z"
   },
   {
    "duration": 205,
    "start_time": "2022-08-05T07:06:07.586Z"
   },
   {
    "duration": 172,
    "start_time": "2022-08-05T07:08:18.575Z"
   },
   {
    "duration": 150,
    "start_time": "2022-08-05T07:09:16.252Z"
   },
   {
    "duration": 314,
    "start_time": "2022-08-05T07:09:37.473Z"
   },
   {
    "duration": 272,
    "start_time": "2022-08-05T07:09:52.505Z"
   },
   {
    "duration": 138,
    "start_time": "2022-08-05T07:09:59.437Z"
   },
   {
    "duration": 189703,
    "start_time": "2022-08-05T07:10:51.233Z"
   },
   {
    "duration": 134,
    "start_time": "2022-08-05T07:31:40.211Z"
   },
   {
    "duration": 170,
    "start_time": "2022-08-05T07:31:56.702Z"
   },
   {
    "duration": 132,
    "start_time": "2022-08-05T07:32:06.097Z"
   },
   {
    "duration": 122,
    "start_time": "2022-08-05T07:32:10.714Z"
   },
   {
    "duration": 148,
    "start_time": "2022-08-05T07:33:25.194Z"
   },
   {
    "duration": 8,
    "start_time": "2022-08-05T07:33:50.433Z"
   },
   {
    "duration": 146,
    "start_time": "2022-08-05T07:34:00.128Z"
   },
   {
    "duration": 172,
    "start_time": "2022-08-05T07:34:13.670Z"
   },
   {
    "duration": 141,
    "start_time": "2022-08-05T07:34:15.661Z"
   },
   {
    "duration": 168,
    "start_time": "2022-08-05T07:35:49.736Z"
   },
   {
    "duration": 170,
    "start_time": "2022-08-05T07:35:49.934Z"
   },
   {
    "duration": 154,
    "start_time": "2022-08-05T07:35:50.107Z"
   },
   {
    "duration": 132,
    "start_time": "2022-08-05T07:35:50.264Z"
   },
   {
    "duration": 163,
    "start_time": "2022-08-05T07:35:50.398Z"
   },
   {
    "duration": 180,
    "start_time": "2022-08-05T07:35:50.564Z"
   },
   {
    "duration": 189,
    "start_time": "2022-08-05T07:35:52.677Z"
   },
   {
    "duration": 145,
    "start_time": "2022-08-05T07:36:24.590Z"
   },
   {
    "duration": 214,
    "start_time": "2022-08-05T07:38:04.225Z"
   },
   {
    "duration": 752,
    "start_time": "2022-08-05T07:39:13.918Z"
   },
   {
    "duration": 111,
    "start_time": "2022-08-05T07:39:14.672Z"
   },
   {
    "duration": 47,
    "start_time": "2022-08-05T07:39:14.788Z"
   },
   {
    "duration": 27,
    "start_time": "2022-08-05T07:39:14.837Z"
   },
   {
    "duration": 2533,
    "start_time": "2022-08-05T07:39:14.866Z"
   },
   {
    "duration": 20,
    "start_time": "2022-08-05T07:39:17.401Z"
   },
   {
    "duration": 34,
    "start_time": "2022-08-05T07:39:17.422Z"
   },
   {
    "duration": 13,
    "start_time": "2022-08-05T07:39:17.458Z"
   },
   {
    "duration": 27,
    "start_time": "2022-08-05T07:39:17.475Z"
   },
   {
    "duration": 41,
    "start_time": "2022-08-05T07:39:17.505Z"
   },
   {
    "duration": 51,
    "start_time": "2022-08-05T07:39:17.548Z"
   },
   {
    "duration": 11,
    "start_time": "2022-08-05T07:39:17.601Z"
   },
   {
    "duration": 29,
    "start_time": "2022-08-05T07:39:17.618Z"
   },
   {
    "duration": 24,
    "start_time": "2022-08-05T07:39:17.650Z"
   },
   {
    "duration": 44,
    "start_time": "2022-08-05T07:39:17.676Z"
   },
   {
    "duration": 20,
    "start_time": "2022-08-05T07:39:17.733Z"
   },
   {
    "duration": 14,
    "start_time": "2022-08-05T07:39:17.755Z"
   },
   {
    "duration": 20,
    "start_time": "2022-08-05T07:39:17.772Z"
   },
   {
    "duration": 19,
    "start_time": "2022-08-05T07:39:17.795Z"
   },
   {
    "duration": 30,
    "start_time": "2022-08-05T07:39:17.815Z"
   },
   {
    "duration": 7,
    "start_time": "2022-08-05T07:39:17.847Z"
   },
   {
    "duration": 20,
    "start_time": "2022-08-05T07:39:17.855Z"
   },
   {
    "duration": 14,
    "start_time": "2022-08-05T07:39:17.877Z"
   },
   {
    "duration": 19,
    "start_time": "2022-08-05T07:39:17.893Z"
   },
   {
    "duration": 33,
    "start_time": "2022-08-05T07:39:17.915Z"
   },
   {
    "duration": 7,
    "start_time": "2022-08-05T07:39:17.950Z"
   },
   {
    "duration": 10,
    "start_time": "2022-08-05T07:39:17.960Z"
   },
   {
    "duration": 13,
    "start_time": "2022-08-05T07:39:17.973Z"
   },
   {
    "duration": 24,
    "start_time": "2022-08-05T07:39:17.989Z"
   },
   {
    "duration": 21,
    "start_time": "2022-08-05T07:39:18.016Z"
   },
   {
    "duration": 31,
    "start_time": "2022-08-05T07:39:18.040Z"
   },
   {
    "duration": 5,
    "start_time": "2022-08-05T07:39:18.073Z"
   },
   {
    "duration": 10,
    "start_time": "2022-08-05T07:39:18.081Z"
   },
   {
    "duration": 28,
    "start_time": "2022-08-05T07:39:18.093Z"
   },
   {
    "duration": 23,
    "start_time": "2022-08-05T07:39:18.123Z"
   },
   {
    "duration": 5,
    "start_time": "2022-08-05T07:39:18.149Z"
   },
   {
    "duration": 16,
    "start_time": "2022-08-05T07:39:18.157Z"
   },
   {
    "duration": 13,
    "start_time": "2022-08-05T07:39:18.176Z"
   },
   {
    "duration": 23,
    "start_time": "2022-08-05T07:39:18.191Z"
   },
   {
    "duration": 20,
    "start_time": "2022-08-05T07:39:18.218Z"
   },
   {
    "duration": 304,
    "start_time": "2022-08-05T07:39:18.241Z"
   },
   {
    "duration": 5,
    "start_time": "2022-08-05T07:39:18.547Z"
   },
   {
    "duration": 33,
    "start_time": "2022-08-05T07:39:18.553Z"
   },
   {
    "duration": 179,
    "start_time": "2022-08-05T07:39:18.588Z"
   },
   {
    "duration": 228,
    "start_time": "2022-08-05T07:39:18.770Z"
   },
   {
    "duration": 189,
    "start_time": "2022-08-05T07:39:19.000Z"
   },
   {
    "duration": 292,
    "start_time": "2022-08-05T07:39:19.191Z"
   },
   {
    "duration": 211,
    "start_time": "2022-08-05T07:39:19.485Z"
   },
   {
    "duration": 170,
    "start_time": "2022-08-05T07:39:19.697Z"
   },
   {
    "duration": 208,
    "start_time": "2022-08-05T07:39:19.870Z"
   },
   {
    "duration": 184,
    "start_time": "2022-08-05T07:39:20.080Z"
   },
   {
    "duration": 183,
    "start_time": "2022-08-05T07:39:20.267Z"
   },
   {
    "duration": 167,
    "start_time": "2022-08-05T07:39:20.452Z"
   },
   {
    "duration": 173,
    "start_time": "2022-08-05T07:39:20.622Z"
   },
   {
    "duration": 176,
    "start_time": "2022-08-05T07:39:20.797Z"
   },
   {
    "duration": 205,
    "start_time": "2022-08-05T07:39:20.975Z"
   },
   {
    "duration": 6,
    "start_time": "2022-08-05T07:39:21.182Z"
   },
   {
    "duration": 42,
    "start_time": "2022-08-05T07:39:21.190Z"
   },
   {
    "duration": 225,
    "start_time": "2022-08-05T07:39:21.234Z"
   },
   {
    "duration": 6,
    "start_time": "2022-08-05T07:39:21.461Z"
   },
   {
    "duration": 18,
    "start_time": "2022-08-05T07:39:21.469Z"
   },
   {
    "duration": 332,
    "start_time": "2022-08-05T07:39:21.513Z"
   },
   {
    "duration": 5,
    "start_time": "2022-08-05T07:39:21.846Z"
   },
   {
    "duration": 34,
    "start_time": "2022-08-05T07:39:21.853Z"
   },
   {
    "duration": 258,
    "start_time": "2022-08-05T07:39:21.889Z"
   },
   {
    "duration": 6,
    "start_time": "2022-08-05T07:39:22.149Z"
   },
   {
    "duration": 24,
    "start_time": "2022-08-05T07:39:22.158Z"
   },
   {
    "duration": 201,
    "start_time": "2022-08-05T07:39:22.185Z"
   },
   {
    "duration": 27,
    "start_time": "2022-08-05T07:39:22.389Z"
   },
   {
    "duration": 160,
    "start_time": "2022-08-05T07:39:22.418Z"
   },
   {
    "duration": 21,
    "start_time": "2022-08-05T07:39:22.580Z"
   },
   {
    "duration": 174,
    "start_time": "2022-08-05T07:39:22.610Z"
   },
   {
    "duration": 38,
    "start_time": "2022-08-05T07:39:22.787Z"
   },
   {
    "duration": 214,
    "start_time": "2022-08-05T07:39:22.832Z"
   },
   {
    "duration": 14,
    "start_time": "2022-08-05T07:39:23.048Z"
   },
   {
    "duration": 184,
    "start_time": "2022-08-05T07:39:23.064Z"
   },
   {
    "duration": 8,
    "start_time": "2022-08-05T07:39:23.250Z"
   },
   {
    "duration": 42,
    "start_time": "2022-08-05T07:39:23.259Z"
   },
   {
    "duration": 120,
    "start_time": "2022-08-05T07:39:23.303Z"
   },
   {
    "duration": 126,
    "start_time": "2022-08-05T07:39:23.425Z"
   },
   {
    "duration": 166,
    "start_time": "2022-08-05T07:39:23.557Z"
   },
   {
    "duration": 120,
    "start_time": "2022-08-05T07:39:23.727Z"
   },
   {
    "duration": 231,
    "start_time": "2022-08-05T07:39:23.849Z"
   },
   {
    "duration": 170,
    "start_time": "2022-08-05T07:39:24.081Z"
   },
   {
    "duration": 116,
    "start_time": "2022-08-05T07:39:24.253Z"
   },
   {
    "duration": 128,
    "start_time": "2022-08-05T07:39:24.372Z"
   },
   {
    "duration": 174,
    "start_time": "2022-08-05T07:39:24.501Z"
   },
   {
    "duration": 131,
    "start_time": "2022-08-05T07:39:24.677Z"
   },
   {
    "duration": 219,
    "start_time": "2022-08-05T07:39:24.812Z"
   },
   {
    "duration": 25,
    "start_time": "2022-08-05T07:39:25.033Z"
   },
   {
    "duration": 217,
    "start_time": "2022-08-05T07:39:25.060Z"
   },
   {
    "duration": 60,
    "start_time": "2022-08-05T17:06:39.805Z"
   },
   {
    "duration": 56,
    "start_time": "2022-08-05T17:06:59.264Z"
   },
   {
    "duration": 80,
    "start_time": "2022-08-05T17:07:12.380Z"
   },
   {
    "duration": 882,
    "start_time": "2022-08-05T17:07:20.879Z"
   },
   {
    "duration": 676,
    "start_time": "2022-08-05T17:07:21.763Z"
   },
   {
    "duration": 31,
    "start_time": "2022-08-05T17:07:22.441Z"
   },
   {
    "duration": 17,
    "start_time": "2022-08-05T17:07:22.475Z"
   },
   {
    "duration": 1936,
    "start_time": "2022-08-05T17:07:22.498Z"
   },
   {
    "duration": 14,
    "start_time": "2022-08-05T17:07:24.436Z"
   },
   {
    "duration": 6,
    "start_time": "2022-08-05T17:07:24.452Z"
   },
   {
    "duration": 15,
    "start_time": "2022-08-05T17:07:24.460Z"
   },
   {
    "duration": 11,
    "start_time": "2022-08-05T17:07:24.477Z"
   },
   {
    "duration": 15,
    "start_time": "2022-08-05T17:07:24.491Z"
   },
   {
    "duration": 37,
    "start_time": "2022-08-05T17:07:24.508Z"
   },
   {
    "duration": 9,
    "start_time": "2022-08-05T17:07:24.548Z"
   },
   {
    "duration": 12,
    "start_time": "2022-08-05T17:07:24.559Z"
   },
   {
    "duration": 31,
    "start_time": "2022-08-05T17:07:24.573Z"
   },
   {
    "duration": 6,
    "start_time": "2022-08-05T17:07:24.606Z"
   },
   {
    "duration": 21,
    "start_time": "2022-08-05T17:07:24.614Z"
   },
   {
    "duration": 6,
    "start_time": "2022-08-05T17:07:24.638Z"
   },
   {
    "duration": 22,
    "start_time": "2022-08-05T17:07:24.647Z"
   },
   {
    "duration": 47,
    "start_time": "2022-08-05T17:07:24.672Z"
   },
   {
    "duration": 13,
    "start_time": "2022-08-05T17:07:24.722Z"
   },
   {
    "duration": 5,
    "start_time": "2022-08-05T17:07:24.737Z"
   },
   {
    "duration": 8,
    "start_time": "2022-08-05T17:07:24.744Z"
   },
   {
    "duration": 5,
    "start_time": "2022-08-05T17:07:24.754Z"
   },
   {
    "duration": 40,
    "start_time": "2022-08-05T17:07:24.761Z"
   },
   {
    "duration": 23,
    "start_time": "2022-08-05T17:07:24.803Z"
   },
   {
    "duration": 21,
    "start_time": "2022-08-05T17:07:24.828Z"
   },
   {
    "duration": 29,
    "start_time": "2022-08-05T17:07:24.851Z"
   },
   {
    "duration": 12,
    "start_time": "2022-08-05T17:07:24.887Z"
   },
   {
    "duration": 24,
    "start_time": "2022-08-05T17:07:24.902Z"
   },
   {
    "duration": 13,
    "start_time": "2022-08-05T17:07:24.928Z"
   },
   {
    "duration": 39,
    "start_time": "2022-08-05T17:07:24.943Z"
   },
   {
    "duration": 27,
    "start_time": "2022-08-05T17:07:24.984Z"
   },
   {
    "duration": 27,
    "start_time": "2022-08-05T17:07:25.014Z"
   },
   {
    "duration": 13,
    "start_time": "2022-08-05T17:07:25.044Z"
   },
   {
    "duration": 35,
    "start_time": "2022-08-05T17:07:25.060Z"
   },
   {
    "duration": 18,
    "start_time": "2022-08-05T17:07:25.097Z"
   },
   {
    "duration": 29,
    "start_time": "2022-08-05T17:07:25.117Z"
   },
   {
    "duration": 33,
    "start_time": "2022-08-05T17:07:25.148Z"
   },
   {
    "duration": 9,
    "start_time": "2022-08-05T17:07:25.184Z"
   },
   {
    "duration": 11,
    "start_time": "2022-08-05T17:07:25.195Z"
   },
   {
    "duration": 290,
    "start_time": "2022-08-05T17:07:25.208Z"
   },
   {
    "duration": 5,
    "start_time": "2022-08-05T17:07:25.499Z"
   },
   {
    "duration": 30,
    "start_time": "2022-08-05T17:07:25.506Z"
   },
   {
    "duration": 144,
    "start_time": "2022-08-05T17:07:25.538Z"
   },
   {
    "duration": 155,
    "start_time": "2022-08-05T17:07:25.684Z"
   },
   {
    "duration": 236,
    "start_time": "2022-08-05T17:07:25.841Z"
   },
   {
    "duration": 236,
    "start_time": "2022-08-05T17:07:26.079Z"
   },
   {
    "duration": 172,
    "start_time": "2022-08-05T17:07:26.318Z"
   },
   {
    "duration": 158,
    "start_time": "2022-08-05T17:07:26.499Z"
   },
   {
    "duration": 143,
    "start_time": "2022-08-05T17:07:26.658Z"
   },
   {
    "duration": 210,
    "start_time": "2022-08-05T17:07:26.803Z"
   },
   {
    "duration": 158,
    "start_time": "2022-08-05T17:07:27.015Z"
   },
   {
    "duration": 139,
    "start_time": "2022-08-05T17:07:27.175Z"
   },
   {
    "duration": 198,
    "start_time": "2022-08-05T17:07:27.315Z"
   },
   {
    "duration": 144,
    "start_time": "2022-08-05T17:07:27.514Z"
   },
   {
    "duration": 175,
    "start_time": "2022-08-05T17:07:27.660Z"
   },
   {
    "duration": 5,
    "start_time": "2022-08-05T17:07:27.837Z"
   },
   {
    "duration": 23,
    "start_time": "2022-08-05T17:07:27.844Z"
   },
   {
    "duration": 214,
    "start_time": "2022-08-05T17:07:27.869Z"
   },
   {
    "duration": 15,
    "start_time": "2022-08-05T17:07:28.085Z"
   },
   {
    "duration": 21,
    "start_time": "2022-08-05T17:07:28.103Z"
   },
   {
    "duration": 280,
    "start_time": "2022-08-05T17:07:28.127Z"
   },
   {
    "duration": 6,
    "start_time": "2022-08-05T17:07:28.409Z"
   },
   {
    "duration": 16,
    "start_time": "2022-08-05T17:07:28.417Z"
   },
   {
    "duration": 219,
    "start_time": "2022-08-05T17:07:28.435Z"
   },
   {
    "duration": 4,
    "start_time": "2022-08-05T17:07:28.656Z"
   },
   {
    "duration": 15,
    "start_time": "2022-08-05T17:07:28.662Z"
   },
   {
    "duration": 129,
    "start_time": "2022-08-05T17:07:28.698Z"
   },
   {
    "duration": 15,
    "start_time": "2022-08-05T17:07:28.829Z"
   },
   {
    "duration": 142,
    "start_time": "2022-08-05T17:07:28.845Z"
   },
   {
    "duration": 21,
    "start_time": "2022-08-05T17:07:28.989Z"
   },
   {
    "duration": 146,
    "start_time": "2022-08-05T17:07:29.012Z"
   },
   {
    "duration": 13,
    "start_time": "2022-08-05T17:07:29.160Z"
   },
   {
    "duration": 173,
    "start_time": "2022-08-05T17:07:29.174Z"
   },
   {
    "duration": 14,
    "start_time": "2022-08-05T17:07:29.349Z"
   },
   {
    "duration": 179,
    "start_time": "2022-08-05T17:07:29.365Z"
   },
   {
    "duration": 10,
    "start_time": "2022-08-05T17:07:29.546Z"
   },
   {
    "duration": 64,
    "start_time": "2022-08-05T17:07:29.559Z"
   },
   {
    "duration": 108,
    "start_time": "2022-08-05T17:07:29.626Z"
   },
   {
    "duration": 108,
    "start_time": "2022-08-05T17:07:29.735Z"
   },
   {
    "duration": 125,
    "start_time": "2022-08-05T17:07:29.845Z"
   },
   {
    "duration": 142,
    "start_time": "2022-08-05T17:07:29.981Z"
   },
   {
    "duration": 185,
    "start_time": "2022-08-05T17:07:30.125Z"
   },
   {
    "duration": 136,
    "start_time": "2022-08-05T17:07:30.312Z"
   },
   {
    "duration": 107,
    "start_time": "2022-08-05T17:07:30.450Z"
   },
   {
    "duration": 107,
    "start_time": "2022-08-05T17:07:30.559Z"
   },
   {
    "duration": 121,
    "start_time": "2022-08-05T17:07:30.667Z"
   },
   {
    "duration": 119,
    "start_time": "2022-08-05T17:07:30.790Z"
   },
   {
    "duration": 185,
    "start_time": "2022-08-05T17:07:30.912Z"
   },
   {
    "duration": 22,
    "start_time": "2022-08-05T17:07:31.099Z"
   },
   {
    "duration": 202,
    "start_time": "2022-08-05T17:07:31.123Z"
   },
   {
    "duration": 200,
    "start_time": "2022-08-05T17:10:54.962Z"
   },
   {
    "duration": 273,
    "start_time": "2022-08-05T17:11:29.291Z"
   },
   {
    "duration": 188,
    "start_time": "2022-08-05T17:11:43.050Z"
   },
   {
    "duration": 249,
    "start_time": "2022-08-05T17:11:48.836Z"
   },
   {
    "duration": 71348,
    "start_time": "2022-08-05T17:12:41.641Z"
   },
   {
    "duration": 63,
    "start_time": "2022-08-05T17:14:39.405Z"
   },
   {
    "duration": 55,
    "start_time": "2022-08-05T17:14:55.298Z"
   },
   {
    "duration": 49,
    "start_time": "2022-08-05T17:15:24.210Z"
   },
   {
    "duration": 195,
    "start_time": "2022-08-05T17:15:36.068Z"
   },
   {
    "duration": 186,
    "start_time": "2022-08-05T17:15:48.243Z"
   },
   {
    "duration": 212,
    "start_time": "2022-08-05T17:15:53.150Z"
   },
   {
    "duration": 229,
    "start_time": "2022-08-05T17:15:57.580Z"
   },
   {
    "duration": 224,
    "start_time": "2022-08-05T17:16:06.116Z"
   },
   {
    "duration": 876,
    "start_time": "2022-08-06T09:05:03.235Z"
   },
   {
    "duration": 160,
    "start_time": "2022-08-06T09:05:04.113Z"
   },
   {
    "duration": 32,
    "start_time": "2022-08-06T09:05:04.275Z"
   },
   {
    "duration": 15,
    "start_time": "2022-08-06T09:05:04.309Z"
   },
   {
    "duration": 2129,
    "start_time": "2022-08-06T09:05:04.326Z"
   },
   {
    "duration": 11,
    "start_time": "2022-08-06T09:05:06.457Z"
   },
   {
    "duration": 7,
    "start_time": "2022-08-06T09:05:06.469Z"
   },
   {
    "duration": 10,
    "start_time": "2022-08-06T09:05:06.478Z"
   },
   {
    "duration": 9,
    "start_time": "2022-08-06T09:05:06.490Z"
   },
   {
    "duration": 10,
    "start_time": "2022-08-06T09:05:06.501Z"
   },
   {
    "duration": 26,
    "start_time": "2022-08-06T09:05:06.513Z"
   },
   {
    "duration": 5,
    "start_time": "2022-08-06T09:05:06.541Z"
   },
   {
    "duration": 7,
    "start_time": "2022-08-06T09:05:06.548Z"
   },
   {
    "duration": 12,
    "start_time": "2022-08-06T09:05:06.592Z"
   },
   {
    "duration": 4,
    "start_time": "2022-08-06T09:05:06.606Z"
   },
   {
    "duration": 13,
    "start_time": "2022-08-06T09:05:06.612Z"
   },
   {
    "duration": 5,
    "start_time": "2022-08-06T09:05:06.626Z"
   },
   {
    "duration": 14,
    "start_time": "2022-08-06T09:05:06.633Z"
   },
   {
    "duration": 53,
    "start_time": "2022-08-06T09:05:06.648Z"
   },
   {
    "duration": 10,
    "start_time": "2022-08-06T09:05:06.703Z"
   },
   {
    "duration": 12,
    "start_time": "2022-08-06T09:05:06.715Z"
   },
   {
    "duration": 12,
    "start_time": "2022-08-06T09:05:06.729Z"
   },
   {
    "duration": 6,
    "start_time": "2022-08-06T09:05:06.743Z"
   },
   {
    "duration": 8,
    "start_time": "2022-08-06T09:05:06.751Z"
   },
   {
    "duration": 30,
    "start_time": "2022-08-06T09:05:06.761Z"
   },
   {
    "duration": 7,
    "start_time": "2022-08-06T09:05:06.793Z"
   },
   {
    "duration": 10,
    "start_time": "2022-08-06T09:05:06.802Z"
   },
   {
    "duration": 6,
    "start_time": "2022-08-06T09:05:06.814Z"
   },
   {
    "duration": 7,
    "start_time": "2022-08-06T09:05:06.822Z"
   },
   {
    "duration": 7,
    "start_time": "2022-08-06T09:05:06.831Z"
   },
   {
    "duration": 54,
    "start_time": "2022-08-06T09:05:06.840Z"
   },
   {
    "duration": 6,
    "start_time": "2022-08-06T09:05:06.896Z"
   },
   {
    "duration": 11,
    "start_time": "2022-08-06T09:05:06.905Z"
   },
   {
    "duration": 20,
    "start_time": "2022-08-06T09:05:06.918Z"
   },
   {
    "duration": 9,
    "start_time": "2022-08-06T09:05:06.940Z"
   },
   {
    "duration": 5,
    "start_time": "2022-08-06T09:05:06.951Z"
   },
   {
    "duration": 10,
    "start_time": "2022-08-06T09:05:06.958Z"
   },
   {
    "duration": 7,
    "start_time": "2022-08-06T09:05:06.991Z"
   },
   {
    "duration": 6,
    "start_time": "2022-08-06T09:05:07.000Z"
   },
   {
    "duration": 8,
    "start_time": "2022-08-06T09:05:07.008Z"
   },
   {
    "duration": 296,
    "start_time": "2022-08-06T09:05:07.026Z"
   },
   {
    "duration": 5,
    "start_time": "2022-08-06T09:05:07.324Z"
   },
   {
    "duration": 40,
    "start_time": "2022-08-06T09:05:07.332Z"
   },
   {
    "duration": 157,
    "start_time": "2022-08-06T09:05:07.373Z"
   },
   {
    "duration": 162,
    "start_time": "2022-08-06T09:05:07.532Z"
   },
   {
    "duration": 162,
    "start_time": "2022-08-06T09:05:07.696Z"
   },
   {
    "duration": 252,
    "start_time": "2022-08-06T09:05:07.859Z"
   },
   {
    "duration": 180,
    "start_time": "2022-08-06T09:05:08.112Z"
   },
   {
    "duration": 144,
    "start_time": "2022-08-06T09:05:08.295Z"
   },
   {
    "duration": 177,
    "start_time": "2022-08-06T09:05:08.441Z"
   },
   {
    "duration": 149,
    "start_time": "2022-08-06T09:05:08.620Z"
   },
   {
    "duration": 149,
    "start_time": "2022-08-06T09:05:08.771Z"
   },
   {
    "duration": 160,
    "start_time": "2022-08-06T09:05:08.921Z"
   },
   {
    "duration": 161,
    "start_time": "2022-08-06T09:05:09.083Z"
   },
   {
    "duration": 164,
    "start_time": "2022-08-06T09:05:09.246Z"
   },
   {
    "duration": 220,
    "start_time": "2022-08-06T09:05:09.412Z"
   },
   {
    "duration": 6,
    "start_time": "2022-08-06T09:05:09.633Z"
   },
   {
    "duration": 24,
    "start_time": "2022-08-06T09:05:09.640Z"
   },
   {
    "duration": 216,
    "start_time": "2022-08-06T09:05:09.666Z"
   },
   {
    "duration": 11,
    "start_time": "2022-08-06T09:05:09.884Z"
   },
   {
    "duration": 24,
    "start_time": "2022-08-06T09:05:09.897Z"
   },
   {
    "duration": 291,
    "start_time": "2022-08-06T09:05:09.923Z"
   },
   {
    "duration": 6,
    "start_time": "2022-08-06T09:05:10.215Z"
   },
   {
    "duration": 37,
    "start_time": "2022-08-06T09:05:10.223Z"
   },
   {
    "duration": 233,
    "start_time": "2022-08-06T09:05:10.262Z"
   },
   {
    "duration": 5,
    "start_time": "2022-08-06T09:05:10.496Z"
   },
   {
    "duration": 19,
    "start_time": "2022-08-06T09:05:10.502Z"
   },
   {
    "duration": 148,
    "start_time": "2022-08-06T09:05:10.522Z"
   },
   {
    "duration": 23,
    "start_time": "2022-08-06T09:05:10.672Z"
   },
   {
    "duration": 136,
    "start_time": "2022-08-06T09:05:10.697Z"
   },
   {
    "duration": 13,
    "start_time": "2022-08-06T09:05:10.835Z"
   },
   {
    "duration": 177,
    "start_time": "2022-08-06T09:05:10.850Z"
   },
   {
    "duration": 18,
    "start_time": "2022-08-06T09:05:11.029Z"
   },
   {
    "duration": 197,
    "start_time": "2022-08-06T09:05:11.049Z"
   },
   {
    "duration": 14,
    "start_time": "2022-08-06T09:05:11.248Z"
   },
   {
    "duration": 157,
    "start_time": "2022-08-06T09:05:11.263Z"
   },
   {
    "duration": 8,
    "start_time": "2022-08-06T09:05:11.422Z"
   },
   {
    "duration": 31,
    "start_time": "2022-08-06T09:05:11.432Z"
   },
   {
    "duration": 129,
    "start_time": "2022-08-06T09:05:11.465Z"
   },
   {
    "duration": 113,
    "start_time": "2022-08-06T09:05:11.595Z"
   },
   {
    "duration": 146,
    "start_time": "2022-08-06T09:05:11.710Z"
   },
   {
    "duration": 171,
    "start_time": "2022-08-06T09:05:11.858Z"
   },
   {
    "duration": 207,
    "start_time": "2022-08-06T09:05:12.032Z"
   },
   {
    "duration": 125,
    "start_time": "2022-08-06T09:05:12.241Z"
   },
   {
    "duration": 106,
    "start_time": "2022-08-06T09:05:12.368Z"
   },
   {
    "duration": 115,
    "start_time": "2022-08-06T09:05:12.476Z"
   },
   {
    "duration": 125,
    "start_time": "2022-08-06T09:05:12.593Z"
   },
   {
    "duration": 120,
    "start_time": "2022-08-06T09:05:12.720Z"
   },
   {
    "duration": 195,
    "start_time": "2022-08-06T09:05:12.843Z"
   },
   {
    "duration": 31,
    "start_time": "2022-08-06T09:05:13.040Z"
   },
   {
    "duration": 211,
    "start_time": "2022-08-06T09:05:13.073Z"
   },
   {
    "duration": 197,
    "start_time": "2022-08-06T09:05:39.283Z"
   },
   {
    "duration": 187,
    "start_time": "2022-08-06T09:05:49.484Z"
   },
   {
    "duration": 198,
    "start_time": "2022-08-06T09:10:07.971Z"
   },
   {
    "duration": 88,
    "start_time": "2022-08-06T09:10:15.789Z"
   },
   {
    "duration": 287,
    "start_time": "2022-08-06T09:10:28.636Z"
   },
   {
    "duration": 82837,
    "start_time": "2022-08-06T09:11:59.128Z"
   },
   {
    "duration": 804,
    "start_time": "2022-08-06T09:14:45.475Z"
   },
   {
    "duration": 104,
    "start_time": "2022-08-06T09:14:46.281Z"
   },
   {
    "duration": 37,
    "start_time": "2022-08-06T09:14:46.387Z"
   },
   {
    "duration": 16,
    "start_time": "2022-08-06T09:14:46.426Z"
   },
   {
    "duration": 2608,
    "start_time": "2022-08-06T09:14:46.444Z"
   },
   {
    "duration": 9,
    "start_time": "2022-08-06T09:14:49.055Z"
   },
   {
    "duration": 10,
    "start_time": "2022-08-06T09:14:49.066Z"
   },
   {
    "duration": 8,
    "start_time": "2022-08-06T09:14:49.078Z"
   },
   {
    "duration": 11,
    "start_time": "2022-08-06T09:14:49.087Z"
   },
   {
    "duration": 21,
    "start_time": "2022-08-06T09:14:49.102Z"
   },
   {
    "duration": 27,
    "start_time": "2022-08-06T09:14:49.125Z"
   },
   {
    "duration": 6,
    "start_time": "2022-08-06T09:14:49.153Z"
   },
   {
    "duration": 7,
    "start_time": "2022-08-06T09:14:49.160Z"
   },
   {
    "duration": 33,
    "start_time": "2022-08-06T09:14:49.168Z"
   },
   {
    "duration": 6,
    "start_time": "2022-08-06T09:14:49.204Z"
   },
   {
    "duration": 14,
    "start_time": "2022-08-06T09:14:49.211Z"
   },
   {
    "duration": 6,
    "start_time": "2022-08-06T09:14:49.227Z"
   },
   {
    "duration": 10,
    "start_time": "2022-08-06T09:14:49.235Z"
   },
   {
    "duration": 45,
    "start_time": "2022-08-06T09:14:49.247Z"
   },
   {
    "duration": 14,
    "start_time": "2022-08-06T09:14:49.295Z"
   },
   {
    "duration": 8,
    "start_time": "2022-08-06T09:14:49.311Z"
   },
   {
    "duration": 9,
    "start_time": "2022-08-06T09:14:49.320Z"
   },
   {
    "duration": 6,
    "start_time": "2022-08-06T09:14:49.331Z"
   },
   {
    "duration": 17,
    "start_time": "2022-08-06T09:14:49.339Z"
   },
   {
    "duration": 34,
    "start_time": "2022-08-06T09:14:49.358Z"
   },
   {
    "duration": 19,
    "start_time": "2022-08-06T09:14:49.395Z"
   },
   {
    "duration": 8,
    "start_time": "2022-08-06T09:14:49.416Z"
   },
   {
    "duration": 8,
    "start_time": "2022-08-06T09:14:49.429Z"
   },
   {
    "duration": 10,
    "start_time": "2022-08-06T09:14:49.438Z"
   },
   {
    "duration": 7,
    "start_time": "2022-08-06T09:14:49.449Z"
   },
   {
    "duration": 47,
    "start_time": "2022-08-06T09:14:49.457Z"
   },
   {
    "duration": 5,
    "start_time": "2022-08-06T09:14:49.507Z"
   },
   {
    "duration": 11,
    "start_time": "2022-08-06T09:14:49.514Z"
   },
   {
    "duration": 9,
    "start_time": "2022-08-06T09:14:49.527Z"
   },
   {
    "duration": 10,
    "start_time": "2022-08-06T09:14:49.537Z"
   },
   {
    "duration": 5,
    "start_time": "2022-08-06T09:14:49.549Z"
   },
   {
    "duration": 38,
    "start_time": "2022-08-06T09:14:49.556Z"
   },
   {
    "duration": 10,
    "start_time": "2022-08-06T09:14:49.596Z"
   },
   {
    "duration": 10,
    "start_time": "2022-08-06T09:14:49.608Z"
   },
   {
    "duration": 6,
    "start_time": "2022-08-06T09:14:49.619Z"
   },
   {
    "duration": 307,
    "start_time": "2022-08-06T09:14:49.627Z"
   },
   {
    "duration": 4,
    "start_time": "2022-08-06T09:14:49.935Z"
   },
   {
    "duration": 36,
    "start_time": "2022-08-06T09:14:49.941Z"
   },
   {
    "duration": 166,
    "start_time": "2022-08-06T09:14:49.979Z"
   },
   {
    "duration": 178,
    "start_time": "2022-08-06T09:14:50.147Z"
   },
   {
    "duration": 169,
    "start_time": "2022-08-06T09:14:50.327Z"
   },
   {
    "duration": 249,
    "start_time": "2022-08-06T09:14:50.498Z"
   },
   {
    "duration": 191,
    "start_time": "2022-08-06T09:14:50.749Z"
   },
   {
    "duration": 172,
    "start_time": "2022-08-06T09:14:50.942Z"
   },
   {
    "duration": 147,
    "start_time": "2022-08-06T09:14:51.116Z"
   },
   {
    "duration": 162,
    "start_time": "2022-08-06T09:14:51.264Z"
   },
   {
    "duration": 165,
    "start_time": "2022-08-06T09:14:51.428Z"
   },
   {
    "duration": 160,
    "start_time": "2022-08-06T09:14:51.595Z"
   },
   {
    "duration": 213,
    "start_time": "2022-08-06T09:14:51.757Z"
   },
   {
    "duration": 198,
    "start_time": "2022-08-06T09:14:51.972Z"
   },
   {
    "duration": 210,
    "start_time": "2022-08-06T09:14:52.173Z"
   },
   {
    "duration": 8,
    "start_time": "2022-08-06T09:14:52.391Z"
   },
   {
    "duration": 25,
    "start_time": "2022-08-06T09:14:52.401Z"
   },
   {
    "duration": 225,
    "start_time": "2022-08-06T09:14:52.427Z"
   },
   {
    "duration": 5,
    "start_time": "2022-08-06T09:14:52.654Z"
   },
   {
    "duration": 31,
    "start_time": "2022-08-06T09:14:52.661Z"
   },
   {
    "duration": 292,
    "start_time": "2022-08-06T09:14:52.695Z"
   },
   {
    "duration": 9,
    "start_time": "2022-08-06T09:14:52.989Z"
   },
   {
    "duration": 31,
    "start_time": "2022-08-06T09:14:52.999Z"
   },
   {
    "duration": 222,
    "start_time": "2022-08-06T09:14:53.032Z"
   },
   {
    "duration": 6,
    "start_time": "2022-08-06T09:14:53.256Z"
   },
   {
    "duration": 30,
    "start_time": "2022-08-06T09:14:53.263Z"
   },
   {
    "duration": 143,
    "start_time": "2022-08-06T09:14:53.299Z"
   },
   {
    "duration": 15,
    "start_time": "2022-08-06T09:14:53.444Z"
   },
   {
    "duration": 158,
    "start_time": "2022-08-06T09:14:53.461Z"
   },
   {
    "duration": 13,
    "start_time": "2022-08-06T09:14:53.621Z"
   },
   {
    "duration": 168,
    "start_time": "2022-08-06T09:14:53.636Z"
   },
   {
    "duration": 14,
    "start_time": "2022-08-06T09:14:53.807Z"
   },
   {
    "duration": 216,
    "start_time": "2022-08-06T09:14:53.823Z"
   },
   {
    "duration": 14,
    "start_time": "2022-08-06T09:14:54.041Z"
   },
   {
    "duration": 164,
    "start_time": "2022-08-06T09:14:54.057Z"
   },
   {
    "duration": 6,
    "start_time": "2022-08-06T09:14:54.223Z"
   },
   {
    "duration": 55,
    "start_time": "2022-08-06T09:14:54.231Z"
   },
   {
    "duration": 122,
    "start_time": "2022-08-06T09:14:54.288Z"
   },
   {
    "duration": 116,
    "start_time": "2022-08-06T09:14:54.411Z"
   },
   {
    "duration": 131,
    "start_time": "2022-08-06T09:14:54.529Z"
   },
   {
    "duration": 116,
    "start_time": "2022-08-06T09:14:54.665Z"
   },
   {
    "duration": 228,
    "start_time": "2022-08-06T09:14:54.783Z"
   },
   {
    "duration": 129,
    "start_time": "2022-08-06T09:14:55.013Z"
   },
   {
    "duration": 124,
    "start_time": "2022-08-06T09:14:55.144Z"
   },
   {
    "duration": 128,
    "start_time": "2022-08-06T09:14:55.270Z"
   },
   {
    "duration": 137,
    "start_time": "2022-08-06T09:14:55.400Z"
   },
   {
    "duration": 128,
    "start_time": "2022-08-06T09:14:55.539Z"
   },
   {
    "duration": 204,
    "start_time": "2022-08-06T09:14:55.669Z"
   },
   {
    "duration": 27,
    "start_time": "2022-08-06T09:14:55.875Z"
   },
   {
    "duration": 228,
    "start_time": "2022-08-06T09:14:55.904Z"
   },
   {
    "duration": 206,
    "start_time": "2022-08-06T09:16:22.106Z"
   },
   {
    "duration": 224,
    "start_time": "2022-08-06T09:16:28.688Z"
   },
   {
    "duration": 201,
    "start_time": "2022-08-06T09:16:35.763Z"
   },
   {
    "duration": 286,
    "start_time": "2022-08-06T09:16:43.272Z"
   },
   {
    "duration": 3899,
    "start_time": "2023-01-28T17:37:08.400Z"
   },
   {
    "duration": 1391,
    "start_time": "2023-01-28T17:37:12.301Z"
   },
   {
    "duration": 201,
    "start_time": "2023-01-28T17:37:13.694Z"
   },
   {
    "duration": 202,
    "start_time": "2023-01-28T17:37:13.898Z"
   },
   {
    "duration": 16491,
    "start_time": "2023-01-28T17:37:14.103Z"
   },
   {
    "duration": 98,
    "start_time": "2023-01-28T17:37:30.596Z"
   },
   {
    "duration": 198,
    "start_time": "2023-01-28T17:37:30.697Z"
   },
   {
    "duration": 501,
    "start_time": "2023-01-28T17:37:30.897Z"
   },
   {
    "duration": 192,
    "start_time": "2023-01-28T17:37:31.399Z"
   },
   {
    "duration": 407,
    "start_time": "2023-01-28T17:37:31.595Z"
   },
   {
    "duration": 195,
    "start_time": "2023-01-28T17:37:32.004Z"
   },
   {
    "duration": 104,
    "start_time": "2023-01-28T17:37:32.291Z"
   },
   {
    "duration": 96,
    "start_time": "2023-01-28T17:37:32.397Z"
   },
   {
    "duration": 95,
    "start_time": "2023-01-28T17:37:32.497Z"
   },
   {
    "duration": 4,
    "start_time": "2023-01-28T17:37:32.594Z"
   },
   {
    "duration": 296,
    "start_time": "2023-01-28T17:37:32.600Z"
   },
   {
    "duration": 101,
    "start_time": "2023-01-28T17:37:32.899Z"
   },
   {
    "duration": 590,
    "start_time": "2023-01-28T17:37:33.002Z"
   },
   {
    "duration": 194,
    "start_time": "2023-01-28T17:37:33.598Z"
   },
   {
    "duration": 100,
    "start_time": "2023-01-28T17:37:33.799Z"
   },
   {
    "duration": 94,
    "start_time": "2023-01-28T17:37:33.901Z"
   },
   {
    "duration": 198,
    "start_time": "2023-01-28T17:37:34.000Z"
   },
   {
    "duration": 192,
    "start_time": "2023-01-28T17:37:34.204Z"
   },
   {
    "duration": 294,
    "start_time": "2023-01-28T17:37:34.397Z"
   },
   {
    "duration": 303,
    "start_time": "2023-01-28T17:37:34.693Z"
   },
   {
    "duration": 96,
    "start_time": "2023-01-28T17:37:34.997Z"
   },
   {
    "duration": 204,
    "start_time": "2023-01-28T17:37:35.094Z"
   },
   {
    "duration": 194,
    "start_time": "2023-01-28T17:37:35.300Z"
   },
   {
    "duration": 197,
    "start_time": "2023-01-28T17:37:35.495Z"
   },
   {
    "duration": 202,
    "start_time": "2023-01-28T17:37:35.695Z"
   },
   {
    "duration": 492,
    "start_time": "2023-01-28T17:37:35.899Z"
   },
   {
    "duration": 102,
    "start_time": "2023-01-28T17:37:36.393Z"
   },
   {
    "duration": 402,
    "start_time": "2023-01-28T17:37:36.497Z"
   },
   {
    "duration": 296,
    "start_time": "2023-01-28T17:37:36.900Z"
   },
   {
    "duration": 200,
    "start_time": "2023-01-28T17:37:37.198Z"
   },
   {
    "duration": 193,
    "start_time": "2023-01-28T17:37:37.400Z"
   },
   {
    "duration": 99,
    "start_time": "2023-01-28T17:37:37.594Z"
   },
   {
    "duration": 400,
    "start_time": "2023-01-28T17:37:37.695Z"
   },
   {
    "duration": 200,
    "start_time": "2023-01-28T17:37:38.097Z"
   },
   {
    "duration": 99,
    "start_time": "2023-01-28T17:37:38.300Z"
   },
   {
    "duration": 2102,
    "start_time": "2023-01-28T17:37:38.497Z"
   },
   {
    "duration": 91,
    "start_time": "2023-01-28T17:37:40.601Z"
   },
   {
    "duration": 212,
    "start_time": "2023-01-28T17:37:40.694Z"
   },
   {
    "duration": 1011,
    "start_time": "2023-01-28T17:37:40.994Z"
   },
   {
    "duration": 1297,
    "start_time": "2023-01-28T17:37:42.094Z"
   },
   {
    "duration": 1305,
    "start_time": "2023-01-28T17:37:43.394Z"
   },
   {
    "duration": 1993,
    "start_time": "2023-01-28T17:37:44.704Z"
   },
   {
    "duration": 1496,
    "start_time": "2023-01-28T17:37:46.699Z"
   },
   {
    "duration": 1394,
    "start_time": "2023-01-28T17:37:48.197Z"
   },
   {
    "duration": 1307,
    "start_time": "2023-01-28T17:37:49.593Z"
   },
   {
    "duration": 1310,
    "start_time": "2023-01-28T17:37:50.993Z"
   },
   {
    "duration": 1201,
    "start_time": "2023-01-28T17:37:52.394Z"
   },
   {
    "duration": 1291,
    "start_time": "2023-01-28T17:37:53.600Z"
   },
   {
    "duration": 1209,
    "start_time": "2023-01-28T17:37:54.991Z"
   },
   {
    "duration": 1399,
    "start_time": "2023-01-28T17:37:56.202Z"
   },
   {
    "duration": 1400,
    "start_time": "2023-01-28T17:37:57.791Z"
   },
   {
    "duration": 106,
    "start_time": "2023-01-28T17:37:59.195Z"
   },
   {
    "duration": 589,
    "start_time": "2023-01-28T17:37:59.303Z"
   },
   {
    "duration": 1601,
    "start_time": "2023-01-28T17:37:59.894Z"
   },
   {
    "duration": 11,
    "start_time": "2023-01-28T17:38:01.499Z"
   },
   {
    "duration": 409,
    "start_time": "2023-01-28T17:38:01.593Z"
   },
   {
    "duration": 2215,
    "start_time": "2023-01-28T17:38:02.093Z"
   },
   {
    "duration": 88,
    "start_time": "2023-01-28T17:38:04.310Z"
   },
   {
    "duration": 291,
    "start_time": "2023-01-28T17:38:04.401Z"
   },
   {
    "duration": 1505,
    "start_time": "2023-01-28T17:38:04.697Z"
   },
   {
    "duration": 91,
    "start_time": "2023-01-28T17:38:06.204Z"
   },
   {
    "duration": 512,
    "start_time": "2023-01-28T17:38:06.392Z"
   },
   {
    "duration": 1015,
    "start_time": "2023-01-28T17:38:06.993Z"
   },
   {
    "duration": 98,
    "start_time": "2023-01-28T17:38:08.101Z"
   },
   {
    "duration": 1293,
    "start_time": "2023-01-28T17:38:08.201Z"
   },
   {
    "duration": 107,
    "start_time": "2023-01-28T17:38:09.496Z"
   },
   {
    "duration": 1009,
    "start_time": "2023-01-28T17:38:09.693Z"
   },
   {
    "duration": 101,
    "start_time": "2023-01-28T17:38:10.705Z"
   },
   {
    "duration": 1484,
    "start_time": "2023-01-28T17:38:10.808Z"
   },
   {
    "duration": 103,
    "start_time": "2023-01-28T17:38:12.294Z"
   },
   {
    "duration": 1410,
    "start_time": "2023-01-28T17:38:12.492Z"
   },
   {
    "duration": 92,
    "start_time": "2023-01-28T17:38:13.907Z"
   },
   {
    "duration": 298,
    "start_time": "2023-01-28T17:38:14.004Z"
   },
   {
    "duration": 603,
    "start_time": "2023-01-28T17:38:14.392Z"
   },
   {
    "duration": 698,
    "start_time": "2023-01-28T17:38:14.997Z"
   },
   {
    "duration": 897,
    "start_time": "2023-01-28T17:38:15.701Z"
   },
   {
    "duration": 896,
    "start_time": "2023-01-28T17:38:16.603Z"
   },
   {
    "duration": 1402,
    "start_time": "2023-01-28T17:38:17.501Z"
   },
   {
    "duration": 813,
    "start_time": "2023-01-28T17:38:18.993Z"
   },
   {
    "duration": 898,
    "start_time": "2023-01-28T17:38:19.807Z"
   },
   {
    "duration": 612,
    "start_time": "2023-01-28T17:38:20.793Z"
   },
   {
    "duration": 888,
    "start_time": "2023-01-28T17:38:21.407Z"
   },
   {
    "duration": 997,
    "start_time": "2023-01-28T17:38:22.297Z"
   },
   {
    "duration": 1212,
    "start_time": "2023-01-28T17:38:23.391Z"
   },
   {
    "duration": 294,
    "start_time": "2023-01-28T17:38:24.604Z"
   },
   {
    "duration": 1622,
    "start_time": "2023-01-28T17:38:24.991Z"
   },
   {
    "duration": 1141,
    "start_time": "2023-02-14T20:07:16.940Z"
   },
   {
    "duration": 455,
    "start_time": "2023-02-14T20:07:18.083Z"
   },
   {
    "duration": 99,
    "start_time": "2023-02-14T20:07:18.540Z"
   },
   {
    "duration": 22,
    "start_time": "2023-02-14T20:07:18.641Z"
   },
   {
    "duration": 4292,
    "start_time": "2023-02-14T20:07:18.666Z"
   },
   {
    "duration": 12,
    "start_time": "2023-02-14T20:07:22.960Z"
   },
   {
    "duration": 65,
    "start_time": "2023-02-14T20:07:22.974Z"
   },
   {
    "duration": 14,
    "start_time": "2023-02-14T20:07:23.041Z"
   },
   {
    "duration": 8,
    "start_time": "2023-02-14T20:07:23.058Z"
   },
   {
    "duration": 75,
    "start_time": "2023-02-14T20:07:23.068Z"
   },
   {
    "duration": 28,
    "start_time": "2023-02-14T20:07:23.145Z"
   },
   {
    "duration": 5,
    "start_time": "2023-02-14T20:07:23.174Z"
   },
   {
    "duration": 25,
    "start_time": "2023-02-14T20:07:23.239Z"
   },
   {
    "duration": 70,
    "start_time": "2023-02-14T20:07:23.268Z"
   },
   {
    "duration": 6,
    "start_time": "2023-02-14T20:07:23.341Z"
   },
   {
    "duration": 38,
    "start_time": "2023-02-14T20:07:23.349Z"
   },
   {
    "duration": 6,
    "start_time": "2023-02-14T20:07:23.439Z"
   },
   {
    "duration": 32,
    "start_time": "2023-02-14T20:07:23.447Z"
   },
   {
    "duration": 71,
    "start_time": "2023-02-14T20:07:23.481Z"
   },
   {
    "duration": 13,
    "start_time": "2023-02-14T20:07:23.555Z"
   },
   {
    "duration": 69,
    "start_time": "2023-02-14T20:07:23.570Z"
   },
   {
    "duration": 29,
    "start_time": "2023-02-14T20:07:23.642Z"
   },
   {
    "duration": 66,
    "start_time": "2023-02-14T20:07:23.673Z"
   },
   {
    "duration": 29,
    "start_time": "2023-02-14T20:07:23.741Z"
   },
   {
    "duration": 8,
    "start_time": "2023-02-14T20:07:23.772Z"
   },
   {
    "duration": 7,
    "start_time": "2023-02-14T20:07:23.782Z"
   },
   {
    "duration": 8,
    "start_time": "2023-02-14T20:07:23.839Z"
   },
   {
    "duration": 12,
    "start_time": "2023-02-14T20:07:23.849Z"
   },
   {
    "duration": 12,
    "start_time": "2023-02-14T20:07:23.863Z"
   },
   {
    "duration": 61,
    "start_time": "2023-02-14T20:07:23.877Z"
   },
   {
    "duration": 34,
    "start_time": "2023-02-14T20:07:23.940Z"
   },
   {
    "duration": 6,
    "start_time": "2023-02-14T20:07:23.976Z"
   },
   {
    "duration": 58,
    "start_time": "2023-02-14T20:07:23.984Z"
   },
   {
    "duration": 13,
    "start_time": "2023-02-14T20:07:24.044Z"
   },
   {
    "duration": 24,
    "start_time": "2023-02-14T20:07:24.059Z"
   },
   {
    "duration": 54,
    "start_time": "2023-02-14T20:07:24.085Z"
   },
   {
    "duration": 17,
    "start_time": "2023-02-14T20:07:24.141Z"
   },
   {
    "duration": 22,
    "start_time": "2023-02-14T20:07:24.160Z"
   },
   {
    "duration": 59,
    "start_time": "2023-02-14T20:07:24.184Z"
   },
   {
    "duration": 7,
    "start_time": "2023-02-14T20:07:24.244Z"
   },
   {
    "duration": 594,
    "start_time": "2023-02-14T20:07:24.256Z"
   },
   {
    "duration": 5,
    "start_time": "2023-02-14T20:07:24.852Z"
   },
   {
    "duration": 81,
    "start_time": "2023-02-14T20:07:24.858Z"
   },
   {
    "duration": 306,
    "start_time": "2023-02-14T20:07:24.941Z"
   },
   {
    "duration": 314,
    "start_time": "2023-02-14T20:07:25.249Z"
   },
   {
    "duration": 407,
    "start_time": "2023-02-14T20:07:25.565Z"
   },
   {
    "duration": 490,
    "start_time": "2023-02-14T20:07:25.974Z"
   },
   {
    "duration": 315,
    "start_time": "2023-02-14T20:07:26.466Z"
   },
   {
    "duration": 299,
    "start_time": "2023-02-14T20:07:26.783Z"
   },
   {
    "duration": 240,
    "start_time": "2023-02-14T20:07:27.139Z"
   },
   {
    "duration": 299,
    "start_time": "2023-02-14T20:07:27.381Z"
   },
   {
    "duration": 357,
    "start_time": "2023-02-14T20:07:27.682Z"
   },
   {
    "duration": 308,
    "start_time": "2023-02-14T20:07:28.041Z"
   },
   {
    "duration": 306,
    "start_time": "2023-02-14T20:07:28.351Z"
   },
   {
    "duration": 324,
    "start_time": "2023-02-14T20:07:28.659Z"
   },
   {
    "duration": 361,
    "start_time": "2023-02-14T20:07:28.985Z"
   },
   {
    "duration": 4,
    "start_time": "2023-02-14T20:07:29.348Z"
   },
   {
    "duration": 23,
    "start_time": "2023-02-14T20:07:29.354Z"
   },
   {
    "duration": 401,
    "start_time": "2023-02-14T20:07:29.437Z"
   },
   {
    "duration": 5,
    "start_time": "2023-02-14T20:07:29.841Z"
   },
   {
    "duration": 22,
    "start_time": "2023-02-14T20:07:29.848Z"
   },
   {
    "duration": 585,
    "start_time": "2023-02-14T20:07:29.872Z"
   },
   {
    "duration": 6,
    "start_time": "2023-02-14T20:07:30.459Z"
   },
   {
    "duration": 89,
    "start_time": "2023-02-14T20:07:30.467Z"
   },
   {
    "duration": 417,
    "start_time": "2023-02-14T20:07:30.559Z"
   },
   {
    "duration": 63,
    "start_time": "2023-02-14T20:07:30.978Z"
   },
   {
    "duration": 18,
    "start_time": "2023-02-14T20:07:31.043Z"
   },
   {
    "duration": 306,
    "start_time": "2023-02-14T20:07:31.063Z"
   },
   {
    "duration": 74,
    "start_time": "2023-02-14T20:07:31.371Z"
   },
   {
    "duration": 224,
    "start_time": "2023-02-14T20:07:31.447Z"
   },
   {
    "duration": 67,
    "start_time": "2023-02-14T20:07:31.672Z"
   },
   {
    "duration": 309,
    "start_time": "2023-02-14T20:07:31.741Z"
   },
   {
    "duration": 15,
    "start_time": "2023-02-14T20:07:32.052Z"
   },
   {
    "duration": 415,
    "start_time": "2023-02-14T20:07:32.069Z"
   },
   {
    "duration": 18,
    "start_time": "2023-02-14T20:07:32.538Z"
   },
   {
    "duration": 315,
    "start_time": "2023-02-14T20:07:32.559Z"
   },
   {
    "duration": 63,
    "start_time": "2023-02-14T20:07:32.876Z"
   },
   {
    "duration": 34,
    "start_time": "2023-02-14T20:07:32.940Z"
   },
   {
    "duration": 264,
    "start_time": "2023-02-14T20:07:32.976Z"
   },
   {
    "duration": 202,
    "start_time": "2023-02-14T20:07:33.243Z"
   },
   {
    "duration": 223,
    "start_time": "2023-02-14T20:07:33.447Z"
   },
   {
    "duration": 212,
    "start_time": "2023-02-14T20:07:33.672Z"
   },
   {
    "duration": 400,
    "start_time": "2023-02-14T20:07:33.938Z"
   },
   {
    "duration": 225,
    "start_time": "2023-02-14T20:07:34.340Z"
   },
   {
    "duration": 214,
    "start_time": "2023-02-14T20:07:34.566Z"
   },
   {
    "duration": 260,
    "start_time": "2023-02-14T20:07:34.782Z"
   },
   {
    "duration": 230,
    "start_time": "2023-02-14T20:07:35.044Z"
   },
   {
    "duration": 277,
    "start_time": "2023-02-14T20:07:35.275Z"
   },
   {
    "duration": 413,
    "start_time": "2023-02-14T20:07:35.555Z"
   },
   {
    "duration": 76,
    "start_time": "2023-02-14T20:07:35.970Z"
   },
   {
    "duration": 617,
    "start_time": "2023-02-14T20:07:36.048Z"
   }
  ],
  "kernelspec": {
   "display_name": "Python 3 (ipykernel)",
   "language": "python",
   "name": "python3"
  },
  "language_info": {
   "codemirror_mode": {
    "name": "ipython",
    "version": 3
   },
   "file_extension": ".py",
   "mimetype": "text/x-python",
   "name": "python",
   "nbconvert_exporter": "python",
   "pygments_lexer": "ipython3",
   "version": "3.9.15"
  },
  "toc": {
   "base_numbering": 1,
   "nav_menu": {},
   "number_sections": true,
   "sideBar": true,
   "skip_h1_title": true,
   "title_cell": "Table of Contents",
   "title_sidebar": "Contents",
   "toc_cell": false,
   "toc_position": {
    "height": "calc(100% - 180px)",
    "left": "10px",
    "top": "150px",
    "width": "323.891px"
   },
   "toc_section_display": true,
   "toc_window_display": true
  }
 },
 "nbformat": 4,
 "nbformat_minor": 2
}
