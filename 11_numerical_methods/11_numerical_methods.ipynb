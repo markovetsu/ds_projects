{
 "cells": [
  {
   "cell_type": "markdown",
   "metadata": {},
   "source": [
    "# Определение стоимости автомобилей"
   ]
  },
  {
   "cell_type": "markdown",
   "metadata": {},
   "source": [
    "**Описание компании:** «Не бит, не крашен» - сервис по продаже автомобилей с пробегом. Компания разрабатывает приложение для привлечения новых клиентов. В нём можно быстро узнать рыночную стоимость своего автомобиля.\n",
    "\n",
    "**Цель:** Нам нужно построить модель для определения стоимости.\n",
    "\n",
    "**Задача:** Добиться оптимальных и нужных заказчику:\n",
    "- качества предсказания;\n",
    "- скорости предсказания;\n",
    "- времени обучения."
   ]
  },
  {
   "cell_type": "markdown",
   "metadata": {},
   "source": [
    "# Описание данных"
   ]
  },
  {
   "cell_type": "markdown",
   "metadata": {},
   "source": [
    "**В нашем распоряжении исторические данные: технические характеристики, комплектации и цены автомобилей.**\n",
    "\n",
    "**Признаки:**\n",
    "\n",
    "    DateCrawled — дата скачивания анкеты из базы\n",
    "    VehicleType — тип автомобильного кузова\n",
    "    RegistrationYear — год регистрации автомобиля\n",
    "    Gearbox — тип коробки передач\n",
    "    Power — мощность (л. с.)\n",
    "    Model — модель автомобиля\n",
    "    Kilometer — пробег (км)\n",
    "    RegistrationMonth — месяц регистрации автомобиля\n",
    "    FuelType — тип топлива\n",
    "    Brand — марка автомобиля\n",
    "    Repaired — была машина в ремонте или нет\n",
    "    DateCreated — дата создания анкеты\n",
    "    NumberOfPictures — количество фотографий автомобиля\n",
    "    PostalCode — почтовый индекс владельца анкеты (пользователя)\n",
    "    LastSeen — дата последней активности пользователя\n",
    "    \n",
    "**Целевой признак:** \n",
    "\n",
    "    Price — цена (евро)"
   ]
  },
  {
   "cell_type": "markdown",
   "metadata": {},
   "source": [
    "## Подготовка данных"
   ]
  },
  {
   "cell_type": "markdown",
   "metadata": {},
   "source": [
    "### Импортируем нужные библиотеки и будем обращаться к ним через принятные сокращения"
   ]
  },
  {
   "cell_type": "code",
   "execution_count": 1,
   "metadata": {},
   "outputs": [],
   "source": [
    "# импортируем нужные библиотеки и будем обращаться к ним через принятные сокращения\n",
    "\n",
    "from sklearn.model_selection import train_test_split, GridSearchCV, cross_val_score\n",
    "from sklearn.metrics import mean_squared_error, make_scorer\n",
    "from sklearn.preprocessing import StandardScaler, OneHotEncoder, OrdinalEncoder\n",
    "from sklearn.pipeline import Pipeline,make_pipeline\n",
    "from sklearn.linear_model import LinearRegression\n",
    "from sklearn.tree import DecisionTreeRegressor\n",
    "from lightgbm import LGBMRegressor\n",
    "\n",
    "import pandas as pd\n",
    "import numpy as np\n",
    "import lightgbm as lgb\n",
    "import matplotlib.pyplot as plt\n",
    "import seaborn as sns\n",
    "import matplotlib\n",
    "import warnings\n",
    "import sklearn \n",
    "import random\n",
    "\n",
    "sns.set()\n",
    "warnings.filterwarnings('ignore')"
   ]
  },
  {
   "cell_type": "markdown",
   "metadata": {},
   "source": [
    "### Через конструкцию try-except прочтем файл и сохраним ее в переменную df"
   ]
  },
  {
   "cell_type": "code",
   "execution_count": 2,
   "metadata": {},
   "outputs": [],
   "source": [
    "# через конструкцию try-except прочтем файл и сохраним ее в переменную df\n",
    "try:\n",
    "    df = pd.read_csv(\"/datasets/autos.csv\")\n",
    "except FileNotFoundError:\n",
    "    print(\"FileNotFoundError: Проверьте корректность пути к файлу или наличие самого файла в каталоге!\")"
   ]
  },
  {
   "cell_type": "markdown",
   "metadata": {},
   "source": [
    "### Выведем информацию об признаках, кол-ве ненулевых значений и типах данных"
   ]
  },
  {
   "cell_type": "code",
   "execution_count": 3,
   "metadata": {},
   "outputs": [
    {
     "name": "stdout",
     "output_type": "stream",
     "text": [
      "<class 'pandas.core.frame.DataFrame'>\n",
      "RangeIndex: 354369 entries, 0 to 354368\n",
      "Data columns (total 16 columns):\n",
      " #   Column             Non-Null Count   Dtype \n",
      "---  ------             --------------   ----- \n",
      " 0   DateCrawled        354369 non-null  object\n",
      " 1   Price              354369 non-null  int64 \n",
      " 2   VehicleType        316879 non-null  object\n",
      " 3   RegistrationYear   354369 non-null  int64 \n",
      " 4   Gearbox            334536 non-null  object\n",
      " 5   Power              354369 non-null  int64 \n",
      " 6   Model              334664 non-null  object\n",
      " 7   Kilometer          354369 non-null  int64 \n",
      " 8   RegistrationMonth  354369 non-null  int64 \n",
      " 9   FuelType           321474 non-null  object\n",
      " 10  Brand              354369 non-null  object\n",
      " 11  Repaired           283215 non-null  object\n",
      " 12  DateCreated        354369 non-null  object\n",
      " 13  NumberOfPictures   354369 non-null  int64 \n",
      " 14  PostalCode         354369 non-null  int64 \n",
      " 15  LastSeen           354369 non-null  object\n",
      "dtypes: int64(7), object(9)\n",
      "memory usage: 43.3+ MB\n"
     ]
    }
   ],
   "source": [
    "# выведем информацию об признаках, кол-ве ненулевых значений и типах данных\n",
    "df.info()"
   ]
  },
  {
   "cell_type": "markdown",
   "metadata": {},
   "source": [
    "### Выведем на экран размерность датасета "
   ]
  },
  {
   "cell_type": "code",
   "execution_count": 4,
   "metadata": {},
   "outputs": [
    {
     "name": "stdout",
     "output_type": "stream",
     "text": [
      "Размер : (354369, 16)\n"
     ]
    }
   ],
   "source": [
    "# (строки, столбцы)\n",
    "print(\"Размер :\", df.shape)"
   ]
  },
  {
   "cell_type": "markdown",
   "metadata": {},
   "source": [
    "### Выведем первые 5 строк "
   ]
  },
  {
   "cell_type": "code",
   "execution_count": 5,
   "metadata": {},
   "outputs": [
    {
     "data": {
      "text/html": [
       "<div>\n",
       "<style scoped>\n",
       "    .dataframe tbody tr th:only-of-type {\n",
       "        vertical-align: middle;\n",
       "    }\n",
       "\n",
       "    .dataframe tbody tr th {\n",
       "        vertical-align: top;\n",
       "    }\n",
       "\n",
       "    .dataframe thead th {\n",
       "        text-align: right;\n",
       "    }\n",
       "</style>\n",
       "<table border=\"1\" class=\"dataframe\">\n",
       "  <thead>\n",
       "    <tr style=\"text-align: right;\">\n",
       "      <th></th>\n",
       "      <th>DateCrawled</th>\n",
       "      <th>Price</th>\n",
       "      <th>VehicleType</th>\n",
       "      <th>RegistrationYear</th>\n",
       "      <th>Gearbox</th>\n",
       "      <th>Power</th>\n",
       "      <th>Model</th>\n",
       "      <th>Kilometer</th>\n",
       "      <th>RegistrationMonth</th>\n",
       "      <th>FuelType</th>\n",
       "      <th>Brand</th>\n",
       "      <th>Repaired</th>\n",
       "      <th>DateCreated</th>\n",
       "      <th>NumberOfPictures</th>\n",
       "      <th>PostalCode</th>\n",
       "      <th>LastSeen</th>\n",
       "    </tr>\n",
       "  </thead>\n",
       "  <tbody>\n",
       "    <tr>\n",
       "      <th>0</th>\n",
       "      <td>2016-03-24 11:52:17</td>\n",
       "      <td>480</td>\n",
       "      <td>NaN</td>\n",
       "      <td>1993</td>\n",
       "      <td>manual</td>\n",
       "      <td>0</td>\n",
       "      <td>golf</td>\n",
       "      <td>150000</td>\n",
       "      <td>0</td>\n",
       "      <td>petrol</td>\n",
       "      <td>volkswagen</td>\n",
       "      <td>NaN</td>\n",
       "      <td>2016-03-24 00:00:00</td>\n",
       "      <td>0</td>\n",
       "      <td>70435</td>\n",
       "      <td>2016-04-07 03:16:57</td>\n",
       "    </tr>\n",
       "    <tr>\n",
       "      <th>1</th>\n",
       "      <td>2016-03-24 10:58:45</td>\n",
       "      <td>18300</td>\n",
       "      <td>coupe</td>\n",
       "      <td>2011</td>\n",
       "      <td>manual</td>\n",
       "      <td>190</td>\n",
       "      <td>NaN</td>\n",
       "      <td>125000</td>\n",
       "      <td>5</td>\n",
       "      <td>gasoline</td>\n",
       "      <td>audi</td>\n",
       "      <td>yes</td>\n",
       "      <td>2016-03-24 00:00:00</td>\n",
       "      <td>0</td>\n",
       "      <td>66954</td>\n",
       "      <td>2016-04-07 01:46:50</td>\n",
       "    </tr>\n",
       "    <tr>\n",
       "      <th>2</th>\n",
       "      <td>2016-03-14 12:52:21</td>\n",
       "      <td>9800</td>\n",
       "      <td>suv</td>\n",
       "      <td>2004</td>\n",
       "      <td>auto</td>\n",
       "      <td>163</td>\n",
       "      <td>grand</td>\n",
       "      <td>125000</td>\n",
       "      <td>8</td>\n",
       "      <td>gasoline</td>\n",
       "      <td>jeep</td>\n",
       "      <td>NaN</td>\n",
       "      <td>2016-03-14 00:00:00</td>\n",
       "      <td>0</td>\n",
       "      <td>90480</td>\n",
       "      <td>2016-04-05 12:47:46</td>\n",
       "    </tr>\n",
       "    <tr>\n",
       "      <th>3</th>\n",
       "      <td>2016-03-17 16:54:04</td>\n",
       "      <td>1500</td>\n",
       "      <td>small</td>\n",
       "      <td>2001</td>\n",
       "      <td>manual</td>\n",
       "      <td>75</td>\n",
       "      <td>golf</td>\n",
       "      <td>150000</td>\n",
       "      <td>6</td>\n",
       "      <td>petrol</td>\n",
       "      <td>volkswagen</td>\n",
       "      <td>no</td>\n",
       "      <td>2016-03-17 00:00:00</td>\n",
       "      <td>0</td>\n",
       "      <td>91074</td>\n",
       "      <td>2016-03-17 17:40:17</td>\n",
       "    </tr>\n",
       "    <tr>\n",
       "      <th>4</th>\n",
       "      <td>2016-03-31 17:25:20</td>\n",
       "      <td>3600</td>\n",
       "      <td>small</td>\n",
       "      <td>2008</td>\n",
       "      <td>manual</td>\n",
       "      <td>69</td>\n",
       "      <td>fabia</td>\n",
       "      <td>90000</td>\n",
       "      <td>7</td>\n",
       "      <td>gasoline</td>\n",
       "      <td>skoda</td>\n",
       "      <td>no</td>\n",
       "      <td>2016-03-31 00:00:00</td>\n",
       "      <td>0</td>\n",
       "      <td>60437</td>\n",
       "      <td>2016-04-06 10:17:21</td>\n",
       "    </tr>\n",
       "  </tbody>\n",
       "</table>\n",
       "</div>"
      ],
      "text/plain": [
       "           DateCrawled  Price VehicleType  RegistrationYear Gearbox  Power  \\\n",
       "0  2016-03-24 11:52:17    480         NaN              1993  manual      0   \n",
       "1  2016-03-24 10:58:45  18300       coupe              2011  manual    190   \n",
       "2  2016-03-14 12:52:21   9800         suv              2004    auto    163   \n",
       "3  2016-03-17 16:54:04   1500       small              2001  manual     75   \n",
       "4  2016-03-31 17:25:20   3600       small              2008  manual     69   \n",
       "\n",
       "   Model  Kilometer  RegistrationMonth  FuelType       Brand Repaired  \\\n",
       "0   golf     150000                  0    petrol  volkswagen      NaN   \n",
       "1    NaN     125000                  5  gasoline        audi      yes   \n",
       "2  grand     125000                  8  gasoline        jeep      NaN   \n",
       "3   golf     150000                  6    petrol  volkswagen       no   \n",
       "4  fabia      90000                  7  gasoline       skoda       no   \n",
       "\n",
       "           DateCreated  NumberOfPictures  PostalCode             LastSeen  \n",
       "0  2016-03-24 00:00:00                 0       70435  2016-04-07 03:16:57  \n",
       "1  2016-03-24 00:00:00                 0       66954  2016-04-07 01:46:50  \n",
       "2  2016-03-14 00:00:00                 0       90480  2016-04-05 12:47:46  \n",
       "3  2016-03-17 00:00:00                 0       91074  2016-03-17 17:40:17  \n",
       "4  2016-03-31 00:00:00                 0       60437  2016-04-06 10:17:21  "
      ]
     },
     "execution_count": 5,
     "metadata": {},
     "output_type": "execute_result"
    }
   ],
   "source": [
    "# выведем первые 5 строк \n",
    "pd.set_option('display.max_columns', len(df.columns))\n",
    "df.head()"
   ]
  },
  {
   "cell_type": "markdown",
   "metadata": {},
   "source": [
    "### Визуализируем признаки, чтобы увидеть и проанализировать потенциальные особенности в данных"
   ]
  },
  {
   "cell_type": "code",
   "execution_count": 6,
   "metadata": {},
   "outputs": [
    {
     "data": {
      "image/png": "[encoded data removed]",
      "text/plain": [
       "<Figure size 1080x720 with 9 Axes>"
      ]
     },
     "metadata": {},
     "output_type": "display_data"
    }
   ],
   "source": [
    "# визуализируем признаки, чтобы увидеть и проанализировать потенциальные особенности в данных\n",
    "df.hist(figsize=(15,10));"
   ]
  },
  {
   "cell_type": "markdown",
   "metadata": {},
   "source": [
    "### Выводы по графикам"
   ]
  },
  {
   "cell_type": "markdown",
   "metadata": {},
   "source": [
    "1. Видем сразу, что у нас есть такая численная категория в признаке 'registration_mounth' как ноль. Что сведетельствует об потенциальной аномалии\n",
    "2. На графике четко прослеживается то, что такие признаки как 'power', 'registration_year' и 'number_of_pictures' имеют одинаково распределение своих данных (в один столбец)\n",
    "3. Видем, что для признака 'price' наибольшее кол-во признаков лежит ближе к нулю, и с последующим увелечением признака, данных все меньше. В то время как в признаке 'kilometer' мы видем сразу огромное распределение данных в 140000"
   ]
  },
  {
   "cell_type": "markdown",
   "metadata": {},
   "source": [
    "### Переименуем столбцы в соотвествии с принятым стандартом: нижний и змеинный регистр"
   ]
  },
  {
   "cell_type": "code",
   "execution_count": 7,
   "metadata": {},
   "outputs": [
    {
     "data": {
      "text/html": [
       "<div>\n",
       "<style scoped>\n",
       "    .dataframe tbody tr th:only-of-type {\n",
       "        vertical-align: middle;\n",
       "    }\n",
       "\n",
       "    .dataframe tbody tr th {\n",
       "        vertical-align: top;\n",
       "    }\n",
       "\n",
       "    .dataframe thead th {\n",
       "        text-align: right;\n",
       "    }\n",
       "</style>\n",
       "<table border=\"1\" class=\"dataframe\">\n",
       "  <thead>\n",
       "    <tr style=\"text-align: right;\">\n",
       "      <th></th>\n",
       "      <th>date_crawled</th>\n",
       "      <th>price</th>\n",
       "      <th>vehicle_type</th>\n",
       "      <th>registration_year</th>\n",
       "      <th>gear_box</th>\n",
       "      <th>power</th>\n",
       "      <th>model</th>\n",
       "      <th>kilometer</th>\n",
       "      <th>registration_mounth</th>\n",
       "      <th>fuel_type</th>\n",
       "      <th>brand</th>\n",
       "      <th>repaired</th>\n",
       "      <th>date_created</th>\n",
       "      <th>number_of_pictures</th>\n",
       "      <th>postal_code</th>\n",
       "      <th>last_seen</th>\n",
       "    </tr>\n",
       "  </thead>\n",
       "  <tbody>\n",
       "    <tr>\n",
       "      <th>0</th>\n",
       "      <td>2016-03-24 11:52:17</td>\n",
       "      <td>480</td>\n",
       "      <td>NaN</td>\n",
       "      <td>1993</td>\n",
       "      <td>manual</td>\n",
       "      <td>0</td>\n",
       "      <td>golf</td>\n",
       "      <td>150000</td>\n",
       "      <td>0</td>\n",
       "      <td>petrol</td>\n",
       "      <td>volkswagen</td>\n",
       "      <td>NaN</td>\n",
       "      <td>2016-03-24 00:00:00</td>\n",
       "      <td>0</td>\n",
       "      <td>70435</td>\n",
       "      <td>2016-04-07 03:16:57</td>\n",
       "    </tr>\n",
       "    <tr>\n",
       "      <th>1</th>\n",
       "      <td>2016-03-24 10:58:45</td>\n",
       "      <td>18300</td>\n",
       "      <td>coupe</td>\n",
       "      <td>2011</td>\n",
       "      <td>manual</td>\n",
       "      <td>190</td>\n",
       "      <td>NaN</td>\n",
       "      <td>125000</td>\n",
       "      <td>5</td>\n",
       "      <td>gasoline</td>\n",
       "      <td>audi</td>\n",
       "      <td>yes</td>\n",
       "      <td>2016-03-24 00:00:00</td>\n",
       "      <td>0</td>\n",
       "      <td>66954</td>\n",
       "      <td>2016-04-07 01:46:50</td>\n",
       "    </tr>\n",
       "    <tr>\n",
       "      <th>2</th>\n",
       "      <td>2016-03-14 12:52:21</td>\n",
       "      <td>9800</td>\n",
       "      <td>suv</td>\n",
       "      <td>2004</td>\n",
       "      <td>auto</td>\n",
       "      <td>163</td>\n",
       "      <td>grand</td>\n",
       "      <td>125000</td>\n",
       "      <td>8</td>\n",
       "      <td>gasoline</td>\n",
       "      <td>jeep</td>\n",
       "      <td>NaN</td>\n",
       "      <td>2016-03-14 00:00:00</td>\n",
       "      <td>0</td>\n",
       "      <td>90480</td>\n",
       "      <td>2016-04-05 12:47:46</td>\n",
       "    </tr>\n",
       "    <tr>\n",
       "      <th>3</th>\n",
       "      <td>2016-03-17 16:54:04</td>\n",
       "      <td>1500</td>\n",
       "      <td>small</td>\n",
       "      <td>2001</td>\n",
       "      <td>manual</td>\n",
       "      <td>75</td>\n",
       "      <td>golf</td>\n",
       "      <td>150000</td>\n",
       "      <td>6</td>\n",
       "      <td>petrol</td>\n",
       "      <td>volkswagen</td>\n",
       "      <td>no</td>\n",
       "      <td>2016-03-17 00:00:00</td>\n",
       "      <td>0</td>\n",
       "      <td>91074</td>\n",
       "      <td>2016-03-17 17:40:17</td>\n",
       "    </tr>\n",
       "    <tr>\n",
       "      <th>4</th>\n",
       "      <td>2016-03-31 17:25:20</td>\n",
       "      <td>3600</td>\n",
       "      <td>small</td>\n",
       "      <td>2008</td>\n",
       "      <td>manual</td>\n",
       "      <td>69</td>\n",
       "      <td>fabia</td>\n",
       "      <td>90000</td>\n",
       "      <td>7</td>\n",
       "      <td>gasoline</td>\n",
       "      <td>skoda</td>\n",
       "      <td>no</td>\n",
       "      <td>2016-03-31 00:00:00</td>\n",
       "      <td>0</td>\n",
       "      <td>60437</td>\n",
       "      <td>2016-04-06 10:17:21</td>\n",
       "    </tr>\n",
       "  </tbody>\n",
       "</table>\n",
       "</div>"
      ],
      "text/plain": [
       "          date_crawled  price vehicle_type  registration_year gear_box  power  \\\n",
       "0  2016-03-24 11:52:17    480          NaN               1993   manual      0   \n",
       "1  2016-03-24 10:58:45  18300        coupe               2011   manual    190   \n",
       "2  2016-03-14 12:52:21   9800          suv               2004     auto    163   \n",
       "3  2016-03-17 16:54:04   1500        small               2001   manual     75   \n",
       "4  2016-03-31 17:25:20   3600        small               2008   manual     69   \n",
       "\n",
       "   model  kilometer  registration_mounth fuel_type       brand repaired  \\\n",
       "0   golf     150000                    0    petrol  volkswagen      NaN   \n",
       "1    NaN     125000                    5  gasoline        audi      yes   \n",
       "2  grand     125000                    8  gasoline        jeep      NaN   \n",
       "3   golf     150000                    6    petrol  volkswagen       no   \n",
       "4  fabia      90000                    7  gasoline       skoda       no   \n",
       "\n",
       "          date_created  number_of_pictures  postal_code            last_seen  \n",
       "0  2016-03-24 00:00:00                   0        70435  2016-04-07 03:16:57  \n",
       "1  2016-03-24 00:00:00                   0        66954  2016-04-07 01:46:50  \n",
       "2  2016-03-14 00:00:00                   0        90480  2016-04-05 12:47:46  \n",
       "3  2016-03-17 00:00:00                   0        91074  2016-03-17 17:40:17  \n",
       "4  2016-03-31 00:00:00                   0        60437  2016-04-06 10:17:21  "
      ]
     },
     "execution_count": 7,
     "metadata": {},
     "output_type": "execute_result"
    }
   ],
   "source": [
    "df.columns = ['date_crawled', 'price', 'vehicle_type', 'registration_year', 'gear_box', 'power', \n",
    "              'model', 'kilometer','registration_mounth', 'fuel_type', 'brand', 'repaired', \n",
    "              'date_created', 'number_of_pictures', 'postal_code', 'last_seen']\n",
    "df.head()"
   ]
  },
  {
   "cell_type": "markdown",
   "metadata": {},
   "source": [
    "### Сразу заметили аномальное значение в признаке месяц, так как месяц не может быть 0 произведем соотвествующую замену"
   ]
  },
  {
   "cell_type": "code",
   "execution_count": 8,
   "metadata": {},
   "outputs": [],
   "source": [
    "df['registration_mounth'] = df['registration_mounth'].replace(0, np.nan)"
   ]
  },
  {
   "cell_type": "code",
   "execution_count": 9,
   "metadata": {},
   "outputs": [
    {
     "data": {
      "text/html": [
       "<div>\n",
       "<style scoped>\n",
       "    .dataframe tbody tr th:only-of-type {\n",
       "        vertical-align: middle;\n",
       "    }\n",
       "\n",
       "    .dataframe tbody tr th {\n",
       "        vertical-align: top;\n",
       "    }\n",
       "\n",
       "    .dataframe thead th {\n",
       "        text-align: right;\n",
       "    }\n",
       "</style>\n",
       "<table border=\"1\" class=\"dataframe\">\n",
       "  <thead>\n",
       "    <tr style=\"text-align: right;\">\n",
       "      <th></th>\n",
       "      <th>date_crawled</th>\n",
       "      <th>price</th>\n",
       "      <th>vehicle_type</th>\n",
       "      <th>registration_year</th>\n",
       "      <th>gear_box</th>\n",
       "      <th>power</th>\n",
       "      <th>model</th>\n",
       "      <th>kilometer</th>\n",
       "      <th>registration_mounth</th>\n",
       "      <th>fuel_type</th>\n",
       "      <th>brand</th>\n",
       "      <th>repaired</th>\n",
       "      <th>date_created</th>\n",
       "      <th>number_of_pictures</th>\n",
       "      <th>postal_code</th>\n",
       "      <th>last_seen</th>\n",
       "    </tr>\n",
       "  </thead>\n",
       "  <tbody>\n",
       "    <tr>\n",
       "      <th>0</th>\n",
       "      <td>2016-03-24 11:52:17</td>\n",
       "      <td>480</td>\n",
       "      <td>NaN</td>\n",
       "      <td>1993</td>\n",
       "      <td>manual</td>\n",
       "      <td>0</td>\n",
       "      <td>golf</td>\n",
       "      <td>150000</td>\n",
       "      <td>4.0</td>\n",
       "      <td>petrol</td>\n",
       "      <td>volkswagen</td>\n",
       "      <td>NaN</td>\n",
       "      <td>2016-03-24 00:00:00</td>\n",
       "      <td>0</td>\n",
       "      <td>70435</td>\n",
       "      <td>2016-04-07 03:16:57</td>\n",
       "    </tr>\n",
       "    <tr>\n",
       "      <th>1</th>\n",
       "      <td>2016-03-24 10:58:45</td>\n",
       "      <td>18300</td>\n",
       "      <td>coupe</td>\n",
       "      <td>2011</td>\n",
       "      <td>manual</td>\n",
       "      <td>190</td>\n",
       "      <td>NaN</td>\n",
       "      <td>125000</td>\n",
       "      <td>5.0</td>\n",
       "      <td>gasoline</td>\n",
       "      <td>audi</td>\n",
       "      <td>yes</td>\n",
       "      <td>2016-03-24 00:00:00</td>\n",
       "      <td>0</td>\n",
       "      <td>66954</td>\n",
       "      <td>2016-04-07 01:46:50</td>\n",
       "    </tr>\n",
       "    <tr>\n",
       "      <th>2</th>\n",
       "      <td>2016-03-14 12:52:21</td>\n",
       "      <td>9800</td>\n",
       "      <td>suv</td>\n",
       "      <td>2004</td>\n",
       "      <td>auto</td>\n",
       "      <td>163</td>\n",
       "      <td>grand</td>\n",
       "      <td>125000</td>\n",
       "      <td>8.0</td>\n",
       "      <td>gasoline</td>\n",
       "      <td>jeep</td>\n",
       "      <td>NaN</td>\n",
       "      <td>2016-03-14 00:00:00</td>\n",
       "      <td>0</td>\n",
       "      <td>90480</td>\n",
       "      <td>2016-04-05 12:47:46</td>\n",
       "    </tr>\n",
       "    <tr>\n",
       "      <th>3</th>\n",
       "      <td>2016-03-17 16:54:04</td>\n",
       "      <td>1500</td>\n",
       "      <td>small</td>\n",
       "      <td>2001</td>\n",
       "      <td>manual</td>\n",
       "      <td>75</td>\n",
       "      <td>golf</td>\n",
       "      <td>150000</td>\n",
       "      <td>6.0</td>\n",
       "      <td>petrol</td>\n",
       "      <td>volkswagen</td>\n",
       "      <td>no</td>\n",
       "      <td>2016-03-17 00:00:00</td>\n",
       "      <td>0</td>\n",
       "      <td>91074</td>\n",
       "      <td>2016-03-17 17:40:17</td>\n",
       "    </tr>\n",
       "    <tr>\n",
       "      <th>4</th>\n",
       "      <td>2016-03-31 17:25:20</td>\n",
       "      <td>3600</td>\n",
       "      <td>small</td>\n",
       "      <td>2008</td>\n",
       "      <td>manual</td>\n",
       "      <td>69</td>\n",
       "      <td>fabia</td>\n",
       "      <td>90000</td>\n",
       "      <td>7.0</td>\n",
       "      <td>gasoline</td>\n",
       "      <td>skoda</td>\n",
       "      <td>no</td>\n",
       "      <td>2016-03-31 00:00:00</td>\n",
       "      <td>0</td>\n",
       "      <td>60437</td>\n",
       "      <td>2016-04-06 10:17:21</td>\n",
       "    </tr>\n",
       "  </tbody>\n",
       "</table>\n",
       "</div>"
      ],
      "text/plain": [
       "          date_crawled  price vehicle_type  registration_year gear_box  power  \\\n",
       "0  2016-03-24 11:52:17    480          NaN               1993   manual      0   \n",
       "1  2016-03-24 10:58:45  18300        coupe               2011   manual    190   \n",
       "2  2016-03-14 12:52:21   9800          suv               2004     auto    163   \n",
       "3  2016-03-17 16:54:04   1500        small               2001   manual     75   \n",
       "4  2016-03-31 17:25:20   3600        small               2008   manual     69   \n",
       "\n",
       "   model  kilometer  registration_mounth fuel_type       brand repaired  \\\n",
       "0   golf     150000                  4.0    petrol  volkswagen      NaN   \n",
       "1    NaN     125000                  5.0  gasoline        audi      yes   \n",
       "2  grand     125000                  8.0  gasoline        jeep      NaN   \n",
       "3   golf     150000                  6.0    petrol  volkswagen       no   \n",
       "4  fabia      90000                  7.0  gasoline       skoda       no   \n",
       "\n",
       "          date_created  number_of_pictures  postal_code            last_seen  \n",
       "0  2016-03-24 00:00:00                   0        70435  2016-04-07 03:16:57  \n",
       "1  2016-03-24 00:00:00                   0        66954  2016-04-07 01:46:50  \n",
       "2  2016-03-14 00:00:00                   0        90480  2016-04-05 12:47:46  \n",
       "3  2016-03-17 00:00:00                   0        91074  2016-03-17 17:40:17  \n",
       "4  2016-03-31 00:00:00                   0        60437  2016-04-06 10:17:21  "
      ]
     },
     "execution_count": 9,
     "metadata": {},
     "output_type": "execute_result"
    }
   ],
   "source": [
    "df['registration_mounth'] = df['registration_mounth'].fillna(random.choice([1, 2, 3, 4, 6, 7, 8, 9, 10, 11, 12]))\n",
    "df.head()"
   ]
  },
  {
   "cell_type": "markdown",
   "metadata": {},
   "source": [
    "### Проверим через цикл кол-во и процент пропусков в наших признаков"
   ]
  },
  {
   "cell_type": "code",
   "execution_count": 10,
   "metadata": {},
   "outputs": [
    {
     "name": "stdout",
     "output_type": "stream",
     "text": [
      "Кол-во пропусков date_crawled равняется 0\n",
      "В процентах пропуски равняются: 0.0 %\n",
      "\n",
      "Кол-во пропусков price равняется 0\n",
      "В процентах пропуски равняются: 0.0 %\n",
      "\n",
      "Кол-во пропусков vehicle_type равняется 37490\n",
      "В процентах пропуски равняются: 10.57936783409384 %\n",
      "\n",
      "Кол-во пропусков registration_year равняется 0\n",
      "В процентах пропуски равняются: 0.0 %\n",
      "\n",
      "Кол-во пропусков gear_box равняется 19833\n",
      "В процентах пропуски равняются: 5.596708515699737 %\n",
      "\n",
      "Кол-во пропусков power равняется 0\n",
      "В процентах пропуски равняются: 0.0 %\n",
      "\n",
      "Кол-во пропусков model равняется 19705\n",
      "В процентах пропуски равняются: 5.560587974681758 %\n",
      "\n",
      "Кол-во пропусков kilometer равняется 0\n",
      "В процентах пропуски равняются: 0.0 %\n",
      "\n",
      "Кол-во пропусков registration_mounth равняется 0\n",
      "В процентах пропуски равняются: 0.0 %\n",
      "\n",
      "Кол-во пропусков fuel_type равняется 32895\n",
      "В процентах пропуски равняются: 9.282696849893755 %\n",
      "\n",
      "Кол-во пропусков brand равняется 0\n",
      "В процентах пропуски равняются: 0.0 %\n",
      "\n",
      "Кол-во пропусков repaired равняется 71154\n",
      "В процентах пропуски равняются: 20.079070121822166 %\n",
      "\n",
      "Кол-во пропусков date_created равняется 0\n",
      "В процентах пропуски равняются: 0.0 %\n",
      "\n",
      "Кол-во пропусков number_of_pictures равняется 0\n",
      "В процентах пропуски равняются: 0.0 %\n",
      "\n",
      "Кол-во пропусков postal_code равняется 0\n",
      "В процентах пропуски равняются: 0.0 %\n",
      "\n",
      "Кол-во пропусков last_seen равняется 0\n",
      "В процентах пропуски равняются: 0.0 %\n",
      "\n"
     ]
    }
   ],
   "source": [
    "for x in df.columns:\n",
    "    print(\"Кол-во пропусков\", x, \"равняется\", df[x].isna().sum())\n",
    "    print(\"В процентах пропуски равняются:\", df[x].isna().sum()/len(df[x]) * 100, \"%\")\n",
    "    print()"
   ]
  },
  {
   "cell_type": "markdown",
   "metadata": {},
   "source": [
    "### Поставим заглушку для наших пропусков в признаках"
   ]
  },
  {
   "cell_type": "code",
   "execution_count": 11,
   "metadata": {
    "scrolled": true
   },
   "outputs": [
    {
     "data": {
      "text/html": [
       "<div>\n",
       "<style scoped>\n",
       "    .dataframe tbody tr th:only-of-type {\n",
       "        vertical-align: middle;\n",
       "    }\n",
       "\n",
       "    .dataframe tbody tr th {\n",
       "        vertical-align: top;\n",
       "    }\n",
       "\n",
       "    .dataframe thead th {\n",
       "        text-align: right;\n",
       "    }\n",
       "</style>\n",
       "<table border=\"1\" class=\"dataframe\">\n",
       "  <thead>\n",
       "    <tr style=\"text-align: right;\">\n",
       "      <th></th>\n",
       "      <th>date_crawled</th>\n",
       "      <th>price</th>\n",
       "      <th>vehicle_type</th>\n",
       "      <th>registration_year</th>\n",
       "      <th>gear_box</th>\n",
       "      <th>power</th>\n",
       "      <th>model</th>\n",
       "      <th>kilometer</th>\n",
       "      <th>registration_mounth</th>\n",
       "      <th>fuel_type</th>\n",
       "      <th>brand</th>\n",
       "      <th>repaired</th>\n",
       "      <th>date_created</th>\n",
       "      <th>number_of_pictures</th>\n",
       "      <th>postal_code</th>\n",
       "      <th>last_seen</th>\n",
       "    </tr>\n",
       "  </thead>\n",
       "  <tbody>\n",
       "    <tr>\n",
       "      <th>0</th>\n",
       "      <td>2016-03-24 11:52:17</td>\n",
       "      <td>480</td>\n",
       "      <td>-1</td>\n",
       "      <td>1993</td>\n",
       "      <td>manual</td>\n",
       "      <td>0</td>\n",
       "      <td>golf</td>\n",
       "      <td>150000</td>\n",
       "      <td>4.0</td>\n",
       "      <td>petrol</td>\n",
       "      <td>volkswagen</td>\n",
       "      <td>-1</td>\n",
       "      <td>2016-03-24 00:00:00</td>\n",
       "      <td>0</td>\n",
       "      <td>70435</td>\n",
       "      <td>2016-04-07 03:16:57</td>\n",
       "    </tr>\n",
       "    <tr>\n",
       "      <th>1</th>\n",
       "      <td>2016-03-24 10:58:45</td>\n",
       "      <td>18300</td>\n",
       "      <td>coupe</td>\n",
       "      <td>2011</td>\n",
       "      <td>manual</td>\n",
       "      <td>190</td>\n",
       "      <td>-1</td>\n",
       "      <td>125000</td>\n",
       "      <td>5.0</td>\n",
       "      <td>gasoline</td>\n",
       "      <td>audi</td>\n",
       "      <td>yes</td>\n",
       "      <td>2016-03-24 00:00:00</td>\n",
       "      <td>0</td>\n",
       "      <td>66954</td>\n",
       "      <td>2016-04-07 01:46:50</td>\n",
       "    </tr>\n",
       "    <tr>\n",
       "      <th>2</th>\n",
       "      <td>2016-03-14 12:52:21</td>\n",
       "      <td>9800</td>\n",
       "      <td>suv</td>\n",
       "      <td>2004</td>\n",
       "      <td>auto</td>\n",
       "      <td>163</td>\n",
       "      <td>grand</td>\n",
       "      <td>125000</td>\n",
       "      <td>8.0</td>\n",
       "      <td>gasoline</td>\n",
       "      <td>jeep</td>\n",
       "      <td>-1</td>\n",
       "      <td>2016-03-14 00:00:00</td>\n",
       "      <td>0</td>\n",
       "      <td>90480</td>\n",
       "      <td>2016-04-05 12:47:46</td>\n",
       "    </tr>\n",
       "    <tr>\n",
       "      <th>3</th>\n",
       "      <td>2016-03-17 16:54:04</td>\n",
       "      <td>1500</td>\n",
       "      <td>small</td>\n",
       "      <td>2001</td>\n",
       "      <td>manual</td>\n",
       "      <td>75</td>\n",
       "      <td>golf</td>\n",
       "      <td>150000</td>\n",
       "      <td>6.0</td>\n",
       "      <td>petrol</td>\n",
       "      <td>volkswagen</td>\n",
       "      <td>no</td>\n",
       "      <td>2016-03-17 00:00:00</td>\n",
       "      <td>0</td>\n",
       "      <td>91074</td>\n",
       "      <td>2016-03-17 17:40:17</td>\n",
       "    </tr>\n",
       "    <tr>\n",
       "      <th>4</th>\n",
       "      <td>2016-03-31 17:25:20</td>\n",
       "      <td>3600</td>\n",
       "      <td>small</td>\n",
       "      <td>2008</td>\n",
       "      <td>manual</td>\n",
       "      <td>69</td>\n",
       "      <td>fabia</td>\n",
       "      <td>90000</td>\n",
       "      <td>7.0</td>\n",
       "      <td>gasoline</td>\n",
       "      <td>skoda</td>\n",
       "      <td>no</td>\n",
       "      <td>2016-03-31 00:00:00</td>\n",
       "      <td>0</td>\n",
       "      <td>60437</td>\n",
       "      <td>2016-04-06 10:17:21</td>\n",
       "    </tr>\n",
       "  </tbody>\n",
       "</table>\n",
       "</div>"
      ],
      "text/plain": [
       "          date_crawled  price vehicle_type  registration_year gear_box  power  \\\n",
       "0  2016-03-24 11:52:17    480           -1               1993   manual      0   \n",
       "1  2016-03-24 10:58:45  18300        coupe               2011   manual    190   \n",
       "2  2016-03-14 12:52:21   9800          suv               2004     auto    163   \n",
       "3  2016-03-17 16:54:04   1500        small               2001   manual     75   \n",
       "4  2016-03-31 17:25:20   3600        small               2008   manual     69   \n",
       "\n",
       "   model  kilometer  registration_mounth fuel_type       brand repaired  \\\n",
       "0   golf     150000                  4.0    petrol  volkswagen       -1   \n",
       "1     -1     125000                  5.0  gasoline        audi      yes   \n",
       "2  grand     125000                  8.0  gasoline        jeep       -1   \n",
       "3   golf     150000                  6.0    petrol  volkswagen       no   \n",
       "4  fabia      90000                  7.0  gasoline       skoda       no   \n",
       "\n",
       "          date_created  number_of_pictures  postal_code            last_seen  \n",
       "0  2016-03-24 00:00:00                   0        70435  2016-04-07 03:16:57  \n",
       "1  2016-03-24 00:00:00                   0        66954  2016-04-07 01:46:50  \n",
       "2  2016-03-14 00:00:00                   0        90480  2016-04-05 12:47:46  \n",
       "3  2016-03-17 00:00:00                   0        91074  2016-03-17 17:40:17  \n",
       "4  2016-03-31 00:00:00                   0        60437  2016-04-06 10:17:21  "
      ]
     },
     "execution_count": 11,
     "metadata": {},
     "output_type": "execute_result"
    }
   ],
   "source": [
    "colm_to_replace = ['vehicle_type', 'gear_box', 'model', 'fuel_type', 'repaired']\n",
    "for x in colm_to_replace:\n",
    "    df[x] = df[x].fillna(\"-1\")\n",
    "df.head()"
   ]
  },
  {
   "cell_type": "markdown",
   "metadata": {},
   "source": [
    "### Проверим дубликаты в датасете и произведем по необходимости их очистку"
   ]
  },
  {
   "cell_type": "code",
   "execution_count": 12,
   "metadata": {},
   "outputs": [
    {
     "name": "stdout",
     "output_type": "stream",
     "text": [
      "Кол-во дублирующих записей: 4\n",
      "Кол-во записей до избавления от дублирующих записей: 354369\n",
      "Кол-во записей после избавления от дублирующих записей: 354365\n"
     ]
    }
   ],
   "source": [
    "print('Кол-во дублирующих записей:', df.duplicated().sum())\n",
    "print('Кол-во записей до избавления от дублирующих записей:',df.shape[0])\n",
    "\n",
    "df = df.drop_duplicates().reset_index(drop=True)\n",
    "\n",
    "print('Кол-во записей после избавления от дублирующих записей:',df.shape[0])"
   ]
  },
  {
   "cell_type": "markdown",
   "metadata": {},
   "source": [
    "### Введем визуальное представление наших численных данных, чтобы найти потенциальные аномалии"
   ]
  },
  {
   "cell_type": "code",
   "execution_count": 13,
   "metadata": {},
   "outputs": [
    {
     "data": {
      "image/png": "[encoded data removed]",
      "text/plain": [
       "<Figure size 1080x21.6 with 1 Axes>"
      ]
     },
     "metadata": {},
     "output_type": "display_data"
    },
    {
     "data": {
      "image/png": "[encoded data removed]",
      "text/plain": [
       "<Figure size 1080x216 with 1 Axes>"
      ]
     },
     "metadata": {},
     "output_type": "display_data"
    },
    {
     "data": {
      "image/png": "[encoded data removed]",
      "text/plain": [
       "<Figure size 1080x21.6 with 1 Axes>"
      ]
     },
     "metadata": {},
     "output_type": "display_data"
    },
    {
     "data": {
      "image/png": "[encoded data removed]",
      "text/plain": [
       "<Figure size 1080x216 with 1 Axes>"
      ]
     },
     "metadata": {},
     "output_type": "display_data"
    },
    {
     "data": {
      "image/png": "[encoded data removed]",
      "text/plain": [
       "<Figure size 1080x21.6 with 1 Axes>"
      ]
     },
     "metadata": {},
     "output_type": "display_data"
    },
    {
     "data": {
      "image/png": "[encoded data removed]",
      "text/plain": [
       "<Figure size 1080x216 with 1 Axes>"
      ]
     },
     "metadata": {},
     "output_type": "display_data"
    }
   ],
   "source": [
    "digits_columns = ['price', 'registration_year', 'power']\n",
    "for i in df[digits_columns]:\n",
    "    plt.figure(figsize=(15,.3))\n",
    "    sns.boxplot(df[i])\n",
    "    plt.show()\n",
    "    plt.figure(figsize=(15,3))\n",
    "    sns.distplot(df[i])\n",
    "    plt.show()"
   ]
  },
  {
   "cell_type": "markdown",
   "metadata": {},
   "source": [
    "### Создадим копию нашего датасета и будем работать с ней в дальнейшем"
   ]
  },
  {
   "cell_type": "code",
   "execution_count": 14,
   "metadata": {},
   "outputs": [],
   "source": [
    "df_dub = df.copy()"
   ]
  },
  {
   "cell_type": "markdown",
   "metadata": {},
   "source": [
    "### Исправим аномалии в признаке - регистрационный год"
   ]
  },
  {
   "cell_type": "code",
   "execution_count": 15,
   "metadata": {},
   "outputs": [
    {
     "data": {
      "image/png": "[encoded data removed]",
      "text/plain": [
       "<Figure size 432x288 with 1 Axes>"
      ]
     },
     "metadata": {},
     "output_type": "display_data"
    }
   ],
   "source": [
    "sns.boxplot(df_dub[\"registration_year\"]);"
   ]
  },
  {
   "cell_type": "markdown",
   "metadata": {},
   "source": [
    "### Посмотрим на год, который был максимальным вытащенным из базы данных"
   ]
  },
  {
   "cell_type": "code",
   "execution_count": 16,
   "metadata": {},
   "outputs": [
    {
     "data": {
      "text/plain": [
       "'2016-04-07 14:36:58'"
      ]
     },
     "execution_count": 16,
     "metadata": {},
     "output_type": "execute_result"
    }
   ],
   "source": [
    "df_dub[\"date_crawled\"].max()"
   ]
  },
  {
   "cell_type": "markdown",
   "metadata": {},
   "source": [
    "### Обработаем аномалии"
   ]
  },
  {
   "cell_type": "code",
   "execution_count": 17,
   "metadata": {},
   "outputs": [],
   "source": [
    "df_dub = df_dub.query('1900 <= registration_year <= 2016')"
   ]
  },
  {
   "cell_type": "code",
   "execution_count": 18,
   "metadata": {},
   "outputs": [
    {
     "data": {
      "image/png": "[encoded data removed]",
      "text/plain": [
       "<Figure size 432x288 with 1 Axes>"
      ]
     },
     "metadata": {},
     "output_type": "display_data"
    }
   ],
   "source": [
    "sns.boxplot(df_dub['registration_year']);"
   ]
  },
  {
   "cell_type": "markdown",
   "metadata": {},
   "source": [
    "### Проверим долю признака registration_year после обработки аномалий"
   ]
  },
  {
   "cell_type": "code",
   "execution_count": 19,
   "metadata": {},
   "outputs": [
    {
     "name": "stdout",
     "output_type": "stream",
     "text": [
      "Доля данных, которые были удалены в ходе обработки аномалий: 0.04118916935927641 %\n"
     ]
    }
   ],
   "source": [
    "print(\"Доля данных, которые были удалены в ходе обработки аномалий:\", 1 - (df_dub.shape[0] / df.shape[0]), \"%\")"
   ]
  },
  {
   "cell_type": "markdown",
   "metadata": {},
   "source": [
    "### Произведем обработку данных для признаков 'price' и 'power'"
   ]
  },
  {
   "cell_type": "code",
   "execution_count": 20,
   "metadata": {},
   "outputs": [],
   "source": [
    "df_dub = df_dub.query('power > 20')"
   ]
  },
  {
   "cell_type": "code",
   "execution_count": 21,
   "metadata": {},
   "outputs": [],
   "source": [
    "df_dub = df_dub.query('price > 400')"
   ]
  },
  {
   "cell_type": "code",
   "execution_count": 22,
   "metadata": {},
   "outputs": [
    {
     "data": {
      "image/png": "[encoded data removed]",
      "text/plain": [
       "<Figure size 432x288 with 1 Axes>"
      ]
     },
     "metadata": {},
     "output_type": "display_data"
    }
   ],
   "source": [
    "sns.boxplot(df_dub['power']);"
   ]
  },
  {
   "cell_type": "code",
   "execution_count": 23,
   "metadata": {},
   "outputs": [
    {
     "data": {
      "image/png": "[encoded data removed]",
      "text/plain": [
       "<Figure size 432x288 with 1 Axes>"
      ]
     },
     "metadata": {},
     "output_type": "display_data"
    }
   ],
   "source": [
    "sns.boxplot(df_dub['price']);"
   ]
  },
  {
   "cell_type": "markdown",
   "metadata": {},
   "source": [
    "### Проверим измененые минимальные значения в признаках"
   ]
  },
  {
   "cell_type": "code",
   "execution_count": 24,
   "metadata": {},
   "outputs": [
    {
     "data": {
      "text/html": [
       "<div>\n",
       "<style scoped>\n",
       "    .dataframe tbody tr th:only-of-type {\n",
       "        vertical-align: middle;\n",
       "    }\n",
       "\n",
       "    .dataframe tbody tr th {\n",
       "        vertical-align: top;\n",
       "    }\n",
       "\n",
       "    .dataframe thead th {\n",
       "        text-align: right;\n",
       "    }\n",
       "</style>\n",
       "<table border=\"1\" class=\"dataframe\">\n",
       "  <thead>\n",
       "    <tr style=\"text-align: right;\">\n",
       "      <th></th>\n",
       "      <th>price</th>\n",
       "      <th>registration_year</th>\n",
       "      <th>power</th>\n",
       "      <th>kilometer</th>\n",
       "      <th>registration_mounth</th>\n",
       "      <th>number_of_pictures</th>\n",
       "      <th>postal_code</th>\n",
       "    </tr>\n",
       "  </thead>\n",
       "  <tbody>\n",
       "    <tr>\n",
       "      <th>count</th>\n",
       "      <td>282006.000000</td>\n",
       "      <td>282006.000000</td>\n",
       "      <td>282006.000000</td>\n",
       "      <td>282006.000000</td>\n",
       "      <td>282006.000000</td>\n",
       "      <td>282006.0</td>\n",
       "      <td>282006.000000</td>\n",
       "    </tr>\n",
       "    <tr>\n",
       "      <th>mean</th>\n",
       "      <td>5089.688244</td>\n",
       "      <td>2003.044212</td>\n",
       "      <td>126.387517</td>\n",
       "      <td>127877.864301</td>\n",
       "      <td>6.269771</td>\n",
       "      <td>0.0</td>\n",
       "      <td>51403.024634</td>\n",
       "    </tr>\n",
       "    <tr>\n",
       "      <th>std</th>\n",
       "      <td>4607.081058</td>\n",
       "      <td>6.449093</td>\n",
       "      <td>191.458392</td>\n",
       "      <td>36823.387307</td>\n",
       "      <td>3.301216</td>\n",
       "      <td>0.0</td>\n",
       "      <td>25732.857948</td>\n",
       "    </tr>\n",
       "    <tr>\n",
       "      <th>min</th>\n",
       "      <td>408.000000</td>\n",
       "      <td>1910.000000</td>\n",
       "      <td>21.000000</td>\n",
       "      <td>5000.000000</td>\n",
       "      <td>1.000000</td>\n",
       "      <td>0.0</td>\n",
       "      <td>1067.000000</td>\n",
       "    </tr>\n",
       "    <tr>\n",
       "      <th>25%</th>\n",
       "      <td>1500.000000</td>\n",
       "      <td>1999.000000</td>\n",
       "      <td>82.000000</td>\n",
       "      <td>125000.000000</td>\n",
       "      <td>4.000000</td>\n",
       "      <td>0.0</td>\n",
       "      <td>31134.000000</td>\n",
       "    </tr>\n",
       "    <tr>\n",
       "      <th>50%</th>\n",
       "      <td>3499.000000</td>\n",
       "      <td>2003.000000</td>\n",
       "      <td>116.000000</td>\n",
       "      <td>150000.000000</td>\n",
       "      <td>6.000000</td>\n",
       "      <td>0.0</td>\n",
       "      <td>50672.000000</td>\n",
       "    </tr>\n",
       "    <tr>\n",
       "      <th>75%</th>\n",
       "      <td>7300.000000</td>\n",
       "      <td>2007.000000</td>\n",
       "      <td>150.000000</td>\n",
       "      <td>150000.000000</td>\n",
       "      <td>9.000000</td>\n",
       "      <td>0.0</td>\n",
       "      <td>72175.000000</td>\n",
       "    </tr>\n",
       "    <tr>\n",
       "      <th>max</th>\n",
       "      <td>20000.000000</td>\n",
       "      <td>2016.000000</td>\n",
       "      <td>20000.000000</td>\n",
       "      <td>150000.000000</td>\n",
       "      <td>12.000000</td>\n",
       "      <td>0.0</td>\n",
       "      <td>99998.000000</td>\n",
       "    </tr>\n",
       "  </tbody>\n",
       "</table>\n",
       "</div>"
      ],
      "text/plain": [
       "               price  registration_year          power      kilometer  \\\n",
       "count  282006.000000      282006.000000  282006.000000  282006.000000   \n",
       "mean     5089.688244        2003.044212     126.387517  127877.864301   \n",
       "std      4607.081058           6.449093     191.458392   36823.387307   \n",
       "min       408.000000        1910.000000      21.000000    5000.000000   \n",
       "25%      1500.000000        1999.000000      82.000000  125000.000000   \n",
       "50%      3499.000000        2003.000000     116.000000  150000.000000   \n",
       "75%      7300.000000        2007.000000     150.000000  150000.000000   \n",
       "max     20000.000000        2016.000000   20000.000000  150000.000000   \n",
       "\n",
       "       registration_mounth  number_of_pictures    postal_code  \n",
       "count        282006.000000            282006.0  282006.000000  \n",
       "mean              6.269771                 0.0   51403.024634  \n",
       "std               3.301216                 0.0   25732.857948  \n",
       "min               1.000000                 0.0    1067.000000  \n",
       "25%               4.000000                 0.0   31134.000000  \n",
       "50%               6.000000                 0.0   50672.000000  \n",
       "75%               9.000000                 0.0   72175.000000  \n",
       "max              12.000000                 0.0   99998.000000  "
      ]
     },
     "execution_count": 24,
     "metadata": {},
     "output_type": "execute_result"
    }
   ],
   "source": [
    "df_dub.describe()"
   ]
  },
  {
   "cell_type": "markdown",
   "metadata": {},
   "source": [
    "### Удаляем лишние и ненужные признаки"
   ]
  },
  {
   "cell_type": "code",
   "execution_count": 25,
   "metadata": {},
   "outputs": [],
   "source": [
    "df_dub = df_dub.drop([\"date_crawled\", \"date_created\", \"last_seen\", \"postal_code\", 'number_of_pictures'], axis=1)"
   ]
  },
  {
   "cell_type": "code",
   "execution_count": 26,
   "metadata": {},
   "outputs": [],
   "source": [
    "df = df.drop([\"date_crawled\", \"date_created\", \"last_seen\", \"postal_code\", 'number_of_pictures'], axis=1)"
   ]
  },
  {
   "cell_type": "markdown",
   "metadata": {},
   "source": [
    "### Проведем проверку сохраности наших данных"
   ]
  },
  {
   "cell_type": "code",
   "execution_count": 27,
   "metadata": {},
   "outputs": [
    {
     "name": "stdout",
     "output_type": "stream",
     "text": [
      "Доля исходных данных, которые остались после обработки аномалий: 79.58065836072976 %\n"
     ]
    }
   ],
   "source": [
    "print(\"Доля исходных данных, которые остались после обработки аномалий:\", df_dub.shape[0] / df.shape[0] * 100, \"%\")"
   ]
  },
  {
   "cell_type": "markdown",
   "metadata": {},
   "source": [
    "### Выводы по первичному анализу"
   ]
  },
  {
   "cell_type": "markdown",
   "metadata": {},
   "source": [
    "1. Были обнаружены пропуски в данных, для которых мы решили поставить заглушку в качестве обработки пропусков\n",
    "2. Было обнаружено аномальное значение в столбце месяц - \"0\", для которого замена была на случайный месяц\n",
    "3. Были приведены к правильному оформлению названия столбцов-признаков (через нижний и змеинный регистр)\n",
    "4. Наибольшее кол-во пропусков в признаке repaired (~20%)\n",
    "5. Признаки в датасете как количественные, так и категориальные. Что сведетельствует о том, что к данным должна быть приведена техника One-Hot-Encoding (OHT), OE и масштабирование данных.\n",
    "6. Не все признаки нам будут нужны для обучения моделей, и в датасете присутствуют признаки, которые должны были быть представленны как datetime\n",
    "\n",
    "1. Видем сразу, что у нас есть такая численная категория в признаке 'registration_mounth' как ноль. Что сведетельствует об потенциальной аномалии\n",
    "2. На графике четко прослеживается то, что такие признаки как 'power', 'registration_year' и 'number_of_pictures' имеют одинаково распределение своих данных (в один столбец)\n",
    "3. Видем, что для признака 'price' наибольшее кол-во признаков лежит ближе к нулю, и с последующим увелечением признака, данных все меньше. В то время как в признаке 'kilometer' мы видем сразу огромное распределение данных в 140000\n",
    "10. Были обнаружены дубликаты и от них мы решили избавиться."
   ]
  },
  {
   "cell_type": "markdown",
   "metadata": {},
   "source": [
    "****"
   ]
  },
  {
   "cell_type": "markdown",
   "metadata": {},
   "source": [
    "## Обучение моделей"
   ]
  },
  {
   "cell_type": "markdown",
   "metadata": {},
   "source": [
    "### Разделим признаки и целевой признак"
   ]
  },
  {
   "cell_type": "code",
   "execution_count": 28,
   "metadata": {},
   "outputs": [],
   "source": [
    "X = df_dub.drop([\"price\"], axis=1)\n",
    "y = df_dub['price']"
   ]
  },
  {
   "cell_type": "markdown",
   "metadata": {},
   "source": [
    "### Разделим на обучающую, валидационную и тренировочную выборки в соотношении 3:1:1"
   ]
  },
  {
   "cell_type": "code",
   "execution_count": 29,
   "metadata": {},
   "outputs": [],
   "source": [
    "X_train, X_test, y_train, y_test = train_test_split(X, y, train_size=0.6, random_state=42)"
   ]
  },
  {
   "cell_type": "code",
   "execution_count": 30,
   "metadata": {},
   "outputs": [],
   "source": [
    "X_test, X_validate, y_test, y_validate = train_test_split(X_test, y_test, train_size=0.5, random_state=42)"
   ]
  },
  {
   "cell_type": "markdown",
   "metadata": {},
   "source": [
    "### Проверим корретность разделенных выборок"
   ]
  },
  {
   "cell_type": "code",
   "execution_count": 31,
   "metadata": {},
   "outputs": [
    {
     "data": {
      "text/plain": [
       "(169203, 10)"
      ]
     },
     "execution_count": 31,
     "metadata": {},
     "output_type": "execute_result"
    }
   ],
   "source": [
    "X_train.shape"
   ]
  },
  {
   "cell_type": "code",
   "execution_count": 32,
   "metadata": {},
   "outputs": [
    {
     "data": {
      "text/plain": [
       "(56401, 10)"
      ]
     },
     "execution_count": 32,
     "metadata": {},
     "output_type": "execute_result"
    }
   ],
   "source": [
    "X_test.shape"
   ]
  },
  {
   "cell_type": "code",
   "execution_count": 33,
   "metadata": {},
   "outputs": [
    {
     "data": {
      "text/plain": [
       "(56402, 10)"
      ]
     },
     "execution_count": 33,
     "metadata": {},
     "output_type": "execute_result"
    }
   ],
   "source": [
    "X_validate.shape"
   ]
  },
  {
   "cell_type": "markdown",
   "metadata": {},
   "source": [
    "### Применим технику OrdinalEncoder (OE)"
   ]
  },
  {
   "cell_type": "code",
   "execution_count": 34,
   "metadata": {},
   "outputs": [],
   "source": [
    "encoder = OrdinalEncoder(handle_unknown='ignore')\n",
    "\n",
    "cat_columns = ['vehicle_type', 'gear_box', 'model',  'fuel_type', 'brand', 'repaired']\n",
    "\n",
    "X_train_oe = X_train.copy()\n",
    "X_test_oe = X_test.copy()\n",
    "X_validate_oe = X_validate.copy()\n",
    "\n",
    "\n",
    "X_train_oe[cat_columns] = encoder.fit_transform(X_train[cat_columns])\n",
    "X_test_oe[cat_columns] = encoder.transform(X_test[cat_columns])\n",
    "X_validate_oe[cat_columns] = encoder.transform(X_validate[cat_columns])"
   ]
  },
  {
   "cell_type": "markdown",
   "metadata": {},
   "source": [
    "### Проверим корретность разделенных выборок для OrdinalEncoder (OE)"
   ]
  },
  {
   "cell_type": "code",
   "execution_count": 35,
   "metadata": {},
   "outputs": [
    {
     "data": {
      "text/plain": [
       "(169203, 10)"
      ]
     },
     "execution_count": 35,
     "metadata": {},
     "output_type": "execute_result"
    }
   ],
   "source": [
    "X_train_oe.shape"
   ]
  },
  {
   "cell_type": "code",
   "execution_count": 36,
   "metadata": {},
   "outputs": [
    {
     "data": {
      "text/plain": [
       "(56401, 10)"
      ]
     },
     "execution_count": 36,
     "metadata": {},
     "output_type": "execute_result"
    }
   ],
   "source": [
    "X_test_oe.shape"
   ]
  },
  {
   "cell_type": "code",
   "execution_count": 37,
   "metadata": {},
   "outputs": [
    {
     "data": {
      "text/plain": [
       "(56402, 10)"
      ]
     },
     "execution_count": 37,
     "metadata": {},
     "output_type": "execute_result"
    }
   ],
   "source": [
    "X_validate_oe.shape"
   ]
  },
  {
   "cell_type": "raw",
   "metadata": {},
   "source": [
    "#КОД РЕВЬЮЕРА\n",
    "\n",
    "from sklearn.preprocessing import OrdinalEncoder\n",
    "\n",
    "encoder = OrdinalEncoder(handle_unknown='ignore')\n",
    "\n",
    "cat_columns = ['список', 'категориальных', 'признаков']\n",
    "\n",
    "features_train_oe = features_train.copy()\n",
    "features_test_oe = features_test.copy()\n",
    "\n",
    "features_train_oe[cat_columns] = encoder.fit_transform(features_train[cat_columns])\n",
    "features_test_oe[cat_columns] = encoder.transform(features_test[cat_columns])"
   ]
  },
  {
   "cell_type": "markdown",
   "metadata": {},
   "source": [
    "# OneHotEncoder из sklearn"
   ]
  },
  {
   "cell_type": "markdown",
   "metadata": {},
   "source": [
    "### Применим технику One-Hot-Encoding (OHT)"
   ]
  },
  {
   "cell_type": "code",
   "execution_count": 38,
   "metadata": {},
   "outputs": [],
   "source": [
    "cat = list(X_train.select_dtypes('object').columns)\n",
    "num = list(X_train.select_dtypes(exclude='object').columns)\n",
    "\n",
    "scaler = StandardScaler()\n",
    "X_train_scaled = pd.DataFrame(scaler.fit_transform(X_train[num]), columns=[num], index=X_train.index)\n",
    "X_test_scaled = pd.DataFrame(scaler.transform(X_test[num]), columns=[num], index=X_test.index)\n",
    "\n",
    "enc = OneHotEncoder(handle_unknown='ignore')\n",
    "\n",
    "X_train_ohe = enc.fit_transform(X_train[cat])\n",
    "X_test_ohe = enc.transform(X_test[cat])\n",
    "\n",
    "X_train_lr = pd.concat([X_train_scaled, pd.DataFrame(X_train_ohe.toarray(), index=X_train.index)], axis=1)\n",
    "X_test_lr  = pd.concat([X_test_scaled, pd.DataFrame(X_test_ohe.toarray(), index=X_test.index)], axis=1)"
   ]
  },
  {
   "cell_type": "code",
   "execution_count": 39,
   "metadata": {},
   "outputs": [],
   "source": [
    "X_validate_scaled = pd.DataFrame(scaler.transform(X_validate[num]), columns=[num], index=X_validate.index)\n",
    "X_validate_ohe = enc.transform(X_validate[cat])\n",
    "X_validate_lr  = pd.concat([X_validate_scaled, pd.DataFrame(X_validate_ohe.toarray(), index=X_validate.index)], axis=1)"
   ]
  },
  {
   "cell_type": "code",
   "execution_count": 40,
   "metadata": {},
   "outputs": [
    {
     "data": {
      "text/html": [
       "<div>\n",
       "<style scoped>\n",
       "    .dataframe tbody tr th:only-of-type {\n",
       "        vertical-align: middle;\n",
       "    }\n",
       "\n",
       "    .dataframe tbody tr th {\n",
       "        vertical-align: top;\n",
       "    }\n",
       "\n",
       "    .dataframe thead th {\n",
       "        text-align: right;\n",
       "    }\n",
       "</style>\n",
       "<table border=\"1\" class=\"dataframe\">\n",
       "  <thead>\n",
       "    <tr style=\"text-align: right;\">\n",
       "      <th></th>\n",
       "      <th>(registration_year,)</th>\n",
       "      <th>(power,)</th>\n",
       "      <th>(kilometer,)</th>\n",
       "      <th>(registration_mounth,)</th>\n",
       "      <th>0</th>\n",
       "      <th>1</th>\n",
       "      <th>2</th>\n",
       "      <th>3</th>\n",
       "      <th>...</th>\n",
       "      <th>304</th>\n",
       "      <th>305</th>\n",
       "      <th>306</th>\n",
       "      <th>307</th>\n",
       "      <th>308</th>\n",
       "      <th>309</th>\n",
       "      <th>310</th>\n",
       "      <th>311</th>\n",
       "    </tr>\n",
       "  </thead>\n",
       "  <tbody>\n",
       "    <tr>\n",
       "      <th>74574</th>\n",
       "      <td>-0.778860</td>\n",
       "      <td>-0.007338</td>\n",
       "      <td>0.601969</td>\n",
       "      <td>-0.080768</td>\n",
       "      <td>0.0</td>\n",
       "      <td>0.0</td>\n",
       "      <td>0.0</td>\n",
       "      <td>0.0</td>\n",
       "      <td>...</td>\n",
       "      <td>0.0</td>\n",
       "      <td>0.0</td>\n",
       "      <td>0.0</td>\n",
       "      <td>1.0</td>\n",
       "      <td>0.0</td>\n",
       "      <td>0.0</td>\n",
       "      <td>0.0</td>\n",
       "      <td>1.0</td>\n",
       "    </tr>\n",
       "    <tr>\n",
       "      <th>126596</th>\n",
       "      <td>0.302974</td>\n",
       "      <td>-0.141979</td>\n",
       "      <td>0.601969</td>\n",
       "      <td>-1.293780</td>\n",
       "      <td>0.0</td>\n",
       "      <td>0.0</td>\n",
       "      <td>0.0</td>\n",
       "      <td>0.0</td>\n",
       "      <td>...</td>\n",
       "      <td>0.0</td>\n",
       "      <td>0.0</td>\n",
       "      <td>0.0</td>\n",
       "      <td>0.0</td>\n",
       "      <td>0.0</td>\n",
       "      <td>0.0</td>\n",
       "      <td>0.0</td>\n",
       "      <td>1.0</td>\n",
       "    </tr>\n",
       "    <tr>\n",
       "      <th>333939</th>\n",
       "      <td>1.075712</td>\n",
       "      <td>-0.291580</td>\n",
       "      <td>-1.840268</td>\n",
       "      <td>0.828992</td>\n",
       "      <td>0.0</td>\n",
       "      <td>0.0</td>\n",
       "      <td>0.0</td>\n",
       "      <td>0.0</td>\n",
       "      <td>...</td>\n",
       "      <td>0.0</td>\n",
       "      <td>0.0</td>\n",
       "      <td>0.0</td>\n",
       "      <td>0.0</td>\n",
       "      <td>0.0</td>\n",
       "      <td>0.0</td>\n",
       "      <td>1.0</td>\n",
       "      <td>0.0</td>\n",
       "    </tr>\n",
       "    <tr>\n",
       "      <th>68500</th>\n",
       "      <td>-0.315217</td>\n",
       "      <td>-0.221766</td>\n",
       "      <td>-0.754829</td>\n",
       "      <td>-0.080768</td>\n",
       "      <td>0.0</td>\n",
       "      <td>0.0</td>\n",
       "      <td>0.0</td>\n",
       "      <td>0.0</td>\n",
       "      <td>...</td>\n",
       "      <td>0.0</td>\n",
       "      <td>0.0</td>\n",
       "      <td>0.0</td>\n",
       "      <td>0.0</td>\n",
       "      <td>0.0</td>\n",
       "      <td>0.0</td>\n",
       "      <td>1.0</td>\n",
       "      <td>0.0</td>\n",
       "    </tr>\n",
       "    <tr>\n",
       "      <th>341359</th>\n",
       "      <td>-0.006122</td>\n",
       "      <td>-0.082139</td>\n",
       "      <td>0.601969</td>\n",
       "      <td>1.435499</td>\n",
       "      <td>0.0</td>\n",
       "      <td>0.0</td>\n",
       "      <td>0.0</td>\n",
       "      <td>0.0</td>\n",
       "      <td>...</td>\n",
       "      <td>0.0</td>\n",
       "      <td>0.0</td>\n",
       "      <td>0.0</td>\n",
       "      <td>0.0</td>\n",
       "      <td>0.0</td>\n",
       "      <td>0.0</td>\n",
       "      <td>1.0</td>\n",
       "      <td>0.0</td>\n",
       "    </tr>\n",
       "    <tr>\n",
       "      <th>...</th>\n",
       "      <td>...</td>\n",
       "      <td>...</td>\n",
       "      <td>...</td>\n",
       "      <td>...</td>\n",
       "      <td>...</td>\n",
       "      <td>...</td>\n",
       "      <td>...</td>\n",
       "      <td>...</td>\n",
       "      <td>...</td>\n",
       "      <td>...</td>\n",
       "      <td>...</td>\n",
       "      <td>...</td>\n",
       "      <td>...</td>\n",
       "      <td>...</td>\n",
       "      <td>...</td>\n",
       "      <td>...</td>\n",
       "      <td>...</td>\n",
       "    </tr>\n",
       "    <tr>\n",
       "      <th>150583</th>\n",
       "      <td>-2.015242</td>\n",
       "      <td>-0.371367</td>\n",
       "      <td>0.601969</td>\n",
       "      <td>0.222486</td>\n",
       "      <td>0.0</td>\n",
       "      <td>0.0</td>\n",
       "      <td>0.0</td>\n",
       "      <td>0.0</td>\n",
       "      <td>...</td>\n",
       "      <td>1.0</td>\n",
       "      <td>0.0</td>\n",
       "      <td>0.0</td>\n",
       "      <td>0.0</td>\n",
       "      <td>0.0</td>\n",
       "      <td>0.0</td>\n",
       "      <td>1.0</td>\n",
       "      <td>0.0</td>\n",
       "    </tr>\n",
       "    <tr>\n",
       "      <th>325588</th>\n",
       "      <td>-0.933408</td>\n",
       "      <td>0.047515</td>\n",
       "      <td>0.601969</td>\n",
       "      <td>0.222486</td>\n",
       "      <td>0.0</td>\n",
       "      <td>0.0</td>\n",
       "      <td>0.0</td>\n",
       "      <td>0.0</td>\n",
       "      <td>...</td>\n",
       "      <td>0.0</td>\n",
       "      <td>0.0</td>\n",
       "      <td>0.0</td>\n",
       "      <td>0.0</td>\n",
       "      <td>0.0</td>\n",
       "      <td>0.0</td>\n",
       "      <td>1.0</td>\n",
       "      <td>0.0</td>\n",
       "    </tr>\n",
       "    <tr>\n",
       "      <th>165763</th>\n",
       "      <td>0.921165</td>\n",
       "      <td>-0.361393</td>\n",
       "      <td>0.601969</td>\n",
       "      <td>-1.597034</td>\n",
       "      <td>0.0</td>\n",
       "      <td>0.0</td>\n",
       "      <td>0.0</td>\n",
       "      <td>0.0</td>\n",
       "      <td>...</td>\n",
       "      <td>0.0</td>\n",
       "      <td>0.0</td>\n",
       "      <td>0.0</td>\n",
       "      <td>1.0</td>\n",
       "      <td>0.0</td>\n",
       "      <td>0.0</td>\n",
       "      <td>1.0</td>\n",
       "      <td>0.0</td>\n",
       "    </tr>\n",
       "    <tr>\n",
       "      <th>184558</th>\n",
       "      <td>0.148426</td>\n",
       "      <td>-0.122032</td>\n",
       "      <td>0.601969</td>\n",
       "      <td>-0.687274</td>\n",
       "      <td>0.0</td>\n",
       "      <td>0.0</td>\n",
       "      <td>0.0</td>\n",
       "      <td>0.0</td>\n",
       "      <td>...</td>\n",
       "      <td>0.0</td>\n",
       "      <td>0.0</td>\n",
       "      <td>0.0</td>\n",
       "      <td>0.0</td>\n",
       "      <td>1.0</td>\n",
       "      <td>0.0</td>\n",
       "      <td>1.0</td>\n",
       "      <td>0.0</td>\n",
       "    </tr>\n",
       "    <tr>\n",
       "      <th>153258</th>\n",
       "      <td>0.921165</td>\n",
       "      <td>-0.331473</td>\n",
       "      <td>0.601969</td>\n",
       "      <td>-0.384021</td>\n",
       "      <td>0.0</td>\n",
       "      <td>0.0</td>\n",
       "      <td>0.0</td>\n",
       "      <td>0.0</td>\n",
       "      <td>...</td>\n",
       "      <td>0.0</td>\n",
       "      <td>0.0</td>\n",
       "      <td>0.0</td>\n",
       "      <td>1.0</td>\n",
       "      <td>0.0</td>\n",
       "      <td>0.0</td>\n",
       "      <td>1.0</td>\n",
       "      <td>0.0</td>\n",
       "    </tr>\n",
       "  </tbody>\n",
       "</table>\n",
       "<p>169203 rows × 316 columns</p>\n",
       "</div>"
      ],
      "text/plain": [
       "        (registration_year,)  (power,)  (kilometer,)  (registration_mounth,)  \\\n",
       "74574              -0.778860 -0.007338      0.601969               -0.080768   \n",
       "126596              0.302974 -0.141979      0.601969               -1.293780   \n",
       "333939              1.075712 -0.291580     -1.840268                0.828992   \n",
       "68500              -0.315217 -0.221766     -0.754829               -0.080768   \n",
       "341359             -0.006122 -0.082139      0.601969                1.435499   \n",
       "...                      ...       ...           ...                     ...   \n",
       "150583             -2.015242 -0.371367      0.601969                0.222486   \n",
       "325588             -0.933408  0.047515      0.601969                0.222486   \n",
       "165763              0.921165 -0.361393      0.601969               -1.597034   \n",
       "184558              0.148426 -0.122032      0.601969               -0.687274   \n",
       "153258              0.921165 -0.331473      0.601969               -0.384021   \n",
       "\n",
       "          0    1    2    3  ...  304  305  306  307  308  309  310  311  \n",
       "74574   0.0  0.0  0.0  0.0  ...  0.0  0.0  0.0  1.0  0.0  0.0  0.0  1.0  \n",
       "126596  0.0  0.0  0.0  0.0  ...  0.0  0.0  0.0  0.0  0.0  0.0  0.0  1.0  \n",
       "333939  0.0  0.0  0.0  0.0  ...  0.0  0.0  0.0  0.0  0.0  0.0  1.0  0.0  \n",
       "68500   0.0  0.0  0.0  0.0  ...  0.0  0.0  0.0  0.0  0.0  0.0  1.0  0.0  \n",
       "341359  0.0  0.0  0.0  0.0  ...  0.0  0.0  0.0  0.0  0.0  0.0  1.0  0.0  \n",
       "...     ...  ...  ...  ...  ...  ...  ...  ...  ...  ...  ...  ...  ...  \n",
       "150583  0.0  0.0  0.0  0.0  ...  1.0  0.0  0.0  0.0  0.0  0.0  1.0  0.0  \n",
       "325588  0.0  0.0  0.0  0.0  ...  0.0  0.0  0.0  0.0  0.0  0.0  1.0  0.0  \n",
       "165763  0.0  0.0  0.0  0.0  ...  0.0  0.0  0.0  1.0  0.0  0.0  1.0  0.0  \n",
       "184558  0.0  0.0  0.0  0.0  ...  0.0  0.0  0.0  0.0  1.0  0.0  1.0  0.0  \n",
       "153258  0.0  0.0  0.0  0.0  ...  0.0  0.0  0.0  1.0  0.0  0.0  1.0  0.0  \n",
       "\n",
       "[169203 rows x 316 columns]"
      ]
     },
     "execution_count": 40,
     "metadata": {},
     "output_type": "execute_result"
    }
   ],
   "source": [
    "X_train_lr"
   ]
  },
  {
   "cell_type": "markdown",
   "metadata": {},
   "source": [
    "### Проверим корретность разделенных выборок для One-Hot-Encoding (OHT)"
   ]
  },
  {
   "cell_type": "code",
   "execution_count": 41,
   "metadata": {},
   "outputs": [
    {
     "data": {
      "text/plain": [
       "(169203, 316)"
      ]
     },
     "execution_count": 41,
     "metadata": {},
     "output_type": "execute_result"
    }
   ],
   "source": [
    "X_train_lr.shape"
   ]
  },
  {
   "cell_type": "code",
   "execution_count": 42,
   "metadata": {},
   "outputs": [
    {
     "data": {
      "text/plain": [
       "(56401, 316)"
      ]
     },
     "execution_count": 42,
     "metadata": {},
     "output_type": "execute_result"
    }
   ],
   "source": [
    "X_test_lr.shape"
   ]
  },
  {
   "cell_type": "code",
   "execution_count": 43,
   "metadata": {},
   "outputs": [
    {
     "data": {
      "text/plain": [
       "(56402, 316)"
      ]
     },
     "execution_count": 43,
     "metadata": {},
     "output_type": "execute_result"
    }
   ],
   "source": [
    "X_validate_lr.shape"
   ]
  },
  {
   "cell_type": "markdown",
   "metadata": {},
   "source": [
    "### Модель DecisionTreeRegressor"
   ]
  },
  {
   "cell_type": "markdown",
   "metadata": {},
   "source": [
    "# Подбор гиперпараметров для моделей через GridSearchCV"
   ]
  },
  {
   "cell_type": "code",
   "execution_count": 44,
   "metadata": {},
   "outputs": [
    {
     "name": "stdout",
     "output_type": "stream",
     "text": [
      "Получили лучшие гиперпараметры: {'max_depth': 6, 'min_samples_leaf': 5} - их и будем использовать как лучшие\n",
      "2311.276337378353\n",
      "CPU times: user 16.8 s, sys: 35.9 ms, total: 16.9 s\n",
      "Wall time: 16.9 s\n"
     ]
    }
   ],
   "source": [
    "%%time  \n",
    "\n",
    "model_decision = DecisionTreeRegressor(random_state=42)\n",
    "\n",
    "parametrs  = {'max_depth' : [2, 3, 4, 5, 6],\n",
    "             'min_samples_leaf' : [1, 2, 3, 4, 5]\n",
    "}\n",
    "    \n",
    "grid = GridSearchCV(estimator=model_decision, param_grid = parametrs, cv=5, scoring='neg_root_mean_squared_error')\n",
    "grid.fit(X_train_oe, y_train)\n",
    "print(f\"Получили лучшие гиперпараметры: {grid.best_params_} - их и будем использовать как лучшие\") \n",
    "print(-grid.best_score_)"
   ]
  },
  {
   "cell_type": "markdown",
   "metadata": {},
   "source": [
    "### Выведем в табличной форме время обучения и предсказания нашей модели"
   ]
  },
  {
   "cell_type": "code",
   "execution_count": 45,
   "metadata": {},
   "outputs": [
    {
     "data": {
      "text/html": [
       "<div>\n",
       "<style scoped>\n",
       "    .dataframe tbody tr th:only-of-type {\n",
       "        vertical-align: middle;\n",
       "    }\n",
       "\n",
       "    .dataframe tbody tr th {\n",
       "        vertical-align: top;\n",
       "    }\n",
       "\n",
       "    .dataframe thead th {\n",
       "        text-align: right;\n",
       "    }\n",
       "</style>\n",
       "<table border=\"1\" class=\"dataframe\">\n",
       "  <thead>\n",
       "    <tr style=\"text-align: right;\">\n",
       "      <th></th>\n",
       "      <th>mean_fit_time</th>\n",
       "      <th>std_fit_time</th>\n",
       "      <th>mean_score_time</th>\n",
       "      <th>std_score_time</th>\n",
       "      <th>param_max_depth</th>\n",
       "      <th>param_min_samples_leaf</th>\n",
       "      <th>params</th>\n",
       "      <th>split0_test_score</th>\n",
       "      <th>split1_test_score</th>\n",
       "      <th>split2_test_score</th>\n",
       "      <th>split3_test_score</th>\n",
       "      <th>split4_test_score</th>\n",
       "      <th>mean_test_score</th>\n",
       "      <th>std_test_score</th>\n",
       "      <th>rank_test_score</th>\n",
       "    </tr>\n",
       "  </thead>\n",
       "  <tbody>\n",
       "    <tr>\n",
       "      <th>0</th>\n",
       "      <td>0.079877</td>\n",
       "      <td>0.009280</td>\n",
       "      <td>0.004108</td>\n",
       "      <td>0.000174</td>\n",
       "      <td>2</td>\n",
       "      <td>1</td>\n",
       "      <td>{'max_depth': 2, 'min_samples_leaf': 1}</td>\n",
       "      <td>-3207.989225</td>\n",
       "      <td>-3219.614480</td>\n",
       "      <td>-3191.083301</td>\n",
       "      <td>-3224.086415</td>\n",
       "      <td>-3211.637577</td>\n",
       "      <td>-3210.882199</td>\n",
       "      <td>11.415256</td>\n",
       "      <td>21</td>\n",
       "    </tr>\n",
       "    <tr>\n",
       "      <th>1</th>\n",
       "      <td>0.069914</td>\n",
       "      <td>0.000296</td>\n",
       "      <td>0.004201</td>\n",
       "      <td>0.000310</td>\n",
       "      <td>2</td>\n",
       "      <td>2</td>\n",
       "      <td>{'max_depth': 2, 'min_samples_leaf': 2}</td>\n",
       "      <td>-3207.989225</td>\n",
       "      <td>-3219.614480</td>\n",
       "      <td>-3191.083301</td>\n",
       "      <td>-3224.086415</td>\n",
       "      <td>-3211.637577</td>\n",
       "      <td>-3210.882199</td>\n",
       "      <td>11.415256</td>\n",
       "      <td>21</td>\n",
       "    </tr>\n",
       "    <tr>\n",
       "      <th>2</th>\n",
       "      <td>0.072458</td>\n",
       "      <td>0.002635</td>\n",
       "      <td>0.004307</td>\n",
       "      <td>0.000312</td>\n",
       "      <td>2</td>\n",
       "      <td>3</td>\n",
       "      <td>{'max_depth': 2, 'min_samples_leaf': 3}</td>\n",
       "      <td>-3207.989225</td>\n",
       "      <td>-3219.614480</td>\n",
       "      <td>-3191.083301</td>\n",
       "      <td>-3224.086415</td>\n",
       "      <td>-3211.637577</td>\n",
       "      <td>-3210.882199</td>\n",
       "      <td>11.415256</td>\n",
       "      <td>21</td>\n",
       "    </tr>\n",
       "    <tr>\n",
       "      <th>3</th>\n",
       "      <td>0.070587</td>\n",
       "      <td>0.002696</td>\n",
       "      <td>0.003958</td>\n",
       "      <td>0.000063</td>\n",
       "      <td>2</td>\n",
       "      <td>4</td>\n",
       "      <td>{'max_depth': 2, 'min_samples_leaf': 4}</td>\n",
       "      <td>-3207.989225</td>\n",
       "      <td>-3219.614480</td>\n",
       "      <td>-3191.083301</td>\n",
       "      <td>-3224.086415</td>\n",
       "      <td>-3211.637577</td>\n",
       "      <td>-3210.882199</td>\n",
       "      <td>11.415256</td>\n",
       "      <td>21</td>\n",
       "    </tr>\n",
       "    <tr>\n",
       "      <th>4</th>\n",
       "      <td>0.070298</td>\n",
       "      <td>0.002017</td>\n",
       "      <td>0.004255</td>\n",
       "      <td>0.000419</td>\n",
       "      <td>2</td>\n",
       "      <td>5</td>\n",
       "      <td>{'max_depth': 2, 'min_samples_leaf': 5}</td>\n",
       "      <td>-3207.989225</td>\n",
       "      <td>-3219.614480</td>\n",
       "      <td>-3191.083301</td>\n",
       "      <td>-3224.086415</td>\n",
       "      <td>-3211.637577</td>\n",
       "      <td>-3210.882199</td>\n",
       "      <td>11.415256</td>\n",
       "      <td>21</td>\n",
       "    </tr>\n",
       "    <tr>\n",
       "      <th>5</th>\n",
       "      <td>0.102511</td>\n",
       "      <td>0.003399</td>\n",
       "      <td>0.004314</td>\n",
       "      <td>0.000240</td>\n",
       "      <td>3</td>\n",
       "      <td>1</td>\n",
       "      <td>{'max_depth': 3, 'min_samples_leaf': 1}</td>\n",
       "      <td>-2944.129766</td>\n",
       "      <td>-2944.791018</td>\n",
       "      <td>-2918.039956</td>\n",
       "      <td>-2966.881578</td>\n",
       "      <td>-2951.851146</td>\n",
       "      <td>-2945.138693</td>\n",
       "      <td>15.832185</td>\n",
       "      <td>16</td>\n",
       "    </tr>\n",
       "    <tr>\n",
       "      <th>6</th>\n",
       "      <td>0.099869</td>\n",
       "      <td>0.001423</td>\n",
       "      <td>0.004268</td>\n",
       "      <td>0.000189</td>\n",
       "      <td>3</td>\n",
       "      <td>2</td>\n",
       "      <td>{'max_depth': 3, 'min_samples_leaf': 2}</td>\n",
       "      <td>-2944.129766</td>\n",
       "      <td>-2944.791018</td>\n",
       "      <td>-2918.039956</td>\n",
       "      <td>-2966.881578</td>\n",
       "      <td>-2951.851146</td>\n",
       "      <td>-2945.138693</td>\n",
       "      <td>15.832185</td>\n",
       "      <td>16</td>\n",
       "    </tr>\n",
       "    <tr>\n",
       "      <th>7</th>\n",
       "      <td>0.099769</td>\n",
       "      <td>0.002714</td>\n",
       "      <td>0.004241</td>\n",
       "      <td>0.000068</td>\n",
       "      <td>3</td>\n",
       "      <td>3</td>\n",
       "      <td>{'max_depth': 3, 'min_samples_leaf': 3}</td>\n",
       "      <td>-2944.129766</td>\n",
       "      <td>-2944.791018</td>\n",
       "      <td>-2918.039956</td>\n",
       "      <td>-2966.881578</td>\n",
       "      <td>-2951.851146</td>\n",
       "      <td>-2945.138693</td>\n",
       "      <td>15.832185</td>\n",
       "      <td>16</td>\n",
       "    </tr>\n",
       "    <tr>\n",
       "      <th>8</th>\n",
       "      <td>0.100069</td>\n",
       "      <td>0.003903</td>\n",
       "      <td>0.004118</td>\n",
       "      <td>0.000303</td>\n",
       "      <td>3</td>\n",
       "      <td>4</td>\n",
       "      <td>{'max_depth': 3, 'min_samples_leaf': 4}</td>\n",
       "      <td>-2944.129766</td>\n",
       "      <td>-2944.791018</td>\n",
       "      <td>-2918.039956</td>\n",
       "      <td>-2966.881578</td>\n",
       "      <td>-2951.851146</td>\n",
       "      <td>-2945.138693</td>\n",
       "      <td>15.832185</td>\n",
       "      <td>16</td>\n",
       "    </tr>\n",
       "    <tr>\n",
       "      <th>9</th>\n",
       "      <td>0.100343</td>\n",
       "      <td>0.003100</td>\n",
       "      <td>0.004339</td>\n",
       "      <td>0.000136</td>\n",
       "      <td>3</td>\n",
       "      <td>5</td>\n",
       "      <td>{'max_depth': 3, 'min_samples_leaf': 5}</td>\n",
       "      <td>-2944.129766</td>\n",
       "      <td>-2944.791018</td>\n",
       "      <td>-2918.039956</td>\n",
       "      <td>-2966.881578</td>\n",
       "      <td>-2951.851146</td>\n",
       "      <td>-2945.138693</td>\n",
       "      <td>15.832185</td>\n",
       "      <td>16</td>\n",
       "    </tr>\n",
       "    <tr>\n",
       "      <th>10</th>\n",
       "      <td>0.136868</td>\n",
       "      <td>0.011506</td>\n",
       "      <td>0.004740</td>\n",
       "      <td>0.000368</td>\n",
       "      <td>4</td>\n",
       "      <td>1</td>\n",
       "      <td>{'max_depth': 4, 'min_samples_leaf': 1}</td>\n",
       "      <td>-2626.255210</td>\n",
       "      <td>-2632.865772</td>\n",
       "      <td>-2606.416182</td>\n",
       "      <td>-2625.915453</td>\n",
       "      <td>-2633.258257</td>\n",
       "      <td>-2624.942175</td>\n",
       "      <td>9.775729</td>\n",
       "      <td>11</td>\n",
       "    </tr>\n",
       "    <tr>\n",
       "      <th>11</th>\n",
       "      <td>0.127117</td>\n",
       "      <td>0.003305</td>\n",
       "      <td>0.004501</td>\n",
       "      <td>0.000365</td>\n",
       "      <td>4</td>\n",
       "      <td>2</td>\n",
       "      <td>{'max_depth': 4, 'min_samples_leaf': 2}</td>\n",
       "      <td>-2626.255210</td>\n",
       "      <td>-2632.865772</td>\n",
       "      <td>-2606.416182</td>\n",
       "      <td>-2625.915453</td>\n",
       "      <td>-2633.258257</td>\n",
       "      <td>-2624.942175</td>\n",
       "      <td>9.775729</td>\n",
       "      <td>11</td>\n",
       "    </tr>\n",
       "    <tr>\n",
       "      <th>12</th>\n",
       "      <td>0.125384</td>\n",
       "      <td>0.002333</td>\n",
       "      <td>0.004276</td>\n",
       "      <td>0.000081</td>\n",
       "      <td>4</td>\n",
       "      <td>3</td>\n",
       "      <td>{'max_depth': 4, 'min_samples_leaf': 3}</td>\n",
       "      <td>-2626.255210</td>\n",
       "      <td>-2632.865772</td>\n",
       "      <td>-2606.416182</td>\n",
       "      <td>-2625.915453</td>\n",
       "      <td>-2633.258257</td>\n",
       "      <td>-2624.942175</td>\n",
       "      <td>9.775729</td>\n",
       "      <td>11</td>\n",
       "    </tr>\n",
       "    <tr>\n",
       "      <th>13</th>\n",
       "      <td>0.124917</td>\n",
       "      <td>0.001261</td>\n",
       "      <td>0.004233</td>\n",
       "      <td>0.000117</td>\n",
       "      <td>4</td>\n",
       "      <td>4</td>\n",
       "      <td>{'max_depth': 4, 'min_samples_leaf': 4}</td>\n",
       "      <td>-2626.255210</td>\n",
       "      <td>-2632.865772</td>\n",
       "      <td>-2606.416182</td>\n",
       "      <td>-2625.915453</td>\n",
       "      <td>-2633.258257</td>\n",
       "      <td>-2624.942175</td>\n",
       "      <td>9.775729</td>\n",
       "      <td>11</td>\n",
       "    </tr>\n",
       "    <tr>\n",
       "      <th>14</th>\n",
       "      <td>0.128508</td>\n",
       "      <td>0.005570</td>\n",
       "      <td>0.004243</td>\n",
       "      <td>0.000151</td>\n",
       "      <td>4</td>\n",
       "      <td>5</td>\n",
       "      <td>{'max_depth': 4, 'min_samples_leaf': 5}</td>\n",
       "      <td>-2626.255210</td>\n",
       "      <td>-2632.865772</td>\n",
       "      <td>-2606.416182</td>\n",
       "      <td>-2625.915453</td>\n",
       "      <td>-2633.258257</td>\n",
       "      <td>-2624.942175</td>\n",
       "      <td>9.775729</td>\n",
       "      <td>11</td>\n",
       "    </tr>\n",
       "    <tr>\n",
       "      <th>15</th>\n",
       "      <td>0.156276</td>\n",
       "      <td>0.001483</td>\n",
       "      <td>0.004659</td>\n",
       "      <td>0.000080</td>\n",
       "      <td>5</td>\n",
       "      <td>1</td>\n",
       "      <td>{'max_depth': 5, 'min_samples_leaf': 1}</td>\n",
       "      <td>-2456.138675</td>\n",
       "      <td>-2474.126456</td>\n",
       "      <td>-2431.733757</td>\n",
       "      <td>-2455.232976</td>\n",
       "      <td>-2465.347459</td>\n",
       "      <td>-2456.515864</td>\n",
       "      <td>14.170892</td>\n",
       "      <td>6</td>\n",
       "    </tr>\n",
       "    <tr>\n",
       "      <th>16</th>\n",
       "      <td>0.150818</td>\n",
       "      <td>0.002013</td>\n",
       "      <td>0.004571</td>\n",
       "      <td>0.000104</td>\n",
       "      <td>5</td>\n",
       "      <td>2</td>\n",
       "      <td>{'max_depth': 5, 'min_samples_leaf': 2}</td>\n",
       "      <td>-2456.138675</td>\n",
       "      <td>-2474.126456</td>\n",
       "      <td>-2431.733757</td>\n",
       "      <td>-2455.232976</td>\n",
       "      <td>-2465.347459</td>\n",
       "      <td>-2456.515864</td>\n",
       "      <td>14.170892</td>\n",
       "      <td>6</td>\n",
       "    </tr>\n",
       "    <tr>\n",
       "      <th>17</th>\n",
       "      <td>0.154051</td>\n",
       "      <td>0.003509</td>\n",
       "      <td>0.004488</td>\n",
       "      <td>0.000172</td>\n",
       "      <td>5</td>\n",
       "      <td>3</td>\n",
       "      <td>{'max_depth': 5, 'min_samples_leaf': 3}</td>\n",
       "      <td>-2456.138675</td>\n",
       "      <td>-2474.126456</td>\n",
       "      <td>-2431.733757</td>\n",
       "      <td>-2455.232976</td>\n",
       "      <td>-2465.347459</td>\n",
       "      <td>-2456.515864</td>\n",
       "      <td>14.170892</td>\n",
       "      <td>6</td>\n",
       "    </tr>\n",
       "    <tr>\n",
       "      <th>18</th>\n",
       "      <td>0.150893</td>\n",
       "      <td>0.002001</td>\n",
       "      <td>0.004775</td>\n",
       "      <td>0.000239</td>\n",
       "      <td>5</td>\n",
       "      <td>4</td>\n",
       "      <td>{'max_depth': 5, 'min_samples_leaf': 4}</td>\n",
       "      <td>-2456.138675</td>\n",
       "      <td>-2474.126456</td>\n",
       "      <td>-2431.733757</td>\n",
       "      <td>-2455.232976</td>\n",
       "      <td>-2465.347459</td>\n",
       "      <td>-2456.515864</td>\n",
       "      <td>14.170892</td>\n",
       "      <td>6</td>\n",
       "    </tr>\n",
       "    <tr>\n",
       "      <th>19</th>\n",
       "      <td>0.161008</td>\n",
       "      <td>0.007137</td>\n",
       "      <td>0.004695</td>\n",
       "      <td>0.000195</td>\n",
       "      <td>5</td>\n",
       "      <td>5</td>\n",
       "      <td>{'max_depth': 5, 'min_samples_leaf': 5}</td>\n",
       "      <td>-2456.138675</td>\n",
       "      <td>-2474.126456</td>\n",
       "      <td>-2431.733757</td>\n",
       "      <td>-2455.232976</td>\n",
       "      <td>-2465.347459</td>\n",
       "      <td>-2456.515864</td>\n",
       "      <td>14.170892</td>\n",
       "      <td>6</td>\n",
       "    </tr>\n",
       "    <tr>\n",
       "      <th>20</th>\n",
       "      <td>0.178710</td>\n",
       "      <td>0.000911</td>\n",
       "      <td>0.004827</td>\n",
       "      <td>0.000171</td>\n",
       "      <td>6</td>\n",
       "      <td>1</td>\n",
       "      <td>{'max_depth': 6, 'min_samples_leaf': 1}</td>\n",
       "      <td>-2313.708233</td>\n",
       "      <td>-2320.305256</td>\n",
       "      <td>-2292.957245</td>\n",
       "      <td>-2307.546573</td>\n",
       "      <td>-2321.864771</td>\n",
       "      <td>-2311.276416</td>\n",
       "      <td>10.479033</td>\n",
       "      <td>3</td>\n",
       "    </tr>\n",
       "    <tr>\n",
       "      <th>21</th>\n",
       "      <td>0.181912</td>\n",
       "      <td>0.005206</td>\n",
       "      <td>0.004742</td>\n",
       "      <td>0.000100</td>\n",
       "      <td>6</td>\n",
       "      <td>2</td>\n",
       "      <td>{'max_depth': 6, 'min_samples_leaf': 2}</td>\n",
       "      <td>-2313.708233</td>\n",
       "      <td>-2320.305256</td>\n",
       "      <td>-2292.957245</td>\n",
       "      <td>-2307.546573</td>\n",
       "      <td>-2321.864771</td>\n",
       "      <td>-2311.276416</td>\n",
       "      <td>10.479033</td>\n",
       "      <td>3</td>\n",
       "    </tr>\n",
       "    <tr>\n",
       "      <th>22</th>\n",
       "      <td>0.191242</td>\n",
       "      <td>0.016193</td>\n",
       "      <td>0.005314</td>\n",
       "      <td>0.000582</td>\n",
       "      <td>6</td>\n",
       "      <td>3</td>\n",
       "      <td>{'max_depth': 6, 'min_samples_leaf': 3}</td>\n",
       "      <td>-2313.708233</td>\n",
       "      <td>-2320.305256</td>\n",
       "      <td>-2292.957245</td>\n",
       "      <td>-2307.546573</td>\n",
       "      <td>-2321.864771</td>\n",
       "      <td>-2311.276416</td>\n",
       "      <td>10.479033</td>\n",
       "      <td>3</td>\n",
       "    </tr>\n",
       "    <tr>\n",
       "      <th>23</th>\n",
       "      <td>0.186637</td>\n",
       "      <td>0.005833</td>\n",
       "      <td>0.005145</td>\n",
       "      <td>0.000163</td>\n",
       "      <td>6</td>\n",
       "      <td>4</td>\n",
       "      <td>{'max_depth': 6, 'min_samples_leaf': 4}</td>\n",
       "      <td>-2313.708233</td>\n",
       "      <td>-2320.305256</td>\n",
       "      <td>-2292.957245</td>\n",
       "      <td>-2307.546573</td>\n",
       "      <td>-2321.864630</td>\n",
       "      <td>-2311.276387</td>\n",
       "      <td>10.479005</td>\n",
       "      <td>2</td>\n",
       "    </tr>\n",
       "    <tr>\n",
       "      <th>24</th>\n",
       "      <td>0.188357</td>\n",
       "      <td>0.003202</td>\n",
       "      <td>0.004917</td>\n",
       "      <td>0.000222</td>\n",
       "      <td>6</td>\n",
       "      <td>5</td>\n",
       "      <td>{'max_depth': 6, 'min_samples_leaf': 5}</td>\n",
       "      <td>-2313.708233</td>\n",
       "      <td>-2320.305256</td>\n",
       "      <td>-2292.957245</td>\n",
       "      <td>-2307.546573</td>\n",
       "      <td>-2321.864380</td>\n",
       "      <td>-2311.276337</td>\n",
       "      <td>10.478954</td>\n",
       "      <td>1</td>\n",
       "    </tr>\n",
       "  </tbody>\n",
       "</table>\n",
       "</div>"
      ],
      "text/plain": [
       "    mean_fit_time  std_fit_time  mean_score_time  std_score_time  \\\n",
       "0        0.079877      0.009280         0.004108        0.000174   \n",
       "1        0.069914      0.000296         0.004201        0.000310   \n",
       "2        0.072458      0.002635         0.004307        0.000312   \n",
       "3        0.070587      0.002696         0.003958        0.000063   \n",
       "4        0.070298      0.002017         0.004255        0.000419   \n",
       "5        0.102511      0.003399         0.004314        0.000240   \n",
       "6        0.099869      0.001423         0.004268        0.000189   \n",
       "7        0.099769      0.002714         0.004241        0.000068   \n",
       "8        0.100069      0.003903         0.004118        0.000303   \n",
       "9        0.100343      0.003100         0.004339        0.000136   \n",
       "10       0.136868      0.011506         0.004740        0.000368   \n",
       "11       0.127117      0.003305         0.004501        0.000365   \n",
       "12       0.125384      0.002333         0.004276        0.000081   \n",
       "13       0.124917      0.001261         0.004233        0.000117   \n",
       "14       0.128508      0.005570         0.004243        0.000151   \n",
       "15       0.156276      0.001483         0.004659        0.000080   \n",
       "16       0.150818      0.002013         0.004571        0.000104   \n",
       "17       0.154051      0.003509         0.004488        0.000172   \n",
       "18       0.150893      0.002001         0.004775        0.000239   \n",
       "19       0.161008      0.007137         0.004695        0.000195   \n",
       "20       0.178710      0.000911         0.004827        0.000171   \n",
       "21       0.181912      0.005206         0.004742        0.000100   \n",
       "22       0.191242      0.016193         0.005314        0.000582   \n",
       "23       0.186637      0.005833         0.005145        0.000163   \n",
       "24       0.188357      0.003202         0.004917        0.000222   \n",
       "\n",
       "   param_max_depth param_min_samples_leaf  \\\n",
       "0                2                      1   \n",
       "1                2                      2   \n",
       "2                2                      3   \n",
       "3                2                      4   \n",
       "4                2                      5   \n",
       "5                3                      1   \n",
       "6                3                      2   \n",
       "7                3                      3   \n",
       "8                3                      4   \n",
       "9                3                      5   \n",
       "10               4                      1   \n",
       "11               4                      2   \n",
       "12               4                      3   \n",
       "13               4                      4   \n",
       "14               4                      5   \n",
       "15               5                      1   \n",
       "16               5                      2   \n",
       "17               5                      3   \n",
       "18               5                      4   \n",
       "19               5                      5   \n",
       "20               6                      1   \n",
       "21               6                      2   \n",
       "22               6                      3   \n",
       "23               6                      4   \n",
       "24               6                      5   \n",
       "\n",
       "                                     params  split0_test_score  \\\n",
       "0   {'max_depth': 2, 'min_samples_leaf': 1}       -3207.989225   \n",
       "1   {'max_depth': 2, 'min_samples_leaf': 2}       -3207.989225   \n",
       "2   {'max_depth': 2, 'min_samples_leaf': 3}       -3207.989225   \n",
       "3   {'max_depth': 2, 'min_samples_leaf': 4}       -3207.989225   \n",
       "4   {'max_depth': 2, 'min_samples_leaf': 5}       -3207.989225   \n",
       "5   {'max_depth': 3, 'min_samples_leaf': 1}       -2944.129766   \n",
       "6   {'max_depth': 3, 'min_samples_leaf': 2}       -2944.129766   \n",
       "7   {'max_depth': 3, 'min_samples_leaf': 3}       -2944.129766   \n",
       "8   {'max_depth': 3, 'min_samples_leaf': 4}       -2944.129766   \n",
       "9   {'max_depth': 3, 'min_samples_leaf': 5}       -2944.129766   \n",
       "10  {'max_depth': 4, 'min_samples_leaf': 1}       -2626.255210   \n",
       "11  {'max_depth': 4, 'min_samples_leaf': 2}       -2626.255210   \n",
       "12  {'max_depth': 4, 'min_samples_leaf': 3}       -2626.255210   \n",
       "13  {'max_depth': 4, 'min_samples_leaf': 4}       -2626.255210   \n",
       "14  {'max_depth': 4, 'min_samples_leaf': 5}       -2626.255210   \n",
       "15  {'max_depth': 5, 'min_samples_leaf': 1}       -2456.138675   \n",
       "16  {'max_depth': 5, 'min_samples_leaf': 2}       -2456.138675   \n",
       "17  {'max_depth': 5, 'min_samples_leaf': 3}       -2456.138675   \n",
       "18  {'max_depth': 5, 'min_samples_leaf': 4}       -2456.138675   \n",
       "19  {'max_depth': 5, 'min_samples_leaf': 5}       -2456.138675   \n",
       "20  {'max_depth': 6, 'min_samples_leaf': 1}       -2313.708233   \n",
       "21  {'max_depth': 6, 'min_samples_leaf': 2}       -2313.708233   \n",
       "22  {'max_depth': 6, 'min_samples_leaf': 3}       -2313.708233   \n",
       "23  {'max_depth': 6, 'min_samples_leaf': 4}       -2313.708233   \n",
       "24  {'max_depth': 6, 'min_samples_leaf': 5}       -2313.708233   \n",
       "\n",
       "    split1_test_score  split2_test_score  split3_test_score  \\\n",
       "0        -3219.614480       -3191.083301       -3224.086415   \n",
       "1        -3219.614480       -3191.083301       -3224.086415   \n",
       "2        -3219.614480       -3191.083301       -3224.086415   \n",
       "3        -3219.614480       -3191.083301       -3224.086415   \n",
       "4        -3219.614480       -3191.083301       -3224.086415   \n",
       "5        -2944.791018       -2918.039956       -2966.881578   \n",
       "6        -2944.791018       -2918.039956       -2966.881578   \n",
       "7        -2944.791018       -2918.039956       -2966.881578   \n",
       "8        -2944.791018       -2918.039956       -2966.881578   \n",
       "9        -2944.791018       -2918.039956       -2966.881578   \n",
       "10       -2632.865772       -2606.416182       -2625.915453   \n",
       "11       -2632.865772       -2606.416182       -2625.915453   \n",
       "12       -2632.865772       -2606.416182       -2625.915453   \n",
       "13       -2632.865772       -2606.416182       -2625.915453   \n",
       "14       -2632.865772       -2606.416182       -2625.915453   \n",
       "15       -2474.126456       -2431.733757       -2455.232976   \n",
       "16       -2474.126456       -2431.733757       -2455.232976   \n",
       "17       -2474.126456       -2431.733757       -2455.232976   \n",
       "18       -2474.126456       -2431.733757       -2455.232976   \n",
       "19       -2474.126456       -2431.733757       -2455.232976   \n",
       "20       -2320.305256       -2292.957245       -2307.546573   \n",
       "21       -2320.305256       -2292.957245       -2307.546573   \n",
       "22       -2320.305256       -2292.957245       -2307.546573   \n",
       "23       -2320.305256       -2292.957245       -2307.546573   \n",
       "24       -2320.305256       -2292.957245       -2307.546573   \n",
       "\n",
       "    split4_test_score  mean_test_score  std_test_score  rank_test_score  \n",
       "0        -3211.637577     -3210.882199       11.415256               21  \n",
       "1        -3211.637577     -3210.882199       11.415256               21  \n",
       "2        -3211.637577     -3210.882199       11.415256               21  \n",
       "3        -3211.637577     -3210.882199       11.415256               21  \n",
       "4        -3211.637577     -3210.882199       11.415256               21  \n",
       "5        -2951.851146     -2945.138693       15.832185               16  \n",
       "6        -2951.851146     -2945.138693       15.832185               16  \n",
       "7        -2951.851146     -2945.138693       15.832185               16  \n",
       "8        -2951.851146     -2945.138693       15.832185               16  \n",
       "9        -2951.851146     -2945.138693       15.832185               16  \n",
       "10       -2633.258257     -2624.942175        9.775729               11  \n",
       "11       -2633.258257     -2624.942175        9.775729               11  \n",
       "12       -2633.258257     -2624.942175        9.775729               11  \n",
       "13       -2633.258257     -2624.942175        9.775729               11  \n",
       "14       -2633.258257     -2624.942175        9.775729               11  \n",
       "15       -2465.347459     -2456.515864       14.170892                6  \n",
       "16       -2465.347459     -2456.515864       14.170892                6  \n",
       "17       -2465.347459     -2456.515864       14.170892                6  \n",
       "18       -2465.347459     -2456.515864       14.170892                6  \n",
       "19       -2465.347459     -2456.515864       14.170892                6  \n",
       "20       -2321.864771     -2311.276416       10.479033                3  \n",
       "21       -2321.864771     -2311.276416       10.479033                3  \n",
       "22       -2321.864771     -2311.276416       10.479033                3  \n",
       "23       -2321.864630     -2311.276387       10.479005                2  \n",
       "24       -2321.864380     -2311.276337       10.478954                1  "
      ]
     },
     "metadata": {},
     "output_type": "display_data"
    },
    {
     "data": {
      "text/html": [
       "<div>\n",
       "<style scoped>\n",
       "    .dataframe tbody tr th:only-of-type {\n",
       "        vertical-align: middle;\n",
       "    }\n",
       "\n",
       "    .dataframe tbody tr th {\n",
       "        vertical-align: top;\n",
       "    }\n",
       "\n",
       "    .dataframe thead th {\n",
       "        text-align: right;\n",
       "    }\n",
       "</style>\n",
       "<table border=\"1\" class=\"dataframe\">\n",
       "  <thead>\n",
       "    <tr style=\"text-align: right;\">\n",
       "      <th></th>\n",
       "      <th>mean_fit_time</th>\n",
       "      <th>std_fit_time</th>\n",
       "      <th>mean_score_time</th>\n",
       "      <th>std_score_time</th>\n",
       "      <th>param_max_depth</th>\n",
       "      <th>param_min_samples_leaf</th>\n",
       "      <th>params</th>\n",
       "      <th>split0_test_score</th>\n",
       "      <th>split1_test_score</th>\n",
       "      <th>split2_test_score</th>\n",
       "      <th>split3_test_score</th>\n",
       "      <th>split4_test_score</th>\n",
       "      <th>mean_test_score</th>\n",
       "      <th>std_test_score</th>\n",
       "      <th>rank_test_score</th>\n",
       "    </tr>\n",
       "  </thead>\n",
       "  <tbody>\n",
       "    <tr>\n",
       "      <th>24</th>\n",
       "      <td>0.188357</td>\n",
       "      <td>0.003202</td>\n",
       "      <td>0.004917</td>\n",
       "      <td>0.000222</td>\n",
       "      <td>6</td>\n",
       "      <td>5</td>\n",
       "      <td>{'max_depth': 6, 'min_samples_leaf': 5}</td>\n",
       "      <td>-2313.708233</td>\n",
       "      <td>-2320.305256</td>\n",
       "      <td>-2292.957245</td>\n",
       "      <td>-2307.546573</td>\n",
       "      <td>-2321.86438</td>\n",
       "      <td>-2311.276337</td>\n",
       "      <td>10.478954</td>\n",
       "      <td>1</td>\n",
       "    </tr>\n",
       "  </tbody>\n",
       "</table>\n",
       "</div>"
      ],
      "text/plain": [
       "    mean_fit_time  std_fit_time  mean_score_time  std_score_time  \\\n",
       "24       0.188357      0.003202         0.004917        0.000222   \n",
       "\n",
       "   param_max_depth param_min_samples_leaf  \\\n",
       "24               6                      5   \n",
       "\n",
       "                                     params  split0_test_score  \\\n",
       "24  {'max_depth': 6, 'min_samples_leaf': 5}       -2313.708233   \n",
       "\n",
       "    split1_test_score  split2_test_score  split3_test_score  \\\n",
       "24       -2320.305256       -2292.957245       -2307.546573   \n",
       "\n",
       "    split4_test_score  mean_test_score  std_test_score  rank_test_score  \n",
       "24        -2321.86438     -2311.276337       10.478954                1  "
      ]
     },
     "metadata": {},
     "output_type": "display_data"
    },
    {
     "name": "stdout",
     "output_type": "stream",
     "text": [
      "Fit Time:0.18835721015930176, Predict Time:0.004917049407958984\n"
     ]
    }
   ],
   "source": [
    "results = pd.DataFrame(grid.cv_results_)\n",
    "display(results)\n",
    "display(results[results['rank_test_score'] == 1])\n",
    "fit_time = results[results['rank_test_score'] == 1]['mean_fit_time'].values[0]\n",
    "predict_time = results[results['rank_test_score'] == 1]['mean_score_time'].values[0]\n",
    "print(f'Fit Time:{fit_time}, Predict Time:{predict_time}')"
   ]
  },
  {
   "cell_type": "markdown",
   "metadata": {},
   "source": [
    "****"
   ]
  },
  {
   "cell_type": "markdown",
   "metadata": {},
   "source": [
    "### Модель LGBMRegressor"
   ]
  },
  {
   "cell_type": "markdown",
   "metadata": {},
   "source": [
    "### Приведем категориальные признаки из 'object' в 'category', чтобы модели основанные на бустинге могли обучаться без кодирования и масштабирования выборок"
   ]
  },
  {
   "cell_type": "code",
   "execution_count": 46,
   "metadata": {},
   "outputs": [],
   "source": [
    "list_category = list(X_train.select_dtypes('object').columns)\n",
    "for x in list_category:\n",
    "    X_train[x] = X_train[x].astype('category')\n",
    "    X_validate[x] = X_validate[x].astype('category')\n",
    "    X_test[x] = X_test[x].astype('category')"
   ]
  },
  {
   "cell_type": "markdown",
   "metadata": {},
   "source": [
    "### Проверим контроль после"
   ]
  },
  {
   "cell_type": "code",
   "execution_count": 47,
   "metadata": {},
   "outputs": [
    {
     "data": {
      "text/plain": [
       "vehicle_type           category\n",
       "registration_year         int64\n",
       "gear_box               category\n",
       "power                     int64\n",
       "model                  category\n",
       "kilometer                 int64\n",
       "registration_mounth     float64\n",
       "fuel_type              category\n",
       "brand                  category\n",
       "repaired               category\n",
       "dtype: object"
      ]
     },
     "execution_count": 47,
     "metadata": {},
     "output_type": "execute_result"
    }
   ],
   "source": [
    "X_train.dtypes"
   ]
  },
  {
   "cell_type": "code",
   "execution_count": 48,
   "metadata": {},
   "outputs": [
    {
     "data": {
      "text/plain": [
       "vehicle_type           category\n",
       "registration_year         int64\n",
       "gear_box               category\n",
       "power                     int64\n",
       "model                  category\n",
       "kilometer                 int64\n",
       "registration_mounth     float64\n",
       "fuel_type              category\n",
       "brand                  category\n",
       "repaired               category\n",
       "dtype: object"
      ]
     },
     "execution_count": 48,
     "metadata": {},
     "output_type": "execute_result"
    }
   ],
   "source": [
    "X_test.dtypes"
   ]
  },
  {
   "cell_type": "code",
   "execution_count": 49,
   "metadata": {},
   "outputs": [
    {
     "data": {
      "text/plain": [
       "vehicle_type           category\n",
       "registration_year         int64\n",
       "gear_box               category\n",
       "power                     int64\n",
       "model                  category\n",
       "kilometer                 int64\n",
       "registration_mounth     float64\n",
       "fuel_type              category\n",
       "brand                  category\n",
       "repaired               category\n",
       "dtype: object"
      ]
     },
     "execution_count": 49,
     "metadata": {},
     "output_type": "execute_result"
    }
   ],
   "source": [
    "X_validate.dtypes"
   ]
  },
  {
   "cell_type": "markdown",
   "metadata": {},
   "source": [
    "### Подберем гиперпараметры через оптимизатор GridSearchCV"
   ]
  },
  {
   "cell_type": "code",
   "execution_count": 50,
   "metadata": {},
   "outputs": [
    {
     "name": "stdout",
     "output_type": "stream",
     "text": [
      "Fitting 3 folds for each of 4 candidates, totalling 12 fits\n",
      "[CV 1/3; 1/4] START learning_rate=0.1, max_depth=2..............................\n",
      "[CV 1/3; 1/4] END ............learning_rate=0.1, max_depth=2; total time=  48.8s\n",
      "[CV 2/3; 1/4] START learning_rate=0.1, max_depth=2..............................\n",
      "[CV 2/3; 1/4] END ............learning_rate=0.1, max_depth=2; total time=  42.5s\n",
      "[CV 3/3; 1/4] START learning_rate=0.1, max_depth=2..............................\n",
      "[CV 3/3; 1/4] END ............learning_rate=0.1, max_depth=2; total time=  42.7s\n",
      "[CV 1/3; 2/4] START learning_rate=0.1, max_depth=10.............................\n",
      "[CV 1/3; 2/4] END ...........learning_rate=0.1, max_depth=10; total time= 5.4min\n",
      "[CV 2/3; 2/4] START learning_rate=0.1, max_depth=10.............................\n",
      "[CV 2/3; 2/4] END ...........learning_rate=0.1, max_depth=10; total time= 5.7min\n",
      "[CV 3/3; 2/4] START learning_rate=0.1, max_depth=10.............................\n",
      "[CV 3/3; 2/4] END ...........learning_rate=0.1, max_depth=10; total time= 6.0min\n",
      "[CV 1/3; 3/4] START learning_rate=0.8, max_depth=2..............................\n",
      "[CV 1/3; 3/4] END ............learning_rate=0.8, max_depth=2; total time=  56.9s\n",
      "[CV 2/3; 3/4] START learning_rate=0.8, max_depth=2..............................\n",
      "[CV 2/3; 3/4] END ............learning_rate=0.8, max_depth=2; total time=  58.5s\n",
      "[CV 3/3; 3/4] START learning_rate=0.8, max_depth=2..............................\n",
      "[CV 3/3; 3/4] END ............learning_rate=0.8, max_depth=2; total time=  47.8s\n",
      "[CV 1/3; 4/4] START learning_rate=0.8, max_depth=10.............................\n",
      "[CV 1/3; 4/4] END ...........learning_rate=0.8, max_depth=10; total time=10.7min\n",
      "[CV 2/3; 4/4] START learning_rate=0.8, max_depth=10.............................\n",
      "[CV 2/3; 4/4] END ...........learning_rate=0.8, max_depth=10; total time=12.0min\n",
      "[CV 3/3; 4/4] START learning_rate=0.8, max_depth=10.............................\n",
      "[CV 3/3; 4/4] END ...........learning_rate=0.8, max_depth=10; total time=11.5min\n",
      "best params {'learning_rate': 0.1, 'max_depth': 10}\n",
      "best score -1615.0591027803448\n",
      "CPU times: user 44min 1s, sys: 27.8 s, total: 44min 29s\n",
      "Wall time: 1h 7min 47s\n"
     ]
    }
   ],
   "source": [
    "%%time\n",
    "param_grid = {'max_depth':[2,10],\n",
    "              'learning_rate': [0.1, 0.8],\n",
    "}\n",
    "\n",
    "lgb_estimator = LGBMRegressor(random_state=42) \n",
    "                                \n",
    "\n",
    "lgbm_grid = GridSearchCV(estimator = lgb_estimator,\\\n",
    "                               param_grid = param_grid,\\\n",
    "                               n_jobs=1,\\\n",
    "                               verbose=10,\\\n",
    "                               scoring= 'neg_root_mean_squared_error',\\\n",
    "                               cv=3)\n",
    "\n",
    "lgbm_grid.fit(X_train, y_train)\n",
    "print('best params', lgbm_grid.best_params_)\n",
    "print('best score', lgbm_grid.best_score_)\n",
    "\n",
    "\n",
    "# best params {'learning_rate': 0.1, 'max_depth': 10}\n",
    "# best score -1615.0591027803448\n",
    "# CPU times: user 44min 1s, sys: 27.8 s, total: 44min 29s\n",
    "# Wall time: 1h 7min 47s"
   ]
  },
  {
   "cell_type": "markdown",
   "metadata": {},
   "source": [
    "### Выведем в табличной форме время обучения и предсказания нашей модели"
   ]
  },
  {
   "cell_type": "code",
   "execution_count": 51,
   "metadata": {},
   "outputs": [
    {
     "data": {
      "text/html": [
       "<div>\n",
       "<style scoped>\n",
       "    .dataframe tbody tr th:only-of-type {\n",
       "        vertical-align: middle;\n",
       "    }\n",
       "\n",
       "    .dataframe tbody tr th {\n",
       "        vertical-align: top;\n",
       "    }\n",
       "\n",
       "    .dataframe thead th {\n",
       "        text-align: right;\n",
       "    }\n",
       "</style>\n",
       "<table border=\"1\" class=\"dataframe\">\n",
       "  <thead>\n",
       "    <tr style=\"text-align: right;\">\n",
       "      <th></th>\n",
       "      <th>mean_fit_time</th>\n",
       "      <th>std_fit_time</th>\n",
       "      <th>mean_score_time</th>\n",
       "      <th>std_score_time</th>\n",
       "      <th>param_learning_rate</th>\n",
       "      <th>param_max_depth</th>\n",
       "      <th>params</th>\n",
       "      <th>split0_test_score</th>\n",
       "      <th>split1_test_score</th>\n",
       "      <th>split2_test_score</th>\n",
       "      <th>mean_test_score</th>\n",
       "      <th>std_test_score</th>\n",
       "      <th>rank_test_score</th>\n",
       "    </tr>\n",
       "  </thead>\n",
       "  <tbody>\n",
       "    <tr>\n",
       "      <th>0</th>\n",
       "      <td>44.354128</td>\n",
       "      <td>2.929700</td>\n",
       "      <td>0.312913</td>\n",
       "      <td>0.009939</td>\n",
       "      <td>0.1</td>\n",
       "      <td>2</td>\n",
       "      <td>{'learning_rate': 0.1, 'max_depth': 2}</td>\n",
       "      <td>-1912.638099</td>\n",
       "      <td>-1906.168791</td>\n",
       "      <td>-1901.660525</td>\n",
       "      <td>-1906.822471</td>\n",
       "      <td>4.505349</td>\n",
       "      <td>4</td>\n",
       "    </tr>\n",
       "    <tr>\n",
       "      <th>1</th>\n",
       "      <td>340.491078</td>\n",
       "      <td>12.979828</td>\n",
       "      <td>0.775861</td>\n",
       "      <td>0.039440</td>\n",
       "      <td>0.1</td>\n",
       "      <td>10</td>\n",
       "      <td>{'learning_rate': 0.1, 'max_depth': 10}</td>\n",
       "      <td>-1625.264154</td>\n",
       "      <td>-1610.566064</td>\n",
       "      <td>-1609.347090</td>\n",
       "      <td>-1615.059103</td>\n",
       "      <td>7.233200</td>\n",
       "      <td>1</td>\n",
       "    </tr>\n",
       "    <tr>\n",
       "      <th>2</th>\n",
       "      <td>54.025712</td>\n",
       "      <td>4.654253</td>\n",
       "      <td>0.372460</td>\n",
       "      <td>0.080693</td>\n",
       "      <td>0.8</td>\n",
       "      <td>2</td>\n",
       "      <td>{'learning_rate': 0.8, 'max_depth': 2}</td>\n",
       "      <td>-1783.736854</td>\n",
       "      <td>-1760.938755</td>\n",
       "      <td>-1795.343375</td>\n",
       "      <td>-1780.006328</td>\n",
       "      <td>14.291188</td>\n",
       "      <td>3</td>\n",
       "    </tr>\n",
       "    <tr>\n",
       "      <th>3</th>\n",
       "      <td>682.821551</td>\n",
       "      <td>33.942394</td>\n",
       "      <td>0.805404</td>\n",
       "      <td>0.083842</td>\n",
       "      <td>0.8</td>\n",
       "      <td>10</td>\n",
       "      <td>{'learning_rate': 0.8, 'max_depth': 10}</td>\n",
       "      <td>-1684.414751</td>\n",
       "      <td>-1672.130860</td>\n",
       "      <td>-1666.484351</td>\n",
       "      <td>-1674.343320</td>\n",
       "      <td>7.485365</td>\n",
       "      <td>2</td>\n",
       "    </tr>\n",
       "  </tbody>\n",
       "</table>\n",
       "</div>"
      ],
      "text/plain": [
       "   mean_fit_time  std_fit_time  mean_score_time  std_score_time  \\\n",
       "0      44.354128      2.929700         0.312913        0.009939   \n",
       "1     340.491078     12.979828         0.775861        0.039440   \n",
       "2      54.025712      4.654253         0.372460        0.080693   \n",
       "3     682.821551     33.942394         0.805404        0.083842   \n",
       "\n",
       "  param_learning_rate param_max_depth  \\\n",
       "0                 0.1               2   \n",
       "1                 0.1              10   \n",
       "2                 0.8               2   \n",
       "3                 0.8              10   \n",
       "\n",
       "                                    params  split0_test_score  \\\n",
       "0   {'learning_rate': 0.1, 'max_depth': 2}       -1912.638099   \n",
       "1  {'learning_rate': 0.1, 'max_depth': 10}       -1625.264154   \n",
       "2   {'learning_rate': 0.8, 'max_depth': 2}       -1783.736854   \n",
       "3  {'learning_rate': 0.8, 'max_depth': 10}       -1684.414751   \n",
       "\n",
       "   split1_test_score  split2_test_score  mean_test_score  std_test_score  \\\n",
       "0       -1906.168791       -1901.660525     -1906.822471        4.505349   \n",
       "1       -1610.566064       -1609.347090     -1615.059103        7.233200   \n",
       "2       -1760.938755       -1795.343375     -1780.006328       14.291188   \n",
       "3       -1672.130860       -1666.484351     -1674.343320        7.485365   \n",
       "\n",
       "   rank_test_score  \n",
       "0                4  \n",
       "1                1  \n",
       "2                3  \n",
       "3                2  "
      ]
     },
     "metadata": {},
     "output_type": "display_data"
    },
    {
     "data": {
      "text/html": [
       "<div>\n",
       "<style scoped>\n",
       "    .dataframe tbody tr th:only-of-type {\n",
       "        vertical-align: middle;\n",
       "    }\n",
       "\n",
       "    .dataframe tbody tr th {\n",
       "        vertical-align: top;\n",
       "    }\n",
       "\n",
       "    .dataframe thead th {\n",
       "        text-align: right;\n",
       "    }\n",
       "</style>\n",
       "<table border=\"1\" class=\"dataframe\">\n",
       "  <thead>\n",
       "    <tr style=\"text-align: right;\">\n",
       "      <th></th>\n",
       "      <th>mean_fit_time</th>\n",
       "      <th>std_fit_time</th>\n",
       "      <th>mean_score_time</th>\n",
       "      <th>std_score_time</th>\n",
       "      <th>param_learning_rate</th>\n",
       "      <th>param_max_depth</th>\n",
       "      <th>params</th>\n",
       "      <th>split0_test_score</th>\n",
       "      <th>split1_test_score</th>\n",
       "      <th>split2_test_score</th>\n",
       "      <th>mean_test_score</th>\n",
       "      <th>std_test_score</th>\n",
       "      <th>rank_test_score</th>\n",
       "    </tr>\n",
       "  </thead>\n",
       "  <tbody>\n",
       "    <tr>\n",
       "      <th>1</th>\n",
       "      <td>340.491078</td>\n",
       "      <td>12.979828</td>\n",
       "      <td>0.775861</td>\n",
       "      <td>0.03944</td>\n",
       "      <td>0.1</td>\n",
       "      <td>10</td>\n",
       "      <td>{'learning_rate': 0.1, 'max_depth': 10}</td>\n",
       "      <td>-1625.264154</td>\n",
       "      <td>-1610.566064</td>\n",
       "      <td>-1609.34709</td>\n",
       "      <td>-1615.059103</td>\n",
       "      <td>7.2332</td>\n",
       "      <td>1</td>\n",
       "    </tr>\n",
       "  </tbody>\n",
       "</table>\n",
       "</div>"
      ],
      "text/plain": [
       "   mean_fit_time  std_fit_time  mean_score_time  std_score_time  \\\n",
       "1     340.491078     12.979828         0.775861         0.03944   \n",
       "\n",
       "  param_learning_rate param_max_depth  \\\n",
       "1                 0.1              10   \n",
       "\n",
       "                                    params  split0_test_score  \\\n",
       "1  {'learning_rate': 0.1, 'max_depth': 10}       -1625.264154   \n",
       "\n",
       "   split1_test_score  split2_test_score  mean_test_score  std_test_score  \\\n",
       "1       -1610.566064        -1609.34709     -1615.059103          7.2332   \n",
       "\n",
       "   rank_test_score  \n",
       "1                1  "
      ]
     },
     "metadata": {},
     "output_type": "display_data"
    },
    {
     "name": "stdout",
     "output_type": "stream",
     "text": [
      "Fit Time:340.49107758204144, Predict Time:0.7758607069651285\n"
     ]
    }
   ],
   "source": [
    "results = pd.DataFrame(lgbm_grid.cv_results_)\n",
    "display(results)\n",
    "display(results[results['rank_test_score'] == 1])\n",
    "fit_time = results[results['rank_test_score'] == 1]['mean_fit_time'].values[0]\n",
    "predict_time = results[results['rank_test_score'] == 1]['mean_score_time'].values[0]\n",
    "print(f'Fit Time:{fit_time}, Predict Time:{predict_time}')"
   ]
  },
  {
   "cell_type": "markdown",
   "metadata": {},
   "source": [
    "# Модель LinearRegression"
   ]
  },
  {
   "cell_type": "markdown",
   "metadata": {},
   "source": [
    "**Получим целевую метрику для линейной регресии**"
   ]
  },
  {
   "cell_type": "code",
   "execution_count": 52,
   "metadata": {},
   "outputs": [
    {
     "name": "stdout",
     "output_type": "stream",
     "text": [
      "-18030480295.138847\n"
     ]
    }
   ],
   "source": [
    "ml_model = LinearRegression() \n",
    "v_f = cross_val_score(ml_model, X_train_lr, y_train, cv=5, scoring='neg_root_mean_squared_error')\n",
    "print(v_f.mean())"
   ]
  },
  {
   "cell_type": "code",
   "execution_count": 53,
   "metadata": {},
   "outputs": [
    {
     "data": {
      "text/html": [
       "<div>\n",
       "<style scoped>\n",
       "    .dataframe tbody tr th:only-of-type {\n",
       "        vertical-align: middle;\n",
       "    }\n",
       "\n",
       "    .dataframe tbody tr th {\n",
       "        vertical-align: top;\n",
       "    }\n",
       "\n",
       "    .dataframe thead th {\n",
       "        text-align: right;\n",
       "    }\n",
       "</style>\n",
       "<table border=\"1\" class=\"dataframe\">\n",
       "  <thead>\n",
       "    <tr style=\"text-align: right;\">\n",
       "      <th></th>\n",
       "      <th>fit_time</th>\n",
       "      <th>score_time</th>\n",
       "      <th>estimator</th>\n",
       "      <th>test_score</th>\n",
       "    </tr>\n",
       "  </thead>\n",
       "  <tbody>\n",
       "    <tr>\n",
       "      <th>0</th>\n",
       "      <td>29.890859</td>\n",
       "      <td>0.108588</td>\n",
       "      <td>LinearRegression()</td>\n",
       "      <td>-2.773398e+03</td>\n",
       "    </tr>\n",
       "    <tr>\n",
       "      <th>1</th>\n",
       "      <td>38.302257</td>\n",
       "      <td>0.194549</td>\n",
       "      <td>LinearRegression()</td>\n",
       "      <td>-2.781724e+03</td>\n",
       "    </tr>\n",
       "    <tr>\n",
       "      <th>2</th>\n",
       "      <td>40.304391</td>\n",
       "      <td>0.200662</td>\n",
       "      <td>LinearRegression()</td>\n",
       "      <td>-2.735374e+03</td>\n",
       "    </tr>\n",
       "    <tr>\n",
       "      <th>3</th>\n",
       "      <td>41.189139</td>\n",
       "      <td>0.104800</td>\n",
       "      <td>LinearRegression()</td>\n",
       "      <td>-2.737208e+10</td>\n",
       "    </tr>\n",
       "    <tr>\n",
       "      <th>4</th>\n",
       "      <td>33.292801</td>\n",
       "      <td>0.109263</td>\n",
       "      <td>LinearRegression()</td>\n",
       "      <td>-6.278031e+10</td>\n",
       "    </tr>\n",
       "  </tbody>\n",
       "</table>\n",
       "</div>"
      ],
      "text/plain": [
       "    fit_time  score_time           estimator    test_score\n",
       "0  29.890859    0.108588  LinearRegression() -2.773398e+03\n",
       "1  38.302257    0.194549  LinearRegression() -2.781724e+03\n",
       "2  40.304391    0.200662  LinearRegression() -2.735374e+03\n",
       "3  41.189139    0.104800  LinearRegression() -2.737208e+10\n",
       "4  33.292801    0.109263  LinearRegression() -6.278031e+10"
      ]
     },
     "execution_count": 53,
     "metadata": {},
     "output_type": "execute_result"
    }
   ],
   "source": [
    "from sklearn.model_selection import cross_validate\n",
    "\n",
    "lr = LinearRegression()\n",
    "\n",
    "scores = cross_validate(lr, X_train_lr, y_train, cv = 5, scoring='neg_root_mean_squared_error', return_estimator=True)\n",
    "results_lr = pd.DataFrame(scores)\n",
    "results_lr"
   ]
  },
  {
   "cell_type": "code",
   "execution_count": 54,
   "metadata": {},
   "outputs": [
    {
     "data": {
      "text/plain": [
       "'Время обучения: 36.595889472961424'"
      ]
     },
     "metadata": {},
     "output_type": "display_data"
    },
    {
     "data": {
      "text/plain": [
       "'Время предсказания: 0.14357247352600097'"
      ]
     },
     "metadata": {},
     "output_type": "display_data"
    },
    {
     "data": {
      "text/plain": [
       "'RMSE среднее: 18030480295.138847'"
      ]
     },
     "metadata": {},
     "output_type": "display_data"
    },
    {
     "data": {
      "text/plain": [
       "'RMSE минимальное: 2735.373518963183'"
      ]
     },
     "metadata": {},
     "output_type": "display_data"
    },
    {
     "data": {
      "text/plain": [
       "'RMSE максимальное: 62780313658.33342'"
      ]
     },
     "metadata": {},
     "output_type": "display_data"
    }
   ],
   "source": [
    "results_lr.test_score = results_lr.test_score * (-1) #для удобства уберу минус в колонке с метрикой  \n",
    "\n",
    "#выведем все необходимые нам характеристики плюс минимальное и максимальное\n",
    "#значение RMSE которое встречалось в кросс-валидации\n",
    "\n",
    "display(f'Время обучения: {results_lr.fit_time.mean()}')\n",
    "display(f'Время предсказания: {results_lr.score_time.mean()}')\n",
    "display(f'RMSE среднее: {results_lr.test_score.mean()}')\n",
    "display(f'RMSE минимальное: {results_lr.test_score.min()}')\n",
    "display(f'RMSE максимальное: {results_lr.test_score.max()}')"
   ]
  },
  {
   "cell_type": "markdown",
   "metadata": {},
   "source": [
    "**Выведем отдельно время обучения и время предсказания**"
   ]
  },
  {
   "cell_type": "code",
   "execution_count": 55,
   "metadata": {},
   "outputs": [
    {
     "name": "stdout",
     "output_type": "stream",
     "text": [
      "CPU times: user 13 s, sys: 14.6 s, total: 27.5 s\n",
      "Wall time: 38.4 s\n"
     ]
    },
    {
     "data": {
      "text/plain": [
       "LinearRegression()"
      ]
     },
     "execution_count": 55,
     "metadata": {},
     "output_type": "execute_result"
    }
   ],
   "source": [
    "%%time\n",
    "model = LinearRegression()\n",
    "model.fit(X_train_lr, y_train)"
   ]
  },
  {
   "cell_type": "code",
   "execution_count": 56,
   "metadata": {},
   "outputs": [
    {
     "name": "stdout",
     "output_type": "stream",
     "text": [
      "CPU times: user 80.9 ms, sys: 106 ms, total: 187 ms\n",
      "Wall time: 809 ms\n"
     ]
    }
   ],
   "source": [
    "%%time\n",
    "y_pred = model.predict(X_test_lr)"
   ]
  },
  {
   "cell_type": "markdown",
   "metadata": {},
   "source": [
    "# Таблица с временем обучения и предскзания лучших моделей"
   ]
  },
  {
   "cell_type": "markdown",
   "metadata": {},
   "source": [
    "**LGBMRegressor** \n",
    "\n",
    "    Fit Time:  352.6199272473653\n",
    "\n",
    "    Predict Time:  0.7807518641153971\n",
    "        \n",
    "**LinearRegression** \n",
    "\n",
    "    Fit Time: 15.1 s           \n",
    "\n",
    "    Predict Time: 195 ms\n",
    "\n",
    "**DecisionTreeRegressor**\n",
    "\n",
    "    Fit Time:  0.19026827812194824\n",
    "\n",
    "    Predict Time:  0.004828691482543945"
   ]
  },
  {
   "cell_type": "markdown",
   "metadata": {},
   "source": [
    "# Целевые метрики, полученные от разных моделей "
   ]
  },
  {
   "cell_type": "markdown",
   "metadata": {},
   "source": [
    "**LGBMRegressor:**  1614.3457311713319\n",
    "\n",
    "**LinearRegression:** 25283242004.54427\n",
    "\n",
    "**DecisionTreeRegressor:** 2311.276337378353"
   ]
  },
  {
   "cell_type": "markdown",
   "metadata": {},
   "source": [
    "****"
   ]
  },
  {
   "cell_type": "markdown",
   "metadata": {},
   "source": [
    "### Конечные выводы по обучению модели"
   ]
  },
  {
   "cell_type": "markdown",
   "metadata": {},
   "source": [
    "1. Разделили на обучающую, валидационную и тренировочную выборки в соотношении 3:1:1\n",
    "2. Проверили корретность разделенных выборок\n",
    "3. Произвели масштабирование данных для \n",
    "4. Произвели подбор гиперпараметров для моделей через GridSearchCV\n",
    "5. Выбрали модели LGBMRegressor, LinearRegression и DecisionTreeRegressor в качестве моделей\n",
    "6. После выбрали модель LGBMRegressor как самую оптимальную под критерии заказчика"
   ]
  },
  {
   "cell_type": "markdown",
   "metadata": {},
   "source": [
    "****"
   ]
  },
  {
   "cell_type": "markdown",
   "metadata": {},
   "source": [
    "## Анализ моделей"
   ]
  },
  {
   "cell_type": "markdown",
   "metadata": {},
   "source": [
    "**Опираясь на критерии заказчика, выбераем LGBMRegressor как лучшую модель, проверим её качество на тестовой выборке**"
   ]
  },
  {
   "cell_type": "markdown",
   "metadata": {},
   "source": [
    "**Отобранные нами гиперпараметры:** \n",
    "\n",
    "    max_depth=10\n",
    "    learning_rate=0.1"
   ]
  },
  {
   "cell_type": "code",
   "execution_count": 57,
   "metadata": {},
   "outputs": [
    {
     "name": "stdout",
     "output_type": "stream",
     "text": [
      "RMSE LGBMRegressor(random_state=42): 1616.9514339307655\n"
     ]
    }
   ],
   "source": [
    "rmse_test = mean_squared_error(y_test, lgbm_grid.best_estimator_.predict(X_test)) ** 0.5\n",
    "print(f\"RMSE {lgb_estimator}:\", rmse_test)"
   ]
  },
  {
   "cell_type": "markdown",
   "metadata": {},
   "source": [
    "### Выводы по анализу моделей "
   ]
  },
  {
   "cell_type": "markdown",
   "metadata": {},
   "source": [
    "1. Получили метрику качества RMSE чуть более лучшую, чем на валидационной выборке \n",
    "2. Модель была проверена на адекватность\n",
    "3. RMSE = 1613.6627344779229"
   ]
  },
  {
   "cell_type": "markdown",
   "metadata": {},
   "source": [
    "## Конечные выводы по проекту"
   ]
  },
  {
   "cell_type": "markdown",
   "metadata": {},
   "source": [
    "**1. Выводы по первичному анализу:**\n",
    "\n",
    "1. Были обнаружены пропуски в данных, для которых мы решили поставить заглушку в качестве обработки пропусков\n",
    "2. Было обнаружено аномальное значение в столбце месяц - \"0\", для которого замена была на случайный месяц\n",
    "3. Были приведены к правильному оформлению названия столбцов-признаков (через нижний и змеинный регистр)\n",
    "4. Наибольшее кол-во пропусков в признаке repaired (~20%)\n",
    "5. Признаки в датасете как количественные, так и категориальные. Что сведетельствует о том, что к данным должна быть приведена техника One-Hot-Encoding (OHT), OE и масштабирование данных.\n",
    "6. Не все признаки нам будут нужны для обучения моделей, и в датасете присутствуют признаки, которые должны были быть представленны как datetime\n",
    "7. Видем сразу, что у нас есть такая численная категория в признаке 'registration_mounth' как ноль. Что сведетельствует об потенциальной аномалии\n",
    "8. На графике четко прослеживается то, что такие признаки как 'power', 'registration_year' и 'number_of_pictures' имеют одинаково распределение своих данных (в один столбец)\n",
    "9. Видем, что для признака 'price' наибольшее кол-во признаков лежит ближе к нулю, и с последующим увелечением признака, данных все меньше. В то время как в признаке 'kilometer' мы видем сразу огромное распределение данных в 140000\n",
    "10. Были обнаружены дубликаты и от них мы решили избавиться.\n",
    "\n",
    "**2. Конечные выводы по обучению модели**\n",
    "\n",
    "1. Разделили на обучающую, валидационную и тренировочную выборки в соотношении 3:1:1\n",
    "2. Проверили корретность разделенных выборок\n",
    "3. Произвели масштабирование данных\n",
    "4. Создадили собственную метрику качества: RMSE\n",
    "5. Произвели подбор гиперпараметров для моделей через GridSearchCV\n",
    "6. Выбрали модели LGBMRegressor, LinearRegression и DecisionTreeRegressor в качестве моделей\n",
    "7. После выбрали модель LGBMRegressor как самую оптимальную под критерии заказчика\n",
    "\n",
    "\n",
    "**Параметры лучшей модели LGBMRegressor:**\n",
    "\n",
    "    max_depth=10\n",
    "    learning_rate=0.1\n",
    "    RMSE = 1614.3457311713319\n",
    "\n",
    "\n",
    "**3.  Выводы по анализу моделей**\n",
    "1. Получили метрику качества RMSE чуть более лучшую\n",
    "2. Модель была проверена на адекватность\n",
    "3. RMSE = 1613.6627344779229"
   ]
  }
 ],
 "metadata": {
  "ExecuteTimeLog": [
   {
    "duration": 478,
    "start_time": "2022-11-15T10:57:11.730Z"
   },
   {
    "duration": 7,
    "start_time": "2022-11-15T10:57:17.786Z"
   },
   {
    "duration": 1732,
    "start_time": "2022-11-15T11:45:18.901Z"
   },
   {
    "duration": 48,
    "start_time": "2022-11-15T11:45:29.777Z"
   },
   {
    "duration": 231,
    "start_time": "2022-11-15T11:45:36.166Z"
   },
   {
    "duration": 1502,
    "start_time": "2022-11-15T11:46:28.899Z"
   },
   {
    "duration": 1251,
    "start_time": "2022-11-15T11:46:47.306Z"
   },
   {
    "duration": 1197,
    "start_time": "2022-11-15T11:46:51.337Z"
   },
   {
    "duration": 80,
    "start_time": "2022-11-15T11:48:11.344Z"
   },
   {
    "duration": 74,
    "start_time": "2022-11-15T11:48:27.021Z"
   },
   {
    "duration": 845,
    "start_time": "2022-11-15T11:54:21.308Z"
   },
   {
    "duration": 80,
    "start_time": "2022-11-15T11:54:38.928Z"
   },
   {
    "duration": 10,
    "start_time": "2022-11-15T11:54:52.499Z"
   },
   {
    "duration": 1130,
    "start_time": "2022-11-15T11:54:56.005Z"
   },
   {
    "duration": 1229,
    "start_time": "2022-11-15T11:55:05.376Z"
   },
   {
    "duration": 1069,
    "start_time": "2022-11-15T11:55:10.335Z"
   },
   {
    "duration": 458,
    "start_time": "2022-11-15T11:58:31.369Z"
   },
   {
    "duration": 20,
    "start_time": "2022-11-15T11:59:47.705Z"
   },
   {
    "duration": 413,
    "start_time": "2022-11-15T12:02:50.872Z"
   },
   {
    "duration": 5,
    "start_time": "2022-11-15T12:03:56.761Z"
   },
   {
    "duration": 1484,
    "start_time": "2022-11-15T12:04:01.454Z"
   },
   {
    "duration": 1244,
    "start_time": "2022-11-15T12:04:06.317Z"
   },
   {
    "duration": 1558,
    "start_time": "2022-11-15T12:04:17.588Z"
   },
   {
    "duration": 3,
    "start_time": "2022-11-15T12:05:09.121Z"
   },
   {
    "duration": 16,
    "start_time": "2022-11-15T12:05:15.617Z"
   },
   {
    "duration": 82,
    "start_time": "2022-11-15T12:05:27.045Z"
   },
   {
    "duration": 2424,
    "start_time": "2022-11-15T12:08:51.527Z"
   },
   {
    "duration": 29,
    "start_time": "2022-11-15T12:10:25.254Z"
   },
   {
    "duration": 1629,
    "start_time": "2022-11-15T15:27:34.542Z"
   },
   {
    "duration": 1071,
    "start_time": "2022-11-15T15:27:36.174Z"
   },
   {
    "duration": 113,
    "start_time": "2022-11-15T15:27:37.247Z"
   },
   {
    "duration": 19,
    "start_time": "2022-11-15T15:27:37.362Z"
   },
   {
    "duration": 1272,
    "start_time": "2022-11-15T15:27:37.383Z"
   },
   {
    "duration": 16,
    "start_time": "2022-11-15T15:27:38.657Z"
   },
   {
    "duration": 65,
    "start_time": "2022-11-15T15:27:38.676Z"
   },
   {
    "duration": 186,
    "start_time": "2022-11-15T15:27:38.743Z"
   },
   {
    "duration": 207,
    "start_time": "2022-11-15T15:27:45.894Z"
   },
   {
    "duration": 4,
    "start_time": "2022-11-15T15:39:18.853Z"
   },
   {
    "duration": 1544,
    "start_time": "2022-11-20T14:37:07.775Z"
   },
   {
    "duration": 979,
    "start_time": "2022-11-20T14:37:09.939Z"
   },
   {
    "duration": 118,
    "start_time": "2022-11-20T14:37:10.920Z"
   },
   {
    "duration": 16,
    "start_time": "2022-11-20T14:37:11.093Z"
   },
   {
    "duration": 1208,
    "start_time": "2022-11-20T14:37:11.663Z"
   },
   {
    "duration": 26,
    "start_time": "2022-11-20T14:37:12.873Z"
   },
   {
    "duration": 122,
    "start_time": "2022-11-20T14:42:28.875Z"
   },
   {
    "duration": 22,
    "start_time": "2022-11-20T14:42:37.839Z"
   },
   {
    "duration": 13,
    "start_time": "2022-11-20T14:42:44.699Z"
   },
   {
    "duration": 4,
    "start_time": "2022-11-20T14:44:09.688Z"
   },
   {
    "duration": 205,
    "start_time": "2022-11-20T14:44:35.482Z"
   },
   {
    "duration": 196,
    "start_time": "2022-11-20T14:44:43.120Z"
   },
   {
    "duration": 1361,
    "start_time": "2022-11-20T14:45:32.087Z"
   },
   {
    "duration": 747,
    "start_time": "2022-11-20T14:45:33.450Z"
   },
   {
    "duration": 114,
    "start_time": "2022-11-20T14:45:34.198Z"
   },
   {
    "duration": 19,
    "start_time": "2022-11-20T14:45:34.314Z"
   },
   {
    "duration": 1219,
    "start_time": "2022-11-20T14:45:34.334Z"
   },
   {
    "duration": 15,
    "start_time": "2022-11-20T14:45:35.554Z"
   },
   {
    "duration": 49,
    "start_time": "2022-11-20T14:45:35.571Z"
   },
   {
    "duration": 226,
    "start_time": "2022-11-20T14:45:35.622Z"
   },
   {
    "duration": 113,
    "start_time": "2022-11-20T14:45:35.850Z"
   },
   {
    "duration": 195,
    "start_time": "2022-11-20T14:45:35.965Z"
   },
   {
    "duration": 3,
    "start_time": "2022-11-20T14:45:36.162Z"
   },
   {
    "duration": 111,
    "start_time": "2022-11-20T14:47:13.499Z"
   },
   {
    "duration": 16,
    "start_time": "2022-11-20T14:47:18.719Z"
   },
   {
    "duration": 1301,
    "start_time": "2022-11-20T14:47:51.125Z"
   },
   {
    "duration": 764,
    "start_time": "2022-11-20T14:47:52.427Z"
   },
   {
    "duration": 115,
    "start_time": "2022-11-20T14:47:53.192Z"
   },
   {
    "duration": 18,
    "start_time": "2022-11-20T14:47:53.309Z"
   },
   {
    "duration": 1170,
    "start_time": "2022-11-20T14:47:53.329Z"
   },
   {
    "duration": 14,
    "start_time": "2022-11-20T14:47:54.500Z"
   },
   {
    "duration": 33,
    "start_time": "2022-11-20T14:47:54.516Z"
   },
   {
    "duration": 125,
    "start_time": "2022-11-20T14:47:54.551Z"
   },
   {
    "duration": 0,
    "start_time": "2022-11-20T14:47:54.678Z"
   },
   {
    "duration": 0,
    "start_time": "2022-11-20T14:47:54.680Z"
   },
   {
    "duration": 0,
    "start_time": "2022-11-20T14:47:54.681Z"
   },
   {
    "duration": 1292,
    "start_time": "2022-11-20T14:49:12.221Z"
   },
   {
    "duration": 740,
    "start_time": "2022-11-20T14:49:13.514Z"
   },
   {
    "duration": 115,
    "start_time": "2022-11-20T14:49:14.255Z"
   },
   {
    "duration": 25,
    "start_time": "2022-11-20T14:49:14.372Z"
   },
   {
    "duration": 1262,
    "start_time": "2022-11-20T14:49:14.399Z"
   },
   {
    "duration": 14,
    "start_time": "2022-11-20T14:49:15.662Z"
   },
   {
    "duration": 44,
    "start_time": "2022-11-20T14:49:15.677Z"
   },
   {
    "duration": 27,
    "start_time": "2022-11-20T14:49:15.722Z"
   },
   {
    "duration": 162,
    "start_time": "2022-11-20T14:49:15.750Z"
   },
   {
    "duration": 218,
    "start_time": "2022-11-20T14:49:15.915Z"
   },
   {
    "duration": 2,
    "start_time": "2022-11-20T14:49:16.136Z"
   },
   {
    "duration": 28,
    "start_time": "2022-11-20T14:49:41.376Z"
   },
   {
    "duration": 101,
    "start_time": "2022-11-20T14:50:13.379Z"
   },
   {
    "duration": 9,
    "start_time": "2022-11-20T14:50:22.888Z"
   },
   {
    "duration": 27,
    "start_time": "2022-11-20T14:50:28.621Z"
   },
   {
    "duration": 22,
    "start_time": "2022-11-20T14:51:29.446Z"
   },
   {
    "duration": 29,
    "start_time": "2022-11-20T14:51:32.410Z"
   },
   {
    "duration": 1309,
    "start_time": "2022-11-20T14:51:37.912Z"
   },
   {
    "duration": 754,
    "start_time": "2022-11-20T14:51:39.223Z"
   },
   {
    "duration": 110,
    "start_time": "2022-11-20T14:51:39.979Z"
   },
   {
    "duration": 19,
    "start_time": "2022-11-20T14:51:40.096Z"
   },
   {
    "duration": 1194,
    "start_time": "2022-11-20T14:51:40.117Z"
   },
   {
    "duration": 14,
    "start_time": "2022-11-20T14:51:41.312Z"
   },
   {
    "duration": 93,
    "start_time": "2022-11-20T14:51:41.327Z"
   },
   {
    "duration": 16,
    "start_time": "2022-11-20T14:51:41.421Z"
   },
   {
    "duration": 37,
    "start_time": "2022-11-20T14:51:41.439Z"
   },
   {
    "duration": 191,
    "start_time": "2022-11-20T14:51:41.478Z"
   },
   {
    "duration": 3,
    "start_time": "2022-11-20T14:51:41.671Z"
   },
   {
    "duration": 54,
    "start_time": "2022-11-20T14:52:48.163Z"
   },
   {
    "duration": 30,
    "start_time": "2022-11-20T14:52:57.887Z"
   },
   {
    "duration": 1566,
    "start_time": "2022-11-20T14:53:05.390Z"
   },
   {
    "duration": 802,
    "start_time": "2022-11-20T14:53:06.958Z"
   },
   {
    "duration": 145,
    "start_time": "2022-11-20T14:53:07.761Z"
   },
   {
    "duration": 21,
    "start_time": "2022-11-20T14:53:07.909Z"
   },
   {
    "duration": 1296,
    "start_time": "2022-11-20T14:53:07.933Z"
   },
   {
    "duration": 16,
    "start_time": "2022-11-20T14:53:09.231Z"
   },
   {
    "duration": 107,
    "start_time": "2022-11-20T14:53:09.249Z"
   },
   {
    "duration": 17,
    "start_time": "2022-11-20T14:53:09.357Z"
   },
   {
    "duration": 59,
    "start_time": "2022-11-20T14:53:09.376Z"
   },
   {
    "duration": 193,
    "start_time": "2022-11-20T14:53:09.438Z"
   },
   {
    "duration": 2,
    "start_time": "2022-11-20T14:53:09.633Z"
   },
   {
    "duration": 22,
    "start_time": "2022-11-20T14:53:36.894Z"
   },
   {
    "duration": 5,
    "start_time": "2022-11-20T14:56:01.203Z"
   },
   {
    "duration": 15,
    "start_time": "2022-11-20T14:56:14.880Z"
   },
   {
    "duration": 5,
    "start_time": "2022-11-20T14:56:35.431Z"
   },
   {
    "duration": 5,
    "start_time": "2022-11-20T14:57:05.224Z"
   },
   {
    "duration": 5,
    "start_time": "2022-11-20T14:57:16.311Z"
   },
   {
    "duration": 15,
    "start_time": "2022-11-20T14:57:24.025Z"
   },
   {
    "duration": 20,
    "start_time": "2022-11-20T14:58:02.759Z"
   },
   {
    "duration": 4,
    "start_time": "2022-11-20T14:58:11.498Z"
   },
   {
    "duration": 819,
    "start_time": "2022-11-20T14:58:17.223Z"
   },
   {
    "duration": 5,
    "start_time": "2022-11-20T14:58:19.779Z"
   },
   {
    "duration": 16,
    "start_time": "2022-11-20T14:58:30.378Z"
   },
   {
    "duration": 15,
    "start_time": "2022-11-20T14:58:43.285Z"
   },
   {
    "duration": 17,
    "start_time": "2022-11-20T14:58:50.327Z"
   },
   {
    "duration": 85,
    "start_time": "2022-11-20T15:03:05.581Z"
   },
   {
    "duration": 11,
    "start_time": "2022-11-20T15:03:18.177Z"
   },
   {
    "duration": 9,
    "start_time": "2022-11-20T15:03:23.456Z"
   },
   {
    "duration": 4,
    "start_time": "2022-11-20T15:03:26.314Z"
   },
   {
    "duration": 3,
    "start_time": "2022-11-20T15:11:48.664Z"
   },
   {
    "duration": 116,
    "start_time": "2022-11-20T15:12:23.101Z"
   },
   {
    "duration": 106,
    "start_time": "2022-11-20T15:12:33.982Z"
   },
   {
    "duration": 30,
    "start_time": "2022-11-20T15:15:40.615Z"
   },
   {
    "duration": 256,
    "start_time": "2022-11-20T15:15:56.677Z"
   },
   {
    "duration": 278,
    "start_time": "2022-11-20T15:16:04.250Z"
   },
   {
    "duration": 216,
    "start_time": "2022-11-20T15:17:09.815Z"
   },
   {
    "duration": 236,
    "start_time": "2022-11-20T15:17:19.101Z"
   },
   {
    "duration": 317,
    "start_time": "2022-11-20T15:17:27.741Z"
   },
   {
    "duration": 9,
    "start_time": "2022-11-20T15:19:52.162Z"
   },
   {
    "duration": 8,
    "start_time": "2022-11-20T15:20:18.069Z"
   },
   {
    "duration": 4,
    "start_time": "2022-11-20T15:20:20.543Z"
   },
   {
    "duration": 10,
    "start_time": "2022-11-20T15:20:39.226Z"
   },
   {
    "duration": 9,
    "start_time": "2022-11-20T15:20:42.639Z"
   },
   {
    "duration": 5,
    "start_time": "2022-11-20T15:21:01.374Z"
   },
   {
    "duration": 74,
    "start_time": "2022-11-20T15:23:56.457Z"
   },
   {
    "duration": 87,
    "start_time": "2022-11-20T15:24:03.542Z"
   },
   {
    "duration": 37,
    "start_time": "2022-11-20T15:26:10.512Z"
   },
   {
    "duration": 106,
    "start_time": "2022-11-20T15:26:11.122Z"
   },
   {
    "duration": 50,
    "start_time": "2022-11-20T15:47:37.304Z"
   },
   {
    "duration": 49,
    "start_time": "2022-11-20T15:48:03.678Z"
   },
   {
    "duration": 46,
    "start_time": "2022-11-20T15:48:06.117Z"
   },
   {
    "duration": 10,
    "start_time": "2022-11-20T15:48:10.566Z"
   },
   {
    "duration": 13,
    "start_time": "2022-11-20T15:48:23.732Z"
   },
   {
    "duration": 10,
    "start_time": "2022-11-20T15:48:30.095Z"
   },
   {
    "duration": 16,
    "start_time": "2022-11-20T15:48:35.202Z"
   },
   {
    "duration": 15,
    "start_time": "2022-11-20T15:48:37.878Z"
   },
   {
    "duration": 15,
    "start_time": "2022-11-20T15:48:46.932Z"
   },
   {
    "duration": 17,
    "start_time": "2022-11-20T15:48:49.226Z"
   },
   {
    "duration": 13,
    "start_time": "2022-11-20T15:48:51.201Z"
   },
   {
    "duration": 1355,
    "start_time": "2022-11-20T15:53:18.294Z"
   },
   {
    "duration": 1132,
    "start_time": "2022-11-20T15:53:19.651Z"
   },
   {
    "duration": 125,
    "start_time": "2022-11-20T15:53:20.784Z"
   },
   {
    "duration": 3,
    "start_time": "2022-11-20T15:53:20.912Z"
   },
   {
    "duration": 24,
    "start_time": "2022-11-20T15:53:20.916Z"
   },
   {
    "duration": 1179,
    "start_time": "2022-11-20T15:53:20.941Z"
   },
   {
    "duration": 14,
    "start_time": "2022-11-20T15:53:22.122Z"
   },
   {
    "duration": 93,
    "start_time": "2022-11-20T15:53:22.138Z"
   },
   {
    "duration": 18,
    "start_time": "2022-11-20T15:53:22.232Z"
   },
   {
    "duration": 254,
    "start_time": "2022-11-20T15:53:22.252Z"
   },
   {
    "duration": 100,
    "start_time": "2022-11-20T15:53:22.508Z"
   },
   {
    "duration": 906,
    "start_time": "2022-11-20T15:53:22.610Z"
   },
   {
    "duration": 4,
    "start_time": "2022-11-20T16:10:17.204Z"
   },
   {
    "duration": 229,
    "start_time": "2022-11-20T16:15:36.191Z"
   },
   {
    "duration": 364,
    "start_time": "2022-11-20T16:15:37.153Z"
   },
   {
    "duration": 107,
    "start_time": "2022-11-20T16:15:40.169Z"
   },
   {
    "duration": 1314,
    "start_time": "2022-11-20T16:16:27.241Z"
   },
   {
    "duration": 781,
    "start_time": "2022-11-20T16:16:28.557Z"
   },
   {
    "duration": 110,
    "start_time": "2022-11-20T16:16:29.340Z"
   },
   {
    "duration": 4,
    "start_time": "2022-11-20T16:16:29.452Z"
   },
   {
    "duration": 19,
    "start_time": "2022-11-20T16:16:29.458Z"
   },
   {
    "duration": 1257,
    "start_time": "2022-11-20T16:16:29.479Z"
   },
   {
    "duration": 15,
    "start_time": "2022-11-20T16:16:30.738Z"
   },
   {
    "duration": 109,
    "start_time": "2022-11-20T16:16:30.754Z"
   },
   {
    "duration": 17,
    "start_time": "2022-11-20T16:16:30.865Z"
   },
   {
    "duration": 258,
    "start_time": "2022-11-20T16:16:30.884Z"
   },
   {
    "duration": 105,
    "start_time": "2022-11-20T16:16:31.143Z"
   },
   {
    "duration": 872,
    "start_time": "2022-11-20T16:16:31.249Z"
   },
   {
    "duration": 3,
    "start_time": "2022-11-20T16:16:32.123Z"
   },
   {
    "duration": 248,
    "start_time": "2022-11-20T16:16:32.130Z"
   },
   {
    "duration": 381,
    "start_time": "2022-11-20T16:16:32.380Z"
   },
   {
    "duration": 120,
    "start_time": "2022-11-20T16:16:32.763Z"
   },
   {
    "duration": 0,
    "start_time": "2022-11-20T16:16:32.885Z"
   },
   {
    "duration": 169,
    "start_time": "2022-11-20T16:20:34.750Z"
   },
   {
    "duration": 166,
    "start_time": "2022-11-20T16:20:50.891Z"
   },
   {
    "duration": 9228,
    "start_time": "2022-11-20T16:21:35.275Z"
   },
   {
    "duration": 12745,
    "start_time": "2022-11-20T16:25:06.252Z"
   },
   {
    "duration": 14,
    "start_time": "2022-11-20T16:39:04.674Z"
   },
   {
    "duration": 15,
    "start_time": "2022-11-20T16:39:21.314Z"
   },
   {
    "duration": 336720,
    "start_time": "2022-11-20T16:46:03.542Z"
   },
   {
    "duration": 187697,
    "start_time": "2022-11-20T16:53:47.649Z"
   },
   {
    "duration": 10319,
    "start_time": "2022-11-20T17:03:56.631Z"
   },
   {
    "duration": 4,
    "start_time": "2022-11-20T17:06:10.571Z"
   },
   {
    "duration": 5,
    "start_time": "2022-11-20T17:06:12.284Z"
   },
   {
    "duration": 49547,
    "start_time": "2022-11-20T17:06:17.779Z"
   },
   {
    "duration": 11669,
    "start_time": "2022-11-20T17:07:24.938Z"
   },
   {
    "duration": 3,
    "start_time": "2022-11-20T17:12:40.038Z"
   },
   {
    "duration": 9,
    "start_time": "2022-11-20T17:13:15.612Z"
   },
   {
    "duration": 4,
    "start_time": "2022-11-20T17:13:46.435Z"
   },
   {
    "duration": 3,
    "start_time": "2022-11-20T17:13:51.934Z"
   },
   {
    "duration": 61,
    "start_time": "2022-11-20T17:15:01.515Z"
   },
   {
    "duration": 4,
    "start_time": "2022-11-20T17:15:22.692Z"
   },
   {
    "duration": 54,
    "start_time": "2022-11-20T17:15:27.607Z"
   },
   {
    "duration": 1412,
    "start_time": "2022-11-20T17:29:59.799Z"
   },
   {
    "duration": 831,
    "start_time": "2022-11-20T17:30:01.213Z"
   },
   {
    "duration": 113,
    "start_time": "2022-11-20T17:30:02.046Z"
   },
   {
    "duration": 3,
    "start_time": "2022-11-20T17:30:02.161Z"
   },
   {
    "duration": 47,
    "start_time": "2022-11-20T17:30:02.166Z"
   },
   {
    "duration": 1188,
    "start_time": "2022-11-20T17:30:02.214Z"
   },
   {
    "duration": 14,
    "start_time": "2022-11-20T17:30:03.403Z"
   },
   {
    "duration": 86,
    "start_time": "2022-11-20T17:30:03.419Z"
   },
   {
    "duration": 18,
    "start_time": "2022-11-20T17:30:03.507Z"
   },
   {
    "duration": 241,
    "start_time": "2022-11-20T17:30:03.527Z"
   },
   {
    "duration": 97,
    "start_time": "2022-11-20T17:30:03.769Z"
   },
   {
    "duration": 967,
    "start_time": "2022-11-20T17:30:03.867Z"
   },
   {
    "duration": 230,
    "start_time": "2022-11-20T17:30:04.835Z"
   },
   {
    "duration": 367,
    "start_time": "2022-11-20T17:30:05.066Z"
   },
   {
    "duration": 167,
    "start_time": "2022-11-20T17:30:05.435Z"
   },
   {
    "duration": 3,
    "start_time": "2022-11-20T17:30:05.604Z"
   },
   {
    "duration": 57,
    "start_time": "2022-11-20T17:30:05.608Z"
   },
   {
    "duration": 23,
    "start_time": "2022-11-20T17:30:05.667Z"
   },
   {
    "duration": 13635,
    "start_time": "2022-11-20T17:30:05.691Z"
   },
   {
    "duration": 24371,
    "start_time": "2022-11-20T17:30:19.328Z"
   },
   {
    "duration": 1329,
    "start_time": "2022-11-20T17:37:26.508Z"
   },
   {
    "duration": 775,
    "start_time": "2022-11-20T17:37:27.839Z"
   },
   {
    "duration": 118,
    "start_time": "2022-11-20T17:37:28.616Z"
   },
   {
    "duration": 3,
    "start_time": "2022-11-20T17:37:28.736Z"
   },
   {
    "duration": 19,
    "start_time": "2022-11-20T17:37:28.741Z"
   },
   {
    "duration": 1197,
    "start_time": "2022-11-20T17:37:28.761Z"
   },
   {
    "duration": 14,
    "start_time": "2022-11-20T17:37:29.959Z"
   },
   {
    "duration": 84,
    "start_time": "2022-11-20T17:37:29.975Z"
   },
   {
    "duration": 18,
    "start_time": "2022-11-20T17:37:30.060Z"
   },
   {
    "duration": 262,
    "start_time": "2022-11-20T17:37:30.081Z"
   },
   {
    "duration": 101,
    "start_time": "2022-11-20T17:37:30.345Z"
   },
   {
    "duration": 1025,
    "start_time": "2022-11-20T17:37:30.448Z"
   },
   {
    "duration": 233,
    "start_time": "2022-11-20T17:37:31.474Z"
   },
   {
    "duration": 142,
    "start_time": "2022-11-20T17:37:31.709Z"
   },
   {
    "duration": 0,
    "start_time": "2022-11-20T17:37:31.852Z"
   },
   {
    "duration": 0,
    "start_time": "2022-11-20T17:37:31.853Z"
   },
   {
    "duration": 0,
    "start_time": "2022-11-20T17:37:31.854Z"
   },
   {
    "duration": 0,
    "start_time": "2022-11-20T17:37:31.855Z"
   },
   {
    "duration": 0,
    "start_time": "2022-11-20T17:37:31.856Z"
   },
   {
    "duration": 0,
    "start_time": "2022-11-20T17:37:31.857Z"
   },
   {
    "duration": 0,
    "start_time": "2022-11-20T17:37:31.858Z"
   },
   {
    "duration": 0,
    "start_time": "2022-11-20T17:37:31.859Z"
   },
   {
    "duration": 11,
    "start_time": "2022-11-20T17:38:45.199Z"
   },
   {
    "duration": 358,
    "start_time": "2022-11-20T17:39:21.971Z"
   },
   {
    "duration": 126,
    "start_time": "2022-11-20T17:39:27.334Z"
   },
   {
    "duration": 115,
    "start_time": "2022-11-20T17:39:29.020Z"
   },
   {
    "duration": 9,
    "start_time": "2022-11-20T17:40:01.772Z"
   },
   {
    "duration": 4,
    "start_time": "2022-11-20T17:40:04.062Z"
   },
   {
    "duration": 3,
    "start_time": "2022-11-20T17:40:17.660Z"
   },
   {
    "duration": 4,
    "start_time": "2022-11-20T17:40:31.077Z"
   },
   {
    "duration": 149,
    "start_time": "2022-11-20T17:41:10.951Z"
   },
   {
    "duration": 3,
    "start_time": "2022-11-20T17:41:12.786Z"
   },
   {
    "duration": 2,
    "start_time": "2022-11-20T17:41:13.103Z"
   },
   {
    "duration": 8478,
    "start_time": "2022-11-20T17:41:15.024Z"
   },
   {
    "duration": 19101,
    "start_time": "2022-11-20T17:41:23.504Z"
   },
   {
    "duration": 4,
    "start_time": "2022-11-20T17:43:34.984Z"
   },
   {
    "duration": 21,
    "start_time": "2022-11-20T17:44:34.364Z"
   },
   {
    "duration": 8721,
    "start_time": "2022-11-20T17:45:03.030Z"
   },
   {
    "duration": 8593,
    "start_time": "2022-11-20T17:46:10.620Z"
   },
   {
    "duration": 80,
    "start_time": "2022-11-20T17:46:31.776Z"
   },
   {
    "duration": 71,
    "start_time": "2022-11-20T17:47:08.901Z"
   },
   {
    "duration": 61,
    "start_time": "2022-11-20T17:47:25.006Z"
   },
   {
    "duration": 43042,
    "start_time": "2022-11-20T17:48:19.127Z"
   },
   {
    "duration": 215565,
    "start_time": "2022-11-20T17:52:00.110Z"
   },
   {
    "duration": 217293,
    "start_time": "2022-11-20T17:56:03.480Z"
   },
   {
    "duration": 3,
    "start_time": "2022-11-20T18:02:08.935Z"
   },
   {
    "duration": 6296,
    "start_time": "2022-11-20T18:02:44.504Z"
   },
   {
    "duration": 293,
    "start_time": "2022-11-20T18:03:04.816Z"
   },
   {
    "duration": 308,
    "start_time": "2022-11-20T18:03:57.501Z"
   },
   {
    "duration": 4,
    "start_time": "2022-11-20T18:04:00.870Z"
   },
   {
    "duration": 3,
    "start_time": "2022-11-20T18:04:05.035Z"
   },
   {
    "duration": 2,
    "start_time": "2022-11-20T18:04:26.977Z"
   },
   {
    "duration": 100250,
    "start_time": "2022-11-20T18:04:27.250Z"
   },
   {
    "duration": 2,
    "start_time": "2022-11-20T18:06:07.502Z"
   },
   {
    "duration": 807,
    "start_time": "2022-11-20T18:06:07.506Z"
   },
   {
    "duration": 4,
    "start_time": "2022-11-20T18:06:08.315Z"
   },
   {
    "duration": 5,
    "start_time": "2022-11-20T18:06:08.321Z"
   },
   {
    "duration": 1348,
    "start_time": "2022-11-20T18:06:19.024Z"
   },
   {
    "duration": 774,
    "start_time": "2022-11-20T18:06:20.374Z"
   },
   {
    "duration": 109,
    "start_time": "2022-11-20T18:06:21.150Z"
   },
   {
    "duration": 3,
    "start_time": "2022-11-20T18:06:21.261Z"
   },
   {
    "duration": 33,
    "start_time": "2022-11-20T18:06:21.265Z"
   },
   {
    "duration": 1155,
    "start_time": "2022-11-20T18:06:21.299Z"
   },
   {
    "duration": 13,
    "start_time": "2022-11-20T18:06:22.456Z"
   },
   {
    "duration": 86,
    "start_time": "2022-11-20T18:06:22.470Z"
   },
   {
    "duration": 18,
    "start_time": "2022-11-20T18:06:22.558Z"
   },
   {
    "duration": 309,
    "start_time": "2022-11-20T18:06:22.579Z"
   },
   {
    "duration": 82,
    "start_time": "2022-11-20T18:06:22.896Z"
   },
   {
    "duration": 841,
    "start_time": "2022-11-20T18:06:22.979Z"
   },
   {
    "duration": 230,
    "start_time": "2022-11-20T18:06:23.822Z"
   },
   {
    "duration": 355,
    "start_time": "2022-11-20T18:06:24.054Z"
   },
   {
    "duration": 128,
    "start_time": "2022-11-20T18:06:24.411Z"
   },
   {
    "duration": 3,
    "start_time": "2022-11-20T18:06:24.541Z"
   },
   {
    "duration": 28,
    "start_time": "2022-11-20T18:06:24.546Z"
   },
   {
    "duration": 26,
    "start_time": "2022-11-20T18:06:24.576Z"
   },
   {
    "duration": 186,
    "start_time": "2022-11-20T18:06:24.604Z"
   },
   {
    "duration": 6,
    "start_time": "2022-11-20T18:06:24.791Z"
   },
   {
    "duration": 35,
    "start_time": "2022-11-20T18:06:24.798Z"
   },
   {
    "duration": 28,
    "start_time": "2022-11-20T18:06:24.834Z"
   },
   {
    "duration": 10134,
    "start_time": "2022-11-20T18:06:24.864Z"
   },
   {
    "duration": 18499,
    "start_time": "2022-11-20T18:06:35.000Z"
   },
   {
    "duration": 8931,
    "start_time": "2022-11-20T18:06:53.500Z"
   },
   {
    "duration": 3,
    "start_time": "2022-11-20T18:07:02.433Z"
   },
   {
    "duration": 7,
    "start_time": "2022-11-20T18:07:02.437Z"
   },
   {
    "duration": 9669,
    "start_time": "2022-11-20T18:07:02.447Z"
   },
   {
    "duration": 898,
    "start_time": "2022-11-20T18:07:12.118Z"
   },
   {
    "duration": 4,
    "start_time": "2022-11-20T18:07:13.018Z"
   },
   {
    "duration": 7,
    "start_time": "2022-11-20T18:07:13.023Z"
   },
   {
    "duration": 8589,
    "start_time": "2022-11-20T18:08:14.836Z"
   },
   {
    "duration": 1160,
    "start_time": "2022-11-20T18:09:37.087Z"
   },
   {
    "duration": 9022,
    "start_time": "2022-11-20T18:09:48.959Z"
   },
   {
    "duration": 5009,
    "start_time": "2022-11-20T18:21:39.394Z"
   },
   {
    "duration": 5937,
    "start_time": "2022-11-20T18:21:48.871Z"
   },
   {
    "duration": 4437,
    "start_time": "2022-11-20T18:27:11.778Z"
   },
   {
    "duration": 5895,
    "start_time": "2022-11-20T18:27:29.605Z"
   },
   {
    "duration": 5435,
    "start_time": "2022-11-20T18:27:41.563Z"
   },
   {
    "duration": 7893,
    "start_time": "2022-11-20T18:27:57.218Z"
   },
   {
    "duration": 5104,
    "start_time": "2022-11-20T18:28:09.300Z"
   },
   {
    "duration": 6873,
    "start_time": "2022-11-20T18:30:36.134Z"
   },
   {
    "duration": 1340,
    "start_time": "2022-11-20T18:35:47.147Z"
   },
   {
    "duration": 858,
    "start_time": "2022-11-20T18:35:48.489Z"
   },
   {
    "duration": 126,
    "start_time": "2022-11-20T18:35:49.348Z"
   },
   {
    "duration": 3,
    "start_time": "2022-11-20T18:35:49.477Z"
   },
   {
    "duration": 38,
    "start_time": "2022-11-20T18:35:49.482Z"
   },
   {
    "duration": 1307,
    "start_time": "2022-11-20T18:35:49.522Z"
   },
   {
    "duration": 14,
    "start_time": "2022-11-20T18:35:50.831Z"
   },
   {
    "duration": 85,
    "start_time": "2022-11-20T18:35:50.846Z"
   },
   {
    "duration": 17,
    "start_time": "2022-11-20T18:35:50.933Z"
   },
   {
    "duration": 326,
    "start_time": "2022-11-20T18:35:50.953Z"
   },
   {
    "duration": 89,
    "start_time": "2022-11-20T18:35:51.281Z"
   },
   {
    "duration": 879,
    "start_time": "2022-11-20T18:35:51.372Z"
   },
   {
    "duration": 234,
    "start_time": "2022-11-20T18:35:52.253Z"
   },
   {
    "duration": 365,
    "start_time": "2022-11-20T18:35:52.489Z"
   },
   {
    "duration": 135,
    "start_time": "2022-11-20T18:35:52.856Z"
   },
   {
    "duration": 4,
    "start_time": "2022-11-20T18:35:52.993Z"
   },
   {
    "duration": 23,
    "start_time": "2022-11-20T18:35:52.999Z"
   },
   {
    "duration": 25,
    "start_time": "2022-11-20T18:35:53.023Z"
   },
   {
    "duration": 162,
    "start_time": "2022-11-20T18:35:53.050Z"
   },
   {
    "duration": 2,
    "start_time": "2022-11-20T18:35:53.214Z"
   },
   {
    "duration": 8,
    "start_time": "2022-11-20T18:35:53.218Z"
   },
   {
    "duration": 33,
    "start_time": "2022-11-20T18:35:53.228Z"
   },
   {
    "duration": 18,
    "start_time": "2022-11-20T18:35:53.263Z"
   },
   {
    "duration": 5435,
    "start_time": "2022-11-20T18:35:53.283Z"
   },
   {
    "duration": 19201,
    "start_time": "2022-11-20T18:35:58.796Z"
   },
   {
    "duration": 8719,
    "start_time": "2022-11-20T18:36:17.999Z"
   },
   {
    "duration": 8091,
    "start_time": "2022-11-20T18:36:26.720Z"
   },
   {
    "duration": 1579,
    "start_time": "2022-11-20T18:43:25.522Z"
   },
   {
    "duration": 1117,
    "start_time": "2022-11-20T18:43:32.759Z"
   },
   {
    "duration": 2469,
    "start_time": "2022-11-20T18:43:37.067Z"
   },
   {
    "duration": 2914,
    "start_time": "2022-11-20T18:43:41.956Z"
   },
   {
    "duration": 2941,
    "start_time": "2022-11-20T18:43:52.864Z"
   },
   {
    "duration": 1353,
    "start_time": "2022-11-20T18:44:46.712Z"
   },
   {
    "duration": 784,
    "start_time": "2022-11-20T18:44:48.067Z"
   },
   {
    "duration": 116,
    "start_time": "2022-11-20T18:44:48.853Z"
   },
   {
    "duration": 3,
    "start_time": "2022-11-20T18:44:48.972Z"
   },
   {
    "duration": 32,
    "start_time": "2022-11-20T18:44:48.977Z"
   },
   {
    "duration": 1216,
    "start_time": "2022-11-20T18:44:49.011Z"
   },
   {
    "duration": 16,
    "start_time": "2022-11-20T18:44:50.229Z"
   },
   {
    "duration": 98,
    "start_time": "2022-11-20T18:44:50.246Z"
   },
   {
    "duration": 19,
    "start_time": "2022-11-20T18:44:50.346Z"
   },
   {
    "duration": 318,
    "start_time": "2022-11-20T18:44:50.367Z"
   },
   {
    "duration": 96,
    "start_time": "2022-11-20T18:44:50.686Z"
   },
   {
    "duration": 879,
    "start_time": "2022-11-20T18:44:50.783Z"
   },
   {
    "duration": 233,
    "start_time": "2022-11-20T18:44:51.663Z"
   },
   {
    "duration": 375,
    "start_time": "2022-11-20T18:44:51.898Z"
   },
   {
    "duration": 136,
    "start_time": "2022-11-20T18:44:52.275Z"
   },
   {
    "duration": 4,
    "start_time": "2022-11-20T18:44:52.413Z"
   },
   {
    "duration": 11,
    "start_time": "2022-11-20T18:44:52.418Z"
   },
   {
    "duration": 12,
    "start_time": "2022-11-20T18:44:52.431Z"
   },
   {
    "duration": 150,
    "start_time": "2022-11-20T18:44:52.444Z"
   },
   {
    "duration": 2,
    "start_time": "2022-11-20T18:44:52.597Z"
   },
   {
    "duration": 8,
    "start_time": "2022-11-20T18:44:52.601Z"
   },
   {
    "duration": 8,
    "start_time": "2022-11-20T18:44:52.611Z"
   },
   {
    "duration": 5,
    "start_time": "2022-11-20T18:44:52.620Z"
   },
   {
    "duration": 5679,
    "start_time": "2022-11-20T18:44:52.627Z"
   },
   {
    "duration": 18898,
    "start_time": "2022-11-20T18:44:58.308Z"
   },
   {
    "duration": 3173,
    "start_time": "2022-11-20T18:45:17.208Z"
   },
   {
    "duration": 6326,
    "start_time": "2022-11-20T18:45:20.382Z"
   },
   {
    "duration": 2383,
    "start_time": "2022-11-21T18:28:37.553Z"
   },
   {
    "duration": 2979,
    "start_time": "2022-11-21T18:28:40.520Z"
   },
   {
    "duration": 145,
    "start_time": "2022-11-21T18:28:43.501Z"
   },
   {
    "duration": 4,
    "start_time": "2022-11-21T18:28:43.650Z"
   },
   {
    "duration": 31,
    "start_time": "2022-11-21T18:28:43.656Z"
   },
   {
    "duration": 1409,
    "start_time": "2022-11-21T18:28:43.689Z"
   },
   {
    "duration": 16,
    "start_time": "2022-11-21T18:28:45.099Z"
   },
   {
    "duration": 82,
    "start_time": "2022-11-21T18:28:46.093Z"
   },
   {
    "duration": 18,
    "start_time": "2022-11-21T18:28:46.274Z"
   },
   {
    "duration": 337,
    "start_time": "2022-11-21T18:28:47.127Z"
   },
   {
    "duration": 132,
    "start_time": "2022-11-21T18:28:47.943Z"
   },
   {
    "duration": 113,
    "start_time": "2022-11-21T18:28:49.008Z"
   },
   {
    "duration": 1496,
    "start_time": "2022-11-21T19:09:40.162Z"
   },
   {
    "duration": 1094,
    "start_time": "2022-11-21T19:09:41.660Z"
   },
   {
    "duration": 137,
    "start_time": "2022-11-21T19:09:42.756Z"
   },
   {
    "duration": 3,
    "start_time": "2022-11-21T19:09:42.895Z"
   },
   {
    "duration": 28,
    "start_time": "2022-11-21T19:09:42.899Z"
   },
   {
    "duration": 1252,
    "start_time": "2022-11-21T19:09:42.928Z"
   },
   {
    "duration": 15,
    "start_time": "2022-11-21T19:09:44.182Z"
   },
   {
    "duration": 86,
    "start_time": "2022-11-21T19:09:44.199Z"
   },
   {
    "duration": 28,
    "start_time": "2022-11-21T19:09:44.287Z"
   },
   {
    "duration": 279,
    "start_time": "2022-11-21T19:09:44.318Z"
   },
   {
    "duration": 110,
    "start_time": "2022-11-21T19:09:44.599Z"
   },
   {
    "duration": 107,
    "start_time": "2022-11-21T19:09:44.716Z"
   },
   {
    "duration": 848,
    "start_time": "2022-11-21T19:09:44.825Z"
   },
   {
    "duration": 224,
    "start_time": "2022-11-21T19:09:45.675Z"
   },
   {
    "duration": 365,
    "start_time": "2022-11-21T19:09:45.901Z"
   },
   {
    "duration": 127,
    "start_time": "2022-11-21T19:09:46.268Z"
   },
   {
    "duration": 3,
    "start_time": "2022-11-21T19:09:46.397Z"
   },
   {
    "duration": 15,
    "start_time": "2022-11-21T19:09:46.401Z"
   },
   {
    "duration": 5,
    "start_time": "2022-11-21T19:09:46.418Z"
   },
   {
    "duration": 155,
    "start_time": "2022-11-21T19:09:47.131Z"
   },
   {
    "duration": 3,
    "start_time": "2022-11-21T19:09:48.238Z"
   },
   {
    "duration": 2,
    "start_time": "2022-11-21T19:11:47.251Z"
   },
   {
    "duration": 3,
    "start_time": "2022-11-21T19:11:47.602Z"
   },
   {
    "duration": 153,
    "start_time": "2022-11-21T19:11:48.437Z"
   },
   {
    "duration": 49,
    "start_time": "2022-11-21T19:12:04.245Z"
   },
   {
    "duration": 1614,
    "start_time": "2022-11-24T08:02:43.782Z"
   },
   {
    "duration": 1096,
    "start_time": "2022-11-24T08:02:45.398Z"
   },
   {
    "duration": 114,
    "start_time": "2022-11-24T08:02:46.496Z"
   },
   {
    "duration": 3,
    "start_time": "2022-11-24T08:02:46.612Z"
   },
   {
    "duration": 19,
    "start_time": "2022-11-24T08:02:46.617Z"
   },
   {
    "duration": 1272,
    "start_time": "2022-11-24T08:02:46.637Z"
   },
   {
    "duration": 25,
    "start_time": "2022-11-24T08:02:47.911Z"
   },
   {
    "duration": 69,
    "start_time": "2022-11-24T08:02:52.714Z"
   },
   {
    "duration": 17,
    "start_time": "2022-11-24T08:02:53.270Z"
   },
   {
    "duration": 265,
    "start_time": "2022-11-24T08:02:56.176Z"
   },
   {
    "duration": 85,
    "start_time": "2022-11-24T08:02:58.016Z"
   },
   {
    "duration": 96,
    "start_time": "2022-11-24T08:02:59.664Z"
   },
   {
    "duration": 1891,
    "start_time": "2022-11-24T08:03:02.392Z"
   },
   {
    "duration": 258,
    "start_time": "2022-11-24T08:07:28.066Z"
   },
   {
    "duration": 921,
    "start_time": "2022-11-24T08:08:10.412Z"
   },
   {
    "duration": 12,
    "start_time": "2022-11-24T08:08:20.126Z"
   },
   {
    "duration": 1022,
    "start_time": "2022-11-24T08:08:24.909Z"
   },
   {
    "duration": 16,
    "start_time": "2022-11-24T08:11:52.384Z"
   },
   {
    "duration": 8555,
    "start_time": "2022-11-24T08:12:02.518Z"
   },
   {
    "duration": 11,
    "start_time": "2022-11-24T08:12:31.430Z"
   },
   {
    "duration": 5,
    "start_time": "2022-11-24T08:12:45.643Z"
   },
   {
    "duration": 8133,
    "start_time": "2022-11-24T08:12:59.472Z"
   },
   {
    "duration": 104,
    "start_time": "2022-11-24T08:45:44.343Z"
   },
   {
    "duration": 2,
    "start_time": "2022-11-24T08:45:52.277Z"
   },
   {
    "duration": 3,
    "start_time": "2022-11-24T08:45:52.476Z"
   },
   {
    "duration": 5,
    "start_time": "2022-11-24T08:46:00.545Z"
   },
   {
    "duration": 842,
    "start_time": "2022-11-24T08:46:00.700Z"
   },
   {
    "duration": 114,
    "start_time": "2022-11-24T08:46:01.544Z"
   },
   {
    "duration": 3,
    "start_time": "2022-11-24T08:46:01.660Z"
   },
   {
    "duration": 33,
    "start_time": "2022-11-24T08:46:01.665Z"
   },
   {
    "duration": 18,
    "start_time": "2022-11-24T08:46:01.700Z"
   },
   {
    "duration": 14,
    "start_time": "2022-11-24T08:46:01.944Z"
   },
   {
    "duration": 80,
    "start_time": "2022-11-24T08:46:02.589Z"
   },
   {
    "duration": 17,
    "start_time": "2022-11-24T08:46:02.750Z"
   },
   {
    "duration": 223,
    "start_time": "2022-11-24T08:46:03.368Z"
   },
   {
    "duration": 87,
    "start_time": "2022-11-24T08:46:03.770Z"
   },
   {
    "duration": 92,
    "start_time": "2022-11-24T08:46:04.249Z"
   },
   {
    "duration": 8571,
    "start_time": "2022-11-24T08:46:04.632Z"
   },
   {
    "duration": 875,
    "start_time": "2022-11-24T08:46:13.205Z"
   },
   {
    "duration": 233,
    "start_time": "2022-11-24T08:46:14.081Z"
   },
   {
    "duration": 370,
    "start_time": "2022-11-24T08:46:14.316Z"
   },
   {
    "duration": 123,
    "start_time": "2022-11-24T08:46:14.688Z"
   },
   {
    "duration": 4,
    "start_time": "2022-11-24T08:46:14.812Z"
   },
   {
    "duration": 15,
    "start_time": "2022-11-24T08:46:14.817Z"
   },
   {
    "duration": 13,
    "start_time": "2022-11-24T08:46:14.833Z"
   },
   {
    "duration": 104,
    "start_time": "2022-11-24T08:46:14.847Z"
   },
   {
    "duration": 3,
    "start_time": "2022-11-24T08:46:15.729Z"
   },
   {
    "duration": 3,
    "start_time": "2022-11-24T08:46:16.290Z"
   },
   {
    "duration": 4,
    "start_time": "2022-11-24T08:46:22.908Z"
   },
   {
    "duration": 10,
    "start_time": "2022-11-24T08:46:31.387Z"
   },
   {
    "duration": 4,
    "start_time": "2022-11-24T08:49:02.225Z"
   },
   {
    "duration": 68,
    "start_time": "2022-11-24T08:49:13.654Z"
   },
   {
    "duration": 53,
    "start_time": "2022-11-24T08:49:19.420Z"
   },
   {
    "duration": 4,
    "start_time": "2022-11-24T08:50:13.805Z"
   },
   {
    "duration": 5,
    "start_time": "2022-11-24T08:50:46.398Z"
   },
   {
    "duration": 10,
    "start_time": "2022-11-24T08:50:47.842Z"
   },
   {
    "duration": 10,
    "start_time": "2022-11-24T08:51:57.552Z"
   },
   {
    "duration": 4,
    "start_time": "2022-11-24T08:52:27.370Z"
   },
   {
    "duration": 5,
    "start_time": "2022-11-24T08:52:49.001Z"
   },
   {
    "duration": 749,
    "start_time": "2022-11-24T08:52:49.169Z"
   },
   {
    "duration": 118,
    "start_time": "2022-11-24T08:52:49.920Z"
   },
   {
    "duration": 3,
    "start_time": "2022-11-24T08:52:50.040Z"
   },
   {
    "duration": 16,
    "start_time": "2022-11-24T08:52:50.045Z"
   },
   {
    "duration": 18,
    "start_time": "2022-11-24T08:52:50.062Z"
   },
   {
    "duration": 13,
    "start_time": "2022-11-24T08:52:50.576Z"
   },
   {
    "duration": 64,
    "start_time": "2022-11-24T08:52:51.250Z"
   },
   {
    "duration": 17,
    "start_time": "2022-11-24T08:52:51.413Z"
   },
   {
    "duration": 215,
    "start_time": "2022-11-24T08:52:51.917Z"
   },
   {
    "duration": 81,
    "start_time": "2022-11-24T08:52:52.237Z"
   },
   {
    "duration": 91,
    "start_time": "2022-11-24T08:52:52.537Z"
   },
   {
    "duration": 8387,
    "start_time": "2022-11-24T08:52:52.886Z"
   },
   {
    "duration": 904,
    "start_time": "2022-11-24T08:53:01.274Z"
   },
   {
    "duration": 229,
    "start_time": "2022-11-24T08:53:02.180Z"
   },
   {
    "duration": 355,
    "start_time": "2022-11-24T08:53:02.411Z"
   },
   {
    "duration": 130,
    "start_time": "2022-11-24T08:53:02.767Z"
   },
   {
    "duration": 4,
    "start_time": "2022-11-24T08:53:02.899Z"
   },
   {
    "duration": 11,
    "start_time": "2022-11-24T08:53:02.905Z"
   },
   {
    "duration": 13,
    "start_time": "2022-11-24T08:53:02.917Z"
   },
   {
    "duration": 114,
    "start_time": "2022-11-24T08:53:02.932Z"
   },
   {
    "duration": 3,
    "start_time": "2022-11-24T08:53:05.920Z"
   },
   {
    "duration": 4,
    "start_time": "2022-11-24T08:53:06.114Z"
   },
   {
    "duration": 5,
    "start_time": "2022-11-24T08:53:17.704Z"
   },
   {
    "duration": 11,
    "start_time": "2022-11-24T08:53:19.201Z"
   },
   {
    "duration": 10,
    "start_time": "2022-11-24T08:53:44.934Z"
   },
   {
    "duration": 87,
    "start_time": "2022-11-24T08:53:56.047Z"
   },
   {
    "duration": 5,
    "start_time": "2022-11-24T08:59:37.053Z"
   },
   {
    "duration": 5,
    "start_time": "2022-11-24T08:59:40.010Z"
   },
   {
    "duration": 1449,
    "start_time": "2022-11-24T08:59:43.999Z"
   },
   {
    "duration": 815,
    "start_time": "2022-11-24T08:59:45.452Z"
   },
   {
    "duration": 113,
    "start_time": "2022-11-24T08:59:46.269Z"
   },
   {
    "duration": 14,
    "start_time": "2022-11-24T08:59:46.383Z"
   },
   {
    "duration": 20,
    "start_time": "2022-11-24T08:59:46.399Z"
   },
   {
    "duration": 118,
    "start_time": "2022-11-24T08:59:46.420Z"
   },
   {
    "duration": 0,
    "start_time": "2022-11-24T08:59:46.540Z"
   },
   {
    "duration": 0,
    "start_time": "2022-11-24T08:59:46.541Z"
   },
   {
    "duration": 0,
    "start_time": "2022-11-24T08:59:46.542Z"
   },
   {
    "duration": 0,
    "start_time": "2022-11-24T08:59:46.543Z"
   },
   {
    "duration": 0,
    "start_time": "2022-11-24T08:59:46.544Z"
   },
   {
    "duration": 0,
    "start_time": "2022-11-24T08:59:46.545Z"
   },
   {
    "duration": 0,
    "start_time": "2022-11-24T08:59:46.546Z"
   },
   {
    "duration": 0,
    "start_time": "2022-11-24T08:59:46.547Z"
   },
   {
    "duration": 0,
    "start_time": "2022-11-24T08:59:46.548Z"
   },
   {
    "duration": 0,
    "start_time": "2022-11-24T08:59:46.549Z"
   },
   {
    "duration": 0,
    "start_time": "2022-11-24T08:59:46.550Z"
   },
   {
    "duration": 0,
    "start_time": "2022-11-24T08:59:46.551Z"
   },
   {
    "duration": 0,
    "start_time": "2022-11-24T08:59:46.552Z"
   },
   {
    "duration": 0,
    "start_time": "2022-11-24T08:59:46.554Z"
   },
   {
    "duration": 0,
    "start_time": "2022-11-24T08:59:46.554Z"
   },
   {
    "duration": 0,
    "start_time": "2022-11-24T08:59:46.555Z"
   },
   {
    "duration": 0,
    "start_time": "2022-11-24T08:59:46.556Z"
   },
   {
    "duration": 0,
    "start_time": "2022-11-24T08:59:46.557Z"
   },
   {
    "duration": 0,
    "start_time": "2022-11-24T08:59:46.558Z"
   },
   {
    "duration": 0,
    "start_time": "2022-11-24T08:59:46.559Z"
   },
   {
    "duration": 0,
    "start_time": "2022-11-24T08:59:46.560Z"
   },
   {
    "duration": 0,
    "start_time": "2022-11-24T08:59:46.596Z"
   },
   {
    "duration": 0,
    "start_time": "2022-11-24T08:59:46.598Z"
   },
   {
    "duration": 0,
    "start_time": "2022-11-24T08:59:46.598Z"
   },
   {
    "duration": 0,
    "start_time": "2022-11-24T08:59:46.599Z"
   },
   {
    "duration": 955,
    "start_time": "2022-11-24T09:00:34.700Z"
   },
   {
    "duration": 1024,
    "start_time": "2022-11-24T09:00:39.250Z"
   },
   {
    "duration": 13,
    "start_time": "2022-11-24T09:00:50.671Z"
   },
   {
    "duration": 65,
    "start_time": "2022-11-24T09:00:52.203Z"
   },
   {
    "duration": 21,
    "start_time": "2022-11-24T09:00:52.443Z"
   },
   {
    "duration": 219,
    "start_time": "2022-11-24T09:00:54.807Z"
   },
   {
    "duration": 91,
    "start_time": "2022-11-24T09:00:57.425Z"
   },
   {
    "duration": 107,
    "start_time": "2022-11-24T09:00:59.371Z"
   },
   {
    "duration": 8130,
    "start_time": "2022-11-24T09:01:00.237Z"
   },
   {
    "duration": 886,
    "start_time": "2022-11-24T09:01:16.593Z"
   },
   {
    "duration": 217,
    "start_time": "2022-11-24T09:01:22.316Z"
   },
   {
    "duration": 343,
    "start_time": "2022-11-24T09:01:22.915Z"
   },
   {
    "duration": 121,
    "start_time": "2022-11-24T09:01:23.323Z"
   },
   {
    "duration": 4,
    "start_time": "2022-11-24T09:01:24.293Z"
   },
   {
    "duration": 4,
    "start_time": "2022-11-24T09:01:24.610Z"
   },
   {
    "duration": 4,
    "start_time": "2022-11-24T09:01:24.859Z"
   },
   {
    "duration": 98,
    "start_time": "2022-11-24T09:01:28.828Z"
   },
   {
    "duration": 2,
    "start_time": "2022-11-24T09:01:31.044Z"
   },
   {
    "duration": 3,
    "start_time": "2022-11-24T09:01:31.325Z"
   },
   {
    "duration": 111,
    "start_time": "2022-11-24T09:01:45.692Z"
   },
   {
    "duration": 58,
    "start_time": "2022-11-24T09:12:19.876Z"
   },
   {
    "duration": 82,
    "start_time": "2022-11-24T09:16:42.791Z"
   },
   {
    "duration": 11,
    "start_time": "2022-11-24T09:16:43.040Z"
   },
   {
    "duration": 21,
    "start_time": "2022-11-24T09:21:34.751Z"
   },
   {
    "duration": 129,
    "start_time": "2022-11-24T09:23:46.279Z"
   },
   {
    "duration": 43,
    "start_time": "2022-11-24T09:24:00.310Z"
   },
   {
    "duration": 3,
    "start_time": "2022-11-24T09:24:13.237Z"
   },
   {
    "duration": 4,
    "start_time": "2022-11-24T09:24:22.415Z"
   },
   {
    "duration": 4,
    "start_time": "2022-11-24T09:24:28.615Z"
   },
   {
    "duration": 59,
    "start_time": "2022-11-24T09:28:31.560Z"
   },
   {
    "duration": 207828,
    "start_time": "2022-11-24T09:31:38.606Z"
   },
   {
    "duration": 864,
    "start_time": "2022-11-24T09:35:57.784Z"
   },
   {
    "duration": 55,
    "start_time": "2022-11-24T09:38:05.913Z"
   },
   {
    "duration": 2645,
    "start_time": "2022-11-24T09:41:43.054Z"
   },
   {
    "duration": 2875,
    "start_time": "2022-11-24T09:45:29.175Z"
   },
   {
    "duration": 1497,
    "start_time": "2022-11-24T09:50:22.715Z"
   },
   {
    "duration": 784,
    "start_time": "2022-11-24T09:50:24.214Z"
   },
   {
    "duration": 135,
    "start_time": "2022-11-24T09:50:24.999Z"
   },
   {
    "duration": 3,
    "start_time": "2022-11-24T09:50:25.136Z"
   },
   {
    "duration": 31,
    "start_time": "2022-11-24T09:50:25.142Z"
   },
   {
    "duration": 1159,
    "start_time": "2022-11-24T09:50:25.176Z"
   },
   {
    "duration": 21,
    "start_time": "2022-11-24T09:50:26.337Z"
   },
   {
    "duration": 100,
    "start_time": "2022-11-24T09:50:26.360Z"
   },
   {
    "duration": 34,
    "start_time": "2022-11-24T09:50:26.462Z"
   },
   {
    "duration": 252,
    "start_time": "2022-11-24T09:50:26.498Z"
   },
   {
    "duration": 100,
    "start_time": "2022-11-24T09:50:26.752Z"
   },
   {
    "duration": 193,
    "start_time": "2022-11-24T09:50:26.853Z"
   },
   {
    "duration": 8698,
    "start_time": "2022-11-24T09:50:27.047Z"
   },
   {
    "duration": 971,
    "start_time": "2022-11-24T09:50:35.748Z"
   },
   {
    "duration": 237,
    "start_time": "2022-11-24T09:50:36.722Z"
   },
   {
    "duration": 20,
    "start_time": "2022-11-24T09:50:36.961Z"
   },
   {
    "duration": 375,
    "start_time": "2022-11-24T09:50:36.984Z"
   },
   {
    "duration": 153,
    "start_time": "2022-11-24T09:50:37.360Z"
   },
   {
    "duration": 89,
    "start_time": "2022-11-24T09:50:37.515Z"
   },
   {
    "duration": 38,
    "start_time": "2022-11-24T09:50:37.606Z"
   },
   {
    "duration": 4,
    "start_time": "2022-11-24T09:50:37.645Z"
   },
   {
    "duration": 22,
    "start_time": "2022-11-24T09:50:37.651Z"
   },
   {
    "duration": 23,
    "start_time": "2022-11-24T09:50:37.675Z"
   },
   {
    "duration": 27,
    "start_time": "2022-11-24T09:50:37.699Z"
   },
   {
    "duration": 9,
    "start_time": "2022-11-24T09:50:37.728Z"
   },
   {
    "duration": 23,
    "start_time": "2022-11-24T09:50:37.738Z"
   },
   {
    "duration": 115,
    "start_time": "2022-11-24T09:50:37.762Z"
   },
   {
    "duration": 2,
    "start_time": "2022-11-24T09:50:37.880Z"
   },
   {
    "duration": 16,
    "start_time": "2022-11-24T09:50:37.895Z"
   },
   {
    "duration": 39,
    "start_time": "2022-11-24T09:50:37.913Z"
   },
   {
    "duration": 219,
    "start_time": "2022-11-24T09:50:37.954Z"
   },
   {
    "duration": 1622,
    "start_time": "2022-11-24T09:51:31.958Z"
   },
   {
    "duration": 895,
    "start_time": "2022-11-24T09:51:33.597Z"
   },
   {
    "duration": 124,
    "start_time": "2022-11-24T09:51:34.494Z"
   },
   {
    "duration": 4,
    "start_time": "2022-11-24T09:51:35.273Z"
   },
   {
    "duration": 22,
    "start_time": "2022-11-24T09:51:35.437Z"
   },
   {
    "duration": 1324,
    "start_time": "2022-11-24T09:51:35.588Z"
   },
   {
    "duration": 18,
    "start_time": "2022-11-24T09:51:36.915Z"
   },
   {
    "duration": 150,
    "start_time": "2022-11-24T09:51:36.934Z"
   },
   {
    "duration": 29,
    "start_time": "2022-11-24T09:51:37.086Z"
   },
   {
    "duration": 316,
    "start_time": "2022-11-24T09:51:37.217Z"
   },
   {
    "duration": 124,
    "start_time": "2022-11-24T09:51:37.536Z"
   },
   {
    "duration": 191,
    "start_time": "2022-11-24T09:51:37.719Z"
   },
   {
    "duration": 9448,
    "start_time": "2022-11-24T09:51:37.982Z"
   },
   {
    "duration": 853,
    "start_time": "2022-11-24T09:51:47.432Z"
   },
   {
    "duration": 223,
    "start_time": "2022-11-24T09:51:48.286Z"
   },
   {
    "duration": 20,
    "start_time": "2022-11-24T09:51:48.511Z"
   },
   {
    "duration": 382,
    "start_time": "2022-11-24T09:51:48.533Z"
   },
   {
    "duration": 135,
    "start_time": "2022-11-24T09:51:48.916Z"
   },
   {
    "duration": 107,
    "start_time": "2022-11-24T09:51:49.053Z"
   },
   {
    "duration": 62,
    "start_time": "2022-11-24T09:51:49.162Z"
   },
   {
    "duration": 5,
    "start_time": "2022-11-24T09:51:49.226Z"
   },
   {
    "duration": 13,
    "start_time": "2022-11-24T09:51:49.234Z"
   },
   {
    "duration": 8,
    "start_time": "2022-11-24T09:51:49.249Z"
   },
   {
    "duration": 8,
    "start_time": "2022-11-24T09:51:49.260Z"
   },
   {
    "duration": 26,
    "start_time": "2022-11-24T09:51:49.272Z"
   },
   {
    "duration": 12,
    "start_time": "2022-11-24T09:51:49.300Z"
   },
   {
    "duration": 115,
    "start_time": "2022-11-24T09:51:49.314Z"
   },
   {
    "duration": 4,
    "start_time": "2022-11-24T09:51:49.431Z"
   },
   {
    "duration": 18,
    "start_time": "2022-11-24T09:51:49.436Z"
   },
   {
    "duration": 1448,
    "start_time": "2022-11-24T10:02:59.112Z"
   },
   {
    "duration": 790,
    "start_time": "2022-11-24T10:03:01.010Z"
   },
   {
    "duration": 125,
    "start_time": "2022-11-24T10:03:01.802Z"
   },
   {
    "duration": 4,
    "start_time": "2022-11-24T10:03:01.929Z"
   },
   {
    "duration": 40,
    "start_time": "2022-11-24T10:03:01.935Z"
   },
   {
    "duration": 1033,
    "start_time": "2022-11-24T10:03:01.981Z"
   },
   {
    "duration": 16,
    "start_time": "2022-11-24T10:03:03.017Z"
   },
   {
    "duration": 76,
    "start_time": "2022-11-24T10:03:03.580Z"
   },
   {
    "duration": 21,
    "start_time": "2022-11-24T10:03:03.746Z"
   },
   {
    "duration": 256,
    "start_time": "2022-11-24T10:03:04.184Z"
   },
   {
    "duration": 100,
    "start_time": "2022-11-24T10:03:04.486Z"
   },
   {
    "duration": 191,
    "start_time": "2022-11-24T10:03:04.799Z"
   },
   {
    "duration": 9255,
    "start_time": "2022-11-24T10:03:05.137Z"
   },
   {
    "duration": 986,
    "start_time": "2022-11-24T10:03:14.396Z"
   },
   {
    "duration": 239,
    "start_time": "2022-11-24T10:03:15.384Z"
   },
   {
    "duration": 21,
    "start_time": "2022-11-24T10:03:15.625Z"
   },
   {
    "duration": 395,
    "start_time": "2022-11-24T10:03:15.648Z"
   },
   {
    "duration": 142,
    "start_time": "2022-11-24T10:03:16.045Z"
   },
   {
    "duration": 121,
    "start_time": "2022-11-24T10:03:16.189Z"
   },
   {
    "duration": 41,
    "start_time": "2022-11-24T10:03:16.312Z"
   },
   {
    "duration": 4,
    "start_time": "2022-11-24T10:03:16.355Z"
   },
   {
    "duration": 6,
    "start_time": "2022-11-24T10:03:16.362Z"
   },
   {
    "duration": 28,
    "start_time": "2022-11-24T10:03:16.370Z"
   },
   {
    "duration": 6,
    "start_time": "2022-11-24T10:03:16.400Z"
   },
   {
    "duration": 11,
    "start_time": "2022-11-24T10:03:16.408Z"
   },
   {
    "duration": 6,
    "start_time": "2022-11-24T10:03:16.421Z"
   },
   {
    "duration": 120,
    "start_time": "2022-11-24T10:03:16.429Z"
   },
   {
    "duration": 3,
    "start_time": "2022-11-24T10:03:16.550Z"
   },
   {
    "duration": 9,
    "start_time": "2022-11-24T10:03:16.555Z"
   },
   {
    "duration": 11,
    "start_time": "2022-11-24T10:03:16.566Z"
   },
   {
    "duration": 122,
    "start_time": "2022-11-24T10:03:26.912Z"
   },
   {
    "duration": 7,
    "start_time": "2022-11-24T10:03:52.116Z"
   },
   {
    "duration": 10,
    "start_time": "2022-11-24T10:03:57.340Z"
   },
   {
    "duration": 4,
    "start_time": "2022-11-24T10:04:57.979Z"
   },
   {
    "duration": 1673,
    "start_time": "2022-11-24T10:06:34.781Z"
   },
   {
    "duration": 916,
    "start_time": "2022-11-24T10:06:36.457Z"
   },
   {
    "duration": 130,
    "start_time": "2022-11-24T10:06:37.375Z"
   },
   {
    "duration": 4,
    "start_time": "2022-11-24T10:06:37.507Z"
   },
   {
    "duration": 22,
    "start_time": "2022-11-24T10:06:37.512Z"
   },
   {
    "duration": 1082,
    "start_time": "2022-11-24T10:06:37.536Z"
   },
   {
    "duration": 16,
    "start_time": "2022-11-24T10:06:38.620Z"
   },
   {
    "duration": 92,
    "start_time": "2022-11-24T10:06:38.638Z"
   },
   {
    "duration": 20,
    "start_time": "2022-11-24T10:06:38.732Z"
   },
   {
    "duration": 292,
    "start_time": "2022-11-24T10:06:38.755Z"
   },
   {
    "duration": 104,
    "start_time": "2022-11-24T10:06:39.049Z"
   },
   {
    "duration": 196,
    "start_time": "2022-11-24T10:06:39.155Z"
   },
   {
    "duration": 8961,
    "start_time": "2022-11-24T10:06:39.353Z"
   },
   {
    "duration": 871,
    "start_time": "2022-11-24T10:06:48.316Z"
   },
   {
    "duration": 223,
    "start_time": "2022-11-24T10:06:49.190Z"
   },
   {
    "duration": 20,
    "start_time": "2022-11-24T10:06:49.415Z"
   },
   {
    "duration": 355,
    "start_time": "2022-11-24T10:06:49.437Z"
   },
   {
    "duration": 125,
    "start_time": "2022-11-24T10:06:49.796Z"
   },
   {
    "duration": 90,
    "start_time": "2022-11-24T10:06:49.923Z"
   },
   {
    "duration": 40,
    "start_time": "2022-11-24T10:06:50.015Z"
   },
   {
    "duration": 4,
    "start_time": "2022-11-24T10:06:50.056Z"
   },
   {
    "duration": 19,
    "start_time": "2022-11-24T10:06:50.062Z"
   },
   {
    "duration": 14,
    "start_time": "2022-11-24T10:06:50.083Z"
   },
   {
    "duration": 5,
    "start_time": "2022-11-24T10:06:50.099Z"
   },
   {
    "duration": 7,
    "start_time": "2022-11-24T10:06:50.106Z"
   },
   {
    "duration": 9,
    "start_time": "2022-11-24T10:06:50.115Z"
   },
   {
    "duration": 130,
    "start_time": "2022-11-24T10:06:50.127Z"
   },
   {
    "duration": 3,
    "start_time": "2022-11-24T10:06:50.259Z"
   },
   {
    "duration": 25,
    "start_time": "2022-11-24T10:06:50.264Z"
   },
   {
    "duration": 1411,
    "start_time": "2022-11-24T10:06:56.008Z"
   },
   {
    "duration": 818,
    "start_time": "2022-11-24T10:06:57.421Z"
   },
   {
    "duration": 127,
    "start_time": "2022-11-24T10:06:58.240Z"
   },
   {
    "duration": 4,
    "start_time": "2022-11-24T10:06:58.369Z"
   },
   {
    "duration": 30,
    "start_time": "2022-11-24T10:06:58.375Z"
   },
   {
    "duration": 1008,
    "start_time": "2022-11-24T10:06:58.406Z"
   },
   {
    "duration": 16,
    "start_time": "2022-11-24T10:06:59.416Z"
   },
   {
    "duration": 96,
    "start_time": "2022-11-24T10:06:59.434Z"
   },
   {
    "duration": 20,
    "start_time": "2022-11-24T10:06:59.531Z"
   },
   {
    "duration": 250,
    "start_time": "2022-11-24T10:06:59.554Z"
   },
   {
    "duration": 94,
    "start_time": "2022-11-24T10:06:59.806Z"
   },
   {
    "duration": 205,
    "start_time": "2022-11-24T10:06:59.902Z"
   },
   {
    "duration": 8415,
    "start_time": "2022-11-24T10:07:00.109Z"
   },
   {
    "duration": 912,
    "start_time": "2022-11-24T10:07:08.526Z"
   },
   {
    "duration": 233,
    "start_time": "2022-11-24T10:07:09.439Z"
   },
   {
    "duration": 28,
    "start_time": "2022-11-24T10:07:09.674Z"
   },
   {
    "duration": 373,
    "start_time": "2022-11-24T10:07:09.704Z"
   },
   {
    "duration": 128,
    "start_time": "2022-11-24T10:07:10.079Z"
   },
   {
    "duration": 94,
    "start_time": "2022-11-24T10:07:10.209Z"
   },
   {
    "duration": 45,
    "start_time": "2022-11-24T10:07:10.305Z"
   },
   {
    "duration": 5,
    "start_time": "2022-11-24T10:07:10.351Z"
   },
   {
    "duration": 7,
    "start_time": "2022-11-24T10:07:10.359Z"
   },
   {
    "duration": 8,
    "start_time": "2022-11-24T10:07:10.367Z"
   },
   {
    "duration": 4,
    "start_time": "2022-11-24T10:07:10.397Z"
   },
   {
    "duration": 10,
    "start_time": "2022-11-24T10:07:10.403Z"
   },
   {
    "duration": 12,
    "start_time": "2022-11-24T10:07:10.414Z"
   },
   {
    "duration": 116,
    "start_time": "2022-11-24T10:07:10.428Z"
   },
   {
    "duration": 3,
    "start_time": "2022-11-24T10:07:10.546Z"
   },
   {
    "duration": 16,
    "start_time": "2022-11-24T10:07:10.550Z"
   },
   {
    "duration": 185,
    "start_time": "2022-11-24T10:07:15.051Z"
   },
   {
    "duration": 59,
    "start_time": "2022-11-24T10:07:32.287Z"
   },
   {
    "duration": 1395,
    "start_time": "2022-11-24T10:11:08.624Z"
   },
   {
    "duration": 812,
    "start_time": "2022-11-24T10:11:10.020Z"
   },
   {
    "duration": 149,
    "start_time": "2022-11-24T10:11:10.833Z"
   },
   {
    "duration": 3,
    "start_time": "2022-11-24T10:11:10.984Z"
   },
   {
    "duration": 18,
    "start_time": "2022-11-24T10:11:10.996Z"
   },
   {
    "duration": 1002,
    "start_time": "2022-11-24T10:11:11.016Z"
   },
   {
    "duration": 14,
    "start_time": "2022-11-24T10:11:12.020Z"
   },
   {
    "duration": 105,
    "start_time": "2022-11-24T10:11:12.036Z"
   },
   {
    "duration": 22,
    "start_time": "2022-11-24T10:11:12.143Z"
   },
   {
    "duration": 257,
    "start_time": "2022-11-24T10:11:12.167Z"
   },
   {
    "duration": 98,
    "start_time": "2022-11-24T10:11:12.425Z"
   },
   {
    "duration": 184,
    "start_time": "2022-11-24T10:11:12.525Z"
   },
   {
    "duration": 8452,
    "start_time": "2022-11-24T10:11:12.711Z"
   },
   {
    "duration": 864,
    "start_time": "2022-11-24T10:11:21.165Z"
   },
   {
    "duration": 225,
    "start_time": "2022-11-24T10:11:22.031Z"
   },
   {
    "duration": 19,
    "start_time": "2022-11-24T10:11:22.258Z"
   },
   {
    "duration": 357,
    "start_time": "2022-11-24T10:11:22.279Z"
   },
   {
    "duration": 128,
    "start_time": "2022-11-24T10:11:22.638Z"
   },
   {
    "duration": 89,
    "start_time": "2022-11-24T10:11:22.768Z"
   },
   {
    "duration": 46,
    "start_time": "2022-11-24T10:11:22.858Z"
   },
   {
    "duration": 3,
    "start_time": "2022-11-24T10:11:22.906Z"
   },
   {
    "duration": 12,
    "start_time": "2022-11-24T10:11:22.912Z"
   },
   {
    "duration": 9,
    "start_time": "2022-11-24T10:11:22.926Z"
   },
   {
    "duration": 11,
    "start_time": "2022-11-24T10:11:22.938Z"
   },
   {
    "duration": 7,
    "start_time": "2022-11-24T10:11:22.951Z"
   },
   {
    "duration": 6,
    "start_time": "2022-11-24T10:11:22.960Z"
   },
   {
    "duration": 129,
    "start_time": "2022-11-24T10:11:22.967Z"
   },
   {
    "duration": 3,
    "start_time": "2022-11-24T10:11:23.098Z"
   },
   {
    "duration": 9,
    "start_time": "2022-11-24T10:11:23.102Z"
   },
   {
    "duration": 439,
    "start_time": "2022-11-24T10:11:38.766Z"
   },
   {
    "duration": 1362,
    "start_time": "2022-11-24T10:16:32.227Z"
   },
   {
    "duration": 804,
    "start_time": "2022-11-24T10:16:33.591Z"
   },
   {
    "duration": 115,
    "start_time": "2022-11-24T10:16:34.397Z"
   },
   {
    "duration": 4,
    "start_time": "2022-11-24T10:16:34.514Z"
   },
   {
    "duration": 19,
    "start_time": "2022-11-24T10:16:34.519Z"
   },
   {
    "duration": 1057,
    "start_time": "2022-11-24T10:16:34.539Z"
   },
   {
    "duration": 15,
    "start_time": "2022-11-24T10:16:35.597Z"
   },
   {
    "duration": 85,
    "start_time": "2022-11-24T10:16:35.613Z"
   },
   {
    "duration": 18,
    "start_time": "2022-11-24T10:16:35.700Z"
   },
   {
    "duration": 264,
    "start_time": "2022-11-24T10:16:35.720Z"
   },
   {
    "duration": 131,
    "start_time": "2022-11-24T10:16:35.986Z"
   },
   {
    "duration": 210,
    "start_time": "2022-11-24T10:16:36.119Z"
   },
   {
    "duration": 8508,
    "start_time": "2022-11-24T10:16:36.331Z"
   },
   {
    "duration": 859,
    "start_time": "2022-11-24T10:16:44.842Z"
   },
   {
    "duration": 230,
    "start_time": "2022-11-24T10:16:45.704Z"
   },
   {
    "duration": 22,
    "start_time": "2022-11-24T10:16:45.936Z"
   },
   {
    "duration": 419,
    "start_time": "2022-11-24T10:16:45.960Z"
   },
   {
    "duration": 138,
    "start_time": "2022-11-24T10:16:46.381Z"
   },
   {
    "duration": 90,
    "start_time": "2022-11-24T10:16:46.521Z"
   },
   {
    "duration": 39,
    "start_time": "2022-11-24T10:16:46.613Z"
   },
   {
    "duration": 5,
    "start_time": "2022-11-24T10:16:46.653Z"
   },
   {
    "duration": 8,
    "start_time": "2022-11-24T10:16:46.659Z"
   },
   {
    "duration": 6,
    "start_time": "2022-11-24T10:16:46.669Z"
   },
   {
    "duration": 4,
    "start_time": "2022-11-24T10:16:46.697Z"
   },
   {
    "duration": 9,
    "start_time": "2022-11-24T10:16:46.703Z"
   },
   {
    "duration": 7,
    "start_time": "2022-11-24T10:16:46.714Z"
   },
   {
    "duration": 116,
    "start_time": "2022-11-24T10:16:46.723Z"
   },
   {
    "duration": 3,
    "start_time": "2022-11-24T10:16:46.841Z"
   },
   {
    "duration": 6,
    "start_time": "2022-11-24T10:16:46.846Z"
   },
   {
    "duration": 2448180,
    "start_time": "2022-11-24T10:17:02.032Z"
   },
   {
    "duration": 4,
    "start_time": "2022-11-24T11:05:37.066Z"
   },
   {
    "duration": 222480,
    "start_time": "2022-11-24T11:10:12.078Z"
   },
   {
    "duration": 2859,
    "start_time": "2022-11-24T12:02:41.128Z"
   },
   {
    "duration": 1610,
    "start_time": "2022-11-26T13:47:41.158Z"
   },
   {
    "duration": 2883,
    "start_time": "2022-11-26T13:47:42.770Z"
   },
   {
    "duration": 152,
    "start_time": "2022-11-26T13:47:45.655Z"
   },
   {
    "duration": 5,
    "start_time": "2022-11-26T13:47:45.809Z"
   },
   {
    "duration": 22,
    "start_time": "2022-11-26T13:47:45.821Z"
   },
   {
    "duration": 1076,
    "start_time": "2022-11-26T13:47:45.845Z"
   },
   {
    "duration": 15,
    "start_time": "2022-11-26T13:47:46.923Z"
   },
   {
    "duration": 93,
    "start_time": "2022-11-26T13:47:46.940Z"
   },
   {
    "duration": 18,
    "start_time": "2022-11-26T13:47:47.035Z"
   },
   {
    "duration": 290,
    "start_time": "2022-11-26T13:47:50.505Z"
   },
   {
    "duration": 101,
    "start_time": "2022-11-26T13:47:55.027Z"
   },
   {
    "duration": 140,
    "start_time": "2022-11-26T13:47:57.581Z"
   },
   {
    "duration": 318,
    "start_time": "2022-11-26T13:48:01.422Z"
   },
   {
    "duration": 9013,
    "start_time": "2022-11-26T13:48:15.767Z"
   },
   {
    "duration": 498,
    "start_time": "2022-11-26T13:49:32.297Z"
   },
   {
    "duration": 481,
    "start_time": "2022-11-26T13:49:38.578Z"
   },
   {
    "duration": 957,
    "start_time": "2022-11-26T13:53:31.943Z"
   },
   {
    "duration": 5,
    "start_time": "2022-11-26T14:06:09.638Z"
   },
   {
    "duration": 141,
    "start_time": "2022-11-26T14:06:23.996Z"
   },
   {
    "duration": 11,
    "start_time": "2022-11-26T14:06:26.234Z"
   },
   {
    "duration": 11,
    "start_time": "2022-11-26T14:06:30.238Z"
   },
   {
    "duration": 12,
    "start_time": "2022-11-26T14:06:32.073Z"
   },
   {
    "duration": 10,
    "start_time": "2022-11-26T14:06:35.391Z"
   },
   {
    "duration": 67,
    "start_time": "2022-11-26T14:08:55.384Z"
   },
   {
    "duration": 17,
    "start_time": "2022-11-26T14:09:02.920Z"
   },
   {
    "duration": 7013,
    "start_time": "2022-11-26T14:09:16.141Z"
   },
   {
    "duration": 53,
    "start_time": "2022-11-26T14:09:56.992Z"
   },
   {
    "duration": 8,
    "start_time": "2022-11-26T14:09:57.269Z"
   },
   {
    "duration": 6186,
    "start_time": "2022-11-26T14:09:58.969Z"
   },
   {
    "duration": 42,
    "start_time": "2022-11-26T14:11:23.423Z"
   },
   {
    "duration": 6295,
    "start_time": "2022-11-26T14:11:27.848Z"
   },
   {
    "duration": 1254,
    "start_time": "2022-11-26T14:13:26.589Z"
   },
   {
    "duration": 1208,
    "start_time": "2022-11-26T14:13:31.950Z"
   },
   {
    "duration": 43,
    "start_time": "2022-11-26T14:17:26.950Z"
   },
   {
    "duration": 41,
    "start_time": "2022-11-26T14:17:27.326Z"
   },
   {
    "duration": 965,
    "start_time": "2022-11-26T14:17:28.170Z"
   },
   {
    "duration": 5267,
    "start_time": "2022-11-26T14:17:31.994Z"
   },
   {
    "duration": 39,
    "start_time": "2022-11-26T14:18:43.631Z"
   },
   {
    "duration": 5231,
    "start_time": "2022-11-26T14:18:45.727Z"
   },
   {
    "duration": 39,
    "start_time": "2022-11-26T14:19:18.162Z"
   },
   {
    "duration": 4862,
    "start_time": "2022-11-26T14:19:19.872Z"
   },
   {
    "duration": 31,
    "start_time": "2022-11-26T14:19:32.239Z"
   },
   {
    "duration": 5007,
    "start_time": "2022-11-26T14:19:33.888Z"
   },
   {
    "duration": 36,
    "start_time": "2022-11-26T14:20:10.185Z"
   },
   {
    "duration": 4382,
    "start_time": "2022-11-26T14:20:11.952Z"
   },
   {
    "duration": 28,
    "start_time": "2022-11-26T14:22:53.044Z"
   },
   {
    "duration": 4425,
    "start_time": "2022-11-26T14:22:54.629Z"
   },
   {
    "duration": 694,
    "start_time": "2022-11-26T14:23:19.342Z"
   },
   {
    "duration": 65,
    "start_time": "2022-11-26T14:24:08.314Z"
   },
   {
    "duration": 37,
    "start_time": "2022-11-26T14:27:54.501Z"
   },
   {
    "duration": 4559,
    "start_time": "2022-11-26T14:27:56.033Z"
   },
   {
    "duration": 753,
    "start_time": "2022-11-26T14:35:16.038Z"
   },
   {
    "duration": 935,
    "start_time": "2022-11-26T14:36:34.784Z"
   },
   {
    "duration": 4,
    "start_time": "2022-11-26T14:36:39.830Z"
   },
   {
    "duration": 12,
    "start_time": "2022-11-26T14:37:41.799Z"
   },
   {
    "duration": 1520,
    "start_time": "2022-11-26T14:37:53.331Z"
   },
   {
    "duration": 881,
    "start_time": "2022-11-26T14:37:54.853Z"
   },
   {
    "duration": 163,
    "start_time": "2022-11-26T14:37:55.735Z"
   },
   {
    "duration": 7,
    "start_time": "2022-11-26T14:37:55.905Z"
   },
   {
    "duration": 38,
    "start_time": "2022-11-26T14:37:55.917Z"
   },
   {
    "duration": 1062,
    "start_time": "2022-11-26T14:37:55.958Z"
   },
   {
    "duration": 18,
    "start_time": "2022-11-26T14:37:57.023Z"
   },
   {
    "duration": 93,
    "start_time": "2022-11-26T14:37:57.044Z"
   },
   {
    "duration": 21,
    "start_time": "2022-11-26T14:37:57.140Z"
   },
   {
    "duration": 485,
    "start_time": "2022-11-26T14:37:57.163Z"
   },
   {
    "duration": 167,
    "start_time": "2022-11-26T14:37:58.033Z"
   },
   {
    "duration": 1062,
    "start_time": "2022-11-26T14:38:01.276Z"
   },
   {
    "duration": 170,
    "start_time": "2022-11-26T14:38:02.342Z"
   },
   {
    "duration": 7580,
    "start_time": "2022-11-26T14:38:05.079Z"
   },
   {
    "duration": 1572,
    "start_time": "2022-11-26T14:38:22.031Z"
   },
   {
    "duration": 49,
    "start_time": "2022-11-26T14:38:31.403Z"
   },
   {
    "duration": 8822,
    "start_time": "2022-11-26T14:38:54.190Z"
   },
   {
    "duration": 2066,
    "start_time": "2022-11-26T14:39:04.595Z"
   },
   {
    "duration": 3008,
    "start_time": "2022-11-26T14:39:32.041Z"
   },
   {
    "duration": 3278,
    "start_time": "2022-11-26T14:39:46.779Z"
   },
   {
    "duration": 3101,
    "start_time": "2022-11-26T14:40:08.979Z"
   },
   {
    "duration": 1584,
    "start_time": "2022-11-26T14:40:57.872Z"
   },
   {
    "duration": 9,
    "start_time": "2022-11-26T14:41:05.217Z"
   },
   {
    "duration": 3,
    "start_time": "2022-11-26T14:41:14.438Z"
   },
   {
    "duration": 9,
    "start_time": "2022-11-26T14:46:39.877Z"
   },
   {
    "duration": 10,
    "start_time": "2022-11-26T14:46:48.482Z"
   },
   {
    "duration": 129,
    "start_time": "2022-11-26T14:46:54.959Z"
   },
   {
    "duration": 26,
    "start_time": "2022-11-26T14:46:57.934Z"
   },
   {
    "duration": 21,
    "start_time": "2022-11-26T14:47:00.723Z"
   },
   {
    "duration": 19,
    "start_time": "2022-11-26T14:47:03.498Z"
   },
   {
    "duration": 16,
    "start_time": "2022-11-26T14:47:05.822Z"
   },
   {
    "duration": 8,
    "start_time": "2022-11-26T14:47:07.862Z"
   },
   {
    "duration": 10,
    "start_time": "2022-11-26T14:47:10.174Z"
   },
   {
    "duration": 8,
    "start_time": "2022-11-26T14:47:12.974Z"
   },
   {
    "duration": 113,
    "start_time": "2022-11-26T14:47:15.027Z"
   },
   {
    "duration": 9,
    "start_time": "2022-11-26T14:47:18.244Z"
   },
   {
    "duration": 7,
    "start_time": "2022-11-26T14:47:22.933Z"
   },
   {
    "duration": 9,
    "start_time": "2022-11-26T14:47:28.577Z"
   },
   {
    "duration": 4,
    "start_time": "2022-11-26T14:49:05.031Z"
   },
   {
    "duration": 6,
    "start_time": "2022-11-26T14:49:12.042Z"
   },
   {
    "duration": 43,
    "start_time": "2022-11-26T14:51:13.959Z"
   },
   {
    "duration": 55,
    "start_time": "2022-11-26T14:51:28.704Z"
   },
   {
    "duration": 26,
    "start_time": "2022-11-26T14:51:35.640Z"
   },
   {
    "duration": 16,
    "start_time": "2022-11-26T14:51:40.886Z"
   },
   {
    "duration": 16,
    "start_time": "2022-11-26T14:51:43.338Z"
   },
   {
    "duration": 6,
    "start_time": "2022-11-26T14:51:46.554Z"
   },
   {
    "duration": 16,
    "start_time": "2022-11-26T14:51:51.780Z"
   },
   {
    "duration": 25,
    "start_time": "2022-11-26T14:51:55.496Z"
   },
   {
    "duration": 21,
    "start_time": "2022-11-26T14:51:58.102Z"
   },
   {
    "duration": 6,
    "start_time": "2022-11-26T14:52:02.529Z"
   },
   {
    "duration": 4,
    "start_time": "2022-11-26T14:52:05.281Z"
   },
   {
    "duration": 19,
    "start_time": "2022-11-26T14:52:07.722Z"
   },
   {
    "duration": 16,
    "start_time": "2022-11-26T14:52:23.245Z"
   },
   {
    "duration": 9,
    "start_time": "2022-11-26T14:52:27.428Z"
   },
   {
    "duration": 6,
    "start_time": "2022-11-26T14:52:35.365Z"
   },
   {
    "duration": 6,
    "start_time": "2022-11-26T14:52:42.645Z"
   },
   {
    "duration": 17,
    "start_time": "2022-11-26T14:52:47.057Z"
   },
   {
    "duration": 15,
    "start_time": "2022-11-26T14:52:57.932Z"
   },
   {
    "duration": 22,
    "start_time": "2022-11-26T14:53:01.790Z"
   },
   {
    "duration": 17,
    "start_time": "2022-11-26T14:53:21.778Z"
   },
   {
    "duration": 14,
    "start_time": "2022-11-26T14:55:39.969Z"
   },
   {
    "duration": 33,
    "start_time": "2022-11-26T14:55:42.177Z"
   },
   {
    "duration": 13,
    "start_time": "2022-11-26T14:55:46.970Z"
   },
   {
    "duration": 17,
    "start_time": "2022-11-26T14:55:56.159Z"
   },
   {
    "duration": 10,
    "start_time": "2022-11-26T14:56:03.635Z"
   },
   {
    "duration": 9,
    "start_time": "2022-11-26T14:56:10.264Z"
   },
   {
    "duration": 27,
    "start_time": "2022-11-26T14:57:52.750Z"
   },
   {
    "duration": 19,
    "start_time": "2022-11-26T14:57:55.240Z"
   },
   {
    "duration": 15,
    "start_time": "2022-11-26T14:57:57.375Z"
   },
   {
    "duration": 16,
    "start_time": "2022-11-26T14:58:04.795Z"
   },
   {
    "duration": 13,
    "start_time": "2022-11-26T14:58:07.769Z"
   },
   {
    "duration": 15,
    "start_time": "2022-11-26T14:58:10.524Z"
   },
   {
    "duration": 11,
    "start_time": "2022-11-26T14:58:13.473Z"
   },
   {
    "duration": 11,
    "start_time": "2022-11-26T14:58:18.772Z"
   },
   {
    "duration": 14,
    "start_time": "2022-11-26T14:58:21.744Z"
   },
   {
    "duration": 1143,
    "start_time": "2022-11-26T14:59:14.036Z"
   },
   {
    "duration": 532,
    "start_time": "2022-11-26T14:59:23.833Z"
   },
   {
    "duration": 14,
    "start_time": "2022-11-26T14:59:28.823Z"
   },
   {
    "duration": 260,
    "start_time": "2022-11-26T14:59:34.649Z"
   },
   {
    "duration": 335,
    "start_time": "2022-11-26T14:59:37.646Z"
   },
   {
    "duration": 399,
    "start_time": "2022-11-26T14:59:41.002Z"
   },
   {
    "duration": 505,
    "start_time": "2022-11-26T14:59:43.578Z"
   },
   {
    "duration": 228,
    "start_time": "2022-11-26T14:59:52.857Z"
   },
   {
    "duration": 215,
    "start_time": "2022-11-26T14:59:57.619Z"
   },
   {
    "duration": 194,
    "start_time": "2022-11-26T15:00:00.640Z"
   },
   {
    "duration": 182,
    "start_time": "2022-11-26T15:00:03.952Z"
   },
   {
    "duration": 82,
    "start_time": "2022-11-26T15:03:58.933Z"
   },
   {
    "duration": 93,
    "start_time": "2022-11-26T15:04:33.157Z"
   },
   {
    "duration": 88,
    "start_time": "2022-11-26T15:04:45.286Z"
   },
   {
    "duration": 11,
    "start_time": "2022-11-26T15:12:31.251Z"
   },
   {
    "duration": 1555,
    "start_time": "2022-11-26T15:12:58.058Z"
   },
   {
    "duration": 11,
    "start_time": "2022-11-26T15:14:31.455Z"
   },
   {
    "duration": 8,
    "start_time": "2022-11-26T15:14:40.647Z"
   },
   {
    "duration": 3,
    "start_time": "2022-11-26T15:15:06.694Z"
   },
   {
    "duration": 3,
    "start_time": "2022-11-26T15:15:42.652Z"
   },
   {
    "duration": 12,
    "start_time": "2022-11-26T15:15:57.253Z"
   },
   {
    "duration": 4,
    "start_time": "2022-11-26T15:15:57.790Z"
   },
   {
    "duration": 39,
    "start_time": "2022-11-26T15:16:03.939Z"
   },
   {
    "duration": 3,
    "start_time": "2022-11-26T15:16:04.254Z"
   },
   {
    "duration": 20,
    "start_time": "2022-11-26T15:20:55.699Z"
   },
   {
    "duration": 3,
    "start_time": "2022-11-26T15:20:56.094Z"
   },
   {
    "duration": 16,
    "start_time": "2022-11-26T15:21:16.445Z"
   },
   {
    "duration": 4,
    "start_time": "2022-11-26T15:21:16.735Z"
   },
   {
    "duration": 30,
    "start_time": "2022-11-26T15:21:33.165Z"
   },
   {
    "duration": 4,
    "start_time": "2022-11-26T15:21:33.340Z"
   },
   {
    "duration": 18,
    "start_time": "2022-11-26T15:21:37.174Z"
   },
   {
    "duration": 5,
    "start_time": "2022-11-26T15:21:37.539Z"
   },
   {
    "duration": 11,
    "start_time": "2022-11-26T15:21:41.055Z"
   },
   {
    "duration": 3,
    "start_time": "2022-11-26T15:21:42.557Z"
   },
   {
    "duration": 19,
    "start_time": "2022-11-26T15:21:47.412Z"
   },
   {
    "duration": 6,
    "start_time": "2022-11-26T15:21:47.705Z"
   },
   {
    "duration": 11,
    "start_time": "2022-11-26T15:21:52.225Z"
   },
   {
    "duration": 3,
    "start_time": "2022-11-26T15:21:52.488Z"
   },
   {
    "duration": 3,
    "start_time": "2022-11-26T15:22:59.445Z"
   },
   {
    "duration": 10,
    "start_time": "2022-11-26T15:23:01.744Z"
   },
   {
    "duration": 4,
    "start_time": "2022-11-26T15:23:01.933Z"
   },
   {
    "duration": 4,
    "start_time": "2022-11-26T15:23:16.349Z"
   },
   {
    "duration": 4,
    "start_time": "2022-11-26T15:23:30.789Z"
   },
   {
    "duration": 47,
    "start_time": "2022-11-26T15:24:45.434Z"
   },
   {
    "duration": 44,
    "start_time": "2022-11-26T15:25:58.542Z"
   },
   {
    "duration": 3,
    "start_time": "2022-11-26T15:25:59.100Z"
   },
   {
    "duration": 31,
    "start_time": "2022-11-26T15:26:28.769Z"
   },
   {
    "duration": 3,
    "start_time": "2022-11-26T15:26:29.245Z"
   },
   {
    "duration": 15,
    "start_time": "2022-11-26T15:27:56.774Z"
   },
   {
    "duration": 5,
    "start_time": "2022-11-26T15:27:57.823Z"
   },
   {
    "duration": 9,
    "start_time": "2022-11-26T15:28:02.601Z"
   },
   {
    "duration": 18,
    "start_time": "2022-11-26T15:28:05.279Z"
   },
   {
    "duration": 7,
    "start_time": "2022-11-26T15:28:05.534Z"
   },
   {
    "duration": 4,
    "start_time": "2022-11-26T15:29:24.152Z"
   },
   {
    "duration": 59,
    "start_time": "2022-11-26T15:29:24.279Z"
   },
   {
    "duration": 22,
    "start_time": "2022-11-26T15:29:24.569Z"
   },
   {
    "duration": 5,
    "start_time": "2022-11-26T15:29:24.700Z"
   },
   {
    "duration": 20,
    "start_time": "2022-11-26T15:29:24.979Z"
   },
   {
    "duration": 4,
    "start_time": "2022-11-26T15:29:25.149Z"
   },
   {
    "duration": 7947,
    "start_time": "2022-11-26T15:29:42.163Z"
   },
   {
    "duration": 4,
    "start_time": "2022-11-26T15:31:29.597Z"
   },
   {
    "duration": 755,
    "start_time": "2022-11-26T15:33:43.501Z"
   },
   {
    "duration": 3,
    "start_time": "2022-11-26T15:38:45.149Z"
   },
   {
    "duration": 13,
    "start_time": "2022-11-26T15:40:31.362Z"
   },
   {
    "duration": 712,
    "start_time": "2022-11-26T15:40:44.059Z"
   },
   {
    "duration": 5,
    "start_time": "2022-11-26T15:40:55.319Z"
   },
   {
    "duration": 9,
    "start_time": "2022-11-26T15:41:01.841Z"
   },
   {
    "duration": 959,
    "start_time": "2022-11-26T15:41:25.095Z"
   },
   {
    "duration": 4,
    "start_time": "2022-11-26T15:41:29.456Z"
   },
   {
    "duration": 1489,
    "start_time": "2022-11-26T15:45:16.559Z"
   },
   {
    "duration": 3605,
    "start_time": "2022-11-26T15:45:18.050Z"
   },
   {
    "duration": 160,
    "start_time": "2022-11-26T15:45:21.657Z"
   },
   {
    "duration": 9,
    "start_time": "2022-11-26T15:45:21.819Z"
   },
   {
    "duration": 42,
    "start_time": "2022-11-26T15:45:21.829Z"
   },
   {
    "duration": 1050,
    "start_time": "2022-11-26T15:45:21.873Z"
   },
   {
    "duration": 19,
    "start_time": "2022-11-26T15:45:22.930Z"
   },
   {
    "duration": 130,
    "start_time": "2022-11-26T15:45:22.950Z"
   },
   {
    "duration": 16,
    "start_time": "2022-11-26T15:45:23.082Z"
   },
   {
    "duration": 345,
    "start_time": "2022-11-26T15:45:23.117Z"
   },
   {
    "duration": 126,
    "start_time": "2022-11-26T15:45:23.463Z"
   },
   {
    "duration": 1147,
    "start_time": "2022-11-26T15:45:23.591Z"
   },
   {
    "duration": 107,
    "start_time": "2022-11-26T15:45:24.741Z"
   },
   {
    "duration": 7973,
    "start_time": "2022-11-26T15:45:24.851Z"
   },
   {
    "duration": 1553,
    "start_time": "2022-11-26T15:45:32.830Z"
   },
   {
    "duration": 32,
    "start_time": "2022-11-26T15:45:34.385Z"
   },
   {
    "duration": 59,
    "start_time": "2022-11-26T15:45:34.428Z"
   },
   {
    "duration": 7718,
    "start_time": "2022-11-26T15:45:34.488Z"
   },
   {
    "duration": 5,
    "start_time": "2022-11-26T15:45:42.208Z"
   },
   {
    "duration": 49,
    "start_time": "2022-11-26T15:45:42.214Z"
   },
   {
    "duration": 3,
    "start_time": "2022-11-26T15:45:42.264Z"
   },
   {
    "duration": 80,
    "start_time": "2022-11-26T15:45:42.271Z"
   },
   {
    "duration": 21,
    "start_time": "2022-11-26T15:45:42.353Z"
   },
   {
    "duration": 4,
    "start_time": "2022-11-26T15:45:42.375Z"
   },
   {
    "duration": 40,
    "start_time": "2022-11-26T15:45:42.380Z"
   },
   {
    "duration": 4,
    "start_time": "2022-11-26T15:45:42.422Z"
   },
   {
    "duration": 7517,
    "start_time": "2022-11-26T15:45:42.428Z"
   },
   {
    "duration": 4,
    "start_time": "2022-11-26T15:45:49.948Z"
   },
   {
    "duration": 39,
    "start_time": "2022-11-26T15:47:09.056Z"
   },
   {
    "duration": 1522,
    "start_time": "2022-11-26T15:48:31.703Z"
   },
   {
    "duration": 3748,
    "start_time": "2022-11-26T15:48:33.227Z"
   },
   {
    "duration": 183,
    "start_time": "2022-11-26T15:48:36.977Z"
   },
   {
    "duration": 3,
    "start_time": "2022-11-26T15:48:37.162Z"
   },
   {
    "duration": 20,
    "start_time": "2022-11-26T15:48:37.167Z"
   },
   {
    "duration": 1166,
    "start_time": "2022-11-26T15:48:37.189Z"
   },
   {
    "duration": 18,
    "start_time": "2022-11-26T15:48:38.357Z"
   },
   {
    "duration": 120,
    "start_time": "2022-11-26T15:48:38.376Z"
   },
   {
    "duration": 26,
    "start_time": "2022-11-26T15:48:38.499Z"
   },
   {
    "duration": 484,
    "start_time": "2022-11-26T15:48:38.532Z"
   },
   {
    "duration": 126,
    "start_time": "2022-11-26T15:48:39.018Z"
   },
   {
    "duration": 1120,
    "start_time": "2022-11-26T15:48:39.149Z"
   },
   {
    "duration": 108,
    "start_time": "2022-11-26T15:48:40.271Z"
   },
   {
    "duration": 8088,
    "start_time": "2022-11-26T15:48:40.381Z"
   },
   {
    "duration": 1555,
    "start_time": "2022-11-26T15:48:48.471Z"
   },
   {
    "duration": 27,
    "start_time": "2022-11-26T15:48:50.030Z"
   },
   {
    "duration": 76,
    "start_time": "2022-11-26T15:48:50.058Z"
   },
   {
    "duration": 7903,
    "start_time": "2022-11-26T15:48:50.143Z"
   },
   {
    "duration": 8,
    "start_time": "2022-11-26T15:48:58.047Z"
   },
   {
    "duration": 10,
    "start_time": "2022-11-26T15:48:58.057Z"
   },
   {
    "duration": 3,
    "start_time": "2022-11-26T15:48:58.069Z"
   },
   {
    "duration": 56,
    "start_time": "2022-11-26T15:48:58.073Z"
   },
   {
    "duration": 23,
    "start_time": "2022-11-26T15:48:58.144Z"
   },
   {
    "duration": 4,
    "start_time": "2022-11-26T15:48:58.168Z"
   },
   {
    "duration": 24,
    "start_time": "2022-11-26T15:48:58.174Z"
   },
   {
    "duration": 9,
    "start_time": "2022-11-26T15:48:58.200Z"
   },
   {
    "duration": 7870,
    "start_time": "2022-11-26T15:48:58.211Z"
   },
   {
    "duration": 3,
    "start_time": "2022-11-26T15:49:06.084Z"
   },
   {
    "duration": 101,
    "start_time": "2022-11-26T15:49:06.089Z"
   },
   {
    "duration": 0,
    "start_time": "2022-11-26T15:49:06.192Z"
   },
   {
    "duration": 0,
    "start_time": "2022-11-26T15:49:06.194Z"
   },
   {
    "duration": 0,
    "start_time": "2022-11-26T15:49:06.195Z"
   },
   {
    "duration": 0,
    "start_time": "2022-11-26T15:49:06.197Z"
   },
   {
    "duration": 0,
    "start_time": "2022-11-26T15:49:06.198Z"
   },
   {
    "duration": 0,
    "start_time": "2022-11-26T15:49:06.200Z"
   },
   {
    "duration": 0,
    "start_time": "2022-11-26T15:49:06.201Z"
   },
   {
    "duration": 0,
    "start_time": "2022-11-26T15:49:06.202Z"
   },
   {
    "duration": 0,
    "start_time": "2022-11-26T15:49:06.203Z"
   },
   {
    "duration": 0,
    "start_time": "2022-11-26T15:49:06.214Z"
   },
   {
    "duration": 0,
    "start_time": "2022-11-26T15:49:06.215Z"
   },
   {
    "duration": 0,
    "start_time": "2022-11-26T15:49:06.219Z"
   },
   {
    "duration": 0,
    "start_time": "2022-11-26T15:49:06.219Z"
   },
   {
    "duration": 0,
    "start_time": "2022-11-26T15:49:06.222Z"
   },
   {
    "duration": 0,
    "start_time": "2022-11-26T15:49:06.223Z"
   },
   {
    "duration": 0,
    "start_time": "2022-11-26T15:49:06.224Z"
   },
   {
    "duration": 0,
    "start_time": "2022-11-26T15:49:06.228Z"
   },
   {
    "duration": 0,
    "start_time": "2022-11-26T15:49:06.233Z"
   },
   {
    "duration": 0,
    "start_time": "2022-11-26T15:49:06.234Z"
   },
   {
    "duration": 0,
    "start_time": "2022-11-26T15:49:06.236Z"
   },
   {
    "duration": 0,
    "start_time": "2022-11-26T15:49:06.237Z"
   },
   {
    "duration": 0,
    "start_time": "2022-11-26T15:49:06.238Z"
   },
   {
    "duration": 0,
    "start_time": "2022-11-26T15:49:06.240Z"
   },
   {
    "duration": 0,
    "start_time": "2022-11-26T15:49:06.241Z"
   },
   {
    "duration": 0,
    "start_time": "2022-11-26T15:49:06.243Z"
   },
   {
    "duration": 0,
    "start_time": "2022-11-26T15:49:06.244Z"
   },
   {
    "duration": 31,
    "start_time": "2022-11-26T15:51:15.953Z"
   },
   {
    "duration": 606,
    "start_time": "2022-11-26T15:51:16.949Z"
   },
   {
    "duration": 4,
    "start_time": "2022-11-26T15:51:20.697Z"
   },
   {
    "duration": 1721,
    "start_time": "2022-11-26T15:51:41.817Z"
   },
   {
    "duration": 5,
    "start_time": "2022-11-26T15:51:44.958Z"
   },
   {
    "duration": 134,
    "start_time": "2022-11-26T15:53:03.425Z"
   },
   {
    "duration": 8,
    "start_time": "2022-11-26T15:53:23.881Z"
   },
   {
    "duration": 12,
    "start_time": "2022-11-26T15:53:41.839Z"
   },
   {
    "duration": 17,
    "start_time": "2022-11-26T15:53:43.932Z"
   },
   {
    "duration": 17,
    "start_time": "2022-11-26T15:56:23.638Z"
   },
   {
    "duration": 10,
    "start_time": "2022-11-26T15:57:02.738Z"
   },
   {
    "duration": 4,
    "start_time": "2022-11-26T15:57:10.827Z"
   },
   {
    "duration": 19,
    "start_time": "2022-11-26T15:57:52.581Z"
   },
   {
    "duration": 791,
    "start_time": "2022-11-26T15:58:22.786Z"
   },
   {
    "duration": 224,
    "start_time": "2022-11-26T15:58:31.203Z"
   },
   {
    "duration": 11,
    "start_time": "2022-11-26T16:05:37.360Z"
   },
   {
    "duration": 5,
    "start_time": "2022-11-26T16:05:50.044Z"
   },
   {
    "duration": 768,
    "start_time": "2022-11-26T16:05:57.909Z"
   },
   {
    "duration": 52,
    "start_time": "2022-11-26T16:16:10.874Z"
   },
   {
    "duration": 17,
    "start_time": "2022-11-26T16:16:11.353Z"
   },
   {
    "duration": 13555,
    "start_time": "2022-11-26T16:18:02.268Z"
   },
   {
    "duration": 11,
    "start_time": "2022-11-26T16:20:49.509Z"
   },
   {
    "duration": 9,
    "start_time": "2022-11-26T16:21:36.574Z"
   },
   {
    "duration": 11,
    "start_time": "2022-11-26T16:22:14.324Z"
   },
   {
    "duration": 13,
    "start_time": "2022-11-26T16:22:17.422Z"
   },
   {
    "duration": 4,
    "start_time": "2022-11-26T16:32:36.128Z"
   },
   {
    "duration": 4,
    "start_time": "2022-11-26T16:35:13.471Z"
   },
   {
    "duration": 4,
    "start_time": "2022-11-26T16:35:33.577Z"
   },
   {
    "duration": 4,
    "start_time": "2022-11-26T16:35:45.735Z"
   },
   {
    "duration": 3,
    "start_time": "2022-11-26T16:37:59.563Z"
   },
   {
    "duration": 5,
    "start_time": "2022-11-26T16:38:07.552Z"
   },
   {
    "duration": 3,
    "start_time": "2022-11-26T16:41:50.029Z"
   },
   {
    "duration": 2,
    "start_time": "2022-11-26T16:41:51.365Z"
   },
   {
    "duration": 2,
    "start_time": "2022-11-26T16:41:51.563Z"
   },
   {
    "duration": 2,
    "start_time": "2022-11-26T16:41:51.727Z"
   },
   {
    "duration": 3,
    "start_time": "2022-11-26T16:41:51.893Z"
   },
   {
    "duration": 16,
    "start_time": "2022-11-26T16:48:53.053Z"
   },
   {
    "duration": 102,
    "start_time": "2022-11-26T16:48:53.402Z"
   },
   {
    "duration": 60,
    "start_time": "2022-11-26T16:48:53.790Z"
   },
   {
    "duration": 3,
    "start_time": "2022-11-26T16:48:54.179Z"
   },
   {
    "duration": 3,
    "start_time": "2022-11-26T16:48:54.559Z"
   },
   {
    "duration": 4,
    "start_time": "2022-11-26T16:48:55.091Z"
   },
   {
    "duration": 166,
    "start_time": "2022-11-26T16:48:59.883Z"
   },
   {
    "duration": 1721,
    "start_time": "2022-11-26T16:51:16.496Z"
   },
   {
    "duration": 983,
    "start_time": "2022-11-26T16:51:18.229Z"
   },
   {
    "duration": 202,
    "start_time": "2022-11-26T16:51:19.215Z"
   },
   {
    "duration": 8,
    "start_time": "2022-11-26T16:51:19.424Z"
   },
   {
    "duration": 36,
    "start_time": "2022-11-26T16:51:19.434Z"
   },
   {
    "duration": 1270,
    "start_time": "2022-11-26T16:51:19.471Z"
   },
   {
    "duration": 17,
    "start_time": "2022-11-26T16:51:20.743Z"
   },
   {
    "duration": 148,
    "start_time": "2022-11-26T16:51:20.762Z"
   },
   {
    "duration": 37,
    "start_time": "2022-11-26T16:51:20.915Z"
   },
   {
    "duration": 467,
    "start_time": "2022-11-26T16:51:20.955Z"
   },
   {
    "duration": 159,
    "start_time": "2022-11-26T16:51:21.425Z"
   },
   {
    "duration": 1492,
    "start_time": "2022-11-26T16:51:21.586Z"
   },
   {
    "duration": 150,
    "start_time": "2022-11-26T16:51:23.080Z"
   },
   {
    "duration": 9655,
    "start_time": "2022-11-26T16:51:23.232Z"
   },
   {
    "duration": 73,
    "start_time": "2022-11-26T16:51:32.889Z"
   },
   {
    "duration": 102,
    "start_time": "2022-11-26T16:51:32.969Z"
   },
   {
    "duration": 8900,
    "start_time": "2022-11-26T16:51:33.077Z"
   },
   {
    "duration": 4,
    "start_time": "2022-11-26T16:51:41.979Z"
   },
   {
    "duration": 30,
    "start_time": "2022-11-26T16:51:41.985Z"
   },
   {
    "duration": 6,
    "start_time": "2022-11-26T16:51:42.017Z"
   },
   {
    "duration": 76,
    "start_time": "2022-11-26T16:51:42.025Z"
   },
   {
    "duration": 39,
    "start_time": "2022-11-26T16:51:42.103Z"
   },
   {
    "duration": 23,
    "start_time": "2022-11-26T16:51:42.145Z"
   },
   {
    "duration": 41,
    "start_time": "2022-11-26T16:51:42.170Z"
   },
   {
    "duration": 3,
    "start_time": "2022-11-26T16:51:42.213Z"
   },
   {
    "duration": 7403,
    "start_time": "2022-11-26T16:51:42.218Z"
   },
   {
    "duration": 5,
    "start_time": "2022-11-26T16:51:49.624Z"
   },
   {
    "duration": 131,
    "start_time": "2022-11-26T16:51:55.430Z"
   },
   {
    "duration": 31,
    "start_time": "2022-11-26T16:52:04.184Z"
   },
   {
    "duration": 195,
    "start_time": "2022-11-26T16:52:04.586Z"
   },
   {
    "duration": 70,
    "start_time": "2022-11-26T16:52:04.931Z"
   },
   {
    "duration": 5,
    "start_time": "2022-11-26T16:52:05.286Z"
   },
   {
    "duration": 4,
    "start_time": "2022-11-26T16:52:05.980Z"
   },
   {
    "duration": 7,
    "start_time": "2022-11-26T16:52:06.419Z"
   },
   {
    "duration": 337,
    "start_time": "2022-11-26T16:52:12.497Z"
   },
   {
    "duration": 26,
    "start_time": "2022-11-26T16:53:41.390Z"
   },
   {
    "duration": 26,
    "start_time": "2022-11-26T16:53:41.871Z"
   },
   {
    "duration": 90,
    "start_time": "2022-11-26T16:53:42.321Z"
   },
   {
    "duration": 37,
    "start_time": "2022-11-26T16:53:42.607Z"
   },
   {
    "duration": 4,
    "start_time": "2022-11-26T16:53:43.075Z"
   },
   {
    "duration": 4,
    "start_time": "2022-11-26T16:53:43.587Z"
   },
   {
    "duration": 4,
    "start_time": "2022-11-26T16:53:43.946Z"
   },
   {
    "duration": 93,
    "start_time": "2022-11-26T16:54:08.992Z"
   },
   {
    "duration": 20,
    "start_time": "2022-11-26T16:54:33.827Z"
   },
   {
    "duration": 22,
    "start_time": "2022-11-26T16:55:08.519Z"
   },
   {
    "duration": 24,
    "start_time": "2022-11-26T16:55:08.711Z"
   },
   {
    "duration": 23,
    "start_time": "2022-11-26T16:55:12.943Z"
   },
   {
    "duration": 78,
    "start_time": "2022-11-26T16:55:13.146Z"
   },
   {
    "duration": 31,
    "start_time": "2022-11-26T16:55:13.341Z"
   },
   {
    "duration": 4,
    "start_time": "2022-11-26T16:55:13.557Z"
   },
   {
    "duration": 5,
    "start_time": "2022-11-26T16:55:13.885Z"
   },
   {
    "duration": 4,
    "start_time": "2022-11-26T16:55:14.079Z"
   },
   {
    "duration": 140,
    "start_time": "2022-11-26T16:55:20.171Z"
   },
   {
    "duration": 775,
    "start_time": "2022-11-26T17:01:50.572Z"
   },
   {
    "duration": 47,
    "start_time": "2022-11-26T17:01:52.715Z"
   },
   {
    "duration": 17,
    "start_time": "2022-11-26T17:01:53.216Z"
   },
   {
    "duration": 5,
    "start_time": "2022-11-26T17:01:55.767Z"
   },
   {
    "duration": 4,
    "start_time": "2022-11-26T17:01:55.917Z"
   },
   {
    "duration": 3,
    "start_time": "2022-11-26T17:01:56.075Z"
   },
   {
    "duration": 70,
    "start_time": "2022-11-26T17:02:12.271Z"
   },
   {
    "duration": 2,
    "start_time": "2022-11-26T17:02:17.222Z"
   },
   {
    "duration": 3,
    "start_time": "2022-11-26T17:02:17.546Z"
   },
   {
    "duration": 168,
    "start_time": "2022-11-26T17:02:32.157Z"
   },
   {
    "duration": 16,
    "start_time": "2022-11-26T17:02:58.966Z"
   },
   {
    "duration": 811,
    "start_time": "2022-11-26T17:03:05.588Z"
   },
   {
    "duration": 223,
    "start_time": "2022-11-26T17:03:06.404Z"
   },
   {
    "duration": 339,
    "start_time": "2022-11-26T17:03:06.628Z"
   },
   {
    "duration": 109,
    "start_time": "2022-11-26T17:03:08.689Z"
   },
   {
    "duration": 52223,
    "start_time": "2022-11-26T17:03:24.982Z"
   },
   {
    "duration": 117,
    "start_time": "2022-11-26T17:06:09.239Z"
   },
   {
    "duration": 115,
    "start_time": "2022-11-26T17:11:06.999Z"
   },
   {
    "duration": 1371,
    "start_time": "2022-11-26T17:11:16.229Z"
   },
   {
    "duration": 795,
    "start_time": "2022-11-26T17:11:17.602Z"
   },
   {
    "duration": 160,
    "start_time": "2022-11-26T17:11:18.399Z"
   },
   {
    "duration": 3,
    "start_time": "2022-11-26T17:11:18.561Z"
   },
   {
    "duration": 18,
    "start_time": "2022-11-26T17:11:18.565Z"
   },
   {
    "duration": 989,
    "start_time": "2022-11-26T17:11:18.585Z"
   },
   {
    "duration": 14,
    "start_time": "2022-11-26T17:11:19.575Z"
   },
   {
    "duration": 74,
    "start_time": "2022-11-26T17:11:19.604Z"
   },
   {
    "duration": 26,
    "start_time": "2022-11-26T17:11:19.679Z"
   },
   {
    "duration": 252,
    "start_time": "2022-11-26T17:11:19.707Z"
   },
   {
    "duration": 114,
    "start_time": "2022-11-26T17:11:19.961Z"
   },
   {
    "duration": 955,
    "start_time": "2022-11-26T17:11:20.077Z"
   },
   {
    "duration": 177,
    "start_time": "2022-11-26T17:11:21.035Z"
   },
   {
    "duration": 6400,
    "start_time": "2022-11-26T17:11:21.213Z"
   },
   {
    "duration": 49,
    "start_time": "2022-11-26T17:11:27.615Z"
   },
   {
    "duration": 73,
    "start_time": "2022-11-26T17:11:27.665Z"
   },
   {
    "duration": 6471,
    "start_time": "2022-11-26T17:11:27.740Z"
   },
   {
    "duration": 4,
    "start_time": "2022-11-26T17:11:34.213Z"
   },
   {
    "duration": 15,
    "start_time": "2022-11-26T17:11:34.219Z"
   },
   {
    "duration": 3,
    "start_time": "2022-11-26T17:11:34.236Z"
   },
   {
    "duration": 44,
    "start_time": "2022-11-26T17:11:34.241Z"
   },
   {
    "duration": 35,
    "start_time": "2022-11-26T17:11:34.287Z"
   },
   {
    "duration": 4,
    "start_time": "2022-11-26T17:11:34.324Z"
   },
   {
    "duration": 22,
    "start_time": "2022-11-26T17:11:34.329Z"
   },
   {
    "duration": 4,
    "start_time": "2022-11-26T17:11:34.352Z"
   },
   {
    "duration": 6392,
    "start_time": "2022-11-26T17:11:34.357Z"
   },
   {
    "duration": 3,
    "start_time": "2022-11-26T17:11:40.750Z"
   },
   {
    "duration": 35,
    "start_time": "2022-11-26T17:11:40.754Z"
   },
   {
    "duration": 682,
    "start_time": "2022-11-26T17:11:40.790Z"
   },
   {
    "duration": 53,
    "start_time": "2022-11-26T17:11:41.474Z"
   },
   {
    "duration": 21,
    "start_time": "2022-11-26T17:11:41.530Z"
   },
   {
    "duration": 4,
    "start_time": "2022-11-26T17:11:41.553Z"
   },
   {
    "duration": 6,
    "start_time": "2022-11-26T17:11:41.558Z"
   },
   {
    "duration": 6,
    "start_time": "2022-11-26T17:11:41.566Z"
   },
   {
    "duration": 1085,
    "start_time": "2022-11-26T17:11:59.670Z"
   },
   {
    "duration": 1361,
    "start_time": "2022-11-26T17:13:54.405Z"
   },
   {
    "duration": 777,
    "start_time": "2022-11-26T17:13:55.768Z"
   },
   {
    "duration": 135,
    "start_time": "2022-11-26T17:13:56.547Z"
   },
   {
    "duration": 3,
    "start_time": "2022-11-26T17:13:56.685Z"
   },
   {
    "duration": 26,
    "start_time": "2022-11-26T17:13:56.689Z"
   },
   {
    "duration": 981,
    "start_time": "2022-11-26T17:13:56.717Z"
   },
   {
    "duration": 16,
    "start_time": "2022-11-26T17:13:57.700Z"
   },
   {
    "duration": 73,
    "start_time": "2022-11-26T17:13:57.718Z"
   },
   {
    "duration": 27,
    "start_time": "2022-11-26T17:13:57.792Z"
   },
   {
    "duration": 260,
    "start_time": "2022-11-26T17:13:57.980Z"
   },
   {
    "duration": 101,
    "start_time": "2022-11-26T17:13:58.316Z"
   },
   {
    "duration": 955,
    "start_time": "2022-11-26T17:13:58.829Z"
   },
   {
    "duration": 177,
    "start_time": "2022-11-26T17:13:59.786Z"
   },
   {
    "duration": 6085,
    "start_time": "2022-11-26T17:13:59.965Z"
   },
   {
    "duration": 55,
    "start_time": "2022-11-26T17:14:06.052Z"
   },
   {
    "duration": 61,
    "start_time": "2022-11-26T17:14:06.109Z"
   },
   {
    "duration": 6331,
    "start_time": "2022-11-26T17:14:06.172Z"
   },
   {
    "duration": 3,
    "start_time": "2022-11-26T17:14:12.505Z"
   },
   {
    "duration": 30,
    "start_time": "2022-11-26T17:14:12.509Z"
   },
   {
    "duration": 22,
    "start_time": "2022-11-26T17:14:12.542Z"
   },
   {
    "duration": 60,
    "start_time": "2022-11-26T17:14:12.566Z"
   },
   {
    "duration": 19,
    "start_time": "2022-11-26T17:14:12.628Z"
   },
   {
    "duration": 15,
    "start_time": "2022-11-26T17:14:12.648Z"
   },
   {
    "duration": 36,
    "start_time": "2022-11-26T17:14:12.664Z"
   },
   {
    "duration": 20,
    "start_time": "2022-11-26T17:14:12.701Z"
   },
   {
    "duration": 6397,
    "start_time": "2022-11-26T17:14:12.723Z"
   },
   {
    "duration": 4,
    "start_time": "2022-11-26T17:14:19.122Z"
   },
   {
    "duration": 4,
    "start_time": "2022-11-26T17:14:23.514Z"
   },
   {
    "duration": 27,
    "start_time": "2022-11-26T17:14:24.974Z"
   },
   {
    "duration": 706,
    "start_time": "2022-11-26T17:14:43.423Z"
   },
   {
    "duration": 53,
    "start_time": "2022-11-26T17:14:44.508Z"
   },
   {
    "duration": 20,
    "start_time": "2022-11-26T17:14:45.252Z"
   },
   {
    "duration": 4,
    "start_time": "2022-11-26T17:14:48.083Z"
   },
   {
    "duration": 4,
    "start_time": "2022-11-26T17:14:48.423Z"
   },
   {
    "duration": 3,
    "start_time": "2022-11-26T17:14:48.772Z"
   },
   {
    "duration": 6,
    "start_time": "2022-11-26T17:14:55.490Z"
   },
   {
    "duration": 22,
    "start_time": "2022-11-26T17:15:32.000Z"
   },
   {
    "duration": 702,
    "start_time": "2022-11-26T17:16:31.902Z"
   },
   {
    "duration": 21,
    "start_time": "2022-11-26T17:16:32.606Z"
   },
   {
    "duration": 49,
    "start_time": "2022-11-26T17:16:34.924Z"
   },
   {
    "duration": 17,
    "start_time": "2022-11-26T17:16:35.228Z"
   },
   {
    "duration": 4,
    "start_time": "2022-11-26T17:16:35.894Z"
   },
   {
    "duration": 3,
    "start_time": "2022-11-26T17:16:36.314Z"
   },
   {
    "duration": 3,
    "start_time": "2022-11-26T17:16:36.913Z"
   },
   {
    "duration": 21151,
    "start_time": "2022-11-26T17:16:44.276Z"
   },
   {
    "duration": 39,
    "start_time": "2022-11-26T17:17:25.719Z"
   },
   {
    "duration": 197,
    "start_time": "2022-11-26T17:17:46.270Z"
   },
   {
    "duration": 335,
    "start_time": "2022-11-26T17:17:58.396Z"
   },
   {
    "duration": 35462,
    "start_time": "2022-11-26T17:20:22.359Z"
   },
   {
    "duration": 92,
    "start_time": "2022-11-26T17:22:23.162Z"
   },
   {
    "duration": 3,
    "start_time": "2022-11-26T17:22:28.467Z"
   },
   {
    "duration": 3,
    "start_time": "2022-11-26T17:22:28.686Z"
   },
   {
    "duration": 371286,
    "start_time": "2022-11-26T17:22:45.637Z"
   },
   {
    "duration": 79,
    "start_time": "2022-11-26T17:30:34.907Z"
   },
   {
    "duration": 771,
    "start_time": "2022-11-26T17:30:48.320Z"
   },
   {
    "duration": 223,
    "start_time": "2022-11-26T17:30:49.093Z"
   },
   {
    "duration": 345,
    "start_time": "2022-11-26T17:30:49.318Z"
   },
   {
    "duration": 122,
    "start_time": "2022-11-26T17:30:49.666Z"
   },
   {
    "duration": 32220,
    "start_time": "2022-11-26T17:30:55.092Z"
   },
   {
    "duration": 19496,
    "start_time": "2022-11-26T17:32:34.420Z"
   },
   {
    "duration": 10,
    "start_time": "2022-11-26T17:34:39.353Z"
   },
   {
    "duration": 11,
    "start_time": "2022-11-26T17:34:45.033Z"
   },
   {
    "duration": 3,
    "start_time": "2022-11-26T17:34:57.437Z"
   },
   {
    "duration": 54,
    "start_time": "2022-11-26T17:34:58.782Z"
   },
   {
    "duration": 1053549,
    "start_time": "2022-11-26T17:35:08.873Z"
   },
   {
    "duration": 41,
    "start_time": "2022-11-26T17:52:47.455Z"
   },
   {
    "duration": 11,
    "start_time": "2022-11-26T17:53:36.337Z"
   },
   {
    "duration": 5,
    "start_time": "2022-11-26T17:54:10.682Z"
   },
   {
    "duration": 11,
    "start_time": "2022-11-26T17:54:16.345Z"
   },
   {
    "duration": 4,
    "start_time": "2022-11-26T17:54:31.392Z"
   },
   {
    "duration": 2770,
    "start_time": "2022-11-26T17:54:40.648Z"
   },
   {
    "duration": 1326,
    "start_time": "2022-11-26T17:55:21.794Z"
   },
   {
    "duration": 1350,
    "start_time": "2022-11-26T17:55:51.370Z"
   },
   {
    "duration": 100,
    "start_time": "2022-11-26T17:56:08.012Z"
   },
   {
    "duration": 16,
    "start_time": "2022-11-26T17:57:55.445Z"
   },
   {
    "duration": 85,
    "start_time": "2022-11-26T17:57:55.800Z"
   },
   {
    "duration": 38,
    "start_time": "2022-11-26T17:57:56.123Z"
   },
   {
    "duration": 4,
    "start_time": "2022-11-26T17:57:56.452Z"
   },
   {
    "duration": 4,
    "start_time": "2022-11-26T17:57:56.806Z"
   },
   {
    "duration": 4,
    "start_time": "2022-11-26T17:57:57.144Z"
   },
   {
    "duration": 345,
    "start_time": "2022-11-26T17:58:10.639Z"
   },
   {
    "duration": 20,
    "start_time": "2022-11-26T17:58:41.547Z"
   },
   {
    "duration": 5651,
    "start_time": "2022-11-26T17:59:33.961Z"
   },
   {
    "duration": 3090,
    "start_time": "2022-11-26T17:59:48.433Z"
   },
   {
    "duration": 3890,
    "start_time": "2022-11-26T17:59:56.326Z"
   },
   {
    "duration": 72,
    "start_time": "2022-11-26T18:06:41.505Z"
   },
   {
    "duration": 49876,
    "start_time": "2022-11-26T18:06:47.630Z"
   },
   {
    "duration": 2241,
    "start_time": "2022-11-27T10:36:31.522Z"
   },
   {
    "duration": 794,
    "start_time": "2022-11-27T10:36:33.765Z"
   },
   {
    "duration": 132,
    "start_time": "2022-11-27T10:36:34.561Z"
   },
   {
    "duration": 4,
    "start_time": "2022-11-27T10:36:34.694Z"
   },
   {
    "duration": 20,
    "start_time": "2022-11-27T10:36:34.699Z"
   },
   {
    "duration": 936,
    "start_time": "2022-11-27T10:36:34.720Z"
   },
   {
    "duration": 13,
    "start_time": "2022-11-27T10:36:36.143Z"
   },
   {
    "duration": 96,
    "start_time": "2022-11-27T10:36:37.389Z"
   },
   {
    "duration": 18,
    "start_time": "2022-11-27T10:36:37.838Z"
   },
   {
    "duration": 261,
    "start_time": "2022-11-27T10:36:38.976Z"
   },
   {
    "duration": 97,
    "start_time": "2022-11-27T10:36:39.865Z"
   },
   {
    "duration": 928,
    "start_time": "2022-11-27T10:36:49.266Z"
   },
   {
    "duration": 166,
    "start_time": "2022-11-27T10:36:51.688Z"
   },
   {
    "duration": 6980,
    "start_time": "2022-11-27T10:36:54.011Z"
   },
   {
    "duration": 62,
    "start_time": "2022-11-27T10:37:00.993Z"
   },
   {
    "duration": 60,
    "start_time": "2022-11-27T10:37:01.057Z"
   },
   {
    "duration": 6875,
    "start_time": "2022-11-27T10:37:01.119Z"
   },
   {
    "duration": 4,
    "start_time": "2022-11-27T10:37:07.996Z"
   },
   {
    "duration": 20,
    "start_time": "2022-11-27T10:37:08.001Z"
   },
   {
    "duration": 13,
    "start_time": "2022-11-27T10:37:08.023Z"
   },
   {
    "duration": 48,
    "start_time": "2022-11-27T10:37:08.037Z"
   },
   {
    "duration": 18,
    "start_time": "2022-11-27T10:37:08.087Z"
   },
   {
    "duration": 4,
    "start_time": "2022-11-27T10:37:08.108Z"
   },
   {
    "duration": 18,
    "start_time": "2022-11-27T10:37:08.136Z"
   },
   {
    "duration": 3,
    "start_time": "2022-11-27T10:37:08.156Z"
   },
   {
    "duration": 6799,
    "start_time": "2022-11-27T10:37:08.160Z"
   },
   {
    "duration": 3,
    "start_time": "2022-11-27T10:37:14.961Z"
   },
   {
    "duration": 98,
    "start_time": "2022-11-27T10:37:14.966Z"
   },
   {
    "duration": 1604,
    "start_time": "2022-11-27T10:48:54.903Z"
   },
   {
    "duration": 807,
    "start_time": "2022-11-27T10:48:58.220Z"
   },
   {
    "duration": 146,
    "start_time": "2022-11-27T10:48:59.030Z"
   },
   {
    "duration": 4,
    "start_time": "2022-11-27T10:48:59.481Z"
   },
   {
    "duration": 17,
    "start_time": "2022-11-27T10:48:59.706Z"
   },
   {
    "duration": 970,
    "start_time": "2022-11-27T10:48:59.865Z"
   },
   {
    "duration": 14,
    "start_time": "2022-11-27T10:49:00.837Z"
   },
   {
    "duration": 86,
    "start_time": "2022-11-27T10:49:01.229Z"
   },
   {
    "duration": 18,
    "start_time": "2022-11-27T10:49:01.383Z"
   },
   {
    "duration": 288,
    "start_time": "2022-11-27T10:49:02.183Z"
   },
   {
    "duration": 117,
    "start_time": "2022-11-27T10:49:02.582Z"
   },
   {
    "duration": 946,
    "start_time": "2022-11-27T10:49:03.066Z"
   },
   {
    "duration": 170,
    "start_time": "2022-11-27T10:49:04.014Z"
   },
   {
    "duration": 6425,
    "start_time": "2022-11-27T10:49:04.185Z"
   },
   {
    "duration": 52,
    "start_time": "2022-11-27T10:49:10.612Z"
   },
   {
    "duration": 58,
    "start_time": "2022-11-27T10:49:10.665Z"
   },
   {
    "duration": 6879,
    "start_time": "2022-11-27T10:49:10.724Z"
   },
   {
    "duration": 4,
    "start_time": "2022-11-27T10:49:17.604Z"
   },
   {
    "duration": 12,
    "start_time": "2022-11-27T10:49:17.610Z"
   },
   {
    "duration": 12,
    "start_time": "2022-11-27T10:49:17.624Z"
   },
   {
    "duration": 44,
    "start_time": "2022-11-27T10:49:17.638Z"
   },
   {
    "duration": 19,
    "start_time": "2022-11-27T10:49:17.684Z"
   },
   {
    "duration": 3,
    "start_time": "2022-11-27T10:49:17.704Z"
   },
   {
    "duration": 41,
    "start_time": "2022-11-27T10:49:17.709Z"
   },
   {
    "duration": 3,
    "start_time": "2022-11-27T10:49:17.752Z"
   },
   {
    "duration": 6544,
    "start_time": "2022-11-27T10:49:17.757Z"
   },
   {
    "duration": 3,
    "start_time": "2022-11-27T10:49:24.303Z"
   },
   {
    "duration": 98,
    "start_time": "2022-11-27T10:49:24.307Z"
   },
   {
    "duration": 32,
    "start_time": "2022-11-27T10:49:24.406Z"
   },
   {
    "duration": 708,
    "start_time": "2022-11-27T10:49:24.440Z"
   },
   {
    "duration": 55,
    "start_time": "2022-11-27T10:49:25.151Z"
   },
   {
    "duration": 32,
    "start_time": "2022-11-27T10:49:25.207Z"
   },
   {
    "duration": 3,
    "start_time": "2022-11-27T10:49:25.241Z"
   },
   {
    "duration": 4,
    "start_time": "2022-11-27T10:49:55.326Z"
   },
   {
    "duration": 4,
    "start_time": "2022-11-27T10:49:55.688Z"
   },
   {
    "duration": 22,
    "start_time": "2022-11-27T10:49:56.535Z"
   },
   {
    "duration": 848,
    "start_time": "2022-11-27T10:49:57.838Z"
   },
   {
    "duration": 215,
    "start_time": "2022-11-27T10:49:58.911Z"
   },
   {
    "duration": 337,
    "start_time": "2022-11-27T10:49:59.421Z"
   },
   {
    "duration": 114,
    "start_time": "2022-11-27T10:49:59.789Z"
   },
   {
    "duration": 18,
    "start_time": "2022-11-27T10:50:00.407Z"
   },
   {
    "duration": 88,
    "start_time": "2022-11-27T10:50:00.834Z"
   },
   {
    "duration": 37,
    "start_time": "2022-11-27T10:50:01.085Z"
   },
   {
    "duration": 4,
    "start_time": "2022-11-27T10:50:01.303Z"
   },
   {
    "duration": 4,
    "start_time": "2022-11-27T10:50:01.533Z"
   },
   {
    "duration": 3,
    "start_time": "2022-11-27T10:50:01.755Z"
   },
   {
    "duration": 3,
    "start_time": "2022-11-27T10:50:03.027Z"
   },
   {
    "duration": 2,
    "start_time": "2022-11-27T10:50:03.454Z"
   },
   {
    "duration": 3,
    "start_time": "2022-11-27T10:50:05.553Z"
   },
   {
    "duration": 100,
    "start_time": "2022-11-27T10:50:10.370Z"
   },
   {
    "duration": 56,
    "start_time": "2022-11-27T10:50:22.961Z"
   },
   {
    "duration": 3,
    "start_time": "2022-11-27T10:50:24.968Z"
   },
   {
    "duration": 3,
    "start_time": "2022-11-27T10:50:25.666Z"
   },
   {
    "duration": 21308,
    "start_time": "2022-11-27T10:50:30.875Z"
   },
   {
    "duration": 21909,
    "start_time": "2022-11-27T10:51:11.120Z"
   },
   {
    "duration": 21807,
    "start_time": "2022-11-27T10:51:35.845Z"
   },
   {
    "duration": 22228,
    "start_time": "2022-11-27T10:54:03.784Z"
   },
   {
    "duration": 18,
    "start_time": "2022-11-27T10:56:22.392Z"
   },
   {
    "duration": 6,
    "start_time": "2022-11-27T10:57:29.478Z"
   },
   {
    "duration": 22385,
    "start_time": "2022-11-27T11:00:46.115Z"
   },
   {
    "duration": 265631,
    "start_time": "2022-11-27T11:04:48.511Z"
   },
   {
    "duration": 1744,
    "start_time": "2022-11-27T12:00:41.447Z"
   },
   {
    "duration": 1238,
    "start_time": "2022-11-27T12:00:43.193Z"
   },
   {
    "duration": 164,
    "start_time": "2022-11-27T12:00:44.433Z"
   },
   {
    "duration": 18,
    "start_time": "2022-11-27T12:00:47.358Z"
   },
   {
    "duration": 5,
    "start_time": "2022-11-27T12:01:03.638Z"
   },
   {
    "duration": 13,
    "start_time": "2022-11-27T12:01:09.370Z"
   },
   {
    "duration": 15,
    "start_time": "2022-11-27T12:01:17.111Z"
   },
   {
    "duration": 1136,
    "start_time": "2022-11-27T12:01:29.535Z"
   },
   {
    "duration": 16,
    "start_time": "2022-11-27T12:01:36.425Z"
   },
   {
    "duration": 86,
    "start_time": "2022-11-27T12:01:38.946Z"
   },
   {
    "duration": 18,
    "start_time": "2022-11-27T12:01:39.587Z"
   },
   {
    "duration": 17,
    "start_time": "2022-11-27T12:01:52.595Z"
   },
   {
    "duration": 310,
    "start_time": "2022-11-27T12:01:55.148Z"
   },
   {
    "duration": 106,
    "start_time": "2022-11-27T12:01:58.572Z"
   },
   {
    "duration": 968,
    "start_time": "2022-11-27T12:02:32.643Z"
   },
   {
    "duration": 121,
    "start_time": "2022-11-27T12:02:33.613Z"
   },
   {
    "duration": 7000,
    "start_time": "2022-11-27T12:02:37.085Z"
   },
   {
    "duration": 51,
    "start_time": "2022-11-27T12:02:44.088Z"
   },
   {
    "duration": 70,
    "start_time": "2022-11-27T12:02:44.141Z"
   },
   {
    "duration": 7239,
    "start_time": "2022-11-27T12:02:44.214Z"
   },
   {
    "duration": 4,
    "start_time": "2022-11-27T12:02:51.455Z"
   },
   {
    "duration": 17,
    "start_time": "2022-11-27T12:02:51.461Z"
   },
   {
    "duration": 5,
    "start_time": "2022-11-27T12:02:51.480Z"
   },
   {
    "duration": 52,
    "start_time": "2022-11-27T12:02:51.487Z"
   },
   {
    "duration": 21,
    "start_time": "2022-11-27T12:02:51.559Z"
   },
   {
    "duration": 3,
    "start_time": "2022-11-27T12:02:51.582Z"
   },
   {
    "duration": 37,
    "start_time": "2022-11-27T12:02:51.588Z"
   },
   {
    "duration": 4,
    "start_time": "2022-11-27T12:02:51.628Z"
   },
   {
    "duration": 12,
    "start_time": "2022-11-27T12:04:27.379Z"
   },
   {
    "duration": 7,
    "start_time": "2022-11-27T12:04:43.346Z"
   },
   {
    "duration": 106,
    "start_time": "2022-11-27T12:04:56.351Z"
   },
   {
    "duration": 7512,
    "start_time": "2022-11-27T12:06:10.041Z"
   },
   {
    "duration": 10,
    "start_time": "2022-11-27T12:48:38.194Z"
   },
   {
    "duration": 107,
    "start_time": "2022-11-27T12:48:39.724Z"
   },
   {
    "duration": 3,
    "start_time": "2022-11-27T12:48:51.540Z"
   },
   {
    "duration": 6609,
    "start_time": "2022-11-27T12:49:32.894Z"
   },
   {
    "duration": 120,
    "start_time": "2022-11-27T13:57:47.139Z"
   },
   {
    "duration": 35,
    "start_time": "2022-11-27T13:58:04.308Z"
   },
   {
    "duration": 172,
    "start_time": "2022-11-27T13:58:06.675Z"
   },
   {
    "duration": 68,
    "start_time": "2022-11-27T13:58:06.973Z"
   },
   {
    "duration": 4,
    "start_time": "2022-11-27T13:58:08.414Z"
   },
   {
    "duration": 4,
    "start_time": "2022-11-27T13:58:09.140Z"
   },
   {
    "duration": 4,
    "start_time": "2022-11-27T13:58:09.454Z"
   },
   {
    "duration": 54,
    "start_time": "2022-11-27T13:58:12.824Z"
   },
   {
    "duration": 1440,
    "start_time": "2022-11-27T13:58:21.270Z"
   },
   {
    "duration": 3898,
    "start_time": "2022-11-27T13:59:11.324Z"
   },
   {
    "duration": 3743,
    "start_time": "2022-11-27T14:00:17.377Z"
   },
   {
    "duration": 101,
    "start_time": "2022-11-27T14:01:15.201Z"
   },
   {
    "duration": 3254,
    "start_time": "2022-11-27T14:01:29.298Z"
   },
   {
    "duration": 3232,
    "start_time": "2022-11-27T14:01:40.790Z"
   },
   {
    "duration": 25,
    "start_time": "2022-11-27T14:04:09.575Z"
   },
   {
    "duration": 26,
    "start_time": "2022-11-27T14:04:12.557Z"
   },
   {
    "duration": 98,
    "start_time": "2022-11-27T14:04:12.913Z"
   },
   {
    "duration": 35,
    "start_time": "2022-11-27T14:04:13.059Z"
   },
   {
    "duration": 4,
    "start_time": "2022-11-27T14:04:13.273Z"
   },
   {
    "duration": 5,
    "start_time": "2022-11-27T14:04:13.619Z"
   },
   {
    "duration": 3,
    "start_time": "2022-11-27T14:04:13.791Z"
   },
   {
    "duration": 1089,
    "start_time": "2022-11-27T14:04:17.267Z"
   },
   {
    "duration": 515,
    "start_time": "2022-11-27T14:04:21.168Z"
   },
   {
    "duration": 496,
    "start_time": "2022-11-27T14:04:26.748Z"
   },
   {
    "duration": 506,
    "start_time": "2022-11-27T14:04:44.849Z"
   },
   {
    "duration": 490,
    "start_time": "2022-11-27T14:05:05.207Z"
   },
   {
    "duration": 51,
    "start_time": "2022-11-27T14:05:36.885Z"
   },
   {
    "duration": 23428,
    "start_time": "2022-11-27T14:05:58.035Z"
   },
   {
    "duration": 23497,
    "start_time": "2022-11-27T14:07:03.951Z"
   },
   {
    "duration": 53,
    "start_time": "2022-11-27T14:08:42.952Z"
   },
   {
    "duration": 57,
    "start_time": "2022-11-27T14:09:08.409Z"
   },
   {
    "duration": 330,
    "start_time": "2022-11-27T14:09:17.518Z"
   },
   {
    "duration": 2,
    "start_time": "2022-11-27T14:09:57.922Z"
   },
   {
    "duration": 331,
    "start_time": "2022-11-27T14:10:38.782Z"
   },
   {
    "duration": 320,
    "start_time": "2022-11-27T14:11:12.208Z"
   },
   {
    "duration": 44468,
    "start_time": "2022-11-27T14:12:07.594Z"
   },
   {
    "duration": 13,
    "start_time": "2022-11-27T14:16:57.368Z"
   },
   {
    "duration": 11,
    "start_time": "2022-11-27T14:17:04.077Z"
   },
   {
    "duration": 100,
    "start_time": "2022-11-27T14:17:08.030Z"
   },
   {
    "duration": 2073915,
    "start_time": "2022-11-27T14:17:15.647Z"
   },
   {
    "duration": 33,
    "start_time": "2022-11-27T14:53:16.450Z"
   },
   {
    "duration": 2,
    "start_time": "2022-11-27T14:53:52.239Z"
   },
   {
    "duration": 20907,
    "start_time": "2022-11-27T14:54:28.047Z"
   },
   {
    "duration": 5,
    "start_time": "2022-11-27T14:54:52.356Z"
   },
   {
    "duration": 67,
    "start_time": "2022-11-27T14:55:38.570Z"
   },
   {
    "duration": 70,
    "start_time": "2022-11-27T14:56:28.005Z"
   },
   {
    "duration": 52,
    "start_time": "2022-11-27T14:56:33.566Z"
   },
   {
    "duration": 100,
    "start_time": "2022-11-27T15:01:08.396Z"
   },
   {
    "duration": 98,
    "start_time": "2022-11-27T15:01:14.402Z"
   },
   {
    "duration": 154,
    "start_time": "2022-11-27T15:01:51.209Z"
   },
   {
    "duration": 146,
    "start_time": "2022-11-27T15:02:23.389Z"
   },
   {
    "duration": 93,
    "start_time": "2022-11-27T15:04:17.400Z"
   },
   {
    "duration": 10,
    "start_time": "2022-11-27T15:04:49.984Z"
   },
   {
    "duration": 9,
    "start_time": "2022-11-27T15:04:50.752Z"
   },
   {
    "duration": 112,
    "start_time": "2022-11-27T15:04:53.493Z"
   },
   {
    "duration": 19,
    "start_time": "2022-11-27T15:05:06.825Z"
   },
   {
    "duration": 74,
    "start_time": "2022-11-27T15:05:07.260Z"
   },
   {
    "duration": 32,
    "start_time": "2022-11-27T15:05:07.416Z"
   },
   {
    "duration": 4,
    "start_time": "2022-11-27T15:05:07.749Z"
   },
   {
    "duration": 5,
    "start_time": "2022-11-27T15:05:07.941Z"
   },
   {
    "duration": 5,
    "start_time": "2022-11-27T15:05:08.341Z"
   },
   {
    "duration": 1011,
    "start_time": "2022-11-27T15:05:10.452Z"
   },
   {
    "duration": 494,
    "start_time": "2022-11-27T15:05:14.058Z"
   },
   {
    "duration": 2,
    "start_time": "2022-11-27T15:05:21.773Z"
   },
   {
    "duration": 15,
    "start_time": "2022-11-27T15:05:22.143Z"
   },
   {
    "duration": 1411,
    "start_time": "2022-11-27T15:05:46.299Z"
   },
   {
    "duration": 901,
    "start_time": "2022-11-27T15:05:47.713Z"
   },
   {
    "duration": 133,
    "start_time": "2022-11-27T15:05:48.616Z"
   },
   {
    "duration": 3,
    "start_time": "2022-11-27T15:05:48.754Z"
   },
   {
    "duration": 27,
    "start_time": "2022-11-27T15:05:48.759Z"
   },
   {
    "duration": 1067,
    "start_time": "2022-11-27T15:05:48.788Z"
   },
   {
    "duration": 22,
    "start_time": "2022-11-27T15:05:49.857Z"
   },
   {
    "duration": 91,
    "start_time": "2022-11-27T15:05:49.880Z"
   },
   {
    "duration": 19,
    "start_time": "2022-11-27T15:05:49.973Z"
   },
   {
    "duration": 303,
    "start_time": "2022-11-27T15:05:49.994Z"
   },
   {
    "duration": 115,
    "start_time": "2022-11-27T15:05:50.298Z"
   },
   {
    "duration": 1046,
    "start_time": "2022-11-27T15:05:50.416Z"
   },
   {
    "duration": 195,
    "start_time": "2022-11-27T15:05:51.464Z"
   },
   {
    "duration": 6850,
    "start_time": "2022-11-27T15:05:51.662Z"
   },
   {
    "duration": 44,
    "start_time": "2022-11-27T15:05:58.515Z"
   },
   {
    "duration": 68,
    "start_time": "2022-11-27T15:05:58.561Z"
   },
   {
    "duration": 6965,
    "start_time": "2022-11-27T15:05:58.631Z"
   },
   {
    "duration": 3,
    "start_time": "2022-11-27T15:06:05.598Z"
   },
   {
    "duration": 27,
    "start_time": "2022-11-27T15:06:05.603Z"
   },
   {
    "duration": 18,
    "start_time": "2022-11-27T15:06:05.631Z"
   },
   {
    "duration": 63,
    "start_time": "2022-11-27T15:06:05.651Z"
   },
   {
    "duration": 22,
    "start_time": "2022-11-27T15:06:05.716Z"
   },
   {
    "duration": 13,
    "start_time": "2022-11-27T15:06:05.742Z"
   },
   {
    "duration": 33,
    "start_time": "2022-11-27T15:06:05.758Z"
   },
   {
    "duration": 5,
    "start_time": "2022-11-27T15:06:05.793Z"
   },
   {
    "duration": 7127,
    "start_time": "2022-11-27T15:06:05.800Z"
   },
   {
    "duration": 5,
    "start_time": "2022-11-27T15:06:12.929Z"
   },
   {
    "duration": 121,
    "start_time": "2022-11-27T15:06:12.935Z"
   },
   {
    "duration": 12,
    "start_time": "2022-11-27T15:06:13.058Z"
   },
   {
    "duration": 9,
    "start_time": "2022-11-27T15:06:13.071Z"
   },
   {
    "duration": 35,
    "start_time": "2022-11-27T15:06:13.082Z"
   },
   {
    "duration": 114,
    "start_time": "2022-11-27T15:06:13.119Z"
   },
   {
    "duration": 22,
    "start_time": "2022-11-27T15:06:22.045Z"
   },
   {
    "duration": 91,
    "start_time": "2022-11-27T15:06:22.540Z"
   },
   {
    "duration": 41,
    "start_time": "2022-11-27T15:06:22.795Z"
   },
   {
    "duration": 4,
    "start_time": "2022-11-27T15:06:23.941Z"
   },
   {
    "duration": 4,
    "start_time": "2022-11-27T15:06:24.198Z"
   },
   {
    "duration": 4,
    "start_time": "2022-11-27T15:06:24.541Z"
   },
   {
    "duration": 1051,
    "start_time": "2022-11-27T15:06:26.928Z"
   },
   {
    "duration": 532,
    "start_time": "2022-11-27T15:06:30.072Z"
   },
   {
    "duration": 3,
    "start_time": "2022-11-27T15:06:34.269Z"
   },
   {
    "duration": 142,
    "start_time": "2022-11-27T15:06:34.910Z"
   },
   {
    "duration": 15,
    "start_time": "2022-11-27T15:08:24.945Z"
   },
   {
    "duration": 43,
    "start_time": "2022-11-27T15:08:56.571Z"
   },
   {
    "duration": 21,
    "start_time": "2022-11-27T15:10:21.708Z"
   },
   {
    "duration": 452,
    "start_time": "2022-11-27T15:11:00.759Z"
   },
   {
    "duration": 4,
    "start_time": "2022-11-27T15:11:04.885Z"
   },
   {
    "duration": 13,
    "start_time": "2022-11-27T15:11:08.075Z"
   },
   {
    "duration": 525,
    "start_time": "2022-11-27T15:11:22.209Z"
   },
   {
    "duration": 5,
    "start_time": "2022-11-27T15:11:30.948Z"
   },
   {
    "duration": 546,
    "start_time": "2022-11-27T15:13:19.240Z"
   },
   {
    "duration": 4,
    "start_time": "2022-11-27T15:13:20.621Z"
   },
   {
    "duration": 13,
    "start_time": "2022-11-27T15:13:26.981Z"
   },
   {
    "duration": 1482,
    "start_time": "2022-11-27T15:13:42.729Z"
   },
   {
    "duration": 891,
    "start_time": "2022-11-27T15:13:44.213Z"
   },
   {
    "duration": 141,
    "start_time": "2022-11-27T15:13:45.106Z"
   },
   {
    "duration": 3,
    "start_time": "2022-11-27T15:13:45.254Z"
   },
   {
    "duration": 21,
    "start_time": "2022-11-27T15:13:45.259Z"
   },
   {
    "duration": 1012,
    "start_time": "2022-11-27T15:13:45.281Z"
   },
   {
    "duration": 15,
    "start_time": "2022-11-27T15:13:46.295Z"
   },
   {
    "duration": 95,
    "start_time": "2022-11-27T15:13:46.311Z"
   },
   {
    "duration": 21,
    "start_time": "2022-11-27T15:13:46.408Z"
   },
   {
    "duration": 299,
    "start_time": "2022-11-27T15:13:46.431Z"
   },
   {
    "duration": 116,
    "start_time": "2022-11-27T15:13:46.731Z"
   },
   {
    "duration": 1125,
    "start_time": "2022-11-27T15:13:46.856Z"
   },
   {
    "duration": 272,
    "start_time": "2022-11-27T15:13:47.984Z"
   },
   {
    "duration": 7168,
    "start_time": "2022-11-27T15:13:48.258Z"
   },
   {
    "duration": 57,
    "start_time": "2022-11-27T15:13:55.428Z"
   },
   {
    "duration": 68,
    "start_time": "2022-11-27T15:13:55.487Z"
   },
   {
    "duration": 7029,
    "start_time": "2022-11-27T15:13:55.557Z"
   },
   {
    "duration": 5,
    "start_time": "2022-11-27T15:14:02.589Z"
   },
   {
    "duration": 76,
    "start_time": "2022-11-27T15:14:02.596Z"
   },
   {
    "duration": 51,
    "start_time": "2022-11-27T15:14:02.674Z"
   },
   {
    "duration": 73,
    "start_time": "2022-11-27T15:14:02.727Z"
   },
   {
    "duration": 24,
    "start_time": "2022-11-27T15:14:02.802Z"
   },
   {
    "duration": 8,
    "start_time": "2022-11-27T15:14:02.828Z"
   },
   {
    "duration": 41,
    "start_time": "2022-11-27T15:14:02.838Z"
   },
   {
    "duration": 4,
    "start_time": "2022-11-27T15:14:02.881Z"
   },
   {
    "duration": 6983,
    "start_time": "2022-11-27T15:14:02.887Z"
   },
   {
    "duration": 4,
    "start_time": "2022-11-27T15:14:09.872Z"
   },
   {
    "duration": 111,
    "start_time": "2022-11-27T15:14:09.878Z"
   },
   {
    "duration": 11,
    "start_time": "2022-11-27T15:14:09.991Z"
   },
   {
    "duration": 36,
    "start_time": "2022-11-27T15:14:10.004Z"
   },
   {
    "duration": 33,
    "start_time": "2022-11-27T15:14:10.042Z"
   },
   {
    "duration": 102,
    "start_time": "2022-11-27T15:14:10.078Z"
   },
   {
    "duration": 16,
    "start_time": "2022-11-27T15:14:31.010Z"
   },
   {
    "duration": 88,
    "start_time": "2022-11-27T15:14:31.339Z"
   },
   {
    "duration": 35,
    "start_time": "2022-11-27T15:14:31.495Z"
   },
   {
    "duration": 4,
    "start_time": "2022-11-27T15:14:31.798Z"
   },
   {
    "duration": 5,
    "start_time": "2022-11-27T15:14:31.942Z"
   },
   {
    "duration": 4,
    "start_time": "2022-11-27T15:14:32.192Z"
   },
   {
    "duration": 1060,
    "start_time": "2022-11-27T15:15:08.092Z"
   },
   {
    "duration": 522,
    "start_time": "2022-11-27T15:15:50.696Z"
   },
   {
    "duration": 5,
    "start_time": "2022-11-27T15:15:54.112Z"
   },
   {
    "duration": 3,
    "start_time": "2022-11-27T15:16:09.271Z"
   },
   {
    "duration": 135,
    "start_time": "2022-11-27T15:16:09.454Z"
   },
   {
    "duration": 16,
    "start_time": "2022-11-27T15:16:15.825Z"
   },
   {
    "duration": 21,
    "start_time": "2022-11-27T15:18:04.908Z"
   },
   {
    "duration": 33,
    "start_time": "2022-11-27T15:18:35.482Z"
   },
   {
    "duration": 489,
    "start_time": "2022-11-27T15:19:47.981Z"
   },
   {
    "duration": 14,
    "start_time": "2022-11-27T15:19:54.015Z"
   },
   {
    "duration": 3,
    "start_time": "2022-11-27T15:19:57.513Z"
   },
   {
    "duration": 13,
    "start_time": "2022-11-27T15:19:58.100Z"
   },
   {
    "duration": 4,
    "start_time": "2022-11-27T15:22:05.783Z"
   },
   {
    "duration": 4,
    "start_time": "2022-11-27T15:22:28.412Z"
   },
   {
    "duration": 28,
    "start_time": "2022-11-27T15:23:00.848Z"
   },
   {
    "duration": 487,
    "start_time": "2022-11-27T15:23:07.623Z"
   },
   {
    "duration": 15,
    "start_time": "2022-11-27T15:23:10.992Z"
   },
   {
    "duration": 4,
    "start_time": "2022-11-27T15:23:26.601Z"
   },
   {
    "duration": 23,
    "start_time": "2022-11-27T15:25:41.368Z"
   },
   {
    "duration": 502,
    "start_time": "2022-11-27T15:25:48.741Z"
   },
   {
    "duration": 507,
    "start_time": "2022-11-27T15:26:54.208Z"
   },
   {
    "duration": 4,
    "start_time": "2022-11-27T15:27:00.104Z"
   },
   {
    "duration": 8381,
    "start_time": "2022-11-27T15:28:19.024Z"
   },
   {
    "duration": 11,
    "start_time": "2022-11-27T15:30:04.384Z"
   },
   {
    "duration": 1545,
    "start_time": "2022-11-27T15:30:48.916Z"
   },
   {
    "duration": 10,
    "start_time": "2022-11-27T15:30:53.639Z"
   },
   {
    "duration": 5,
    "start_time": "2022-11-27T15:31:00.796Z"
   },
   {
    "duration": 9,
    "start_time": "2022-11-27T15:31:37.852Z"
   },
   {
    "duration": 9,
    "start_time": "2022-11-27T15:31:40.992Z"
   },
   {
    "duration": 1490,
    "start_time": "2022-11-27T15:33:12.291Z"
   },
   {
    "duration": 5,
    "start_time": "2022-11-27T15:33:16.103Z"
   },
   {
    "duration": 15,
    "start_time": "2022-11-27T15:33:41.154Z"
   },
   {
    "duration": 81231,
    "start_time": "2022-11-27T15:35:48.725Z"
   },
   {
    "duration": 91,
    "start_time": "2022-11-27T15:38:52.520Z"
   },
   {
    "duration": 168,
    "start_time": "2022-11-27T15:41:50.056Z"
   },
   {
    "duration": 54,
    "start_time": "2022-11-27T15:41:55.176Z"
   },
   {
    "duration": 27,
    "start_time": "2022-11-27T15:42:41.537Z"
   },
   {
    "duration": 9,
    "start_time": "2022-11-27T15:43:05.400Z"
   },
   {
    "duration": 20,
    "start_time": "2022-11-27T15:44:15.100Z"
   },
   {
    "duration": 13,
    "start_time": "2022-11-27T15:44:20.006Z"
   },
   {
    "duration": 1467,
    "start_time": "2022-11-27T15:49:00.115Z"
   },
   {
    "duration": 857,
    "start_time": "2022-11-27T15:49:01.584Z"
   },
   {
    "duration": 153,
    "start_time": "2022-11-27T15:49:02.442Z"
   },
   {
    "duration": 4,
    "start_time": "2022-11-27T15:49:02.598Z"
   },
   {
    "duration": 20,
    "start_time": "2022-11-27T15:49:02.603Z"
   },
   {
    "duration": 1030,
    "start_time": "2022-11-27T15:49:02.625Z"
   },
   {
    "duration": 18,
    "start_time": "2022-11-27T15:49:03.657Z"
   },
   {
    "duration": 104,
    "start_time": "2022-11-27T15:49:03.677Z"
   },
   {
    "duration": 19,
    "start_time": "2022-11-27T15:49:03.783Z"
   },
   {
    "duration": 288,
    "start_time": "2022-11-27T15:49:03.804Z"
   },
   {
    "duration": 111,
    "start_time": "2022-11-27T15:49:04.094Z"
   },
   {
    "duration": 1059,
    "start_time": "2022-11-27T15:49:04.207Z"
   },
   {
    "duration": 181,
    "start_time": "2022-11-27T15:49:05.268Z"
   },
   {
    "duration": 6734,
    "start_time": "2022-11-27T15:49:05.454Z"
   },
   {
    "duration": 53,
    "start_time": "2022-11-27T15:49:12.189Z"
   },
   {
    "duration": 69,
    "start_time": "2022-11-27T15:49:12.244Z"
   },
   {
    "duration": 6916,
    "start_time": "2022-11-27T15:49:12.314Z"
   },
   {
    "duration": 3,
    "start_time": "2022-11-27T15:49:19.233Z"
   },
   {
    "duration": 23,
    "start_time": "2022-11-27T15:49:19.238Z"
   },
   {
    "duration": 4,
    "start_time": "2022-11-27T15:49:19.263Z"
   },
   {
    "duration": 50,
    "start_time": "2022-11-27T15:49:19.270Z"
   },
   {
    "duration": 39,
    "start_time": "2022-11-27T15:49:19.323Z"
   },
   {
    "duration": 3,
    "start_time": "2022-11-27T15:49:19.364Z"
   },
   {
    "duration": 25,
    "start_time": "2022-11-27T15:49:19.369Z"
   },
   {
    "duration": 4,
    "start_time": "2022-11-27T15:49:19.395Z"
   },
   {
    "duration": 6704,
    "start_time": "2022-11-27T15:49:19.400Z"
   },
   {
    "duration": 3,
    "start_time": "2022-11-27T15:49:26.106Z"
   },
   {
    "duration": 106,
    "start_time": "2022-11-27T15:49:26.111Z"
   },
   {
    "duration": 11,
    "start_time": "2022-11-27T15:49:26.220Z"
   },
   {
    "duration": 23,
    "start_time": "2022-11-27T15:49:26.232Z"
   },
   {
    "duration": 34,
    "start_time": "2022-11-27T15:49:26.256Z"
   },
   {
    "duration": 102,
    "start_time": "2022-11-27T15:49:26.292Z"
   },
   {
    "duration": 18,
    "start_time": "2022-11-27T15:49:26.395Z"
   },
   {
    "duration": 93,
    "start_time": "2022-11-27T15:49:26.415Z"
   },
   {
    "duration": 45,
    "start_time": "2022-11-27T15:49:26.510Z"
   },
   {
    "duration": 4,
    "start_time": "2022-11-27T15:49:26.557Z"
   },
   {
    "duration": 8,
    "start_time": "2022-11-27T15:49:26.563Z"
   },
   {
    "duration": 11,
    "start_time": "2022-11-27T15:49:26.572Z"
   },
   {
    "duration": 1028,
    "start_time": "2022-11-27T15:49:32.466Z"
   },
   {
    "duration": 1022,
    "start_time": "2022-11-27T15:50:33.805Z"
   },
   {
    "duration": 425,
    "start_time": "2022-11-27T15:50:39.646Z"
   },
   {
    "duration": 328,
    "start_time": "2022-11-27T15:51:14.675Z"
   },
   {
    "duration": 508,
    "start_time": "2022-11-27T15:54:44.723Z"
   },
   {
    "duration": 4,
    "start_time": "2022-11-27T15:54:53.510Z"
   },
   {
    "duration": 902,
    "start_time": "2022-11-27T15:55:42.177Z"
   },
   {
    "duration": 4,
    "start_time": "2022-11-27T15:55:47.773Z"
   },
   {
    "duration": 1497,
    "start_time": "2022-11-27T15:55:54.994Z"
   },
   {
    "duration": 6,
    "start_time": "2022-11-27T15:55:57.243Z"
   },
   {
    "duration": 4,
    "start_time": "2022-11-27T15:55:59.466Z"
   },
   {
    "duration": 10,
    "start_time": "2022-11-27T15:56:04.842Z"
   },
   {
    "duration": 2,
    "start_time": "2022-11-27T15:56:08.112Z"
   },
   {
    "duration": 10,
    "start_time": "2022-11-27T15:56:08.881Z"
   },
   {
    "duration": 10,
    "start_time": "2022-11-27T15:57:33.542Z"
   },
   {
    "duration": 1475,
    "start_time": "2022-11-27T15:57:48.018Z"
   },
   {
    "duration": 833,
    "start_time": "2022-11-27T15:57:49.495Z"
   },
   {
    "duration": 149,
    "start_time": "2022-11-27T15:57:50.329Z"
   },
   {
    "duration": 3,
    "start_time": "2022-11-27T15:57:50.481Z"
   },
   {
    "duration": 29,
    "start_time": "2022-11-27T15:57:50.485Z"
   },
   {
    "duration": 997,
    "start_time": "2022-11-27T15:57:50.515Z"
   },
   {
    "duration": 14,
    "start_time": "2022-11-27T15:57:51.514Z"
   },
   {
    "duration": 98,
    "start_time": "2022-11-27T15:57:51.530Z"
   },
   {
    "duration": 29,
    "start_time": "2022-11-27T15:57:51.629Z"
   },
   {
    "duration": 275,
    "start_time": "2022-11-27T15:57:51.660Z"
   },
   {
    "duration": 110,
    "start_time": "2022-11-27T15:57:51.936Z"
   },
   {
    "duration": 1034,
    "start_time": "2022-11-27T15:57:52.055Z"
   },
   {
    "duration": 171,
    "start_time": "2022-11-27T15:57:53.091Z"
   },
   {
    "duration": 6542,
    "start_time": "2022-11-27T15:57:53.264Z"
   },
   {
    "duration": 58,
    "start_time": "2022-11-27T15:57:59.808Z"
   },
   {
    "duration": 61,
    "start_time": "2022-11-27T15:57:59.868Z"
   },
   {
    "duration": 6924,
    "start_time": "2022-11-27T15:57:59.930Z"
   },
   {
    "duration": 4,
    "start_time": "2022-11-27T15:58:06.856Z"
   },
   {
    "duration": 21,
    "start_time": "2022-11-27T15:58:06.861Z"
   },
   {
    "duration": 4,
    "start_time": "2022-11-27T15:58:06.884Z"
   },
   {
    "duration": 65,
    "start_time": "2022-11-27T15:58:06.890Z"
   },
   {
    "duration": 21,
    "start_time": "2022-11-27T15:58:06.957Z"
   },
   {
    "duration": 4,
    "start_time": "2022-11-27T15:58:06.980Z"
   },
   {
    "duration": 24,
    "start_time": "2022-11-27T15:58:06.986Z"
   },
   {
    "duration": 4,
    "start_time": "2022-11-27T15:58:07.012Z"
   },
   {
    "duration": 6799,
    "start_time": "2022-11-27T15:58:07.018Z"
   },
   {
    "duration": 4,
    "start_time": "2022-11-27T15:58:13.819Z"
   },
   {
    "duration": 100,
    "start_time": "2022-11-27T15:58:13.825Z"
   },
   {
    "duration": 10,
    "start_time": "2022-11-27T15:58:13.927Z"
   },
   {
    "duration": 18,
    "start_time": "2022-11-27T15:58:13.938Z"
   },
   {
    "duration": 32,
    "start_time": "2022-11-27T15:58:13.958Z"
   },
   {
    "duration": 104,
    "start_time": "2022-11-27T15:58:13.991Z"
   },
   {
    "duration": 17,
    "start_time": "2022-11-27T15:58:14.096Z"
   },
   {
    "duration": 100,
    "start_time": "2022-11-27T15:58:14.115Z"
   },
   {
    "duration": 45,
    "start_time": "2022-11-27T15:58:14.217Z"
   },
   {
    "duration": 3,
    "start_time": "2022-11-27T15:58:14.264Z"
   },
   {
    "duration": 7,
    "start_time": "2022-11-27T15:58:14.269Z"
   },
   {
    "duration": 7,
    "start_time": "2022-11-27T15:58:14.277Z"
   },
   {
    "duration": 1037,
    "start_time": "2022-11-27T15:58:50.262Z"
   },
   {
    "duration": 4,
    "start_time": "2022-11-27T15:58:58.125Z"
   },
   {
    "duration": 4,
    "start_time": "2022-11-27T15:59:10.433Z"
   },
   {
    "duration": 6,
    "start_time": "2022-11-27T15:59:10.439Z"
   },
   {
    "duration": 164,
    "start_time": "2022-11-27T16:01:41.589Z"
   },
   {
    "duration": 186,
    "start_time": "2022-11-27T16:01:51.501Z"
   },
   {
    "duration": 8,
    "start_time": "2022-11-27T16:02:33.065Z"
   },
   {
    "duration": 5,
    "start_time": "2022-11-27T16:03:02.373Z"
   },
   {
    "duration": 23,
    "start_time": "2022-11-27T16:03:16.913Z"
   },
   {
    "duration": 7,
    "start_time": "2022-11-27T16:04:14.748Z"
   },
   {
    "duration": 5,
    "start_time": "2022-11-27T16:04:19.613Z"
   },
   {
    "duration": 5,
    "start_time": "2022-11-27T16:04:28.393Z"
   },
   {
    "duration": 18,
    "start_time": "2022-11-27T16:07:35.710Z"
   },
   {
    "duration": 63,
    "start_time": "2022-11-27T16:07:39.532Z"
   },
   {
    "duration": 5,
    "start_time": "2022-11-27T16:08:15.955Z"
   },
   {
    "duration": 6,
    "start_time": "2022-11-27T16:08:29.375Z"
   },
   {
    "duration": 5,
    "start_time": "2022-11-27T16:08:32.032Z"
   },
   {
    "duration": 10,
    "start_time": "2022-11-27T16:09:14.112Z"
   },
   {
    "duration": 19,
    "start_time": "2022-11-27T16:09:19.113Z"
   },
   {
    "duration": 3,
    "start_time": "2022-11-27T16:09:26.630Z"
   },
   {
    "duration": 3,
    "start_time": "2022-11-27T16:10:00.899Z"
   },
   {
    "duration": 13,
    "start_time": "2022-11-27T16:10:01.335Z"
   },
   {
    "duration": 31,
    "start_time": "2022-11-27T16:15:08.103Z"
   },
   {
    "duration": 17,
    "start_time": "2022-11-27T16:15:45.299Z"
   },
   {
    "duration": 4,
    "start_time": "2022-11-27T16:15:47.501Z"
   },
   {
    "duration": 700,
    "start_time": "2022-11-27T16:16:34.115Z"
   },
   {
    "duration": 4,
    "start_time": "2022-11-27T16:16:39.561Z"
   },
   {
    "duration": 1780,
    "start_time": "2022-11-28T17:32:06.078Z"
   },
   {
    "duration": 1052,
    "start_time": "2022-11-28T17:32:08.776Z"
   },
   {
    "duration": 118,
    "start_time": "2022-11-28T17:32:09.830Z"
   },
   {
    "duration": 3,
    "start_time": "2022-11-28T17:32:10.114Z"
   },
   {
    "duration": 17,
    "start_time": "2022-11-28T17:32:10.572Z"
   },
   {
    "duration": 1027,
    "start_time": "2022-11-28T17:32:10.796Z"
   },
   {
    "duration": 15,
    "start_time": "2022-11-28T17:32:11.838Z"
   },
   {
    "duration": 78,
    "start_time": "2022-11-28T17:32:12.544Z"
   },
   {
    "duration": 18,
    "start_time": "2022-11-28T17:32:12.822Z"
   },
   {
    "duration": 286,
    "start_time": "2022-11-28T17:32:13.792Z"
   },
   {
    "duration": 100,
    "start_time": "2022-11-28T17:32:14.957Z"
   },
   {
    "duration": 924,
    "start_time": "2022-11-28T17:32:16.180Z"
   },
   {
    "duration": 87,
    "start_time": "2022-11-28T17:32:17.744Z"
   },
   {
    "duration": 7063,
    "start_time": "2022-11-28T17:32:18.616Z"
   },
   {
    "duration": 45,
    "start_time": "2022-11-28T17:32:25.681Z"
   },
   {
    "duration": 72,
    "start_time": "2022-11-28T17:32:25.728Z"
   },
   {
    "duration": 7139,
    "start_time": "2022-11-28T17:32:25.802Z"
   },
   {
    "duration": 4,
    "start_time": "2022-11-28T17:32:32.942Z"
   },
   {
    "duration": 25,
    "start_time": "2022-11-28T17:32:32.948Z"
   },
   {
    "duration": 5,
    "start_time": "2022-11-28T17:32:32.974Z"
   },
   {
    "duration": 60,
    "start_time": "2022-11-28T17:32:32.981Z"
   },
   {
    "duration": 19,
    "start_time": "2022-11-28T17:32:33.043Z"
   },
   {
    "duration": 4,
    "start_time": "2022-11-28T17:32:33.064Z"
   },
   {
    "duration": 17,
    "start_time": "2022-11-28T17:32:33.854Z"
   },
   {
    "duration": 3,
    "start_time": "2022-11-28T17:32:34.209Z"
   },
   {
    "duration": 6347,
    "start_time": "2022-11-28T17:32:36.088Z"
   },
   {
    "duration": 3,
    "start_time": "2022-11-28T17:32:42.436Z"
   },
   {
    "duration": 93,
    "start_time": "2022-11-28T17:32:42.441Z"
   },
   {
    "duration": 10,
    "start_time": "2022-11-28T17:32:42.536Z"
   },
   {
    "duration": 9,
    "start_time": "2022-11-28T17:32:42.547Z"
   },
   {
    "duration": 40,
    "start_time": "2022-11-28T17:32:42.557Z"
   },
   {
    "duration": 84,
    "start_time": "2022-11-28T17:32:42.599Z"
   },
   {
    "duration": 1602,
    "start_time": "2022-11-28T17:44:42.011Z"
   },
   {
    "duration": 791,
    "start_time": "2022-11-28T17:44:43.615Z"
   },
   {
    "duration": 131,
    "start_time": "2022-11-28T17:44:44.407Z"
   },
   {
    "duration": 3,
    "start_time": "2022-11-28T17:44:44.541Z"
   },
   {
    "duration": 42,
    "start_time": "2022-11-28T17:44:44.546Z"
   },
   {
    "duration": 1009,
    "start_time": "2022-11-28T17:44:44.589Z"
   },
   {
    "duration": 15,
    "start_time": "2022-11-28T17:44:45.600Z"
   },
   {
    "duration": 114,
    "start_time": "2022-11-28T17:44:45.617Z"
   },
   {
    "duration": 18,
    "start_time": "2022-11-28T17:44:45.732Z"
   },
   {
    "duration": 297,
    "start_time": "2022-11-28T17:44:45.752Z"
   },
   {
    "duration": 104,
    "start_time": "2022-11-28T17:44:46.174Z"
   },
   {
    "duration": 937,
    "start_time": "2022-11-28T17:44:46.643Z"
   },
   {
    "duration": 179,
    "start_time": "2022-11-28T17:44:47.582Z"
   },
   {
    "duration": 6667,
    "start_time": "2022-11-28T17:44:47.764Z"
   },
   {
    "duration": 54,
    "start_time": "2022-11-28T17:44:54.433Z"
   },
   {
    "duration": 58,
    "start_time": "2022-11-28T17:44:54.489Z"
   },
   {
    "duration": 6785,
    "start_time": "2022-11-28T17:44:54.549Z"
   },
   {
    "duration": 4,
    "start_time": "2022-11-28T17:45:01.336Z"
   },
   {
    "duration": 51,
    "start_time": "2022-11-28T17:45:01.342Z"
   },
   {
    "duration": 42,
    "start_time": "2022-11-28T17:45:01.396Z"
   },
   {
    "duration": 142,
    "start_time": "2022-11-28T17:45:01.440Z"
   },
   {
    "duration": 44,
    "start_time": "2022-11-28T17:45:01.584Z"
   },
   {
    "duration": 140,
    "start_time": "2022-11-28T17:45:01.629Z"
   },
   {
    "duration": 200,
    "start_time": "2022-11-28T17:45:01.771Z"
   },
   {
    "duration": 61,
    "start_time": "2022-11-28T17:45:01.973Z"
   },
   {
    "duration": 6830,
    "start_time": "2022-11-28T17:45:02.036Z"
   },
   {
    "duration": 10,
    "start_time": "2022-11-28T17:45:08.867Z"
   },
   {
    "duration": 113,
    "start_time": "2022-11-28T17:45:08.879Z"
   },
   {
    "duration": 10,
    "start_time": "2022-11-28T17:45:08.995Z"
   },
   {
    "duration": 16,
    "start_time": "2022-11-28T17:45:09.007Z"
   },
   {
    "duration": 32,
    "start_time": "2022-11-28T17:45:09.025Z"
   },
   {
    "duration": 87,
    "start_time": "2022-11-28T17:45:09.058Z"
   },
   {
    "duration": 14,
    "start_time": "2022-11-28T17:45:09.147Z"
   },
   {
    "duration": 76,
    "start_time": "2022-11-28T17:45:09.177Z"
   },
   {
    "duration": 47,
    "start_time": "2022-11-28T17:45:09.255Z"
   },
   {
    "duration": 3,
    "start_time": "2022-11-28T17:45:12.410Z"
   },
   {
    "duration": 4,
    "start_time": "2022-11-28T17:45:13.496Z"
   },
   {
    "duration": 4,
    "start_time": "2022-11-28T17:45:13.805Z"
   },
   {
    "duration": 942,
    "start_time": "2022-11-28T17:45:15.323Z"
   },
   {
    "duration": 3,
    "start_time": "2022-11-28T17:45:17.243Z"
   },
   {
    "duration": 3,
    "start_time": "2022-11-28T17:45:17.562Z"
   },
   {
    "duration": 4,
    "start_time": "2022-11-28T17:45:17.780Z"
   },
   {
    "duration": 463,
    "start_time": "2022-11-28T17:45:25.332Z"
   },
   {
    "duration": 3,
    "start_time": "2022-11-28T17:45:39.012Z"
   },
   {
    "duration": 101,
    "start_time": "2022-11-28T17:45:49.836Z"
   },
   {
    "duration": 7161,
    "start_time": "2022-11-28T17:45:53.773Z"
   },
   {
    "duration": 7033,
    "start_time": "2022-11-28T17:46:09.957Z"
   },
   {
    "duration": 14,
    "start_time": "2022-11-28T17:47:49.697Z"
   },
   {
    "duration": 7189,
    "start_time": "2022-11-28T17:48:12.302Z"
   },
   {
    "duration": 1584,
    "start_time": "2022-11-28T20:23:08.703Z"
   },
   {
    "duration": 822,
    "start_time": "2022-11-28T20:23:10.289Z"
   },
   {
    "duration": 136,
    "start_time": "2022-11-28T20:23:11.113Z"
   },
   {
    "duration": 3,
    "start_time": "2022-11-28T20:23:11.251Z"
   },
   {
    "duration": 29,
    "start_time": "2022-11-28T20:23:11.256Z"
   },
   {
    "duration": 948,
    "start_time": "2022-11-28T20:23:11.287Z"
   },
   {
    "duration": 14,
    "start_time": "2022-11-28T20:23:12.237Z"
   },
   {
    "duration": 82,
    "start_time": "2022-11-28T20:23:13.252Z"
   },
   {
    "duration": 20,
    "start_time": "2022-11-28T20:23:13.438Z"
   },
   {
    "duration": 266,
    "start_time": "2022-11-28T20:23:13.944Z"
   },
   {
    "duration": 91,
    "start_time": "2022-11-28T20:23:14.245Z"
   },
   {
    "duration": 1008,
    "start_time": "2022-11-28T20:23:14.932Z"
   },
   {
    "duration": 165,
    "start_time": "2022-11-28T20:23:15.942Z"
   },
   {
    "duration": 6591,
    "start_time": "2022-11-28T20:23:16.108Z"
   },
   {
    "duration": 51,
    "start_time": "2022-11-28T20:23:22.701Z"
   },
   {
    "duration": 70,
    "start_time": "2022-11-28T20:23:22.753Z"
   },
   {
    "duration": 6379,
    "start_time": "2022-11-28T20:23:22.825Z"
   },
   {
    "duration": 3,
    "start_time": "2022-11-28T20:23:29.206Z"
   },
   {
    "duration": 28,
    "start_time": "2022-11-28T20:23:29.211Z"
   },
   {
    "duration": 5,
    "start_time": "2022-11-28T20:23:29.241Z"
   },
   {
    "duration": 51,
    "start_time": "2022-11-28T20:23:29.248Z"
   },
   {
    "duration": 19,
    "start_time": "2022-11-28T20:23:29.301Z"
   },
   {
    "duration": 3,
    "start_time": "2022-11-28T20:23:29.322Z"
   },
   {
    "duration": 29,
    "start_time": "2022-11-28T20:23:29.326Z"
   },
   {
    "duration": 3,
    "start_time": "2022-11-28T20:23:29.356Z"
   },
   {
    "duration": 6887,
    "start_time": "2022-11-28T20:23:29.376Z"
   },
   {
    "duration": 11,
    "start_time": "2022-11-28T20:23:36.265Z"
   },
   {
    "duration": 101,
    "start_time": "2022-11-28T20:23:36.278Z"
   },
   {
    "duration": 11,
    "start_time": "2022-11-28T20:23:36.381Z"
   },
   {
    "duration": 10,
    "start_time": "2022-11-28T20:23:36.394Z"
   },
   {
    "duration": 30,
    "start_time": "2022-11-28T20:23:36.408Z"
   },
   {
    "duration": 101,
    "start_time": "2022-11-28T20:23:36.440Z"
   },
   {
    "duration": 34,
    "start_time": "2022-11-28T20:23:36.543Z"
   },
   {
    "duration": 105,
    "start_time": "2022-11-28T20:23:36.580Z"
   },
   {
    "duration": 33,
    "start_time": "2022-11-28T20:23:36.687Z"
   },
   {
    "duration": 3,
    "start_time": "2022-11-28T20:23:36.721Z"
   },
   {
    "duration": 6,
    "start_time": "2022-11-28T20:23:36.726Z"
   },
   {
    "duration": 11,
    "start_time": "2022-11-28T20:23:36.733Z"
   },
   {
    "duration": 915,
    "start_time": "2022-11-28T20:23:36.745Z"
   },
   {
    "duration": 4,
    "start_time": "2022-11-28T20:23:37.661Z"
   },
   {
    "duration": 12,
    "start_time": "2022-11-28T20:23:37.666Z"
   },
   {
    "duration": 11,
    "start_time": "2022-11-28T20:23:37.680Z"
   },
   {
    "duration": 468,
    "start_time": "2022-11-28T20:23:37.692Z"
   },
   {
    "duration": 3,
    "start_time": "2022-11-28T20:23:50.384Z"
   },
   {
    "duration": 119,
    "start_time": "2022-11-28T20:23:57.093Z"
   },
   {
    "duration": 1462,
    "start_time": "2022-11-29T06:06:09.039Z"
   },
   {
    "duration": 994,
    "start_time": "2022-11-29T06:06:10.503Z"
   },
   {
    "duration": 137,
    "start_time": "2022-11-29T06:06:11.499Z"
   },
   {
    "duration": 4,
    "start_time": "2022-11-29T06:06:11.637Z"
   },
   {
    "duration": 17,
    "start_time": "2022-11-29T06:06:11.642Z"
   },
   {
    "duration": 955,
    "start_time": "2022-11-29T06:06:11.661Z"
   },
   {
    "duration": 14,
    "start_time": "2022-11-29T06:06:12.617Z"
   },
   {
    "duration": 77,
    "start_time": "2022-11-29T06:06:12.633Z"
   },
   {
    "duration": 18,
    "start_time": "2022-11-29T06:06:12.721Z"
   },
   {
    "duration": 283,
    "start_time": "2022-11-29T06:06:12.741Z"
   },
   {
    "duration": 96,
    "start_time": "2022-11-29T06:06:13.026Z"
   },
   {
    "duration": 901,
    "start_time": "2022-11-29T06:06:13.124Z"
   },
   {
    "duration": 86,
    "start_time": "2022-11-29T06:06:14.026Z"
   },
   {
    "duration": 6264,
    "start_time": "2022-11-29T06:06:14.122Z"
   },
   {
    "duration": 56,
    "start_time": "2022-11-29T06:06:20.388Z"
   },
   {
    "duration": 56,
    "start_time": "2022-11-29T06:06:20.446Z"
   },
   {
    "duration": 6305,
    "start_time": "2022-11-29T06:06:20.504Z"
   },
   {
    "duration": 10,
    "start_time": "2022-11-29T06:06:26.811Z"
   },
   {
    "duration": 17,
    "start_time": "2022-11-29T06:06:26.823Z"
   },
   {
    "duration": 4,
    "start_time": "2022-11-29T06:06:26.841Z"
   },
   {
    "duration": 44,
    "start_time": "2022-11-29T06:06:26.847Z"
   },
   {
    "duration": 38,
    "start_time": "2022-11-29T06:06:26.893Z"
   },
   {
    "duration": 4,
    "start_time": "2022-11-29T06:06:26.933Z"
   },
   {
    "duration": 20,
    "start_time": "2022-11-29T06:06:26.938Z"
   },
   {
    "duration": 4,
    "start_time": "2022-11-29T06:06:26.959Z"
   },
   {
    "duration": 6108,
    "start_time": "2022-11-29T06:06:26.964Z"
   },
   {
    "duration": 4,
    "start_time": "2022-11-29T06:06:33.073Z"
   },
   {
    "duration": 88,
    "start_time": "2022-11-29T06:06:33.079Z"
   },
   {
    "duration": 158,
    "start_time": "2022-11-29T06:06:45.960Z"
   },
   {
    "duration": 164,
    "start_time": "2022-11-29T06:06:59.054Z"
   },
   {
    "duration": 631,
    "start_time": "2022-11-29T06:09:10.615Z"
   },
   {
    "duration": 105,
    "start_time": "2022-11-29T06:09:26.098Z"
   },
   {
    "duration": 148,
    "start_time": "2022-11-29T06:09:55.931Z"
   },
   {
    "duration": 6,
    "start_time": "2022-11-29T06:12:51.742Z"
   },
   {
    "duration": 87,
    "start_time": "2022-11-29T06:12:58.507Z"
   },
   {
    "duration": 5,
    "start_time": "2022-11-29T06:13:07.610Z"
   },
   {
    "duration": 79,
    "start_time": "2022-11-29T06:13:08.072Z"
   },
   {
    "duration": 152,
    "start_time": "2022-11-29T06:13:30.375Z"
   },
   {
    "duration": 5,
    "start_time": "2022-11-29T06:14:09.232Z"
   },
   {
    "duration": 77,
    "start_time": "2022-11-29T06:14:13.783Z"
   },
   {
    "duration": 6,
    "start_time": "2022-11-29T06:14:34.324Z"
   },
   {
    "duration": 81,
    "start_time": "2022-11-29T06:14:34.826Z"
   },
   {
    "duration": 236,
    "start_time": "2022-11-29T06:14:56.271Z"
   },
   {
    "duration": 11,
    "start_time": "2022-11-29T06:15:46.565Z"
   },
   {
    "duration": 93,
    "start_time": "2022-11-29T06:15:51.448Z"
   },
   {
    "duration": 7,
    "start_time": "2022-11-29T06:22:46.233Z"
   },
   {
    "duration": 80,
    "start_time": "2022-11-29T06:22:47.350Z"
   },
   {
    "duration": 151,
    "start_time": "2022-11-29T06:23:20.686Z"
   },
   {
    "duration": 8,
    "start_time": "2022-11-29T06:23:28.373Z"
   },
   {
    "duration": 82,
    "start_time": "2022-11-29T06:23:28.925Z"
   },
   {
    "duration": 6,
    "start_time": "2022-11-29T06:24:49.051Z"
   },
   {
    "duration": 6,
    "start_time": "2022-11-29T06:25:22.227Z"
   },
   {
    "duration": 5,
    "start_time": "2022-11-29T06:25:46.433Z"
   },
   {
    "duration": 14,
    "start_time": "2022-11-29T06:27:28.793Z"
   },
   {
    "duration": 58,
    "start_time": "2022-11-29T06:27:33.705Z"
   },
   {
    "duration": 75,
    "start_time": "2022-11-29T06:27:48.294Z"
   },
   {
    "duration": 4,
    "start_time": "2022-11-29T06:27:59.862Z"
   },
   {
    "duration": 107,
    "start_time": "2022-11-29T06:28:26.698Z"
   },
   {
    "duration": 19,
    "start_time": "2022-11-29T06:30:00.203Z"
   },
   {
    "duration": 108,
    "start_time": "2022-11-29T06:30:01.384Z"
   },
   {
    "duration": 6,
    "start_time": "2022-11-29T06:30:07.777Z"
   },
   {
    "duration": 5,
    "start_time": "2022-11-29T06:31:30.896Z"
   },
   {
    "duration": 5,
    "start_time": "2022-11-29T06:31:50.655Z"
   },
   {
    "duration": 6,
    "start_time": "2022-11-29T06:31:55.270Z"
   },
   {
    "duration": 69,
    "start_time": "2022-11-29T06:32:12.706Z"
   },
   {
    "duration": 73,
    "start_time": "2022-11-29T06:32:50.236Z"
   },
   {
    "duration": 1300,
    "start_time": "2022-11-29T06:33:36.042Z"
   },
   {
    "duration": 751,
    "start_time": "2022-11-29T06:33:37.344Z"
   },
   {
    "duration": 148,
    "start_time": "2022-11-29T06:33:38.097Z"
   },
   {
    "duration": 3,
    "start_time": "2022-11-29T06:33:38.247Z"
   },
   {
    "duration": 18,
    "start_time": "2022-11-29T06:33:38.251Z"
   },
   {
    "duration": 879,
    "start_time": "2022-11-29T06:33:38.270Z"
   },
   {
    "duration": 14,
    "start_time": "2022-11-29T06:33:39.150Z"
   },
   {
    "duration": 89,
    "start_time": "2022-11-29T06:33:39.166Z"
   },
   {
    "duration": 18,
    "start_time": "2022-11-29T06:33:39.256Z"
   },
   {
    "duration": 271,
    "start_time": "2022-11-29T06:33:39.275Z"
   },
   {
    "duration": 94,
    "start_time": "2022-11-29T06:33:39.548Z"
   },
   {
    "duration": 908,
    "start_time": "2022-11-29T06:33:39.770Z"
   },
   {
    "duration": 161,
    "start_time": "2022-11-29T06:33:40.680Z"
   },
   {
    "duration": 6305,
    "start_time": "2022-11-29T06:33:40.843Z"
   },
   {
    "duration": 49,
    "start_time": "2022-11-29T06:33:47.149Z"
   },
   {
    "duration": 69,
    "start_time": "2022-11-29T06:33:47.200Z"
   },
   {
    "duration": 6227,
    "start_time": "2022-11-29T06:33:47.271Z"
   },
   {
    "duration": 4,
    "start_time": "2022-11-29T06:33:53.500Z"
   },
   {
    "duration": 18,
    "start_time": "2022-11-29T06:33:53.507Z"
   },
   {
    "duration": 3,
    "start_time": "2022-11-29T06:33:53.527Z"
   },
   {
    "duration": 48,
    "start_time": "2022-11-29T06:33:53.531Z"
   },
   {
    "duration": 19,
    "start_time": "2022-11-29T06:33:53.580Z"
   },
   {
    "duration": 20,
    "start_time": "2022-11-29T06:33:53.601Z"
   },
   {
    "duration": 20,
    "start_time": "2022-11-29T06:33:53.623Z"
   },
   {
    "duration": 4,
    "start_time": "2022-11-29T06:33:53.644Z"
   },
   {
    "duration": 6101,
    "start_time": "2022-11-29T06:33:53.649Z"
   },
   {
    "duration": 3,
    "start_time": "2022-11-29T06:33:59.752Z"
   },
   {
    "duration": 88,
    "start_time": "2022-11-29T06:33:59.757Z"
   },
   {
    "duration": 10,
    "start_time": "2022-11-29T06:33:59.847Z"
   },
   {
    "duration": 98,
    "start_time": "2022-11-29T06:33:59.858Z"
   },
   {
    "duration": 10,
    "start_time": "2022-11-29T06:33:59.959Z"
   },
   {
    "duration": 107,
    "start_time": "2022-11-29T06:33:59.970Z"
   },
   {
    "duration": 25,
    "start_time": "2022-11-29T06:34:00.079Z"
   },
   {
    "duration": 2,
    "start_time": "2022-11-29T06:34:00.105Z"
   },
   {
    "duration": 93,
    "start_time": "2022-11-29T06:34:00.109Z"
   },
   {
    "duration": 142,
    "start_time": "2022-11-29T06:35:42.105Z"
   },
   {
    "duration": 1331,
    "start_time": "2022-11-29T06:35:49.823Z"
   },
   {
    "duration": 811,
    "start_time": "2022-11-29T06:35:51.156Z"
   },
   {
    "duration": 139,
    "start_time": "2022-11-29T06:35:51.969Z"
   },
   {
    "duration": 11,
    "start_time": "2022-11-29T06:35:52.110Z"
   },
   {
    "duration": 18,
    "start_time": "2022-11-29T06:35:52.123Z"
   },
   {
    "duration": 920,
    "start_time": "2022-11-29T06:35:52.142Z"
   },
   {
    "duration": 14,
    "start_time": "2022-11-29T06:35:53.064Z"
   },
   {
    "duration": 92,
    "start_time": "2022-11-29T06:35:53.080Z"
   },
   {
    "duration": 18,
    "start_time": "2022-11-29T06:35:53.174Z"
   },
   {
    "duration": 259,
    "start_time": "2022-11-29T06:35:53.193Z"
   },
   {
    "duration": 99,
    "start_time": "2022-11-29T06:35:53.454Z"
   },
   {
    "duration": 932,
    "start_time": "2022-11-29T06:35:53.671Z"
   },
   {
    "duration": 170,
    "start_time": "2022-11-29T06:35:54.604Z"
   },
   {
    "duration": 6100,
    "start_time": "2022-11-29T06:35:54.775Z"
   },
   {
    "duration": 56,
    "start_time": "2022-11-29T06:36:00.877Z"
   },
   {
    "duration": 59,
    "start_time": "2022-11-29T06:36:00.935Z"
   },
   {
    "duration": 6299,
    "start_time": "2022-11-29T06:36:00.995Z"
   },
   {
    "duration": 3,
    "start_time": "2022-11-29T06:36:07.296Z"
   },
   {
    "duration": 29,
    "start_time": "2022-11-29T06:36:07.301Z"
   },
   {
    "duration": 2,
    "start_time": "2022-11-29T06:36:07.332Z"
   },
   {
    "duration": 52,
    "start_time": "2022-11-29T06:36:07.336Z"
   },
   {
    "duration": 32,
    "start_time": "2022-11-29T06:36:07.389Z"
   },
   {
    "duration": 4,
    "start_time": "2022-11-29T06:36:07.423Z"
   },
   {
    "duration": 20,
    "start_time": "2022-11-29T06:36:07.429Z"
   },
   {
    "duration": 4,
    "start_time": "2022-11-29T06:36:07.451Z"
   },
   {
    "duration": 6114,
    "start_time": "2022-11-29T06:36:07.457Z"
   },
   {
    "duration": 3,
    "start_time": "2022-11-29T06:36:13.573Z"
   },
   {
    "duration": 92,
    "start_time": "2022-11-29T06:36:13.578Z"
   },
   {
    "duration": 10,
    "start_time": "2022-11-29T06:36:13.672Z"
   },
   {
    "duration": 98,
    "start_time": "2022-11-29T06:36:13.684Z"
   },
   {
    "duration": 115,
    "start_time": "2022-11-29T06:36:13.785Z"
   },
   {
    "duration": 154,
    "start_time": "2022-11-29T06:36:25.480Z"
   },
   {
    "duration": 3,
    "start_time": "2022-11-29T06:36:47.536Z"
   },
   {
    "duration": 12,
    "start_time": "2022-11-29T06:40:21.824Z"
   },
   {
    "duration": 9,
    "start_time": "2022-11-29T06:41:13.765Z"
   },
   {
    "duration": 11,
    "start_time": "2022-11-29T06:41:27.715Z"
   },
   {
    "duration": 91,
    "start_time": "2022-11-29T06:41:33.340Z"
   },
   {
    "duration": 10,
    "start_time": "2022-11-29T06:45:57.998Z"
   },
   {
    "duration": 32,
    "start_time": "2022-11-29T06:46:06.432Z"
   },
   {
    "duration": 16,
    "start_time": "2022-11-29T06:46:09.651Z"
   },
   {
    "duration": 80,
    "start_time": "2022-11-29T06:46:09.971Z"
   },
   {
    "duration": 38,
    "start_time": "2022-11-29T06:46:10.107Z"
   },
   {
    "duration": 4,
    "start_time": "2022-11-29T06:46:10.384Z"
   },
   {
    "duration": 4,
    "start_time": "2022-11-29T06:46:10.683Z"
   },
   {
    "duration": 7,
    "start_time": "2022-11-29T06:46:10.927Z"
   },
   {
    "duration": 1026,
    "start_time": "2022-11-29T06:46:13.953Z"
   },
   {
    "duration": 4,
    "start_time": "2022-11-29T06:46:14.980Z"
   },
   {
    "duration": 8,
    "start_time": "2022-11-29T06:46:14.985Z"
   },
   {
    "duration": 24,
    "start_time": "2022-11-29T06:46:14.995Z"
   },
   {
    "duration": 619,
    "start_time": "2022-11-29T06:46:19.190Z"
   },
   {
    "duration": 5,
    "start_time": "2022-11-29T06:46:25.797Z"
   },
   {
    "duration": 9,
    "start_time": "2022-11-29T06:46:40.240Z"
   },
   {
    "duration": 9,
    "start_time": "2022-11-29T06:46:49.277Z"
   },
   {
    "duration": 9,
    "start_time": "2022-11-29T06:46:51.038Z"
   },
   {
    "duration": 3,
    "start_time": "2022-11-29T06:47:20.801Z"
   },
   {
    "duration": 23,
    "start_time": "2022-11-29T06:54:04.794Z"
   },
   {
    "duration": 19,
    "start_time": "2022-11-29T06:56:55.244Z"
   },
   {
    "duration": 10,
    "start_time": "2022-11-29T06:57:09.129Z"
   },
   {
    "duration": 12,
    "start_time": "2022-11-29T06:57:11.556Z"
   },
   {
    "duration": 4,
    "start_time": "2022-11-29T06:58:34.515Z"
   },
   {
    "duration": 4,
    "start_time": "2022-11-29T07:00:36.446Z"
   },
   {
    "duration": 425,
    "start_time": "2022-11-29T07:01:12.127Z"
   },
   {
    "duration": 4,
    "start_time": "2022-11-29T07:01:14.098Z"
   },
   {
    "duration": 4,
    "start_time": "2022-11-29T07:01:16.306Z"
   },
   {
    "duration": 57,
    "start_time": "2022-11-29T07:01:43.572Z"
   },
   {
    "duration": 453,
    "start_time": "2022-11-29T07:02:51.103Z"
   },
   {
    "duration": 4,
    "start_time": "2022-11-29T07:02:53.840Z"
   },
   {
    "duration": 4,
    "start_time": "2022-11-29T07:03:01.575Z"
   },
   {
    "duration": 460,
    "start_time": "2022-11-29T07:06:25.578Z"
   },
   {
    "duration": 3,
    "start_time": "2022-11-29T07:06:26.896Z"
   },
   {
    "duration": 6950,
    "start_time": "2022-11-29T07:06:46.720Z"
   },
   {
    "duration": 296,
    "start_time": "2022-11-29T07:06:59.023Z"
   },
   {
    "duration": 42,
    "start_time": "2022-11-29T07:07:13.055Z"
   },
   {
    "duration": 1374,
    "start_time": "2022-11-29T07:08:57.019Z"
   },
   {
    "duration": 227,
    "start_time": "2022-11-29T07:08:59.710Z"
   },
   {
    "duration": 15,
    "start_time": "2022-11-29T07:09:00.371Z"
   },
   {
    "duration": 9,
    "start_time": "2022-11-29T07:09:33.178Z"
   },
   {
    "duration": 9,
    "start_time": "2022-11-29T07:10:31.604Z"
   },
   {
    "duration": 9,
    "start_time": "2022-11-29T07:11:08.924Z"
   },
   {
    "duration": 10,
    "start_time": "2022-11-29T07:11:21.487Z"
   },
   {
    "duration": 9,
    "start_time": "2022-11-29T07:11:33.857Z"
   },
   {
    "duration": 65,
    "start_time": "2022-11-29T07:11:45.564Z"
   },
   {
    "duration": 3,
    "start_time": "2022-11-29T07:11:48.861Z"
   },
   {
    "duration": 61,
    "start_time": "2022-11-29T07:12:23.989Z"
   },
   {
    "duration": 4,
    "start_time": "2022-11-29T07:12:24.602Z"
   },
   {
    "duration": 3,
    "start_time": "2022-11-29T07:12:36.484Z"
   },
   {
    "duration": 15,
    "start_time": "2022-11-29T07:12:54.524Z"
   },
   {
    "duration": 243,
    "start_time": "2022-11-29T07:13:10.600Z"
   },
   {
    "duration": 768,
    "start_time": "2022-11-29T07:13:13.671Z"
   },
   {
    "duration": 82,
    "start_time": "2022-11-29T07:17:01.690Z"
   },
   {
    "duration": 6,
    "start_time": "2022-11-29T07:17:09.241Z"
   },
   {
    "duration": 4,
    "start_time": "2022-11-29T07:18:26.046Z"
   },
   {
    "duration": 4,
    "start_time": "2022-11-29T07:18:34.448Z"
   },
   {
    "duration": 1277,
    "start_time": "2022-11-29T07:19:10.671Z"
   },
   {
    "duration": 764,
    "start_time": "2022-11-29T07:19:11.950Z"
   },
   {
    "duration": 144,
    "start_time": "2022-11-29T07:19:12.715Z"
   },
   {
    "duration": 4,
    "start_time": "2022-11-29T07:19:12.862Z"
   },
   {
    "duration": 16,
    "start_time": "2022-11-29T07:19:12.868Z"
   },
   {
    "duration": 906,
    "start_time": "2022-11-29T07:19:12.885Z"
   },
   {
    "duration": 12,
    "start_time": "2022-11-29T07:19:13.793Z"
   },
   {
    "duration": 85,
    "start_time": "2022-11-29T07:19:13.807Z"
   },
   {
    "duration": 27,
    "start_time": "2022-11-29T07:19:13.894Z"
   },
   {
    "duration": 261,
    "start_time": "2022-11-29T07:19:13.922Z"
   },
   {
    "duration": 100,
    "start_time": "2022-11-29T07:19:14.185Z"
   },
   {
    "duration": 933,
    "start_time": "2022-11-29T07:19:14.287Z"
   },
   {
    "duration": 167,
    "start_time": "2022-11-29T07:19:15.222Z"
   },
   {
    "duration": 6067,
    "start_time": "2022-11-29T07:19:15.390Z"
   },
   {
    "duration": 54,
    "start_time": "2022-11-29T07:19:21.459Z"
   },
   {
    "duration": 5,
    "start_time": "2022-11-29T07:19:21.521Z"
   },
   {
    "duration": 122,
    "start_time": "2022-11-29T07:19:44.262Z"
   },
   {
    "duration": 25,
    "start_time": "2022-11-29T07:24:09.011Z"
   },
   {
    "duration": 23,
    "start_time": "2022-11-29T07:24:28.195Z"
   },
   {
    "duration": 25,
    "start_time": "2022-11-29T07:25:27.293Z"
   },
   {
    "duration": 24,
    "start_time": "2022-11-29T07:25:27.703Z"
   },
   {
    "duration": 109,
    "start_time": "2022-11-29T07:26:57.352Z"
   },
   {
    "duration": 12,
    "start_time": "2022-11-29T07:27:19.057Z"
   },
   {
    "duration": 12,
    "start_time": "2022-11-29T07:27:22.985Z"
   },
   {
    "duration": 143,
    "start_time": "2022-11-29T07:27:54.083Z"
   },
   {
    "duration": 130,
    "start_time": "2022-11-29T07:28:24.674Z"
   },
   {
    "duration": 9,
    "start_time": "2022-11-29T07:30:58.294Z"
   },
   {
    "duration": 38,
    "start_time": "2022-11-29T07:31:08.973Z"
   },
   {
    "duration": 172,
    "start_time": "2022-11-29T07:31:09.341Z"
   },
   {
    "duration": 68,
    "start_time": "2022-11-29T07:31:09.515Z"
   },
   {
    "duration": 3,
    "start_time": "2022-11-29T07:31:09.756Z"
   },
   {
    "duration": 3,
    "start_time": "2022-11-29T07:31:09.921Z"
   },
   {
    "duration": 4,
    "start_time": "2022-11-29T07:31:10.092Z"
   },
   {
    "duration": 1368,
    "start_time": "2022-11-29T07:32:43.453Z"
   },
   {
    "duration": 1143,
    "start_time": "2022-11-29T07:32:44.823Z"
   },
   {
    "duration": 122,
    "start_time": "2022-11-29T07:32:45.967Z"
   },
   {
    "duration": 3,
    "start_time": "2022-11-29T07:32:46.090Z"
   },
   {
    "duration": 27,
    "start_time": "2022-11-29T07:32:46.095Z"
   },
   {
    "duration": 861,
    "start_time": "2022-11-29T07:32:46.124Z"
   },
   {
    "duration": 13,
    "start_time": "2022-11-29T07:32:46.986Z"
   },
   {
    "duration": 85,
    "start_time": "2022-11-29T07:32:47.001Z"
   },
   {
    "duration": 15,
    "start_time": "2022-11-29T07:32:47.088Z"
   },
   {
    "duration": 260,
    "start_time": "2022-11-29T07:32:47.105Z"
   },
   {
    "duration": 96,
    "start_time": "2022-11-29T07:32:47.366Z"
   },
   {
    "duration": 920,
    "start_time": "2022-11-29T07:32:47.464Z"
   },
   {
    "duration": 177,
    "start_time": "2022-11-29T07:32:48.386Z"
   },
   {
    "duration": 6184,
    "start_time": "2022-11-29T07:32:48.565Z"
   },
   {
    "duration": 48,
    "start_time": "2022-11-29T07:32:54.750Z"
   },
   {
    "duration": 4,
    "start_time": "2022-11-29T07:32:54.800Z"
   },
   {
    "duration": 139,
    "start_time": "2022-11-29T07:32:54.806Z"
   },
   {
    "duration": 23,
    "start_time": "2022-11-29T07:32:54.947Z"
   },
   {
    "duration": 29,
    "start_time": "2022-11-29T07:32:54.972Z"
   },
   {
    "duration": 71,
    "start_time": "2022-11-29T07:32:55.003Z"
   },
   {
    "duration": 6042,
    "start_time": "2022-11-29T07:32:55.075Z"
   },
   {
    "duration": 3,
    "start_time": "2022-11-29T07:33:01.122Z"
   },
   {
    "duration": 6086,
    "start_time": "2022-11-29T07:33:01.127Z"
   },
   {
    "duration": 7,
    "start_time": "2022-11-29T07:33:07.215Z"
   },
   {
    "duration": 84,
    "start_time": "2022-11-29T07:33:07.223Z"
   },
   {
    "duration": 16,
    "start_time": "2022-11-29T07:33:07.309Z"
   },
   {
    "duration": 81,
    "start_time": "2022-11-29T07:33:07.327Z"
   },
   {
    "duration": 23,
    "start_time": "2022-11-29T07:33:07.409Z"
   },
   {
    "duration": 94,
    "start_time": "2022-11-29T07:33:07.433Z"
   },
   {
    "duration": 23,
    "start_time": "2022-11-29T07:33:07.528Z"
   },
   {
    "duration": 54,
    "start_time": "2022-11-29T07:33:07.552Z"
   },
   {
    "duration": 76,
    "start_time": "2022-11-29T07:33:07.608Z"
   },
   {
    "duration": 14,
    "start_time": "2022-11-29T07:33:07.686Z"
   },
   {
    "duration": 80,
    "start_time": "2022-11-29T07:33:07.702Z"
   },
   {
    "duration": 38,
    "start_time": "2022-11-29T07:33:07.783Z"
   },
   {
    "duration": 3,
    "start_time": "2022-11-29T07:33:07.823Z"
   },
   {
    "duration": 5,
    "start_time": "2022-11-29T07:33:07.828Z"
   },
   {
    "duration": 6,
    "start_time": "2022-11-29T07:33:07.835Z"
   },
   {
    "duration": 871,
    "start_time": "2022-11-29T07:33:07.842Z"
   },
   {
    "duration": 4,
    "start_time": "2022-11-29T07:33:08.714Z"
   },
   {
    "duration": 6,
    "start_time": "2022-11-29T07:33:08.719Z"
   },
   {
    "duration": 6,
    "start_time": "2022-11-29T07:33:08.726Z"
   },
   {
    "duration": 1357,
    "start_time": "2022-11-29T07:33:25.427Z"
   },
   {
    "duration": 2,
    "start_time": "2022-11-29T07:33:34.297Z"
   },
   {
    "duration": 2,
    "start_time": "2022-11-29T07:33:36.293Z"
   },
   {
    "duration": 121,
    "start_time": "2022-11-29T07:33:38.549Z"
   },
   {
    "duration": 10,
    "start_time": "2022-11-29T07:33:45.961Z"
   },
   {
    "duration": 486,
    "start_time": "2022-11-29T07:34:05.164Z"
   },
   {
    "duration": 10,
    "start_time": "2022-11-29T07:34:08.700Z"
   },
   {
    "duration": 11,
    "start_time": "2022-11-29T07:34:21.270Z"
   },
   {
    "duration": 10,
    "start_time": "2022-11-29T07:34:47.975Z"
   },
   {
    "duration": 11,
    "start_time": "2022-11-29T07:34:51.025Z"
   },
   {
    "duration": 10,
    "start_time": "2022-11-29T07:44:30.515Z"
   },
   {
    "duration": 675,
    "start_time": "2022-11-29T07:50:02.532Z"
   },
   {
    "duration": 3,
    "start_time": "2022-11-29T07:50:11.892Z"
   },
   {
    "duration": 570,
    "start_time": "2022-11-29T07:51:31.424Z"
   },
   {
    "duration": 4,
    "start_time": "2022-11-29T07:51:44.460Z"
   },
   {
    "duration": 2,
    "start_time": "2022-11-29T07:52:43.697Z"
   },
   {
    "duration": 1598,
    "start_time": "2022-11-29T07:53:18.875Z"
   },
   {
    "duration": 3,
    "start_time": "2022-11-29T07:53:22.267Z"
   },
   {
    "duration": 3,
    "start_time": "2022-11-29T07:54:15.691Z"
   },
   {
    "duration": 15,
    "start_time": "2022-11-29T07:55:01.312Z"
   },
   {
    "duration": 4,
    "start_time": "2022-11-29T07:55:17.283Z"
   },
   {
    "duration": 1625,
    "start_time": "2022-11-29T07:58:00.690Z"
   },
   {
    "duration": 3,
    "start_time": "2022-11-29T07:58:02.812Z"
   },
   {
    "duration": 4,
    "start_time": "2022-11-29T07:58:03.327Z"
   },
   {
    "duration": 14,
    "start_time": "2022-11-29T07:58:06.306Z"
   },
   {
    "duration": 4,
    "start_time": "2022-11-29T07:58:27.874Z"
   },
   {
    "duration": 3,
    "start_time": "2022-11-29T07:59:28.810Z"
   },
   {
    "duration": 3,
    "start_time": "2022-11-29T07:59:47.738Z"
   },
   {
    "duration": 4,
    "start_time": "2022-11-29T07:59:55.703Z"
   },
   {
    "duration": 5,
    "start_time": "2022-11-29T08:00:15.792Z"
   },
   {
    "duration": 5,
    "start_time": "2022-11-29T08:00:23.478Z"
   },
   {
    "duration": 5,
    "start_time": "2022-11-29T08:01:06.128Z"
   },
   {
    "duration": 10,
    "start_time": "2022-11-29T08:02:55.446Z"
   },
   {
    "duration": 9,
    "start_time": "2022-11-29T08:03:12.018Z"
   },
   {
    "duration": 3,
    "start_time": "2022-11-29T08:03:23.729Z"
   },
   {
    "duration": 4,
    "start_time": "2022-11-29T08:04:19.242Z"
   },
   {
    "duration": 2158,
    "start_time": "2022-11-29T08:05:25.663Z"
   },
   {
    "duration": 2,
    "start_time": "2022-11-29T08:05:27.823Z"
   },
   {
    "duration": 5,
    "start_time": "2022-11-29T08:05:31.502Z"
   },
   {
    "duration": 5,
    "start_time": "2022-11-29T08:06:16.780Z"
   },
   {
    "duration": 2135,
    "start_time": "2022-11-29T08:06:28.304Z"
   },
   {
    "duration": 2,
    "start_time": "2022-11-29T08:06:30.442Z"
   },
   {
    "duration": 41,
    "start_time": "2022-11-29T08:06:30.445Z"
   },
   {
    "duration": 1580,
    "start_time": "2022-11-29T08:06:36.782Z"
   },
   {
    "duration": 2,
    "start_time": "2022-11-29T08:06:38.364Z"
   },
   {
    "duration": 8,
    "start_time": "2022-11-29T08:06:38.368Z"
   },
   {
    "duration": 4,
    "start_time": "2022-11-29T08:06:49.944Z"
   },
   {
    "duration": 4,
    "start_time": "2022-11-29T08:07:24.080Z"
   },
   {
    "duration": 8,
    "start_time": "2022-11-29T08:08:26.995Z"
   },
   {
    "duration": 9,
    "start_time": "2022-11-29T08:08:43.720Z"
   },
   {
    "duration": 5,
    "start_time": "2022-11-29T08:10:02.225Z"
   },
   {
    "duration": 2,
    "start_time": "2022-11-29T08:10:44.387Z"
   },
   {
    "duration": 4,
    "start_time": "2022-11-29T08:10:51.742Z"
   },
   {
    "duration": 3,
    "start_time": "2022-11-29T08:11:10.436Z"
   },
   {
    "duration": 3,
    "start_time": "2022-11-29T08:11:10.768Z"
   },
   {
    "duration": 2,
    "start_time": "2022-11-29T08:11:51.878Z"
   },
   {
    "duration": 5,
    "start_time": "2022-11-29T08:11:53.550Z"
   },
   {
    "duration": 5,
    "start_time": "2022-11-29T08:12:20.470Z"
   },
   {
    "duration": 1647,
    "start_time": "2022-11-29T08:14:20.545Z"
   },
   {
    "duration": 2,
    "start_time": "2022-11-29T08:14:22.727Z"
   },
   {
    "duration": 4,
    "start_time": "2022-11-29T08:14:23.249Z"
   },
   {
    "duration": 13,
    "start_time": "2022-11-29T08:14:43.745Z"
   },
   {
    "duration": 9,
    "start_time": "2022-11-29T08:15:07.283Z"
   },
   {
    "duration": 3,
    "start_time": "2022-11-29T08:15:22.977Z"
   },
   {
    "duration": 12,
    "start_time": "2022-11-29T08:15:25.424Z"
   },
   {
    "duration": 48,
    "start_time": "2022-11-29T08:15:42.399Z"
   },
   {
    "duration": 5,
    "start_time": "2022-11-29T08:15:54.726Z"
   },
   {
    "duration": 5,
    "start_time": "2022-11-29T08:16:50.042Z"
   },
   {
    "duration": 5,
    "start_time": "2022-11-29T08:16:58.417Z"
   },
   {
    "duration": 5,
    "start_time": "2022-11-29T08:17:03.361Z"
   },
   {
    "duration": 5,
    "start_time": "2022-11-29T08:17:06.700Z"
   },
   {
    "duration": 2,
    "start_time": "2022-11-29T08:18:15.847Z"
   },
   {
    "duration": 5,
    "start_time": "2022-11-29T08:18:16.003Z"
   },
   {
    "duration": 4,
    "start_time": "2022-11-29T08:18:17.826Z"
   },
   {
    "duration": 3,
    "start_time": "2022-11-29T08:18:55.190Z"
   },
   {
    "duration": 4,
    "start_time": "2022-11-29T08:19:13.775Z"
   },
   {
    "duration": 3,
    "start_time": "2022-11-29T08:19:21.395Z"
   },
   {
    "duration": 5,
    "start_time": "2022-11-29T08:19:28.978Z"
   },
   {
    "duration": 5,
    "start_time": "2022-11-29T08:19:41.503Z"
   },
   {
    "duration": 17,
    "start_time": "2022-11-29T08:20:35.212Z"
   },
   {
    "duration": 9,
    "start_time": "2022-11-29T08:20:53.132Z"
   },
   {
    "duration": 8,
    "start_time": "2022-11-29T08:23:02.809Z"
   },
   {
    "duration": 9,
    "start_time": "2022-11-29T08:23:06.974Z"
   },
   {
    "duration": 8,
    "start_time": "2022-11-29T08:23:23.966Z"
   },
   {
    "duration": 4,
    "start_time": "2022-11-29T08:25:11.939Z"
   },
   {
    "duration": 839,
    "start_time": "2022-11-29T08:26:02.198Z"
   },
   {
    "duration": 3,
    "start_time": "2022-11-29T08:26:04.693Z"
   },
   {
    "duration": 1362,
    "start_time": "2022-11-29T08:26:14.731Z"
   },
   {
    "duration": 4,
    "start_time": "2022-11-29T08:26:16.624Z"
   },
   {
    "duration": 2110,
    "start_time": "2022-11-29T08:26:26.027Z"
   },
   {
    "duration": 4,
    "start_time": "2022-11-29T08:26:29.149Z"
   },
   {
    "duration": 2,
    "start_time": "2022-11-29T08:26:39.534Z"
   },
   {
    "duration": 5,
    "start_time": "2022-11-29T08:26:39.732Z"
   },
   {
    "duration": 1588,
    "start_time": "2022-11-29T08:26:54.263Z"
   },
   {
    "duration": 4,
    "start_time": "2022-11-29T08:26:55.853Z"
   },
   {
    "duration": 2,
    "start_time": "2022-11-29T08:26:56.850Z"
   },
   {
    "duration": 5,
    "start_time": "2022-11-29T08:26:57.033Z"
   },
   {
    "duration": 5,
    "start_time": "2022-11-29T08:26:58.130Z"
   },
   {
    "duration": 3,
    "start_time": "2022-11-29T08:27:06.311Z"
   },
   {
    "duration": 7,
    "start_time": "2022-11-29T08:27:10.528Z"
   },
   {
    "duration": 40,
    "start_time": "2022-11-29T08:27:29.283Z"
   },
   {
    "duration": 10,
    "start_time": "2022-11-29T08:27:35.416Z"
   },
   {
    "duration": 9,
    "start_time": "2022-11-29T08:27:45.034Z"
   },
   {
    "duration": 9,
    "start_time": "2022-11-29T08:27:48.439Z"
   },
   {
    "duration": 4,
    "start_time": "2022-11-29T08:27:54.163Z"
   },
   {
    "duration": 4,
    "start_time": "2022-11-29T08:28:14.294Z"
   },
   {
    "duration": 9,
    "start_time": "2022-11-29T08:28:37.905Z"
   },
   {
    "duration": 3,
    "start_time": "2022-11-29T08:28:48.167Z"
   },
   {
    "duration": 16,
    "start_time": "2022-11-29T08:28:51.514Z"
   },
   {
    "duration": 2,
    "start_time": "2022-11-29T08:41:14.021Z"
   },
   {
    "duration": 3,
    "start_time": "2022-11-29T08:41:15.469Z"
   },
   {
    "duration": 2,
    "start_time": "2022-11-29T08:48:48.213Z"
   },
   {
    "duration": 2,
    "start_time": "2022-11-29T08:48:48.318Z"
   },
   {
    "duration": 4,
    "start_time": "2022-11-29T08:53:59.451Z"
   },
   {
    "duration": 5,
    "start_time": "2022-11-29T08:54:19.437Z"
   },
   {
    "duration": 5,
    "start_time": "2022-11-29T08:54:26.153Z"
   },
   {
    "duration": 5,
    "start_time": "2022-11-29T08:54:31.218Z"
   },
   {
    "duration": 9,
    "start_time": "2022-11-29T08:55:19.893Z"
   },
   {
    "duration": 5,
    "start_time": "2022-11-29T08:55:38.487Z"
   },
   {
    "duration": 2,
    "start_time": "2022-11-29T08:55:45.641Z"
   },
   {
    "duration": 3,
    "start_time": "2022-11-29T08:55:49.330Z"
   },
   {
    "duration": 1711,
    "start_time": "2022-11-30T06:59:19.629Z"
   },
   {
    "duration": 3272,
    "start_time": "2022-11-30T06:59:21.342Z"
   },
   {
    "duration": 174,
    "start_time": "2022-11-30T06:59:24.616Z"
   },
   {
    "duration": 3,
    "start_time": "2022-11-30T06:59:24.793Z"
   },
   {
    "duration": 30,
    "start_time": "2022-11-30T06:59:24.798Z"
   },
   {
    "duration": 1133,
    "start_time": "2022-11-30T06:59:24.830Z"
   },
   {
    "duration": 22,
    "start_time": "2022-11-30T06:59:25.964Z"
   },
   {
    "duration": 93,
    "start_time": "2022-11-30T06:59:25.988Z"
   },
   {
    "duration": 18,
    "start_time": "2022-11-30T06:59:26.083Z"
   },
   {
    "duration": 3,
    "start_time": "2022-11-30T07:18:33.148Z"
   },
   {
    "duration": 1345,
    "start_time": "2022-11-30T07:19:09.786Z"
   },
   {
    "duration": 733,
    "start_time": "2022-11-30T07:19:11.132Z"
   },
   {
    "duration": 125,
    "start_time": "2022-11-30T07:19:11.867Z"
   },
   {
    "duration": 3,
    "start_time": "2022-11-30T07:19:11.994Z"
   },
   {
    "duration": 17,
    "start_time": "2022-11-30T07:19:11.998Z"
   },
   {
    "duration": 886,
    "start_time": "2022-11-30T07:19:12.016Z"
   },
   {
    "duration": 13,
    "start_time": "2022-11-30T07:19:12.903Z"
   },
   {
    "duration": 109,
    "start_time": "2022-11-30T07:19:12.918Z"
   },
   {
    "duration": 19,
    "start_time": "2022-11-30T07:19:13.029Z"
   },
   {
    "duration": 276,
    "start_time": "2022-11-30T07:19:13.049Z"
   },
   {
    "duration": 100,
    "start_time": "2022-11-30T07:19:13.327Z"
   },
   {
    "duration": 932,
    "start_time": "2022-11-30T07:19:13.730Z"
   },
   {
    "duration": 4581,
    "start_time": "2022-11-30T07:19:14.664Z"
   },
   {
    "duration": 41,
    "start_time": "2022-11-30T07:19:19.247Z"
   },
   {
    "duration": 124,
    "start_time": "2022-11-30T07:19:19.289Z"
   },
   {
    "duration": 24,
    "start_time": "2022-11-30T07:19:19.414Z"
   },
   {
    "duration": 108,
    "start_time": "2022-11-30T07:19:19.439Z"
   },
   {
    "duration": 124,
    "start_time": "2022-11-30T07:19:19.548Z"
   },
   {
    "duration": 4,
    "start_time": "2022-11-30T07:19:19.674Z"
   },
   {
    "duration": 53,
    "start_time": "2022-11-30T07:19:19.679Z"
   },
   {
    "duration": 36,
    "start_time": "2022-11-30T07:19:19.734Z"
   },
   {
    "duration": 74,
    "start_time": "2022-11-30T07:19:19.773Z"
   },
   {
    "duration": 20,
    "start_time": "2022-11-30T07:19:20.602Z"
   },
   {
    "duration": 4,
    "start_time": "2022-11-30T07:19:20.971Z"
   },
   {
    "duration": 12,
    "start_time": "2022-11-30T07:19:25.717Z"
   },
   {
    "duration": 54,
    "start_time": "2022-11-30T07:19:26.267Z"
   },
   {
    "duration": 23,
    "start_time": "2022-11-30T07:19:26.701Z"
   },
   {
    "duration": 3,
    "start_time": "2022-11-30T07:19:27.656Z"
   },
   {
    "duration": 3,
    "start_time": "2022-11-30T07:19:28.072Z"
   },
   {
    "duration": 3,
    "start_time": "2022-11-30T07:19:28.554Z"
   },
   {
    "duration": 754,
    "start_time": "2022-11-30T07:20:44.133Z"
   },
   {
    "duration": 3,
    "start_time": "2022-11-30T07:20:45.245Z"
   },
   {
    "duration": 3,
    "start_time": "2022-11-30T07:20:45.573Z"
   },
   {
    "duration": 4,
    "start_time": "2022-11-30T07:20:45.920Z"
   },
   {
    "duration": 2281,
    "start_time": "2022-11-30T07:20:50.016Z"
   },
   {
    "duration": 1,
    "start_time": "2022-11-30T07:20:58.371Z"
   },
   {
    "duration": 2,
    "start_time": "2022-11-30T07:20:58.703Z"
   },
   {
    "duration": 150287,
    "start_time": "2022-11-30T07:21:02.281Z"
   },
   {
    "duration": 65,
    "start_time": "2022-11-30T07:23:38.156Z"
   },
   {
    "duration": 124,
    "start_time": "2022-11-30T07:23:46.223Z"
   },
   {
    "duration": 72594,
    "start_time": "2022-11-30T07:24:03.385Z"
   },
   {
    "duration": 60135,
    "start_time": "2022-11-30T07:26:07.747Z"
   },
   {
    "duration": 15072,
    "start_time": "2022-11-30T07:29:29.511Z"
   },
   {
    "duration": 198,
    "start_time": "2022-11-30T07:29:44.585Z"
   },
   {
    "duration": 513,
    "start_time": "2022-11-30T07:32:08.901Z"
   },
   {
    "duration": 17027,
    "start_time": "2022-11-30T07:32:36.178Z"
   },
   {
    "duration": 43,
    "start_time": "2022-11-30T07:32:59.423Z"
   },
   {
    "duration": 513204,
    "start_time": "2022-11-30T07:33:24.778Z"
   },
   {
    "duration": 703,
    "start_time": "2022-11-30T07:44:00.178Z"
   },
   {
    "duration": 580,
    "start_time": "2022-11-30T07:46:55.799Z"
   },
   {
    "duration": 5,
    "start_time": "2022-11-30T07:49:21.157Z"
   },
   {
    "duration": 5,
    "start_time": "2022-11-30T07:49:21.297Z"
   },
   {
    "duration": 95,
    "start_time": "2022-11-30T07:59:16.191Z"
   },
   {
    "duration": 830,
    "start_time": "2022-11-30T08:07:11.903Z"
   },
   {
    "duration": 882,
    "start_time": "2022-11-30T08:07:37.181Z"
   },
   {
    "duration": 25,
    "start_time": "2022-11-30T08:25:10.390Z"
   },
   {
    "duration": 3,
    "start_time": "2022-11-30T08:25:15.301Z"
   },
   {
    "duration": 260,
    "start_time": "2022-11-30T08:26:05.456Z"
   },
   {
    "duration": 153,
    "start_time": "2022-11-30T08:26:05.912Z"
   },
   {
    "duration": 55,
    "start_time": "2022-11-30T08:29:21.348Z"
   },
   {
    "duration": 6,
    "start_time": "2022-11-30T08:32:46.103Z"
   },
   {
    "duration": 5,
    "start_time": "2022-11-30T08:32:46.257Z"
   },
   {
    "duration": 5,
    "start_time": "2022-11-30T08:32:46.425Z"
   },
   {
    "duration": 1076,
    "start_time": "2022-11-30T08:35:58.190Z"
   },
   {
    "duration": 908,
    "start_time": "2022-11-30T08:36:19.951Z"
   },
   {
    "duration": 3,
    "start_time": "2022-11-30T08:45:36.914Z"
   },
   {
    "duration": 1743,
    "start_time": "2022-11-30T23:26:33.113Z"
   },
   {
    "duration": 6,
    "start_time": "2022-12-01T00:01:46.023Z"
   },
   {
    "duration": 2987,
    "start_time": "2022-12-01T00:01:46.958Z"
   },
   {
    "duration": 130,
    "start_time": "2022-12-01T00:01:49.947Z"
   },
   {
    "duration": 3,
    "start_time": "2022-12-01T00:01:50.079Z"
   },
   {
    "duration": 19,
    "start_time": "2022-12-01T00:01:50.084Z"
   },
   {
    "duration": 1023,
    "start_time": "2022-12-01T00:01:50.105Z"
   },
   {
    "duration": 14,
    "start_time": "2022-12-01T00:01:51.130Z"
   },
   {
    "duration": 73,
    "start_time": "2022-12-01T00:01:51.853Z"
   },
   {
    "duration": 18,
    "start_time": "2022-12-01T00:01:52.050Z"
   },
   {
    "duration": 264,
    "start_time": "2022-12-01T00:01:52.657Z"
   },
   {
    "duration": 91,
    "start_time": "2022-12-01T00:01:53.058Z"
   },
   {
    "duration": 990,
    "start_time": "2022-12-01T00:01:53.669Z"
   },
   {
    "duration": 4460,
    "start_time": "2022-12-01T00:01:54.661Z"
   },
   {
    "duration": 56,
    "start_time": "2022-12-01T00:01:59.123Z"
   },
   {
    "duration": 136,
    "start_time": "2022-12-01T00:01:59.181Z"
   },
   {
    "duration": 24,
    "start_time": "2022-12-01T00:01:59.319Z"
   },
   {
    "duration": 75,
    "start_time": "2022-12-01T00:01:59.345Z"
   },
   {
    "duration": 140,
    "start_time": "2022-12-01T00:01:59.422Z"
   },
   {
    "duration": 3,
    "start_time": "2022-12-01T00:01:59.564Z"
   },
   {
    "duration": 44,
    "start_time": "2022-12-01T00:01:59.577Z"
   },
   {
    "duration": 40,
    "start_time": "2022-12-01T00:01:59.623Z"
   },
   {
    "duration": 160,
    "start_time": "2022-12-01T00:01:59.665Z"
   },
   {
    "duration": 156,
    "start_time": "2022-12-01T00:01:59.827Z"
   },
   {
    "duration": 78,
    "start_time": "2022-12-01T00:01:59.985Z"
   },
   {
    "duration": 26,
    "start_time": "2022-12-01T00:02:00.553Z"
   },
   {
    "duration": 40,
    "start_time": "2022-12-01T00:02:00.759Z"
   },
   {
    "duration": 4,
    "start_time": "2022-12-01T00:02:01.320Z"
   },
   {
    "duration": 14,
    "start_time": "2022-12-01T00:02:05.228Z"
   },
   {
    "duration": 72,
    "start_time": "2022-12-01T00:02:05.643Z"
   },
   {
    "duration": 29,
    "start_time": "2022-12-01T00:02:05.847Z"
   },
   {
    "duration": 3,
    "start_time": "2022-12-01T00:02:06.282Z"
   },
   {
    "duration": 4,
    "start_time": "2022-12-01T00:02:06.507Z"
   },
   {
    "duration": 4,
    "start_time": "2022-12-01T00:02:06.725Z"
   },
   {
    "duration": 875,
    "start_time": "2022-12-01T00:02:07.756Z"
   },
   {
    "duration": 4,
    "start_time": "2022-12-01T00:02:08.633Z"
   },
   {
    "duration": 4,
    "start_time": "2022-12-01T00:02:08.705Z"
   },
   {
    "duration": 4,
    "start_time": "2022-12-01T00:02:08.904Z"
   },
   {
    "duration": 3211,
    "start_time": "2022-12-01T00:02:11.593Z"
   },
   {
    "duration": 631,
    "start_time": "2022-12-01T00:02:14.806Z"
   },
   {
    "duration": 67,
    "start_time": "2022-12-01T00:02:37.322Z"
   },
   {
    "duration": 4,
    "start_time": "2022-12-01T00:03:20.635Z"
   },
   {
    "duration": 4,
    "start_time": "2022-12-01T00:03:20.864Z"
   },
   {
    "duration": 4,
    "start_time": "2022-12-01T00:03:21.189Z"
   },
   {
    "duration": 58075,
    "start_time": "2022-12-01T00:04:42.505Z"
   },
   {
    "duration": 12,
    "start_time": "2022-12-01T00:08:12.670Z"
   },
   {
    "duration": 6,
    "start_time": "2022-12-01T00:10:17.466Z"
   },
   {
    "duration": 11,
    "start_time": "2022-12-01T00:12:39.422Z"
   },
   {
    "duration": 15,
    "start_time": "2022-12-01T00:13:43.976Z"
   },
   {
    "duration": 10,
    "start_time": "2022-12-01T00:13:47.596Z"
   },
   {
    "duration": 58681,
    "start_time": "2022-12-01T00:13:55.403Z"
   },
   {
    "duration": 11,
    "start_time": "2022-12-01T00:15:15.769Z"
   },
   {
    "duration": 14595,
    "start_time": "2022-12-01T00:37:14.586Z"
   },
   {
    "duration": 191,
    "start_time": "2022-12-01T00:37:31.111Z"
   },
   {
    "duration": 247,
    "start_time": "2022-12-01T00:38:38.492Z"
   },
   {
    "duration": 5,
    "start_time": "2022-12-01T00:45:10.672Z"
   },
   {
    "duration": 1740,
    "start_time": "2022-12-04T07:19:48.260Z"
   },
   {
    "duration": 2928,
    "start_time": "2022-12-04T07:19:50.002Z"
   },
   {
    "duration": 157,
    "start_time": "2022-12-04T07:19:52.932Z"
   },
   {
    "duration": 4,
    "start_time": "2022-12-04T07:19:53.092Z"
   },
   {
    "duration": 19,
    "start_time": "2022-12-04T07:19:54.661Z"
   },
   {
    "duration": 1187,
    "start_time": "2022-12-04T07:19:55.192Z"
   },
   {
    "duration": 587,
    "start_time": "2022-12-04T07:19:57.791Z"
   },
   {
    "duration": 446,
    "start_time": "2022-12-04T07:21:24.919Z"
   },
   {
    "duration": 9,
    "start_time": "2022-12-04T07:22:26.470Z"
   },
   {
    "duration": 2526,
    "start_time": "2022-12-04T07:22:36.567Z"
   },
   {
    "duration": 1340,
    "start_time": "2023-01-28T14:28:32.424Z"
   },
   {
    "duration": 2984,
    "start_time": "2023-01-28T14:28:35.788Z"
   },
   {
    "duration": 104,
    "start_time": "2023-01-28T14:28:39.577Z"
   },
   {
    "duration": 3,
    "start_time": "2023-01-28T14:29:20.465Z"
   },
   {
    "duration": 1073,
    "start_time": "2023-01-28T14:55:14.961Z"
   },
   {
    "duration": 4,
    "start_time": "2023-01-28T15:05:08.947Z"
   },
   {
    "duration": 1481,
    "start_time": "2023-01-28T15:05:13.768Z"
   },
   {
    "duration": 830,
    "start_time": "2023-01-28T15:05:16.699Z"
   },
   {
    "duration": 115,
    "start_time": "2023-01-28T15:05:17.608Z"
   },
   {
    "duration": 4,
    "start_time": "2023-01-28T15:05:19.509Z"
   },
   {
    "duration": 18,
    "start_time": "2023-01-28T15:05:20.026Z"
   },
   {
    "duration": 1010,
    "start_time": "2023-01-28T15:05:21.924Z"
   },
   {
    "duration": 15,
    "start_time": "2023-01-28T15:05:26.775Z"
   },
   {
    "duration": 101,
    "start_time": "2023-01-28T15:05:30.072Z"
   },
   {
    "duration": 21,
    "start_time": "2023-01-28T15:05:30.228Z"
   },
   {
    "duration": 248,
    "start_time": "2023-01-28T15:05:31.846Z"
   },
   {
    "duration": 99,
    "start_time": "2023-01-28T15:05:34.268Z"
   },
   {
    "duration": 990,
    "start_time": "2023-01-28T15:05:36.964Z"
   },
   {
    "duration": 4952,
    "start_time": "2023-01-28T15:05:40.841Z"
   },
   {
    "duration": 38,
    "start_time": "2023-01-28T15:05:55.686Z"
   },
   {
    "duration": 143,
    "start_time": "2023-01-28T15:05:56.276Z"
   },
   {
    "duration": 23,
    "start_time": "2023-01-28T15:05:57.883Z"
   },
   {
    "duration": 60,
    "start_time": "2023-01-28T15:05:58.402Z"
   },
   {
    "duration": 146,
    "start_time": "2023-01-28T15:05:58.622Z"
   },
   {
    "duration": 145,
    "start_time": "2023-01-28T15:06:06.327Z"
   },
   {
    "duration": 144,
    "start_time": "2023-01-28T15:06:09.152Z"
   },
   {
    "duration": 5,
    "start_time": "2023-01-28T15:06:16.124Z"
   },
   {
    "duration": 49,
    "start_time": "2023-01-28T15:06:17.910Z"
   },
   {
    "duration": 41,
    "start_time": "2023-01-28T15:06:18.471Z"
   },
   {
    "duration": 150,
    "start_time": "2023-01-28T15:06:18.809Z"
   },
   {
    "duration": 264,
    "start_time": "2023-01-28T15:06:21.397Z"
   },
   {
    "duration": 82,
    "start_time": "2023-01-28T15:06:22.837Z"
   },
   {
    "duration": 22,
    "start_time": "2023-01-28T15:06:32.433Z"
   },
   {
    "duration": 26,
    "start_time": "2023-01-28T15:06:32.772Z"
   },
   {
    "duration": 4,
    "start_time": "2023-01-28T15:06:34.139Z"
   },
   {
    "duration": 15,
    "start_time": "2023-01-28T15:06:40.698Z"
   },
   {
    "duration": 60,
    "start_time": "2023-01-28T15:06:41.298Z"
   },
   {
    "duration": 34,
    "start_time": "2023-01-28T15:06:41.550Z"
   },
   {
    "duration": 4,
    "start_time": "2023-01-28T15:06:43.046Z"
   },
   {
    "duration": 4,
    "start_time": "2023-01-28T15:06:43.199Z"
   },
   {
    "duration": 4,
    "start_time": "2023-01-28T15:06:43.346Z"
   },
   {
    "duration": 848,
    "start_time": "2023-01-28T15:06:45.355Z"
   },
   {
    "duration": 4,
    "start_time": "2023-01-28T15:06:48.404Z"
   },
   {
    "duration": 4,
    "start_time": "2023-01-28T15:06:48.762Z"
   },
   {
    "duration": 3,
    "start_time": "2023-01-28T15:06:48.933Z"
   },
   {
    "duration": 2647,
    "start_time": "2023-01-28T15:06:51.527Z"
   },
   {
    "duration": 546,
    "start_time": "2023-01-28T15:06:55.302Z"
   },
   {
    "duration": 66,
    "start_time": "2023-01-28T15:06:55.866Z"
   },
   {
    "duration": 5,
    "start_time": "2023-01-28T15:06:58.543Z"
   },
   {
    "duration": 4,
    "start_time": "2023-01-28T15:06:58.930Z"
   },
   {
    "duration": 6,
    "start_time": "2023-01-28T15:06:59.105Z"
   },
   {
    "duration": 16682,
    "start_time": "2023-01-28T15:07:03.329Z"
   },
   {
    "duration": 44,
    "start_time": "2023-01-28T15:08:22.739Z"
   },
   {
    "duration": 135,
    "start_time": "2023-01-28T15:08:29.129Z"
   },
   {
    "duration": 6,
    "start_time": "2023-01-28T15:08:30.044Z"
   },
   {
    "duration": 5,
    "start_time": "2023-01-28T15:08:30.232Z"
   },
   {
    "duration": 6,
    "start_time": "2023-01-28T15:08:30.402Z"
   },
   {
    "duration": 1550,
    "start_time": "2023-01-28T15:08:55.668Z"
   },
   {
    "duration": 807,
    "start_time": "2023-01-28T15:08:57.221Z"
   },
   {
    "duration": 119,
    "start_time": "2023-01-28T15:08:58.030Z"
   },
   {
    "duration": 4,
    "start_time": "2023-01-28T15:08:58.151Z"
   },
   {
    "duration": 37,
    "start_time": "2023-01-28T15:08:58.157Z"
   },
   {
    "duration": 1000,
    "start_time": "2023-01-28T15:08:58.196Z"
   },
   {
    "duration": 17,
    "start_time": "2023-01-28T15:08:59.198Z"
   },
   {
    "duration": 91,
    "start_time": "2023-01-28T15:08:59.217Z"
   },
   {
    "duration": 19,
    "start_time": "2023-01-28T15:08:59.310Z"
   },
   {
    "duration": 249,
    "start_time": "2023-01-28T15:08:59.330Z"
   },
   {
    "duration": 97,
    "start_time": "2023-01-28T15:08:59.581Z"
   },
   {
    "duration": 1167,
    "start_time": "2023-01-28T15:08:59.679Z"
   },
   {
    "duration": 5046,
    "start_time": "2023-01-28T15:09:00.848Z"
   },
   {
    "duration": 44,
    "start_time": "2023-01-28T15:09:05.897Z"
   },
   {
    "duration": 198,
    "start_time": "2023-01-28T15:09:05.942Z"
   },
   {
    "duration": 31,
    "start_time": "2023-01-28T15:09:06.143Z"
   },
   {
    "duration": 82,
    "start_time": "2023-01-28T15:09:06.176Z"
   },
   {
    "duration": 150,
    "start_time": "2023-01-28T15:09:06.260Z"
   },
   {
    "duration": 5,
    "start_time": "2023-01-28T15:09:06.412Z"
   },
   {
    "duration": 52,
    "start_time": "2023-01-28T15:09:06.419Z"
   },
   {
    "duration": 61,
    "start_time": "2023-01-28T15:09:06.473Z"
   },
   {
    "duration": 172,
    "start_time": "2023-01-28T15:09:06.535Z"
   },
   {
    "duration": 166,
    "start_time": "2023-01-28T15:09:06.709Z"
   },
   {
    "duration": 85,
    "start_time": "2023-01-28T15:09:06.876Z"
   },
   {
    "duration": 33,
    "start_time": "2023-01-28T15:09:06.962Z"
   },
   {
    "duration": 28,
    "start_time": "2023-01-28T15:09:06.997Z"
   },
   {
    "duration": 4,
    "start_time": "2023-01-28T15:09:07.026Z"
   },
   {
    "duration": 23,
    "start_time": "2023-01-28T15:09:07.032Z"
   },
   {
    "duration": 86,
    "start_time": "2023-01-28T15:09:07.057Z"
   },
   {
    "duration": 29,
    "start_time": "2023-01-28T15:09:07.145Z"
   },
   {
    "duration": 22,
    "start_time": "2023-01-28T15:09:07.176Z"
   },
   {
    "duration": 6,
    "start_time": "2023-01-28T15:09:07.200Z"
   },
   {
    "duration": 36,
    "start_time": "2023-01-28T15:09:07.208Z"
   },
   {
    "duration": 798,
    "start_time": "2023-01-28T15:09:07.246Z"
   },
   {
    "duration": 5,
    "start_time": "2023-01-28T15:09:08.045Z"
   },
   {
    "duration": 8,
    "start_time": "2023-01-28T15:09:08.051Z"
   },
   {
    "duration": 8,
    "start_time": "2023-01-28T15:09:08.061Z"
   },
   {
    "duration": 2710,
    "start_time": "2023-01-28T15:09:08.070Z"
   },
   {
    "duration": 550,
    "start_time": "2023-01-28T15:09:10.781Z"
   },
   {
    "duration": 66,
    "start_time": "2023-01-28T15:09:11.332Z"
   },
   {
    "duration": 4,
    "start_time": "2023-01-28T15:09:11.401Z"
   },
   {
    "duration": 5,
    "start_time": "2023-01-28T15:09:11.407Z"
   },
   {
    "duration": 6,
    "start_time": "2023-01-28T15:09:11.413Z"
   },
   {
    "duration": 16919,
    "start_time": "2023-01-28T15:09:11.420Z"
   },
   {
    "duration": 57,
    "start_time": "2023-01-28T15:09:28.341Z"
   },
   {
    "duration": 143,
    "start_time": "2023-01-28T15:09:28.400Z"
   },
   {
    "duration": 5,
    "start_time": "2023-01-28T15:09:28.545Z"
   },
   {
    "duration": 23,
    "start_time": "2023-01-28T15:09:28.552Z"
   },
   {
    "duration": 7,
    "start_time": "2023-01-28T15:09:28.577Z"
   },
   {
    "duration": 4067914,
    "start_time": "2023-01-28T15:09:28.586Z"
   },
   {
    "duration": 197,
    "start_time": "2023-01-28T16:17:16.502Z"
   },
   {
    "duration": 172884,
    "start_time": "2023-01-28T16:17:16.709Z"
   },
   {
    "duration": 184004,
    "start_time": "2023-01-28T16:20:09.597Z"
   },
   {
    "duration": 97,
    "start_time": "2023-01-28T16:23:13.606Z"
   },
   {
    "duration": 38412,
    "start_time": "2023-01-28T16:23:13.793Z"
   },
   {
    "duration": 898,
    "start_time": "2023-01-28T16:23:52.207Z"
   },
   {
    "duration": 1188,
    "start_time": "2023-01-28T16:23:53.107Z"
   },
   {
    "duration": 4189,
    "start_time": "2023-01-28T16:23:54.304Z"
   }
  ],
  "kernelspec": {
   "display_name": "Python 3 (ipykernel)",
   "language": "python",
   "name": "python3"
  },
  "language_info": {
   "codemirror_mode": {
    "name": "ipython",
    "version": 3
   },
   "file_extension": ".py",
   "mimetype": "text/x-python",
   "name": "python",
   "nbconvert_exporter": "python",
   "pygments_lexer": "ipython3",
   "version": "3.9.15"
  },
  "toc": {
   "base_numbering": 1,
   "nav_menu": {},
   "number_sections": true,
   "sideBar": true,
   "skip_h1_title": true,
   "title_cell": "Table of Contents",
   "title_sidebar": "Contents",
   "toc_cell": false,
   "toc_position": {},
   "toc_section_display": true,
   "toc_window_display": false
  }
 },
 "nbformat": 4,
 "nbformat_minor": 2
}
