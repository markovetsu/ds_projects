{
 "cells": [
  {
   "cell_type": "markdown",
   "metadata": {},
   "source": [
    "# Защита персональных данных клиентов"
   ]
  },
  {
   "cell_type": "markdown",
   "metadata": {},
   "source": [
    "**Описание компании:** ООО «Хоть потоп» занимается страховкой своих клиентов и видит свое дальнейшее развитие через заботу о своих клиентах и своевременного анализа данных своего бизнеса.\n",
    "\n",
    "**Цель:** Разработать такой метод преобразования данных, чтобы по ним было сложно восстановить персональную информацию и обосновать корректность его работы, чтобы защитить данные клиентов страховой компании «Хоть потоп».\n",
    "\n",
    "**Задача:** Нужно защитить данные, чтобы при преобразовании качество моделей машинного обучения не ухудшилось. Подбирать наилучшую модель не требуется."
   ]
  },
  {
   "cell_type": "markdown",
   "metadata": {},
   "source": [
    "# Описание данных"
   ]
  },
  {
   "cell_type": "markdown",
   "metadata": {},
   "source": [
    "**Признаки:** пол, возраст и зарплата застрахованного, количество членов его семьи.\n",
    "\n",
    "**Целевой признак:** количество страховых выплат клиенту за последние 5 лет."
   ]
  },
  {
   "cell_type": "markdown",
   "metadata": {},
   "source": [
    "## Загрузка данных"
   ]
  },
  {
   "cell_type": "markdown",
   "metadata": {},
   "source": [
    "### Импортируем нужные библиотеки"
   ]
  },
  {
   "cell_type": "code",
   "execution_count": 1,
   "metadata": {},
   "outputs": [],
   "source": [
    "# импортируем нужные библиотеки и будем обращаться к ним через принятные сокращения\n",
    "from sklearn.metrics import mean_squared_error, r2_score\n",
    "from sklearn.linear_model import LinearRegression\n",
    "\n",
    "import numpy as np\n",
    "import pandas as pd\n",
    "import seaborn as sns\n",
    "import warnings\n",
    "import matplotlib as plt\n",
    "import matplotlib.pyplot as plt\n",
    "\n",
    "warnings.filterwarnings('ignore')\n",
    "sns.set()"
   ]
  },
  {
   "cell_type": "markdown",
   "metadata": {},
   "source": [
    "### Через конструкцию try-except прочтем файл и сохраним ее в переменную df"
   ]
  },
  {
   "cell_type": "code",
   "execution_count": 2,
   "metadata": {},
   "outputs": [],
   "source": [
    "# через конструкцию try-except прочтем файл и сохраним ее в переменную df\n",
    "try:\n",
    "    df = pd.read_csv(\"/datasets/insurance.csv\")\n",
    "except FileNotFoundError:\n",
    "    print(\"FileNotFoundError: Проверьте корректность пути к файлу или наличие самого файла в каталоге!\")"
   ]
  },
  {
   "cell_type": "markdown",
   "metadata": {},
   "source": [
    "### Выведем первые 5 строк "
   ]
  },
  {
   "cell_type": "code",
   "execution_count": 3,
   "metadata": {},
   "outputs": [
    {
     "data": {
      "text/html": [
       "<div>\n",
       "<style scoped>\n",
       "    .dataframe tbody tr th:only-of-type {\n",
       "        vertical-align: middle;\n",
       "    }\n",
       "\n",
       "    .dataframe tbody tr th {\n",
       "        vertical-align: top;\n",
       "    }\n",
       "\n",
       "    .dataframe thead th {\n",
       "        text-align: right;\n",
       "    }\n",
       "</style>\n",
       "<table border=\"1\" class=\"dataframe\">\n",
       "  <thead>\n",
       "    <tr style=\"text-align: right;\">\n",
       "      <th></th>\n",
       "      <th>Пол</th>\n",
       "      <th>Возраст</th>\n",
       "      <th>Зарплата</th>\n",
       "      <th>Члены семьи</th>\n",
       "      <th>Страховые выплаты</th>\n",
       "    </tr>\n",
       "  </thead>\n",
       "  <tbody>\n",
       "    <tr>\n",
       "      <th>0</th>\n",
       "      <td>1</td>\n",
       "      <td>41.0</td>\n",
       "      <td>49600.0</td>\n",
       "      <td>1</td>\n",
       "      <td>0</td>\n",
       "    </tr>\n",
       "    <tr>\n",
       "      <th>1</th>\n",
       "      <td>0</td>\n",
       "      <td>46.0</td>\n",
       "      <td>38000.0</td>\n",
       "      <td>1</td>\n",
       "      <td>1</td>\n",
       "    </tr>\n",
       "    <tr>\n",
       "      <th>2</th>\n",
       "      <td>0</td>\n",
       "      <td>29.0</td>\n",
       "      <td>21000.0</td>\n",
       "      <td>0</td>\n",
       "      <td>0</td>\n",
       "    </tr>\n",
       "    <tr>\n",
       "      <th>3</th>\n",
       "      <td>0</td>\n",
       "      <td>21.0</td>\n",
       "      <td>41700.0</td>\n",
       "      <td>2</td>\n",
       "      <td>0</td>\n",
       "    </tr>\n",
       "    <tr>\n",
       "      <th>4</th>\n",
       "      <td>1</td>\n",
       "      <td>28.0</td>\n",
       "      <td>26100.0</td>\n",
       "      <td>0</td>\n",
       "      <td>0</td>\n",
       "    </tr>\n",
       "  </tbody>\n",
       "</table>\n",
       "</div>"
      ],
      "text/plain": [
       "   Пол  Возраст  Зарплата  Члены семьи  Страховые выплаты\n",
       "0    1     41.0   49600.0            1                  0\n",
       "1    0     46.0   38000.0            1                  1\n",
       "2    0     29.0   21000.0            0                  0\n",
       "3    0     21.0   41700.0            2                  0\n",
       "4    1     28.0   26100.0            0                  0"
      ]
     },
     "execution_count": 3,
     "metadata": {},
     "output_type": "execute_result"
    }
   ],
   "source": [
    "# выведем первые 5 строк \n",
    "df.head()"
   ]
  },
  {
   "cell_type": "markdown",
   "metadata": {},
   "source": [
    "### Приведем к коретному типу данных признак \"Возраст\""
   ]
  },
  {
   "cell_type": "code",
   "execution_count": 4,
   "metadata": {},
   "outputs": [],
   "source": [
    "df['Возраст'] = df['Возраст'].astype('int64')"
   ]
  },
  {
   "cell_type": "markdown",
   "metadata": {},
   "source": [
    "### Выведем информацию об признаках, кол-ве ненулевых значений и типах данных"
   ]
  },
  {
   "cell_type": "code",
   "execution_count": 5,
   "metadata": {},
   "outputs": [
    {
     "name": "stdout",
     "output_type": "stream",
     "text": [
      "<class 'pandas.core.frame.DataFrame'>\n",
      "RangeIndex: 5000 entries, 0 to 4999\n",
      "Data columns (total 5 columns):\n",
      " #   Column             Non-Null Count  Dtype  \n",
      "---  ------             --------------  -----  \n",
      " 0   Пол                5000 non-null   int64  \n",
      " 1   Возраст            5000 non-null   int64  \n",
      " 2   Зарплата           5000 non-null   float64\n",
      " 3   Члены семьи        5000 non-null   int64  \n",
      " 4   Страховые выплаты  5000 non-null   int64  \n",
      "dtypes: float64(1), int64(4)\n",
      "memory usage: 195.4 KB\n"
     ]
    }
   ],
   "source": [
    "# выведем информацию об признаках, кол-ве ненулевых значений и типах данных\n",
    "df.info()"
   ]
  },
  {
   "cell_type": "raw",
   "metadata": {},
   "source": [
    "# через цикл для каждого признака посмортим кол-во дубликатов\n",
    "for x in df.columns:\n",
    "    print(x, df[x].duplicated().sum())"
   ]
  },
  {
   "cell_type": "markdown",
   "metadata": {},
   "source": [
    "### Визуализируем признаки, чтобы увидеть и проанализировать потенциальные особенности"
   ]
  },
  {
   "cell_type": "code",
   "execution_count": 6,
   "metadata": {},
   "outputs": [
    {
     "data": {
      "image/png": "[encoded data removed]",
      "text/plain": [
       "<Figure size 1080x1440 with 6 Axes>"
      ]
     },
     "metadata": {},
     "output_type": "display_data"
    }
   ],
   "source": [
    "# визуализируем признаки, чтобы увидеть и проанализировать потенциальные особенности\n",
    "df.hist(figsize=(15, 20));"
   ]
  },
  {
   "cell_type": "markdown",
   "metadata": {},
   "source": [
    "### Посмотрим, в каком процентном соотношении приходится на каждое значение в столбце-признаке: \"Страховые выплаты\""
   ]
  },
  {
   "cell_type": "code",
   "execution_count": 7,
   "metadata": {},
   "outputs": [
    {
     "data": {
      "text/plain": [
       "0    0.8872\n",
       "1    0.0846\n",
       "2    0.0230\n",
       "3    0.0036\n",
       "4    0.0014\n",
       "5    0.0002\n",
       "Name: Страховые выплаты, dtype: float64"
      ]
     },
     "execution_count": 7,
     "metadata": {},
     "output_type": "execute_result"
    }
   ],
   "source": [
    "df['Страховые выплаты'].value_counts()/df['Страховые выплаты'].shape[0] "
   ]
  },
  {
   "cell_type": "markdown",
   "metadata": {},
   "source": [
    "### Применим через цикл другой способ визуализации наших признаков"
   ]
  },
  {
   "cell_type": "code",
   "execution_count": 8,
   "metadata": {},
   "outputs": [
    {
     "data": {
      "image/png": "[encoded data removed]",
      "text/plain": [
       "<Figure size 1080x21.6 with 1 Axes>"
      ]
     },
     "metadata": {},
     "output_type": "display_data"
    },
    {
     "data": {
      "image/png": "[encoded data removed]",
      "text/plain": [
       "<Figure size 1080x216 with 1 Axes>"
      ]
     },
     "metadata": {},
     "output_type": "display_data"
    },
    {
     "data": {
      "image/png": "[encoded data removed]",
      "text/plain": [
       "<Figure size 1080x21.6 with 1 Axes>"
      ]
     },
     "metadata": {},
     "output_type": "display_data"
    },
    {
     "data": {
      "image/png": "[encoded data removed]",
      "text/plain": [
       "<Figure size 1080x216 with 1 Axes>"
      ]
     },
     "metadata": {},
     "output_type": "display_data"
    },
    {
     "data": {
      "image/png": "[encoded data removed]",
      "text/plain": [
       "<Figure size 1080x21.6 with 1 Axes>"
      ]
     },
     "metadata": {},
     "output_type": "display_data"
    },
    {
     "data": {
      "image/png": "[encoded data removed]",
      "text/plain": [
       "<Figure size 1080x216 with 1 Axes>"
      ]
     },
     "metadata": {},
     "output_type": "display_data"
    }
   ],
   "source": [
    "for i in df.iloc[:,[1,2,3]].columns:\n",
    "    plt.figure(figsize=(15,.3))\n",
    "    sns.boxplot(df[i])\n",
    "    plt.show()\n",
    "    plt.figure(figsize=(15,3))\n",
    "    sns.distplot(df[i])\n",
    "    plt.show()"
   ]
  },
  {
   "cell_type": "markdown",
   "metadata": {},
   "source": [
    "### Переименуем наши столбцы (признаки) в соотвествии с принятым стандратом"
   ]
  },
  {
   "cell_type": "code",
   "execution_count": 9,
   "metadata": {},
   "outputs": [
    {
     "data": {
      "text/html": [
       "<div>\n",
       "<style scoped>\n",
       "    .dataframe tbody tr th:only-of-type {\n",
       "        vertical-align: middle;\n",
       "    }\n",
       "\n",
       "    .dataframe tbody tr th {\n",
       "        vertical-align: top;\n",
       "    }\n",
       "\n",
       "    .dataframe thead th {\n",
       "        text-align: right;\n",
       "    }\n",
       "</style>\n",
       "<table border=\"1\" class=\"dataframe\">\n",
       "  <thead>\n",
       "    <tr style=\"text-align: right;\">\n",
       "      <th></th>\n",
       "      <th>male</th>\n",
       "      <th>age</th>\n",
       "      <th>salary</th>\n",
       "      <th>family_members</th>\n",
       "      <th>insurance_payment</th>\n",
       "    </tr>\n",
       "  </thead>\n",
       "  <tbody>\n",
       "    <tr>\n",
       "      <th>0</th>\n",
       "      <td>1</td>\n",
       "      <td>41</td>\n",
       "      <td>49600.0</td>\n",
       "      <td>1</td>\n",
       "      <td>0</td>\n",
       "    </tr>\n",
       "    <tr>\n",
       "      <th>1</th>\n",
       "      <td>0</td>\n",
       "      <td>46</td>\n",
       "      <td>38000.0</td>\n",
       "      <td>1</td>\n",
       "      <td>1</td>\n",
       "    </tr>\n",
       "    <tr>\n",
       "      <th>2</th>\n",
       "      <td>0</td>\n",
       "      <td>29</td>\n",
       "      <td>21000.0</td>\n",
       "      <td>0</td>\n",
       "      <td>0</td>\n",
       "    </tr>\n",
       "    <tr>\n",
       "      <th>3</th>\n",
       "      <td>0</td>\n",
       "      <td>21</td>\n",
       "      <td>41700.0</td>\n",
       "      <td>2</td>\n",
       "      <td>0</td>\n",
       "    </tr>\n",
       "    <tr>\n",
       "      <th>4</th>\n",
       "      <td>1</td>\n",
       "      <td>28</td>\n",
       "      <td>26100.0</td>\n",
       "      <td>0</td>\n",
       "      <td>0</td>\n",
       "    </tr>\n",
       "  </tbody>\n",
       "</table>\n",
       "</div>"
      ],
      "text/plain": [
       "   male  age   salary  family_members  insurance_payment\n",
       "0     1   41  49600.0               1                  0\n",
       "1     0   46  38000.0               1                  1\n",
       "2     0   29  21000.0               0                  0\n",
       "3     0   21  41700.0               2                  0\n",
       "4     1   28  26100.0               0                  0"
      ]
     },
     "execution_count": 9,
     "metadata": {},
     "output_type": "execute_result"
    }
   ],
   "source": [
    "df.columns = ['male', 'age', 'salary', 'family_members', 'insurance_payment']\n",
    "df.head()"
   ]
  },
  {
   "cell_type": "markdown",
   "metadata": {},
   "source": [
    "### Выводы по загрузке и первичному анализу данных:\n",
    "\n",
    "1. Количество полов (женский, мужской) у нас практически равное - возможное причина этого в том, что данные были либо специально подготовленны, либо количество данных не достаточное чтобы были отличия (5000 объектов у нас в датасете)\n",
    "2. Возраст показывает, что большинство клиентов люди от 18 до 32 (молодые люди) - что вполне реально в жизни и характеризует портрет потенциальных клиентов \n",
    "3. Видем, что у зарплаты график имеет нормальное распределение и его медиана лежит в 40,000\n",
    "4. Увидели, что члены семьи и страховые выплаты похожи на дискретное распредление, и следующий признак имеет меньшее количество, чем предыдущий - например кол-во страховых выплат равное 0 намного больше, чем у 1\n",
    "5. Нет пустых значений и пропусков - что очень хорошо, и нет необходимости проводить преобработку по этому критерию\n",
    "6. Имена столбцов у нас идут без змеиного регистра и с заглавной буквы - что по правилам оформления не верно - потому и исправили"
   ]
  },
  {
   "cell_type": "markdown",
   "metadata": {},
   "source": [
    "## Умножение матриц"
   ]
  },
  {
   "cell_type": "markdown",
   "metadata": {},
   "source": [
    "Обозначения:\n",
    "\n",
    "- $X$ — матрица признаков (нулевой столбец состоит из единиц)\n",
    "\n",
    "- $y$ — вектор целевого признака\n",
    "\n",
    "- $P$ — матрица, на которую умножаются признаки\n",
    "\n",
    "- $w$ — вектор весов линейной регрессии (нулевой элемент равен сдвигу)"
   ]
  },
  {
   "cell_type": "markdown",
   "metadata": {},
   "source": [
    "Предсказания:\n",
    "\n",
    "$$\n",
    "a = Xw\n",
    "$$\n",
    "\n",
    "Задача обучения:\n",
    "\n",
    "$$\n",
    "w = \\arg\\min_w MSE(Xw, y)\n",
    "$$\n",
    "\n",
    "Формула обучения:\n",
    "\n",
    "$$\n",
    "w = (X^T X)^{-1} X^T y\n",
    "$$"
   ]
  },
  {
   "cell_type": "markdown",
   "metadata": {},
   "source": [
    "**Ответим на вопрос ниже и обоснуем решение.**\n",
    "\n",
    "**Признаки умножают на обратимую матрицу. Изменится ли качество линейной регрессии? (Её можно обучить заново.). Есть два варианта:**\n",
    "\n",
    "    a. Изменится. Приведем примеры матриц.\n",
    "    b. Не изменится. Укажем, как связаны параметры линейной регрессии в исходной задаче и в преобразованной."
   ]
  },
  {
   "cell_type": "markdown",
   "metadata": {},
   "source": [
    "### Указание, как связаны параметры линейной регрессии в исходной задаче и в преобразованной"
   ]
  },
  {
   "cell_type": "markdown",
   "metadata": {},
   "source": [
    "**Ответ:** Не измениться"
   ]
  },
  {
   "cell_type": "markdown",
   "metadata": {},
   "source": [
    "**Обоснование:**\n",
    "\n",
    "Используемые свойства:\n",
    "$$\n",
    "(AB)^T=B^T A^T\n",
    "$$\n",
    "$$\n",
    "(AB)^{-1} = B^{-1} A^{-1}\n",
    "$$\n",
    "$$\n",
    "A A^{-1} = A^{-1} A = E\n",
    "$$\n",
    "$$\n",
    "AE = EA = A\n",
    "$$\n",
    "\n",
    "\n",
    "\\\n",
    "Требуется доказать, что предсказания не изменятся, имеем  $a =  Xw$,   $a' = X'w'$\n",
    "\\\n",
    "\\\n",
    "Доказательство:\n",
    "$$\n",
    "w = (X^T X)^{-1} X^T y\n",
    "$$\n",
    "\\\n",
    "$$\n",
    "w' = ((XP)^T XP)^{-1} (XP)^T y\n",
    "$$\n",
    "$$\n",
    "w' = (P^T (X^T X) P)^{-1} (XP)^T y\n",
    "$$\n",
    "$$\n",
    "w' = (P^T (X^T X) P)^{-1} P^T X^T y\n",
    "$$\n",
    "\n"
   ]
  },
  {
   "cell_type": "markdown",
   "metadata": {},
   "source": [
    "**Доказательство через выводимые свойства:**"
   ]
  },
  {
   "cell_type": "markdown",
   "metadata": {},
   "source": [
    "$$\n",
    "w' = ((XP)^T (XP))^{-1}(XP)^Ty = (P^T X^T XP)^{-1} P^T X^T y = P^{-1} (X^T X)^{-1} P^{T-1} P^T X^Ty\n",
    "$$ \n",
    "\\\n",
    "$$\n",
    "где:   P^{T-1} P^T = E\n",
    "$$\n",
    "$$\n",
    "тогда:    w' = P^{-1} * [(X^T X)^{-1} X^T y] = P^{-1} w\n",
    "$$"
   ]
  },
  {
   "cell_type": "markdown",
   "metadata": {},
   "source": [
    "**Конечное доказательство:**"
   ]
  },
  {
   "cell_type": "markdown",
   "metadata": {},
   "source": [
    "$$\n",
    "a' = XP * w' = XPP^{-1}w = XEw = Xw = a\n",
    "$$"
   ]
  },
  {
   "cell_type": "markdown",
   "metadata": {},
   "source": [
    "### Создание обратимой матрицы"
   ]
  },
  {
   "cell_type": "code",
   "execution_count": 10,
   "metadata": {},
   "outputs": [
    {
     "data": {
      "text/plain": [
       "array([[ 160.95893815,  -80.12374478,  -98.4117378 ,   29.72987189,\n",
       "         101.27995231],\n",
       "       [  24.76474051,   45.12995966,  -83.42486782,  -51.83120868,\n",
       "         -27.28957531],\n",
       "       [  36.5350356 ,  165.33920514,  119.48384418,  141.51932643,\n",
       "         137.22252968],\n",
       "       [-105.04355971,   39.51612327,  116.16797365,   81.8643003 ,\n",
       "          56.17156702],\n",
       "       [ 188.65607152,  -83.99502401,  -59.2499766 ,  124.40553611,\n",
       "          58.2074867 ]])"
      ]
     },
     "execution_count": 10,
     "metadata": {},
     "output_type": "execute_result"
    }
   ],
   "source": [
    "# Зададим матрицу, на которую умножаются признаки - P\n",
    "loc = np.random.randint(2,100)\n",
    "std = np.random.randint(2,100)\n",
    "P = np.random.normal(loc, std, size=(5, 5))\n",
    "P"
   ]
  },
  {
   "cell_type": "markdown",
   "metadata": {},
   "source": [
    "### Проверка на обратимость"
   ]
  },
  {
   "cell_type": "code",
   "execution_count": 11,
   "metadata": {},
   "outputs": [
    {
     "data": {
      "text/plain": [
       "array([[-1.51285025e-03, -9.28786201e-03,  4.73417203e-03,\n",
       "        -1.29953344e-02, -3.42003662e-04],\n",
       "       [-2.34913562e-03,  6.29179027e-03,  3.41149600e-03,\n",
       "        -1.00072277e-03, -3.95364304e-05],\n",
       "       [-1.94660968e-03, -1.75327119e-02,  4.82595088e-03,\n",
       "        -1.26411778e-02, -4.01086119e-03],\n",
       "       [-4.87925325e-03,  1.01062924e-02, -2.91420511e-03,\n",
       "         1.09720395e-02,  9.50985763e-03],\n",
       "       [ 9.96026890e-03, -2.64585661e-04,  7.19823488e-04,\n",
       "         4.35718973e-03, -6.17656224e-03]])"
      ]
     },
     "execution_count": 11,
     "metadata": {},
     "output_type": "execute_result"
    }
   ],
   "source": [
    "# Проверка на обратимость\n",
    "np.linalg.inv(P)"
   ]
  },
  {
   "cell_type": "markdown",
   "metadata": {},
   "source": [
    "### Разделим признаки и целевой признак"
   ]
  },
  {
   "cell_type": "code",
   "execution_count": 12,
   "metadata": {},
   "outputs": [],
   "source": [
    "# разделим признаки и целевой признак \n",
    "X = df.drop(['insurance_payment'], axis=1)\n",
    "Y = df['insurance_payment']"
   ]
  },
  {
   "cell_type": "markdown",
   "metadata": {},
   "source": [
    "### Проверка корретности размерности P и X матриц"
   ]
  },
  {
   "cell_type": "code",
   "execution_count": 13,
   "metadata": {},
   "outputs": [],
   "source": [
    "X = np.concatenate((np.ones((X.shape[0], 1)), X), axis=1)"
   ]
  },
  {
   "cell_type": "code",
   "execution_count": 14,
   "metadata": {},
   "outputs": [
    {
     "data": {
      "text/plain": [
       "(5, 5)"
      ]
     },
     "execution_count": 14,
     "metadata": {},
     "output_type": "execute_result"
    }
   ],
   "source": [
    "P.shape"
   ]
  },
  {
   "cell_type": "code",
   "execution_count": 15,
   "metadata": {},
   "outputs": [
    {
     "data": {
      "text/plain": [
       "(5000, 5)"
      ]
     },
     "execution_count": 15,
     "metadata": {},
     "output_type": "execute_result"
    }
   ],
   "source": [
    "X.shape"
   ]
  },
  {
   "cell_type": "markdown",
   "metadata": {},
   "source": [
    "### Создание новой матрицы: N"
   ]
  },
  {
   "cell_type": "code",
   "execution_count": 16,
   "metadata": {},
   "outputs": [
    {
     "data": {
      "text/plain": [
       "array([[-5208288.2452481 ,  1966659.63299754,  5766589.24405191,\n",
       "         4066373.89155578,  2791868.04579354],\n",
       "       [-3989625.04221157,  1509054.16908389,  4419721.5938047 ,\n",
       "         3117507.43589495,  2140991.27058042],\n",
       "       [-2204694.27887249,   834553.30196062,  2442894.06638614,\n",
       "         1723284.0966777 ,  1183683.64074196],\n",
       "       ...,\n",
       "       [-3559707.70226775,  1342655.24930237,  3940267.07191579,\n",
       "         2778308.70770612,  1907178.2675116 ],\n",
       "       [-3433368.93973634,  1295527.71471937,  3800961.79638015,\n",
       "         2680427.16032419,  1840077.75005786],\n",
       "       [-4263371.16334959,  1608865.11386371,  4719524.19123069,\n",
       "         3327755.43759533,  2284540.04972387]])"
      ]
     },
     "execution_count": 16,
     "metadata": {},
     "output_type": "execute_result"
    }
   ],
   "source": [
    "N = X @ P\n",
    "N"
   ]
  },
  {
   "cell_type": "markdown",
   "metadata": {},
   "source": [
    "### Проверка корретности размерности новой матрицы"
   ]
  },
  {
   "cell_type": "code",
   "execution_count": 17,
   "metadata": {},
   "outputs": [
    {
     "data": {
      "text/plain": [
       "(5000, 5)"
      ]
     },
     "execution_count": 17,
     "metadata": {},
     "output_type": "execute_result"
    }
   ],
   "source": [
    "N.shape"
   ]
  },
  {
   "cell_type": "markdown",
   "metadata": {},
   "source": [
    "## Алгоритм преобразования"
   ]
  },
  {
   "cell_type": "markdown",
   "metadata": {},
   "source": [
    "### Шаги алгоритма\n",
    "\n",
    "1. Для шифрования воспользуемся квадратной обратимой матрицей - P , \n",
    "\n",
    "   где: N = X * P процесс шифрования, \n",
    "\n",
    "   а: N * P^-1 = X \n",
    "   \n",
    "\n",
    "2. Возможность использования матрицы для шифрования исходной матрицы признаков была описана и обоснована в пункте 2 (выше)"
   ]
  },
  {
   "cell_type": "markdown",
   "metadata": {},
   "source": [
    "## Проверка алгоритма"
   ]
  },
  {
   "cell_type": "markdown",
   "metadata": {},
   "source": [
    "**Будем сравнивать две метрики качества MSE и R2_SCORE**"
   ]
  },
  {
   "cell_type": "code",
   "execution_count": 18,
   "metadata": {},
   "outputs": [],
   "source": [
    "X = df.drop(['insurance_payment'], axis=1)\n",
    "Y = df['insurance_payment']"
   ]
  },
  {
   "cell_type": "code",
   "execution_count": 19,
   "metadata": {},
   "outputs": [],
   "source": [
    "class LinearRegression:\n",
    "    def fit(self, train_features, train_target):\n",
    "        X = np.concatenate((np.ones((train_features.shape[0], 1)), train_features), axis=1)\n",
    "        y = train_target\n",
    "        w = (np.linalg.inv(X.T.dot(X)).dot(X.T)).dot(y)\n",
    "        self.w = w[1:]\n",
    "        self.w0 = w[0]\n",
    "\n",
    "    def predict(self, test_features):\n",
    "        return test_features.dot(self.w) + self.w0"
   ]
  },
  {
   "cell_type": "code",
   "execution_count": 20,
   "metadata": {},
   "outputs": [
    {
     "name": "stdout",
     "output_type": "stream",
     "text": [
      "Качество без умножения на обратимую матрицу: 0.42494550286668\n",
      "Качество с умножением на обратимую матрицу: 0.42494550286668\n"
     ]
    }
   ],
   "source": [
    "model = LinearRegression()\n",
    "model.fit(X, Y)\n",
    "predicted = pd.Series(model.predict(X))\n",
    "r2_without_cripto = r2_score(Y, predicted)\n",
    "\n",
    "# Модель для шифрования\n",
    "model_cripto = LinearRegression()\n",
    "\n",
    "# Шифрование\n",
    "loc = np.random.randint(2,100)\n",
    "std = np.random.randint(2,100)\n",
    "P = np.random.normal(loc, std, size=(4,4)).astype('int64')\n",
    "X_cripto = pd.DataFrame(data = X.values@P, columns = X.columns)\n",
    "\n",
    "# Проверка на шифрованных данных\n",
    "model_cripto.fit(X_cripto, Y)\n",
    "predicted_cripto = pd.Series(model_cripto.predict(X_cripto))\n",
    "r2_with_cripto = r2_score(Y, predicted)\n",
    "\n",
    "print(\"Качество без умножения на обратимую матрицу:\", r2_without_cripto)\n",
    "print(\"Качество с умножением на обратимую матрицу:\", r2_with_cripto)"
   ]
  },
  {
   "cell_type": "markdown",
   "metadata": {},
   "source": [
    "**Проверили изменения качества линейной регрессии: качество не поменялось**"
   ]
  },
  {
   "cell_type": "markdown",
   "metadata": {},
   "source": [
    "### Выводы по проверке алгоритма и метрики качества r2_score:"
   ]
  },
  {
   "cell_type": "markdown",
   "metadata": {},
   "source": [
    "1. Качество не отличается до и после преобразования. \n",
    "2. Метрика r2_score равняется 0.42494550286668. \n",
    "3. Предыдущие шаги описывали планируемый алгоритм работы и в данном (настоящем) пункте алгоритм был реализован и проверен"
   ]
  },
  {
   "cell_type": "markdown",
   "metadata": {},
   "source": [
    "****"
   ]
  },
  {
   "cell_type": "markdown",
   "metadata": {},
   "source": [
    "## Конечные выводы"
   ]
  },
  {
   "cell_type": "markdown",
   "metadata": {},
   "source": [
    "**1.Выводы по загрузке и первичному анализу данных:**\n",
    "\n",
    "1. Количество полов (женский, мужской) у нас практически равное - возможное причина этого в том, что данные были либо специально подготовленны, либо количество данных не достаточное чтобы были отличия (5000 объектов у нас в датасете)\n",
    "2. Возраст показывает, что большинство клиентов люди от 18 до 32 (молодые люди) - что вполне реально в жизни и характеризует портрет потенциальных клиентов \n",
    "3. Видем, что у зарплаты график имеет нормальное распределение и его медиана лежит в 40,000\n",
    "4. Увидели, что члены семьи и страховые выплаты похожи на дискретное распредление, и следующий признак имеет меньшее количество, чем предыдущий - например кол-во страховых выплат равное 0 намного больше, чем у 1\n",
    "5. Нет пустых значений и пропусков - что очень хорошо, и нет необходимости проводить преобработку по этому критерию\n",
    "6. Имена столбцов у нас идут без змеиного регистра и с заглавной буквы - что по правилам оформления не верно - потому и исправили в соотвествии с принятым стандратом\n",
    "\n",
    "**2. Указание, как связаны параметры линейной регрессии в исходной задаче и в преобразованной:**\n",
    "\n",
    "**Ответ:** Не измениться\n",
    "\n",
    "**Обоснование:** \n",
    "\n",
    "$$\n",
    "w' = ((XP)^T (XP))^{-1}(XP)^Ty = (P^T X^T XP)^{-1} P^T X^T y = P^{-1} (X^T X)^{-1} P^{T-1} P^T X^Ty\n",
    "$$ \n",
    "\\\n",
    "$$\n",
    "где:   P^{T-1} P^T = E\n",
    "$$\n",
    "$$\n",
    "тогда:    w' = P^{-1} * [(X^T X)^{-1} X^T y] = P^{-1} w\n",
    "$$\n",
    "\\\n",
    "$$\n",
    "a' = XP * w' = XPP^{-1}w = XEw = Xw = a\n",
    "$$\n",
    "\n",
    "**3. Подробно описан алгоритм:**\n",
    "\n",
    "1. Для шифрования воспользуемся квадратной обратимой матрицей - P , \n",
    "\n",
    "   где: N = X * P процесс шифрования, \n",
    "\n",
    "   а: N * P^-1 = X \n",
    "   \n",
    "\n",
    "2. Возможность использования матрицы для шифрования исходной матрицы признаков была описана и обоснована в пункте 2 (выше)\n",
    "\n",
    "\n",
    "**4. Выводы по проверке алгоритма и метрики качества r2_score:**\n",
    "\n",
    "1. Качество не отличается до и после преобразования. \n",
    "2. Метрика r2_score равняется 0.42494550286668. \n",
    "3. Предыдущие шаги описывали планируемый алгоритм работы и в данном (настоящем) пункте алгоритм был реализован и проверен"
   ]
  }
 ],
 "metadata": {
  "ExecuteTimeLog": [
   {
    "duration": 444,
    "start_time": "2022-11-01T19:16:22.458Z"
   },
   {
    "duration": 3,
    "start_time": "2022-11-01T19:17:11.187Z"
   },
   {
    "duration": 3,
    "start_time": "2022-11-01T19:17:20.504Z"
   },
   {
    "duration": 77,
    "start_time": "2022-11-01T19:17:36.855Z"
   },
   {
    "duration": 15,
    "start_time": "2022-11-01T19:17:42.946Z"
   },
   {
    "duration": 13,
    "start_time": "2022-11-01T19:17:51.609Z"
   },
   {
    "duration": 55,
    "start_time": "2022-11-01T19:18:22.265Z"
   },
   {
    "duration": 1056,
    "start_time": "2022-11-01T19:18:42.172Z"
   },
   {
    "duration": 685,
    "start_time": "2022-11-01T19:18:50.696Z"
   },
   {
    "duration": 685,
    "start_time": "2022-11-01T19:18:53.614Z"
   },
   {
    "duration": 8,
    "start_time": "2022-11-01T19:20:54.327Z"
   },
   {
    "duration": 8,
    "start_time": "2022-11-01T19:20:59.053Z"
   },
   {
    "duration": 7,
    "start_time": "2022-11-01T19:21:06.931Z"
   },
   {
    "duration": 6,
    "start_time": "2022-11-01T19:21:44.747Z"
   },
   {
    "duration": 44,
    "start_time": "2022-11-01T19:50:54.651Z"
   },
   {
    "duration": 4,
    "start_time": "2022-11-01T19:50:57.198Z"
   },
   {
    "duration": 4,
    "start_time": "2022-11-01T19:51:17.848Z"
   },
   {
    "duration": 2,
    "start_time": "2022-11-01T19:51:53.043Z"
   },
   {
    "duration": 3,
    "start_time": "2022-11-01T19:51:57.895Z"
   },
   {
    "duration": 3,
    "start_time": "2022-11-01T19:52:06.952Z"
   },
   {
    "duration": 4,
    "start_time": "2022-11-01T19:52:07.472Z"
   },
   {
    "duration": 3,
    "start_time": "2022-11-01T19:54:55.409Z"
   },
   {
    "duration": 13,
    "start_time": "2022-11-01T19:56:30.974Z"
   },
   {
    "duration": 4,
    "start_time": "2022-11-01T19:56:34.577Z"
   },
   {
    "duration": 4,
    "start_time": "2022-11-01T19:57:26.217Z"
   },
   {
    "duration": 5,
    "start_time": "2022-11-01T19:57:27.103Z"
   },
   {
    "duration": 1088,
    "start_time": "2022-11-03T09:14:23.874Z"
   },
   {
    "duration": 94,
    "start_time": "2022-11-03T09:14:24.964Z"
   },
   {
    "duration": 18,
    "start_time": "2022-11-03T09:14:25.060Z"
   },
   {
    "duration": 15,
    "start_time": "2022-11-03T09:14:25.080Z"
   },
   {
    "duration": 13,
    "start_time": "2022-11-03T09:14:25.097Z"
   },
   {
    "duration": 1056,
    "start_time": "2022-11-03T09:14:25.112Z"
   },
   {
    "duration": 5,
    "start_time": "2022-11-03T09:14:30.375Z"
   },
   {
    "duration": 3,
    "start_time": "2022-11-03T09:14:30.572Z"
   },
   {
    "duration": 3,
    "start_time": "2022-11-03T09:14:30.777Z"
   },
   {
    "duration": 6,
    "start_time": "2022-11-03T09:14:31.013Z"
   },
   {
    "duration": 5,
    "start_time": "2022-11-03T09:14:31.721Z"
   },
   {
    "duration": 4,
    "start_time": "2022-11-03T09:16:55.872Z"
   },
   {
    "duration": 4,
    "start_time": "2022-11-03T09:17:06.794Z"
   },
   {
    "duration": 95,
    "start_time": "2022-11-03T09:17:13.820Z"
   },
   {
    "duration": 3,
    "start_time": "2022-11-03T09:17:28.881Z"
   },
   {
    "duration": 17,
    "start_time": "2022-11-03T09:17:29.533Z"
   },
   {
    "duration": 5,
    "start_time": "2022-11-03T09:41:33.700Z"
   },
   {
    "duration": 5,
    "start_time": "2022-11-03T09:41:38.883Z"
   },
   {
    "duration": 4,
    "start_time": "2022-11-03T09:41:49.875Z"
   },
   {
    "duration": 5,
    "start_time": "2022-11-03T09:41:53.433Z"
   },
   {
    "duration": 4,
    "start_time": "2022-11-03T09:42:13.210Z"
   },
   {
    "duration": 92,
    "start_time": "2022-11-03T09:44:18.831Z"
   },
   {
    "duration": 2,
    "start_time": "2022-11-03T09:44:39.475Z"
   },
   {
    "duration": 56,
    "start_time": "2022-11-03T09:45:01.370Z"
   },
   {
    "duration": 116,
    "start_time": "2022-11-03T09:45:09.378Z"
   },
   {
    "duration": 2,
    "start_time": "2022-11-03T09:47:56.905Z"
   },
   {
    "duration": 4,
    "start_time": "2022-11-03T09:48:05.717Z"
   },
   {
    "duration": 5,
    "start_time": "2022-11-03T09:48:40.779Z"
   },
   {
    "duration": 4,
    "start_time": "2022-11-03T09:48:53.803Z"
   },
   {
    "duration": 8,
    "start_time": "2022-11-03T09:50:17.798Z"
   },
   {
    "duration": 4,
    "start_time": "2022-11-03T09:50:34.329Z"
   },
   {
    "duration": 9,
    "start_time": "2022-11-03T09:51:00.878Z"
   },
   {
    "duration": 3,
    "start_time": "2022-11-03T09:51:30.061Z"
   },
   {
    "duration": 4,
    "start_time": "2022-11-03T09:51:33.326Z"
   },
   {
    "duration": 4,
    "start_time": "2022-11-03T09:51:48.672Z"
   },
   {
    "duration": 5,
    "start_time": "2022-11-03T09:51:58.396Z"
   },
   {
    "duration": 4,
    "start_time": "2022-11-03T09:52:04.094Z"
   },
   {
    "duration": 78,
    "start_time": "2022-11-03T09:52:30.674Z"
   },
   {
    "duration": 74,
    "start_time": "2022-11-03T10:03:28.601Z"
   },
   {
    "duration": 5,
    "start_time": "2022-11-03T10:04:47.979Z"
   },
   {
    "duration": 5,
    "start_time": "2022-11-03T10:04:54.417Z"
   },
   {
    "duration": 5,
    "start_time": "2022-11-03T10:05:01.134Z"
   },
   {
    "duration": 5,
    "start_time": "2022-11-03T10:05:05.858Z"
   },
   {
    "duration": 12,
    "start_time": "2022-11-03T10:05:49.202Z"
   },
   {
    "duration": 137,
    "start_time": "2022-11-03T10:06:26.915Z"
   },
   {
    "duration": 4,
    "start_time": "2022-11-03T10:06:30.849Z"
   },
   {
    "duration": 3,
    "start_time": "2022-11-03T10:06:31.183Z"
   },
   {
    "duration": 70,
    "start_time": "2022-11-03T10:06:36.714Z"
   },
   {
    "duration": 6,
    "start_time": "2022-11-03T10:12:24.083Z"
   },
   {
    "duration": 4,
    "start_time": "2022-11-03T10:12:26.223Z"
   },
   {
    "duration": 8,
    "start_time": "2022-11-03T10:12:27.822Z"
   },
   {
    "duration": 6,
    "start_time": "2022-11-03T10:13:00.181Z"
   },
   {
    "duration": 4,
    "start_time": "2022-11-03T10:13:01.493Z"
   },
   {
    "duration": 8,
    "start_time": "2022-11-03T10:13:02.067Z"
   },
   {
    "duration": 8,
    "start_time": "2022-11-03T10:13:09.347Z"
   },
   {
    "duration": 95,
    "start_time": "2022-11-03T10:14:58.327Z"
   },
   {
    "duration": 82,
    "start_time": "2022-11-03T10:15:04.640Z"
   },
   {
    "duration": 4,
    "start_time": "2022-11-03T10:19:12.494Z"
   },
   {
    "duration": 4,
    "start_time": "2022-11-03T10:19:13.570Z"
   },
   {
    "duration": 4,
    "start_time": "2022-11-03T10:19:22.854Z"
   },
   {
    "duration": 11,
    "start_time": "2022-11-03T10:22:40.594Z"
   },
   {
    "duration": 2,
    "start_time": "2022-11-03T10:23:44.575Z"
   },
   {
    "duration": 2,
    "start_time": "2022-11-03T10:23:44.703Z"
   },
   {
    "duration": 9,
    "start_time": "2022-11-03T10:23:54.095Z"
   },
   {
    "duration": 10,
    "start_time": "2022-11-03T10:26:01.697Z"
   },
   {
    "duration": 4,
    "start_time": "2022-11-03T10:26:21.077Z"
   },
   {
    "duration": 15,
    "start_time": "2022-11-03T10:26:30.904Z"
   },
   {
    "duration": 8,
    "start_time": "2022-11-03T10:26:34.629Z"
   },
   {
    "duration": 9,
    "start_time": "2022-11-03T10:26:38.413Z"
   },
   {
    "duration": 4,
    "start_time": "2022-11-03T10:26:45.384Z"
   },
   {
    "duration": 3,
    "start_time": "2022-11-03T10:28:25.284Z"
   },
   {
    "duration": 6,
    "start_time": "2022-11-03T10:28:28.662Z"
   },
   {
    "duration": 4,
    "start_time": "2022-11-03T10:28:34.953Z"
   },
   {
    "duration": 7,
    "start_time": "2022-11-03T10:29:47.444Z"
   },
   {
    "duration": 10,
    "start_time": "2022-11-03T10:34:01.718Z"
   },
   {
    "duration": 3,
    "start_time": "2022-11-03T10:34:07.061Z"
   },
   {
    "duration": 5,
    "start_time": "2022-11-03T10:34:09.716Z"
   },
   {
    "duration": 3,
    "start_time": "2022-11-03T10:34:32.011Z"
   },
   {
    "duration": 4,
    "start_time": "2022-11-03T10:34:36.138Z"
   },
   {
    "duration": 4,
    "start_time": "2022-11-03T10:36:59.564Z"
   },
   {
    "duration": 5,
    "start_time": "2022-11-03T10:37:02.022Z"
   },
   {
    "duration": 2,
    "start_time": "2022-11-03T10:37:07.766Z"
   },
   {
    "duration": 88,
    "start_time": "2022-11-03T10:37:39.722Z"
   },
   {
    "duration": 55,
    "start_time": "2022-11-03T10:37:46.129Z"
   },
   {
    "duration": 86,
    "start_time": "2022-11-03T10:37:51.780Z"
   },
   {
    "duration": 152,
    "start_time": "2022-11-03T10:37:54.397Z"
   },
   {
    "duration": 120,
    "start_time": "2022-11-03T10:38:04.965Z"
   },
   {
    "duration": 5,
    "start_time": "2022-11-03T10:38:15.590Z"
   },
   {
    "duration": 9,
    "start_time": "2022-11-03T10:38:21.212Z"
   },
   {
    "duration": 4,
    "start_time": "2022-11-03T10:38:23.435Z"
   },
   {
    "duration": 5,
    "start_time": "2022-11-03T10:38:26.660Z"
   },
   {
    "duration": 3,
    "start_time": "2022-11-03T10:38:58.272Z"
   },
   {
    "duration": 6,
    "start_time": "2022-11-03T10:39:00.287Z"
   },
   {
    "duration": 165,
    "start_time": "2022-11-03T10:39:12.272Z"
   },
   {
    "duration": 3,
    "start_time": "2022-11-03T10:40:37.834Z"
   },
   {
    "duration": 60,
    "start_time": "2022-11-03T10:42:11.191Z"
   },
   {
    "duration": 2,
    "start_time": "2022-11-03T10:42:29.679Z"
   },
   {
    "duration": 71,
    "start_time": "2022-11-03T10:45:38.267Z"
   },
   {
    "duration": 57,
    "start_time": "2022-11-03T10:45:47.957Z"
   },
   {
    "duration": 3,
    "start_time": "2022-11-03T10:47:59.882Z"
   },
   {
    "duration": 4,
    "start_time": "2022-11-03T10:48:02.422Z"
   },
   {
    "duration": 84,
    "start_time": "2022-11-03T10:48:21.422Z"
   },
   {
    "duration": 55,
    "start_time": "2022-11-03T10:48:37.382Z"
   },
   {
    "duration": 65,
    "start_time": "2022-11-03T10:48:41.679Z"
   },
   {
    "duration": 69,
    "start_time": "2022-11-03T10:49:00.571Z"
   },
   {
    "duration": 11,
    "start_time": "2022-11-03T11:00:59.039Z"
   },
   {
    "duration": 14,
    "start_time": "2022-11-03T11:04:09.338Z"
   },
   {
    "duration": 9,
    "start_time": "2022-11-03T11:11:01.209Z"
   },
   {
    "duration": 4,
    "start_time": "2022-11-03T11:11:12.078Z"
   },
   {
    "duration": 3,
    "start_time": "2022-11-03T11:11:15.930Z"
   },
   {
    "duration": 8,
    "start_time": "2022-11-03T11:11:27.208Z"
   },
   {
    "duration": 4,
    "start_time": "2022-11-03T11:11:55.891Z"
   },
   {
    "duration": 6,
    "start_time": "2022-11-03T11:11:58.340Z"
   },
   {
    "duration": 3,
    "start_time": "2022-11-03T11:12:24.214Z"
   },
   {
    "duration": 10,
    "start_time": "2022-11-03T11:12:43.591Z"
   },
   {
    "duration": 8,
    "start_time": "2022-11-03T11:13:02.710Z"
   },
   {
    "duration": 5,
    "start_time": "2022-11-03T11:14:18.862Z"
   },
   {
    "duration": 5,
    "start_time": "2022-11-03T11:14:25.723Z"
   },
   {
    "duration": 239,
    "start_time": "2022-11-03T11:15:02.887Z"
   },
   {
    "duration": 6,
    "start_time": "2022-11-03T11:15:08.872Z"
   },
   {
    "duration": 4,
    "start_time": "2022-11-03T11:15:14.310Z"
   },
   {
    "duration": 8,
    "start_time": "2022-11-03T11:15:21.625Z"
   },
   {
    "duration": 3,
    "start_time": "2022-11-03T11:15:25.215Z"
   },
   {
    "duration": 5,
    "start_time": "2022-11-03T11:15:27.038Z"
   },
   {
    "duration": 5,
    "start_time": "2022-11-03T11:15:30.355Z"
   },
   {
    "duration": 8,
    "start_time": "2022-11-03T11:16:34.607Z"
   },
   {
    "duration": 4,
    "start_time": "2022-11-03T11:16:35.941Z"
   },
   {
    "duration": 3,
    "start_time": "2022-11-03T11:16:58.689Z"
   },
   {
    "duration": 9,
    "start_time": "2022-11-03T11:17:00.636Z"
   },
   {
    "duration": 3,
    "start_time": "2022-11-03T11:17:16.339Z"
   },
   {
    "duration": 8,
    "start_time": "2022-11-03T11:17:25.550Z"
   },
   {
    "duration": 9,
    "start_time": "2022-11-03T11:17:33.134Z"
   },
   {
    "duration": 4,
    "start_time": "2022-11-03T11:17:35.750Z"
   },
   {
    "duration": 2,
    "start_time": "2022-11-03T11:18:15.196Z"
   },
   {
    "duration": 3,
    "start_time": "2022-11-03T11:18:19.585Z"
   },
   {
    "duration": 8,
    "start_time": "2022-11-03T11:18:19.928Z"
   },
   {
    "duration": 4,
    "start_time": "2022-11-03T11:18:38.621Z"
   },
   {
    "duration": 5,
    "start_time": "2022-11-03T11:18:45.923Z"
   },
   {
    "duration": 4,
    "start_time": "2022-11-03T11:18:53.047Z"
   },
   {
    "duration": 9,
    "start_time": "2022-11-03T11:18:57.993Z"
   },
   {
    "duration": 4,
    "start_time": "2022-11-03T11:19:13.825Z"
   },
   {
    "duration": 5,
    "start_time": "2022-11-03T11:20:27.011Z"
   },
   {
    "duration": 4,
    "start_time": "2022-11-03T11:20:27.878Z"
   },
   {
    "duration": 6,
    "start_time": "2022-11-03T11:20:34.666Z"
   },
   {
    "duration": 9,
    "start_time": "2022-11-03T11:20:45.395Z"
   },
   {
    "duration": 4,
    "start_time": "2022-11-03T11:20:52.307Z"
   },
   {
    "duration": 4,
    "start_time": "2022-11-03T11:20:53.021Z"
   },
   {
    "duration": 4,
    "start_time": "2022-11-03T11:20:55.374Z"
   },
   {
    "duration": 12,
    "start_time": "2022-11-03T11:20:55.871Z"
   },
   {
    "duration": 4,
    "start_time": "2022-11-03T11:21:05.264Z"
   },
   {
    "duration": 4,
    "start_time": "2022-11-03T11:21:05.599Z"
   },
   {
    "duration": 12,
    "start_time": "2022-11-03T11:21:06.233Z"
   },
   {
    "duration": 4,
    "start_time": "2022-11-03T11:21:18.543Z"
   },
   {
    "duration": 3,
    "start_time": "2022-11-03T11:21:20.032Z"
   },
   {
    "duration": 3,
    "start_time": "2022-11-03T11:21:20.204Z"
   },
   {
    "duration": 8,
    "start_time": "2022-11-03T11:21:20.692Z"
   },
   {
    "duration": 60,
    "start_time": "2022-11-03T11:21:34.757Z"
   },
   {
    "duration": 3,
    "start_time": "2022-11-03T11:23:19.687Z"
   },
   {
    "duration": 5,
    "start_time": "2022-11-03T11:23:23.606Z"
   },
   {
    "duration": 63,
    "start_time": "2022-11-03T11:23:31.410Z"
   },
   {
    "duration": 3,
    "start_time": "2022-11-03T11:23:38.722Z"
   },
   {
    "duration": 4,
    "start_time": "2022-11-03T11:23:44.227Z"
   },
   {
    "duration": 4,
    "start_time": "2022-11-03T11:23:56.813Z"
   },
   {
    "duration": 4,
    "start_time": "2022-11-03T11:23:59.048Z"
   },
   {
    "duration": 5,
    "start_time": "2022-11-03T11:24:00.927Z"
   },
   {
    "duration": 6,
    "start_time": "2022-11-03T11:24:02.819Z"
   },
   {
    "duration": 61,
    "start_time": "2022-11-03T11:24:06.147Z"
   },
   {
    "duration": 11,
    "start_time": "2022-11-03T11:25:08.005Z"
   },
   {
    "duration": 11,
    "start_time": "2022-11-03T11:26:32.536Z"
   },
   {
    "duration": 4,
    "start_time": "2022-11-03T11:26:35.561Z"
   },
   {
    "duration": 4,
    "start_time": "2022-11-03T11:26:42.943Z"
   },
   {
    "duration": 11,
    "start_time": "2022-11-03T11:26:58.709Z"
   },
   {
    "duration": 5,
    "start_time": "2022-11-03T11:27:06.384Z"
   },
   {
    "duration": 9,
    "start_time": "2022-11-03T11:27:18.143Z"
   },
   {
    "duration": 3,
    "start_time": "2022-11-03T11:32:22.726Z"
   },
   {
    "duration": 4,
    "start_time": "2022-11-03T11:32:23.530Z"
   },
   {
    "duration": 3,
    "start_time": "2022-11-03T11:32:31.464Z"
   },
   {
    "duration": 4,
    "start_time": "2022-11-03T11:32:32.776Z"
   },
   {
    "duration": 3,
    "start_time": "2022-11-03T11:32:46.605Z"
   },
   {
    "duration": 3,
    "start_time": "2022-11-03T11:32:46.875Z"
   },
   {
    "duration": 3,
    "start_time": "2022-11-03T11:32:47.417Z"
   },
   {
    "duration": 5,
    "start_time": "2022-11-03T11:32:48.816Z"
   },
   {
    "duration": 4,
    "start_time": "2022-11-03T11:32:58.074Z"
   },
   {
    "duration": 3,
    "start_time": "2022-11-03T11:32:58.448Z"
   },
   {
    "duration": 3,
    "start_time": "2022-11-03T11:32:59.010Z"
   },
   {
    "duration": 5,
    "start_time": "2022-11-03T11:32:59.428Z"
   },
   {
    "duration": 8,
    "start_time": "2022-11-03T11:33:08.422Z"
   },
   {
    "duration": 10,
    "start_time": "2022-11-03T11:33:21.446Z"
   },
   {
    "duration": 3,
    "start_time": "2022-11-03T11:34:38.433Z"
   },
   {
    "duration": 22,
    "start_time": "2022-11-03T11:34:40.294Z"
   },
   {
    "duration": 4,
    "start_time": "2022-11-03T11:34:52.848Z"
   },
   {
    "duration": 6,
    "start_time": "2022-11-03T11:35:09.297Z"
   },
   {
    "duration": 5,
    "start_time": "2022-11-03T11:35:11.683Z"
   },
   {
    "duration": 3,
    "start_time": "2022-11-03T11:35:18.178Z"
   },
   {
    "duration": 4,
    "start_time": "2022-11-03T11:41:49.833Z"
   },
   {
    "duration": 5,
    "start_time": "2022-11-03T11:41:50.178Z"
   },
   {
    "duration": 3,
    "start_time": "2022-11-03T11:41:55.454Z"
   },
   {
    "duration": 5,
    "start_time": "2022-11-03T11:41:55.668Z"
   },
   {
    "duration": 4,
    "start_time": "2022-11-03T11:42:01.394Z"
   },
   {
    "duration": 4,
    "start_time": "2022-11-03T11:42:01.740Z"
   },
   {
    "duration": 3,
    "start_time": "2022-11-03T11:42:03.066Z"
   },
   {
    "duration": 4,
    "start_time": "2022-11-03T11:42:09.802Z"
   },
   {
    "duration": 4,
    "start_time": "2022-11-03T11:42:09.988Z"
   },
   {
    "duration": 4,
    "start_time": "2022-11-03T11:42:11.755Z"
   },
   {
    "duration": 303,
    "start_time": "2022-11-03T11:42:15.031Z"
   },
   {
    "duration": 4,
    "start_time": "2022-11-03T11:42:18.633Z"
   },
   {
    "duration": 4,
    "start_time": "2022-11-03T11:42:59.272Z"
   },
   {
    "duration": 5,
    "start_time": "2022-11-03T11:42:59.780Z"
   },
   {
    "duration": 3,
    "start_time": "2022-11-03T11:43:08.096Z"
   },
   {
    "duration": 3,
    "start_time": "2022-11-03T11:43:08.461Z"
   },
   {
    "duration": 4,
    "start_time": "2022-11-03T11:43:15.749Z"
   },
   {
    "duration": 3,
    "start_time": "2022-11-03T11:43:16.346Z"
   },
   {
    "duration": 5,
    "start_time": "2022-11-03T11:43:17.570Z"
   },
   {
    "duration": 4,
    "start_time": "2022-11-03T11:43:23.020Z"
   },
   {
    "duration": 4,
    "start_time": "2022-11-03T11:43:26.142Z"
   },
   {
    "duration": 9,
    "start_time": "2022-11-03T11:44:45.923Z"
   },
   {
    "duration": 256,
    "start_time": "2022-11-03T11:44:51.776Z"
   },
   {
    "duration": 4,
    "start_time": "2022-11-03T11:44:54.082Z"
   },
   {
    "duration": 4,
    "start_time": "2022-11-03T11:45:04.084Z"
   },
   {
    "duration": 4,
    "start_time": "2022-11-03T11:45:04.278Z"
   },
   {
    "duration": 11,
    "start_time": "2022-11-03T11:46:21.230Z"
   },
   {
    "duration": 3,
    "start_time": "2022-11-03T11:46:26.519Z"
   },
   {
    "duration": 3,
    "start_time": "2022-11-03T11:46:34.409Z"
   },
   {
    "duration": 5,
    "start_time": "2022-11-03T11:46:34.630Z"
   },
   {
    "duration": 5,
    "start_time": "2022-11-03T11:46:36.232Z"
   },
   {
    "duration": 11,
    "start_time": "2022-11-03T11:46:39.629Z"
   },
   {
    "duration": 5,
    "start_time": "2022-11-03T11:46:50.099Z"
   },
   {
    "duration": 4,
    "start_time": "2022-11-03T11:46:58.768Z"
   },
   {
    "duration": 3,
    "start_time": "2022-11-03T11:47:02.535Z"
   },
   {
    "duration": 3,
    "start_time": "2022-11-03T11:49:08.323Z"
   },
   {
    "duration": 4,
    "start_time": "2022-11-03T11:49:08.610Z"
   },
   {
    "duration": 4,
    "start_time": "2022-11-03T11:49:21.111Z"
   },
   {
    "duration": 4,
    "start_time": "2022-11-03T11:49:21.707Z"
   },
   {
    "duration": 9,
    "start_time": "2022-11-03T11:49:23.159Z"
   },
   {
    "duration": 4,
    "start_time": "2022-11-03T11:49:29.241Z"
   },
   {
    "duration": 5,
    "start_time": "2022-11-03T11:49:29.472Z"
   },
   {
    "duration": 4,
    "start_time": "2022-11-03T11:49:31.046Z"
   },
   {
    "duration": 4,
    "start_time": "2022-11-03T11:49:31.322Z"
   },
   {
    "duration": 9,
    "start_time": "2022-11-03T11:49:31.834Z"
   },
   {
    "duration": 4,
    "start_time": "2022-11-03T11:49:40.492Z"
   },
   {
    "duration": 658,
    "start_time": "2022-11-03T11:50:54.828Z"
   },
   {
    "duration": 4,
    "start_time": "2022-11-03T11:50:55.488Z"
   },
   {
    "duration": 4,
    "start_time": "2022-11-03T11:50:55.640Z"
   },
   {
    "duration": 3,
    "start_time": "2022-11-03T11:50:57.754Z"
   },
   {
    "duration": 8,
    "start_time": "2022-11-03T11:50:58.552Z"
   },
   {
    "duration": 650,
    "start_time": "2022-11-03T11:51:10.629Z"
   },
   {
    "duration": 5,
    "start_time": "2022-11-03T11:51:11.281Z"
   },
   {
    "duration": 4,
    "start_time": "2022-11-03T11:51:12.045Z"
   },
   {
    "duration": 4,
    "start_time": "2022-11-03T11:51:12.347Z"
   },
   {
    "duration": 8,
    "start_time": "2022-11-03T11:51:12.954Z"
   },
   {
    "duration": 3,
    "start_time": "2022-11-03T11:51:25.926Z"
   },
   {
    "duration": 5,
    "start_time": "2022-11-03T11:51:26.122Z"
   },
   {
    "duration": 4,
    "start_time": "2022-11-03T11:51:26.439Z"
   },
   {
    "duration": 4,
    "start_time": "2022-11-03T11:51:27.241Z"
   },
   {
    "duration": 5,
    "start_time": "2022-11-03T11:51:29.106Z"
   },
   {
    "duration": 4,
    "start_time": "2022-11-03T11:51:32.194Z"
   },
   {
    "duration": 15,
    "start_time": "2022-11-03T11:53:23.022Z"
   },
   {
    "duration": 78,
    "start_time": "2022-11-03T11:53:35.655Z"
   },
   {
    "duration": 10,
    "start_time": "2022-11-03T11:54:00.074Z"
   },
   {
    "duration": 10,
    "start_time": "2022-11-03T11:59:13.746Z"
   },
   {
    "duration": 10,
    "start_time": "2022-11-03T11:59:14.572Z"
   },
   {
    "duration": 3,
    "start_time": "2022-11-03T11:59:16.814Z"
   },
   {
    "duration": 3,
    "start_time": "2022-11-03T12:01:09.090Z"
   },
   {
    "duration": 11,
    "start_time": "2022-11-03T12:01:29.769Z"
   },
   {
    "duration": 10,
    "start_time": "2022-11-03T12:06:27.627Z"
   },
   {
    "duration": 13,
    "start_time": "2022-11-03T12:06:33.249Z"
   },
   {
    "duration": 11,
    "start_time": "2022-11-03T12:07:44.040Z"
   },
   {
    "duration": 11,
    "start_time": "2022-11-03T12:08:26.416Z"
   },
   {
    "duration": 2,
    "start_time": "2022-11-03T12:08:54.907Z"
   },
   {
    "duration": 16,
    "start_time": "2022-11-03T12:09:04.159Z"
   },
   {
    "duration": 16,
    "start_time": "2022-11-03T12:11:23.495Z"
   },
   {
    "duration": 3,
    "start_time": "2022-11-03T12:11:42.779Z"
   },
   {
    "duration": 113,
    "start_time": "2022-11-03T12:11:49.329Z"
   },
   {
    "duration": 109,
    "start_time": "2022-11-03T12:12:32.785Z"
   },
   {
    "duration": 229,
    "start_time": "2022-11-03T12:12:59.148Z"
   },
   {
    "duration": 16,
    "start_time": "2022-11-03T12:14:09.691Z"
   },
   {
    "duration": 11,
    "start_time": "2022-11-03T12:14:11.652Z"
   },
   {
    "duration": 11,
    "start_time": "2022-11-03T12:14:24.430Z"
   },
   {
    "duration": 9,
    "start_time": "2022-11-03T12:14:40.928Z"
   },
   {
    "duration": 65,
    "start_time": "2022-11-03T12:15:13.894Z"
   },
   {
    "duration": 47,
    "start_time": "2022-11-03T12:15:26.339Z"
   },
   {
    "duration": 115,
    "start_time": "2022-11-03T12:17:23.334Z"
   },
   {
    "duration": 111,
    "start_time": "2022-11-03T12:17:31.348Z"
   },
   {
    "duration": 9,
    "start_time": "2022-11-03T12:18:04.594Z"
   },
   {
    "duration": 34,
    "start_time": "2022-11-03T12:18:53.362Z"
   },
   {
    "duration": 125,
    "start_time": "2022-11-03T12:19:13.176Z"
   },
   {
    "duration": 118,
    "start_time": "2022-11-03T12:20:36.730Z"
   },
   {
    "duration": 160,
    "start_time": "2022-11-03T12:20:41.602Z"
   },
   {
    "duration": 116,
    "start_time": "2022-11-03T12:20:47.882Z"
   },
   {
    "duration": 122,
    "start_time": "2022-11-03T12:21:30.839Z"
   },
   {
    "duration": 108,
    "start_time": "2022-11-03T12:21:40.880Z"
   },
   {
    "duration": 135,
    "start_time": "2022-11-03T12:21:49.903Z"
   },
   {
    "duration": 54,
    "start_time": "2022-11-03T12:21:57.802Z"
   },
   {
    "duration": 13,
    "start_time": "2022-11-03T12:22:02.655Z"
   },
   {
    "duration": 14,
    "start_time": "2022-11-03T12:22:14.283Z"
   },
   {
    "duration": 134,
    "start_time": "2022-11-03T12:22:39.206Z"
   },
   {
    "duration": 3,
    "start_time": "2022-11-03T12:23:50.012Z"
   },
   {
    "duration": 160,
    "start_time": "2022-11-03T12:27:00.822Z"
   },
   {
    "duration": 1285,
    "start_time": "2022-11-03T12:37:10.614Z"
   },
   {
    "duration": 36,
    "start_time": "2022-11-03T12:37:11.901Z"
   },
   {
    "duration": 12,
    "start_time": "2022-11-03T12:37:11.938Z"
   },
   {
    "duration": 20,
    "start_time": "2022-11-03T12:37:11.951Z"
   },
   {
    "duration": 6,
    "start_time": "2022-11-03T12:37:11.973Z"
   },
   {
    "duration": 711,
    "start_time": "2022-11-03T12:37:11.981Z"
   },
   {
    "duration": 5,
    "start_time": "2022-11-03T12:37:12.694Z"
   },
   {
    "duration": 9,
    "start_time": "2022-11-03T12:37:12.701Z"
   },
   {
    "duration": 7,
    "start_time": "2022-11-03T12:37:12.712Z"
   },
   {
    "duration": 12,
    "start_time": "2022-11-03T12:37:12.733Z"
   },
   {
    "duration": 11,
    "start_time": "2022-11-03T12:37:12.747Z"
   },
   {
    "duration": 9,
    "start_time": "2022-11-03T12:37:12.760Z"
   },
   {
    "duration": 10,
    "start_time": "2022-11-03T12:37:12.771Z"
   },
   {
    "duration": 10,
    "start_time": "2022-11-03T12:37:12.782Z"
   },
   {
    "duration": 9,
    "start_time": "2022-11-03T12:37:12.793Z"
   },
   {
    "duration": 7,
    "start_time": "2022-11-03T12:37:12.803Z"
   },
   {
    "duration": 104,
    "start_time": "2022-11-03T12:37:12.823Z"
   },
   {
    "duration": 119,
    "start_time": "2022-11-03T12:37:12.930Z"
   },
   {
    "duration": 484,
    "start_time": "2022-11-03T12:37:13.051Z"
   },
   {
    "duration": 4,
    "start_time": "2022-11-03T12:37:13.537Z"
   },
   {
    "duration": 110,
    "start_time": "2022-11-03T12:37:13.542Z"
   },
   {
    "duration": 2,
    "start_time": "2022-11-03T12:41:33.465Z"
   },
   {
    "duration": 17,
    "start_time": "2022-11-03T13:11:28.720Z"
   },
   {
    "duration": 12,
    "start_time": "2022-11-03T13:11:39.854Z"
   },
   {
    "duration": 3,
    "start_time": "2022-11-03T13:13:26.082Z"
   },
   {
    "duration": 4,
    "start_time": "2022-11-03T13:13:36.223Z"
   },
   {
    "duration": 5,
    "start_time": "2022-11-03T13:22:29.192Z"
   },
   {
    "duration": 3,
    "start_time": "2022-11-03T13:26:16.279Z"
   },
   {
    "duration": 5,
    "start_time": "2022-11-03T13:48:01.740Z"
   },
   {
    "duration": 1272,
    "start_time": "2022-11-03T13:54:23.200Z"
   },
   {
    "duration": 33,
    "start_time": "2022-11-03T13:54:24.474Z"
   },
   {
    "duration": 11,
    "start_time": "2022-11-03T13:54:24.509Z"
   },
   {
    "duration": 12,
    "start_time": "2022-11-03T13:54:24.522Z"
   },
   {
    "duration": 8,
    "start_time": "2022-11-03T13:54:24.535Z"
   },
   {
    "duration": 654,
    "start_time": "2022-11-03T13:54:24.545Z"
   },
   {
    "duration": 4,
    "start_time": "2022-11-03T13:54:25.200Z"
   },
   {
    "duration": 18,
    "start_time": "2022-11-03T13:54:25.206Z"
   },
   {
    "duration": 9,
    "start_time": "2022-11-03T13:54:25.225Z"
   },
   {
    "duration": 18,
    "start_time": "2022-11-03T13:54:25.236Z"
   },
   {
    "duration": 19,
    "start_time": "2022-11-03T13:54:25.256Z"
   },
   {
    "duration": 14,
    "start_time": "2022-11-03T13:54:25.277Z"
   },
   {
    "duration": 7,
    "start_time": "2022-11-03T13:54:25.292Z"
   },
   {
    "duration": 8,
    "start_time": "2022-11-03T13:54:25.301Z"
   },
   {
    "duration": 8,
    "start_time": "2022-11-03T13:54:25.310Z"
   },
   {
    "duration": 21,
    "start_time": "2022-11-03T13:54:25.319Z"
   },
   {
    "duration": 92,
    "start_time": "2022-11-03T13:54:25.341Z"
   },
   {
    "duration": 104,
    "start_time": "2022-11-03T13:54:25.523Z"
   },
   {
    "duration": 1760,
    "start_time": "2022-11-03T14:15:57.601Z"
   },
   {
    "duration": 33,
    "start_time": "2022-11-03T14:15:59.363Z"
   },
   {
    "duration": 12,
    "start_time": "2022-11-03T14:15:59.397Z"
   },
   {
    "duration": 17,
    "start_time": "2022-11-03T14:15:59.410Z"
   },
   {
    "duration": 6,
    "start_time": "2022-11-03T14:15:59.429Z"
   },
   {
    "duration": 650,
    "start_time": "2022-11-03T14:15:59.436Z"
   },
   {
    "duration": 715,
    "start_time": "2022-11-03T14:16:00.088Z"
   },
   {
    "duration": 4,
    "start_time": "2022-11-03T14:16:00.805Z"
   },
   {
    "duration": 38,
    "start_time": "2022-11-03T14:16:00.810Z"
   },
   {
    "duration": 28,
    "start_time": "2022-11-03T14:16:00.850Z"
   },
   {
    "duration": 15,
    "start_time": "2022-11-03T14:16:00.880Z"
   },
   {
    "duration": 23,
    "start_time": "2022-11-03T14:16:00.896Z"
   },
   {
    "duration": 49,
    "start_time": "2022-11-03T14:16:00.921Z"
   },
   {
    "duration": 59,
    "start_time": "2022-11-03T14:16:00.973Z"
   },
   {
    "duration": 22,
    "start_time": "2022-11-03T14:16:01.034Z"
   },
   {
    "duration": 33,
    "start_time": "2022-11-03T14:16:01.057Z"
   },
   {
    "duration": 51,
    "start_time": "2022-11-03T14:16:01.092Z"
   },
   {
    "duration": 201,
    "start_time": "2022-11-03T14:16:01.145Z"
   },
   {
    "duration": 147,
    "start_time": "2022-11-03T14:16:01.423Z"
   },
   {
    "duration": 6,
    "start_time": "2022-11-03T14:34:09.054Z"
   },
   {
    "duration": 42,
    "start_time": "2022-11-03T14:34:09.952Z"
   },
   {
    "duration": 9,
    "start_time": "2022-11-03T14:34:10.751Z"
   },
   {
    "duration": 9,
    "start_time": "2022-11-03T14:34:11.398Z"
   },
   {
    "duration": 7,
    "start_time": "2022-11-03T14:34:13.101Z"
   },
   {
    "duration": 665,
    "start_time": "2022-11-03T14:34:13.813Z"
   },
   {
    "duration": 3,
    "start_time": "2022-11-03T14:49:23.713Z"
   },
   {
    "duration": 6,
    "start_time": "2022-11-03T14:49:27.009Z"
   },
   {
    "duration": 5,
    "start_time": "2022-11-03T14:49:38.884Z"
   },
   {
    "duration": 5,
    "start_time": "2022-11-03T14:49:40.454Z"
   },
   {
    "duration": 3,
    "start_time": "2022-11-03T14:49:53.134Z"
   },
   {
    "duration": 5,
    "start_time": "2022-11-03T14:49:53.282Z"
   },
   {
    "duration": 4,
    "start_time": "2022-11-03T14:50:02.387Z"
   },
   {
    "duration": 4,
    "start_time": "2022-11-03T14:50:02.928Z"
   },
   {
    "duration": 2,
    "start_time": "2022-11-03T14:50:04.606Z"
   },
   {
    "duration": 98,
    "start_time": "2022-11-03T14:50:21.866Z"
   },
   {
    "duration": 56,
    "start_time": "2022-11-03T14:55:52.721Z"
   },
   {
    "duration": 661,
    "start_time": "2022-11-03T15:13:17.028Z"
   },
   {
    "duration": 5,
    "start_time": "2022-11-03T15:13:17.691Z"
   },
   {
    "duration": 10,
    "start_time": "2022-11-03T15:13:18.840Z"
   },
   {
    "duration": 3,
    "start_time": "2022-11-03T15:25:54.957Z"
   },
   {
    "duration": 4,
    "start_time": "2022-11-03T15:25:55.270Z"
   },
   {
    "duration": 3,
    "start_time": "2022-11-03T15:25:59.781Z"
   },
   {
    "duration": 6,
    "start_time": "2022-11-03T15:26:01.297Z"
   },
   {
    "duration": 3,
    "start_time": "2022-11-03T15:26:10.245Z"
   },
   {
    "duration": 4,
    "start_time": "2022-11-03T15:26:11.351Z"
   },
   {
    "duration": 292,
    "start_time": "2022-11-03T15:26:14.040Z"
   },
   {
    "duration": 4,
    "start_time": "2022-11-03T15:26:20.880Z"
   },
   {
    "duration": 9,
    "start_time": "2022-11-03T15:26:33.368Z"
   },
   {
    "duration": 9,
    "start_time": "2022-11-03T15:26:40.352Z"
   },
   {
    "duration": 5,
    "start_time": "2022-11-03T15:26:40.832Z"
   },
   {
    "duration": 6,
    "start_time": "2022-11-03T15:32:49.012Z"
   },
   {
    "duration": 7,
    "start_time": "2022-11-03T15:32:51.185Z"
   },
   {
    "duration": 721,
    "start_time": "2022-11-03T15:36:25.559Z"
   },
   {
    "duration": 23628,
    "start_time": "2022-11-03T15:36:37.438Z"
   },
   {
    "duration": 5,
    "start_time": "2022-11-03T15:37:14.738Z"
   },
   {
    "duration": 68,
    "start_time": "2022-11-03T15:37:15.196Z"
   },
   {
    "duration": 6,
    "start_time": "2022-11-03T17:06:29.019Z"
   },
   {
    "duration": 5,
    "start_time": "2022-11-03T17:06:57.620Z"
   },
   {
    "duration": 5,
    "start_time": "2022-11-03T17:07:06.226Z"
   },
   {
    "duration": 4,
    "start_time": "2022-11-03T17:07:53.486Z"
   },
   {
    "duration": 5,
    "start_time": "2022-11-03T17:07:59.808Z"
   },
   {
    "duration": 8,
    "start_time": "2022-11-03T17:08:02.294Z"
   },
   {
    "duration": 5,
    "start_time": "2022-11-03T17:08:02.786Z"
   },
   {
    "duration": 5,
    "start_time": "2022-11-03T17:08:06.137Z"
   },
   {
    "duration": 8,
    "start_time": "2022-11-03T17:08:09.173Z"
   },
   {
    "duration": 6,
    "start_time": "2022-11-03T17:08:32.731Z"
   },
   {
    "duration": 15,
    "start_time": "2022-11-03T19:58:15.168Z"
   },
   {
    "duration": 12,
    "start_time": "2022-11-03T19:58:18.518Z"
   },
   {
    "duration": 1338,
    "start_time": "2022-11-03T19:58:23.526Z"
   },
   {
    "duration": 27,
    "start_time": "2022-11-03T19:58:24.866Z"
   },
   {
    "duration": 11,
    "start_time": "2022-11-03T19:58:24.895Z"
   },
   {
    "duration": 13,
    "start_time": "2022-11-03T19:58:24.908Z"
   },
   {
    "duration": 5,
    "start_time": "2022-11-03T19:58:24.923Z"
   },
   {
    "duration": 613,
    "start_time": "2022-11-03T19:58:24.929Z"
   },
   {
    "duration": 702,
    "start_time": "2022-11-03T19:58:25.544Z"
   },
   {
    "duration": 103,
    "start_time": "2022-11-03T19:58:26.248Z"
   },
   {
    "duration": 0,
    "start_time": "2022-11-03T19:58:26.354Z"
   },
   {
    "duration": 0,
    "start_time": "2022-11-03T19:58:26.355Z"
   },
   {
    "duration": 0,
    "start_time": "2022-11-03T19:58:26.356Z"
   },
   {
    "duration": 0,
    "start_time": "2022-11-03T19:58:26.357Z"
   },
   {
    "duration": 0,
    "start_time": "2022-11-03T19:58:26.358Z"
   },
   {
    "duration": 0,
    "start_time": "2022-11-03T19:58:26.359Z"
   },
   {
    "duration": 0,
    "start_time": "2022-11-03T19:58:26.361Z"
   },
   {
    "duration": 0,
    "start_time": "2022-11-03T19:58:26.363Z"
   },
   {
    "duration": 0,
    "start_time": "2022-11-03T19:58:26.364Z"
   },
   {
    "duration": 0,
    "start_time": "2022-11-03T19:58:26.365Z"
   },
   {
    "duration": 0,
    "start_time": "2022-11-03T19:58:26.367Z"
   },
   {
    "duration": 0,
    "start_time": "2022-11-03T19:58:26.368Z"
   },
   {
    "duration": 0,
    "start_time": "2022-11-03T19:58:26.370Z"
   },
   {
    "duration": 0,
    "start_time": "2022-11-03T19:58:26.371Z"
   },
   {
    "duration": 3,
    "start_time": "2022-11-03T19:58:51.281Z"
   },
   {
    "duration": 8,
    "start_time": "2022-11-03T19:58:51.438Z"
   },
   {
    "duration": 4,
    "start_time": "2022-11-03T19:58:52.902Z"
   },
   {
    "duration": 4,
    "start_time": "2022-11-03T19:58:53.216Z"
   },
   {
    "duration": 2,
    "start_time": "2022-11-03T19:58:53.527Z"
   },
   {
    "duration": 5,
    "start_time": "2022-11-03T19:58:53.836Z"
   },
   {
    "duration": 6,
    "start_time": "2022-11-03T19:58:53.973Z"
   },
   {
    "duration": 4,
    "start_time": "2022-11-03T19:58:54.432Z"
   },
   {
    "duration": 4,
    "start_time": "2022-11-03T19:58:54.592Z"
   },
   {
    "duration": 6,
    "start_time": "2022-11-03T19:58:54.916Z"
   },
   {
    "duration": 4,
    "start_time": "2022-11-03T19:58:55.281Z"
   },
   {
    "duration": 3,
    "start_time": "2022-11-03T19:58:56.012Z"
   },
   {
    "duration": 17,
    "start_time": "2022-11-03T19:58:57.391Z"
   },
   {
    "duration": 12,
    "start_time": "2022-11-03T19:58:59.176Z"
   },
   {
    "duration": 3,
    "start_time": "2022-11-03T19:59:05.771Z"
   },
   {
    "duration": 1474,
    "start_time": "2022-11-08T08:39:52.853Z"
   },
   {
    "duration": 86,
    "start_time": "2022-11-08T08:39:54.842Z"
   },
   {
    "duration": 11,
    "start_time": "2022-11-08T08:39:55.587Z"
   },
   {
    "duration": 4,
    "start_time": "2022-11-08T08:39:55.807Z"
   },
   {
    "duration": 12,
    "start_time": "2022-11-08T08:39:56.114Z"
   },
   {
    "duration": 6,
    "start_time": "2022-11-08T08:39:56.535Z"
   },
   {
    "duration": 613,
    "start_time": "2022-11-08T08:39:57.214Z"
   },
   {
    "duration": 685,
    "start_time": "2022-11-08T08:40:06.044Z"
   },
   {
    "duration": 103,
    "start_time": "2022-11-08T08:40:11.101Z"
   },
   {
    "duration": 52,
    "start_time": "2022-11-08T08:40:28.258Z"
   },
   {
    "duration": 919,
    "start_time": "2022-11-08T08:40:33.102Z"
   },
   {
    "duration": 1046,
    "start_time": "2022-11-08T08:40:51.251Z"
   },
   {
    "duration": 910,
    "start_time": "2022-11-08T08:40:55.813Z"
   },
   {
    "duration": 5,
    "start_time": "2022-11-08T08:41:45.691Z"
   },
   {
    "duration": 984,
    "start_time": "2022-11-08T08:41:50.842Z"
   },
   {
    "duration": 6,
    "start_time": "2022-11-08T08:53:01.795Z"
   },
   {
    "duration": 15,
    "start_time": "2022-11-08T08:54:49.217Z"
   },
   {
    "duration": 301,
    "start_time": "2022-11-08T08:55:01.257Z"
   },
   {
    "duration": 9,
    "start_time": "2022-11-08T08:59:58.539Z"
   },
   {
    "duration": 983,
    "start_time": "2022-11-08T09:15:48.919Z"
   },
   {
    "duration": 913,
    "start_time": "2022-11-08T09:15:55.535Z"
   },
   {
    "duration": 58,
    "start_time": "2022-11-08T10:14:03.677Z"
   },
   {
    "duration": 958,
    "start_time": "2022-11-08T10:27:13.150Z"
   },
   {
    "duration": 760,
    "start_time": "2022-11-08T10:27:17.483Z"
   },
   {
    "duration": 4,
    "start_time": "2022-11-08T10:34:29.545Z"
   },
   {
    "duration": 10,
    "start_time": "2022-11-08T10:34:37.579Z"
   },
   {
    "duration": 4,
    "start_time": "2022-11-08T10:35:05.049Z"
   },
   {
    "duration": 42,
    "start_time": "2022-11-08T10:35:08.297Z"
   },
   {
    "duration": 11,
    "start_time": "2022-11-08T10:35:50.375Z"
   },
   {
    "duration": 6,
    "start_time": "2022-11-08T10:40:42.366Z"
   },
   {
    "duration": 5,
    "start_time": "2022-11-08T10:40:44.612Z"
   },
   {
    "duration": 4,
    "start_time": "2022-11-08T10:40:47.167Z"
   },
   {
    "duration": 4,
    "start_time": "2022-11-08T10:40:47.380Z"
   },
   {
    "duration": 4,
    "start_time": "2022-11-08T10:41:08.524Z"
   },
   {
    "duration": 12,
    "start_time": "2022-11-08T10:41:31.102Z"
   },
   {
    "duration": 4,
    "start_time": "2022-11-08T10:41:42.673Z"
   },
   {
    "duration": 4,
    "start_time": "2022-11-08T10:42:10.110Z"
   },
   {
    "duration": 4,
    "start_time": "2022-11-08T10:42:10.329Z"
   },
   {
    "duration": 3,
    "start_time": "2022-11-08T10:42:10.818Z"
   },
   {
    "duration": 4,
    "start_time": "2022-11-08T10:42:11.155Z"
   },
   {
    "duration": 5,
    "start_time": "2022-11-08T10:42:12.812Z"
   },
   {
    "duration": 4,
    "start_time": "2022-11-08T10:42:14.779Z"
   },
   {
    "duration": 135,
    "start_time": "2022-11-08T10:53:28.702Z"
   },
   {
    "duration": 185,
    "start_time": "2022-11-08T10:53:41.649Z"
   },
   {
    "duration": 1409,
    "start_time": "2022-11-08T10:53:57.633Z"
   },
   {
    "duration": 26,
    "start_time": "2022-11-08T10:53:59.044Z"
   },
   {
    "duration": 13,
    "start_time": "2022-11-08T10:53:59.072Z"
   },
   {
    "duration": 7,
    "start_time": "2022-11-08T10:53:59.087Z"
   },
   {
    "duration": 13,
    "start_time": "2022-11-08T10:53:59.097Z"
   },
   {
    "duration": 5,
    "start_time": "2022-11-08T10:53:59.112Z"
   },
   {
    "duration": 766,
    "start_time": "2022-11-08T10:53:59.118Z"
   },
   {
    "duration": 859,
    "start_time": "2022-11-08T10:53:59.886Z"
   },
   {
    "duration": 13,
    "start_time": "2022-11-08T10:54:00.746Z"
   },
   {
    "duration": 1005,
    "start_time": "2022-11-08T10:54:00.761Z"
   },
   {
    "duration": 9,
    "start_time": "2022-11-08T10:54:01.767Z"
   },
   {
    "duration": 8,
    "start_time": "2022-11-08T10:54:01.778Z"
   },
   {
    "duration": 46,
    "start_time": "2022-11-08T10:54:01.788Z"
   },
   {
    "duration": 5,
    "start_time": "2022-11-08T10:54:01.837Z"
   },
   {
    "duration": 96,
    "start_time": "2022-11-08T10:54:01.844Z"
   },
   {
    "duration": 8,
    "start_time": "2022-11-08T10:54:01.941Z"
   },
   {
    "duration": 9,
    "start_time": "2022-11-08T10:54:01.950Z"
   },
   {
    "duration": 6,
    "start_time": "2022-11-08T10:54:01.960Z"
   },
   {
    "duration": 6,
    "start_time": "2022-11-08T10:54:01.968Z"
   },
   {
    "duration": 7,
    "start_time": "2022-11-08T10:54:01.975Z"
   },
   {
    "duration": 289,
    "start_time": "2022-11-08T10:54:01.984Z"
   },
   {
    "duration": 122,
    "start_time": "2022-11-08T10:56:59.620Z"
   },
   {
    "duration": 4,
    "start_time": "2022-11-08T11:00:39.253Z"
   },
   {
    "duration": 48,
    "start_time": "2022-11-08T11:00:40.790Z"
   },
   {
    "duration": 47,
    "start_time": "2022-11-08T11:38:33.062Z"
   },
   {
    "duration": 5,
    "start_time": "2022-11-08T11:43:32.124Z"
   },
   {
    "duration": 1349,
    "start_time": "2022-11-08T11:43:45.137Z"
   },
   {
    "duration": 29,
    "start_time": "2022-11-08T11:43:46.488Z"
   },
   {
    "duration": 14,
    "start_time": "2022-11-08T11:43:46.519Z"
   },
   {
    "duration": 4,
    "start_time": "2022-11-08T11:43:46.535Z"
   },
   {
    "duration": 17,
    "start_time": "2022-11-08T11:43:46.540Z"
   },
   {
    "duration": 8,
    "start_time": "2022-11-08T11:43:46.559Z"
   },
   {
    "duration": 911,
    "start_time": "2022-11-08T11:43:46.569Z"
   },
   {
    "duration": 905,
    "start_time": "2022-11-08T11:43:47.482Z"
   },
   {
    "duration": 8,
    "start_time": "2022-11-08T11:43:48.389Z"
   },
   {
    "duration": 989,
    "start_time": "2022-11-08T11:43:48.400Z"
   },
   {
    "duration": 12,
    "start_time": "2022-11-08T11:43:49.391Z"
   },
   {
    "duration": 13,
    "start_time": "2022-11-08T11:43:49.405Z"
   },
   {
    "duration": 5,
    "start_time": "2022-11-08T11:43:49.434Z"
   },
   {
    "duration": 100,
    "start_time": "2022-11-08T11:43:49.441Z"
   },
   {
    "duration": 90,
    "start_time": "2022-11-08T11:43:49.544Z"
   },
   {
    "duration": 7,
    "start_time": "2022-11-08T11:43:49.636Z"
   },
   {
    "duration": 7,
    "start_time": "2022-11-08T11:43:49.645Z"
   },
   {
    "duration": 11,
    "start_time": "2022-11-08T11:43:49.654Z"
   },
   {
    "duration": 10,
    "start_time": "2022-11-08T11:43:49.667Z"
   },
   {
    "duration": 11,
    "start_time": "2022-11-08T11:43:49.678Z"
   },
   {
    "duration": 6,
    "start_time": "2022-11-08T11:43:49.691Z"
   },
   {
    "duration": 44,
    "start_time": "2022-11-08T11:43:49.699Z"
   },
   {
    "duration": 1888,
    "start_time": "2022-11-09T11:49:03.425Z"
   },
   {
    "duration": 83,
    "start_time": "2022-11-09T11:49:05.316Z"
   },
   {
    "duration": 18,
    "start_time": "2022-11-09T11:49:05.401Z"
   },
   {
    "duration": 3,
    "start_time": "2022-11-09T11:49:05.422Z"
   },
   {
    "duration": 15,
    "start_time": "2022-11-09T11:49:05.427Z"
   },
   {
    "duration": 6,
    "start_time": "2022-11-09T11:49:05.444Z"
   },
   {
    "duration": 701,
    "start_time": "2022-11-09T11:49:05.451Z"
   },
   {
    "duration": 764,
    "start_time": "2022-11-09T11:49:06.154Z"
   },
   {
    "duration": 7,
    "start_time": "2022-11-09T11:49:06.920Z"
   },
   {
    "duration": 885,
    "start_time": "2022-11-09T11:49:06.929Z"
   },
   {
    "duration": 10,
    "start_time": "2022-11-09T11:49:07.815Z"
   },
   {
    "duration": 21,
    "start_time": "2022-11-09T11:49:07.827Z"
   },
   {
    "duration": 12,
    "start_time": "2022-11-09T11:49:07.850Z"
   },
   {
    "duration": 196,
    "start_time": "2022-11-09T11:49:07.864Z"
   },
   {
    "duration": 10,
    "start_time": "2022-11-09T11:49:08.062Z"
   },
   {
    "duration": 32,
    "start_time": "2022-11-09T11:49:08.074Z"
   },
   {
    "duration": 11,
    "start_time": "2022-11-09T11:49:08.108Z"
   },
   {
    "duration": 10,
    "start_time": "2022-11-09T11:49:08.121Z"
   },
   {
    "duration": 12,
    "start_time": "2022-11-09T11:49:08.133Z"
   },
   {
    "duration": 7,
    "start_time": "2022-11-09T11:49:08.147Z"
   },
   {
    "duration": 18,
    "start_time": "2022-11-09T11:49:08.156Z"
   },
   {
    "duration": 185,
    "start_time": "2022-11-09T11:49:08.177Z"
   },
   {
    "duration": 198,
    "start_time": "2022-11-09T11:50:13.903Z"
   },
   {
    "duration": 60,
    "start_time": "2022-11-09T11:52:00.601Z"
   },
   {
    "duration": 254,
    "start_time": "2022-11-09T11:52:22.160Z"
   },
   {
    "duration": 190,
    "start_time": "2022-11-09T11:52:25.761Z"
   },
   {
    "duration": 45,
    "start_time": "2023-01-27T20:24:58.556Z"
   },
   {
    "duration": 1503,
    "start_time": "2023-01-27T20:25:02.862Z"
   },
   {
    "duration": 89,
    "start_time": "2023-01-27T20:25:04.367Z"
   },
   {
    "duration": 12,
    "start_time": "2023-01-27T20:25:04.458Z"
   },
   {
    "duration": 5,
    "start_time": "2023-01-27T20:25:04.585Z"
   },
   {
    "duration": 14,
    "start_time": "2023-01-27T20:25:05.190Z"
   },
   {
    "duration": 691,
    "start_time": "2023-01-27T20:25:08.162Z"
   },
   {
    "duration": 1539,
    "start_time": "2023-01-28T13:54:38.184Z"
   },
   {
    "duration": 88,
    "start_time": "2023-01-28T13:54:48.531Z"
   },
   {
    "duration": 14,
    "start_time": "2023-01-28T13:54:50.698Z"
   },
   {
    "duration": 5,
    "start_time": "2023-01-28T13:54:52.624Z"
   },
   {
    "duration": 14,
    "start_time": "2023-01-28T13:54:54.297Z"
   },
   {
    "duration": 803,
    "start_time": "2023-01-28T13:55:05.137Z"
   },
   {
    "duration": 9,
    "start_time": "2023-01-28T13:55:34.869Z"
   },
   {
    "duration": 1049,
    "start_time": "2023-01-28T13:55:37.245Z"
   },
   {
    "duration": 8,
    "start_time": "2023-01-28T13:55:43.385Z"
   },
   {
    "duration": 7,
    "start_time": "2023-01-28T13:56:08.382Z"
   },
   {
    "duration": 10,
    "start_time": "2023-01-28T13:56:10.893Z"
   },
   {
    "duration": 4,
    "start_time": "2023-01-28T13:56:14.356Z"
   },
   {
    "duration": 4,
    "start_time": "2023-01-28T13:56:14.919Z"
   },
   {
    "duration": 4,
    "start_time": "2023-01-28T13:56:15.141Z"
   },
   {
    "duration": 4,
    "start_time": "2023-01-28T13:56:15.597Z"
   },
   {
    "duration": 5,
    "start_time": "2023-01-28T13:56:17.097Z"
   },
   {
    "duration": 4,
    "start_time": "2023-01-28T13:56:18.575Z"
   },
   {
    "duration": 4,
    "start_time": "2023-01-28T13:56:24.109Z"
   },
   {
    "duration": 5,
    "start_time": "2023-01-28T13:56:24.663Z"
   },
   {
    "duration": 14,
    "start_time": "2023-01-28T13:56:27.267Z"
   }
  ],
  "kernelspec": {
   "display_name": "Python 3 (ipykernel)",
   "language": "python",
   "name": "python3"
  },
  "language_info": {
   "codemirror_mode": {
    "name": "ipython",
    "version": 3
   },
   "file_extension": ".py",
   "mimetype": "text/x-python",
   "name": "python",
   "nbconvert_exporter": "python",
   "pygments_lexer": "ipython3",
   "version": "3.9.15"
  },
  "toc": {
   "base_numbering": 1,
   "nav_menu": {},
   "number_sections": true,
   "sideBar": true,
   "skip_h1_title": true,
   "title_cell": "Содержание",
   "title_sidebar": "Contents",
   "toc_cell": true,
   "toc_position": {
    "height": "calc(100% - 180px)",
    "left": "10px",
    "top": "150px",
    "width": "165px"
   },
   "toc_section_display": true,
   "toc_window_display": true
  }
 },
 "nbformat": 4,
 "nbformat_minor": 2
}
